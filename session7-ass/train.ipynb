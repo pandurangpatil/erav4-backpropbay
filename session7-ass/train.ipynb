{
 "cells": [
  {
   "cell_type": "markdown",
   "metadata": {
    "id": "view-in-github",
    "colab_type": "text"
   },
   "source": [
    "<a href=\"https://colab.research.google.com/github/pandurangpatil/erav4-backpropbay/blob/main/session6-ass/train_model1.ipynb\" target=\"_parent\"><img src=\"https://colab.research.google.com/assets/colab-badge.svg\" alt=\"Open In Colab\"/></a>"
   ]
  },
  {
   "cell_type": "markdown",
   "metadata": {
    "id": "ujBzMxx8k-jD"
   },
   "source": "# Training CIFAR Model (Google Colab)\nThis notebook trains the model with batch_size=128 and epochs=20"
  },
  {
   "cell_type": "markdown",
   "metadata": {
    "id": "75H8vgErk-jG"
   },
   "source": [
    "## Clone Repository"
   ]
  },
  {
   "cell_type": "code",
   "execution_count": 1,
   "metadata": {
    "id": "clYN_9HQk-jH",
    "outputId": "9704d1b5-8c48-4bdd-fdd7-b4b0188d2d41",
    "colab": {
     "base_uri": "https://localhost:8080/"
    }
   },
   "outputs": [
    {
     "output_type": "stream",
     "name": "stdout",
     "text": [
      "Cloning into 'erav4-backpropbay'...\n",
      "remote: Enumerating objects: 74, done.\u001b[K\n",
      "remote: Counting objects: 100% (74/74), done.\u001b[K\n",
      "remote: Compressing objects: 100% (58/58), done.\u001b[K\n",
      "remote: Total 74 (delta 30), reused 31 (delta 10), pack-reused 0 (from 0)\u001b[K\n",
      "Receiving objects: 100% (74/74), 1.26 MiB | 4.66 MiB/s, done.\n",
      "Resolving deltas: 100% (30/30), done.\n"
     ]
    }
   ],
   "source": [
    "# Clone the repository\n",
    "!git clone https://github.com/pandurangpatil/erav4-backpropbay.git"
   ]
  },
  {
   "cell_type": "code",
   "execution_count": null,
   "metadata": {
    "id": "o-2f69FMk-jI",
    "outputId": "2e2e4f6f-3f54-42f9-fa13-519a48c8be67",
    "colab": {
     "base_uri": "https://localhost:8080/"
    }
   },
   "outputs": [],
   "source": "# Navigate to the session7-ass directory\n%cd erav4-backpropbay/session7-ass"
  },
  {
   "cell_type": "code",
   "execution_count": 3,
   "metadata": {
    "id": "ct7sWdvwk-jI"
   },
   "outputs": [],
   "source": [
    "# Install dependencies from requirements.txt\n",
    "!pip install -r requirements.txt -q"
   ]
  },
  {
   "cell_type": "markdown",
   "metadata": {
    "id": "YSzbet0Dk-jI"
   },
   "source": [
    "## Install Required Dependencies"
   ]
  },
  {
   "cell_type": "code",
   "execution_count": 4,
   "metadata": {
    "id": "pYZYNA-sk-jJ"
   },
   "outputs": [],
   "source": [
    "!pip install torchsummary tqdm -q"
   ]
  },
  {
   "cell_type": "markdown",
   "metadata": {
    "id": "WbbEM0Ctk-jJ"
   },
   "source": [
    "## Import Libraries and Check GPU"
   ]
  },
  {
   "cell_type": "code",
   "execution_count": null,
   "metadata": {
    "id": "VK71SnIJk-jJ",
    "outputId": "92c4cdc1-3333-45cf-e613-ecbb3e89f6dd",
    "colab": {
     "base_uri": "https://localhost:8080/"
    }
   },
   "outputs": [],
   "source": "import torch\nimport sys\nfrom train import CIFARTrainer\n\n# Check if CUDA is available\ndevice = torch.device(\"cuda\" if torch.cuda.is_available() else \"cpu\")\nprint(f\"Using device: {device}\")\nif device.type == 'cuda':\n    print(f\"GPU: {torch.cuda.get_device_name(0)}\")\n    print(f\"Memory Allocated: {torch.cuda.memory_allocated(0) / 1024**2:.2f} MB\")\n    print(f\"Memory Cached: {torch.cuda.memory_reserved(0) / 1024**2:.2f} MB\")\nelse:\n    print(\"WARNING: Running on CPU. Training will be slower.\")\n    print(\"In Colab, go to Runtime > Change runtime type > Hardware accelerator > GPU\")"
  },
  {
   "cell_type": "markdown",
   "metadata": {
    "id": "lodXJFiVk-jK"
   },
   "source": "## Initialize and Train CIFAR Model"
  },
  {
   "cell_type": "code",
   "execution_count": null,
   "metadata": {
    "id": "_conI2tpk-jK",
    "outputId": "a24a0ff5-f333-46ef-bfba-14668891403f",
    "colab": {
     "base_uri": "https://localhost:8080/"
    }
   },
   "outputs": [],
   "source": "# Create trainer with batch_size=128 and epochs=20\ntrainer = CIFARTrainer(\n    model_module_name='model',\n    epochs=20,\n    batch_size=128\n)\n\nprint(\"Starting CIFAR Model Training\")\nprint(\"=\"*60)\nprint(f\"Configuration:\")\nprint(f\"  - Model: model\")\nprint(f\"  - Batch Size: 128\")\nprint(f\"  - Epochs: 20\")\nprint(f\"  - Optimizer: SGD (lr=0.01, momentum=0.9)\")\nprint(f\"  - Scheduler: OneCycleLR\")\nprint(\"=\"*60)"
  },
  {
   "cell_type": "code",
   "execution_count": 7,
   "metadata": {
    "id": "xW4kyw-5k-jK",
    "outputId": "c028a881-b729-48c9-c334-76081faea1cc",
    "colab": {
     "base_uri": "https://localhost:8080/"
    }
   },
   "outputs": [
    {
     "output_type": "stream",
     "name": "stdout",
     "text": [
      "Training model1 for 20 epochs\n",
      "\n",
      "==================================================\n",
      "Model Architecture Summary\n",
      "==================================================\n",
      "Device: cuda\n",
      "\n",
      "Model Summary:\n",
      "----------------------------------------------------------------\n",
      "        Layer (type)               Output Shape         Param #\n",
      "================================================================\n",
      "            Conv2d-1            [-1, 4, 26, 26]              36\n",
      "       BatchNorm2d-2            [-1, 4, 26, 26]               8\n",
      "              ReLU-3            [-1, 4, 26, 26]               0\n",
      "            Conv2d-4            [-1, 4, 24, 24]             144\n",
      "       BatchNorm2d-5            [-1, 4, 24, 24]               8\n",
      "              ReLU-6            [-1, 4, 24, 24]               0\n",
      "            Conv2d-7            [-1, 8, 22, 22]             288\n",
      "       BatchNorm2d-8            [-1, 8, 22, 22]              16\n",
      "              ReLU-9            [-1, 8, 22, 22]               0\n",
      "        MaxPool2d-10            [-1, 8, 11, 11]               0\n",
      "           Conv2d-11            [-1, 4, 11, 11]              32\n",
      "      BatchNorm2d-12            [-1, 4, 11, 11]               8\n",
      "             ReLU-13            [-1, 4, 11, 11]               0\n",
      "           Conv2d-14              [-1, 8, 9, 9]             288\n",
      "      BatchNorm2d-15              [-1, 8, 9, 9]              16\n",
      "             ReLU-16              [-1, 8, 9, 9]               0\n",
      "           Conv2d-17             [-1, 16, 7, 7]           1,152\n",
      "      BatchNorm2d-18             [-1, 16, 7, 7]              32\n",
      "             ReLU-19             [-1, 16, 7, 7]               0\n",
      "           Conv2d-20             [-1, 10, 7, 7]             160\n",
      "      BatchNorm2d-21             [-1, 10, 7, 7]              20\n",
      "             ReLU-22             [-1, 10, 7, 7]               0\n",
      "           Conv2d-23             [-1, 10, 1, 1]           4,900\n",
      "================================================================\n",
      "Total params: 7,108\n",
      "Trainable params: 7,108\n",
      "Non-trainable params: 0\n",
      "----------------------------------------------------------------\n",
      "Input size (MB): 0.00\n",
      "Forward/backward pass size (MB): 0.27\n",
      "Params size (MB): 0.03\n",
      "Estimated Total Size (MB): 0.30\n",
      "----------------------------------------------------------------\n",
      "==================================================\n",
      "\n"
     ]
    },
    {
     "output_type": "stream",
     "name": "stderr",
     "text": [
      "Epoch 1 Loss=0.1185 Acc=92.78: 100%|██████████| 469/469 [00:16<00:00, 28.87it/s]\n"
     ]
    },
    {
     "output_type": "stream",
     "name": "stdout",
     "text": [
      "\n",
      "Test set: Average loss: 0.0745, Accuracy: 9770/10000 (97.70%)\n",
      "\n"
     ]
    },
    {
     "output_type": "stream",
     "name": "stderr",
     "text": [
      "Epoch 2 Loss=0.0681 Acc=97.91: 100%|██████████| 469/469 [00:14<00:00, 32.21it/s]\n"
     ]
    },
    {
     "output_type": "stream",
     "name": "stdout",
     "text": [
      "\n",
      "Test set: Average loss: 0.0569, Accuracy: 9823/10000 (98.23%)\n",
      "\n"
     ]
    },
    {
     "output_type": "stream",
     "name": "stderr",
     "text": [
      "Epoch 3 Loss=0.1118 Acc=98.36: 100%|██████████| 469/469 [00:14<00:00, 31.32it/s]\n"
     ]
    },
    {
     "output_type": "stream",
     "name": "stdout",
     "text": [
      "\n",
      "Test set: Average loss: 0.0446, Accuracy: 9863/10000 (98.63%)\n",
      "\n"
     ]
    },
    {
     "output_type": "stream",
     "name": "stderr",
     "text": [
      "Epoch 4 Loss=0.0285 Acc=98.64: 100%|██████████| 469/469 [00:14<00:00, 32.29it/s]\n"
     ]
    },
    {
     "output_type": "stream",
     "name": "stdout",
     "text": [
      "\n",
      "Test set: Average loss: 0.0439, Accuracy: 9853/10000 (98.53%)\n",
      "\n"
     ]
    },
    {
     "output_type": "stream",
     "name": "stderr",
     "text": [
      "Epoch 5 Loss=0.0663 Acc=98.81: 100%|██████████| 469/469 [00:14<00:00, 32.69it/s]\n"
     ]
    },
    {
     "output_type": "stream",
     "name": "stdout",
     "text": [
      "\n",
      "Test set: Average loss: 0.0385, Accuracy: 9871/10000 (98.71%)\n",
      "\n"
     ]
    },
    {
     "output_type": "stream",
     "name": "stderr",
     "text": [
      "Epoch 6 Loss=0.0047 Acc=98.95: 100%|██████████| 469/469 [00:14<00:00, 31.32it/s]\n"
     ]
    },
    {
     "output_type": "stream",
     "name": "stdout",
     "text": [
      "\n",
      "Test set: Average loss: 0.0377, Accuracy: 9872/10000 (98.72%)\n",
      "\n"
     ]
    },
    {
     "output_type": "stream",
     "name": "stderr",
     "text": [
      "Epoch 7 Loss=0.0120 Acc=99.05: 100%|██████████| 469/469 [00:14<00:00, 32.41it/s]\n"
     ]
    },
    {
     "output_type": "stream",
     "name": "stdout",
     "text": [
      "\n",
      "Test set: Average loss: 0.0378, Accuracy: 9879/10000 (98.79%)\n",
      "\n"
     ]
    },
    {
     "output_type": "stream",
     "name": "stderr",
     "text": [
      "Epoch 8 Loss=0.0217 Acc=99.11: 100%|██████████| 469/469 [00:14<00:00, 32.46it/s]\n"
     ]
    },
    {
     "output_type": "stream",
     "name": "stdout",
     "text": [
      "\n",
      "Test set: Average loss: 0.0376, Accuracy: 9880/10000 (98.80%)\n",
      "\n"
     ]
    },
    {
     "output_type": "stream",
     "name": "stderr",
     "text": [
      "Epoch 9 Loss=0.0138 Acc=99.23: 100%|██████████| 469/469 [00:14<00:00, 31.28it/s]\n"
     ]
    },
    {
     "output_type": "stream",
     "name": "stdout",
     "text": [
      "\n",
      "Test set: Average loss: 0.0347, Accuracy: 9888/10000 (98.88%)\n",
      "\n"
     ]
    },
    {
     "output_type": "stream",
     "name": "stderr",
     "text": [
      "Epoch 10 Loss=0.0048 Acc=99.25: 100%|██████████| 469/469 [00:14<00:00, 32.27it/s]\n"
     ]
    },
    {
     "output_type": "stream",
     "name": "stdout",
     "text": [
      "\n",
      "Test set: Average loss: 0.0326, Accuracy: 9892/10000 (98.92%)\n",
      "\n"
     ]
    },
    {
     "output_type": "stream",
     "name": "stderr",
     "text": [
      "Epoch 11 Loss=0.0572 Acc=99.36: 100%|██████████| 469/469 [00:14<00:00, 32.34it/s]\n"
     ]
    },
    {
     "output_type": "stream",
     "name": "stdout",
     "text": [
      "\n",
      "Test set: Average loss: 0.0359, Accuracy: 9884/10000 (98.84%)\n",
      "\n"
     ]
    },
    {
     "output_type": "stream",
     "name": "stderr",
     "text": [
      "Epoch 12 Loss=0.0372 Acc=99.39: 100%|██████████| 469/469 [00:14<00:00, 32.00it/s]\n"
     ]
    },
    {
     "output_type": "stream",
     "name": "stdout",
     "text": [
      "\n",
      "Test set: Average loss: 0.0305, Accuracy: 9898/10000 (98.98%)\n",
      "\n"
     ]
    },
    {
     "output_type": "stream",
     "name": "stderr",
     "text": [
      "Epoch 13 Loss=0.0012 Acc=99.41: 100%|██████████| 469/469 [00:14<00:00, 32.42it/s]\n"
     ]
    },
    {
     "output_type": "stream",
     "name": "stdout",
     "text": [
      "\n",
      "Test set: Average loss: 0.0334, Accuracy: 9892/10000 (98.92%)\n",
      "\n"
     ]
    },
    {
     "output_type": "stream",
     "name": "stderr",
     "text": [
      "Epoch 14 Loss=0.0066 Acc=99.44: 100%|██████████| 469/469 [00:16<00:00, 28.93it/s]\n"
     ]
    },
    {
     "output_type": "stream",
     "name": "stdout",
     "text": [
      "\n",
      "Test set: Average loss: 0.0364, Accuracy: 9876/10000 (98.76%)\n",
      "\n"
     ]
    },
    {
     "output_type": "stream",
     "name": "stderr",
     "text": [
      "Epoch 15 Loss=0.0035 Acc=99.50: 100%|██████████| 469/469 [00:15<00:00, 29.44it/s]\n"
     ]
    },
    {
     "output_type": "stream",
     "name": "stdout",
     "text": [
      "\n",
      "Test set: Average loss: 0.0318, Accuracy: 9890/10000 (98.90%)\n",
      "\n"
     ]
    },
    {
     "output_type": "stream",
     "name": "stderr",
     "text": [
      "Epoch 16 Loss=0.0067 Acc=99.57: 100%|██████████| 469/469 [00:14<00:00, 32.77it/s]\n"
     ]
    },
    {
     "output_type": "stream",
     "name": "stdout",
     "text": [
      "\n",
      "Test set: Average loss: 0.0312, Accuracy: 9906/10000 (99.06%)\n",
      "\n"
     ]
    },
    {
     "output_type": "stream",
     "name": "stderr",
     "text": [
      "Epoch 17 Loss=0.0036 Acc=99.58: 100%|██████████| 469/469 [00:14<00:00, 32.37it/s]\n"
     ]
    },
    {
     "output_type": "stream",
     "name": "stdout",
     "text": [
      "\n",
      "Test set: Average loss: 0.0310, Accuracy: 9899/10000 (98.99%)\n",
      "\n"
     ]
    },
    {
     "output_type": "stream",
     "name": "stderr",
     "text": [
      "Epoch 18 Loss=0.0015 Acc=99.63: 100%|██████████| 469/469 [00:14<00:00, 32.68it/s]\n"
     ]
    },
    {
     "output_type": "stream",
     "name": "stdout",
     "text": [
      "\n",
      "Test set: Average loss: 0.0334, Accuracy: 9891/10000 (98.91%)\n",
      "\n"
     ]
    },
    {
     "output_type": "stream",
     "name": "stderr",
     "text": [
      "Epoch 19 Loss=0.0113 Acc=99.66: 100%|██████████| 469/469 [00:14<00:00, 31.85it/s]\n"
     ]
    },
    {
     "output_type": "stream",
     "name": "stdout",
     "text": [
      "\n",
      "Test set: Average loss: 0.0337, Accuracy: 9890/10000 (98.90%)\n",
      "\n"
     ]
    },
    {
     "output_type": "stream",
     "name": "stderr",
     "text": [
      "Epoch 20 Loss=0.0013 Acc=99.64: 100%|██████████| 469/469 [00:14<00:00, 32.68it/s]\n"
     ]
    },
    {
     "output_type": "stream",
     "name": "stdout",
     "text": [
      "\n",
      "Test set: Average loss: 0.0305, Accuracy: 9906/10000 (99.06%)\n",
      "\n",
      "Training completed. Final accuracy: 99.06%\n"
     ]
    }
   ],
   "source": [
    "# Run training\n",
    "final_accuracy = trainer.run()"
   ]
  },
  {
   "cell_type": "markdown",
   "metadata": {
    "id": "0JbZv_Wak-jK"
   },
   "source": [
    "## Training Summary"
   ]
  },
  {
   "cell_type": "code",
   "execution_count": null,
   "metadata": {
    "id": "GB9sNotzk-jK",
    "outputId": "4b760c37-3612-4b17-888c-0f1912d42008",
    "colab": {
     "base_uri": "https://localhost:8080/"
    }
   },
   "outputs": [],
   "source": "print(\"\\n\" + \"=\"*60)\nprint(\"TRAINING COMPLETED\")\nprint(\"=\"*60)\nprint(f\"Model: model\")\nprint(f\"Final Test Accuracy: {final_accuracy:.2f}%\")\nprint(\"=\"*60)"
  }
 ],
 "metadata": {
  "kernelspec": {
   "display_name": "Python 3",
   "language": "python",
   "name": "python3"
  },
  "language_info": {
   "codemirror_mode": {
    "name": "ipython",
    "version": 3
   },
   "file_extension": ".py",
   "mimetype": "text/x-python",
   "name": "python",
   "nbconvert_exporter": "python",
   "pygments_lexer": "ipython3",
   "version": "3.8.0"
  },
  "accelerator": "GPU",
  "colab": {
   "provenance": [],
   "include_colab_link": true
  }
 },
 "nbformat": 4,
 "nbformat_minor": 0
}