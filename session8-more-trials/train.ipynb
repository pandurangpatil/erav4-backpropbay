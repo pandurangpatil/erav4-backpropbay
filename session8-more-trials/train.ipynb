{
 "cells": [
  {
   "cell_type": "markdown",
   "metadata": {
    "id": "view-in-github",
    "colab_type": "text"
   },
   "source": [
    "<a href=\"https://colab.research.google.com/github/pandurangpatil/erav4-backpropbay/blob/main/session7-ass/train.ipynb\" target=\"_parent\"><img src=\"https://colab.research.google.com/assets/colab-badge.svg\" alt=\"Open In Colab\"/></a>"
   ]
  },
  {
   "cell_type": "markdown",
   "metadata": {
    "id": "ujBzMxx8k-jD"
   },
   "source": "# Training CIFAR-100 Model (Google Colab)\nThis notebook trains WideResNet-28-10 on CIFAR-100 with batch_size=256 and epochs=100"
  },
  {
   "cell_type": "markdown",
   "metadata": {
    "id": "75H8vgErk-jG"
   },
   "source": [
    "## Clone Repository"
   ]
  },
  {
   "cell_type": "code",
   "execution_count": 4,
   "metadata": {
    "id": "clYN_9HQk-jH",
    "outputId": "29567298-d267-4e1d-b152-d8b6dfe68588",
    "colab": {
     "base_uri": "https://localhost:8080/"
    }
   },
   "outputs": [
    {
     "output_type": "stream",
     "name": "stdout",
     "text": [
      "Cloning into 'erav4-backpropbay'...\n",
      "remote: Enumerating objects: 90, done.\u001b[K\n",
      "remote: Counting objects: 100% (90/90), done.\u001b[K\n",
      "remote: Compressing objects: 100% (72/72), done.\u001b[K\n",
      "remote: Total 90 (delta 39), reused 41 (delta 12), pack-reused 0 (from 0)\u001b[K\n",
      "Receiving objects: 100% (90/90), 1.38 MiB | 9.16 MiB/s, done.\n",
      "Resolving deltas: 100% (39/39), done.\n"
     ]
    }
   ],
   "source": [
    "# Clone the repository\n",
    "!git clone https://github.com/pandurangpatil/erav4-backpropbay.git"
   ]
  },
  {
   "cell_type": "code",
   "execution_count": null,
   "metadata": {
    "id": "o-2f69FMk-jI",
    "outputId": "98e880fc-a62c-4eb4-9185-b37617a3792f",
    "colab": {
     "base_uri": "https://localhost:8080/"
    }
   },
   "outputs": [],
   "source": "# Navigate to the session8-more-trials directory\n%cd erav4-backpropbay/session8-more-trials"
  },
  {
   "cell_type": "code",
   "execution_count": 6,
   "metadata": {
    "id": "ct7sWdvwk-jI",
    "outputId": "f625594c-7266-4fbf-af6a-e3f6f9e8a6f5",
    "colab": {
     "base_uri": "https://localhost:8080/"
    }
   },
   "outputs": [
    {
     "output_type": "stream",
     "name": "stdout",
     "text": [
      "\u001b[?25l     \u001b[90m━━━━━━━━━━━━━━━━━━━━━━━━━━━━━━━━━━━━━━━━\u001b[0m \u001b[32m0.0/53.4 kB\u001b[0m \u001b[31m?\u001b[0m eta \u001b[36m-:--:--\u001b[0m\r\u001b[2K     \u001b[90m━━━━━━━━━━━━━━━━━━━━━━━━━━━━━━━━━━━━━━━━\u001b[0m \u001b[32m53.4/53.4 kB\u001b[0m \u001b[31m2.6 MB/s\u001b[0m eta \u001b[36m0:00:00\u001b[0m\n",
      "\u001b[?25h  Installing build dependencies ... \u001b[?25l\u001b[?25hdone\n",
      "  Getting requirements to build wheel ... \u001b[?25l\u001b[?25hdone\n",
      "  Preparing metadata (pyproject.toml) ... \u001b[?25l\u001b[?25hdone\n",
      "  Building wheel for plotille (pyproject.toml) ... \u001b[?25l\u001b[?25hdone\n"
     ]
    }
   ],
   "source": [
    "# Install dependencies from requirements.txt\n",
    "!pip install -r requirements.txt -q"
   ]
  },
  {
   "cell_type": "markdown",
   "metadata": {
    "id": "YSzbet0Dk-jI"
   },
   "source": [
    "## Install Required Dependencies"
   ]
  },
  {
   "cell_type": "code",
   "execution_count": null,
   "metadata": {
    "id": "pYZYNA-sk-jJ"
   },
   "outputs": [],
   "source": "!pip install torchsummary tqdm albumentations huggingface_hub plotille -q"
  },
  {
   "cell_type": "markdown",
   "metadata": {
    "id": "WbbEM0Ctk-jJ"
   },
   "source": "## Setup HuggingFace Token (Optional)"
  },
  {
   "cell_type": "code",
   "execution_count": null,
   "metadata": {
    "id": "VK71SnIJk-jJ",
    "outputId": "1b451fd1-affa-4cdb-d6c6-b72631674d77",
    "colab": {
     "base_uri": "https://localhost:8080/"
    }
   },
   "outputs": [],
   "source": "# Setup HuggingFace token from Colab secrets (optional)\ntry:\n    from google.colab import userdata\n    HF_TOKEN = userdata.get('HF_TOKEN')\n    HF_REPO_ID = 'your-username/cifar100-wideresnet-session8'  # Change this to your repo\n    print(\"✓ HuggingFace token retrieved from Colab secrets\")\n    print(f\"Will upload to: {HF_REPO_ID}\")\nexcept Exception as e:\n    print(f\"Warning: Could not retrieve HF_TOKEN from secrets: {e}\")\n    print(\"Training will proceed without HuggingFace upload\")\n    HF_TOKEN = None\n    HF_REPO_ID = None"
  },
  {
   "cell_type": "markdown",
   "metadata": {
    "id": "lodXJFiVk-jK"
   },
   "source": "## Check GPU and Import Libraries"
  },
  {
   "cell_type": "markdown",
   "source": "## Initialize and Train CIFAR-100 Model",
   "metadata": {},
   "execution_count": null,
   "outputs": []
  },
  {
   "cell_type": "code",
   "execution_count": null,
   "metadata": {
    "id": "_conI2tpk-jK",
    "outputId": "5c5fc42f-3f0c-4ae0-de70-850718dd35fe",
    "colab": {
     "base_uri": "https://localhost:8080/"
    }
   },
   "outputs": [],
   "source": "# Create trainer with CIFAR-100 configuration\ntrainer = CIFARTrainer(\n    model_module_name='model',\n    epochs=100,\n    batch_size=256,\n    use_mixup=True,\n    mixup_alpha=0.2,\n    label_smoothing=0.1,\n    use_amp=True,\n    gradient_clip=1.0,\n    warmup_epochs=5,\n    checkpoint_epochs=[10, 20, 25, 30, 40, 50, 60, 75, 90],\n    hf_token=HF_TOKEN,\n    hf_repo_id=HF_REPO_ID\n)\n\nprint(\"\\n\" + \"=\"*70)\nprint(\"Starting CIFAR-100 WideResNet-28-10 Training\")\nprint(\"=\"*70)\nprint(\"Configuration:\")\nprint(\"  - Model: WideResNet-28-10 (36.5M parameters)\")\nprint(\"  - Dataset: CIFAR-100 (100 classes)\")\nprint(\"  - Batch Size: 256\")\nprint(\"  - Epochs: 100\")\nprint(\"  - Optimizer: SGD (lr=0.01, momentum=0.9, weight_decay=1e-3)\")\nprint(\"  - Scheduler: CosineAnnealingWarmRestarts (T_0=25)\")\nprint(\"  - Warmup: 5 epochs (0.01 → 0.1)\")\nprint(\"  - MixUp: Enabled (alpha=0.2)\")\nprint(\"  - Label Smoothing: 0.1\")\nprint(\"  - Mixed Precision: Enabled\")\nprint(\"  - Gradient Clipping: 1.0\")\nprint(\"  - Early Stopping: patience=15\")\nif HF_REPO_ID:\n    print(f\"  - HuggingFace Upload: Enabled ({HF_REPO_ID})\")\nelse:\n    print(\"  - HuggingFace Upload: Disabled\")\nprint(\"=\"*70)"
  },
  {
   "cell_type": "code",
   "execution_count": null,
   "metadata": {
    "id": "xW4kyw-5k-jK",
    "outputId": "e869a7d3-c9a9-4b04-cbe7-2b4a40544f97",
    "colab": {
     "base_uri": "https://localhost:8080/"
    }
   },
   "outputs": [],
   "source": "# Run training\nbest_accuracy = trainer.run()"
  },
  {
   "cell_type": "markdown",
   "metadata": {
    "id": "0JbZv_Wak-jK"
   },
   "source": "## Training Complete - Summary"
  },
  {
   "cell_type": "code",
   "source": "print(\"\\n\" + \"=\"*70)\nprint(\"TRAINING COMPLETED - CIFAR-100 WideResNet-28-10\")\nprint(\"=\"*70)\nprint(f\"Best Test Accuracy: {best_accuracy:.2f}%\")\nprint(f\"Best Epoch: {trainer.best_epoch}\")\nprint(f\"Total Epochs Trained: {len(trainer.train_accuracies)}\")\nprint(f\"\\nFinal Metrics:\")\nprint(f\"  - Train Accuracy: {trainer.train_accuracies[-1]:.2f}%\")\nprint(f\"  - Test Accuracy: {trainer.test_accuracies[-1]:.2f}%\")\nprint(f\"  - Train Loss: {trainer.train_losses[-1]:.4f}\")\nprint(f\"  - Test Loss: {trainer.test_losses[-1]:.4f}\")\nprint(f\"\\nCheckpoints saved in: ./checkpoints/\")\nif HF_REPO_ID:\n    print(f\"HuggingFace Model: https://huggingface.co/{HF_REPO_ID}\")\nprint(\"=\"*70)",
   "metadata": {},
   "execution_count": null,
   "outputs": []
  },
  {
   "cell_type": "code",
   "execution_count": 11,
   "metadata": {
    "id": "GB9sNotzk-jK",
    "outputId": "829a3eb2-e645-4171-e7a2-a99610a9c71f",
    "colab": {
     "base_uri": "https://localhost:8080/"
    }
   },
   "outputs": [
    {
     "output_type": "stream",
     "name": "stdout",
     "text": [
      "\n",
      "============================================================\n",
      "TRAINING COMPLETED\n",
      "============================================================\n",
      "Model: model\n",
      "Final Test Accuracy: 87.28%\n",
      "============================================================\n"
     ]
    }
   ],
   "source": [
    "print(\"\\n\" + \"=\"*60)\n",
    "print(\"TRAINING COMPLETED\")\n",
    "print(\"=\"*60)\n",
    "print(f\"Model: model\")\n",
    "print(f\"Final Test Accuracy: {final_accuracy:.2f}%\")\n",
    "print(\"=\"*60)"
   ]
  }
 ],
 "metadata": {
  "kernelspec": {
   "display_name": "Python 3",
   "language": "python",
   "name": "python3"
  },
  "language_info": {
   "codemirror_mode": {
    "name": "ipython",
    "version": 3
   },
   "file_extension": ".py",
   "mimetype": "text/x-python",
   "name": "python",
   "nbconvert_exporter": "python",
   "pygments_lexer": "ipython3",
   "version": "3.8.0"
  },
  "accelerator": "GPU",
  "colab": {
   "provenance": [],
   "include_colab_link": true
  }
 },
 "nbformat": 4,
 "nbformat_minor": 0
}