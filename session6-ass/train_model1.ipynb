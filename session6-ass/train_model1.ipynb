{
  "cells": [
    {
      "cell_type": "markdown",
      "metadata": {
        "id": "view-in-github",
        "colab_type": "text"
      },
      "source": [
        "<a href=\"https://colab.research.google.com/github/pandurangpatil/erav4-backpropbay/blob/main/session6-ass/train_model1.ipynb\" target=\"_parent\"><img src=\"https://colab.research.google.com/assets/colab-badge.svg\" alt=\"Open In Colab\"/></a>"
      ]
    },
    {
      "cell_type": "markdown",
      "metadata": {
        "id": "ujBzMxx8k-jD"
      },
      "source": [
        "# Training Model 1 (Google Colab)\n",
        "This notebook trains model1 with batch_size=128 and epochs=15"
      ]
    },
    {
      "cell_type": "markdown",
      "metadata": {
        "id": "75H8vgErk-jG"
      },
      "source": [
        "## Clone Repository"
      ]
    },
    {
      "cell_type": "code",
      "execution_count": 3,
      "metadata": {
        "id": "clYN_9HQk-jH",
        "outputId": "0e429f5d-1681-4f00-f2fa-fa00ac9f3262",
        "colab": {
          "base_uri": "https://localhost:8080/"
        }
      },
      "outputs": [
        {
          "output_type": "stream",
          "name": "stdout",
          "text": [
            "Cloning into 'erav4-backpropbay'...\n",
            "remote: Enumerating objects: 62, done.\u001b[K\n",
            "remote: Counting objects: 100% (62/62), done.\u001b[K\n",
            "remote: Compressing objects: 100% (46/46), done.\u001b[K\n",
            "remote: Total 62 (delta 20), reused 34 (delta 10), pack-reused 0 (from 0)\u001b[K\n",
            "Receiving objects: 100% (62/62), 1.25 MiB | 8.62 MiB/s, done.\n",
            "Resolving deltas: 100% (20/20), done.\n"
          ]
        }
      ],
      "source": [
        "# Clone the repository\n",
        "!git clone https://github.com/pandurangpatil/erav4-backpropbay.git"
      ]
    },
    {
      "cell_type": "code",
      "execution_count": 4,
      "metadata": {
        "id": "o-2f69FMk-jI",
        "outputId": "41730642-b2ae-4d63-a503-7c71afcc98c3",
        "colab": {
          "base_uri": "https://localhost:8080/"
        }
      },
      "outputs": [
        {
          "output_type": "stream",
          "name": "stdout",
          "text": [
            "/content/erav4-backpropbay/session6-ass\n"
          ]
        }
      ],
      "source": [
        "# Navigate to the session6-ass directory\n",
        "%cd erav4-backpropbay/session6-ass"
      ]
    },
    {
      "cell_type": "code",
      "execution_count": 5,
      "metadata": {
        "id": "ct7sWdvwk-jI"
      },
      "outputs": [],
      "source": [
        "# Install dependencies from requirements.txt\n",
        "!pip install -r requirements.txt -q"
      ]
    },
    {
      "cell_type": "markdown",
      "metadata": {
        "id": "YSzbet0Dk-jI"
      },
      "source": [
        "## Install Required Dependencies"
      ]
    },
    {
      "cell_type": "code",
      "execution_count": 6,
      "metadata": {
        "id": "pYZYNA-sk-jJ"
      },
      "outputs": [],
      "source": [
        "!pip install torchsummary tqdm -q"
      ]
    },
    {
      "cell_type": "markdown",
      "metadata": {
        "id": "WbbEM0Ctk-jJ"
      },
      "source": [
        "## Import Libraries and Check GPU"
      ]
    },
    {
      "cell_type": "code",
      "execution_count": 7,
      "metadata": {
        "id": "VK71SnIJk-jJ",
        "outputId": "dfc84609-8947-4ed1-bab1-f07626d0474b",
        "colab": {
          "base_uri": "https://localhost:8080/"
        }
      },
      "outputs": [
        {
          "output_type": "stream",
          "name": "stdout",
          "text": [
            "Using device: cpu\n",
            "WARNING: Running on CPU. Training will be slower.\n",
            "In Colab, go to Runtime > Change runtime type > Hardware accelerator > GPU\n"
          ]
        }
      ],
      "source": [
        "import torch\n",
        "import sys\n",
        "from train import MNISTTrainer\n",
        "\n",
        "# Check if CUDA is available\n",
        "device = torch.device(\"cuda\" if torch.cuda.is_available() else \"cpu\")\n",
        "print(f\"Using device: {device}\")\n",
        "if device.type == 'cuda':\n",
        "    print(f\"GPU: {torch.cuda.get_device_name(0)}\")\n",
        "    print(f\"Memory Allocated: {torch.cuda.memory_allocated(0) / 1024**2:.2f} MB\")\n",
        "    print(f\"Memory Cached: {torch.cuda.memory_reserved(0) / 1024**2:.2f} MB\")\n",
        "else:\n",
        "    print(\"WARNING: Running on CPU. Training will be slower.\")\n",
        "    print(\"In Colab, go to Runtime > Change runtime type > Hardware accelerator > GPU\")"
      ]
    },
    {
      "cell_type": "markdown",
      "metadata": {
        "id": "lodXJFiVk-jK"
      },
      "source": [
        "## Initialize and Train Model 1"
      ]
    },
    {
      "cell_type": "code",
      "execution_count": 8,
      "metadata": {
        "id": "_conI2tpk-jK",
        "outputId": "89784005-0d27-40fc-e170-0330c21ce47e",
        "colab": {
          "base_uri": "https://localhost:8080/"
        }
      },
      "outputs": [
        {
          "output_type": "stream",
          "name": "stderr",
          "text": [
            "100%|██████████| 9.91M/9.91M [00:00<00:00, 56.0MB/s]\n",
            "100%|██████████| 28.9k/28.9k [00:00<00:00, 1.60MB/s]\n",
            "100%|██████████| 1.65M/1.65M [00:00<00:00, 14.0MB/s]\n",
            "100%|██████████| 4.54k/4.54k [00:00<00:00, 10.6MB/s]"
          ]
        },
        {
          "output_type": "stream",
          "name": "stdout",
          "text": [
            "Starting training for Model 1\n",
            "============================================================\n",
            "Configuration:\n",
            "  - Model: model1\n",
            "  - Batch Size: 128\n",
            "  - Epochs: 15\n",
            "  - Optimizer: SGD (lr=0.01, momentum=0.9)\n",
            "  - Scheduler: None\n",
            "============================================================\n"
          ]
        },
        {
          "output_type": "stream",
          "name": "stderr",
          "text": [
            "\n"
          ]
        }
      ],
      "source": [
        "# Create trainer for model1 with batch_size=128 and epochs=15\n",
        "trainer = MNISTTrainer(\n",
        "    model_module_name='model1',\n",
        "    epochs=15,\n",
        "    batch_size=128\n",
        ")\n",
        "\n",
        "print(\"Starting training for Model 1\")\n",
        "print(\"=\"*60)\n",
        "print(f\"Configuration:\")\n",
        "print(f\"  - Model: model1\")\n",
        "print(f\"  - Batch Size: 128\")\n",
        "print(f\"  - Epochs: 15\")\n",
        "print(f\"  - Optimizer: SGD (lr=0.01, momentum=0.9)\")\n",
        "print(f\"  - Scheduler: None\")\n",
        "print(\"=\"*60)"
      ]
    },
    {
      "cell_type": "code",
      "execution_count": 9,
      "metadata": {
        "id": "xW4kyw-5k-jK",
        "outputId": "dfc40cb7-bddf-4966-bebd-e81ac357939a",
        "colab": {
          "base_uri": "https://localhost:8080/"
        }
      },
      "outputs": [
        {
          "output_type": "stream",
          "name": "stdout",
          "text": [
            "Training model1 for 15 epochs\n",
            "\n",
            "==================================================\n",
            "Model Architecture Summary\n",
            "==================================================\n",
            "Device: cpu\n",
            "\n",
            "Model Summary:\n",
            "----------------------------------------------------------------\n",
            "        Layer (type)               Output Shape         Param #\n",
            "================================================================\n",
            "            Conv2d-1            [-1, 4, 26, 26]              36\n",
            "       BatchNorm2d-2            [-1, 4, 26, 26]               8\n",
            "              ReLU-3            [-1, 4, 26, 26]               0\n",
            "            Conv2d-4            [-1, 4, 24, 24]             144\n",
            "       BatchNorm2d-5            [-1, 4, 24, 24]               8\n",
            "              ReLU-6            [-1, 4, 24, 24]               0\n",
            "            Conv2d-7            [-1, 8, 22, 22]             288\n",
            "       BatchNorm2d-8            [-1, 8, 22, 22]              16\n",
            "              ReLU-9            [-1, 8, 22, 22]               0\n",
            "        MaxPool2d-10            [-1, 8, 11, 11]               0\n",
            "           Conv2d-11            [-1, 4, 11, 11]              32\n",
            "      BatchNorm2d-12            [-1, 4, 11, 11]               8\n",
            "             ReLU-13            [-1, 4, 11, 11]               0\n",
            "           Conv2d-14              [-1, 8, 9, 9]             288\n",
            "      BatchNorm2d-15              [-1, 8, 9, 9]              16\n",
            "             ReLU-16              [-1, 8, 9, 9]               0\n",
            "           Conv2d-17             [-1, 16, 7, 7]           1,152\n",
            "      BatchNorm2d-18             [-1, 16, 7, 7]              32\n",
            "             ReLU-19             [-1, 16, 7, 7]               0\n",
            "           Conv2d-20             [-1, 10, 7, 7]             160\n",
            "      BatchNorm2d-21             [-1, 10, 7, 7]              20\n",
            "             ReLU-22             [-1, 10, 7, 7]               0\n",
            "           Conv2d-23             [-1, 10, 1, 1]           4,900\n",
            "================================================================\n",
            "Total params: 7,108\n",
            "Trainable params: 7,108\n",
            "Non-trainable params: 0\n",
            "----------------------------------------------------------------\n",
            "Input size (MB): 0.00\n",
            "Forward/backward pass size (MB): 0.27\n",
            "Params size (MB): 0.03\n",
            "Estimated Total Size (MB): 0.30\n",
            "----------------------------------------------------------------\n",
            "==================================================\n",
            "\n"
          ]
        },
        {
          "output_type": "stream",
          "name": "stderr",
          "text": [
            "Epoch 1 Loss=0.1508 Acc=93.19: 100%|██████████| 469/469 [00:40<00:00, 11.45it/s]\n"
          ]
        },
        {
          "output_type": "stream",
          "name": "stdout",
          "text": [
            "\n",
            "Test set: Average loss: 0.0800, Accuracy: 9752/10000 (97.52%)\n",
            "\n"
          ]
        },
        {
          "output_type": "stream",
          "name": "stderr",
          "text": [
            "Epoch 2 Loss=0.0090 Acc=97.96: 100%|██████████| 469/469 [00:38<00:00, 12.31it/s]\n"
          ]
        },
        {
          "output_type": "stream",
          "name": "stdout",
          "text": [
            "\n",
            "Test set: Average loss: 0.0566, Accuracy: 9825/10000 (98.25%)\n",
            "\n"
          ]
        },
        {
          "output_type": "stream",
          "name": "stderr",
          "text": [
            "Epoch 3 Loss=0.0752 Acc=98.37: 100%|██████████| 469/469 [00:37<00:00, 12.55it/s]\n"
          ]
        },
        {
          "output_type": "stream",
          "name": "stdout",
          "text": [
            "\n",
            "Test set: Average loss: 0.0524, Accuracy: 9833/10000 (98.33%)\n",
            "\n"
          ]
        },
        {
          "output_type": "stream",
          "name": "stderr",
          "text": [
            "Epoch 4 Loss=0.0168 Acc=98.70: 100%|██████████| 469/469 [00:37<00:00, 12.45it/s]\n"
          ]
        },
        {
          "output_type": "stream",
          "name": "stdout",
          "text": [
            "\n",
            "Test set: Average loss: 0.0456, Accuracy: 9856/10000 (98.56%)\n",
            "\n"
          ]
        },
        {
          "output_type": "stream",
          "name": "stderr",
          "text": [
            "Epoch 5 Loss=0.0301 Acc=98.87: 100%|██████████| 469/469 [00:37<00:00, 12.57it/s]\n"
          ]
        },
        {
          "output_type": "stream",
          "name": "stdout",
          "text": [
            "\n",
            "Test set: Average loss: 0.0383, Accuracy: 9884/10000 (98.84%)\n",
            "\n"
          ]
        },
        {
          "output_type": "stream",
          "name": "stderr",
          "text": [
            "Epoch 6 Loss=0.0190 Acc=98.97: 100%|██████████| 469/469 [00:37<00:00, 12.60it/s]\n"
          ]
        },
        {
          "output_type": "stream",
          "name": "stdout",
          "text": [
            "\n",
            "Test set: Average loss: 0.0374, Accuracy: 9886/10000 (98.86%)\n",
            "\n"
          ]
        },
        {
          "output_type": "stream",
          "name": "stderr",
          "text": [
            "Epoch 7 Loss=0.0312 Acc=99.09: 100%|██████████| 469/469 [00:36<00:00, 12.78it/s]\n"
          ]
        },
        {
          "output_type": "stream",
          "name": "stdout",
          "text": [
            "\n",
            "Test set: Average loss: 0.0371, Accuracy: 9879/10000 (98.79%)\n",
            "\n"
          ]
        },
        {
          "output_type": "stream",
          "name": "stderr",
          "text": [
            "Epoch 8 Loss=0.0182 Acc=99.14: 100%|██████████| 469/469 [00:36<00:00, 12.81it/s]\n"
          ]
        },
        {
          "output_type": "stream",
          "name": "stdout",
          "text": [
            "\n",
            "Test set: Average loss: 0.0411, Accuracy: 9876/10000 (98.76%)\n",
            "\n"
          ]
        },
        {
          "output_type": "stream",
          "name": "stderr",
          "text": [
            "Epoch 9 Loss=0.0082 Acc=99.18: 100%|██████████| 469/469 [00:36<00:00, 13.00it/s]\n"
          ]
        },
        {
          "output_type": "stream",
          "name": "stdout",
          "text": [
            "\n",
            "Test set: Average loss: 0.0378, Accuracy: 9889/10000 (98.89%)\n",
            "\n"
          ]
        },
        {
          "output_type": "stream",
          "name": "stderr",
          "text": [
            "Epoch 10 Loss=0.0377 Acc=99.28: 100%|██████████| 469/469 [00:36<00:00, 12.70it/s]\n"
          ]
        },
        {
          "output_type": "stream",
          "name": "stdout",
          "text": [
            "\n",
            "Test set: Average loss: 0.0337, Accuracy: 9900/10000 (99.00%)\n",
            "\n"
          ]
        },
        {
          "output_type": "stream",
          "name": "stderr",
          "text": [
            "Epoch 11 Loss=0.0179 Acc=99.30: 100%|██████████| 469/469 [00:36<00:00, 12.84it/s]\n"
          ]
        },
        {
          "output_type": "stream",
          "name": "stdout",
          "text": [
            "\n",
            "Test set: Average loss: 0.0356, Accuracy: 9882/10000 (98.82%)\n",
            "\n"
          ]
        },
        {
          "output_type": "stream",
          "name": "stderr",
          "text": [
            "Epoch 12 Loss=0.0207 Acc=99.37: 100%|██████████| 469/469 [00:36<00:00, 12.97it/s]\n"
          ]
        },
        {
          "output_type": "stream",
          "name": "stdout",
          "text": [
            "\n",
            "Test set: Average loss: 0.0322, Accuracy: 9905/10000 (99.05%)\n",
            "\n"
          ]
        },
        {
          "output_type": "stream",
          "name": "stderr",
          "text": [
            "Epoch 13 Loss=0.0018 Acc=99.44: 100%|██████████| 469/469 [00:36<00:00, 12.94it/s]\n"
          ]
        },
        {
          "output_type": "stream",
          "name": "stdout",
          "text": [
            "\n",
            "Test set: Average loss: 0.0339, Accuracy: 9889/10000 (98.89%)\n",
            "\n"
          ]
        },
        {
          "output_type": "stream",
          "name": "stderr",
          "text": [
            "Epoch 14 Loss=0.0077 Acc=99.46: 100%|██████████| 469/469 [00:36<00:00, 12.99it/s]\n"
          ]
        },
        {
          "output_type": "stream",
          "name": "stdout",
          "text": [
            "\n",
            "Test set: Average loss: 0.0358, Accuracy: 9896/10000 (98.96%)\n",
            "\n"
          ]
        },
        {
          "output_type": "stream",
          "name": "stderr",
          "text": [
            "Epoch 15 Loss=0.0046 Acc=99.53: 100%|██████████| 469/469 [00:36<00:00, 12.94it/s]\n"
          ]
        },
        {
          "output_type": "stream",
          "name": "stdout",
          "text": [
            "\n",
            "Test set: Average loss: 0.0324, Accuracy: 9900/10000 (99.00%)\n",
            "\n",
            "Training completed. Final accuracy: 99.00%\n"
          ]
        }
      ],
      "source": [
        "# Run training\n",
        "final_accuracy = trainer.run()"
      ]
    },
    {
      "cell_type": "markdown",
      "metadata": {
        "id": "0JbZv_Wak-jK"
      },
      "source": [
        "## Training Summary"
      ]
    },
    {
      "cell_type": "code",
      "execution_count": 10,
      "metadata": {
        "id": "GB9sNotzk-jK",
        "outputId": "ac7d4938-0898-4ddb-881f-bd23e32c7063",
        "colab": {
          "base_uri": "https://localhost:8080/"
        }
      },
      "outputs": [
        {
          "output_type": "stream",
          "name": "stdout",
          "text": [
            "\n",
            "============================================================\n",
            "TRAINING COMPLETED\n",
            "============================================================\n",
            "Model: model1\n",
            "Final Test Accuracy: 99.00%\n",
            "============================================================\n"
          ]
        }
      ],
      "source": [
        "print(\"\\n\" + \"=\"*60)\n",
        "print(\"TRAINING COMPLETED\")\n",
        "print(\"=\"*60)\n",
        "print(f\"Model: model1\")\n",
        "print(f\"Final Test Accuracy: {final_accuracy:.2f}%\")\n",
        "print(\"=\"*60)"
      ]
    }
  ],
  "metadata": {
    "kernelspec": {
      "display_name": "Python 3",
      "language": "python",
      "name": "python3"
    },
    "language_info": {
      "codemirror_mode": {
        "name": "ipython",
        "version": 3
      },
      "file_extension": ".py",
      "mimetype": "text/x-python",
      "name": "python",
      "nbconvert_exporter": "python",
      "pygments_lexer": "ipython3",
      "version": "3.8.0"
    },
    "accelerator": "GPU",
    "colab": {
      "provenance": [],
      "include_colab_link": true
    }
  },
  "nbformat": 4,
  "nbformat_minor": 0
}