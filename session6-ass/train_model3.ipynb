{
  "cells": [
    {
      "cell_type": "markdown",
      "metadata": {
        "id": "view-in-github",
        "colab_type": "text"
      },
      "source": [
        "<a href=\"https://colab.research.google.com/github/pandurangpatil/erav4-backpropbay/blob/main/session6-ass/train_model3.ipynb\" target=\"_parent\"><img src=\"https://colab.research.google.com/assets/colab-badge.svg\" alt=\"Open In Colab\"/></a>"
      ]
    },
    {
      "cell_type": "markdown",
      "metadata": {
        "id": "JVhXQBcLqcxE"
      },
      "source": [
        "# Training Model 3 (Google Colab)\n",
        "This notebook trains model3 with batch_size=128 and epochs=15"
      ]
    },
    {
      "cell_type": "markdown",
      "metadata": {
        "id": "HeKJSZQdqcxF"
      },
      "source": [
        "## Clone Repository"
      ]
    },
    {
      "cell_type": "code",
      "execution_count": 1,
      "metadata": {
        "id": "PG7SEXM-qcxF",
        "outputId": "f5b964ab-4a97-4d41-d549-942dbafe8789",
        "colab": {
          "base_uri": "https://localhost:8080/"
        }
      },
      "outputs": [
        {
          "output_type": "stream",
          "name": "stdout",
          "text": [
            "Cloning into 'erav4-backpropbay'...\n",
            "remote: Enumerating objects: 70, done.\u001b[K\n",
            "remote: Counting objects: 100% (70/70), done.\u001b[K\n",
            "remote: Compressing objects: 100% (54/54), done.\u001b[K\n",
            "remote: Total 70 (delta 26), reused 32 (delta 10), pack-reused 0 (from 0)\u001b[K\n",
            "Receiving objects: 100% (70/70), 1.26 MiB | 1.11 MiB/s, done.\n",
            "Resolving deltas: 100% (26/26), done.\n"
          ]
        }
      ],
      "source": [
        "# Clone the repository\n",
        "!git clone https://github.com/pandurangpatil/erav4-backpropbay.git"
      ]
    },
    {
      "cell_type": "code",
      "execution_count": 2,
      "metadata": {
        "id": "0nx4LzpRqcxF",
        "outputId": "70655ca3-1fdc-446c-d559-9c09b38383ae",
        "colab": {
          "base_uri": "https://localhost:8080/"
        }
      },
      "outputs": [
        {
          "output_type": "stream",
          "name": "stdout",
          "text": [
            "/content/erav4-backpropbay/session6-ass\n"
          ]
        }
      ],
      "source": [
        "# Navigate to the session6-ass directory\n",
        "%cd erav4-backpropbay/session6-ass"
      ]
    },
    {
      "cell_type": "code",
      "execution_count": 3,
      "metadata": {
        "id": "bULySgCDqcxF"
      },
      "outputs": [],
      "source": [
        "# Install dependencies from requirements.txt\n",
        "!pip install -r requirements.txt -q"
      ]
    },
    {
      "cell_type": "markdown",
      "metadata": {
        "id": "-ZncnSm3qcxG"
      },
      "source": [
        "## Install Required Dependencies"
      ]
    },
    {
      "cell_type": "code",
      "execution_count": 4,
      "metadata": {
        "id": "qneU5DCjqcxG"
      },
      "outputs": [],
      "source": [
        "!pip install torchsummary tqdm -q"
      ]
    },
    {
      "cell_type": "markdown",
      "metadata": {
        "id": "x3w7CRijqcxG"
      },
      "source": [
        "## Import Libraries and Check GPU"
      ]
    },
    {
      "cell_type": "code",
      "execution_count": 5,
      "metadata": {
        "id": "4ZYzWn5dqcxG",
        "outputId": "63d48376-8899-45bd-97bc-c4e7dc77773e",
        "colab": {
          "base_uri": "https://localhost:8080/"
        }
      },
      "outputs": [
        {
          "output_type": "stream",
          "name": "stdout",
          "text": [
            "Using device: cuda\n",
            "GPU: Tesla T4\n",
            "Memory Allocated: 0.00 MB\n",
            "Memory Cached: 0.00 MB\n"
          ]
        }
      ],
      "source": [
        "import torch\n",
        "import sys\n",
        "from train import MNISTTrainer\n",
        "\n",
        "# Check if CUDA is available\n",
        "device = torch.device(\"cuda\" if torch.cuda.is_available() else \"cpu\")\n",
        "print(f\"Using device: {device}\")\n",
        "if device.type == 'cuda':\n",
        "    print(f\"GPU: {torch.cuda.get_device_name(0)}\")\n",
        "    print(f\"Memory Allocated: {torch.cuda.memory_allocated(0) / 1024**2:.2f} MB\")\n",
        "    print(f\"Memory Cached: {torch.cuda.memory_reserved(0) / 1024**2:.2f} MB\")\n",
        "else:\n",
        "    print(\"WARNING: Running on CPU. Training will be slower.\")\n",
        "    print(\"In Colab, go to Runtime > Change runtime type > Hardware accelerator > GPU\")"
      ]
    },
    {
      "cell_type": "markdown",
      "metadata": {
        "id": "SBheQyUZqcxG"
      },
      "source": [
        "## Initialize and Train Model 3"
      ]
    },
    {
      "cell_type": "code",
      "execution_count": 6,
      "metadata": {
        "id": "fZHkFW1nqcxG",
        "outputId": "e85bbbb7-b7b2-4e7e-f436-f72d06938c6c",
        "colab": {
          "base_uri": "https://localhost:8080/"
        }
      },
      "outputs": [
        {
          "output_type": "stream",
          "name": "stderr",
          "text": [
            "100%|██████████| 9.91M/9.91M [00:01<00:00, 4.99MB/s]\n",
            "100%|██████████| 28.9k/28.9k [00:00<00:00, 130kB/s]\n",
            "100%|██████████| 1.65M/1.65M [00:01<00:00, 1.23MB/s]\n",
            "100%|██████████| 4.54k/4.54k [00:00<00:00, 12.2MB/s]"
          ]
        },
        {
          "output_type": "stream",
          "name": "stdout",
          "text": [
            "Starting training for Model 3\n",
            "============================================================\n",
            "Configuration:\n",
            "  - Model: model3\n",
            "  - Batch Size: 128\n",
            "  - Epochs: 15\n",
            "  - Optimizer: SGD (lr=0.01, momentum=0.9, weight_decay=1e-4)\n",
            "  - Scheduler: OneCycleLR (max_lr=0.05)\n",
            "  - Data Augmentation: RandomRotation + RandomAffine\n",
            "  - Dropout: 0.05\n",
            "============================================================\n"
          ]
        },
        {
          "output_type": "stream",
          "name": "stderr",
          "text": [
            "\n"
          ]
        }
      ],
      "source": [
        "# Create trainer for model3 with batch_size=128 and epochs=15\n",
        "trainer = MNISTTrainer(\n",
        "    model_module_name='model3',\n",
        "    epochs=15,\n",
        "    batch_size=128\n",
        ")\n",
        "\n",
        "print(\"Starting training for Model 3\")\n",
        "print(\"=\"*60)\n",
        "print(f\"Configuration:\")\n",
        "print(f\"  - Model: model3\")\n",
        "print(f\"  - Batch Size: 128\")\n",
        "print(f\"  - Epochs: 15\")\n",
        "print(f\"  - Optimizer: SGD (lr=0.01, momentum=0.9, weight_decay=1e-4)\")\n",
        "print(f\"  - Scheduler: OneCycleLR (max_lr=0.05)\")\n",
        "print(f\"  - Data Augmentation: RandomRotation + RandomAffine\")\n",
        "print(f\"  - Dropout: 0.05\")\n",
        "print(\"=\"*60)"
      ]
    },
    {
      "cell_type": "code",
      "execution_count": 7,
      "metadata": {
        "id": "ulDcAKj5qcxG",
        "outputId": "379b8950-08c3-4a1f-e304-5f52766d5f71",
        "colab": {
          "base_uri": "https://localhost:8080/"
        }
      },
      "outputs": [
        {
          "output_type": "stream",
          "name": "stdout",
          "text": [
            "Training model3 for 15 epochs\n",
            "\n",
            "==================================================\n",
            "Model Architecture Summary\n",
            "==================================================\n",
            "Device: cuda\n",
            "\n",
            "Model Summary:\n",
            "----------------------------------------------------------------\n",
            "        Layer (type)               Output Shape         Param #\n",
            "================================================================\n",
            "            Conv2d-1            [-1, 8, 26, 26]              72\n",
            "              ReLU-2            [-1, 8, 26, 26]               0\n",
            "       BatchNorm2d-3            [-1, 8, 26, 26]              16\n",
            "           Dropout-4            [-1, 8, 26, 26]               0\n",
            "            Conv2d-5           [-1, 16, 24, 24]           1,152\n",
            "              ReLU-6           [-1, 16, 24, 24]               0\n",
            "       BatchNorm2d-7           [-1, 16, 24, 24]              32\n",
            "            Conv2d-8            [-1, 8, 24, 24]             128\n",
            "         MaxPool2d-9            [-1, 8, 12, 12]               0\n",
            "           Conv2d-10           [-1, 16, 10, 10]           1,152\n",
            "             ReLU-11           [-1, 16, 10, 10]               0\n",
            "      BatchNorm2d-12           [-1, 16, 10, 10]              32\n",
            "           Conv2d-13             [-1, 16, 8, 8]           2,304\n",
            "             ReLU-14             [-1, 16, 8, 8]               0\n",
            "      BatchNorm2d-15             [-1, 16, 8, 8]              32\n",
            "           Conv2d-16             [-1, 16, 8, 8]           2,304\n",
            "             ReLU-17             [-1, 16, 8, 8]               0\n",
            "      BatchNorm2d-18             [-1, 16, 8, 8]              32\n",
            "AdaptiveAvgPool2d-19             [-1, 16, 1, 1]               0\n",
            "           Conv2d-20             [-1, 10, 1, 1]             160\n",
            "================================================================\n",
            "Total params: 7,416\n",
            "Trainable params: 7,416\n",
            "Non-trainable params: 0\n",
            "----------------------------------------------------------------\n",
            "Input size (MB): 0.00\n",
            "Forward/backward pass size (MB): 0.50\n",
            "Params size (MB): 0.03\n",
            "Estimated Total Size (MB): 0.53\n",
            "----------------------------------------------------------------\n",
            "==================================================\n",
            "\n"
          ]
        },
        {
          "output_type": "stream",
          "name": "stderr",
          "text": [
            "Epoch 1 Loss=0.2418 Acc=67.81: 100%|██████████| 469/469 [00:26<00:00, 17.71it/s]\n"
          ]
        },
        {
          "output_type": "stream",
          "name": "stdout",
          "text": [
            "\n",
            "Test set: Average loss: 0.1733, Accuracy: 9632/10000 (96.32%)\n",
            "\n"
          ]
        },
        {
          "output_type": "stream",
          "name": "stderr",
          "text": [
            "Epoch 2 Loss=0.1739 Acc=95.87: 100%|██████████| 469/469 [00:25<00:00, 18.18it/s]\n"
          ]
        },
        {
          "output_type": "stream",
          "name": "stdout",
          "text": [
            "\n",
            "Test set: Average loss: 0.0864, Accuracy: 9738/10000 (97.38%)\n",
            "\n"
          ]
        },
        {
          "output_type": "stream",
          "name": "stderr",
          "text": [
            "Epoch 3 Loss=0.0428 Acc=97.26: 100%|██████████| 469/469 [00:27<00:00, 17.19it/s]\n"
          ]
        },
        {
          "output_type": "stream",
          "name": "stdout",
          "text": [
            "\n",
            "Test set: Average loss: 0.0522, Accuracy: 9852/10000 (98.52%)\n",
            "\n"
          ]
        },
        {
          "output_type": "stream",
          "name": "stderr",
          "text": [
            "Epoch 4 Loss=0.0615 Acc=97.89: 100%|██████████| 469/469 [00:25<00:00, 18.15it/s]\n"
          ]
        },
        {
          "output_type": "stream",
          "name": "stdout",
          "text": [
            "\n",
            "Test set: Average loss: 0.0369, Accuracy: 9888/10000 (98.88%)\n",
            "\n"
          ]
        },
        {
          "output_type": "stream",
          "name": "stderr",
          "text": [
            "Epoch 5 Loss=0.0852 Acc=98.28: 100%|██████████| 469/469 [00:27<00:00, 17.37it/s]\n"
          ]
        },
        {
          "output_type": "stream",
          "name": "stdout",
          "text": [
            "\n",
            "Test set: Average loss: 0.0347, Accuracy: 9888/10000 (98.88%)\n",
            "\n"
          ]
        },
        {
          "output_type": "stream",
          "name": "stderr",
          "text": [
            "Epoch 6 Loss=0.0650 Acc=98.42: 100%|██████████| 469/469 [00:26<00:00, 17.41it/s]\n"
          ]
        },
        {
          "output_type": "stream",
          "name": "stdout",
          "text": [
            "\n",
            "Test set: Average loss: 0.0298, Accuracy: 9909/10000 (99.09%)\n",
            "\n"
          ]
        },
        {
          "output_type": "stream",
          "name": "stderr",
          "text": [
            "Epoch 7 Loss=0.1407 Acc=98.57: 100%|██████████| 469/469 [00:26<00:00, 17.94it/s]\n"
          ]
        },
        {
          "output_type": "stream",
          "name": "stdout",
          "text": [
            "\n",
            "Test set: Average loss: 0.0407, Accuracy: 9870/10000 (98.70%)\n",
            "\n"
          ]
        },
        {
          "output_type": "stream",
          "name": "stderr",
          "text": [
            "Epoch 8 Loss=0.0397 Acc=98.60: 100%|██████████| 469/469 [00:26<00:00, 17.88it/s]\n"
          ]
        },
        {
          "output_type": "stream",
          "name": "stdout",
          "text": [
            "\n",
            "Test set: Average loss: 0.0278, Accuracy: 9913/10000 (99.13%)\n",
            "\n"
          ]
        },
        {
          "output_type": "stream",
          "name": "stderr",
          "text": [
            "Epoch 9 Loss=0.0257 Acc=98.73: 100%|██████████| 469/469 [00:26<00:00, 17.75it/s]\n"
          ]
        },
        {
          "output_type": "stream",
          "name": "stdout",
          "text": [
            "\n",
            "Test set: Average loss: 0.0248, Accuracy: 9925/10000 (99.25%)\n",
            "\n"
          ]
        },
        {
          "output_type": "stream",
          "name": "stderr",
          "text": [
            "Epoch 10 Loss=0.0301 Acc=98.77: 100%|██████████| 469/469 [00:25<00:00, 18.36it/s]\n"
          ]
        },
        {
          "output_type": "stream",
          "name": "stdout",
          "text": [
            "\n",
            "Test set: Average loss: 0.0233, Accuracy: 9926/10000 (99.26%)\n",
            "\n"
          ]
        },
        {
          "output_type": "stream",
          "name": "stderr",
          "text": [
            "Epoch 11 Loss=0.0819 Acc=98.83: 100%|██████████| 469/469 [00:25<00:00, 18.14it/s]\n"
          ]
        },
        {
          "output_type": "stream",
          "name": "stdout",
          "text": [
            "\n",
            "Test set: Average loss: 0.0225, Accuracy: 9926/10000 (99.26%)\n",
            "\n"
          ]
        },
        {
          "output_type": "stream",
          "name": "stderr",
          "text": [
            "Epoch 12 Loss=0.0381 Acc=98.89: 100%|██████████| 469/469 [00:25<00:00, 18.23it/s]\n"
          ]
        },
        {
          "output_type": "stream",
          "name": "stdout",
          "text": [
            "\n",
            "Test set: Average loss: 0.0213, Accuracy: 9939/10000 (99.39%)\n",
            "\n"
          ]
        },
        {
          "output_type": "stream",
          "name": "stderr",
          "text": [
            "Epoch 13 Loss=0.0067 Acc=98.97: 100%|██████████| 469/469 [00:25<00:00, 18.25it/s]\n"
          ]
        },
        {
          "output_type": "stream",
          "name": "stdout",
          "text": [
            "\n",
            "Test set: Average loss: 0.0204, Accuracy: 9939/10000 (99.39%)\n",
            "\n"
          ]
        },
        {
          "output_type": "stream",
          "name": "stderr",
          "text": [
            "Epoch 14 Loss=0.0241 Acc=98.94: 100%|██████████| 469/469 [00:25<00:00, 18.29it/s]\n"
          ]
        },
        {
          "output_type": "stream",
          "name": "stdout",
          "text": [
            "\n",
            "Test set: Average loss: 0.0202, Accuracy: 9937/10000 (99.37%)\n",
            "\n"
          ]
        },
        {
          "output_type": "stream",
          "name": "stderr",
          "text": [
            "Epoch 15 Loss=0.0183 Acc=99.06: 100%|██████████| 469/469 [00:26<00:00, 17.97it/s]\n"
          ]
        },
        {
          "output_type": "stream",
          "name": "stdout",
          "text": [
            "\n",
            "Test set: Average loss: 0.0175, Accuracy: 9950/10000 (99.50%)\n",
            "\n",
            "Training completed. Final accuracy: 99.50%\n"
          ]
        }
      ],
      "source": [
        "# Run training\n",
        "final_accuracy = trainer.run()"
      ]
    },
    {
      "cell_type": "markdown",
      "metadata": {
        "id": "NHG9KQn_qcxG"
      },
      "source": [
        "## Training Summary"
      ]
    },
    {
      "cell_type": "code",
      "execution_count": 8,
      "metadata": {
        "id": "gppI-iwTqcxG",
        "outputId": "2563628d-27ce-4921-d2e2-83121a59427f",
        "colab": {
          "base_uri": "https://localhost:8080/"
        }
      },
      "outputs": [
        {
          "output_type": "stream",
          "name": "stdout",
          "text": [
            "\n",
            "============================================================\n",
            "TRAINING COMPLETED\n",
            "============================================================\n",
            "Model: model3\n",
            "Final Test Accuracy: 99.50%\n",
            "============================================================\n"
          ]
        }
      ],
      "source": [
        "print(\"\\n\" + \"=\"*60)\n",
        "print(\"TRAINING COMPLETED\")\n",
        "print(\"=\"*60)\n",
        "print(f\"Model: model3\")\n",
        "print(f\"Final Test Accuracy: {final_accuracy:.2f}%\")\n",
        "print(\"=\"*60)"
      ]
    }
  ],
  "metadata": {
    "kernelspec": {
      "display_name": "Python 3",
      "language": "python",
      "name": "python3"
    },
    "language_info": {
      "codemirror_mode": {
        "name": "ipython",
        "version": 3
      },
      "file_extension": ".py",
      "mimetype": "text/x-python",
      "name": "python",
      "nbconvert_exporter": "python",
      "pygments_lexer": "ipython3",
      "version": "3.8.0"
    },
    "accelerator": "GPU",
    "colab": {
      "provenance": [],
      "include_colab_link": true
    }
  },
  "nbformat": 4,
  "nbformat_minor": 0
}