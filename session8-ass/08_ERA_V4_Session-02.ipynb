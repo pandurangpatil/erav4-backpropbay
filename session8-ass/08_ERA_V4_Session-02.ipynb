{
 "cells": [
  {
   "cell_type": "markdown",
   "metadata": {
    "id": "X4K2eGNpI8ma"
   },
   "source": [
    "# CIFAR-100 Training - Optimized for 74% Accuracy with HuggingFace Integration\n",
    "\n",
    "## Key Improvements:\n",
    "- Fixed data augmentation (proper Cutout implementation)\n",
    "- Cosine annealing scheduler with warmup\n",
    "- Optimized hyperparameters (batch size 256, MixUp alpha 0.2)\n",
    "- Label smoothing (0.1)\n",
    "- Gradient clipping\n",
    "- Mixed precision training\n",
    "- Model checkpointing and early stopping\n",
    "- WideResNet-28-10 (36.5M parameters)\n",
    "- **HuggingFace Hub integration with checkpoint uploads at breakpoints**"
   ]
  },
  {
   "cell_type": "code",
   "execution_count": 1,
   "metadata": {
    "colab": {
     "base_uri": "https://localhost:8080/"
    },
    "id": "E7tyBmvdI8ma",
    "outputId": "e836fc97-8095-4302-efb6-481eaf77dcee"
   },
   "outputs": [
    {
     "output_type": "stream",
     "name": "stdout",
     "text": [
      "Device: cuda\n"
     ]
    }
   ],
   "source": [
    "# Import Libraries\n",
    "import torch\n",
    "import numpy as np\n",
    "from torchvision import datasets, transforms\n",
    "from torch.utils.data import DataLoader\n",
    "import albumentations as A\n",
    "from albumentations.pytorch import ToTensorV2\n",
    "from PIL import Image\n",
    "import torch.optim as optim\n",
    "from torch.optim.lr_scheduler import CosineAnnealingWarmRestarts\n",
    "from tqdm import tqdm\n",
    "import torch.nn.functional as F\n",
    "import torch.nn as nn\n",
    "from torchsummary import summary\n",
    "from torch.cuda.amp import autocast, GradScaler\n",
    "import matplotlib.pyplot as plt\n",
    "import os\n",
    "import json\n",
    "from datetime import datetime\n",
    "\n",
    "# CIFAR-100 Mean and Std\n",
    "cifar100_mean = (0.5071, 0.4865, 0.4409)\n",
    "cifar100_std = (0.2673, 0.2564, 0.2761)\n",
    "\n",
    "# Use GPU if available\n",
    "device = torch.device(\"cuda\" if torch.cuda.is_available() else \"cpu\")\n",
    "print(\"Device:\", device)"
   ]
  },
  {
   "cell_type": "code",
   "execution_count": 2,
   "metadata": {
    "colab": {
     "base_uri": "https://localhost:8080/"
    },
    "id": "CPs7VftdI8mb",
    "outputId": "d350b4f8-bc19-4c83-8a3b-8bb55768f306"
   },
   "outputs": [
    {
     "output_type": "stream",
     "name": "stdout",
     "text": [
      "\u2713 HuggingFace token retrieved from Colab secrets\n",
      "Warning: Could not create repository: 'HfApi' object has no attribute 'set_access_token'\n"
     ]
    }
   ],
   "source": [
    "# HuggingFace Setup - Get token from Colab secrets\n",
    "try:\n",
    "    from google.colab import userdata\n",
    "    HF_TOKEN = userdata.get('HF_TOKEN')\n",
    "    print(\"\u2713 HuggingFace token retrieved from Colab secrets\")\n",
    "except Exception as e:\n",
    "    print(f\"Warning: Could not retrieve HF_TOKEN from secrets: {e}\")\n",
    "    print(\"Please add HF_TOKEN to Colab secrets for model upload\")\n",
    "    HF_TOKEN = None\n",
    "\n",
    "# Install huggingface_hub if needed\n",
    "try:\n",
    "    from huggingface_hub import HfApi, create_repo, upload_file\n",
    "except ImportError:\n",
    "    !pip install -q huggingface_hub\n",
    "    from huggingface_hub import HfApi, create_repo, upload_file\n",
    "\n",
    "# Configure HuggingFace repository\n",
    "REPO_ID = 'pandurangpatil/cifar100-wideresnet-session8'\n",
    "api = HfApi()\n",
    "\n",
    "# Login and create repository\n",
    "if HF_TOKEN:\n",
    "    try:\n",
    "        api.set_access_token(HF_TOKEN)\n",
    "        create_repo(repo_id=REPO_ID, repo_type=\"model\", exist_ok=True, token=HF_TOKEN)\n",
    "        print(f\"\u2713 Repository ready: https://huggingface.co/{REPO_ID}\")\n",
    "    except Exception as e:\n",
    "        print(f\"Warning: Could not create repository: {e}\")\n",
    "else:\n",
    "    print(\"\u26a0 HuggingFace upload will be skipped (no token available)\")"
   ]
  },
  {
   "cell_type": "code",
   "execution_count": 3,
   "metadata": {
    "colab": {
     "base_uri": "https://localhost:8080/"
    },
    "id": "tgTT4EiCI8mb",
    "outputId": "57009d2d-01f3-4309-96b7-81ddfe0b6130"
   },
   "outputs": [
    {
     "output_type": "stream",
     "name": "stderr",
     "text": [
      "/usr/local/lib/python3.12/dist-packages/albumentations/core/validation.py:114: UserWarning: ShiftScaleRotate is a special case of Affine transform. Please use Affine transform instead.\n",
      "  original_init(self, **validated_kwargs)\n",
      "/tmp/ipython-input-3644917854.py:7: UserWarning: Argument(s) 'max_holes, max_height, max_width, fill_value' are not valid for transform CoarseDropout\n",
      "  A.CoarseDropout(max_holes=1, max_height=8, max_width=8, p=0.5, fill_value=0),  # Cutout\n",
      "100%|\u2588\u2588\u2588\u2588\u2588\u2588\u2588\u2588\u2588\u2588| 169M/169M [00:03<00:00, 42.3MB/s]\n",
      "/usr/local/lib/python3.12/dist-packages/torch/utils/data/dataloader.py:627: UserWarning: This DataLoader will create 4 worker processes in total. Our suggested max number of worker in current system is 2, which is smaller than what this DataLoader is going to create. Please be aware that excessive worker creation might get DataLoader running slow or even freeze, lower the worker number to avoid potential slowness/freeze if necessary.\n",
      "  warnings.warn(\n"
     ]
    },
    {
     "output_type": "stream",
     "name": "stdout",
     "text": [
      "Training batches: 196, Test batches: 40\n"
     ]
    }
   ],
   "source": [
    "# Improved Data Augmentation\n",
    "class ImprovedAlbumentationsTransforms:\n",
    "    def __init__(self, mean, std):\n",
    "        self.aug = A.Compose([\n",
    "            A.HorizontalFlip(p=0.5),\n",
    "            A.ShiftScaleRotate(shift_limit=0.0625, scale_limit=0.1, rotate_limit=15, p=0.5),\n",
    "            A.CoarseDropout(max_holes=1, max_height=8, max_width=8, p=0.5, fill_value=0),  # Cutout\n",
    "            A.RandomBrightnessContrast(brightness_limit=0.2, contrast_limit=0.2, p=0.3),\n",
    "            A.HueSaturationValue(hue_shift_limit=10, sat_shift_limit=20, val_shift_limit=10, p=0.3),\n",
    "            A.Normalize(mean=mean, std=std),\n",
    "            ToTensorV2()\n",
    "        ])\n",
    "\n",
    "    def __call__(self, img):\n",
    "        image = np.array(img)\n",
    "        return self.aug(image=image)[\"image\"]\n",
    "\n",
    "# Instantiate transforms\n",
    "train_transforms = ImprovedAlbumentationsTransforms(mean=cifar100_mean, std=cifar100_std)\n",
    "\n",
    "test_transforms = transforms.Compose([\n",
    "    transforms.ToTensor(),\n",
    "    transforms.Normalize(mean=cifar100_mean, std=cifar100_std)\n",
    "])\n",
    "\n",
    "# CIFAR-100 Dataset with increased batch size\n",
    "train_dataset = datasets.CIFAR100(root='./data', train=True, download=True, transform=train_transforms)\n",
    "test_dataset = datasets.CIFAR100(root='./data', train=False, download=True, transform=test_transforms)\n",
    "\n",
    "# DataLoaders with batch size 256\n",
    "BATCH_SIZE = 256\n",
    "train_loader = DataLoader(train_dataset, batch_size=BATCH_SIZE, shuffle=True, num_workers=4, pin_memory=True)\n",
    "test_loader = DataLoader(test_dataset, batch_size=BATCH_SIZE, shuffle=False, num_workers=4, pin_memory=True)\n",
    "\n",
    "cifar100_classes = datasets.CIFAR100(root='./data', train=False).classes\n",
    "print(f\"Training batches: {len(train_loader)}, Test batches: {len(test_loader)}\")"
   ]
  },
  {
   "cell_type": "code",
   "execution_count": 4,
   "metadata": {
    "colab": {
     "base_uri": "https://localhost:8080/",
     "height": 807
    },
    "id": "hqFCupzlI8mb",
    "outputId": "f6a1c917-2835-4066-98ef-22c83bf8767f"
   },
   "outputs": [
    {
     "output_type": "display_data",
     "data": {
      "text/plain": [
       "<Figure size 1200x800 with 12 Axes>"
      ],
      "image/png": "[encoded data removed]"
     },
     "metadata": {}
    }
   ],
   "source": [
    "# Visualize augmented samples\n",
    "import matplotlib.pyplot as plt\n",
    "import numpy as np\n",
    "\n",
    "batch_data, batch_label = next(iter(train_loader))\n",
    "batch_data = batch_data.cpu().detach()\n",
    "\n",
    "fig = plt.figure(figsize=(12, 8))\n",
    "for i in range(12):\n",
    "    img = batch_data[i].numpy().transpose((1, 2, 0))\n",
    "    # Denormalize\n",
    "    img = img * np.array(cifar100_std) + np.array(cifar100_mean)\n",
    "    img = np.clip(img, 0, 1)\n",
    "\n",
    "    plt.subplot(3, 4, i + 1)\n",
    "    plt.imshow(img)\n",
    "    plt.title(f\"Class: {cifar100_classes[batch_label[i]]}\")\n",
    "    plt.axis('off')\n",
    "\n",
    "plt.tight_layout()\n",
    "plt.savefig('sample_augmentations.png', dpi=150, bbox_inches='tight')\n",
    "plt.show()"
   ]
  },
  {
   "cell_type": "code",
   "execution_count": 5,
   "metadata": {
    "id": "MXG7KkX9I8mb"
   },
   "outputs": [],
   "source": [
    "# WideResNet Architecture\n",
    "class BasicBlock(nn.Module):\n",
    "    def __init__(self, in_planes, out_planes, stride, dropRate=0.0):\n",
    "        super(BasicBlock, self).__init__()\n",
    "        self.equalInOut = in_planes == out_planes\n",
    "        self.conv1 = nn.Conv2d(in_planes, out_planes, kernel_size=3, stride=stride,\n",
    "                               padding=1, bias=False)\n",
    "        self.bn1 = nn.BatchNorm2d(in_planes)\n",
    "        self.relu1 = nn.ReLU(inplace=True)\n",
    "        self.conv2 = nn.Conv2d(out_planes, out_planes, kernel_size=3, stride=1,\n",
    "                               padding=1, bias=False)\n",
    "        self.bn2 = nn.BatchNorm2d(out_planes)\n",
    "        self.relu2 = nn.ReLU(inplace=True)\n",
    "        self.dropRate = dropRate\n",
    "        self.shortcut = (not self.equalInOut) and nn.Conv2d(in_planes, out_planes, 1, stride=stride, bias=False) or None\n",
    "\n",
    "    def forward(self, x):\n",
    "        if not self.equalInOut:\n",
    "            x = self.relu1(self.bn1(x))\n",
    "        else:\n",
    "            out = self.relu1(self.bn1(x))\n",
    "        out = self.conv1(out if self.equalInOut else x)\n",
    "        out = self.relu2(self.bn2(out))\n",
    "        if self.dropRate > 0:\n",
    "            out = F.dropout(out, p=self.dropRate, training=self.training)\n",
    "        out = self.conv2(out)\n",
    "        return out + (x if self.equalInOut else self.shortcut(x))\n",
    "\n",
    "\n",
    "class NetworkBlock(nn.Module):\n",
    "    def __init__(self, nb_layers, in_planes, out_planes, block, stride, dropRate=0.0):\n",
    "        super(NetworkBlock, self).__init__()\n",
    "        self.layer = self._make_layer(block, in_planes, out_planes, nb_layers, stride, dropRate)\n",
    "\n",
    "    def _make_layer(self, block, in_planes, out_planes, nb_layers, stride, dropRate):\n",
    "        layers = []\n",
    "        for i in range(nb_layers):\n",
    "            layers.append(block(i == 0 and in_planes or out_planes, out_planes,\n",
    "                                i == 0 and stride or 1, dropRate))\n",
    "        return nn.Sequential(*layers)\n",
    "\n",
    "    def forward(self, x):\n",
    "        return self.layer(x)\n",
    "\n",
    "\n",
    "class WideResNet(nn.Module):\n",
    "    def __init__(self, depth=28, num_classes=100, widen_factor=10, dropRate=0.3):\n",
    "        super(WideResNet, self).__init__()\n",
    "        nChannels = [16, 16*widen_factor, 32*widen_factor, 64*widen_factor]\n",
    "        assert ((depth - 4) % 6 == 0)\n",
    "        n = (depth - 4) // 6\n",
    "        block = BasicBlock\n",
    "        self.conv1 = nn.Conv2d(3, nChannels[0], kernel_size=3, stride=1,\n",
    "                               padding=1, bias=False)\n",
    "        self.block1 = NetworkBlock(n, nChannels[0], nChannels[1], block, 1, dropRate)\n",
    "        self.block2 = NetworkBlock(n, nChannels[1], nChannels[2], block, 2, dropRate)\n",
    "        self.block3 = NetworkBlock(n, nChannels[2], nChannels[3], block, 2, dropRate)\n",
    "        self.bn1 = nn.BatchNorm2d(nChannels[3])\n",
    "        self.relu = nn.ReLU(inplace=True)\n",
    "        self.fc = nn.Linear(nChannels[3], num_classes)\n",
    "        self.nChannels = nChannels[3]\n",
    "\n",
    "        for m in self.modules():\n",
    "            if isinstance(m, nn.Conv2d):\n",
    "                nn.init.kaiming_normal_(m.weight, mode='fan_out')\n",
    "            elif isinstance(m, nn.BatchNorm2d):\n",
    "                nn.init.constant_(m.weight, 1)\n",
    "                nn.init.constant_(m.bias, 0)\n",
    "            elif isinstance(m, nn.Linear):\n",
    "                nn.init.xavier_uniform_(m.weight)\n",
    "                nn.init.constant_(m.bias, 0)\n",
    "\n",
    "    def forward(self, x):\n",
    "        out = self.conv1(x)\n",
    "        out = self.block1(out)\n",
    "        out = self.block2(out)\n",
    "        out = self.block3(out)\n",
    "        out = self.relu(self.bn1(out))\n",
    "        out = F.adaptive_avg_pool2d(out, 1)\n",
    "        out = out.view(-1, self.nChannels)\n",
    "        return self.fc(out)"
   ]
  },
  {
   "cell_type": "code",
   "execution_count": 6,
   "metadata": {
    "colab": {
     "base_uri": "https://localhost:8080/"
    },
    "id": "f8FMWkcqI8mc",
    "outputId": "15185aa6-aa32-42b5-ffd3-b2148451e83b"
   },
   "outputs": [
    {
     "output_type": "stream",
     "name": "stdout",
     "text": [
      "----------------------------------------------------------------\n",
      "        Layer (type)               Output Shape         Param #\n",
      "================================================================\n",
      "            Conv2d-1           [-1, 16, 32, 32]             432\n",
      "       BatchNorm2d-2           [-1, 16, 32, 32]              32\n",
      "              ReLU-3           [-1, 16, 32, 32]               0\n",
      "            Conv2d-4          [-1, 160, 32, 32]          23,040\n",
      "       BatchNorm2d-5          [-1, 160, 32, 32]             320\n",
      "              ReLU-6          [-1, 160, 32, 32]               0\n",
      "            Conv2d-7          [-1, 160, 32, 32]         230,400\n",
      "            Conv2d-8          [-1, 160, 32, 32]           2,560\n",
      "        BasicBlock-9          [-1, 160, 32, 32]               0\n",
      "      BatchNorm2d-10          [-1, 160, 32, 32]             320\n",
      "             ReLU-11          [-1, 160, 32, 32]               0\n",
      "           Conv2d-12          [-1, 160, 32, 32]         230,400\n",
      "      BatchNorm2d-13          [-1, 160, 32, 32]             320\n",
      "             ReLU-14          [-1, 160, 32, 32]               0\n",
      "           Conv2d-15          [-1, 160, 32, 32]         230,400\n",
      "       BasicBlock-16          [-1, 160, 32, 32]               0\n",
      "      BatchNorm2d-17          [-1, 160, 32, 32]             320\n",
      "             ReLU-18          [-1, 160, 32, 32]               0\n",
      "           Conv2d-19          [-1, 160, 32, 32]         230,400\n",
      "      BatchNorm2d-20          [-1, 160, 32, 32]             320\n",
      "             ReLU-21          [-1, 160, 32, 32]               0\n",
      "           Conv2d-22          [-1, 160, 32, 32]         230,400\n",
      "       BasicBlock-23          [-1, 160, 32, 32]               0\n",
      "      BatchNorm2d-24          [-1, 160, 32, 32]             320\n",
      "             ReLU-25          [-1, 160, 32, 32]               0\n",
      "           Conv2d-26          [-1, 160, 32, 32]         230,400\n",
      "      BatchNorm2d-27          [-1, 160, 32, 32]             320\n",
      "             ReLU-28          [-1, 160, 32, 32]               0\n",
      "           Conv2d-29          [-1, 160, 32, 32]         230,400\n",
      "       BasicBlock-30          [-1, 160, 32, 32]               0\n",
      "     NetworkBlock-31          [-1, 160, 32, 32]               0\n",
      "      BatchNorm2d-32          [-1, 160, 32, 32]             320\n",
      "             ReLU-33          [-1, 160, 32, 32]               0\n",
      "           Conv2d-34          [-1, 320, 16, 16]         460,800\n",
      "      BatchNorm2d-35          [-1, 320, 16, 16]             640\n",
      "             ReLU-36          [-1, 320, 16, 16]               0\n",
      "           Conv2d-37          [-1, 320, 16, 16]         921,600\n",
      "           Conv2d-38          [-1, 320, 16, 16]          51,200\n",
      "       BasicBlock-39          [-1, 320, 16, 16]               0\n",
      "      BatchNorm2d-40          [-1, 320, 16, 16]             640\n",
      "             ReLU-41          [-1, 320, 16, 16]               0\n",
      "           Conv2d-42          [-1, 320, 16, 16]         921,600\n",
      "      BatchNorm2d-43          [-1, 320, 16, 16]             640\n",
      "             ReLU-44          [-1, 320, 16, 16]               0\n",
      "           Conv2d-45          [-1, 320, 16, 16]         921,600\n",
      "       BasicBlock-46          [-1, 320, 16, 16]               0\n",
      "      BatchNorm2d-47          [-1, 320, 16, 16]             640\n",
      "             ReLU-48          [-1, 320, 16, 16]               0\n",
      "           Conv2d-49          [-1, 320, 16, 16]         921,600\n",
      "      BatchNorm2d-50          [-1, 320, 16, 16]             640\n",
      "             ReLU-51          [-1, 320, 16, 16]               0\n",
      "           Conv2d-52          [-1, 320, 16, 16]         921,600\n",
      "       BasicBlock-53          [-1, 320, 16, 16]               0\n",
      "      BatchNorm2d-54          [-1, 320, 16, 16]             640\n",
      "             ReLU-55          [-1, 320, 16, 16]               0\n",
      "           Conv2d-56          [-1, 320, 16, 16]         921,600\n",
      "      BatchNorm2d-57          [-1, 320, 16, 16]             640\n",
      "             ReLU-58          [-1, 320, 16, 16]               0\n",
      "           Conv2d-59          [-1, 320, 16, 16]         921,600\n",
      "       BasicBlock-60          [-1, 320, 16, 16]               0\n",
      "     NetworkBlock-61          [-1, 320, 16, 16]               0\n",
      "      BatchNorm2d-62          [-1, 320, 16, 16]             640\n",
      "             ReLU-63          [-1, 320, 16, 16]               0\n",
      "           Conv2d-64            [-1, 640, 8, 8]       1,843,200\n",
      "      BatchNorm2d-65            [-1, 640, 8, 8]           1,280\n",
      "             ReLU-66            [-1, 640, 8, 8]               0\n",
      "           Conv2d-67            [-1, 640, 8, 8]       3,686,400\n",
      "           Conv2d-68            [-1, 640, 8, 8]         204,800\n",
      "       BasicBlock-69            [-1, 640, 8, 8]               0\n",
      "      BatchNorm2d-70            [-1, 640, 8, 8]           1,280\n",
      "             ReLU-71            [-1, 640, 8, 8]               0\n",
      "           Conv2d-72            [-1, 640, 8, 8]       3,686,400\n",
      "      BatchNorm2d-73            [-1, 640, 8, 8]           1,280\n",
      "             ReLU-74            [-1, 640, 8, 8]               0\n",
      "           Conv2d-75            [-1, 640, 8, 8]       3,686,400\n",
      "       BasicBlock-76            [-1, 640, 8, 8]               0\n",
      "      BatchNorm2d-77            [-1, 640, 8, 8]           1,280\n",
      "             ReLU-78            [-1, 640, 8, 8]               0\n",
      "           Conv2d-79            [-1, 640, 8, 8]       3,686,400\n",
      "      BatchNorm2d-80            [-1, 640, 8, 8]           1,280\n",
      "             ReLU-81            [-1, 640, 8, 8]               0\n",
      "           Conv2d-82            [-1, 640, 8, 8]       3,686,400\n",
      "       BasicBlock-83            [-1, 640, 8, 8]               0\n",
      "      BatchNorm2d-84            [-1, 640, 8, 8]           1,280\n",
      "             ReLU-85            [-1, 640, 8, 8]               0\n",
      "           Conv2d-86            [-1, 640, 8, 8]       3,686,400\n",
      "      BatchNorm2d-87            [-1, 640, 8, 8]           1,280\n",
      "             ReLU-88            [-1, 640, 8, 8]               0\n",
      "           Conv2d-89            [-1, 640, 8, 8]       3,686,400\n",
      "       BasicBlock-90            [-1, 640, 8, 8]               0\n",
      "     NetworkBlock-91            [-1, 640, 8, 8]               0\n",
      "      BatchNorm2d-92            [-1, 640, 8, 8]           1,280\n",
      "             ReLU-93            [-1, 640, 8, 8]               0\n",
      "           Linear-94                  [-1, 100]          64,100\n",
      "================================================================\n",
      "Total params: 36,536,884\n",
      "Trainable params: 36,536,884\n",
      "Non-trainable params: 0\n",
      "----------------------------------------------------------------\n",
      "Input size (MB): 0.01\n",
      "Forward/backward pass size (MB): 66.00\n",
      "Params size (MB): 139.38\n",
      "Estimated Total Size (MB): 205.39\n",
      "----------------------------------------------------------------\n"
     ]
    }
   ],
   "source": [
    "# Initialize model\n",
    "model = WideResNet(depth=28, widen_factor=10, dropRate=0.3, num_classes=100).to(device)\n",
    "summary(model, input_size=(3, 32, 32))"
   ]
  },
  {
   "cell_type": "code",
   "execution_count": 7,
   "metadata": {
    "id": "WEQ3rHj-I8mc"
   },
   "outputs": [],
   "source": [
    "# MixUp function\n",
    "def mixup_data(x, y, alpha=0.2, device='cuda'):\n",
    "    '''Returns mixed inputs, pairs of targets, and lambda'''\n",
    "    if alpha > 0:\n",
    "        lam = np.random.beta(alpha, alpha)\n",
    "    else:\n",
    "        lam = 1.0\n",
    "    batch_size = x.size(0)\n",
    "    index = torch.randperm(batch_size).to(device)\n",
    "\n",
    "    mixed_x = lam * x + (1 - lam) * x[index, :]\n",
    "    y_a, y_b = y, y[index]\n",
    "    return mixed_x, y_a, y_b, lam"
   ]
  },
  {
   "cell_type": "code",
   "execution_count": 8,
   "metadata": {
    "id": "DGD_P72BI8mc"
   },
   "outputs": [],
   "source": [
    "# Learning Rate Warmup Scheduler\n",
    "class WarmupScheduler:\n",
    "    def __init__(self, optimizer, warmup_epochs, initial_lr, target_lr, steps_per_epoch):\n",
    "        self.optimizer = optimizer\n",
    "        self.warmup_steps = warmup_epochs * steps_per_epoch\n",
    "        self.initial_lr = initial_lr\n",
    "        self.target_lr = target_lr\n",
    "        self.current_step = 0\n",
    "\n",
    "    def step(self):\n",
    "        if self.current_step < self.warmup_steps:\n",
    "            lr = self.initial_lr + (self.target_lr - self.initial_lr) * self.current_step / self.warmup_steps\n",
    "            for param_group in self.optimizer.param_groups:\n",
    "                param_group['lr'] = lr\n",
    "        self.current_step += 1\n",
    "\n",
    "    def is_warmup(self):\n",
    "        return self.current_step < self.warmup_steps"
   ]
  },
  {
   "cell_type": "code",
   "execution_count": 9,
   "metadata": {
    "id": "B2k81XmgI8mc"
   },
   "outputs": [],
   "source": [
    "# HuggingFace Upload Functions\n",
    "def upload_to_huggingface(file_path, path_in_repo, repo_id=REPO_ID, commit_message=\"Upload checkpoint\"):\n",
    "    \"\"\"Upload a file to HuggingFace Hub\"\"\"\n",
    "    if not HF_TOKEN:\n",
    "        print(\"\u26a0 Skipping upload (no HF token)\")\n",
    "        return\n",
    "\n",
    "    try:\n",
    "        api.upload_file(\n",
    "            path_or_fileobj=file_path,\n",
    "            path_in_repo=path_in_repo,\n",
    "            repo_id=repo_id,\n",
    "            repo_type=\"model\",\n",
    "            token=HF_TOKEN,\n",
    "            commit_message=commit_message\n",
    "        )\n",
    "        print(f\"\u2713 Uploaded: {path_in_repo}\")\n",
    "    except Exception as e:\n",
    "        print(f\"\u2717 Upload failed for {path_in_repo}: {e}\")\n",
    "\n",
    "def save_and_upload_checkpoint(model, optimizer, epoch, train_acc, test_acc, train_loss, test_loss,\n",
    "                                checkpoint_dir, checkpoint_name, is_best=False):\n",
    "    \"\"\"Save checkpoint locally and upload to HuggingFace\"\"\"\n",
    "    checkpoint_path = os.path.join(checkpoint_dir, checkpoint_name)\n",
    "\n",
    "    # Save checkpoint with metadata\n",
    "    checkpoint = {\n",
    "        'epoch': epoch,\n",
    "        'model_state_dict': model.state_dict(),\n",
    "        'optimizer_state_dict': optimizer.state_dict(),\n",
    "        'train_accuracy': train_acc,\n",
    "        'test_accuracy': test_acc,\n",
    "        'train_loss': train_loss,\n",
    "        'test_loss': test_loss,\n",
    "        'timestamp': datetime.now().isoformat(),\n",
    "        'config': {\n",
    "            'model': 'WideResNet-28-10',\n",
    "            'batch_size': BATCH_SIZE,\n",
    "            'mixup_alpha': 0.2,\n",
    "            'label_smoothing': 0.1,\n",
    "            'weight_decay': 1e-3,\n",
    "            'dropout': 0.3\n",
    "        }\n",
    "    }\n",
    "\n",
    "    torch.save(checkpoint, checkpoint_path)\n",
    "\n",
    "    # Upload to HuggingFace\n",
    "    commit_msg = f\"Epoch {epoch}: Test Acc {test_acc:.2f}%\"\n",
    "    if is_best:\n",
    "        commit_msg = f\"New best model! \" + commit_msg\n",
    "\n",
    "    upload_to_huggingface(checkpoint_path, checkpoint_name, commit_message=commit_msg)\n",
    "\n",
    "    return checkpoint_path\n",
    "\n",
    "def create_and_upload_model_card(best_acc, total_epochs, train_accuracies, test_accuracies, checkpoint_dir):\n",
    "    \"\"\"Create and upload README.md model card\"\"\"\n",
    "    model_card = f\"\"\"---\n",
    "tags:\n",
    "- image-classification\n",
    "- cifar100\n",
    "- wideresnet\n",
    "- pytorch\n",
    "datasets:\n",
    "- cifar100\n",
    "metrics:\n",
    "- accuracy\n",
    "---\n",
    "\n",
    "# CIFAR-100 WideResNet-28-10\n",
    "\n",
    "## Model Description\n",
    "\n",
    "WideResNet-28-10 trained on CIFAR-100 dataset with advanced augmentation techniques.\n",
    "\n",
    "### Model Architecture\n",
    "- **Architecture**: WideResNet-28-10\n",
    "- **Parameters**: 36.5M\n",
    "- **Depth**: 28 layers\n",
    "- **Width Factor**: 10\n",
    "- **Dropout**: 0.3\n",
    "\n",
    "### Training Configuration\n",
    "- **Batch Size**: 256\n",
    "- **Optimizer**: SGD (momentum=0.9, weight_decay=1e-3)\n",
    "- **Learning Rate**: Cosine annealing with warmup (0.01\u21920.1, min=1e-4)\n",
    "- **Scheduler**: CosineAnnealingWarmRestarts (T_0=25)\n",
    "- **Augmentation**: HorizontalFlip, ShiftScaleRotate, Cutout, ColorJitter\n",
    "- **MixUp**: Alpha=0.2\n",
    "- **Label Smoothing**: 0.1\n",
    "- **Mixed Precision**: Enabled\n",
    "- **Gradient Clipping**: 1.0\n",
    "\n",
    "### Performance\n",
    "- **Best Test Accuracy**: {best_acc:.2f}%\n",
    "- **Total Epochs Trained**: {total_epochs}\n",
    "- **Final Train Accuracy**: {train_accuracies[-1]:.2f}%\n",
    "- **Final Test Accuracy**: {test_accuracies[-1]:.2f}%\n",
    "\n",
    "### Available Checkpoints\n",
    "- `best_model.pth` - Best performing model\n",
    "- `checkpoint_epoch10.pth` - Epoch 10 checkpoint\n",
    "- `checkpoint_epoch25.pth` - Epoch 25 checkpoint (end of cycle 1)\n",
    "- `checkpoint_epoch50.pth` - Epoch 50 checkpoint (mid-training)\n",
    "- `checkpoint_epoch75.pth` - Epoch 75 checkpoint (late training)\n",
    "- `final_model.pth` - Final epoch model\n",
    "\n",
    "### Usage\n",
    "\n",
    "```python\n",
    "import torch\n",
    "from huggingface_hub import hf_hub_download\n",
    "\n",
    "# Download model\n",
    "checkpoint_path = hf_hub_download(\n",
    "    repo_id=\"{REPO_ID}\",\n",
    "    filename=\"best_model.pth\"\n",
    ")\n",
    "\n",
    "# Load checkpoint\n",
    "checkpoint = torch.load(checkpoint_path, map_location='cpu')\n",
    "\n",
    "# Load model (define WideResNet class first)\n",
    "model = WideResNet(depth=28, widen_factor=10, num_classes=100)\n",
    "model.load_state_dict(checkpoint['model_state_dict'])\n",
    "model.eval()\n",
    "```\n",
    "\n",
    "### Training Details\n",
    "- **Dataset**: CIFAR-100 (50,000 train, 10,000 test)\n",
    "- **Classes**: 100\n",
    "- **Image Size**: 32\u00d732\n",
    "- **Normalization**: mean=(0.5071, 0.4865, 0.4409), std=(0.2673, 0.2564, 0.2761)\n",
    "\n",
    "### Files\n",
    "- `training_curves.png` - Training/test accuracy and loss curves\n",
    "- `metrics.json` - Complete training history\n",
    "- `config.json` - Hyperparameter configuration\n",
    "\n",
    "### License\n",
    "MIT\n",
    "\n",
    "### Citation\n",
    "```bibtex\n",
    "@misc{{wideresnet-cifar100,\n",
    "  author = {{Pandurang Patil}},\n",
    "  title = {{CIFAR-100 WideResNet-28-10}},\n",
    "  year = {{2025}},\n",
    "  publisher = {{HuggingFace}},\n",
    "  url = {{https://huggingface.co/{REPO_ID}}}\n",
    "}}\n",
    "```\n",
    "\"\"\"\n",
    "\n",
    "    # Save README locally\n",
    "    readme_path = os.path.join(checkpoint_dir, 'README.md')\n",
    "    with open(readme_path, 'w') as f:\n",
    "        f.write(model_card)\n",
    "\n",
    "    # Upload to HuggingFace\n",
    "    upload_to_huggingface(readme_path, 'README.md', commit_message=\"Update model card\")\n",
    "    print(\"\u2713 Model card created and uploaded\")"
   ]
  },
  {
   "cell_type": "code",
   "execution_count": 10,
   "metadata": {
    "id": "2FKTYb-ZI8mc"
   },
   "outputs": [],
   "source": [
    "# Training function with mixed precision and gradient clipping\n",
    "def train(model, device, train_loader, optimizer, scheduler, warmup_scheduler, scaler, epoch,\n",
    "          use_mixup=True, mixup_alpha=0.2, label_smoothing=0.1):\n",
    "    model.train()\n",
    "    pbar = tqdm(train_loader)\n",
    "    correct = 0\n",
    "    processed = 0\n",
    "    total_loss = 0\n",
    "\n",
    "    for batch_idx, (data, target) in enumerate(pbar):\n",
    "        data, target = data.to(device), target.to(device)\n",
    "        optimizer.zero_grad()\n",
    "\n",
    "        # Mixed precision training\n",
    "        with autocast():\n",
    "            if use_mixup:\n",
    "                inputs, targets_a, targets_b, lam = mixup_data(data, target, alpha=mixup_alpha, device=device)\n",
    "                outputs = model(inputs)\n",
    "                loss = lam * F.cross_entropy(outputs, targets_a, label_smoothing=label_smoothing) + \\\n",
    "                       (1 - lam) * F.cross_entropy(outputs, targets_b, label_smoothing=label_smoothing)\n",
    "            else:\n",
    "                outputs = model(data)\n",
    "                loss = F.cross_entropy(outputs, target, label_smoothing=label_smoothing)\n",
    "\n",
    "        # Backward pass with gradient scaling\n",
    "        scaler.scale(loss).backward()\n",
    "\n",
    "        # Gradient clipping\n",
    "        scaler.unscale_(optimizer)\n",
    "        torch.nn.utils.clip_grad_norm_(model.parameters(), max_norm=1.0)\n",
    "\n",
    "        scaler.step(optimizer)\n",
    "        scaler.update()\n",
    "\n",
    "        # Update learning rate\n",
    "        if warmup_scheduler.is_warmup():\n",
    "            warmup_scheduler.step()\n",
    "        else:\n",
    "            scheduler.step()\n",
    "\n",
    "        # Accuracy tracking\n",
    "        _, pred = outputs.max(1)\n",
    "        if use_mixup:\n",
    "            correct += lam * pred.eq(targets_a).sum().item() + (1 - lam) * pred.eq(targets_b).sum().item()\n",
    "        else:\n",
    "            correct += pred.eq(target).sum().item()\n",
    "        processed += len(data)\n",
    "        total_loss += loss.item()\n",
    "\n",
    "        current_lr = optimizer.param_groups[0]['lr']\n",
    "        pbar.set_description(f\"Epoch {epoch} Loss={loss.item():.4f} Acc={100*correct/processed:.2f}% LR={current_lr:.6f}\")\n",
    "\n",
    "    avg_loss = total_loss / len(train_loader)\n",
    "    accuracy = 100. * correct / processed\n",
    "    return avg_loss, accuracy\n",
    "\n",
    "\n",
    "def test(model, device, test_loader):\n",
    "    model.eval()\n",
    "    test_loss = 0\n",
    "    correct = 0\n",
    "\n",
    "    with torch.no_grad():\n",
    "        for data, target in test_loader:\n",
    "            data, target = data.to(device), target.to(device)\n",
    "            output = model(data)\n",
    "            test_loss += F.cross_entropy(output, target, reduction='sum').item()\n",
    "            pred = output.argmax(dim=1, keepdim=True)\n",
    "            correct += pred.eq(target.view_as(pred)).sum().item()\n",
    "\n",
    "    test_loss /= len(test_loader.dataset)\n",
    "    accuracy = 100. * correct / len(test_loader.dataset)\n",
    "    print(f\"\\nTest set: Average loss: {test_loss:.4f}, Accuracy: {correct}/{len(test_loader.dataset)} ({accuracy:.2f}%)\\n\")\n",
    "    return test_loss, accuracy"
   ]
  },
  {
   "cell_type": "code",
   "execution_count": 11,
   "metadata": {
    "colab": {
     "base_uri": "https://localhost:8080/"
    },
    "id": "M-RsBRl0I8mc",
    "outputId": "1911dfab-33a3-4454-baaa-e1ab6e847291"
   },
   "outputs": [
    {
     "output_type": "stream",
     "name": "stdout",
     "text": [
      "======================================================================\n",
      "Training Configuration:\n",
      "======================================================================\n",
      "Model: WideResNet-28-10 (36.5M parameters)\n",
      "Batch Size: 256\n",
      "MixUp Alpha: 0.2\n",
      "Label Smoothing: 0.1\n",
      "Weight Decay: 1e-3\n",
      "Gradient Clipping: 1.0\n",
      "Scheduler: CosineAnnealingWarmRestarts\n",
      "Warmup: 5 epochs (0.01 -> 0.1)\n",
      "Mixed Precision: Enabled\n",
      "HuggingFace Upload: Enabled\n",
      "======================================================================\n"
     ]
    },
    {
     "output_type": "stream",
     "name": "stderr",
     "text": [
      "/tmp/ipython-input-3987618151.py:33: FutureWarning: `torch.cuda.amp.GradScaler(args...)` is deprecated. Please use `torch.amp.GradScaler('cuda', args...)` instead.\n",
      "  scaler = GradScaler()\n"
     ]
    }
   ],
   "source": [
    "# Training Configuration\n",
    "print(\"=\" * 70)\n",
    "print(\"Training Configuration:\")\n",
    "print(\"=\" * 70)\n",
    "print(f\"Model: WideResNet-28-10 (36.5M parameters)\")\n",
    "print(f\"Batch Size: {BATCH_SIZE}\")\n",
    "print(f\"MixUp Alpha: 0.2\")\n",
    "print(f\"Label Smoothing: 0.1\")\n",
    "print(f\"Weight Decay: 1e-3\")\n",
    "print(f\"Gradient Clipping: 1.0\")\n",
    "print(f\"Scheduler: CosineAnnealingWarmRestarts\")\n",
    "print(f\"Warmup: 5 epochs (0.01 -> 0.1)\")\n",
    "print(f\"Mixed Precision: Enabled\")\n",
    "print(f\"HuggingFace Upload: {'Enabled' if HF_TOKEN else 'Disabled'}\")\n",
    "print(\"=\" * 70)\n",
    "\n",
    "# Optimizer and Scheduler\n",
    "EPOCHS = 100\n",
    "WARMUP_EPOCHS = 5\n",
    "INITIAL_LR = 0.01\n",
    "MAX_LR = 0.1\n",
    "MIN_LR = 1e-4\n",
    "\n",
    "optimizer = optim.SGD(model.parameters(), lr=INITIAL_LR, momentum=0.9, weight_decay=1e-3)\n",
    "\n",
    "# Cosine annealing with warm restarts (T_0 = 25 epochs per cycle)\n",
    "scheduler = CosineAnnealingWarmRestarts(optimizer, T_0=25, T_mult=1, eta_min=MIN_LR)\n",
    "\n",
    "# Warmup scheduler\n",
    "warmup_scheduler = WarmupScheduler(optimizer, WARMUP_EPOCHS, INITIAL_LR, MAX_LR, len(train_loader))\n",
    "\n",
    "# Gradient scaler for mixed precision\n",
    "scaler = GradScaler()\n",
    "\n",
    "# Tracking variables\n",
    "train_losses = []\n",
    "test_losses = []\n",
    "train_accuracies = []\n",
    "test_accuracies = []\n",
    "learning_rates = []\n",
    "\n",
    "# Early stopping and checkpointing\n",
    "best_test_acc = 0.0\n",
    "patience = 15\n",
    "patience_counter = 0\n",
    "checkpoint_dir = './checkpoints'\n",
    "os.makedirs(checkpoint_dir, exist_ok=True)\n",
    "\n",
    "# Define checkpoint breakpoints\n",
    "CHECKPOINT_EPOCHS = [10, 20, 25, 30, 40, 50, 60, 75, 90]"
   ]
  },
  {
   "cell_type": "code",
   "execution_count": 12,
   "metadata": {
    "colab": {
     "base_uri": "https://localhost:8080/",
     "height": 1000,
     "referenced_widgets": [
      "b82615bed23e41afa0e5ba82843f6417",
      "9fd8b3873df4414699fc36ce902fd549",
      "234e3c86afce471e8cf70d7af9db5f10",
      "17ed71e457614848ad0efd227f7ddae2",
      "5556be1aba214032a696b26a5558ae52",
      "6c9b4150d3af4de486f485419fba1ae2",
      "c464238024904a07894aaf01a9e353dc",
      "a9ce66d2f8544cb48d2457e66bf13821",
      "6abac4fac08a4ebc906a6b7915d4d773",
      "9cd39286266a4990a5290ce3d43b626a",
      "d3f7e37c5298482a9340c7193ef0c6e5",
      "91bec7a859bf40429d32a140c49a70a9",
      "4856d157e3e847b087f9ffcc993b76db",
      "b82a3e28fa8849d09761987209d9fe46",
      "29a57307e8a64975a378e59802bb4ce3",
      "d63c8ae23dcb4bc190bdb9706fa3def2",
      "df2538b787844b15a212970b6a024235",
      "148b8902b3854c0a8423d9a8bbbb91d0",
      "db1a0bf5c38148738b598da4d36e139e",
      "f56e7ce2b6bd4841b7918e7660c592d3",
      "08789a3b666d402f83df1d74dc8b93e8",
      "0bea019e560f4e9db1641bdc0dfead83",
      "ff960726d981405e8c8df775dd4e8509",
      "5d4ca95ded1243359ee8262721ba5844",
      "b89d5559eaf640d8aff64eb415ddd81f",
      "f648689465eb4cc78c519fef088c918a",
      "e9bac774d0b24685a46723fb3712e991",
      "72af84fe84164be3a1d14c25140a067a",
      "ee89c9afa5124d028bf226aa490cde5c",
      "45606c0f51cc4c66b7f755e27982117c",
      "33a52fd31dac4059af431b5b70605ed6",
      "625b812240004010b2234535723e56ad",
      "8daa71dc68754a75abe70d7a7c587857",
      "5d29a5d798094d63aa3a7c19bd4889a6",
      "3f93587952b647d1b7c7de444af019bd",
      "c8d07df5b6294fec930987ba0f3e6736",
      "9fa25e45aace4e2988d30f6e6898b75e",
      "f19f24ebe70c429e87bd738bbe0dc9e5",
      "9c9d1709229f48719f788229ee0e29b6",
      "20e3d5a25bf94bca87a004d3b118c9ee",
      "f5623b2e41f94ae393a269eb9acd0163",
      "08f8e62ea9e742f7b5be4dd664e720df",
      "fbfc2abf1a834da9bfac73e27389dade",
      "b1b3a0a1b5234ba6a34b52276a602315",
      "c4b731523d094daaa6cdc64e3416cd8e",
      "f422b7e674394542b6bb57af5c427239",
      "645f0dba9b0f469281c7afe258cb4f0d",
      "a1c566c451f244b18faa9d3c3a1479ce",
      "d59737b3760f438f9a5386f07a956da7",
      "e6df87cafd1a4f3f88680ab21e4b9743",
      "10cff5e37fb84968a7dbd278e1c2c7b9",
      "3d0278acaaef4e909d9533e618b55ea7",
      "8e4a4b04f343463e8493329dd23004a4",
      "8878dc3c3a5f4e7eaa95186bd17105ad",
      "058eab8922cb44b8811b5501adc13b4f",
      "a1b22c8683964d36820cfd80dd28312d",
      "334d98723bb64756bf8508debdb089bb",
      "e60b9cd7db4e4df4b05f642023e80c8f",
      "470e7fdc90a84fabaabb0208652e1695",
      "c1db53d01c26495c900e097ad54e6a01",
      "a63243f73c064703b1cba6e962cc0f39",
      "ee7407624dda4aa79813f1ebc920a62e",
      "f87c31bee80c4d1188eed40524eda2b8",
      "3ea57d1948614eaeb84c40fd94d61f54",
      "3b9b90f216cd46fb9a2e9e6b01d95379",
      "f3a6cc75271346e6ad77137ce9189815",
      "d4cf754258f54210bf72f9cec1965700",
      "162da8546723456b87feaf043fc6303f",
      "fb693834f6b5494d97de2acbd4ac6885",
      "74a0dec4abbb431598885858f482b84d",
      "ee79783b15e946879b901c8d5901d384",
      "051c865e9bed4dc1bd1ad2cb20f95e7d",
      "79bb557524cf41d585ee0eba456cbef7",
      "367b938af0d74e9db38f82aad23a453f",
      "e8290571fa1e42a18075f6b6f6019693",
      "46e6cc89ad9f439e8542eef360707094",
      "258c84243aa24924bee666be47cd7cea",
      "c5b5496814424fd48a8c47e7b3258a78",
      "6cb8b46f2aea4944bab101a77744b281",
      "eee062c4ba3246348fb5f9c66121c3eb",
      "07074ab8dffe4e0aa7b5c09f807b48e1",
      "3190496b0ab3471e81cf273eb504a253",
      "6c78d927f5f640899c744a6731d4e774",
      "e57a7ee6aa554910aec085b5834802b5",
      "4b30a220cc8940b9ba21c69192cfba1f",
      "a923b4aae5a44bccaf43d9024d1e8ae5",
      "c5197187f69848c4a140e2bf45805000",
      "93837bf4fd7b45d4a0c27fe42e8e3303",
      "45722fb9750b4b25b285ce911ec16958",
      "f8da8d5f1bc445d2825f0bb4d0727641",
      "bdf2a4a35b96408b8d90ad4c22dc18d5",
      "c5361bc15b1f49a0b9a5b533057dcb32",
      "e7b0b53374784c09b5678c9619a85c96",
      "97568a09f83b4dfea47b0f30403f9a96",
      "6d1e44afd0bf4f59a4bceadb3166442a",
      "f3aa3516a228489dac7a672b6c5c9a32",
      "c3247af669634df68aef76fb630bbc52",
      "4e7c76d8f2fb4b40bc7bfcfd836cfc5a",
      "27f15030a9ae4007b318ab75fa967aa3",
      "af78a1bffc4642399a3ac777019663f6",
      "d15f06b1455f4bb681303c3c8436b0d8",
      "b2d2b0ef41b04a0084816135094de27e",
      "79a801ad29a44d83bad837deb69aa4f4",
      "3622e54b7ece4fbabe6ef5304708d196",
      "0233c5177d264aac8f20493789cf15ca",
      "e98774f881974d6e93a13061ede3a962",
      "e0e26245249942afa538345715e9790b",
      "5d97f6800723471ca41d9a290d23d406",
      "af927d0f6b424a798a5535821913928b",
      "57e3d5836c9c467c80b3f4cf8c947802",
      "bddcbec2f11f4ba6ba5186b8fb0bc248",
      "37d2892eff3e4942b5d42f40755dc331",
      "98db371bdee044ca830a1a425ef5c624",
      "080ebe2a32bf426d85cd86893470aa31",
      "a0ae88517f8849d2a133935dcfd7c925",
      "5f3dbcdcb4ad42f1838858d04188f7a3",
      "ffa60ab0b8624a62969ad425d286a216",
      "0699db98d8c8468c8bb8fd47b7c58db6",
      "168545ac99084b3486ae7a1771868111",
      "a4218ac479024473bc944684d963694a",
      "e0738fc23fbd48f4ab11b89e201e20bf",
      "535928b3a74a4c95b2e2c423124b6046",
      "871875ea8016400fb7539f52ffb7e7a0",
      "c831599e8dba4220847a3168db99afaa",
      "f6a5069f883f4e24b41502a452046a22",
      "faafaa46d0ac41f9bd0a50dd9dacbb73",
      "0eb0f626f4bc43eea835682f00d34c4c",
      "a638fe21f50d4320896838ee73651d84",
      "d39d20831489499fbc90a0a16d35f5e9",
      "82d7092a479a487db063502f7567a5f6",
      "1b9e8f62b1fa4c0da7fd69690ee87729",
      "cbf87c1f169145ef8ae17801bcb14f8e",
      "abd71a752a5b4312840d59af11ef278d",
      "1b8a8b842567499ba667d67b3f00d7b4",
      "64f34c611ad445c3a05f030ca8b4c222",
      "db52c6badd3643e9b6c2a0ce20959518",
      "92febd1c01734bc1836db1052c14dc5b",
      "710a077afb7c46d5a0ae918311b46dbe",
      "798117633bd74fd38873df297bcc311c",
      "14af96fee00c48669d7d243246203883",
      "1fe2c7ef5e9f4bc181670a5b207e7cf7",
      "81724f09931a4067ac6d3d88bbf37289",
      "074fa2f5572744d4b2fab5bc216e9d90",
      "d6cf1156bf5941918d394c78f318179a",
      "f049edb9e9d24e0ab07eda096260a6fe",
      "43db161ec57b4a4b9ca54566dd844742",
      "e9376b03c22d4cc5af6cec67602245f1",
      "305b1735235c43bba3fcf977cdbdb7d4",
      "627e258c6b524d91b4e64e6baa7c8d4a",
      "8a08890e6e0249868c451360461bf5ea",
      "eb48f8db461f45e18a0f3ddf628825ba",
      "0bf304f6e4d94fa5872532041fbe5c83",
      "dfedf97496a4414398c183387f50b44d",
      "3e2bf6938819478594706409c3e825f1",
      "0b08f42cf55444038a05b2678f8fbaa1",
      "b470b82c8b7749af9b90edcd94f77841",
      "15c3cd9742e24f059ade1a610c721be0",
      "52ee64e6111047d487303d651f4fa66c",
      "8a6bd5375ef84f7091efafae5604ba71",
      "721b82a36eb94eb1a396a14b7c345e0f",
      "9ad6144664de4c68b449c0f3e807da8b",
      "a0cd93687ffe49b5a2b520c7e57050bb",
      "f40b69540c9b40ab862eeb85de85c74e",
      "831dc13834b04eacbd651fb1d7d27e38",
      "fa40ace5dcfe4fa7aec03c94b5dd49d1",
      "4fa21818692e4f4caad65bd9da8ad631",
      "cb01101098084dbeae7dd4f5163958d0",
      "81ac985315eb4bdca2d9516030b09991",
      "9f44b280f71549e59ad35d3a61f3aae0",
      "65198f6066104586b6b6290058e35e7d",
      "72aa9bc5ffd04c20964c0801dc53985d",
      "2160be4f6a2e49e1b8f68b159923053b",
      "8ae77368af3f4ccdb032dd15cdbaee7b",
      "72dbc3df42574505a639e2c2421b5688",
      "d500c6ddfbab46fba0a9864fc69b408b",
      "c8a0468e4cd34e0e8c54932b144282f3",
      "88fc1b4af0794ac6962d64d44c86566e",
      "293aba40acdf40d089d83f933d8a26e3",
      "eba2e5a0ceed4537b7b3c992367f6b40",
      "3dccc681af6f450bbda6eaeba9d3776d",
      "5854631651f24180aaf54bdbd70a989b",
      "1ae665788eec4a83bce1e0c12aab1eae",
      "0dab3ac9e3ce40bfaa9c2977a6288c81",
      "7ffa1c39b348472e925e355f81b08f29",
      "ea34bb0ce1fe4151b66912f6e9ac3769",
      "91a76033775a4c8392e92301e5675f8e",
      "d16e89a28d934980a18af4178c8231d5",
      "40c3400083f540eabce1af0bebc97ca6",
      "933959f1e76d4529924562a1747bcbeb",
      "7fed96ba2d81474580830b99664dc60c",
      "0e0a732a469d4fb993a00627fcd35748",
      "e829c51467ef4dcba12730718cccbf37",
      "0395fa664e8a43a982f40fc3166e7efb",
      "0c6cbe3a1d97418f89bfdd36ffa10bdb",
      "5e3e6f21a26b47009666c67b7ae3d49f",
      "1b4a364b031143959ba7b53c710c7cbe",
      "c5492cf7a6354d7e8b3879169c398b63",
      "bbde9838460f471aa90aaa12670a6085",
      "f58b7bde01484a029488b7d4bed07425",
      "943ffc8e7c0540a6a0cd589cb4b336c2",
      "acc0019532464b0f8c639259a7913d89",
      "5aa0b520283a466abdd1077fd750acd8",
      "6cbbaf198e234c6bb9b27d2a057d906c",
      "169ffa7e87d64b6c991df6415e93e25a",
      "3f2f5836279e4f72b3b686b85d42425d",
      "5e3a5eed159644da8122678e1398af5f",
      "cbfd37fa8ceb4850b82fdd043a4dac35",
      "ab976f43568342cd9482241bdee19071",
      "cac2a690aa7745cdaf6e62771e7253f6",
      "df440496991443d0bdcefe48ca432730",
      "d7f610975614444bbceb969c8d6bc22c",
      "3463c9b0ad154c15bda9c261393cc3ec",
      "bc8ced1e92f04708ba34c00fc22552e8",
      "d6b861964bb9445889b35a52f6f350ff",
      "520858ca266845a39c2fdb588e5ca374",
      "d5d48bda91534d28b858ce463d135e44",
      "dd59b798426d451cbd69b2d9d13669a1",
      "0f2ccdf324dd456db28a3a3989144716",
      "ad001459af7c4c4c8a22430693a297c0",
      "dc800997ff9a4ed4b8f490e0ca9aef5b",
      "5918c6e7757a4c3a860cf7639ab54d77",
      "1700570f90914fa0b77f11ac41bc20e4",
      "e024dd205e274258803fd3d6dc7f1f15",
      "a20030af5a064d828cca746b57945d6f",
      "16d7bceb8a3d4c1db81438e5513ffa62",
      "b558d6fef74f474a89ccda290be8a40b",
      "71be61484c5a4715aa51fbee32c47729",
      "e7a0d989bb83467186be894d2ca0420c",
      "db1fa552486f4d70b5ebec086ec04fbe",
      "5c862d52d89b45bc887ba3866c6101bd",
      "e8e503d1dbcd4453b9ba87bc9df07be9",
      "aa07022e7f4e4fc7a842f83331e2a73d",
      "95caaf72daa34964871eb3026d93a781",
      "4e8463c168974ddaab800dfd233a3aa0",
      "faedb927b82645848bcf897dc80bf81c",
      "9eb94005baf64383a3c33e8e677815cf",
      "c7831067222b497fb94a498c6c34e667",
      "409d429f15b7475b87bd379330b6beaa",
      "9ac45b5ea2894e4e8a604ae63c44c39b",
      "113bce4a4cc44ea1aa874984f6217d6d",
      "8c989004984845fe80410d95ea8acc54",
      "5ff5165b95314224b7519944e705bc7f",
      "1f26d2552b114782a5c6620ebc70a58f",
      "d7ea2f93f79e40bb92bc8e427d8dec9a",
      "bcf06c44495c4549a0898cd5c0239c22",
      "c71c443b5bfd48adb65942dba2c05c7e",
      "6752df0436c54c0a887a8bc85b9ae7db",
      "7b85cb5c5ef54f6fa16aba7f21f10fb4",
      "6b3742f5dfcd4727ab8dfa5ec4bc8794",
      "98af3018ee634ac1ba22f8edbc40b98a",
      "f0a1c4671cf242bb9ab39dc94e573c22",
      "568f593f76354e8681481a926e0ef80e",
      "1494e1537ed74c69aa22d8f6c3092cd2",
      "80e427df5ec94648b7f920b59b40b6e4",
      "12c6892bafb049518a2769c4caa002d5",
      "44670ae141c24bb88dcec2afcde8a066",
      "edcd2a461eac41ce88490fa8b46cd05b",
      "c4c12a4f43df4969b4649e0878221553",
      "d8b398d4225541aeace9f72372b3d2cc",
      "f189f810005348ceba40abf6616ee9f5",
      "2598c70e45f34c31865713da213fdd2a",
      "d6dc8786d0df4bb9af9122c062381886",
      "36087df96d404074a07b6f6757f81a8b",
      "f726a0668d9a49e998fe04703273e23a",
      "193fdb87d19a497fb3985119f1cea659",
      "2af4bfb0625b431eaaf563c7937bf6d9",
      "7a2dad417b884eeaa2009e7efa8da666",
      "42ff9b55db044028841e5555cc6d2cc1",
      "47ee13b8a0f64673bd79745e154e639a",
      "92d0bfba3c754ecf8f73625f13b85372",
      "e6a707fdd824494f8946be51912f6e2b",
      "2687a4321fc248ada33f456fe041b957",
      "bc7ae9fd4e9a4eb9a8e86bcb17ccffc4",
      "179dc57bf68645c39ccfcf7cfe06acde",
      "29638f6cb59f40d98cab1abce2ea73e3",
      "1cdbf8edc2d74efcbf816c0a7d5ab8d4",
      "8235adedbada4f20973107d5ba3a5c87",
      "b262bc63bae842c6b81ca83ac239982a",
      "2df9da2716904c2aa869101ec0aae7c8",
      "4eaaa82e622546789e5fd56473a93af1",
      "cdef5aef08324cf1a336c5ebe09b0c12",
      "4dd5a61a02444314b193e2d50bdca080",
      "7ac2cabefadb4814ad54167632806ab7",
      "bb2160add261449aae6ee30591c52a29",
      "f1429e62e3614ed6b8edda1246627482",
      "cb365da9faa444598e4ca50d947563ca",
      "e619c7af9b15409fb0771042f0c25a31",
      "d5243549f24d4335949f13a03eb29bd7",
      "35d5dd973a5a4699a983aee62df40cb8",
      "1d5e270d0b3d4ea1b2f36190337d02ef",
      "e37c201652f743f68df991bb1d3e8f4f",
      "0f9daa6c03d940d580bad0771f582eb8",
      "a15477b1c8c14d91a96a5923db2f612a",
      "ac8c2ea1af054d8b8cec0efaafc2a0bd",
      "67eb2357f4d94abaafbbfcdeb004ec87",
      "c2f64847d6f54527847caa454a9c7d4a",
      "8f5346323a4341c9a780f9f0e3a78211",
      "b935bbd852b043d085189fdc8fd737f8",
      "66b067c33aa4452080317102f7f53701",
      "b1eded0a04a342769c51069b690204ba",
      "8cebd7ace7e7424a9a268a3c1c1ca6c0",
      "fb784c7799fe46ad8b20ad6613d7d6ba",
      "23aa9bd4f7d2491ab2e81a34bdd88a02",
      "2e0de773210f4c51b2ac2f29d773983d",
      "4c3c37e107974dff9b9c138515f76839",
      "b0962a8d0dd14ef7bb495f568a2ef08a",
      "e47e3886b05d45d29d5a6c03dfc2a505",
      "15e707519cb043bdaa14dc9b52e7e961",
      "3c30bbc817be42eb83d20f6fa2ba76d2",
      "2f5e53a50c514906ba1d41f0955d521c",
      "542a44d54da146b585073eb2d421ba71",
      "6c9fd9e719494d8f9886c12fee3a3e36",
      "e950cde7bf1a4bb0a5310d9545da7246",
      "0542a483266e4a96875878976080a893",
      "06056a04a6834aa6afbe983a6b86dae2",
      "db2c77848e3c42ee996a623ea3615146",
      "5a7668f05c6f4f018f39e6a7c899dc33",
      "36dbfbf216b042dbb21a43217b02a6c2",
      "b95b7dcf06b74c4688c5be2a7ec8ac53",
      "ec9e09bb57dc4cd8a638570b02ed1ad6",
      "9be20b0d7e564892a4db7ad85202c971",
      "9bdef614098f48cc9d3252eeaca7d681",
      "354cf70bf65c45f2b86d0d37fcef1630",
      "764cd810359e47b8a21b5668151a2d16",
      "c1e0dfcf4e48404aaf2a409a119da1a7",
      "2fd9cb382423494d9150966fa16bd452",
      "2a49e7512b9f498e862d05a057c18548",
      "a53ac06fa9514b33bb00cd3f6939f45a",
      "0952e09a466a4824bfa53cc961d29223",
      "b7a52e6776e542bc9903074e3fe24ee0",
      "ba5690bfff5f4e19a1fadfd455465460",
      "3bdc7d8092fb48b6937a417be4b4a41f",
      "1cd8195e928e43fea40673a16a42af8e",
      "4e2b4cf241f646ad9b3fdeb72f1d6583",
      "8f332fe6a39c4dbda144a391c719d1fd",
      "c2cf039784be402684f790c58c652ed4",
      "5613a6e818494816911d35f5c9b9d301",
      "7d07cde4214c4e3297d93812959df370",
      "87c174cd319c4c8aa9ec59e732a653b0",
      "1216bc8e5f5c4e21bd05ee1f4b4ed8b0",
      "d052d11cd5fb44eb820973ec8824b9b4",
      "aba4e5e5d13b48e486ee8195ba56ce11",
      "a710c683ca3b4e439c2e0f3423aa13ab",
      "5a39c91f62494ec38b19ed913317cdb8",
      "c4f9d5fb7ce14fd6a36b0114f8653935",
      "a4b474fee17a411384548c00d75e5c5e",
      "80230d0efff04abfacf750704be0fbee",
      "8238896b4cfe4056ab16d9c53785301f",
      "5209782b67884bc582f777e96a25ddc0",
      "c0c17ad03cab4c9a875c12c8b30f58c8",
      "50d0f3f82bb44892af1e5dcfaa61d8af",
      "a33b62a86c6746ba871255c949c0602b",
      "3ba886dfea13478090558f607fb8e1b1",
      "0ac0553cd47c48a1a121d708e45ae6b9",
      "01872c9ad95840a1bf5a7f680b506f02",
      "cbae7f1e546b4fa38e28c4bf04adc166",
      "d9430da9d92c4d06a61fcfd85f6207d7",
      "b1e3a546c1494da8a21955b81d37ddd0",
      "e5ac86383cc64a12898f59f5773d7f66",
      "6190e176e3ae461a91eb6bee376feeca",
      "71f180c5ae8e449fa4c5154a06b8a235",
      "a3df90906ba24065a14e6e36e9846e8f",
      "b660f61ed3514801804b2f40aaf661f9",
      "58fcd7af1ae04629910bfda40690db51",
      "3003f569315541708782e32c3e02971c",
      "4e5b11a72df44bd3bf64d8fab19d10cf",
      "36ec142efef648d6929096141ba9a79e",
      "bcd0570369b14ffaa610c02bc37b960f",
      "e6867c7767954861b63f097fcb249c91",
      "dfee66e7aee44c33b486b637aaaaac54",
      "b695dbf09ae64a3e99e756986bf07b7c",
      "4aea202ee1344cfbabf2797f3b17f2f6",
      "493965c499084efdb8f7a6e734322023",
      "95ef9d74bd784983aaf1d4b24129b94c",
      "ee1393b63d7442e9af9fd80122a4c601",
      "3afd45532207431db03daafc0d4e40b1",
      "216243ee423c45ddbd757615c9effcf1",
      "2dd657f9419347f084ccd074a5504437",
      "75f14b47f9e04a61b6b0f486ac97e158",
      "2be35f5b1a3f4e939f4d5c12362f5866",
      "c4c06e23669a4eda8a776c7facf80c0c",
      "dab761706b3b4301b3ee4e9eaae250e5",
      "0d1a79ac34f34f0aabff9f8bc64fb715",
      "e610843cd9784210af7eb5a6866f8fd1",
      "4543f74476b94792979a27a9ee07d5cc",
      "2c36f400483f4ba4842fea8b952271f4",
      "8b9a54d8e1204ca7a75b8c48c3e52ed8",
      "60d963061b104e2e984b8dec96d865e0",
      "f940131487ae4c9581540493975d710e",
      "8c7ead26fa8f4ea28d1f63a8922d5dbf",
      "61fd02be9d9140e2af4a463a5079fb45",
      "849c346159c14a3fb6ab423ff300e109",
      "6e0b478e7be74892b7b1453a8d9c983f",
      "165ce309a63d4835a6aa918f4fd37db7",
      "f03288c572d74749aee2d938ea80720a",
      "c557d51cb5e7407e9b74d216c5fdcc91",
      "214276ea3a3d465e81f47fe029eddfb6",
      "2fa1040d928247b98f854af075457cc1",
      "553e42291e024d179e376ce9bf1f74fe",
      "78ccfebf44134d52ba9f491e7af9aab5",
      "2b5a3f44828b490495f17a3465452c88",
      "01e494d537dc46d7b9d78c4dbf4e9ccd",
      "64a5be2dab77414296a93a97058217ab",
      "c74e744becf34e1faa267e69a596ae24",
      "13e49d39cd6047c8aa61a14e7d1f0060",
      "68f27107a5594d69a1fe3d36dea3a918",
      "e850934a59eb4cda85a43424e25522c7",
      "018bc3abaff84a02b09f6e61b5aa79ba",
      "e6d4a549cf204a0c87b0ba61ced010f2",
      "1a5c31232f1d41508157b0693ceaf2e7",
      "4ae4cf9bfa13489bb8d36bc3343c7a03",
      "a796a026459447a6b19a90fee65d2ec0",
      "5ba2aa08aa88453dbfb9edfafa8c69b7",
      "a390f228f299488e97f77967b701802d",
      "036524f42527444486cf3a8471992cd1",
      "f981e3ccd1a241b8b59f1dc62359e73a",
      "a21e4a370055484a92b396d49aeb85cc",
      "95d8068f1e3e47a0ab48cf257a560646",
      "6aeadf21076a46ddbefe7c3b50d6a634",
      "3ebb8938713045a4814cccf030f8bc9d",
      "b6a078cab5134442977405b61007c8ee",
      "121d26fc1d414ff69777f09a205ec181",
      "0ba858529a304a05b17ec82dfc8bb289",
      "252315c551fa4c83949f804e7a2256c3",
      "0f22a8844554428b87251cceafe01afd",
      "f1bc1296c7524ecd950b52c280e23d09",
      "c88a7620efe84b90bc3795d915d08ca2",
      "f3792f8782b84ce489f017a16f4e38e4",
      "b245fcc2f8244d68bb948a467903fc15",
      "c815293a58014545ac1f74de1a6c1248",
      "495339630daf4d07b0dd95d3a95ebe03",
      "8ae81ffa099f4c6dbe0746d3e8a6ceaf",
      "57894f3bfd9d4d3f853a7efac3ff2ef7",
      "e07f38a0971b4e4e934af1c92af56885",
      "5c951321f43b4826a088e0e968c04ac3",
      "b9c4ce17ef52438f95d5b7205bf700ee",
      "8b2a9e359f5644eaaf8ad42e550b2f22",
      "6b235962c781479c8a58d8a72cc6f372",
      "5cc305f77e474816aa029737ab0fa264",
      "abf61c07a6d04703a59ac0cb769048db",
      "fe4b309020cf411caaf11bb8c2457669",
      "55f9de32a42d4cbd8af177c35b196edc",
      "d78ec1535413435b9c325e4aeadb62de",
      "16751a52f5ba4f8ebf50f0a2d36f1511",
      "851a53eb6d9b476ea584bc7f0306c077",
      "e97228c55fc141dbb83253274abfd75c",
      "d6d25d1bf5d54a4fa9c1006d1632475e",
      "ad5a653d99f44b5db82a970430dc0130",
      "664d50262fdf4a31905bfc3e26c3f1a6",
      "a29659ed75b94ad89026de5ecf19bfe3",
      "0e9c5211f328462cb7485c53f7a1a8ab",
      "1df978feda91402ca746a542de27650f",
      "43854162c53b4e8f9753e64a254105a3",
      "6c30c81375b2475e9627c45303527b4d",
      "642c2d048a9e4077b371bce0debecb67",
      "b544082cd3ea4d2ba9a347b76746a3c0",
      "282fb4884dee498aa13baa66855b4d5f",
      "8584a1dde35a44fb9853c8c0afd5e6a6",
      "de1bb9fa1d404a59ba928866015d1d01",
      "785a514e2b8a44299f3e38cb9d40220c",
      "dcfac0fe42174da292b600b03675e37c",
      "63a6f2cea22547b5b6595db046128874",
      "4ae0937a01f641d28cafa26dc5af5158",
      "944599d41c594449a0c4412b033524c8",
      "080570e97efb49069e6eaf500c10ce68",
      "5238cc938ce94a0883e4a9e0d1e7d134",
      "bb75d5d997f64e6c96c269514212b843",
      "5747fc2c3fae440289f41f9ca99fdc19",
      "b30fe4e58a6b44fa970f5aa08e2f46a8",
      "410d19a4dc264e02b6ea725c3a58d81b",
      "0e8ac5aeccd44dee93c466e968cd3648",
      "1ef799942438436b8e3ceaf5dfaf9fb2",
      "0527abcb93984ca7b33a45756916e6e9",
      "0cd5b58b06a74ab9a193a56c755edcfd",
      "ef3ec0783a9f475e95b8f4f1b7aedc2c",
      "5cadd87322a144fb8e5537b5b7460930",
      "bb34dd1473ad40dcbd88d139c3fb0c65",
      "75c997f38f50436b83e67f7863a55714",
      "f3b97c01cc6b4765a1fbfc1fa3f1b4be",
      "b2077679e5f044c3be81e1d1ec3bacc1",
      "abc4c5403a2d496b8bb4f9bfa63cb6b5",
      "e5ed572669ef48e2b1a11e0d40bf4bfe",
      "e47ff28de91f4c14a076115b03ce66e4",
      "1a78fbf0925249baa7d433f594436579",
      "6068ec8737aa491186a9cc1d57c963a2",
      "931473c4d54141558ca724a11c3c17ae",
      "fb63f28b386d4eccb5eab1890b0a8efa",
      "9b661fc0e3a1419e9e7a337dd9593a5a",
      "7cc8bc90eab34ae2bd9c5d5b553332eb",
      "e5a601b96232471c84c75a42009a5afc",
      "9c53e8c32afd4a02977ad5cd609e0183",
      "5980f32a19604563932364e284c99e41",
      "932964ea7c0c4dabb1b03274f17932f5",
      "99d3fd556d094caba4c551071cea83b2",
      "990e4e2259794426b04135cb21d1a4d5",
      "c2d8b0266b5641b88939f2d9b34f40ed",
      "fee1f61795664b8699406b775f7f4c73",
      "16f5be48e7b4490baa09b20ab603f4b7",
      "b8cefdfc840f46f793926f62004ab79b",
      "e71cea66f88c48beb6702f96568cdc9d",
      "eb1e3fbe592541abbef9f6bf1568a5ab",
      "c9a392dc07b64582a8764c6e922159c4",
      "bebbe9b9c27148b8895428467dedc726",
      "ad043012f9404afb9ad341cda3580799",
      "b468dac48dc64048b09ed7e5c789603b",
      "44ac5a5b7a0346cfa1e957d8a369fc31",
      "39044e3914604a6ba211c7c76abe5d95",
      "1f35e66be4664e0e8d0559a0e222edad",
      "42d9adb2fd99421083ca77efdd49c661",
      "34dc35c3aa2149b28356220a9e4c2e30",
      "1645166c7e10422588aa677e9b4a6712",
      "8a4e6671da4c4b01b338093fb3e191a8",
      "dea15e5cd30a45e4abe076d031906f1e",
      "21bdacd9b90d416c96d2e8d2d13d278a",
      "708c969fc07b4a3c8298c9dbf867d007",
      "2974b9b65789420c9375d5a663d9e9d0",
      "47ddd32ac52447948760578fa8b3cb7c",
      "2f8600b4531e49cbac264e4ce2774c01",
      "7325699f8051415ea1a2f86ec5f6ed54",
      "3bf71e695e154bdc9654ec7459d9c0b2",
      "333563d93b354b6ebde06c7d9e4e32b8",
      "923512b736374044ad9d6569aa85e5d6",
      "1fba8c8de4204ac7901fcbf2ec61f7a4",
      "5d2b9fbad0214c6f80a5a735fc6f16ab",
      "a87dd6748b154e8e847060bc0ed29181",
      "bce558d764aa4499b6888ff9bdb14008",
      "47b5f859db6d4fb98230d4fc6f64f1ee",
      "a6e2d0b920d84d5281135df1639104a7",
      "2d9833569a89475f967924c296b557e8",
      "7efd3735346041cdb371d83e32ce94b9",
      "50b4965fe2a4496d8eeae1546ac39138",
      "a2ad0151dce240c0874079e88f51ffcc",
      "bc2a8ffdb7b5406ebcd35241e1a13cea",
      "aceb8a47d37e40b5a932e8407b0e1b58",
      "3614a533e14845f9aecf5ad67086ff04",
      "39e770b75e2e42749d5ccf430a76c88b",
      "b47af61f530346c596b51bbe301a0740",
      "67bf7d89866346be9c57e9f1ac5a09a0",
      "da17cc9af0a14e188ce8df45a37bce76",
      "4fbef97605e140a3a70a55a9060aae7a",
      "9412b42953454a0ab50a5311d8b1a2f5",
      "f3326219b9e54114805a1f7c3a06912c",
      "2a3659a1afbe4e9bbe625496b38d7d1a",
      "667d7faafc054d1d97b4c3d24ed36f58",
      "ec65379e7aab4484815f5e0e3eb337d0",
      "f4a7ba75d3c74155bac7fca2bad542af",
      "53cfa8c3ec9f4e718a6c881a5e707e04",
      "281f7388f63f428a87a54cdd0e849b2e",
      "4abea8fbf4c44eac9eaa65309b07bb5f",
      "e3cc95a66ff64cb09fc93649defb1ca8",
      "6f991d1b77814a28a74cd464aed66280",
      "629299f7f6864d8aa37762917b5b2639",
      "5d5cca3eddd445cd9098f348c3c11bee",
      "3d0fe47a8e9047fcbd2ed0f193244cee",
      "54af84b6e000451e9695288a2d02b1d7",
      "9fde56cdfbf44bc6be5c9c5b4d89d3e9",
      "3b4bcd798e5d47f483ac0fcf0c5fdfd5",
      "5bc95aac29944ff39f0ccbfa48ef1340",
      "bcf771a0fef14f84a771008b333f69fc",
      "f13b648c86bc46529f0a095fee8d9157",
      "ecf7c1e4b28f483eaf2cefbfd32aadd7",
      "e0cbad03d2f340dd88e33645f9bbca54",
      "354ebe212e3946049ac8a1c898ca3928",
      "2ada804c29e0402693b1d1231ec7ea11",
      "e8504dec8d2d4bcaa32005125327d91a",
      "c1bbe6eec24948088e5c571dfe31b731",
      "5cce63da9d574890804b4de78cef2dd8",
      "db44062e3a5c4bcd8313ac8db73661f4",
      "5cec9c3d84fa465eb95384a7ca13d023",
      "dff9c4ba7854426e958615f0d4943ccd",
      "6731ccd0ff324cf0be66bb5a4b7527d0",
      "83258551830a478c984b9f08d0ec7277",
      "338a421479e3453f8e180c959c1910e7",
      "d2f3678a17674a8a875b5b2623e77d4f",
      "5244d401a8a14c318aaf651312031c92",
      "0f93dca663d24da1a3384f41160e73c4",
      "25bdbaab568f4ba6be4ccf300b20938a",
      "3c94c64a469d4d6a971f52723b59cb51",
      "96cbc1781aff4dee947dac659e205725",
      "ef49c7b0a4854c2da9ed9a556282afbe",
      "232a35b06f25487f92c76330671a4dc3",
      "aee7b0ca93114142ae11a34e916ecf95",
      "28c6f650899d4104a41ca22fdf5414d7",
      "340a1817f6a84a17bd8f7912a14c11f8",
      "d1e314e26cf6406493eaea4fedef58b6",
      "4463ffdd1d34417ea2f1fc685ea2736f",
      "9380e701f6be4b7f878f645f46835a8c",
      "f47bf69cff4f4e87bfa22bb058f2920d",
      "7389c633a4054effa309fdf34ae3142e",
      "4996d588f5d149f5809d5cc3ed454261",
      "8cf42d061dfe403fb84c42642bb28bfe",
      "fd5a93830aa7480a905677a1f1c10da7",
      "e93968a2e5774c21a9ff30cd8ed1db5d",
      "d84aaee883d645a09e434b35fea9e60c",
      "22291d455d844fb98d26a2c5ec98e7f8",
      "80b7c4152cc143f0bffeaa4bfcbfd5e6",
      "c8928af2cd924c5f81e158f254df648f",
      "6166a44f9e02469983b0512f477795c0",
      "2eb0a52fb3c9494d8aa7ad2b755399b6",
      "6d1c8ed58ee34057a0c294eab7633d6c",
      "8f32bd1851654251836a1c7634503499",
      "02a475b3e83a4757a414b72de37b3167",
      "79d51c7cad974aceaf8e1f8317c176ee",
      "bbdee74b743a4eeeba7937534953a328",
      "6804da762d5a4fbd9f19e5cc213221b8",
      "e30749e930b34f078aa9117413ccd2a4",
      "9a4003fa85d04adca32c7a2fb865e323",
      "ae8547a2d639484f8a65a1113c6f36d2",
      "795c99124f6f4f179a43e0e6c7015842",
      "83e8a12d0e1b43178ca00ec7ba67c790",
      "5013fcb5e9f54cefb2b7ed3d2a17dcfe",
      "82e0bd7d13be4248af440253a8340cce",
      "8d7ab2ef3e8549ab96cbacca5e27f7ef",
      "5133bc8e8ab9411db818dd3ce8bf6a72",
      "a19423830a4840579f07c2d61db2b10f",
      "fe4dcb309857432daaf4cece185fbde5",
      "3f0808de231047a39f3ee09460627657",
      "17c06ad7a8c94b53b6e30f8d7130fbe2",
      "4bdcd086e5664839a89d0e6d7dfca2af",
      "a2a0108af31a40a7a739e6fcc339064d",
      "c99782ccbf024ec39eb55401533882b8",
      "e2389339d414425faaca6138efe694b0",
      "2551c5cd868e4576b451363f6740b6c1",
      "b16c9e4ed5404b6dad64d6a615b1851c",
      "43d67dbb8d9349c39de53727af07b851",
      "8a6564f1dfab4b92a23389850246b2fb",
      "801754e8b9ab422e9661d11aa7f74e78",
      "16a8754d265740d3a87104fb24f88d6f",
      "9d6e910717f94dd0b25506c833fa327e",
      "190a423384054f7aa68680355acd6822",
      "49326512f7ed401b9c1b141d587c76d4",
      "64326bef6860441f94367b7a2d3240ad",
      "ad4265b359da423aae131a3aa9b2c602",
      "7016095439114274bbfc19d757c8929f",
      "2742f8063cc34508abfda235a33ed324",
      "9e05efbe7c284b928f7bf8f00174dac8",
      "75920a389ec54b54ac30249baf711691",
      "6303883892b6460286e93de169320349",
      "f74f4acf21684a58b7dc6385b623b265",
      "6bb8e92e9e8b4a03a0de4478de9230e2",
      "ae1952a0055a409ea2bce8fbc9b0fc3b",
      "adac77dbe44a42909b9086a68a4148be",
      "dc4566a5bc9544fdb895447e1ef519ce",
      "60518e27b00f4f1cbfdcac736183e6f8",
      "82dd75227a0e4c119e6feff56c3a1584",
      "d0a158918678442dabc6f4848338cb03",
      "01dc1a7a9efc4ce7bec296f593d7456f",
      "8e84fc6002eb4b40875ff081230fb9ba",
      "8f76323d6b2a430ea1d8791736075a78",
      "84997cd20f1e45949659531e44f4e927",
      "88708e47344042a6ab9d782dc6fc3dfe",
      "a5d2ccb3814e48b786913a860d6cce0d",
      "8dea784e17814184a4a0506a82ad2d71",
      "3cc3008b74114e8c9429fbe17f1ed024",
      "0f06c850d8ea46eb80f8fc71f3f768b2",
      "272947c589324b7eab9a1c568a7cad54",
      "06f9629316d94465be01afe67da20b66",
      "81faaba67dcb45e682806bf9a1707425",
      "79c8aadc5fa748d5955d9747848eaa71",
      "c79ef8bc7fef47358e75c41049ff3473",
      "ffa1faade95e41c092d3ae8561175e6a",
      "05a809291291467ab64c66f6ce7c3bd6",
      "8b8e25339a484884948118e85f4f7af3",
      "1d89343b2b5047cba80fce4e61460ffd",
      "4552831395c04ad183d43288ddf4e0b4",
      "fa73db5b9fda4e5392e7afc28325c0e0",
      "0b38633485de44ca87774f7d54cda32d",
      "f426fa26660d4abfb6663f8b747c8f42",
      "117d809d9b6c44e8aa06fe8956418ff6",
      "f8e900010b24418aa109e779a00f1f07",
      "11c1ec5a242340a08d0c7990f41e7d14",
      "621b8385c6b840549eab44d348a2ed04",
      "17d763846be44779a4d93ca6b137126a",
      "8b346e4ff3744518bf42f5412078e372",
      "a90c94e94b1a4e04a0fd3487af752308",
      "99e3cd4479a74bd9bef2d34428b57ca1",
      "24aba462e40b45c697afb40ded00b8f0",
      "d245a0c34f25468e98796d860e451678",
      "a7f0c5e90679419da7b1a8f1615d055f",
      "43fe66f159444a59af4ff826ba224497",
      "d960e3ba4f5343448c16c47909d8faff",
      "04f9ec8896a34eae829c67a2dc6dd8e1",
      "e30c72bcb1e24080978e136412b688cf",
      "a97454d470da49868badf2e1c0365c6e",
      "60558ce7d4734933b94e8f0458e1f26c",
      "deaea0db1ddc42cebaa475f189eea3e9",
      "6a9e518089d64fa1982de80ead487bb0",
      "5c0bf10753e049b590efaa2725e27989",
      "bc5a1b2c841b4646b0671064ac0e0b2e",
      "78881140ed8e458bb653f838f5b8896a",
      "9163ec4c53714fad8d0f100a3a364db6",
      "efb2321fc8e94aec8201e79ffc326666",
      "7b5e6facdff448a5ac17136d3f272965",
      "e02e997c82fe408ab048636ef9199d44",
      "b61ebe217b9c464eb22dbc240e2fc3c7",
      "5260ee092031422ebfa2931f3115bcb4",
      "c7c37954edd246a2a886443b5f5eba9b",
      "c28bfd3ff6784e8a9cd5f36222fe2490",
      "db1a818856c247dc8ac026717b6ab288",
      "aa41eae8fe7b46e79be3b66afad17899",
      "ecd6e4ae8294429297f836c922d741fb",
      "2e2261d031a84c18a1486d926c862459",
      "d42cffa251dd4a66a4524f2a21dc07cc",
      "eacb4528fa5140f893a7c09c5311b92e",
      "ed23262b66c94a2b88f3b7ca9e2488d0",
      "d7ff8018c2f445609edef3c9b99e695c",
      "432331c82465412689e28d5dd5f1a2dd",
      "b98664900f95463fbb6907e21a91a4b2",
      "751f859b42be488c9025882be0df3a64",
      "8696d9cfdd574178b0d86b7ed6380371",
      "3582e39e53354727b197d7393b428adc",
      "b7e48b7d6cea4bed9fabd8190cc22e04",
      "4c1f095f55aa4b9ba9f7b45733730327",
      "6bd7fbdd821c45449dc5a4d56f240820",
      "1e8df0930fa24b39a83ecb7e30056a43",
      "f3ef2e1fa12b465a8b8484341baf992f",
      "d2f88af6d0684224a5e01d087d6015b6",
      "1121ed7015e94f7a95c1aa0036aa255a",
      "94f1b491dce344a9bf204294210ed954",
      "467b42badbab4c1bb4191c6d0c0a200e",
      "9e1069e925cd4b64a846019e0ddeeff9",
      "3ed51439538941699c40ecc574b08e90",
      "a40174790ea548c5a8e9be4e5164f965",
      "a8bd7a2c1e204aa1a1d8c39e736aa5e2",
      "37c9909f77724e7096636ec0a3270cab",
      "ba6e7b476b574797a2ea7b929ed4c2c6",
      "f3e036dd80764771a257b6c73a23971c",
      "af7273451d314c70adbc1b0e51f96204",
      "8af9139335474d1c970fbd6fbdc24a0d",
      "0a082b978072428fa34189dbb792cd72",
      "033ad1d496ec427e96e0789322de974b",
      "365a6c75d41f4692829cd806f3e52c62",
      "c77989413d8b49f7a12f92953276591a",
      "7f3e4e16f83f47018621b298e5a5cc40",
      "f1fa3287fb7442be97e255c88eb8b9a1",
      "2b5764d8d2ce477fb4902daef14b3172",
      "f0bd0903e3e346d1abe3a9bab2ca5031",
      "e123f4c1977c49e582bdcffbc30a2de7",
      "db3b5045f2c24222a25613287e1238c0",
      "7dd193fda017426ab7dd344d8e19ccd4",
      "f54ccde8bf894eaeaa62649b23f6497c",
      "3af69624b9874ae7a23fe6368538ffd0",
      "5b572a8b34534a118564ec1fdfd4f7f7",
      "6e13e359a6b94021a7bcd77cfb0f80f0",
      "b0dfdb67215c45dba2bce787c4ca4dca",
      "4fa1f9f6451e4ccbbe09beb49ee622e1",
      "9218a70471744f8daec901eb1d8afefa",
      "533e1c366fc14b79a4e5d93191f21e23",
      "2ff9241445e84924ba6c0da6a9a1a2b6",
      "e094fea136904ab8942ecc447f4a2542",
      "e3cbd585eebb4ee1bbcfd2999aa2e9f9",
      "c1119fc9a1b144d7896684b34ea0f226",
      "e4cb911abb2d46cca89eadcf26519942",
      "e71f6a17d23a4f87813e4bea6bd8f355",
      "a90385f1e204451b960e77155a8e55ce",
      "3f31711fb3bf48d8a6320a78b0d9f4f3",
      "5c07040657ea4b6fab83f7699a5e92ed",
      "82496a4ebd254ab1afb41a2748aa4f2d",
      "a606c8588e754feeaf5983af63c23136",
      "d1bf835677794480ad0888e6755f1e60",
      "a794689796cc4bcc9684ecad5774a33b",
      "e643a31cc4694d1095db03022af918b9",
      "f33b91814cc74675a482e4b4028f43f1",
      "933094c133f74d65bc1016c638e0b0c5",
      "ccf569bdacee4c6b9fb7251a4e3ed6af",
      "1c4a75f3ca214ae9978697e7ad2f3a45",
      "2754a76a39df456ab399ca2909079cb1",
      "68ac83412c1b4dc78c36797805607743",
      "5b3b1c8354cc422ba9d716859e1dea60",
      "aac3b1e8c578416abb334b0f88b26725",
      "96afb97d880c4f91aada6fb39fb68c23",
      "2f529cb2311e4cf9bc2565c5e1cc90e8",
      "255b09ad30dd4dbd864999ca65aa130c",
      "98863dcecc384014924ba591de4b234c",
      "2330196f846f45fc8a8b06467c45f7bb",
      "9e0e467fc5f74113958816099a12953b",
      "f1938557de184fcf9e3d4cb514c08f31",
      "79adddad0f3f47e8b7c8d10e58d6b54e",
      "857615ebea1741788d701c9f78d31335",
      "bd54d736c56c4e0ebd5bc866db16ee07",
      "629a927ccdff4f9c81ec52363725b5a2",
      "315c08cbe3774d2499068a1e9ec484dc",
      "2ecf0b341af54b22b21c486cf7c8fa0f",
      "39a8fa48cf4740ffb23e1a22a8b7f376",
      "bed50f17a665422a9145ab7d60365607",
      "09beaae9a7814f3dace8df23c416f913",
      "19e4886e9d0e4961b1e44d9630b5fecd",
      "9515653dcadd44dba51df8bba61dbb4a",
      "867f0f812f4f4400b9343b8048a97d43",
      "1963cc3d6b5d49ddbcc97e9fa806460c",
      "9979493c8be94441ba800a0a3e0d3ba9",
      "740038cba96b4bf58a2c6d8c343b2a72",
      "ba418190fce149a798039e5cbb181d43",
      "391e4c8786754dd09a9324dfeed19c21",
      "00e8a0364979460284de0566fb3fad49",
      "016006a96b344da4b07fa0501f86831b",
      "4d89ffb71efc4884a2ece29abf9d2222",
      "694df3cb2a664d789a3dd378a73e85ae",
      "19e03f304edf47efa998aad64fcd6191",
      "8883df144a2f4e9189780e5714bee453",
      "c9335e759ea64ad68d8ea164339f875d",
      "d977d916d73145c6acdaebe7ff412aad",
      "a233132d9aec49c095a8ef69100ca1b9",
      "8f85c5534efe48ca9ebda473031d9cbc",
      "4adefcb829b34f18a7fef7e99fb61a3b",
      "821337cbed4b4f7bb9916f49d324f522",
      "bca96a0cb58c43008186c4a1a1883f1f",
      "1551c2a3fdef4bd59874764928b66ada",
      "5696188128d64e26aa684875c9cf6caf",
      "cd5b903702cf457e89ccb80aec9c3e88",
      "2c50a616d2eb4a84a6319e4f65bb66aa",
      "ea7b04fbd4064f3281cceb51cb60ee78",
      "69b83b4b5015457ebcb64986b26df962",
      "5b6622e066c347f8ab5bad2ff365a917",
      "686da5a950ce4725b0ce1ed505096bc9",
      "09ca94f8f26d47d0bfdadebad615659a",
      "8df9434e36d240d4b1fcc4ed531090d2",
      "0d0d63f968f343e6a45c76c40f6ed351",
      "424eb9b8bb61494f95969c75ab1a1bd9",
      "e926fb8f3490441f95780f005a386b3e",
      "b520fda8f9464d298e9fc38f937a024f",
      "9c9d571a0e724ec18f599a277afbc40b",
      "9fe5ca3a750b4be9bdebefd6b0f543e1",
      "1c42acafa20246b9b839d29a0b3c4830",
      "b1a6b3894fec41cfa2b20589ade0c81e",
      "6a47a371ec794506b9ea953c47873483",
      "ff83d76f6d36401c85d6e2dfde83bff1",
      "1ec85ee848f84668b0811f4b14876829",
      "2e86e3846c41442297f8df8d21ee89d1",
      "d67062702cf04c9a9cc957584e5ff997",
      "2dc8d628ffb84cb4ba68f8fe649dc904",
      "ae102b8a3d594732971e5fdc695a2d13",
      "d66496eabe6047b9af66ce5ca8c282b9",
      "c9f0edf53bf84bc1bd38ecdcd7bcabd9",
      "3929bacdb6924018af060ed4e4cdb8e9",
      "a2102620a7b94952be2fc1781596e4c5",
      "c0d5c56c40934a51bb6d65a24850f172",
      "dc5e5077c07c448a9a8c7473591d284e",
      "390ac3b907ac435ea23eea2d0326c179",
      "9e130f5ec82746fda8c019afa96439c3",
      "f92c95e1d94a495d96c6c0c46cdacc1f",
      "611453be16e24e5b9890e56c9e58b827",
      "1989e8b3530b4c25a3e6b672160dd8b0",
      "b50dd5da4e1b4dab83aa373d4e729172",
      "d6bdd7ac69674303b44e6f23e4f11acc",
      "42ecba534dc9431fa4e583efdafb0efd",
      "fe657055c32d4c2e9f8c7e6544e4aa09",
      "a7d17993cf81495ab22507166fb8afc4",
      "dbe06bee47694045ab087b0aadb85750",
      "e09aa2d7a5f946549968490c4181fea6",
      "af6b274f56c6462e89716136df146940",
      "1c198ae49cb249859f9cd100e7208bc0",
      "6b83340c2825469a98bbf318c1183676",
      "6bbec07eaf5f4e269a68557d0928b73d",
      "2ed536503fe34419a7440c5fc538f7d4",
      "c7906f536dd543d3a311fafc8ef0bdab",
      "618e8c448e8c44b188cc5cb46f9c7ab5",
      "f3b0ab00d35945e39998bfc6ba58797a",
      "c0e84d2254f84ab3a94e6acb41329178",
      "3c859f2d9ba845fdab61a925f2884f9d",
      "c02eb5efe75645b0ad1b589d234339b0",
      "de28566a8dac4b33ab44b79fe6c30196",
      "12917befc81a44ee862e01af2e6bca2a",
      "659fcb6bef0d4f378b21ed08fde1de55",
      "73244d38f5804eba8a996f33d2009688",
      "4f1485e2c0cf433abdb56ccc5adebac4",
      "63e4dfae71414532b9b32c540396eaf5",
      "0642fe335b4546aa828b79d26d4b91a1",
      "b26f6a277d77451d96d1396f569661cf",
      "0c0c13b776ea4d0f85614f3452491234",
      "bc8bcca461ff402399183a0d6fb5953a",
      "653e537b41b9450f9912186299266c63",
      "cd92edc5c0c44ee4a0f6c4261bbf8ce1",
      "da809e2e3a45469eac90ffed2a46173a",
      "0c8816ed83b74a64aa67229cb38b43c9",
      "d3cb118f93d241edb8f72a9f2b92d406",
      "a707e5803ecb4ad49ea5bb3da1ac0c47",
      "881ed060fa884a269c66b6ef0185db54",
      "b2862b93908b47cd97a07d8e75ca7852",
      "df3751d5a95f499e84a54c88f3846f5e",
      "09119b6d82e4459497f91460a26eeaed",
      "54d0e2af76374f20a6b65aa3c50ebf64",
      "8ade9a2787844a1fbb3b2de0b804fe52",
      "1393ae8a944848ab9e146f621504d3ad",
      "4bb7b04ae093429b9da18d9415b7e51b",
      "447e1dcdc49d485ca07199d36abb27ff",
      "aad91c50ac184973926e476f3056c847",
      "337e93d8c7024e748096a0f1d87e1c15",
      "4bd6428bf65b40cebe75c7ec9adc76bb",
      "d3e9117b75ec4a9fb52c9dc36d31bc97",
      "6cae0a7829104d01befa6e6f9ac9cca5",
      "c3821af50aa8426096c66e44f7f37fd7",
      "c0ef386b026d4f9482cfa3c776f68850",
      "ccb7f7d80386410c91f67bb864f8ca75",
      "14c076b313c04329948e87679a689e1e",
      "b654124b616b466893f7cfa491a3c50c",
      "d2a31544a43d46678a486261400e2169",
      "7dc9fea8d494415588267a60c01a13aa",
      "78e462e8e6354059bd9b45aaf4ef08b0",
      "0825c83366f0409ebc13d55452b5afad",
      "ee838497a68d4a71bffb09b41c46a6da",
      "454753ea16b44ec99fbc77e0cd1df731",
      "e3e773588aab42278ae30f340fd2a3e4",
      "7dffdd668abc4020b74b53a2be570940",
      "4e2aa2a35b4244519e81da712d044b5c",
      "9ba82540428a46629443ed5ea95903d7",
      "6e9d9a11327840d596a6b50c0aa1a0c6",
      "6441d790d02940eaa7e76f17f6726fa2",
      "1ba1e5f162304fd1b5f634d4efda031f",
      "d8e80af9e3bb4cd88085d5988b0ce812",
      "8e4b105209384fcba15e9c6e61171413",
      "d3cee5a904e24463aef18e05ad2397dd",
      "9deb8f9f162e48c3831e67a2405c678d",
      "8c6fd60a479e4b548e9bfd485fc04e23",
      "b575f284e4e949e7a6e5dae32f41334d",
      "bb1b31514f074051a0c15eab133cf0af",
      "dffab19e07c6457684054066a58cec1d",
      "5103cb6d34264359a666e271348e7d8e",
      "1aac5098e97b48a0a1fb50f823ff6919",
      "71abf3cc4d8343e7826d9bd03c3d0b27",
      "3f473b4432734d7ebab9442049c857f7",
      "7c924b3685e9479ea37b74fbd043e670",
      "0a279e05814b4442bc39faf1cac983fd",
      "5d1696e3ed9e4835b3fbc17a020d58db",
      "a9252452c6cf4bbe8ace1b97b4291428",
      "d74202efe700431ca80f596aef83c718",
      "acbdac6170d0479d91e2457e85d6b57d",
      "eb55c9b84331485f9371408e41999a84",
      "4ee9bcf7f3f542148ceb9abe1f56df55",
      "84865382945248e283176702a4d06dcc",
      "f64719c640bc46f29d24bd8104c95016",
      "a9e5cf77719849c2a7b54ea35d79fad0",
      "0bb2bca101334c0a973004fa2a861ebe",
      "4b45753c99c54deea154c8127cf5b92d",
      "ad7127ecc06e4bc3877266bee010678d",
      "7d90256290d24a9a972534fa5e3a4c46",
      "5de5f58ebc5749108bea4eb2eb60fc2f",
      "83e4d4020c324c1bb5e26b3c2973fb9d",
      "4d875359f3bf404c93286ecb9a4a99d9",
      "cdee102310a345c29248f2896cdbf466",
      "2b416a1c62d544808a8d7b27a8c28e31",
      "2adc4abf05d0436d9dadfda79997e59d",
      "1f39cc790b5f4b3ea95a85cb54d4d2c5",
      "c36ad43bac704a2093ad5b153214bfc1",
      "010027ed09624170b335d9fac53d09d6",
      "1bd1edd14b2b460bb2db79c43f137107",
      "2ef7b0cd34cf4227a936feab483fce49",
      "e95a59cd0d774cb7b490a14ff42847ed",
      "fdf802115b8a4761a00862fd94bc784c",
      "86ecd99143d84b0a83923d18e93007ee",
      "5db33e981df247ea95c943de20660875",
      "d022dcc1f9e14a4c821eb3be79a41dae",
      "fb790dd697ad4578a4faf720d17e5724",
      "9497198db0424bd288c5d3f22f1a5cf1",
      "592a79faae32464c81bddbf28dc3d2ae",
      "cbfa172763c341a3a9b689e928af9258",
      "2f5846c502a643a88dfb850952c0d112",
      "3162363c59b64eca99f2622baad5a2d1",
      "629f3040c989489d8ee55965c8d28b1a",
      "74e870df525241edb0e8e3641b377403",
      "b6dbe4a582f944e29be95835ed46e5e0",
      "861f2413ce01427a84f4ad9a6d02b5a9",
      "540949fbb02d4d30812d2d82119fba48",
      "92bae6073a2846e9924821b0102d09b8",
      "e8066238528b41f4b969fc7b8e7877bf",
      "71e7cbd1e2d24723926b299ec1bb66ea",
      "2ddb435f320b42bfbbe430591170b100",
      "faca9f383ded43daae4ff0d4c18b46b2",
      "343fc64ff0274f88b3c58db7004fbaad",
      "f157f90a0a42437d9a314fe69772bf41",
      "e14571b130fd4c9db4f0ef5b3e959adf",
      "4cce8af86d8341848d42b49b9cc8bc98",
      "e8559dbfd0ea4d54b4cc262bb449de67",
      "3e5e1a017c5d4aa99e8bf80e2721c87f",
      "7d3789f9d57f47a1a553d7004737f8b5",
      "69d3e6aedfff411fb22f9369ac28c76a",
      "f02e289716e143b4af3043db717365d5",
      "6899a0f342424a9b8d6fbbe648af4e67",
      "6e9581feebd240928b6cd2413c8ab55e",
      "b174fbfec1e7419ebf1beb49d3033703",
      "3fc1d31632e2494898440da72e861124",
      "585c6991c8804c63a80af0b7a4151d04",
      "164a9202b74b4653a51c2f15f0cf3071",
      "d928ba9a4bfd448caaf0938a6b4b7225",
      "e1d3bdca591d40f082364fb09bbea66e",
      "717fb8a93e9f4609b0e316c7c5bbcbd2",
      "63e4d0c810f64c0390d089c299673d83",
      "fe66f77dfa8c4776b405bddc15edea7a",
      "326cf0e32b7b4f8f95d69806279a0d6d",
      "ea2616900d08422fb0578ab1cb9e851f",
      "f72aab10e8234f8e98a5195e8ecc9754",
      "ffdccc7370894acaad270b68da9ca352",
      "236df55179cb48c6b45a471419cb61ed",
      "490c38e4d95646289d2d1ebc7c875af9",
      "e80f4087d10d4c4da60c34e22ecbab29",
      "fe246ae8c0ae4f7abc2ab960233c3413",
      "c03c83cf5113415097366889e7ef7c99",
      "6db7edeed60144a5bccc8e6d324a83a3",
      "d13339975c714dc9b9ec97f949ccc4d5",
      "443b0debb6654fb286b8a868d99955ba",
      "9f3dbb2dbd0a49d5a11942227aeb9118",
      "753e7da3908f43cca2dc54e340a0d138",
      "7e84f3f96aa0477ea1c0e99d5e75bce6",
      "dbcb9ee8b05844bd8016b7f4922509c5",
      "3be57d3594ca4b8b86d75dad2dbcddab",
      "47e277f02c4542bf936fe5d04b6ab255",
      "0acac8247a2b4190a35e0d05ac359cb6",
      "05e36fcf0234412a9f249ddcbeacc84b",
      "01713a5da1c546a9b8c685ecef63db05",
      "bb78cfa66f544772872993b5bffe4422",
      "278d929ace0540dfa5d824d5f78df991",
      "42d1236be8ff4c2b977f3e6fb7df5b92",
      "eb758bdf29824b30b91dcf9be1012838",
      "eb5299eeec93447a80916a425fbfe2da",
      "98788afb994e4f18ad9724048d72cb21",
      "bb2463c70d2b418c9db672b81c900c89",
      "8a02dce2f2d34595b4da23573c358b88",
      "62e7542a728c42409853534e1573bd52",
      "90a0683c7d7c4e48a2eedb1cf352e1c8",
      "0230303dad57478cbe4615ebdee7f3b3",
      "a5bc68927dc8472984d78c0e1643d34b",
      "a9b3baaf09cf49b1b9b511df1eeb2643",
      "4e9e0e0691b04ecf910b38e964d58d1e",
      "8c1efcebf3f24666aaea3f038b58c284",
      "238633f6a1564de794a0e0077fac0398",
      "d1e92757e4144d35b1c6d28d3aa60825",
      "d48ff9acf9c44b448b6ab504c93ed863",
      "6b568381b1c5425aabe0024aeab5bc0e",
      "88d2511c565b41fcb563beb1ddb96141",
      "824a02a2b70b43b3aa2e775b0f9d607a",
      "5fd77e81c9b5413cabce326f4c242005",
      "4b97e7cafaf84dcb89644613dae201e9",
      "8e0e38046a704381849076043cab088b",
      "281cd32073a74802bac7db48093df9e7",
      "113fb26eaa3141bb9e24adf4167a8c89",
      "643a76d98f344087b959f2d85b6c7cd0",
      "a2f3d47efd4b42f0bc04119093c991fa",
      "125cacd1d2014f4f9a5938571686a80d",
      "675cfab229644e4388eacddd8798ec9c",
      "93286a98166b4241a2da53d273077ef2",
      "f6a3a72d16ab4f2dae676a6f9dd7d99c",
      "c5f0b146f486443d81a89ed6a58e8191",
      "7ac668392ea24ad18d50579db2ba5921",
      "437c1f8f5a734e93b567cb6d0e09bdf0",
      "7f62064e1eee4e09b955dfdb75e1301b",
      "a4f2781ba95a4ae68e965abb8b82dd83",
      "3563467a26664af895ba2b9b63c07fde",
      "5820c77304c84da2b0c84918b92af978",
      "3a7bf9239c8f4c9d918cd721db1ad0e3",
      "9082a70fff4c4391a01099219b64fbdf",
      "cea016b2a98d4b4c9673d89e043117c4",
      "15ba6a75d3d84c71b4ebebcfd01e5aea",
      "d93be2a522d74a8eb61fc22f62023703",
      "932c6a774c164ee4b3f2805f74db982f",
      "b710359e40ec4bcf9de8ecabead36b8e",
      "de031a53b12a489fb765ab1c764cd07f",
      "a656fdf761434ac995630832b1075e26",
      "c55eed48fd404b7695c807863f704b6d",
      "97dc412295e04ad19fdc63957a7df373",
      "7139b5e76cf843fb90d23f6d16fc4403",
      "ed43b772d36f440480733d6272a0b7ed",
      "d5a095c18dae47f7ab0affacb45dc00e",
      "67df95c1c95e48a29dbb98e328e1a2d1",
      "b61aee032f0e4f3398b90f3938fd772e",
      "7e1744fd510a4710962afcf14b9351db",
      "91de278d85c64db1a88b1e645065d469",
      "b0f89a8c769d45e28fe95bcbfe32e140",
      "c3b3c418f992428db60be03dda6fea21",
      "10252f207f1f4d599ef187fff54a4cb3",
      "9ad6222a9170452a926ce4e86e113d98",
      "f54b26ad2cc14ed8a8ea35dd106e9f39",
      "f7493fb18f1e4766aba194dbaea57edb",
      "1fa7d0b02cf34754bbb26b14ec8ad2d2",
      "aa921e286411453cba8b14c780cca818",
      "ec782a13680a4725b2324dd226faf103",
      "d6a4f103f1044d588e8119829aea5b43",
      "642fb2f093164bdb8549ef28f18fa655",
      "5bbd2d7e42ba42c6acf5a1a20c06fa46",
      "f3f1f2571e4f4ae0aac9d3f62b6861a2",
      "e7eec2d77b94452c9c7e90728aa29782",
      "153d883ff44d4e018fa64bc12fe146f1",
      "9adbcd0f891f4b858c67c421964b03db",
      "81e89c90c4604e008669f4989e549fc1",
      "8fb64ca4033f43ffb2853c141db5e662",
      "f79766285a7d4a74bb85b6c879fd6d13",
      "1eb90308471e4a279021e7bcadef7b0f",
      "dfd992bc408747f49655b2c7c63b740d",
      "2cbeadbcd0bd4c30b4757c0fbda34463",
      "390c59dd1b70443a8eb8b45c9f5874e5",
      "0330abf616494d899793546372722a7d",
      "81237223bb0a492bb27ad297dbd01b5a",
      "6ec4883155c9455eb584d0cc981a6814",
      "07824511a8f34385901447a2bb385b0d",
      "221c344f9326446b8e8fd128bd7a6404",
      "ff71f3da3cf8474987f6bb2cf94e58ec",
      "558f5560952441109e44fcd70110663e",
      "8f9a1cfca6c84a7194f26ef1750c0097",
      "7b52e9d1a44644b69e2dc239f175c791",
      "4e792dd21fbd40039546383f3e5643ef",
      "ebf021c6d0d54201a9091ef94d06cac5",
      "0d5ff768850c4bff85aa4558b0e72c05",
      "dedfdf8f676249a5a2d88d33afd83776",
      "965d8e1c4cff44beaaf4f056b17af147",
      "57c96d80d343472cb75af215509bc19d",
      "fd4d5e67fa0b40d194e6c7c7b938beb7",
      "5a99338a1398426a89d025a8eaf6ddfb",
      "a8c9d3930af0442dba8f6b89df3a4b97",
      "1e13440d091b4f47b963a746ac2d338e",
      "a46fd0dd074d40ddb64dd3c090ede553",
      "5478c523df8a4c69ac4765d3a59430ce",
      "dae94f87d00e4b0589c45f8597c49f7e",
      "cb11e64f2a034bf6865539cab8fcffa6",
      "ca1b6aca30f9406d89e1ca478b1b92a8",
      "92c654c3a1614238b8e6386a7a875cef",
      "cb40ac04bce94d75bca3effb664a2426",
      "ba6484e1820d44a9affcb43db8bd606c",
      "0a69f53da3254db7b4540c02e951f937",
      "808f86cfd10142b5874bc5110de93418",
      "640cc81e8e7c4f098b897ab64c9aa0ae",
      "889830934e594a9991ded8a2c944e018",
      "5968bd62714f496f9691147270432eb8",
      "67e5071b96f4491db6404019e3be4df9",
      "99f1aac9ba914f188d75504c636a4f86",
      "f4268d37a8274dd68d856cd3962f0cd4",
      "834a1ede13c5409886cce1d0bfda8093",
      "1ddc55bcb3bd4429af544b8d65bffd87",
      "766b0417a08a49a486a74214b3a05c37",
      "9fa8387ba0454befbeb0e995e3af8c04",
      "9f812d7a6f9a4567b58a2e8197a35359",
      "3de1676950994e2894116821ba5d1d5a",
      "1d88310d34734ab38d6372fc05c469af",
      "3f1c456d3a0642d49c07326ae03c0909",
      "9fb430545f354804bd11a948f32c4088",
      "dd965e5a027b4cfeae74028c593a44d9",
      "517e38c21fe14fd69534e0dc1eb8e0e5",
      "547ca97d9c554e9fa934c59fde50f8d2",
      "5f3be2b1d0354b07b65fce218a377d65",
      "5a7d3dd908a04285bca1ed88f951d522",
      "5f48d41b810a40e689a7271891ca3c81",
      "18b37c8004ab4d50af6070e5ef38bd2a",
      "6232591151fe43a6ae8c10bb96858e20",
      "665beeb348404cdb8f5339d6460cb4a6",
      "584756f61dc5493fa4c7becc56b61933",
      "53677629a25848ffa936cdbcccf08ea9",
      "7383a2b351e64049a24c6562adc92f00",
      "023bf7f04cee4e069b46eb86f5ca6fc0",
      "76450f65eae6467883e0f3bee4bfe716",
      "11ed69f5d52d4949bbed37b93b71d1bf",
      "f4b0e67043e944f08df8444357a994a5",
      "a0c4d49854c9497bad00acfefb089dd7",
      "e937ccae3eeb4db8b6b4e6085eb353f1",
      "2d789f6f069c416c843e973a9a011725",
      "37e8ee0ee5134285b93c6be7a3c75c1e",
      "fd8f6208d6e04a13a0348f1b8e12b41a",
      "60e68aeabf4040ddbc1b371869b6a8d2",
      "8c075cb88d89476096aa7e18313ae1db",
      "455c02e334f74498bff7f645fba5ab37",
      "8af7fa1d132d43129041ed964ee297b0",
      "d4d4a4a31bf44a5e896aea7d8fbf2e65",
      "4838a27fcce443bfa8a4f0df305c49a3",
      "e688ad8934a9426f9a129d3eb7557115",
      "b678793fe916470b9ac930faaa8e5129",
      "2a020315a54842e48ca7fe23545f7d53",
      "2f986d86cd3241d8aca009303e7f3c6f",
      "4e331f9916874a478bedae661b9dda81",
      "06be485b39a144fa88b348f64daee789",
      "3d3fd0aa5d924840aac1151160121a2d",
      "e7527665083747b08399dcff7906d57b",
      "05329912de0c4f43b84452f1a1efce29",
      "38188002f3dc46e495eb1a61268991ef",
      "781476c616ca4687af08c2a6f57e7530",
      "56e21dfdeda84e829df110de83e5a9d5",
      "9beea94b92d64ccc9650a9d9a5bcab42",
      "e02fe8ff37054476bc2734202a999f3d",
      "2738faf72ea54ffd9d8d093506b9df9d",
      "d5ee108779bc4e39af66082fd9570fd9",
      "afe1aca2e3564ea0a9b0b26c7a6c7aa8",
      "30e62752c6bf4ed988ad309b3daff6cc",
      "167dd9545b0b40dfa80a827711c6a1ff",
      "de35489a5027465bbd89c500a2361d4e",
      "75f4e2111a0c4009bcb5ba58648f73cb",
      "68bdeda8e7654b0c8ab12b4f441dc44f",
      "ae46a9252b444f639e7b477b494b0057",
      "ec15697ae90542e8a1c14c373fe91069",
      "8ff671a5af944d59ba42b63ead91b649",
      "52aa6bdaa59542ce8367832684685346",
      "72368f4e3fb244fb8f2230303e69d8f0",
      "0dbdb324032c45ef9f822a13ac48b76d",
      "db142a16bb764850befa709ae42fe846",
      "0cb4ff791d0145cd9dbd84f4f5040af2",
      "04e9b368f03c45c5a7d7b1a370da62ac",
      "1d5ac20127ff49f3b48e0a1746549665",
      "94a543f0c007428493e7bfef67588afc",
      "2f71ad3165db43c188f72f74784ad43e",
      "95ad30bd38914af096ae6990687c7115",
      "cfb95bfd0385430995830a965400c055",
      "788ba41fb7984d8397aa358c7b3c89b8",
      "7c177175632d4b4685f8417d852f8c87",
      "eedc76e5c5c744619329d1e5cbb2b59b",
      "894da7ee30e04fd9894cc2b40778cb2d",
      "abdd46504da048969c50cea512a00e00",
      "a80ddd17dbbb49e3a3494b338124f4b6",
      "a7d98130a1054c2496f8eacf5975ef6a",
      "bee83874ba4e4429bff0a9f6ddf03b03",
      "4c63477f36344a07953e12fb2d967a63",
      "ee759b377280407eadabafc39ee21376",
      "7524b36df1fd421ba819ade5cb186eb1",
      "08c79c9c6aa0422ebac4db6e425b4a9f",
      "96ab701d504f4618833f185da5677ad3",
      "fc097ed501cc47cdb19de473668d1a9b",
      "449901e1e48f4b6d8caae0ab5cbe286a",
      "6c6dcb83b3dd43c2a52039083f57e5c4",
      "1a11397d276c4890a075e9aa99c2902f",
      "be1be0ad22994d458710042fc3af20c2",
      "5bcccf650fb14582bc3dfa69655e61c1",
      "761eb86a7e64481fb65769d3b36e6cc6",
      "ebe6a6dfd48b4afdbbc0f72a48505b56",
      "c592d6bcfba34726bed557eefdd71038",
      "5969b5a5f6444cf3875300c5ab1c3e26",
      "84c66343835a4cc4980db269bba81878",
      "979bd789e39f41bd86b7b880c56b3075",
      "ecaeee7471ab4182a42ed6a9bc9c18ff",
      "37595bf3d2fd4aca807eb61fb3295b23",
      "fb27e7ef072a4a1a91c1eff970c6db2a",
      "561e68e3c475434785f24839b0e1bc2c",
      "852ed83cff6d449181e43d8f0c2adbbb",
      "3655b4252f4b46dfbce3bd84ebb6f9c8",
      "57116b74e1d549d3adf68c30e7b27215",
      "8df863973b074fad8d8410a1b1f66d0b",
      "44f0a34b0ec341538161c500e356037c",
      "dcda02ea0f2945ce9da2a2e9e3db5c3a",
      "5733e264acab4db7805c6cb2e56bdaac",
      "4b2f96688e0348518dee8937d86155b2",
      "587d196b70444b55b3fcf198b34d38da",
      "3231bfccdf9945f8bc33804edee4a23e",
      "887a4747558f4232807bc4289d49291f",
      "1ed00bd3af7c44fdb462cfc17dde3355",
      "736cc8ca9bee4e4a8f4ddc9141ac118c",
      "c0d49080985e4fcdbfc1f2ea6b90b1ca",
      "e4bbdb30de9345c9abd6af377dc9e5ff",
      "34999f08800943428fd5e0b9e7f4db13",
      "6c7cbf481be24d8b908876474043a13c",
      "4a46671745dd41aa96726571b3a66d31",
      "ad472af26b594d309ef2bd98b83e7378",
      "a5acfdabd790419f92f2d4fa096380b1",
      "03377f53efd94a7a90679c5a07c3c509",
      "a8ac9f1728fc46aab9b92f991d024fa3",
      "4610e00b919647799b208db39955d777",
      "ad9d50f4beab44f59705524d9a6e3be4",
      "5ee41600d6104e4c84d5af72f920954c",
      "b395d771ff104f3f83d005c521524ff8",
      "09a49e91fefb4262a4000675bf99a3e6",
      "9059b82ad48541c79239abdab2a83a1e",
      "7c9b35e7593141c48e369c41697f03b9",
      "103b868b7629474a8ff54335fca73341",
      "4d12537ae65144f7b878651c1eb2b5b0",
      "479a5ab67d0b4a61a4f0256f30f03891",
      "0681fcf986264b7ca45d9057007fe887",
      "22d7960d4b394b96ae643dbe48112bd0",
      "fe4414b81ec641d8971d92ca2c505a2f",
      "db57b68a180f4258838eb95132fd24cb",
      "0f54ecfcde424d019d0570647b1d9014",
      "a2fab55d9c314f0b8383a94a2251c222",
      "43e8ce92f863498587798a190544335e",
      "061fb49c963144f0a367894b965de5d4",
      "fdcaf9199904429ca8353b7cffab3fde",
      "a09bed460cda4389a60c97aab1026829",
      "863b23e2d186415d84e7f013591d53b4",
      "d706da0fde914e2c9657248f78af3a79",
      "b7272d870e9546b88ac1757b8f0c15c5",
      "baa0ee4c90214e6cb7bc48d606199c7a",
      "f70db33142a044cdbb8020285e984afe",
      "ecad4059aa68424ebc040c9d165de61e",
      "b3ddd068b329466693f1b93405da5fa2",
      "31139ede8c6f4197be1235c05ba87a3a",
      "e975303dba0a413c98b85febfe817869",
      "a92ba118fee44e74bc0b87a9eef62f4a",
      "1f0148cd863f4e5d96c0a5a320ec925f",
      "cd7ffa01de2b4c3294cf26c1b25ad697",
      "74c94d2ab97c4402ac0e0ad84db3d5a5",
      "cc3f52f724d6407fb5af697fa41ad140",
      "87b2d81e603c48babf4159016740908d",
      "0f9572a2087748538b2aae36f89a429f",
      "28413b53d31842d0850712ae4c00422b",
      "7c6eb54f4bae401d8f73c659422ce5a6",
      "8d6ec5f9efd14d76bbd7c4d1abf3f4d8",
      "e0f15c821cbf4d63873c31487d36ec3d",
      "fa0c0e40ae8e42528470076fe4188bb8",
      "d06ad1ae18d546eb9c13eca3c8e8b9c1",
      "b29e3499892b44b4b08950e4e5515b8f",
      "3acc8eaf9ba14bce97fefa587fc24952",
      "e5e24fac5c9747ccb6bffa74a32c492b",
      "74702ce73f4348c2921cbc7faa7289cb",
      "f7e3ce5a9e864ca28df186fe99455922",
      "ca4ca6fc6a51413092d19e4d226da937",
      "7d5fbefda8164862869954b474d63f3b",
      "0df20b5debd04a3c8096162c5ca43087",
      "42d8e561f8ea4d87bf693dcf89caa14b",
      "63bbcc76143740ecbc5963dbce329859",
      "280feda60fac4929bce64a99b3492f17",
      "8631c55cc7384ff482a2548de8b04c75",
      "3a8ebe3eae9d4723ad3ef8f32a8ca8e8",
      "e570e16fa7fd4bd79fb0d8d8bb98c912",
      "c31a2701c8ca47f581a72147b87d50ab",
      "e9b5e80eeda34f5198ea32eb1c4ecde2",
      "0e0821f37a47460fb747513e276134ff",
      "aa90390c522c44f3820c2a70e1692f7a",
      "68544dc6a2554951a1095084d074e767",
      "c58ebb2ebf944de0bf0fb5aa57fe4a17",
      "c360efa4d83b45ddbdf77d67da1af1e3",
      "ecec506cc5dc475ab94dded8aa872d70",
      "a62c3229b1454d88849a26e10ee7a6a8",
      "d02db07c26674ae9b58920d12c0dfd36",
      "0ee0549e7521477e8a310a05d24ca8e7",
      "8888c108914949f3ae497f90b279c69d",
      "d123d72446404ce2a6e7c54638c64f2e",
      "cc2aa669d85a49c9a5887666e65acc70",
      "f6413e6323b74bbe871fcce0562a579a",
      "6ec86d1921b545ebb893095249eb75ca",
      "8ccdc9aaed5640efab537ef27c7c5bf3",
      "141fc0b146a54ccb8b2e74bb6e4d8420",
      "059123b1654641bb8e2d9a870585b673",
      "ee292f7a1f2e4091a6cb57811d9db3cc",
      "463dc9678e644400b993facc5d4064f4",
      "f9ebabbf17874509a515dd7f483d18a6",
      "fbd170fc3bcb431c994acc781a45c9c9",
      "34080b788198479c8a215800deb046e4",
      "8e9d7b8bd7ff4210b81d545aceab49ad",
      "a11e0e3764bc443488bf18ea4fd39808",
      "85ea7feb9ae84bd8a8effc960cc0e4a6",
      "593f55d3785747c0a34816eb30d5d212",
      "64e5d1b81fde43869219df5f3f4d531a",
      "80e412083ebd49e5bb9b54a7edd862d9",
      "bf1e8bb7bea54a0fb3c1c5552be990a6",
      "04abce85331449f0bdcb3b5c13058cef",
      "55a14ed2e33a419db220436355d1c575",
      "5a0cf79a22bf46e68d583703f15adcfd",
      "84f293ca4a8944faaf29516db60b2715",
      "e4f5649f955542e78192be3d152698f9",
      "e7ee59e6334b4080bcc3426c0077dc86",
      "39b0e9be18bc4843a8ab15b83143c596",
      "cba04b306de842f28daa1226f84d32f0",
      "54d76c09cd2942559c8bf44d02aab0db",
      "dedb13a42d624c67b77724c0a97eaaf9",
      "e4257993dcd3425e8c2baf2623242de3",
      "d591c024722447a1b75b25d3fd8e4f24",
      "8c2bba9b22dd420a8fac8a870a1c56b3",
      "343c7a9309d340a39bcc8c6076b20a12",
      "2e925707c7a7499d8c34900416d2063f",
      "aad1e50838724e78a3d9b966636018ee",
      "9c4de9a32f5d48ba9e3c9bfe72e186bc",
      "3f1adc3eab6342a99d1261d732ee359a",
      "9d12d0b3395d4e7cb6c8d23fd92e5e8c",
      "c01b20babed94a7f8deabdd917497a8c",
      "03783fddf4ce4979a6966802cde03e4e",
      "755e1e77b0544d6abf3e73a7d4882ee2",
      "37fb72270c1d4ec78d639e7bf6a1f8ad",
      "c1e5e6c523d74e42a76f0faa8ae1f80b",
      "fa614f8247a2470ea7aa6d096f432f0d",
      "4fcd82997cdd4ae1b676dcd3c61424da",
      "f04e0f1158c1417d9d8a593006b35cfe",
      "4c210a8e249d485ea3a54646160311bd",
      "38eb3301bc7d40d482d274cd4998c7de",
      "7f69107b24ae47098b8fb3b4a595f150",
      "c785e371106b4a93a12a80bdfc60e975",
      "ef9b17d6b5674c6580e82a378855533a",
      "b34f3eef7b264060bc8154877e3ec191",
      "f06b510dfb3f44589bfae6b4b773ccda",
      "a7c8e88f21ec4c2084bf336a54011366",
      "d3267220e47446afba7d5ae826a2440c",
      "b5d130b157904107b23e6f17e06871dc",
      "28ada0781fda4969af86d28502b941d3",
      "df7eea757f3940628323143efe491fba",
      "13a82c5650494d5390a08f3110722d7d",
      "9f9f3a6e2e5b40dca33db19d1ff01070",
      "2436b39f73a44b7a912798ad2681f4f3",
      "0877630407d24e36ae70fd6c20bb096c",
      "a4221b4585704db3b80d8281f93ae49e",
      "76487d6010f947d6ac8752738424a81a",
      "4f8b785f58a34dc0bda03d8db5cff546",
      "c048a73ec63b4c89a5c6769726077ff6",
      "678c1b3e41b04c8cb558b6ae929d13be",
      "c7531789850c4a79a9d96b0a94b79b7b",
      "0f51a3d2e3774c15b55bd2a9e02f344a",
      "ad54ca6147c549e695ff65df53015aed",
      "5c7ac899f5d94d7199c38162c1560ebf",
      "4c15b7a46d9843aca052de587cde87de",
      "ba91d94d5aad4d26b4ddfed41859f00c",
      "70742985f7014d0993257a0a562a23e2",
      "1657e50f020d45ada735acb3f5df7755",
      "83921527a69e49ce915889193fe66bce",
      "8b1815d65f424387b1ff3529ba18f3ed",
      "19dc0c56ce184b5683f2536e3a076c89",
      "76871aa4ca54415681180a6c1c72b9cd",
      "49b3fa4639bd47a9b0d7af241be76966",
      "637b32d2089a47fe9be8ca915c45887b",
      "6e862a13f73040fea0f855b204962c93",
      "dbce508a2f024baca71131339ca4d739",
      "797aa610b6704e0dbc1c7eed21b2d2de",
      "9102a82e183f4191ae3f633b5f0928a5",
      "15955040b29b41adae9867ee1ff41c96",
      "0d79dbc7db544254967580504cc8b5f2",
      "cc6f04f8a6dc4771beee122083e0a887",
      "1987fe2c9b7d4a958138969525b806f8",
      "27d3851526834dde96db64a0ab07dc61",
      "4e31e212e20540878145fc37a746a244",
      "9c5d174f41344ccc859eeedcc76763b6",
      "9089ff5ecc154ce1b633710df08af47a",
      "ee190b345d804e428e210deaf773e6ea",
      "1e06499932974aad8fba852767d9ccab",
      "29f0cad66a3e4ba4bb09338216be1f04",
      "8c4c02ddcba44c2db0c0911708ccd322",
      "3644ae0e50cc4bf3b7643e8784bca45d",
      "8e30bf676ed8495998debc3eba33ab2b",
      "679961cc500e4c439f01dd93daf97160",
      "f244d0365ee14e28bdcb9996966abc71",
      "a92e5b5f83e644e8998f881cdff9c136",
      "4137cf481cd6484aaf47860fa5112175",
      "865a2a28ec4b4e78b11d2d1a5f64f848",
      "00b3454af7bf48679d818c5c957591d6",
      "96e27ad57a6c467193cf74cde66ca4e3",
      "2cc3b09f9a4c4257891b2c4a66c88698",
      "efc095b5148e4a7fba62d98183130567",
      "b71a8817dd50413196c98d4e4d33a6cb",
      "1b654196563a4f4b87b44ef80a4acdac",
      "b0c4374af721463db9d3d370c610c228",
      "3008b02fbf024afd9d4411cbb0fb3daa",
      "baddaf0b1d4d47859a996d4e7c925c49",
      "a4bd981995ec4c8fb6f7325a10f9c41c",
      "35d1e6190b6c4f67945d7a1de587e060",
      "64d4d9df15fc406eae484d6e046a60f2",
      "89e4954abd6a4ba58cc9a16fd3861648",
      "6095a163ab7f43d18a7599e6e2979f37",
      "6ab7eb3856f6434abeb101d896e6b64b",
      "e9548f5c8ce940418bc709c009dd48d6",
      "de41e57c61124e179f26f0602d164193",
      "991ec6cac09d418d8a5b37400ac01a1f",
      "3eb7662c04f842469b13177a13643446",
      "eba5a67479f84bc680ad8c4c1b38dafb",
      "6f98ce6bcc7f416597e9cbbafbec1897",
      "8df548442393429ba884516e6a2efa6e",
      "1035b11daa4a4bda88591f74c592cacd",
      "fc5312638b5e45ac9197943ea0ff2433",
      "ae91ce5bc9784df6914ad069e84d700c",
      "6f6ad53355f944c48e1600f091f2d941",
      "67296464a86449c6b92e9c77415cf0be",
      "69a2131874f74ec0af68f99d579509d6",
      "f36e529936a44378aaf96b510e306bc7",
      "6189740093ea49188bc8d8fdbd5853a4",
      "ebdefa1eea9c41ff88056c7020f4b5bd",
      "55a38fd300da41a7bf6efb1afa521ad8",
      "a6fc09a4266f4eeab15440fe8cd53087",
      "6b4d7e215e474ae8a09f506050888c92",
      "7febdc3ac7e2411d974c66b70548a893",
      "590271e5515a418ba28aa5ad0e8fc204",
      "a1303b79bfc947959017b68e8ae5f16f",
      "63a0690f48dc46eea285ed60f527b634",
      "feef027c34f94aca9dc1136de553b90e",
      "6404443fadbd466bb4b6b67e8bb1087d",
      "932265c89859445e9f77bf6137a823ae",
      "ac1eabf354b547478ee287ebb5bcffe2",
      "1231fe2043a04fff98b3e47b6cb54ca3",
      "095f9ca51559422a9383daa0a74013ce",
      "f572c2df95804f589ced6856b4051eca",
      "20896ab45e444079bffa2feb2318fe12",
      "3011b2b1055e488d8a8194995d06d005",
      "4bf67edbd306432ba1a6b0859f8fece5",
      "a63ca8c65ddb4cb788de83bdaeb9601d",
      "1edf69495c52460199f4a6b0c46dbebc",
      "b4557643220c4a79a30d2e3d8ff49d9f",
      "e598a8ec6ae54902862e37a4c2b8ee3f",
      "e4c80cca783c423dac9b12e46a68a016",
      "e7e731f84e8a420dbb3b9cc1ec9da581",
      "300b3de77bca477a910a00cd31de8206",
      "49b76ffdda1245b58c0032c6b7ec5dfa",
      "d346263634404e1593278e57f9297dd7",
      "b5e295957529487e92be4935634c0386",
      "2af82c970be84d82b5252c7b987b89ab",
      "3d90bbcef67747efbf63176511371859",
      "f157e8ffc6cc40abbc54b668912ffcff",
      "21f444b61e684b4eb4cec0b9535a3b2c",
      "4f5919f678ba45d1adebe7cfffc76256",
      "8c2d6530d3a641c6ad33ecbc66969e4f",
      "701da4e523904a48be1c5a18d0d6105c",
      "c41d0c5a26bb4ef8be142096930412de",
      "ef1e9ec8379447439d378b38fff4803d",
      "5093112b5100421281f2581337f5c23a",
      "10ead920ae25441bac1c747d333beb2b",
      "6717e83220174e99a7b640feb9436f7a",
      "fe08ae4007e245e4b35c6b8cb4b351b1",
      "6635cb83102b4b2da617c877cb4f547b",
      "da34a06c1abf44749439cf6b34299054",
      "28679bb270d748388252d653cdc3527a",
      "2ed55a257e7f45c48e936e4ddebc53f1",
      "9eb3d4e5d2744b98af3f5ac3cb466507",
      "85a8259c107a4018ac2cb28b6787c8b4",
      "9f6af8e9c0dd47649e6251fa95686857",
      "d8067cffe9234f9883f6bae61ef99be5",
      "cc67ab83ef53485282bba36fbaf058b7",
      "a5302e231e554d2ba3afc2cf4af0077b",
      "a582fdaab27845dd909e00ee23ec89ef",
      "5ed7acd002354afc9b7d5bb3d03e8547",
      "dfe6241b3de342c18e38c8c11e24ef1c",
      "5819177c968c48ebb278e49c1feabe6f",
      "31ce135986174fe3a1181a1172d4fe4d",
      "83097e377cba4800b86ae4d841e2bdca",
      "27dc12dfce0c4c69b01d244ea174259c",
      "6f7e4acb169249458380c6fab53ea4c1",
      "fbe56e0fa4c54df2bc060a2e94672c74",
      "c2074c829304436588f6e6ef7c271eb7",
      "05e2a1de24a244b28b25a5e5578b6a96",
      "bd9892bc83f04188977fa0f8d565dacc",
      "8d3a73f26f7c4afa946eff260f552b86",
      "89730b973e1b4bf1b0cd89aecff75ec6",
      "e022d95e5abc4501bcd85eaa692ba09a",
      "f11d13cefc3042d9b4aa5fb61cc2285b",
      "8980ae879e144743b27926201ff2a293",
      "44a161ac761e421e8b5801b590d9e5ea",
      "299fef7536ea4374b8e00bdce3c00b22",
      "4105bf931b214406ad4682c2503eec01",
      "9bb6b65f53f049a0ab629b9f43fe9e20",
      "f911c652d85a4e6da66efe107721cdfe",
      "a59eefed7f0f404b91fe3df2859f44e1",
      "22f82d40991f48fc8e352a31945a640a",
      "1923d62242d14bc9957a7541e87d413c",
      "f32ef69dd95c4c87b32d5c0f103c6932",
      "ede203d8c4f949bf84e159d748e0ec97",
      "5e7077296bd145e686ddc513a775ec01",
      "00053a6fb0ea4c05808b678b8f99f640",
      "834bd38df9324bd4b3c4926832ea7a2f",
      "4c15cc1323f84d0dba9c31a294658858",
      "a7d7b0b0361e4f2ba44665b0d067cae3",
      "d2d3dc62bf9046cd919960d84c96bda8",
      "17e4d6c01eb9437a93cc384e5ba5e110",
      "77617fee37dc42e6ba3253fcf703faf4",
      "228a145744974b83a6c00f7ada34e3dc",
      "b4d680ecb0614336b837985d4b29cdeb",
      "65f646e55d844c08bfe176d6bbd9731d",
      "f9dfd7cdbba04730bb2701bc83083e25",
      "0b92488116bd40aab8ade6c76056045c",
      "54a4e8aab10a413684ed565e8791a18f",
      "7a09d20932e744e0b3975031497ba78d",
      "85396ad76f594eefa44b0ce6295a7664",
      "82ec2c4af6674b1a97c72463a2e5dadf",
      "4e08dff4d0f8481a814a0c5ecb9b2aca",
      "a661ac4ea060470c97ebe9f0e1fba621",
      "6106cc04fa6b4cc1ad0eae3c523ddf55",
      "76b24ad9683b46a4b47b5ce96116f1cd",
      "53f516d8b17b4fe4a91df969ed620e1c",
      "c8bfd26e915f4af9849e6c8ed4e4b194",
      "dc28177d7b234c61a6afd683ddb0ee77",
      "410dc6d734fa47a1b60cb27bbe72b46c",
      "b29d7b611a164bfa87b7e15bfad9745e",
      "a29395287421446fa8608ed83a4ce956",
      "4ab98d78ae324cf3874277fc4e5c43bb",
      "ca9b5f4a9c3a45898b7154e687476bc7",
      "3a553b66414c413281e93e8c5d2f9dc5",
      "3860ce53fc374e0eb2aafc14c2e80281",
      "d9f94b5e962e449cb90064afae4036a8",
      "bc7bf24c2421460bbbbb64e34bb42421",
      "500d36d6b78e4785a1f37309f96a73d7",
      "e99413b49da34529bbe1401ea967e9ab",
      "08caf923aec6476da0b39f8eef6d414d",
      "4e9e7c7a75624388b451c541781c9c33",
      "2864ecfc4c3342d1b5bcb7c7d91b2a6c",
      "aebdf135de7049f1aee90fcf9b65d22f",
      "17e9811821354ac9bb35a12aafd650b6",
      "f691484440104614b6d0fa0fcd871bfc",
      "02fd9da76be247bab2d6054377ddedc7",
      "621fe49cafde46d792ad73d03b45d1b3",
      "9c2effc3c9004ee08cc40140e0cc5fd6",
      "1bb0cbd81fe3449a9f1dfbdea38195d1",
      "389f7a9237d54788875421730a76a9e8",
      "9d77249ed14f48c1ade5fae8b2e8365f",
      "9d934f347c7545f2a555758ad8f67dd2",
      "953b6749c8d14a72b1fe8b534613b994",
      "be8e53d2183c485985799154c3909977",
      "1327e7afe8c944f292904afff74f0551",
      "d51f5ee99ec64909bf41a61bc7597824",
      "6973138966e346c3909d4364bb6eeb55",
      "4e4cac3893b34fcc8b821586d3759897",
      "0c459998e67242379a896054855c5484",
      "a63ab093a6b047ae9a0767f1d6909353",
      "f6fa87f3063d48c2b55d4afa95165579",
      "4b0999358a9b482fa6af11a39fe66b6a",
      "8b809abc06e748eb84818d4d9648b5b6",
      "a96b9ee35717434d93b3ae452c926174",
      "a195f55c1fa74701b0a254495828b3ff",
      "cb427c2f5dec4e0686274edcffffaf24",
      "c0ba4f17bc9f4391aa53baafef8781ee",
      "f54a3e8b554f4f64a4510e9c812c4f00",
      "9fb3230db55f4e56a68d14a2fcb80484",
      "e91684fe5ac0442eb8290a2361b0d05a",
      "2b7cfd915eed47afa1a3a9d43b5425b1",
      "8fdc3e183f5040b7a13a6ff2fadcd61f",
      "dedc38c560c44f7b864975eb92e76c7a",
      "be953ed108f94350a050511627747d3e",
      "d428c9a9e4de466d90ef78268acd88e1",
      "1e5a7f9335024378be995a2bbc3d04a4",
      "5d7e1a7ad833475c9cb3e9cf4a7b3ab1",
      "efc1d9e82b0e459080048743860ee505",
      "085cef4ab5964fe59e88cc5a5f634977",
      "e4c3ce9f0d3844c1b3d63d0e640c1880",
      "e2cf5ccf2a0c461b983cf4fa410f2fb1",
      "30a71ef3d351454797a51dfa61610b10",
      "0e148d6f547845dd9c56e26143e1b63b",
      "3b65ed26467449aea8972c0b12f0d498",
      "5059ef59e94049d39b2a3729e9346714",
      "02e93485f67342bdb8a910b597aa8f4c",
      "735e6ae542244818bb44311169639365",
      "249195e7567e47fc9aacb4f6d7118444",
      "25be2d29b81a4c1482ccc6d75bb9e975",
      "287f00ac9f624c3a9fd52ba976a2e8da",
      "74accebd0e484c559fe5098e04c4e5cc",
      "9b87be2c718e4cc4ac5209c0cd7197ba",
      "d060f9f737624894a45248761a0f3a35",
      "811c5feb420b4fcf98abe4a2d27c422e",
      "4851b4c9af4447349634cffb9c6011a1",
      "7a88f75f29a24a0abf411dd713460bed",
      "801a9d4a3f0645ccbe6e794ccd902efd",
      "2f74133389484a0c92a47aa3957ea5f6",
      "174eb12635844e12af9ec05d9d2a3e4f",
      "5f241e9cce474bb4901de223749e3831",
      "345998f0ebc44315a6be9eacfcdbfaea",
      "f165476af8734fa18382e113a8b071de",
      "153aa05b691249bdad4cac7267959f46",
      "fe3e212fb1154ffd8a5a72f7b1eff359",
      "c9f0e0619af84cc2a1050236a3dd2a9f",
      "3ddde841e9524bcba272abae6cf7955f",
      "4d74eba62e524902bc628443e71b1562",
      "18f442ac2c30412d9cb19c4e19eb90c1",
      "eacbac9c306c4205acd98d544089c8ef",
      "884c6cfe42ec42448f2ee53d0a922e2a",
      "cd2879cace664479924165ebd5e5c5f4",
      "5a8d78301c3d41b28353e8ac8ee0d763",
      "235d41f7d8d64c639532ad7735798ba3",
      "bb05f8e8e2014fdc9132dbbdb86668cd",
      "53dddc1933664e6095517089eb0bc36d",
      "6927e1946265463b98c9c07e6e81854e",
      "9f22da7895624a0488ad31db4fbf59da",
      "0157b711c9e44b9a8242fa99db29f7ce",
      "c87dd34f4dcb4a03b02fccf5839d5e41",
      "0db53821b33c4d6098e34006debce556",
      "6e0f493ae17f400ca20b1cc5a34b22ef",
      "b8ae5f244d0e4da8bcb2ff2553721c8a",
      "2ba4dee6e4e24c77bd0232e83b04175f",
      "ff4538693b7146078d749aba115413db",
      "8552ec201fb248209b79b0a6a23d02d9",
      "e94302f1d7bc4cee8266eaf8351a68c3",
      "61cfa7817e534462830548ff909c0301",
      "aee4ed21ee404ae0b8c19f60560a714e",
      "0bb28b3560de4363bb27308232055659",
      "72b9497250e341588fb2156123f8cd18",
      "105cd041c48940b884c78be393f4c1b1",
      "a92b145aa4d7417199ae08f8649aed70",
      "b3df252f1fca42fca5116143d8582ba8",
      "e94e0952d801452290f0a5786556cb86",
      "c131f0cbcb1146fea9545615aa844e5d",
      "7d90b75c28f94906999d6a0ea590fecd",
      "55730923519344cd822749f59f712a6c",
      "dd07a6cc7d3f4e59990c634623daae45",
      "198ab3d9887f40c48f15bae3e43c60a6",
      "cd10a09c570b4a868faec733ef34cb42",
      "af3accabc88c4152b1d41f61db380caf",
      "7ebc9851ac2e44efbba735174d026a00",
      "4149ad21a95545dea78302313ed79582",
      "d2ee8921f59245bc91424261d097ab0a",
      "558eaa0e8c5748f39eeb7c1abac69e7d",
      "c5f173a6d58c4f4493e643da22456029",
      "f555aeb77e3a4347b2611b857042d1da",
      "37c7bc3bf9b14df899ccf06af2d89867",
      "f642dcebfd7546878e4a5f02b2994012",
      "d5870cdaee3049d997f57bb24a092a34",
      "c274dc79a62942fcb3bd989060bdb62c",
      "6c8f0e9840974ad7859f8884739a6057",
      "6d12c144492346fc88dfcfb42b6bdcd8",
      "2db5c3a068694456ab268c760b228046",
      "f2d7e430eb5149afb678604c0bc4f8f8",
      "e28c727fc0204c4ebe144f630d83902b",
      "4f102b4abc0d42579795955475f8fd0b",
      "9c078b61b7404814a0db94e78a435e9f",
      "370b7e845ce5457aad2ade48e71e58cb",
      "61aa2bc53b4a45af8b7e181fecd255dc",
      "08c36cf81657419785bc5a63570965a7",
      "01ba0cbcda054f35981a27edcf61e82f",
      "4c6cfa962ce1474ebd3e2ae3172ea3b8",
      "a90bbd5914ef4ac5a7f17c5b7f675ede",
      "278807ccc32f41d8b6b16f350e804207",
      "d469e75257094aa0852a351686479536",
      "135a5ad876db404cb998c99a9ebf1270",
      "801435210c4b4daa96437decfe85e615",
      "874cf35341954666ac987939cb79dfc6",
      "68706f44c342400dae955c084950eadd",
      "049f9e8b61ec4a2a94e43ceda4dc585c",
      "4c66aa6709b64074b59ad299e27fe1bc",
      "aac0ea92b707498f99e8e0aac4208fe3",
      "aeb1ead545bf43108c53faa74aaede7d",
      "96720f187f2a4c9e9d806862ba2d1c33",
      "be21bff9dc5c466e899babaef1b18608",
      "cd449a92afd64726bf73fa1018559d71",
      "5957d44608414121b28aac452a03bd16",
      "d3a12019a0984370a6c66558940d085a",
      "d1ff34270bbd48b1b7115f0c51c40ae6",
      "32f8fa2107884f90b6373d21d1e3cb68",
      "c41fdabecceb4f23a065809696ffd912",
      "33f55c5df0b54f76b9f4da27bbcf3e83",
      "962b64d640cd41119026a9a964d318fa",
      "c4bbfc914653435589e3ab44784a4168",
      "98be3589ea2542bbb809cec10742493f",
      "09211baca5f4420f8226bec608b98e15",
      "9c53c72fae7f44b1b2c99637dcbc0cb8",
      "72852bfa3a3a4670ab633dcdcc77849b",
      "8cc81b9c1cc34abdac6bfe88f93867db",
      "d00e89ab2bc240b9971ee3eba2fe63c4",
      "5b46fbec1f894a04846eac9e76a997ed",
      "37ee1d2a01bf40d7b957c382bd9d3b35",
      "82a50fa51b30455eb228c67850b1bbe1",
      "f545c8a7d30d487da1c726dca62b185d",
      "a3f4f7a0158b45f9a0b37478ef0f81cf",
      "74d60e7774c0419ab27330f6dd8814a3",
      "4b37a0fbe8f74c0495164da414e4fb7c",
      "2e4ac99c63034ab3a750786203dd8c2d",
      "6fef7e67218847268bb67fa1cbeb40c9",
      "93cbc3a2ac684f469bf153be1a5a6acf",
      "264b5d9e99594f1ba51aaa135399df7f",
      "803d7264df8247f0ac001dbf98234dfc",
      "2a1ffb91ea184084a01070cf1dc106e4",
      "7cd57c4e89264cb8b512793566b7a892",
      "d318232f8a4c462fa57bf9c7b62927a6",
      "dca371ee845d4db19941f8abd68721da",
      "e1cf39def9fe4772b14dcbddac00e3f4",
      "ebd4ad6f97ae419e85803e1ee3887d78",
      "26abc818921b4c87a008b860ffc4614a",
      "35dd625c9456499fa0d26d770504fd28",
      "1cb2227d62e14d44bab2a6d1ece7e8ca",
      "05fbe8de09e44b96a78f63a5271912c2",
      "532311e2aaf6458d93cf7d5264b3dc59",
      "5a72697a24164962aee2126028e30cc3",
      "9d45736a91ec43eebae86f24d4b2aa99",
      "8cc08cd2fa7c419bada6ab873657bf7e",
      "c0643f75558044de94034c7448990a46",
      "ff412a7e6b854705a20e966344ee2ab4",
      "a73242ef8644419eb2e3f4cc92715b7c",
      "27ab148f2a1e48f592e2e883b694eaa3",
      "e81b878824c845ffa9f84f98e03901d1",
      "be35aca249604ca8bf251c0e4b324964",
      "25595da3ca824b62856fb17947cbfc55",
      "3265e3b5b4914b6d8b7cfab6d15acfcc",
      "b341a4fc6e4848058375f380380f4e8c",
      "0333e31fb40840e4bcdfaaaa41682081",
      "9856a01791974fd98e3e3e806f05ce00",
      "d4decf00ec184df9ad9bcd47a9ad41d7",
      "412df5c24994431c94d1e3e141761361",
      "8f127fd7a87342c0b810fde59e6363af",
      "7d334b1b577a434cbd2239f986d4c7e4",
      "9852961f810a407dbbf08e18ec8da680",
      "5788e607021145f684c4651c2d417121",
      "d2bd35bd22a74924afade9779e404c0e",
      "e6ec28d5763f4bf5a8668b12093eec66",
      "f0bf1713e80d4fcd851855a1f76ce3ac",
      "4a058ae2ca18401dbbd8fbfa4ad6e23a",
      "e96c8c0e337b4fd78f9ca5c891f254ee",
      "f6cf26af4bd0485eb76d3bba4acd3b71",
      "d99f0f01375d4e5eb987676637eae189",
      "199720e6bff74d9281d1883592f132ca",
      "629d526bbace44b3b4020a903f7e1269",
      "0f2d44d28ed447bd8ee70d329121f7db",
      "613d1dbf064d483e8c2a1f4f8babe15c",
      "61a484c028e94d50b72d636e54746aff",
      "1cbd6c4e1e7b4995a86272f7ca522e96",
      "169f1c3c553446d5b42333f0f7c07c38",
      "030b5286f195407da743fbf5fb27bcdd",
      "9859766e5b84447e95ff4864be96f6af",
      "e3ab41b46522470584b2f70b80da3063",
      "b88297db899144c2a7dea495f84dc3d7",
      "4b0645bd5c5b401eb168f928b5adc3c2",
      "5e5023b2000b41e78e4c8a5d10682076",
      "e4296ff5cf1b44eea9b50efbdcd11558",
      "ca27b672b0be4c96ab7e1cbc66d97845",
      "cbd2bd9efb944ab08b78c7c4f24371c6",
      "0f9220ef0af84b11a8e5dcd04398ad2f",
      "486e50233e054eeea7f16ca057a4809f",
      "012f07c4023a4b5eb74a93b505c74663",
      "90dfe6782b554c66b4f0e81b2aa75869",
      "74bb6f522e904bf9b0efdd3ce137d88c",
      "4ede532eac8f40fcae656f7100ca2e73",
      "90cfa16523d54c93ad053dddfccba88a",
      "feea7c7d729e4c64841e5fc671077a6c",
      "8fce10dd933e44e69365d2b564fa4cc4",
      "2cb9b452fdd14797b921e01a1513cb07",
      "26159a1e48e84207993568b96011bcc0",
      "a7d1a75f284244cd9379ef43eecd921e",
      "e16185964bbb40e487f7ea664c456c56",
      "34d1db89c29a478f955c7119ad2262f1",
      "e39c7d9aaac7439cbf10fd9246e47709",
      "6686fe38df7b43eea1c5c5cac50c66b6",
      "4905bed0a33a441cb346c6e15196d71c",
      "b0d45763e13f43418494e3374ad95a65",
      "2d6f9cb16f6e4e8686def73c507431c6",
      "cc4f4dbad85242deaab5055b4c89d392",
      "d6a7e50ab54d48cfa292a9da46c7475b",
      "065984a9573a44cb991123b6b01cafd5",
      "5ef3cd9075114a06a02034e3dac2b8fa",
      "3c31356ab7474a97bce8efa859741e44",
      "a35ffef547ec4b3a924c03f0f4bc9d0b",
      "3ac80199bcc040a1bbbdd9173367ffe6",
      "c760419bf16d47db829690d788b761ba",
      "fe83d3f6fba94c4eb3ad0cdb500c24ba",
      "006fa75bdd9f45b3babcb4104cc13a84",
      "2c1c679d7fcb42fc80735a7ad45cc661",
      "21eb9a29f6314af9af5007f47fba850d",
      "c71ad9679f464ac7bbf582c782ee7837",
      "f1d2e26569fe4d51861c9c583e9b0530",
      "25e3b11b0a644f8d93bfd0c724d08a49",
      "3313141816c74122900863c7e723e5bc",
      "fb8ec22905e24631acc8faeea851e802",
      "723c8164963247928e7bfec7cd67f520",
      "42543c0255894013b71e7b969ecee422",
      "15491b4d21274ed59a7871e193bbfdae",
      "b24b33fb7c21400783907dab919e8481",
      "f699ad8eb9bb4d40bb20367bb1e75e2f",
      "dac1c5be80a540abba27e8e063420461",
      "78e56dd03e49452c993fda8f0a5278c0",
      "0495250cac504457989f6ab0e1cf6a41",
      "0f5a7bd83f6a4df0bd7d99cd4a96c2b1",
      "4b44218152384c939203c9141eb8b07e",
      "a4df749e282e4f4eb4e7350b90fa3a00",
      "a5ec164ac1c8441b86dccb9189227e9c",
      "023732fe5e6347b1830496a10bc29d4a",
      "aa1a0151c0e74a52befaa151edb9bc91",
      "8fc71b50123d4a2abb6fec498a64aac5",
      "58f6c73ca0004d5781b8c70744ba6d9f",
      "1b5da0dbf55747d6b7f2814bd97775ce",
      "d56c41f34b204f55adeda97ebb427485",
      "7a4baaacb21644e9ad1d6370170cb76e",
      "2dba9c6877eb4bb2915dffd8a7ee58cd",
      "01f9b27bfca74efd91b5a21035727717",
      "a03ffb35b2714d2aa356d57f6fb9ab49",
      "6eadc32c7a164105ae547803734571b7",
      "73603f7f7f77465084a952b91b57faca",
      "fc467ed0bc304837b560c7401ea77488",
      "67c9d0d8ec01463f8f095f5d0b1acc04",
      "075f43d5a17644c89cad271eee6ad4ee",
      "814b36905dcc4beaa68de841087fdc36",
      "c9de830b26734cc2bcf504367f7939a7",
      "580d8948619b44ae8ada74583c4a2165",
      "0abf404920124a17938bc8dd8f8d07b5",
      "57910fd906d24cffa40271b8d6a4b45d",
      "2022019a561b458eb95c68878060ac03",
      "0150f014f43743e19c709d4e709394a6",
      "79ba48434f234bce89f81ec5da25fe9b",
      "7c2fa1fc46c8419aac16b0e0acdffb6c",
      "056b561f2276498893f29cd68465abd2",
      "b121898d590648c2b32bada813dc589d",
      "abde20bbfe924c09a1cd552cdfe7dd13",
      "313aad1ec1fb4a349d34e9589d5af742",
      "8e8d724e54804b4ba5851188778cedb1",
      "c5a1c57499aa472ca85f919db9f26a0a",
      "2993f53e148944969c980a2de16b6d90",
      "413318238a1a44e4860a307381eaa799",
      "25a1a527671b4c04b00146ee39b191bd",
      "11c150c1fef94ceaaa8e3e32c04741e2",
      "0ef9103a491744949b11454879f269bb",
      "5b90fd9a5e8445a98038bcb5133fa3b4",
      "a1ac09cf11fd4535ade8de4859fd57ac",
      "924043d1fb1249c380c3caaa5d73c45c",
      "b964167a7ef04ba086f054b664a752e3",
      "2f5ebfa9c73340b186258004f2714f98",
      "ebf06428e3c241e6ae7d79e46a430a3f",
      "04a8ed0721af4031ac8791b666fdfca9",
      "e2426cd86efa42b9b46942a18269b5e0",
      "fa4fb69e692947039ca251d4f3c2980f",
      "f2f739898c3b4a0f93e3432ffbdde26e",
      "bbd7a1945cd64fbea663df083f179051",
      "deff4ad38be941ec9ed3eafaf3a8cf34",
      "3e488a2ccf8b4bb2a141dbab7102a99d",
      "94a6cf73ef104db19499f8aa7c284c3b",
      "bcce7713bd7a4ac49b81b5c2dadabb07",
      "f204ff71c6e14e0ba68676b010092e4d",
      "3d72821c7eaf4a6f94cb0e026163cf49",
      "0c7f8b6c20954aba90e15c394ff50d24"
     ]
    },
    "id": "aDmrgxdiI8mc",
    "outputId": "c25813a1-5493-431a-83f2-23b714f2b23f"
   },
   "outputs": [
    {
     "output_type": "stream",
     "name": "stdout",
     "text": [
      "\n",
      "Starting training...\n",
      "\n"
     ]
    },
    {
     "output_type": "stream",
     "name": "stderr",
     "text": [
      "\r  0%|          | 0/196 [00:00<?, ?it/s]/tmp/ipython-input-1052289112.py:15: FutureWarning: `torch.cuda.amp.autocast(args...)` is deprecated. Please use `torch.amp.autocast('cuda', args...)` instead.\n",
      "  with autocast():\n",
      "Epoch 1 Loss=4.4748 Acc=4.28% LR=0.027908: 100%|\u2588\u2588\u2588\u2588\u2588\u2588\u2588\u2588\u2588\u2588| 196/196 [01:45<00:00,  1.85it/s]\n"
     ]
    },
    {
     "output_type": "stream",
     "name": "stdout",
     "text": [
      "\n",
      "Test set: Average loss: 4.0935, Accuracy: 664/10000 (6.64%)\n",
      "\n",
      "*** New best model! Test Accuracy: 6.64% ***\n"
     ]
    },
    {
     "output_type": "display_data",
     "data": {
      "text/plain": [
       "Processing Files (0 / 0)      : |          |  0.00B /  0.00B            "
      ],
      "application/vnd.jupyter.widget-view+json": {
       "version_major": 2,
       "version_minor": 0,
       "model_id": "b82615bed23e41afa0e5ba82843f6417"
      }
     },
     "metadata": {}
    },
    {
     "output_type": "display_data",
     "data": {
      "text/plain": [
       "New Data Upload               : |          |  0.00B /  0.00B            "
      ],
      "application/vnd.jupyter.widget-view+json": {
       "version_major": 2,
       "version_minor": 0,
       "model_id": "91bec7a859bf40429d32a140c49a70a9"
      }
     },
     "metadata": {}
    },
    {
     "output_type": "display_data",
     "data": {
      "text/plain": [
       "  ./checkpoints/best_model.pth:   0%|          |  554kB /  292MB            "
      ],
      "application/vnd.jupyter.widget-view+json": {
       "version_major": 2,
       "version_minor": 0,
       "model_id": "ff960726d981405e8c8df775dd4e8509"
      }
     },
     "metadata": {}
    },
    {
     "output_type": "stream",
     "name": "stdout",
     "text": [
      "\u2713 Uploaded: best_model.pth\n",
      "Best Test Accuracy so far: 6.64% | Patience: 0/15\n",
      "\n"
     ]
    },
    {
     "output_type": "stream",
     "name": "stderr",
     "text": [
      "Epoch 2 Loss=3.9219 Acc=10.35% LR=0.045908: 100%|\u2588\u2588\u2588\u2588\u2588\u2588\u2588\u2588\u2588\u2588| 196/196 [01:49<00:00,  1.79it/s]\n"
     ]
    },
    {
     "output_type": "stream",
     "name": "stdout",
     "text": [
      "\n",
      "Test set: Average loss: 3.6983, Accuracy: 1282/10000 (12.82%)\n",
      "\n",
      "*** New best model! Test Accuracy: 12.82% ***\n"
     ]
    },
    {
     "output_type": "display_data",
     "data": {
      "text/plain": [
       "Processing Files (0 / 0)      : |          |  0.00B /  0.00B            "
      ],
      "application/vnd.jupyter.widget-view+json": {
       "version_major": 2,
       "version_minor": 0,
       "model_id": "5d29a5d798094d63aa3a7c19bd4889a6"
      }
     },
     "metadata": {}
    },
    {
     "output_type": "display_data",
     "data": {
      "text/plain": [
       "New Data Upload               : |          |  0.00B /  0.00B            "
      ],
      "application/vnd.jupyter.widget-view+json": {
       "version_major": 2,
       "version_minor": 0,
       "model_id": "c4b731523d094daaa6cdc64e3416cd8e"
      }
     },
     "metadata": {}
    },
    {
     "output_type": "display_data",
     "data": {
      "text/plain": [
       "  ./checkpoints/best_model.pth:   0%|          |  555kB /  292MB            "
      ],
      "application/vnd.jupyter.widget-view+json": {
       "version_major": 2,
       "version_minor": 0,
       "model_id": "a1b22c8683964d36820cfd80dd28312d"
      }
     },
     "metadata": {}
    },
    {
     "output_type": "stream",
     "name": "stdout",
     "text": [
      "\u2713 Uploaded: best_model.pth\n",
      "Best Test Accuracy so far: 12.82% | Patience: 0/15\n",
      "\n"
     ]
    },
    {
     "output_type": "stream",
     "name": "stderr",
     "text": [
      "Epoch 3 Loss=4.2744 Acc=16.26% LR=0.063908: 100%|\u2588\u2588\u2588\u2588\u2588\u2588\u2588\u2588\u2588\u2588| 196/196 [01:50<00:00,  1.77it/s]\n"
     ]
    },
    {
     "output_type": "stream",
     "name": "stdout",
     "text": [
      "\n",
      "Test set: Average loss: 3.1793, Accuracy: 2206/10000 (22.06%)\n",
      "\n",
      "*** New best model! Test Accuracy: 22.06% ***\n"
     ]
    },
    {
     "output_type": "display_data",
     "data": {
      "text/plain": [
       "Processing Files (0 / 0)      : |          |  0.00B /  0.00B            "
      ],
      "application/vnd.jupyter.widget-view+json": {
       "version_major": 2,
       "version_minor": 0,
       "model_id": "d4cf754258f54210bf72f9cec1965700"
      }
     },
     "metadata": {}
    },
    {
     "output_type": "display_data",
     "data": {
      "text/plain": [
       "New Data Upload               : |          |  0.00B /  0.00B            "
      ],
      "application/vnd.jupyter.widget-view+json": {
       "version_major": 2,
       "version_minor": 0,
       "model_id": "c5b5496814424fd48a8c47e7b3258a78"
      }
     },
     "metadata": {}
    },
    {
     "output_type": "display_data",
     "data": {
      "text/plain": [
       "  ./checkpoints/best_model.pth:   0%|          |  556kB /  292MB            "
      ],
      "application/vnd.jupyter.widget-view+json": {
       "version_major": 2,
       "version_minor": 0,
       "model_id": "45722fb9750b4b25b285ce911ec16958"
      }
     },
     "metadata": {}
    },
    {
     "output_type": "stream",
     "name": "stdout",
     "text": [
      "\u2713 Uploaded: best_model.pth\n",
      "Best Test Accuracy so far: 22.06% | Patience: 0/15\n",
      "\n"
     ]
    },
    {
     "output_type": "stream",
     "name": "stderr",
     "text": [
      "Epoch 4 Loss=3.1342 Acc=21.40% LR=0.081908: 100%|\u2588\u2588\u2588\u2588\u2588\u2588\u2588\u2588\u2588\u2588| 196/196 [01:51<00:00,  1.76it/s]\n"
     ]
    },
    {
     "output_type": "stream",
     "name": "stdout",
     "text": [
      "\n",
      "Test set: Average loss: 2.9839, Accuracy: 2559/10000 (25.59%)\n",
      "\n",
      "*** New best model! Test Accuracy: 25.59% ***\n"
     ]
    },
    {
     "output_type": "display_data",
     "data": {
      "text/plain": [
       "Processing Files (0 / 0)      : |          |  0.00B /  0.00B            "
      ],
      "application/vnd.jupyter.widget-view+json": {
       "version_major": 2,
       "version_minor": 0,
       "model_id": "af78a1bffc4642399a3ac777019663f6"
      }
     },
     "metadata": {}
    },
    {
     "output_type": "display_data",
     "data": {
      "text/plain": [
       "New Data Upload               : |          |  0.00B /  0.00B            "
      ],
      "application/vnd.jupyter.widget-view+json": {
       "version_major": 2,
       "version_minor": 0,
       "model_id": "bddcbec2f11f4ba6ba5186b8fb0bc248"
      }
     },
     "metadata": {}
    },
    {
     "output_type": "display_data",
     "data": {
      "text/plain": [
       "  ./checkpoints/best_model.pth:   0%|          |  556kB /  292MB            "
      ],
      "application/vnd.jupyter.widget-view+json": {
       "version_major": 2,
       "version_minor": 0,
       "model_id": "535928b3a74a4c95b2e2c423124b6046"
      }
     },
     "metadata": {}
    },
    {
     "output_type": "stream",
     "name": "stdout",
     "text": [
      "\u2713 Uploaded: best_model.pth\n",
      "Best Test Accuracy so far: 25.59% | Patience: 0/15\n",
      "\n"
     ]
    },
    {
     "output_type": "stream",
     "name": "stderr",
     "text": [
      "Epoch 5 Loss=4.2816 Acc=26.83% LR=0.099908: 100%|\u2588\u2588\u2588\u2588\u2588\u2588\u2588\u2588\u2588\u2588| 196/196 [01:51<00:00,  1.76it/s]\n"
     ]
    },
    {
     "output_type": "stream",
     "name": "stdout",
     "text": [
      "\n",
      "Test set: Average loss: 2.8263, Accuracy: 2937/10000 (29.37%)\n",
      "\n",
      "*** New best model! Test Accuracy: 29.37% ***\n"
     ]
    },
    {
     "output_type": "display_data",
     "data": {
      "text/plain": [
       "Processing Files (0 / 0)      : |          |  0.00B /  0.00B            "
      ],
      "application/vnd.jupyter.widget-view+json": {
       "version_major": 2,
       "version_minor": 0,
       "model_id": "abd71a752a5b4312840d59af11ef278d"
      }
     },
     "metadata": {}
    },
    {
     "output_type": "display_data",
     "data": {
      "text/plain": [
       "New Data Upload               : |          |  0.00B /  0.00B            "
      ],
      "application/vnd.jupyter.widget-view+json": {
       "version_major": 2,
       "version_minor": 0,
       "model_id": "d6cf1156bf5941918d394c78f318179a"
      }
     },
     "metadata": {}
    },
    {
     "output_type": "display_data",
     "data": {
      "text/plain": [
       "  ./checkpoints/best_model.pth:   0%|          |  556kB /  292MB            "
      ],
      "application/vnd.jupyter.widget-view+json": {
       "version_major": 2,
       "version_minor": 0,
       "model_id": "0b08f42cf55444038a05b2678f8fbaa1"
      }
     },
     "metadata": {}
    },
    {
     "output_type": "stream",
     "name": "stdout",
     "text": [
      "\u2713 Uploaded: best_model.pth\n",
      "Best Test Accuracy so far: 29.37% | Patience: 0/15\n",
      "\n"
     ]
    },
    {
     "output_type": "stream",
     "name": "stderr",
     "text": [
      "Epoch 6 Loss=3.5024 Acc=34.89% LR=0.000712: 100%|\u2588\u2588\u2588\u2588\u2588\u2588\u2588\u2588\u2588\u2588| 196/196 [01:51<00:00,  1.76it/s]\n"
     ]
    },
    {
     "output_type": "stream",
     "name": "stdout",
     "text": [
      "\n",
      "Test set: Average loss: 2.1929, Accuracy: 4319/10000 (43.19%)\n",
      "\n",
      "*** New best model! Test Accuracy: 43.19% ***\n"
     ]
    },
    {
     "output_type": "display_data",
     "data": {
      "text/plain": [
       "Processing Files (0 / 0)      : |          |  0.00B /  0.00B            "
      ],
      "application/vnd.jupyter.widget-view+json": {
       "version_major": 2,
       "version_minor": 0,
       "model_id": "4fa21818692e4f4caad65bd9da8ad631"
      }
     },
     "metadata": {}
    },
    {
     "output_type": "display_data",
     "data": {
      "text/plain": [
       "New Data Upload               : |          |  0.00B /  0.00B            "
      ],
      "application/vnd.jupyter.widget-view+json": {
       "version_major": 2,
       "version_minor": 0,
       "model_id": "88fc1b4af0794ac6962d64d44c86566e"
      }
     },
     "metadata": {}
    },
    {
     "output_type": "display_data",
     "data": {
      "text/plain": [
       "  ./checkpoints/best_model.pth:   0%|          |  556kB /  292MB            "
      ],
      "application/vnd.jupyter.widget-view+json": {
       "version_major": 2,
       "version_minor": 0,
       "model_id": "40c3400083f540eabce1af0bebc97ca6"
      }
     },
     "metadata": {}
    },
    {
     "output_type": "stream",
     "name": "stdout",
     "text": [
      "\u2713 Uploaded: best_model.pth\n",
      "Best Test Accuracy so far: 43.19% | Patience: 0/15\n",
      "\n"
     ]
    },
    {
     "output_type": "stream",
     "name": "stderr",
     "text": [
      "Epoch 7 Loss=2.8736 Acc=38.09% LR=0.002398: 100%|\u2588\u2588\u2588\u2588\u2588\u2588\u2588\u2588\u2588\u2588| 196/196 [01:51<00:00,  1.76it/s]\n"
     ]
    },
    {
     "output_type": "stream",
     "name": "stdout",
     "text": [
      "\n",
      "Test set: Average loss: 2.1376, Accuracy: 4410/10000 (44.10%)\n",
      "\n",
      "*** New best model! Test Accuracy: 44.10% ***\n"
     ]
    },
    {
     "output_type": "display_data",
     "data": {
      "text/plain": [
       "Processing Files (0 / 0)      : |          |  0.00B /  0.00B            "
      ],
      "application/vnd.jupyter.widget-view+json": {
       "version_major": 2,
       "version_minor": 0,
       "model_id": "f58b7bde01484a029488b7d4bed07425"
      }
     },
     "metadata": {}
    },
    {
     "output_type": "display_data",
     "data": {
      "text/plain": [
       "New Data Upload               : |          |  0.00B /  0.00B            "
      ],
      "application/vnd.jupyter.widget-view+json": {
       "version_major": 2,
       "version_minor": 0,
       "model_id": "df440496991443d0bdcefe48ca432730"
      }
     },
     "metadata": {}
    },
    {
     "output_type": "display_data",
     "data": {
      "text/plain": [
       "  ./checkpoints/best_model.pth:   0%|          |  556kB /  292MB            "
      ],
      "application/vnd.jupyter.widget-view+json": {
       "version_major": 2,
       "version_minor": 0,
       "model_id": "5918c6e7757a4c3a860cf7639ab54d77"
      }
     },
     "metadata": {}
    },
    {
     "output_type": "stream",
     "name": "stdout",
     "text": [
      "\u2713 Uploaded: best_model.pth\n",
      "Best Test Accuracy so far: 44.10% | Patience: 0/15\n",
      "\n"
     ]
    },
    {
     "output_type": "stream",
     "name": "stderr",
     "text": [
      "Epoch 8 Loss=3.5865 Acc=37.19% LR=0.004739: 100%|\u2588\u2588\u2588\u2588\u2588\u2588\u2588\u2588\u2588\u2588| 196/196 [01:51<00:00,  1.76it/s]\n"
     ]
    },
    {
     "output_type": "stream",
     "name": "stdout",
     "text": [
      "\n",
      "Test set: Average loss: 2.0944, Accuracy: 4569/10000 (45.69%)\n",
      "\n",
      "*** New best model! Test Accuracy: 45.69% ***\n"
     ]
    },
    {
     "output_type": "display_data",
     "data": {
      "text/plain": [
       "Processing Files (0 / 0)      : |          |  0.00B /  0.00B            "
      ],
      "application/vnd.jupyter.widget-view+json": {
       "version_major": 2,
       "version_minor": 0,
       "model_id": "aa07022e7f4e4fc7a842f83331e2a73d"
      }
     },
     "metadata": {}
    },
    {
     "output_type": "display_data",
     "data": {
      "text/plain": [
       "New Data Upload               : |          |  0.00B /  0.00B            "
      ],
      "application/vnd.jupyter.widget-view+json": {
       "version_major": 2,
       "version_minor": 0,
       "model_id": "1f26d2552b114782a5c6620ebc70a58f"
      }
     },
     "metadata": {}
    },
    {
     "output_type": "display_data",
     "data": {
      "text/plain": [
       "  ./checkpoints/best_model.pth:   0%|          |  556kB /  292MB            "
      ],
      "application/vnd.jupyter.widget-view+json": {
       "version_major": 2,
       "version_minor": 0,
       "model_id": "80e427df5ec94648b7f920b59b40b6e4"
      }
     },
     "metadata": {}
    },
    {
     "output_type": "stream",
     "name": "stdout",
     "text": [
      "\u2713 Uploaded: best_model.pth\n",
      "Best Test Accuracy so far: 45.69% | Patience: 0/15\n",
      "\n"
     ]
    },
    {
     "output_type": "stream",
     "name": "stderr",
     "text": [
      "Epoch 9 Loss=3.7618 Acc=39.24% LR=0.007158: 100%|\u2588\u2588\u2588\u2588\u2588\u2588\u2588\u2588\u2588\u2588| 196/196 [01:50<00:00,  1.77it/s]\n"
     ]
    },
    {
     "output_type": "stream",
     "name": "stdout",
     "text": [
      "\n",
      "Test set: Average loss: 2.0229, Accuracy: 4702/10000 (47.02%)\n",
      "\n",
      "*** New best model! Test Accuracy: 47.02% ***\n"
     ]
    },
    {
     "output_type": "display_data",
     "data": {
      "text/plain": [
       "Processing Files (0 / 0)      : |          |  0.00B /  0.00B            "
      ],
      "application/vnd.jupyter.widget-view+json": {
       "version_major": 2,
       "version_minor": 0,
       "model_id": "193fdb87d19a497fb3985119f1cea659"
      }
     },
     "metadata": {}
    },
    {
     "output_type": "display_data",
     "data": {
      "text/plain": [
       "New Data Upload               : |          |  0.00B /  0.00B            "
      ],
      "application/vnd.jupyter.widget-view+json": {
       "version_major": 2,
       "version_minor": 0,
       "model_id": "1cdbf8edc2d74efcbf816c0a7d5ab8d4"
      }
     },
     "metadata": {}
    },
    {
     "output_type": "display_data",
     "data": {
      "text/plain": [
       "  ./checkpoints/best_model.pth:   0%|          |  555kB /  292MB            "
      ],
      "application/vnd.jupyter.widget-view+json": {
       "version_major": 2,
       "version_minor": 0,
       "model_id": "e619c7af9b15409fb0771042f0c25a31"
      }
     },
     "metadata": {}
    },
    {
     "output_type": "stream",
     "name": "stdout",
     "text": [
      "\u2713 Uploaded: best_model.pth\n",
      "Best Test Accuracy so far: 47.02% | Patience: 0/15\n",
      "\n"
     ]
    },
    {
     "output_type": "stream",
     "name": "stderr",
     "text": [
      "Epoch 10 Loss=3.1391 Acc=41.18% LR=0.009055: 100%|\u2588\u2588\u2588\u2588\u2588\u2588\u2588\u2588\u2588\u2588| 196/196 [01:51<00:00,  1.76it/s]\n"
     ]
    },
    {
     "output_type": "stream",
     "name": "stdout",
     "text": [
      "\n",
      "Test set: Average loss: 2.0005, Accuracy: 4760/10000 (47.60%)\n",
      "\n",
      "*** New best model! Test Accuracy: 47.60% ***\n"
     ]
    },
    {
     "output_type": "display_data",
     "data": {
      "text/plain": [
       "Processing Files (0 / 0)      : |          |  0.00B /  0.00B            "
      ],
      "application/vnd.jupyter.widget-view+json": {
       "version_major": 2,
       "version_minor": 0,
       "model_id": "b935bbd852b043d085189fdc8fd737f8"
      }
     },
     "metadata": {}
    },
    {
     "output_type": "display_data",
     "data": {
      "text/plain": [
       "New Data Upload               : |          |  0.00B /  0.00B            "
      ],
      "application/vnd.jupyter.widget-view+json": {
       "version_major": 2,
       "version_minor": 0,
       "model_id": "3c30bbc817be42eb83d20f6fa2ba76d2"
      }
     },
     "metadata": {}
    },
    {
     "output_type": "display_data",
     "data": {
      "text/plain": [
       "  ./checkpoints/best_model.pth:   0%|          |  556kB /  292MB            "
      ],
      "application/vnd.jupyter.widget-view+json": {
       "version_major": 2,
       "version_minor": 0,
       "model_id": "ec9e09bb57dc4cd8a638570b02ed1ad6"
      }
     },
     "metadata": {}
    },
    {
     "output_type": "stream",
     "name": "stdout",
     "text": [
      "\u2713 Uploaded: best_model.pth\n",
      "\ud83d\udccd Breakpoint checkpoint at epoch 10\n"
     ]
    },
    {
     "output_type": "display_data",
     "data": {
      "text/plain": [
       "Processing Files (0 / 0)      : |          |  0.00B /  0.00B            "
      ],
      "application/vnd.jupyter.widget-view+json": {
       "version_major": 2,
       "version_minor": 0,
       "model_id": "ba5690bfff5f4e19a1fadfd455465460"
      }
     },
     "metadata": {}
    },
    {
     "output_type": "display_data",
     "data": {
      "text/plain": [
       "New Data Upload               : |          |  0.00B /  0.00B            "
      ],
      "application/vnd.jupyter.widget-view+json": {
       "version_major": 2,
       "version_minor": 0,
       "model_id": "aba4e5e5d13b48e486ee8195ba56ce11"
      }
     },
     "metadata": {}
    },
    {
     "output_type": "display_data",
     "data": {
      "text/plain": [
       "  ...ts/checkpoint_epoch10.pth:  11%|#         | 31.8MB /  292MB            "
      ],
      "application/vnd.jupyter.widget-view+json": {
       "version_major": 2,
       "version_minor": 0,
       "model_id": "3ba886dfea13478090558f607fb8e1b1"
      }
     },
     "metadata": {}
    },
    {
     "output_type": "stream",
     "name": "stdout",
     "text": [
      "\u2713 Uploaded: checkpoint_epoch10.pth\n",
      "\u2713 Uploaded: metrics.json\n",
      "Best Test Accuracy so far: 47.60% | Patience: 0/15\n",
      "\n"
     ]
    },
    {
     "output_type": "stream",
     "name": "stderr",
     "text": [
      "Epoch 11 Loss=2.5498 Acc=40.95% LR=0.009961: 100%|\u2588\u2588\u2588\u2588\u2588\u2588\u2588\u2588\u2588\u2588| 196/196 [01:51<00:00,  1.76it/s]\n"
     ]
    },
    {
     "output_type": "stream",
     "name": "stdout",
     "text": [
      "\n",
      "Test set: Average loss: 1.9411, Accuracy: 4883/10000 (48.83%)\n",
      "\n",
      "*** New best model! Test Accuracy: 48.83% ***\n"
     ]
    },
    {
     "output_type": "display_data",
     "data": {
      "text/plain": [
       "Processing Files (0 / 0)      : |          |  0.00B /  0.00B            "
      ],
      "application/vnd.jupyter.widget-view+json": {
       "version_major": 2,
       "version_minor": 0,
       "model_id": "58fcd7af1ae04629910bfda40690db51"
      }
     },
     "metadata": {}
    },
    {
     "output_type": "display_data",
     "data": {
      "text/plain": [
       "New Data Upload               : |          |  0.00B /  0.00B            "
      ],
      "application/vnd.jupyter.widget-view+json": {
       "version_major": 2,
       "version_minor": 0,
       "model_id": "ee1393b63d7442e9af9fd80122a4c601"
      }
     },
     "metadata": {}
    },
    {
     "output_type": "display_data",
     "data": {
      "text/plain": [
       "  ./checkpoints/best_model.pth:   0%|          |  556kB /  292MB            "
      ],
      "application/vnd.jupyter.widget-view+json": {
       "version_major": 2,
       "version_minor": 0,
       "model_id": "2c36f400483f4ba4842fea8b952271f4"
      }
     },
     "metadata": {}
    },
    {
     "output_type": "stream",
     "name": "stdout",
     "text": [
      "\u2713 Uploaded: best_model.pth\n",
      "Best Test Accuracy so far: 48.83% | Patience: 0/15\n",
      "\n"
     ]
    },
    {
     "output_type": "stream",
     "name": "stderr",
     "text": [
      "Epoch 12 Loss=2.5479 Acc=40.75% LR=0.000448: 100%|\u2588\u2588\u2588\u2588\u2588\u2588\u2588\u2588\u2588\u2588| 196/196 [01:51<00:00,  1.77it/s]\n"
     ]
    },
    {
     "output_type": "stream",
     "name": "stdout",
     "text": [
      "\n",
      "Test set: Average loss: 1.9205, Accuracy: 4947/10000 (49.47%)\n",
      "\n",
      "*** New best model! Test Accuracy: 49.47% ***\n"
     ]
    },
    {
     "output_type": "display_data",
     "data": {
      "text/plain": [
       "Processing Files (0 / 0)      : |          |  0.00B /  0.00B            "
      ],
      "application/vnd.jupyter.widget-view+json": {
       "version_major": 2,
       "version_minor": 0,
       "model_id": "214276ea3a3d465e81f47fe029eddfb6"
      }
     },
     "metadata": {}
    },
    {
     "output_type": "display_data",
     "data": {
      "text/plain": [
       "New Data Upload               : |          |  0.00B /  0.00B            "
      ],
      "application/vnd.jupyter.widget-view+json": {
       "version_major": 2,
       "version_minor": 0,
       "model_id": "018bc3abaff84a02b09f6e61b5aa79ba"
      }
     },
     "metadata": {}
    },
    {
     "output_type": "display_data",
     "data": {
      "text/plain": [
       "  ./checkpoints/best_model.pth:   0%|          |  557kB /  292MB            "
      ],
      "application/vnd.jupyter.widget-view+json": {
       "version_major": 2,
       "version_minor": 0,
       "model_id": "6aeadf21076a46ddbefe7c3b50d6a634"
      }
     },
     "metadata": {}
    },
    {
     "output_type": "stream",
     "name": "stdout",
     "text": [
      "\u2713 Uploaded: best_model.pth\n",
      "Best Test Accuracy so far: 49.47% | Patience: 0/15\n",
      "\n"
     ]
    },
    {
     "output_type": "stream",
     "name": "stderr",
     "text": [
      "Epoch 13 Loss=2.6477 Acc=42.22% LR=0.001895: 100%|\u2588\u2588\u2588\u2588\u2588\u2588\u2588\u2588\u2588\u2588| 196/196 [01:51<00:00,  1.76it/s]\n"
     ]
    },
    {
     "output_type": "stream",
     "name": "stdout",
     "text": [
      "\n",
      "Test set: Average loss: 1.9238, Accuracy: 4910/10000 (49.10%)\n",
      "\n",
      "Best Test Accuracy so far: 49.47% | Patience: 1/15\n",
      "\n"
     ]
    },
    {
     "output_type": "stream",
     "name": "stderr",
     "text": [
      "Epoch 14 Loss=2.5397 Acc=43.06% LR=0.004122: 100%|\u2588\u2588\u2588\u2588\u2588\u2588\u2588\u2588\u2588\u2588| 196/196 [01:53<00:00,  1.73it/s]\n"
     ]
    },
    {
     "output_type": "stream",
     "name": "stdout",
     "text": [
      "\n",
      "Test set: Average loss: 1.9060, Accuracy: 4935/10000 (49.35%)\n",
      "\n",
      "Best Test Accuracy so far: 49.47% | Patience: 2/15\n",
      "\n"
     ]
    },
    {
     "output_type": "stream",
     "name": "stderr",
     "text": [
      "Epoch 15 Loss=2.4645 Acc=43.24% LR=0.006580: 100%|\u2588\u2588\u2588\u2588\u2588\u2588\u2588\u2588\u2588\u2588| 196/196 [01:52<00:00,  1.74it/s]\n"
     ]
    },
    {
     "output_type": "stream",
     "name": "stdout",
     "text": [
      "\n",
      "Test set: Average loss: 1.8738, Accuracy: 5058/10000 (50.58%)\n",
      "\n",
      "*** New best model! Test Accuracy: 50.58% ***\n"
     ]
    },
    {
     "output_type": "display_data",
     "data": {
      "text/plain": [
       "Processing Files (0 / 0)      : |          |  0.00B /  0.00B            "
      ],
      "application/vnd.jupyter.widget-view+json": {
       "version_major": 2,
       "version_minor": 0,
       "model_id": "c815293a58014545ac1f74de1a6c1248"
      }
     },
     "metadata": {}
    },
    {
     "output_type": "display_data",
     "data": {
      "text/plain": [
       "New Data Upload               : |          |  0.00B /  0.00B            "
      ],
      "application/vnd.jupyter.widget-view+json": {
       "version_major": 2,
       "version_minor": 0,
       "model_id": "fe4b309020cf411caaf11bb8c2457669"
      }
     },
     "metadata": {}
    },
    {
     "output_type": "display_data",
     "data": {
      "text/plain": [
       "  ./checkpoints/best_model.pth:   0%|          |  556kB /  292MB            "
      ],
      "application/vnd.jupyter.widget-view+json": {
       "version_major": 2,
       "version_minor": 0,
       "model_id": "1df978feda91402ca746a542de27650f"
      }
     },
     "metadata": {}
    },
    {
     "output_type": "stream",
     "name": "stdout",
     "text": [
      "\u2713 Uploaded: best_model.pth\n",
      "Best Test Accuracy so far: 50.58% | Patience: 0/15\n",
      "\n"
     ]
    },
    {
     "output_type": "stream",
     "name": "stderr",
     "text": [
      "Epoch 16 Loss=2.5726 Acc=43.00% LR=0.008658: 100%|\u2588\u2588\u2588\u2588\u2588\u2588\u2588\u2588\u2588\u2588| 196/196 [01:51<00:00,  1.76it/s]\n"
     ]
    },
    {
     "output_type": "stream",
     "name": "stdout",
     "text": [
      "\n",
      "Test set: Average loss: 1.8282, Accuracy: 5161/10000 (51.61%)\n",
      "\n",
      "*** New best model! Test Accuracy: 51.61% ***\n"
     ]
    },
    {
     "output_type": "display_data",
     "data": {
      "text/plain": [
       "Processing Files (0 / 0)      : |          |  0.00B /  0.00B            "
      ],
      "application/vnd.jupyter.widget-view+json": {
       "version_major": 2,
       "version_minor": 0,
       "model_id": "4ae0937a01f641d28cafa26dc5af5158"
      }
     },
     "metadata": {}
    },
    {
     "output_type": "display_data",
     "data": {
      "text/plain": [
       "New Data Upload               : |          |  0.00B /  0.00B            "
      ],
      "application/vnd.jupyter.widget-view+json": {
       "version_major": 2,
       "version_minor": 0,
       "model_id": "0cd5b58b06a74ab9a193a56c755edcfd"
      }
     },
     "metadata": {}
    },
    {
     "output_type": "display_data",
     "data": {
      "text/plain": [
       "  ./checkpoints/best_model.pth:   0%|          |  556kB /  292MB            "
      ],
      "application/vnd.jupyter.widget-view+json": {
       "version_major": 2,
       "version_minor": 0,
       "model_id": "6068ec8737aa491186a9cc1d57c963a2"
      }
     },
     "metadata": {}
    },
    {
     "output_type": "stream",
     "name": "stdout",
     "text": [
      "\u2713 Uploaded: best_model.pth\n",
      "Best Test Accuracy so far: 51.61% | Patience: 0/15\n",
      "\n"
     ]
    },
    {
     "output_type": "stream",
     "name": "stderr",
     "text": [
      "Epoch 17 Loss=3.1125 Acc=44.29% LR=0.009844: 100%|\u2588\u2588\u2588\u2588\u2588\u2588\u2588\u2588\u2588\u2588| 196/196 [01:51<00:00,  1.76it/s]\n"
     ]
    },
    {
     "output_type": "stream",
     "name": "stdout",
     "text": [
      "\n",
      "Test set: Average loss: 1.8173, Accuracy: 5171/10000 (51.71%)\n",
      "\n",
      "*** New best model! Test Accuracy: 51.71% ***\n"
     ]
    },
    {
     "output_type": "display_data",
     "data": {
      "text/plain": [
       "Processing Files (0 / 0)      : |          |  0.00B /  0.00B            "
      ],
      "application/vnd.jupyter.widget-view+json": {
       "version_major": 2,
       "version_minor": 0,
       "model_id": "c2d8b0266b5641b88939f2d9b34f40ed"
      }
     },
     "metadata": {}
    },
    {
     "output_type": "display_data",
     "data": {
      "text/plain": [
       "New Data Upload               : |          |  0.00B /  0.00B            "
      ],
      "application/vnd.jupyter.widget-view+json": {
       "version_major": 2,
       "version_minor": 0,
       "model_id": "39044e3914604a6ba211c7c76abe5d95"
      }
     },
     "metadata": {}
    },
    {
     "output_type": "display_data",
     "data": {
      "text/plain": [
       "  ./checkpoints/best_model.pth:   0%|          |  556kB /  292MB            "
      ],
      "application/vnd.jupyter.widget-view+json": {
       "version_major": 2,
       "version_minor": 0,
       "model_id": "2f8600b4531e49cbac264e4ce2774c01"
      }
     },
     "metadata": {}
    },
    {
     "output_type": "stream",
     "name": "stdout",
     "text": [
      "\u2713 Uploaded: best_model.pth\n",
      "Best Test Accuracy so far: 51.71% | Patience: 0/15\n",
      "\n"
     ]
    },
    {
     "output_type": "stream",
     "name": "stderr",
     "text": [
      "Epoch 18 Loss=2.1594 Acc=44.33% LR=0.000256: 100%|\u2588\u2588\u2588\u2588\u2588\u2588\u2588\u2588\u2588\u2588| 196/196 [01:51<00:00,  1.76it/s]\n"
     ]
    },
    {
     "output_type": "stream",
     "name": "stdout",
     "text": [
      "\n",
      "Test set: Average loss: 1.7660, Accuracy: 5306/10000 (53.06%)\n",
      "\n",
      "*** New best model! Test Accuracy: 53.06% ***\n"
     ]
    },
    {
     "output_type": "display_data",
     "data": {
      "text/plain": [
       "Processing Files (0 / 0)      : |          |  0.00B /  0.00B            "
      ],
      "application/vnd.jupyter.widget-view+json": {
       "version_major": 2,
       "version_minor": 0,
       "model_id": "2d9833569a89475f967924c296b557e8"
      }
     },
     "metadata": {}
    },
    {
     "output_type": "display_data",
     "data": {
      "text/plain": [
       "New Data Upload               : |          |  0.00B /  0.00B            "
      ],
      "application/vnd.jupyter.widget-view+json": {
       "version_major": 2,
       "version_minor": 0,
       "model_id": "4fbef97605e140a3a70a55a9060aae7a"
      }
     },
     "metadata": {}
    },
    {
     "output_type": "display_data",
     "data": {
      "text/plain": [
       "  ./checkpoints/best_model.pth:   0%|          |  555kB /  292MB            "
      ],
      "application/vnd.jupyter.widget-view+json": {
       "version_major": 2,
       "version_minor": 0,
       "model_id": "6f991d1b77814a28a74cd464aed66280"
      }
     },
     "metadata": {}
    },
    {
     "output_type": "stream",
     "name": "stdout",
     "text": [
      "\u2713 Uploaded: best_model.pth\n",
      "Best Test Accuracy so far: 53.06% | Patience: 0/15\n",
      "\n"
     ]
    },
    {
     "output_type": "stream",
     "name": "stderr",
     "text": [
      "Epoch 19 Loss=2.5894 Acc=44.59% LR=0.001442: 100%|\u2588\u2588\u2588\u2588\u2588\u2588\u2588\u2588\u2588\u2588| 196/196 [01:51<00:00,  1.76it/s]\n"
     ]
    },
    {
     "output_type": "stream",
     "name": "stdout",
     "text": [
      "\n",
      "Test set: Average loss: 1.7745, Accuracy: 5230/10000 (52.30%)\n",
      "\n",
      "Best Test Accuracy so far: 53.06% | Patience: 1/15\n",
      "\n"
     ]
    },
    {
     "output_type": "stream",
     "name": "stderr",
     "text": [
      "Epoch 20 Loss=2.5887 Acc=45.32% LR=0.003520: 100%|\u2588\u2588\u2588\u2588\u2588\u2588\u2588\u2588\u2588\u2588| 196/196 [01:52<00:00,  1.75it/s]\n"
     ]
    },
    {
     "output_type": "stream",
     "name": "stdout",
     "text": [
      "\n",
      "Test set: Average loss: 1.7756, Accuracy: 5256/10000 (52.56%)\n",
      "\n",
      "\ud83d\udccd Breakpoint checkpoint at epoch 20\n"
     ]
    },
    {
     "output_type": "display_data",
     "data": {
      "text/plain": [
       "Processing Files (0 / 0)      : |          |  0.00B /  0.00B            "
      ],
      "application/vnd.jupyter.widget-view+json": {
       "version_major": 2,
       "version_minor": 0,
       "model_id": "e0cbad03d2f340dd88e33645f9bbca54"
      }
     },
     "metadata": {}
    },
    {
     "output_type": "display_data",
     "data": {
      "text/plain": [
       "New Data Upload               : |          |  0.00B /  0.00B            "
      ],
      "application/vnd.jupyter.widget-view+json": {
       "version_major": 2,
       "version_minor": 0,
       "model_id": "338a421479e3453f8e180c959c1910e7"
      }
     },
     "metadata": {}
    },
    {
     "output_type": "display_data",
     "data": {
      "text/plain": [
       "  ...ts/checkpoint_epoch20.pth:   0%|          |  555kB /  292MB            "
      ],
      "application/vnd.jupyter.widget-view+json": {
       "version_major": 2,
       "version_minor": 0,
       "model_id": "340a1817f6a84a17bd8f7912a14c11f8"
      }
     },
     "metadata": {}
    },
    {
     "output_type": "stream",
     "name": "stdout",
     "text": [
      "\u2713 Uploaded: checkpoint_epoch20.pth\n",
      "\u2713 Uploaded: metrics.json\n",
      "Best Test Accuracy so far: 53.06% | Patience: 2/15\n",
      "\n"
     ]
    },
    {
     "output_type": "stream",
     "name": "stderr",
     "text": [
      "Epoch 21 Loss=3.9119 Acc=47.06% LR=0.005978: 100%|\u2588\u2588\u2588\u2588\u2588\u2588\u2588\u2588\u2588\u2588| 196/196 [01:51<00:00,  1.76it/s]\n"
     ]
    },
    {
     "output_type": "stream",
     "name": "stdout",
     "text": [
      "\n",
      "Test set: Average loss: 1.7759, Accuracy: 5237/10000 (52.37%)\n",
      "\n",
      "Best Test Accuracy so far: 53.06% | Patience: 3/15\n",
      "\n"
     ]
    },
    {
     "output_type": "stream",
     "name": "stderr",
     "text": [
      "Epoch 22 Loss=2.4567 Acc=45.54% LR=0.008205: 100%|\u2588\u2588\u2588\u2588\u2588\u2588\u2588\u2588\u2588\u2588| 196/196 [01:52<00:00,  1.74it/s]\n"
     ]
    },
    {
     "output_type": "stream",
     "name": "stdout",
     "text": [
      "\n",
      "Test set: Average loss: 1.7628, Accuracy: 5294/10000 (52.94%)\n",
      "\n",
      "Best Test Accuracy so far: 53.06% | Patience: 4/15\n",
      "\n"
     ]
    },
    {
     "output_type": "stream",
     "name": "stderr",
     "text": [
      "Epoch 23 Loss=2.3311 Acc=47.25% LR=0.009652: 100%|\u2588\u2588\u2588\u2588\u2588\u2588\u2588\u2588\u2588\u2588| 196/196 [01:52<00:00,  1.74it/s]\n"
     ]
    },
    {
     "output_type": "stream",
     "name": "stdout",
     "text": [
      "\n",
      "Test set: Average loss: 1.7307, Accuracy: 5388/10000 (53.88%)\n",
      "\n",
      "*** New best model! Test Accuracy: 53.88% ***\n"
     ]
    },
    {
     "output_type": "display_data",
     "data": {
      "text/plain": [
       "Processing Files (0 / 0)      : |          |  0.00B /  0.00B            "
      ],
      "application/vnd.jupyter.widget-view+json": {
       "version_major": 2,
       "version_minor": 0,
       "model_id": "22291d455d844fb98d26a2c5ec98e7f8"
      }
     },
     "metadata": {}
    },
    {
     "output_type": "display_data",
     "data": {
      "text/plain": [
       "New Data Upload               : |          |  0.00B /  0.00B            "
      ],
      "application/vnd.jupyter.widget-view+json": {
       "version_major": 2,
       "version_minor": 0,
       "model_id": "e30749e930b34f078aa9117413ccd2a4"
      }
     },
     "metadata": {}
    },
    {
     "output_type": "display_data",
     "data": {
      "text/plain": [
       "  ./checkpoints/best_model.pth:   0%|          |  556kB /  292MB            "
      ],
      "application/vnd.jupyter.widget-view+json": {
       "version_major": 2,
       "version_minor": 0,
       "model_id": "3f0808de231047a39f3ee09460627657"
      }
     },
     "metadata": {}
    },
    {
     "output_type": "stream",
     "name": "stdout",
     "text": [
      "\u2713 Uploaded: best_model.pth\n",
      "Best Test Accuracy so far: 53.88% | Patience: 0/15\n",
      "\n"
     ]
    },
    {
     "output_type": "stream",
     "name": "stderr",
     "text": [
      "Epoch 24 Loss=3.4873 Acc=46.83% LR=0.000139: 100%|\u2588\u2588\u2588\u2588\u2588\u2588\u2588\u2588\u2588\u2588| 196/196 [01:51<00:00,  1.76it/s]\n"
     ]
    },
    {
     "output_type": "stream",
     "name": "stdout",
     "text": [
      "\n",
      "Test set: Average loss: 1.6906, Accuracy: 5497/10000 (54.97%)\n",
      "\n",
      "*** New best model! Test Accuracy: 54.97% ***\n"
     ]
    },
    {
     "output_type": "display_data",
     "data": {
      "text/plain": [
       "Processing Files (0 / 0)      : |          |  0.00B /  0.00B            "
      ],
      "application/vnd.jupyter.widget-view+json": {
       "version_major": 2,
       "version_minor": 0,
       "model_id": "16a8754d265740d3a87104fb24f88d6f"
      }
     },
     "metadata": {}
    },
    {
     "output_type": "display_data",
     "data": {
      "text/plain": [
       "New Data Upload               : |          |  0.00B /  0.00B            "
      ],
      "application/vnd.jupyter.widget-view+json": {
       "version_major": 2,
       "version_minor": 0,
       "model_id": "f74f4acf21684a58b7dc6385b623b265"
      }
     },
     "metadata": {}
    },
    {
     "output_type": "display_data",
     "data": {
      "text/plain": [
       "  ./checkpoints/best_model.pth:   0%|          |  555kB /  292MB            "
      ],
      "application/vnd.jupyter.widget-view+json": {
       "version_major": 2,
       "version_minor": 0,
       "model_id": "84997cd20f1e45949659531e44f4e927"
      }
     },
     "metadata": {}
    },
    {
     "output_type": "stream",
     "name": "stdout",
     "text": [
      "\u2713 Uploaded: best_model.pth\n",
      "Best Test Accuracy so far: 54.97% | Patience: 0/15\n",
      "\n"
     ]
    },
    {
     "output_type": "stream",
     "name": "stderr",
     "text": [
      "Epoch 25 Loss=2.4919 Acc=47.17% LR=0.001045: 100%|\u2588\u2588\u2588\u2588\u2588\u2588\u2588\u2588\u2588\u2588| 196/196 [01:51<00:00,  1.76it/s]\n"
     ]
    },
    {
     "output_type": "stream",
     "name": "stdout",
     "text": [
      "\n",
      "Test set: Average loss: 1.6862, Accuracy: 5527/10000 (55.27%)\n",
      "\n",
      "*** New best model! Test Accuracy: 55.27% ***\n"
     ]
    },
    {
     "output_type": "display_data",
     "data": {
      "text/plain": [
       "Processing Files (0 / 0)      : |          |  0.00B /  0.00B            "
      ],
      "application/vnd.jupyter.widget-view+json": {
       "version_major": 2,
       "version_minor": 0,
       "model_id": "ffa1faade95e41c092d3ae8561175e6a"
      }
     },
     "metadata": {}
    },
    {
     "output_type": "display_data",
     "data": {
      "text/plain": [
       "New Data Upload               : |          |  0.00B /  0.00B            "
      ],
      "application/vnd.jupyter.widget-view+json": {
       "version_major": 2,
       "version_minor": 0,
       "model_id": "621b8385c6b840549eab44d348a2ed04"
      }
     },
     "metadata": {}
    },
    {
     "output_type": "display_data",
     "data": {
      "text/plain": [
       "  ./checkpoints/best_model.pth:   0%|          |  555kB /  292MB            "
      ],
      "application/vnd.jupyter.widget-view+json": {
       "version_major": 2,
       "version_minor": 0,
       "model_id": "e30c72bcb1e24080978e136412b688cf"
      }
     },
     "metadata": {}
    },
    {
     "output_type": "stream",
     "name": "stdout",
     "text": [
      "\u2713 Uploaded: best_model.pth\n",
      "\ud83d\udccd Breakpoint checkpoint at epoch 25\n"
     ]
    },
    {
     "output_type": "display_data",
     "data": {
      "text/plain": [
       "Processing Files (0 / 0)      : |          |  0.00B /  0.00B            "
      ],
      "application/vnd.jupyter.widget-view+json": {
       "version_major": 2,
       "version_minor": 0,
       "model_id": "e02e997c82fe408ab048636ef9199d44"
      }
     },
     "metadata": {}
    },
    {
     "output_type": "display_data",
     "data": {
      "text/plain": [
       "New Data Upload               : |          |  0.00B /  0.00B            "
      ],
      "application/vnd.jupyter.widget-view+json": {
       "version_major": 2,
       "version_minor": 0,
       "model_id": "ed23262b66c94a2b88f3b7ca9e2488d0"
      }
     },
     "metadata": {}
    },
    {
     "output_type": "display_data",
     "data": {
      "text/plain": [
       "  ...ts/checkpoint_epoch25.pth:  11%|#         | 31.8MB /  292MB            "
      ],
      "application/vnd.jupyter.widget-view+json": {
       "version_major": 2,
       "version_minor": 0,
       "model_id": "f3ef2e1fa12b465a8b8484341baf992f"
      }
     },
     "metadata": {}
    },
    {
     "output_type": "stream",
     "name": "stdout",
     "text": [
      "\u2713 Uploaded: checkpoint_epoch25.pth\n",
      "\u2713 Uploaded: metrics.json\n",
      "Best Test Accuracy so far: 55.27% | Patience: 0/15\n",
      "\n"
     ]
    },
    {
     "output_type": "stream",
     "name": "stderr",
     "text": [
      "Epoch 26 Loss=2.3235 Acc=47.09% LR=0.002942: 100%|\u2588\u2588\u2588\u2588\u2588\u2588\u2588\u2588\u2588\u2588| 196/196 [01:51<00:00,  1.77it/s]\n"
     ]
    },
    {
     "output_type": "stream",
     "name": "stdout",
     "text": [
      "\n",
      "Test set: Average loss: 1.6806, Accuracy: 5550/10000 (55.50%)\n",
      "\n",
      "*** New best model! Test Accuracy: 55.50% ***\n"
     ]
    },
    {
     "output_type": "display_data",
     "data": {
      "text/plain": [
       "Processing Files (0 / 0)      : |          |  0.00B /  0.00B            "
      ],
      "application/vnd.jupyter.widget-view+json": {
       "version_major": 2,
       "version_minor": 0,
       "model_id": "f3e036dd80764771a257b6c73a23971c"
      }
     },
     "metadata": {}
    },
    {
     "output_type": "display_data",
     "data": {
      "text/plain": [
       "New Data Upload               : |          |  0.00B /  0.00B            "
      ],
      "application/vnd.jupyter.widget-view+json": {
       "version_major": 2,
       "version_minor": 0,
       "model_id": "e123f4c1977c49e582bdcffbc30a2de7"
      }
     },
     "metadata": {}
    },
    {
     "output_type": "display_data",
     "data": {
      "text/plain": [
       "  ./checkpoints/best_model.pth:   0%|          |  555kB /  292MB            "
      ],
      "application/vnd.jupyter.widget-view+json": {
       "version_major": 2,
       "version_minor": 0,
       "model_id": "2ff9241445e84924ba6c0da6a9a1a2b6"
      }
     },
     "metadata": {}
    },
    {
     "output_type": "stream",
     "name": "stdout",
     "text": [
      "\u2713 Uploaded: best_model.pth\n",
      "Best Test Accuracy so far: 55.50% | Patience: 0/15\n",
      "\n"
     ]
    },
    {
     "output_type": "stream",
     "name": "stderr",
     "text": [
      "Epoch 27 Loss=2.1030 Acc=49.28% LR=0.005361: 100%|\u2588\u2588\u2588\u2588\u2588\u2588\u2588\u2588\u2588\u2588| 196/196 [01:51<00:00,  1.76it/s]\n"
     ]
    },
    {
     "output_type": "stream",
     "name": "stdout",
     "text": [
      "\n",
      "Test set: Average loss: 1.6652, Accuracy: 5604/10000 (56.04%)\n",
      "\n",
      "*** New best model! Test Accuracy: 56.04% ***\n"
     ]
    },
    {
     "output_type": "display_data",
     "data": {
      "text/plain": [
       "Processing Files (0 / 0)      : |          |  0.00B /  0.00B            "
      ],
      "application/vnd.jupyter.widget-view+json": {
       "version_major": 2,
       "version_minor": 0,
       "model_id": "d1bf835677794480ad0888e6755f1e60"
      }
     },
     "metadata": {}
    },
    {
     "output_type": "display_data",
     "data": {
      "text/plain": [
       "New Data Upload               : |          |  0.00B /  0.00B            "
      ],
      "application/vnd.jupyter.widget-view+json": {
       "version_major": 2,
       "version_minor": 0,
       "model_id": "96afb97d880c4f91aada6fb39fb68c23"
      }
     },
     "metadata": {}
    },
    {
     "output_type": "display_data",
     "data": {
      "text/plain": [
       "  ./checkpoints/best_model.pth:   0%|          |  555kB /  292MB            "
      ],
      "application/vnd.jupyter.widget-view+json": {
       "version_major": 2,
       "version_minor": 0,
       "model_id": "315c08cbe3774d2499068a1e9ec484dc"
      }
     },
     "metadata": {}
    },
    {
     "output_type": "stream",
     "name": "stdout",
     "text": [
      "\u2713 Uploaded: best_model.pth\n",
      "Best Test Accuracy so far: 56.04% | Patience: 0/15\n",
      "\n"
     ]
    },
    {
     "output_type": "stream",
     "name": "stderr",
     "text": [
      "Epoch 28 Loss=3.6847 Acc=50.62% LR=0.007702: 100%|\u2588\u2588\u2588\u2588\u2588\u2588\u2588\u2588\u2588\u2588| 196/196 [01:51<00:00,  1.76it/s]\n"
     ]
    },
    {
     "output_type": "stream",
     "name": "stdout",
     "text": [
      "\n",
      "Test set: Average loss: 1.6956, Accuracy: 5525/10000 (55.25%)\n",
      "\n",
      "Best Test Accuracy so far: 56.04% | Patience: 1/15\n",
      "\n"
     ]
    },
    {
     "output_type": "stream",
     "name": "stderr",
     "text": [
      "Epoch 29 Loss=2.7376 Acc=49.30% LR=0.009388: 100%|\u2588\u2588\u2588\u2588\u2588\u2588\u2588\u2588\u2588\u2588| 196/196 [01:52<00:00,  1.75it/s]\n"
     ]
    },
    {
     "output_type": "stream",
     "name": "stdout",
     "text": [
      "\n",
      "Test set: Average loss: 1.6230, Accuracy: 5695/10000 (56.95%)\n",
      "\n",
      "*** New best model! Test Accuracy: 56.95% ***\n"
     ]
    },
    {
     "output_type": "display_data",
     "data": {
      "text/plain": [
       "Processing Files (0 / 0)      : |          |  0.00B /  0.00B            "
      ],
      "application/vnd.jupyter.widget-view+json": {
       "version_major": 2,
       "version_minor": 0,
       "model_id": "ba418190fce149a798039e5cbb181d43"
      }
     },
     "metadata": {}
    },
    {
     "output_type": "display_data",
     "data": {
      "text/plain": [
       "New Data Upload               : |          |  0.00B /  0.00B            "
      ],
      "application/vnd.jupyter.widget-view+json": {
       "version_major": 2,
       "version_minor": 0,
       "model_id": "8f85c5534efe48ca9ebda473031d9cbc"
      }
     },
     "metadata": {}
    },
    {
     "output_type": "display_data",
     "data": {
      "text/plain": [
       "  ./checkpoints/best_model.pth:   1%|          | 2.22MB /  292MB            "
      ],
      "application/vnd.jupyter.widget-view+json": {
       "version_major": 2,
       "version_minor": 0,
       "model_id": "686da5a950ce4725b0ce1ed505096bc9"
      }
     },
     "metadata": {}
    },
    {
     "output_type": "stream",
     "name": "stdout",
     "text": [
      "\u2713 Uploaded: best_model.pth\n",
      "Best Test Accuracy so far: 56.95% | Patience: 0/15\n",
      "\n"
     ]
    },
    {
     "output_type": "stream",
     "name": "stderr",
     "text": [
      "Epoch 30 Loss=2.4370 Acc=49.08% LR=0.010000: 100%|\u2588\u2588\u2588\u2588\u2588\u2588\u2588\u2588\u2588\u2588| 196/196 [01:51<00:00,  1.76it/s]\n"
     ]
    },
    {
     "output_type": "stream",
     "name": "stdout",
     "text": [
      "\n",
      "Test set: Average loss: 1.6177, Accuracy: 5744/10000 (57.44%)\n",
      "\n",
      "*** New best model! Test Accuracy: 57.44% ***\n"
     ]
    },
    {
     "output_type": "display_data",
     "data": {
      "text/plain": [
       "Processing Files (0 / 0)      : |          |  0.00B /  0.00B            "
      ],
      "application/vnd.jupyter.widget-view+json": {
       "version_major": 2,
       "version_minor": 0,
       "model_id": "6a47a371ec794506b9ea953c47873483"
      }
     },
     "metadata": {}
    },
    {
     "output_type": "display_data",
     "data": {
      "text/plain": [
       "New Data Upload               : |          |  0.00B /  0.00B            "
      ],
      "application/vnd.jupyter.widget-view+json": {
       "version_major": 2,
       "version_minor": 0,
       "model_id": "c0d5c56c40934a51bb6d65a24850f172"
      }
     },
     "metadata": {}
    },
    {
     "output_type": "display_data",
     "data": {
      "text/plain": [
       "  ./checkpoints/best_model.pth:   0%|          |  555kB /  292MB            "
      ],
      "application/vnd.jupyter.widget-view+json": {
       "version_major": 2,
       "version_minor": 0,
       "model_id": "a7d17993cf81495ab22507166fb8afc4"
      }
     },
     "metadata": {}
    },
    {
     "output_type": "stream",
     "name": "stdout",
     "text": [
      "\u2713 Uploaded: best_model.pth\n",
      "\ud83d\udccd Breakpoint checkpoint at epoch 30\n"
     ]
    },
    {
     "output_type": "display_data",
     "data": {
      "text/plain": [
       "Processing Files (0 / 0)      : |          |  0.00B /  0.00B            "
      ],
      "application/vnd.jupyter.widget-view+json": {
       "version_major": 2,
       "version_minor": 0,
       "model_id": "c0e84d2254f84ab3a94e6acb41329178"
      }
     },
     "metadata": {}
    },
    {
     "output_type": "display_data",
     "data": {
      "text/plain": [
       "New Data Upload               : |          |  0.00B /  0.00B            "
      ],
      "application/vnd.jupyter.widget-view+json": {
       "version_major": 2,
       "version_minor": 0,
       "model_id": "0c0c13b776ea4d0f85614f3452491234"
      }
     },
     "metadata": {}
    },
    {
     "output_type": "display_data",
     "data": {
      "text/plain": [
       "  ...ts/checkpoint_epoch30.pth:  11%|#         | 31.7MB /  292MB            "
      ],
      "application/vnd.jupyter.widget-view+json": {
       "version_major": 2,
       "version_minor": 0,
       "model_id": "09119b6d82e4459497f91460a26eeaed"
      }
     },
     "metadata": {}
    },
    {
     "output_type": "stream",
     "name": "stdout",
     "text": [
      "\u2713 Uploaded: checkpoint_epoch30.pth\n",
      "\u2713 Uploaded: metrics.json\n",
      "Best Test Accuracy so far: 57.44% | Patience: 0/15\n",
      "\n"
     ]
    },
    {
     "output_type": "stream",
     "name": "stderr",
     "text": [
      "Epoch 31 Loss=2.2878 Acc=50.79% LR=0.000712: 100%|\u2588\u2588\u2588\u2588\u2588\u2588\u2588\u2588\u2588\u2588| 196/196 [01:50<00:00,  1.77it/s]\n"
     ]
    },
    {
     "output_type": "stream",
     "name": "stdout",
     "text": [
      "\n",
      "Test set: Average loss: 1.6141, Accuracy: 5757/10000 (57.57%)\n",
      "\n",
      "*** New best model! Test Accuracy: 57.57% ***\n"
     ]
    },
    {
     "output_type": "display_data",
     "data": {
      "text/plain": [
       "Processing Files (0 / 0)      : |          |  0.00B /  0.00B            "
      ],
      "application/vnd.jupyter.widget-view+json": {
       "version_major": 2,
       "version_minor": 0,
       "model_id": "c3821af50aa8426096c66e44f7f37fd7"
      }
     },
     "metadata": {}
    },
    {
     "output_type": "display_data",
     "data": {
      "text/plain": [
       "New Data Upload               : |          |  0.00B /  0.00B            "
      ],
      "application/vnd.jupyter.widget-view+json": {
       "version_major": 2,
       "version_minor": 0,
       "model_id": "e3e773588aab42278ae30f340fd2a3e4"
      }
     },
     "metadata": {}
    },
    {
     "output_type": "display_data",
     "data": {
      "text/plain": [
       "  ./checkpoints/best_model.pth:   0%|          |  555kB /  292MB            "
      ],
      "application/vnd.jupyter.widget-view+json": {
       "version_major": 2,
       "version_minor": 0,
       "model_id": "8c6fd60a479e4b548e9bfd485fc04e23"
      }
     },
     "metadata": {}
    },
    {
     "output_type": "stream",
     "name": "stdout",
     "text": [
      "\u2713 Uploaded: best_model.pth\n",
      "Best Test Accuracy so far: 57.57% | Patience: 0/15\n",
      "\n"
     ]
    },
    {
     "output_type": "stream",
     "name": "stderr",
     "text": [
      "Epoch 32 Loss=2.0210 Acc=50.55% LR=0.002398: 100%|\u2588\u2588\u2588\u2588\u2588\u2588\u2588\u2588\u2588\u2588| 196/196 [01:51<00:00,  1.76it/s]\n"
     ]
    },
    {
     "output_type": "stream",
     "name": "stdout",
     "text": [
      "\n",
      "Test set: Average loss: 1.6229, Accuracy: 5741/10000 (57.41%)\n",
      "\n",
      "Best Test Accuracy so far: 57.57% | Patience: 1/15\n",
      "\n"
     ]
    },
    {
     "output_type": "stream",
     "name": "stderr",
     "text": [
      "Epoch 33 Loss=3.3465 Acc=50.03% LR=0.004739: 100%|\u2588\u2588\u2588\u2588\u2588\u2588\u2588\u2588\u2588\u2588| 196/196 [01:53<00:00,  1.73it/s]\n"
     ]
    },
    {
     "output_type": "stream",
     "name": "stdout",
     "text": [
      "\n",
      "Test set: Average loss: 1.6407, Accuracy: 5706/10000 (57.06%)\n",
      "\n",
      "Best Test Accuracy so far: 57.57% | Patience: 2/15\n",
      "\n"
     ]
    },
    {
     "output_type": "stream",
     "name": "stderr",
     "text": [
      "Epoch 34 Loss=2.6262 Acc=51.75% LR=0.007158: 100%|\u2588\u2588\u2588\u2588\u2588\u2588\u2588\u2588\u2588\u2588| 196/196 [01:53<00:00,  1.73it/s]\n"
     ]
    },
    {
     "output_type": "stream",
     "name": "stdout",
     "text": [
      "\n",
      "Test set: Average loss: 1.6299, Accuracy: 5660/10000 (56.60%)\n",
      "\n",
      "Best Test Accuracy so far: 57.57% | Patience: 3/15\n",
      "\n"
     ]
    },
    {
     "output_type": "stream",
     "name": "stderr",
     "text": [
      "Epoch 35 Loss=1.9937 Acc=51.64% LR=0.009055: 100%|\u2588\u2588\u2588\u2588\u2588\u2588\u2588\u2588\u2588\u2588| 196/196 [01:52<00:00,  1.74it/s]\n"
     ]
    },
    {
     "output_type": "stream",
     "name": "stdout",
     "text": [
      "\n",
      "Test set: Average loss: 1.5710, Accuracy: 5838/10000 (58.38%)\n",
      "\n",
      "*** New best model! Test Accuracy: 58.38% ***\n"
     ]
    },
    {
     "output_type": "display_data",
     "data": {
      "text/plain": [
       "Processing Files (0 / 0)      : |          |  0.00B /  0.00B            "
      ],
      "application/vnd.jupyter.widget-view+json": {
       "version_major": 2,
       "version_minor": 0,
       "model_id": "a9252452c6cf4bbe8ace1b97b4291428"
      }
     },
     "metadata": {}
    },
    {
     "output_type": "display_data",
     "data": {
      "text/plain": [
       "New Data Upload               : |          |  0.00B /  0.00B            "
      ],
      "application/vnd.jupyter.widget-view+json": {
       "version_major": 2,
       "version_minor": 0,
       "model_id": "7d90256290d24a9a972534fa5e3a4c46"
      }
     },
     "metadata": {}
    },
    {
     "output_type": "display_data",
     "data": {
      "text/plain": [
       "  ./checkpoints/best_model.pth:   0%|          |  554kB /  292MB            "
      ],
      "application/vnd.jupyter.widget-view+json": {
       "version_major": 2,
       "version_minor": 0,
       "model_id": "2ef7b0cd34cf4227a936feab483fce49"
      }
     },
     "metadata": {}
    },
    {
     "output_type": "stream",
     "name": "stdout",
     "text": [
      "\u2713 Uploaded: best_model.pth\n",
      "Best Test Accuracy so far: 58.38% | Patience: 0/15\n",
      "\n"
     ]
    },
    {
     "output_type": "stream",
     "name": "stderr",
     "text": [
      "Epoch 36 Loss=2.1993 Acc=50.64% LR=0.009961: 100%|\u2588\u2588\u2588\u2588\u2588\u2588\u2588\u2588\u2588\u2588| 196/196 [01:51<00:00,  1.76it/s]\n"
     ]
    },
    {
     "output_type": "stream",
     "name": "stdout",
     "text": [
      "\n",
      "Test set: Average loss: 1.5649, Accuracy: 5880/10000 (58.80%)\n",
      "\n",
      "*** New best model! Test Accuracy: 58.80% ***\n"
     ]
    },
    {
     "output_type": "display_data",
     "data": {
      "text/plain": [
       "Processing Files (0 / 0)      : |          |  0.00B /  0.00B            "
      ],
      "application/vnd.jupyter.widget-view+json": {
       "version_major": 2,
       "version_minor": 0,
       "model_id": "3162363c59b64eca99f2622baad5a2d1"
      }
     },
     "metadata": {}
    },
    {
     "output_type": "display_data",
     "data": {
      "text/plain": [
       "New Data Upload               : |          |  0.00B /  0.00B            "
      ],
      "application/vnd.jupyter.widget-view+json": {
       "version_major": 2,
       "version_minor": 0,
       "model_id": "343fc64ff0274f88b3c58db7004fbaad"
      }
     },
     "metadata": {}
    },
    {
     "output_type": "display_data",
     "data": {
      "text/plain": [
       "  ./checkpoints/best_model.pth:   0%|          |  554kB /  292MB            "
      ],
      "application/vnd.jupyter.widget-view+json": {
       "version_major": 2,
       "version_minor": 0,
       "model_id": "b174fbfec1e7419ebf1beb49d3033703"
      }
     },
     "metadata": {}
    },
    {
     "output_type": "stream",
     "name": "stdout",
     "text": [
      "\u2713 Uploaded: best_model.pth\n",
      "Best Test Accuracy so far: 58.80% | Patience: 0/15\n",
      "\n"
     ]
    },
    {
     "output_type": "stream",
     "name": "stderr",
     "text": [
      "Epoch 37 Loss=2.3121 Acc=50.32% LR=0.000448: 100%|\u2588\u2588\u2588\u2588\u2588\u2588\u2588\u2588\u2588\u2588| 196/196 [01:51<00:00,  1.76it/s]\n"
     ]
    },
    {
     "output_type": "stream",
     "name": "stdout",
     "text": [
      "\n",
      "Test set: Average loss: 1.5552, Accuracy: 5951/10000 (59.51%)\n",
      "\n",
      "*** New best model! Test Accuracy: 59.51% ***\n"
     ]
    },
    {
     "output_type": "display_data",
     "data": {
      "text/plain": [
       "Processing Files (0 / 0)      : |          |  0.00B /  0.00B            "
      ],
      "application/vnd.jupyter.widget-view+json": {
       "version_major": 2,
       "version_minor": 0,
       "model_id": "f72aab10e8234f8e98a5195e8ecc9754"
      }
     },
     "metadata": {}
    },
    {
     "output_type": "display_data",
     "data": {
      "text/plain": [
       "New Data Upload               : |          |  0.00B /  0.00B            "
      ],
      "application/vnd.jupyter.widget-view+json": {
       "version_major": 2,
       "version_minor": 0,
       "model_id": "753e7da3908f43cca2dc54e340a0d138"
      }
     },
     "metadata": {}
    },
    {
     "output_type": "display_data",
     "data": {
      "text/plain": [
       "  ./checkpoints/best_model.pth:   0%|          |  554kB /  292MB            "
      ],
      "application/vnd.jupyter.widget-view+json": {
       "version_major": 2,
       "version_minor": 0,
       "model_id": "eb758bdf29824b30b91dcf9be1012838"
      }
     },
     "metadata": {}
    },
    {
     "output_type": "stream",
     "name": "stdout",
     "text": [
      "\u2713 Uploaded: best_model.pth\n",
      "Best Test Accuracy so far: 59.51% | Patience: 0/15\n",
      "\n"
     ]
    },
    {
     "output_type": "stream",
     "name": "stderr",
     "text": [
      "Epoch 38 Loss=3.7860 Acc=51.83% LR=0.001895: 100%|\u2588\u2588\u2588\u2588\u2588\u2588\u2588\u2588\u2588\u2588| 196/196 [01:50<00:00,  1.77it/s]\n"
     ]
    },
    {
     "output_type": "stream",
     "name": "stdout",
     "text": [
      "\n",
      "Test set: Average loss: 1.5454, Accuracy: 5954/10000 (59.54%)\n",
      "\n",
      "*** New best model! Test Accuracy: 59.54% ***\n"
     ]
    },
    {
     "output_type": "display_data",
     "data": {
      "text/plain": [
       "Processing Files (0 / 0)      : |          |  0.00B /  0.00B            "
      ],
      "application/vnd.jupyter.widget-view+json": {
       "version_major": 2,
       "version_minor": 0,
       "model_id": "8c1efcebf3f24666aaea3f038b58c284"
      }
     },
     "metadata": {}
    },
    {
     "output_type": "display_data",
     "data": {
      "text/plain": [
       "New Data Upload               : |          |  0.00B /  0.00B            "
      ],
      "application/vnd.jupyter.widget-view+json": {
       "version_major": 2,
       "version_minor": 0,
       "model_id": "113fb26eaa3141bb9e24adf4167a8c89"
      }
     },
     "metadata": {}
    },
    {
     "output_type": "display_data",
     "data": {
      "text/plain": [
       "  ./checkpoints/best_model.pth:   0%|          |  553kB /  292MB            "
      ],
      "application/vnd.jupyter.widget-view+json": {
       "version_major": 2,
       "version_minor": 0,
       "model_id": "a4f2781ba95a4ae68e965abb8b82dd83"
      }
     },
     "metadata": {}
    },
    {
     "output_type": "stream",
     "name": "stdout",
     "text": [
      "\u2713 Uploaded: best_model.pth\n",
      "Best Test Accuracy so far: 59.54% | Patience: 0/15\n",
      "\n"
     ]
    },
    {
     "output_type": "stream",
     "name": "stderr",
     "text": [
      "Epoch 39 Loss=1.9945 Acc=52.93% LR=0.004122: 100%|\u2588\u2588\u2588\u2588\u2588\u2588\u2588\u2588\u2588\u2588| 196/196 [01:51<00:00,  1.76it/s]\n"
     ]
    },
    {
     "output_type": "stream",
     "name": "stdout",
     "text": [
      "\n",
      "Test set: Average loss: 1.5767, Accuracy: 5919/10000 (59.19%)\n",
      "\n",
      "Best Test Accuracy so far: 59.54% | Patience: 1/15\n",
      "\n"
     ]
    },
    {
     "output_type": "stream",
     "name": "stderr",
     "text": [
      "Epoch 40 Loss=2.9800 Acc=54.34% LR=0.006580: 100%|\u2588\u2588\u2588\u2588\u2588\u2588\u2588\u2588\u2588\u2588| 196/196 [01:52<00:00,  1.75it/s]\n"
     ]
    },
    {
     "output_type": "stream",
     "name": "stdout",
     "text": [
      "\n",
      "Test set: Average loss: 1.5817, Accuracy: 5871/10000 (58.71%)\n",
      "\n",
      "\ud83d\udccd Breakpoint checkpoint at epoch 40\n"
     ]
    },
    {
     "output_type": "display_data",
     "data": {
      "text/plain": [
       "Processing Files (0 / 0)      : |          |  0.00B /  0.00B            "
      ],
      "application/vnd.jupyter.widget-view+json": {
       "version_major": 2,
       "version_minor": 0,
       "model_id": "a656fdf761434ac995630832b1075e26"
      }
     },
     "metadata": {}
    },
    {
     "output_type": "display_data",
     "data": {
      "text/plain": [
       "New Data Upload               : |          |  0.00B /  0.00B            "
      ],
      "application/vnd.jupyter.widget-view+json": {
       "version_major": 2,
       "version_minor": 0,
       "model_id": "c3b3c418f992428db60be03dda6fea21"
      }
     },
     "metadata": {}
    },
    {
     "output_type": "display_data",
     "data": {
      "text/plain": [
       "  ...ts/checkpoint_epoch40.pth:   0%|          |  552kB /  292MB            "
      ],
      "application/vnd.jupyter.widget-view+json": {
       "version_major": 2,
       "version_minor": 0,
       "model_id": "f3f1f2571e4f4ae0aac9d3f62b6861a2"
      }
     },
     "metadata": {}
    },
    {
     "output_type": "stream",
     "name": "stdout",
     "text": [
      "\u2713 Uploaded: checkpoint_epoch40.pth\n",
      "\u2713 Uploaded: metrics.json\n",
      "Best Test Accuracy so far: 59.54% | Patience: 2/15\n",
      "\n"
     ]
    },
    {
     "output_type": "stream",
     "name": "stderr",
     "text": [
      "Epoch 41 Loss=3.4006 Acc=53.33% LR=0.008658: 100%|\u2588\u2588\u2588\u2588\u2588\u2588\u2588\u2588\u2588\u2588| 196/196 [01:51<00:00,  1.76it/s]\n"
     ]
    },
    {
     "output_type": "stream",
     "name": "stdout",
     "text": [
      "\n",
      "Test set: Average loss: 1.5529, Accuracy: 5950/10000 (59.50%)\n",
      "\n",
      "Best Test Accuracy so far: 59.54% | Patience: 3/15\n",
      "\n"
     ]
    },
    {
     "output_type": "stream",
     "name": "stderr",
     "text": [
      "Epoch 42 Loss=2.1127 Acc=54.93% LR=0.009844: 100%|\u2588\u2588\u2588\u2588\u2588\u2588\u2588\u2588\u2588\u2588| 196/196 [01:52<00:00,  1.74it/s]\n"
     ]
    },
    {
     "output_type": "stream",
     "name": "stdout",
     "text": [
      "\n",
      "Test set: Average loss: 1.5245, Accuracy: 6035/10000 (60.35%)\n",
      "\n",
      "*** New best model! Test Accuracy: 60.35% ***\n"
     ]
    },
    {
     "output_type": "display_data",
     "data": {
      "text/plain": [
       "Processing Files (0 / 0)      : |          |  0.00B /  0.00B            "
      ],
      "application/vnd.jupyter.widget-view+json": {
       "version_major": 2,
       "version_minor": 0,
       "model_id": "0330abf616494d899793546372722a7d"
      }
     },
     "metadata": {}
    },
    {
     "output_type": "display_data",
     "data": {
      "text/plain": [
       "New Data Upload               : |          |  0.00B /  0.00B            "
      ],
      "application/vnd.jupyter.widget-view+json": {
       "version_major": 2,
       "version_minor": 0,
       "model_id": "0d5ff768850c4bff85aa4558b0e72c05"
      }
     },
     "metadata": {}
    },
    {
     "output_type": "display_data",
     "data": {
      "text/plain": [
       "  ./checkpoints/best_model.pth:   0%|          |  553kB /  292MB            "
      ],
      "application/vnd.jupyter.widget-view+json": {
       "version_major": 2,
       "version_minor": 0,
       "model_id": "cb11e64f2a034bf6865539cab8fcffa6"
      }
     },
     "metadata": {}
    },
    {
     "output_type": "stream",
     "name": "stdout",
     "text": [
      "\u2713 Uploaded: best_model.pth\n",
      "Best Test Accuracy so far: 60.35% | Patience: 0/15\n",
      "\n"
     ]
    },
    {
     "output_type": "stream",
     "name": "stderr",
     "text": [
      "Epoch 43 Loss=2.0651 Acc=54.17% LR=0.000256: 100%|\u2588\u2588\u2588\u2588\u2588\u2588\u2588\u2588\u2588\u2588| 196/196 [01:51<00:00,  1.77it/s]\n"
     ]
    },
    {
     "output_type": "stream",
     "name": "stdout",
     "text": [
      "\n",
      "Test set: Average loss: 1.5112, Accuracy: 6096/10000 (60.96%)\n",
      "\n",
      "*** New best model! Test Accuracy: 60.96% ***\n"
     ]
    },
    {
     "output_type": "display_data",
     "data": {
      "text/plain": [
       "Processing Files (0 / 0)      : |          |  0.00B /  0.00B            "
      ],
      "application/vnd.jupyter.widget-view+json": {
       "version_major": 2,
       "version_minor": 0,
       "model_id": "99f1aac9ba914f188d75504c636a4f86"
      }
     },
     "metadata": {}
    },
    {
     "output_type": "display_data",
     "data": {
      "text/plain": [
       "New Data Upload               : |          |  0.00B /  0.00B            "
      ],
      "application/vnd.jupyter.widget-view+json": {
       "version_major": 2,
       "version_minor": 0,
       "model_id": "dd965e5a027b4cfeae74028c593a44d9"
      }
     },
     "metadata": {}
    },
    {
     "output_type": "display_data",
     "data": {
      "text/plain": [
       "  ./checkpoints/best_model.pth:   0%|          |  554kB /  292MB            "
      ],
      "application/vnd.jupyter.widget-view+json": {
       "version_major": 2,
       "version_minor": 0,
       "model_id": "7383a2b351e64049a24c6562adc92f00"
      }
     },
     "metadata": {}
    },
    {
     "output_type": "stream",
     "name": "stdout",
     "text": [
      "\u2713 Uploaded: best_model.pth\n",
      "Best Test Accuracy so far: 60.96% | Patience: 0/15\n",
      "\n"
     ]
    },
    {
     "output_type": "stream",
     "name": "stderr",
     "text": [
      "Epoch 44 Loss=1.9734 Acc=54.84% LR=0.001442: 100%|\u2588\u2588\u2588\u2588\u2588\u2588\u2588\u2588\u2588\u2588| 196/196 [01:51<00:00,  1.76it/s]\n"
     ]
    },
    {
     "output_type": "stream",
     "name": "stdout",
     "text": [
      "\n",
      "Test set: Average loss: 1.5385, Accuracy: 6062/10000 (60.62%)\n",
      "\n",
      "Best Test Accuracy so far: 60.96% | Patience: 1/15\n",
      "\n"
     ]
    },
    {
     "output_type": "stream",
     "name": "stderr",
     "text": [
      "Epoch 45 Loss=2.0914 Acc=53.44% LR=0.003520: 100%|\u2588\u2588\u2588\u2588\u2588\u2588\u2588\u2588\u2588\u2588| 196/196 [01:52<00:00,  1.74it/s]\n"
     ]
    },
    {
     "output_type": "stream",
     "name": "stdout",
     "text": [
      "\n",
      "Test set: Average loss: 1.5444, Accuracy: 6050/10000 (60.50%)\n",
      "\n",
      "Best Test Accuracy so far: 60.96% | Patience: 2/15\n",
      "\n"
     ]
    },
    {
     "output_type": "stream",
     "name": "stderr",
     "text": [
      "Epoch 46 Loss=2.2926 Acc=57.19% LR=0.005978: 100%|\u2588\u2588\u2588\u2588\u2588\u2588\u2588\u2588\u2588\u2588| 196/196 [01:52<00:00,  1.74it/s]\n"
     ]
    },
    {
     "output_type": "stream",
     "name": "stdout",
     "text": [
      "\n",
      "Test set: Average loss: 1.4899, Accuracy: 6135/10000 (61.35%)\n",
      "\n",
      "*** New best model! Test Accuracy: 61.35% ***\n"
     ]
    },
    {
     "output_type": "display_data",
     "data": {
      "text/plain": [
       "Processing Files (0 / 0)      : |          |  0.00B /  0.00B            "
      ],
      "application/vnd.jupyter.widget-view+json": {
       "version_major": 2,
       "version_minor": 0,
       "model_id": "8c075cb88d89476096aa7e18313ae1db"
      }
     },
     "metadata": {}
    },
    {
     "output_type": "display_data",
     "data": {
      "text/plain": [
       "New Data Upload               : |          |  0.00B /  0.00B            "
      ],
      "application/vnd.jupyter.widget-view+json": {
       "version_major": 2,
       "version_minor": 0,
       "model_id": "3d3fd0aa5d924840aac1151160121a2d"
      }
     },
     "metadata": {}
    },
    {
     "output_type": "display_data",
     "data": {
      "text/plain": [
       "  ./checkpoints/best_model.pth:   0%|          |  553kB /  292MB            "
      ],
      "application/vnd.jupyter.widget-view+json": {
       "version_major": 2,
       "version_minor": 0,
       "model_id": "30e62752c6bf4ed988ad309b3daff6cc"
      }
     },
     "metadata": {}
    },
    {
     "output_type": "stream",
     "name": "stdout",
     "text": [
      "\u2713 Uploaded: best_model.pth\n",
      "Best Test Accuracy so far: 61.35% | Patience: 0/15\n",
      "\n"
     ]
    },
    {
     "output_type": "stream",
     "name": "stderr",
     "text": [
      "Epoch 47 Loss=3.2313 Acc=57.85% LR=0.008205: 100%|\u2588\u2588\u2588\u2588\u2588\u2588\u2588\u2588\u2588\u2588| 196/196 [01:51<00:00,  1.76it/s]\n"
     ]
    },
    {
     "output_type": "stream",
     "name": "stdout",
     "text": [
      "\n",
      "Test set: Average loss: 1.5109, Accuracy: 6111/10000 (61.11%)\n",
      "\n",
      "Best Test Accuracy so far: 61.35% | Patience: 1/15\n",
      "\n"
     ]
    },
    {
     "output_type": "stream",
     "name": "stderr",
     "text": [
      "Epoch 48 Loss=2.0015 Acc=54.96% LR=0.009652: 100%|\u2588\u2588\u2588\u2588\u2588\u2588\u2588\u2588\u2588\u2588| 196/196 [01:52<00:00,  1.74it/s]\n"
     ]
    },
    {
     "output_type": "stream",
     "name": "stdout",
     "text": [
      "\n",
      "Test set: Average loss: 1.4932, Accuracy: 6156/10000 (61.56%)\n",
      "\n",
      "*** New best model! Test Accuracy: 61.56% ***\n"
     ]
    },
    {
     "output_type": "display_data",
     "data": {
      "text/plain": [
       "Processing Files (0 / 0)      : |          |  0.00B /  0.00B            "
      ],
      "application/vnd.jupyter.widget-view+json": {
       "version_major": 2,
       "version_minor": 0,
       "model_id": "db142a16bb764850befa709ae42fe846"
      }
     },
     "metadata": {}
    },
    {
     "output_type": "display_data",
     "data": {
      "text/plain": [
       "New Data Upload               : |          |  0.00B /  0.00B            "
      ],
      "application/vnd.jupyter.widget-view+json": {
       "version_major": 2,
       "version_minor": 0,
       "model_id": "894da7ee30e04fd9894cc2b40778cb2d"
      }
     },
     "metadata": {}
    },
    {
     "output_type": "display_data",
     "data": {
      "text/plain": [
       "  ./checkpoints/best_model.pth:   1%|          | 1.66MB /  292MB            "
      ],
      "application/vnd.jupyter.widget-view+json": {
       "version_major": 2,
       "version_minor": 0,
       "model_id": "449901e1e48f4b6d8caae0ab5cbe286a"
      }
     },
     "metadata": {}
    },
    {
     "output_type": "stream",
     "name": "stdout",
     "text": [
      "\u2713 Uploaded: best_model.pth\n",
      "Best Test Accuracy so far: 61.56% | Patience: 0/15\n",
      "\n"
     ]
    },
    {
     "output_type": "stream",
     "name": "stderr",
     "text": [
      "Epoch 49 Loss=1.8442 Acc=56.75% LR=0.000139: 100%|\u2588\u2588\u2588\u2588\u2588\u2588\u2588\u2588\u2588\u2588| 196/196 [01:51<00:00,  1.75it/s]\n"
     ]
    },
    {
     "output_type": "stream",
     "name": "stdout",
     "text": [
      "\n",
      "Test set: Average loss: 1.4651, Accuracy: 6294/10000 (62.94%)\n",
      "\n",
      "*** New best model! Test Accuracy: 62.94% ***\n"
     ]
    },
    {
     "output_type": "display_data",
     "data": {
      "text/plain": [
       "Processing Files (0 / 0)      : |          |  0.00B /  0.00B            "
      ],
      "application/vnd.jupyter.widget-view+json": {
       "version_major": 2,
       "version_minor": 0,
       "model_id": "ecaeee7471ab4182a42ed6a9bc9c18ff"
      }
     },
     "metadata": {}
    },
    {
     "output_type": "display_data",
     "data": {
      "text/plain": [
       "New Data Upload               : |          |  0.00B /  0.00B            "
      ],
      "application/vnd.jupyter.widget-view+json": {
       "version_major": 2,
       "version_minor": 0,
       "model_id": "4b2f96688e0348518dee8937d86155b2"
      }
     },
     "metadata": {}
    },
    {
     "output_type": "display_data",
     "data": {
      "text/plain": [
       "  ./checkpoints/best_model.pth:   0%|          |  553kB /  292MB            "
      ],
      "application/vnd.jupyter.widget-view+json": {
       "version_major": 2,
       "version_minor": 0,
       "model_id": "ad472af26b594d309ef2bd98b83e7378"
      }
     },
     "metadata": {}
    },
    {
     "output_type": "stream",
     "name": "stdout",
     "text": [
      "\u2713 Uploaded: best_model.pth\n",
      "Best Test Accuracy so far: 62.94% | Patience: 0/15\n",
      "\n"
     ]
    },
    {
     "output_type": "stream",
     "name": "stderr",
     "text": [
      "Epoch 50 Loss=2.3648 Acc=56.46% LR=0.001045: 100%|\u2588\u2588\u2588\u2588\u2588\u2588\u2588\u2588\u2588\u2588| 196/196 [01:51<00:00,  1.76it/s]\n"
     ]
    },
    {
     "output_type": "stream",
     "name": "stdout",
     "text": [
      "\n",
      "Test set: Average loss: 1.5042, Accuracy: 6201/10000 (62.01%)\n",
      "\n",
      "\ud83d\udccd Breakpoint checkpoint at epoch 50\n"
     ]
    },
    {
     "output_type": "display_data",
     "data": {
      "text/plain": [
       "Processing Files (0 / 0)      : |          |  0.00B /  0.00B            "
      ],
      "application/vnd.jupyter.widget-view+json": {
       "version_major": 2,
       "version_minor": 0,
       "model_id": "103b868b7629474a8ff54335fca73341"
      }
     },
     "metadata": {}
    },
    {
     "output_type": "display_data",
     "data": {
      "text/plain": [
       "New Data Upload               : |          |  0.00B /  0.00B            "
      ],
      "application/vnd.jupyter.widget-view+json": {
       "version_major": 2,
       "version_minor": 0,
       "model_id": "fdcaf9199904429ca8353b7cffab3fde"
      }
     },
     "metadata": {}
    },
    {
     "output_type": "display_data",
     "data": {
      "text/plain": [
       "  ...ts/checkpoint_epoch50.pth:   0%|          |  553kB /  292MB            "
      ],
      "application/vnd.jupyter.widget-view+json": {
       "version_major": 2,
       "version_minor": 0,
       "model_id": "a92ba118fee44e74bc0b87a9eef62f4a"
      }
     },
     "metadata": {}
    },
    {
     "output_type": "stream",
     "name": "stdout",
     "text": [
      "\u2713 Uploaded: checkpoint_epoch50.pth\n",
      "\u2713 Uploaded: metrics.json\n",
      "Best Test Accuracy so far: 62.94% | Patience: 1/15\n",
      "\n"
     ]
    },
    {
     "output_type": "stream",
     "name": "stderr",
     "text": [
      "Epoch 51 Loss=2.3915 Acc=56.23% LR=0.002942: 100%|\u2588\u2588\u2588\u2588\u2588\u2588\u2588\u2588\u2588\u2588| 196/196 [01:51<00:00,  1.75it/s]\n"
     ]
    },
    {
     "output_type": "stream",
     "name": "stdout",
     "text": [
      "\n",
      "Test set: Average loss: 1.5080, Accuracy: 6182/10000 (61.82%)\n",
      "\n",
      "Best Test Accuracy so far: 62.94% | Patience: 2/15\n",
      "\n"
     ]
    },
    {
     "output_type": "stream",
     "name": "stderr",
     "text": [
      "Epoch 52 Loss=2.1636 Acc=57.04% LR=0.005361: 100%|\u2588\u2588\u2588\u2588\u2588\u2588\u2588\u2588\u2588\u2588| 196/196 [01:54<00:00,  1.71it/s]\n"
     ]
    },
    {
     "output_type": "stream",
     "name": "stdout",
     "text": [
      "\n",
      "Test set: Average loss: 1.5025, Accuracy: 6193/10000 (61.93%)\n",
      "\n",
      "Best Test Accuracy so far: 62.94% | Patience: 3/15\n",
      "\n"
     ]
    },
    {
     "output_type": "stream",
     "name": "stderr",
     "text": [
      "Epoch 53 Loss=2.1906 Acc=56.35% LR=0.007702: 100%|\u2588\u2588\u2588\u2588\u2588\u2588\u2588\u2588\u2588\u2588| 196/196 [01:53<00:00,  1.73it/s]\n"
     ]
    },
    {
     "output_type": "stream",
     "name": "stdout",
     "text": [
      "\n",
      "Test set: Average loss: 1.5182, Accuracy: 6175/10000 (61.75%)\n",
      "\n",
      "Best Test Accuracy so far: 62.94% | Patience: 4/15\n",
      "\n"
     ]
    },
    {
     "output_type": "stream",
     "name": "stderr",
     "text": [
      "Epoch 54 Loss=1.9755 Acc=58.51% LR=0.009388: 100%|\u2588\u2588\u2588\u2588\u2588\u2588\u2588\u2588\u2588\u2588| 196/196 [01:53<00:00,  1.73it/s]\n"
     ]
    },
    {
     "output_type": "stream",
     "name": "stdout",
     "text": [
      "\n",
      "Test set: Average loss: 1.4341, Accuracy: 6388/10000 (63.88%)\n",
      "\n",
      "*** New best model! Test Accuracy: 63.88% ***\n"
     ]
    },
    {
     "output_type": "display_data",
     "data": {
      "text/plain": [
       "Processing Files (0 / 0)      : |          |  0.00B /  0.00B            "
      ],
      "application/vnd.jupyter.widget-view+json": {
       "version_major": 2,
       "version_minor": 0,
       "model_id": "fa0c0e40ae8e42528470076fe4188bb8"
      }
     },
     "metadata": {}
    },
    {
     "output_type": "display_data",
     "data": {
      "text/plain": [
       "New Data Upload               : |          |  0.00B /  0.00B            "
      ],
      "application/vnd.jupyter.widget-view+json": {
       "version_major": 2,
       "version_minor": 0,
       "model_id": "63bbcc76143740ecbc5963dbce329859"
      }
     },
     "metadata": {}
    },
    {
     "output_type": "display_data",
     "data": {
      "text/plain": [
       "  ./checkpoints/best_model.pth:   0%|          |  553kB /  292MB            "
      ],
      "application/vnd.jupyter.widget-view+json": {
       "version_major": 2,
       "version_minor": 0,
       "model_id": "c360efa4d83b45ddbdf77d67da1af1e3"
      }
     },
     "metadata": {}
    },
    {
     "output_type": "stream",
     "name": "stdout",
     "text": [
      "\u2713 Uploaded: best_model.pth\n",
      "Best Test Accuracy so far: 63.88% | Patience: 0/15\n",
      "\n"
     ]
    },
    {
     "output_type": "stream",
     "name": "stderr",
     "text": [
      "Epoch 55 Loss=3.6489 Acc=57.29% LR=0.010000: 100%|\u2588\u2588\u2588\u2588\u2588\u2588\u2588\u2588\u2588\u2588| 196/196 [01:50<00:00,  1.77it/s]\n"
     ]
    },
    {
     "output_type": "stream",
     "name": "stdout",
     "text": [
      "\n",
      "Test set: Average loss: 1.4529, Accuracy: 6365/10000 (63.65%)\n",
      "\n",
      "Best Test Accuracy so far: 63.88% | Patience: 1/15\n",
      "\n"
     ]
    },
    {
     "output_type": "stream",
     "name": "stderr",
     "text": [
      "Epoch 56 Loss=2.1593 Acc=59.48% LR=0.000712: 100%|\u2588\u2588\u2588\u2588\u2588\u2588\u2588\u2588\u2588\u2588| 196/196 [01:52<00:00,  1.75it/s]\n"
     ]
    },
    {
     "output_type": "stream",
     "name": "stdout",
     "text": [
      "\n",
      "Test set: Average loss: 1.4370, Accuracy: 6438/10000 (64.38%)\n",
      "\n",
      "*** New best model! Test Accuracy: 64.38% ***\n"
     ]
    },
    {
     "output_type": "display_data",
     "data": {
      "text/plain": [
       "Processing Files (0 / 0)      : |          |  0.00B /  0.00B            "
      ],
      "application/vnd.jupyter.widget-view+json": {
       "version_major": 2,
       "version_minor": 0,
       "model_id": "141fc0b146a54ccb8b2e74bb6e4d8420"
      }
     },
     "metadata": {}
    },
    {
     "output_type": "display_data",
     "data": {
      "text/plain": [
       "New Data Upload               : |          |  0.00B /  0.00B            "
      ],
      "application/vnd.jupyter.widget-view+json": {
       "version_major": 2,
       "version_minor": 0,
       "model_id": "64e5d1b81fde43869219df5f3f4d531a"
      }
     },
     "metadata": {}
    },
    {
     "output_type": "display_data",
     "data": {
      "text/plain": [
       "  ./checkpoints/best_model.pth:   0%|          |  553kB /  292MB            "
      ],
      "application/vnd.jupyter.widget-view+json": {
       "version_major": 2,
       "version_minor": 0,
       "model_id": "54d76c09cd2942559c8bf44d02aab0db"
      }
     },
     "metadata": {}
    },
    {
     "output_type": "stream",
     "name": "stdout",
     "text": [
      "\u2713 Uploaded: best_model.pth\n",
      "Best Test Accuracy so far: 64.38% | Patience: 0/15\n",
      "\n"
     ]
    },
    {
     "output_type": "stream",
     "name": "stderr",
     "text": [
      "Epoch 57 Loss=1.9455 Acc=57.89% LR=0.002398: 100%|\u2588\u2588\u2588\u2588\u2588\u2588\u2588\u2588\u2588\u2588| 196/196 [01:51<00:00,  1.76it/s]\n"
     ]
    },
    {
     "output_type": "stream",
     "name": "stdout",
     "text": [
      "\n",
      "Test set: Average loss: 1.4380, Accuracy: 6380/10000 (63.80%)\n",
      "\n",
      "Best Test Accuracy so far: 64.38% | Patience: 1/15\n",
      "\n"
     ]
    },
    {
     "output_type": "stream",
     "name": "stderr",
     "text": [
      "Epoch 58 Loss=1.8645 Acc=59.79% LR=0.004739: 100%|\u2588\u2588\u2588\u2588\u2588\u2588\u2588\u2588\u2588\u2588| 196/196 [01:52<00:00,  1.74it/s]\n"
     ]
    },
    {
     "output_type": "stream",
     "name": "stdout",
     "text": [
      "\n",
      "Test set: Average loss: 1.4173, Accuracy: 6404/10000 (64.04%)\n",
      "\n",
      "Best Test Accuracy so far: 64.38% | Patience: 2/15\n",
      "\n"
     ]
    },
    {
     "output_type": "stream",
     "name": "stderr",
     "text": [
      "Epoch 59 Loss=1.7452 Acc=58.13% LR=0.007158: 100%|\u2588\u2588\u2588\u2588\u2588\u2588\u2588\u2588\u2588\u2588| 196/196 [01:52<00:00,  1.74it/s]\n"
     ]
    },
    {
     "output_type": "stream",
     "name": "stdout",
     "text": [
      "\n",
      "Test set: Average loss: 1.4651, Accuracy: 6391/10000 (63.91%)\n",
      "\n",
      "Best Test Accuracy so far: 64.38% | Patience: 3/15\n",
      "\n"
     ]
    },
    {
     "output_type": "stream",
     "name": "stderr",
     "text": [
      "Epoch 60 Loss=2.0816 Acc=59.07% LR=0.009055: 100%|\u2588\u2588\u2588\u2588\u2588\u2588\u2588\u2588\u2588\u2588| 196/196 [01:52<00:00,  1.74it/s]\n"
     ]
    },
    {
     "output_type": "stream",
     "name": "stdout",
     "text": [
      "\n",
      "Test set: Average loss: 1.5216, Accuracy: 6196/10000 (61.96%)\n",
      "\n",
      "\ud83d\udccd Breakpoint checkpoint at epoch 60\n"
     ]
    },
    {
     "output_type": "display_data",
     "data": {
      "text/plain": [
       "Processing Files (0 / 0)      : |          |  0.00B /  0.00B            "
      ],
      "application/vnd.jupyter.widget-view+json": {
       "version_major": 2,
       "version_minor": 0,
       "model_id": "c01b20babed94a7f8deabdd917497a8c"
      }
     },
     "metadata": {}
    },
    {
     "output_type": "display_data",
     "data": {
      "text/plain": [
       "New Data Upload               : |          |  0.00B /  0.00B            "
      ],
      "application/vnd.jupyter.widget-view+json": {
       "version_major": 2,
       "version_minor": 0,
       "model_id": "c785e371106b4a93a12a80bdfc60e975"
      }
     },
     "metadata": {}
    },
    {
     "output_type": "display_data",
     "data": {
      "text/plain": [
       "  ...ts/checkpoint_epoch60.pth:   0%|          |  553kB /  292MB            "
      ],
      "application/vnd.jupyter.widget-view+json": {
       "version_major": 2,
       "version_minor": 0,
       "model_id": "2436b39f73a44b7a912798ad2681f4f3"
      }
     },
     "metadata": {}
    },
    {
     "output_type": "stream",
     "name": "stdout",
     "text": [
      "\u2713 Uploaded: checkpoint_epoch60.pth\n",
      "\u2713 Uploaded: metrics.json\n",
      "Best Test Accuracy so far: 64.38% | Patience: 4/15\n",
      "\n"
     ]
    },
    {
     "output_type": "stream",
     "name": "stderr",
     "text": [
      "Epoch 61 Loss=3.2582 Acc=57.97% LR=0.009961: 100%|\u2588\u2588\u2588\u2588\u2588\u2588\u2588\u2588\u2588\u2588| 196/196 [01:51<00:00,  1.75it/s]\n"
     ]
    },
    {
     "output_type": "stream",
     "name": "stdout",
     "text": [
      "\n",
      "Test set: Average loss: 1.4327, Accuracy: 6502/10000 (65.02%)\n",
      "\n",
      "*** New best model! Test Accuracy: 65.02% ***\n"
     ]
    },
    {
     "output_type": "display_data",
     "data": {
      "text/plain": [
       "Processing Files (0 / 0)      : |          |  0.00B /  0.00B            "
      ],
      "application/vnd.jupyter.widget-view+json": {
       "version_major": 2,
       "version_minor": 0,
       "model_id": "4c15b7a46d9843aca052de587cde87de"
      }
     },
     "metadata": {}
    },
    {
     "output_type": "display_data",
     "data": {
      "text/plain": [
       "New Data Upload               : |          |  0.00B /  0.00B            "
      ],
      "application/vnd.jupyter.widget-view+json": {
       "version_major": 2,
       "version_minor": 0,
       "model_id": "dbce508a2f024baca71131339ca4d739"
      }
     },
     "metadata": {}
    },
    {
     "output_type": "display_data",
     "data": {
      "text/plain": [
       "  ./checkpoints/best_model.pth:   0%|          |  552kB /  292MB            "
      ],
      "application/vnd.jupyter.widget-view+json": {
       "version_major": 2,
       "version_minor": 0,
       "model_id": "ee190b345d804e428e210deaf773e6ea"
      }
     },
     "metadata": {}
    },
    {
     "output_type": "stream",
     "name": "stdout",
     "text": [
      "\u2713 Uploaded: best_model.pth\n",
      "Best Test Accuracy so far: 65.02% | Patience: 0/15\n",
      "\n"
     ]
    },
    {
     "output_type": "stream",
     "name": "stderr",
     "text": [
      "Epoch 62 Loss=3.1051 Acc=60.15% LR=0.000448: 100%|\u2588\u2588\u2588\u2588\u2588\u2588\u2588\u2588\u2588\u2588| 196/196 [01:51<00:00,  1.75it/s]\n"
     ]
    },
    {
     "output_type": "stream",
     "name": "stdout",
     "text": [
      "\n",
      "Test set: Average loss: 1.4064, Accuracy: 6572/10000 (65.72%)\n",
      "\n",
      "*** New best model! Test Accuracy: 65.72% ***\n"
     ]
    },
    {
     "output_type": "display_data",
     "data": {
      "text/plain": [
       "Processing Files (0 / 0)      : |          |  0.00B /  0.00B            "
      ],
      "application/vnd.jupyter.widget-view+json": {
       "version_major": 2,
       "version_minor": 0,
       "model_id": "00b3454af7bf48679d818c5c957591d6"
      }
     },
     "metadata": {}
    },
    {
     "output_type": "display_data",
     "data": {
      "text/plain": [
       "New Data Upload               : |          |  0.00B /  0.00B            "
      ],
      "application/vnd.jupyter.widget-view+json": {
       "version_major": 2,
       "version_minor": 0,
       "model_id": "64d4d9df15fc406eae484d6e046a60f2"
      }
     },
     "metadata": {}
    },
    {
     "output_type": "display_data",
     "data": {
      "text/plain": [
       "  ./checkpoints/best_model.pth:   1%|          | 1.66MB /  292MB            "
      ],
      "application/vnd.jupyter.widget-view+json": {
       "version_major": 2,
       "version_minor": 0,
       "model_id": "1035b11daa4a4bda88591f74c592cacd"
      }
     },
     "metadata": {}
    },
    {
     "output_type": "stream",
     "name": "stdout",
     "text": [
      "\u2713 Uploaded: best_model.pth\n",
      "Best Test Accuracy so far: 65.72% | Patience: 0/15\n",
      "\n"
     ]
    },
    {
     "output_type": "stream",
     "name": "stderr",
     "text": [
      "Epoch 63 Loss=2.3231 Acc=58.29% LR=0.001895: 100%|\u2588\u2588\u2588\u2588\u2588\u2588\u2588\u2588\u2588\u2588| 196/196 [01:51<00:00,  1.76it/s]\n"
     ]
    },
    {
     "output_type": "stream",
     "name": "stdout",
     "text": [
      "\n",
      "Test set: Average loss: 1.4483, Accuracy: 6506/10000 (65.06%)\n",
      "\n",
      "Best Test Accuracy so far: 65.72% | Patience: 1/15\n",
      "\n"
     ]
    },
    {
     "output_type": "stream",
     "name": "stderr",
     "text": [
      "Epoch 64 Loss=1.9018 Acc=59.44% LR=0.004122: 100%|\u2588\u2588\u2588\u2588\u2588\u2588\u2588\u2588\u2588\u2588| 196/196 [01:52<00:00,  1.75it/s]\n"
     ]
    },
    {
     "output_type": "stream",
     "name": "stdout",
     "text": [
      "\n",
      "Test set: Average loss: 1.4378, Accuracy: 6481/10000 (64.81%)\n",
      "\n",
      "Best Test Accuracy so far: 65.72% | Patience: 2/15\n",
      "\n"
     ]
    },
    {
     "output_type": "stream",
     "name": "stderr",
     "text": [
      "Epoch 65 Loss=1.9681 Acc=57.35% LR=0.006580: 100%|\u2588\u2588\u2588\u2588\u2588\u2588\u2588\u2588\u2588\u2588| 196/196 [01:52<00:00,  1.74it/s]\n"
     ]
    },
    {
     "output_type": "stream",
     "name": "stdout",
     "text": [
      "\n",
      "Test set: Average loss: 1.5398, Accuracy: 6381/10000 (63.81%)\n",
      "\n",
      "Best Test Accuracy so far: 65.72% | Patience: 3/15\n",
      "\n"
     ]
    },
    {
     "output_type": "stream",
     "name": "stderr",
     "text": [
      "Epoch 66 Loss=3.1877 Acc=58.40% LR=0.008658: 100%|\u2588\u2588\u2588\u2588\u2588\u2588\u2588\u2588\u2588\u2588| 196/196 [01:52<00:00,  1.74it/s]\n"
     ]
    },
    {
     "output_type": "stream",
     "name": "stdout",
     "text": [
      "\n",
      "Test set: Average loss: 1.4930, Accuracy: 6484/10000 (64.84%)\n",
      "\n",
      "Best Test Accuracy so far: 65.72% | Patience: 4/15\n",
      "\n"
     ]
    },
    {
     "output_type": "stream",
     "name": "stderr",
     "text": [
      "Epoch 67 Loss=2.8313 Acc=60.20% LR=0.009844: 100%|\u2588\u2588\u2588\u2588\u2588\u2588\u2588\u2588\u2588\u2588| 196/196 [01:52<00:00,  1.74it/s]\n"
     ]
    },
    {
     "output_type": "stream",
     "name": "stdout",
     "text": [
      "\n",
      "Test set: Average loss: 1.4364, Accuracy: 6577/10000 (65.77%)\n",
      "\n",
      "*** New best model! Test Accuracy: 65.77% ***\n"
     ]
    },
    {
     "output_type": "display_data",
     "data": {
      "text/plain": [
       "Processing Files (0 / 0)      : |          |  0.00B /  0.00B            "
      ],
      "application/vnd.jupyter.widget-view+json": {
       "version_major": 2,
       "version_minor": 0,
       "model_id": "6b4d7e215e474ae8a09f506050888c92"
      }
     },
     "metadata": {}
    },
    {
     "output_type": "display_data",
     "data": {
      "text/plain": [
       "New Data Upload               : |          |  0.00B /  0.00B            "
      ],
      "application/vnd.jupyter.widget-view+json": {
       "version_major": 2,
       "version_minor": 0,
       "model_id": "f572c2df95804f589ced6856b4051eca"
      }
     },
     "metadata": {}
    },
    {
     "output_type": "display_data",
     "data": {
      "text/plain": [
       "  ./checkpoints/best_model.pth:   0%|          |  553kB /  292MB            "
      ],
      "application/vnd.jupyter.widget-view+json": {
       "version_major": 2,
       "version_minor": 0,
       "model_id": "49b76ffdda1245b58c0032c6b7ec5dfa"
      }
     },
     "metadata": {}
    },
    {
     "output_type": "stream",
     "name": "stdout",
     "text": [
      "\u2713 Uploaded: best_model.pth\n",
      "Best Test Accuracy so far: 65.77% | Patience: 0/15\n",
      "\n"
     ]
    },
    {
     "output_type": "stream",
     "name": "stderr",
     "text": [
      "Epoch 68 Loss=1.8927 Acc=59.84% LR=0.000256: 100%|\u2588\u2588\u2588\u2588\u2588\u2588\u2588\u2588\u2588\u2588| 196/196 [01:51<00:00,  1.76it/s]\n"
     ]
    },
    {
     "output_type": "stream",
     "name": "stdout",
     "text": [
      "\n",
      "Test set: Average loss: 1.4195, Accuracy: 6621/10000 (66.21%)\n",
      "\n",
      "*** New best model! Test Accuracy: 66.21% ***\n"
     ]
    },
    {
     "output_type": "display_data",
     "data": {
      "text/plain": [
       "Processing Files (0 / 0)      : |          |  0.00B /  0.00B            "
      ],
      "application/vnd.jupyter.widget-view+json": {
       "version_major": 2,
       "version_minor": 0,
       "model_id": "ef1e9ec8379447439d378b38fff4803d"
      }
     },
     "metadata": {}
    },
    {
     "output_type": "display_data",
     "data": {
      "text/plain": [
       "New Data Upload               : |          |  0.00B /  0.00B            "
      ],
      "application/vnd.jupyter.widget-view+json": {
       "version_major": 2,
       "version_minor": 0,
       "model_id": "9f6af8e9c0dd47649e6251fa95686857"
      }
     },
     "metadata": {}
    },
    {
     "output_type": "display_data",
     "data": {
      "text/plain": [
       "  ./checkpoints/best_model.pth:   0%|          |  553kB /  292MB            "
      ],
      "application/vnd.jupyter.widget-view+json": {
       "version_major": 2,
       "version_minor": 0,
       "model_id": "6f7e4acb169249458380c6fab53ea4c1"
      }
     },
     "metadata": {}
    },
    {
     "output_type": "stream",
     "name": "stdout",
     "text": [
      "\u2713 Uploaded: best_model.pth\n",
      "Best Test Accuracy so far: 66.21% | Patience: 0/15\n",
      "\n"
     ]
    },
    {
     "output_type": "stream",
     "name": "stderr",
     "text": [
      "Epoch 69 Loss=2.0533 Acc=60.89% LR=0.001442: 100%|\u2588\u2588\u2588\u2588\u2588\u2588\u2588\u2588\u2588\u2588| 196/196 [01:51<00:00,  1.76it/s]\n"
     ]
    },
    {
     "output_type": "stream",
     "name": "stdout",
     "text": [
      "\n",
      "Test set: Average loss: 1.4183, Accuracy: 6521/10000 (65.21%)\n",
      "\n",
      "Best Test Accuracy so far: 66.21% | Patience: 1/15\n",
      "\n"
     ]
    },
    {
     "output_type": "stream",
     "name": "stderr",
     "text": [
      "Epoch 70 Loss=1.7621 Acc=60.66% LR=0.003520: 100%|\u2588\u2588\u2588\u2588\u2588\u2588\u2588\u2588\u2588\u2588| 196/196 [01:52<00:00,  1.75it/s]\n"
     ]
    },
    {
     "output_type": "stream",
     "name": "stdout",
     "text": [
      "\n",
      "Test set: Average loss: 1.4421, Accuracy: 6590/10000 (65.90%)\n",
      "\n",
      "\u2713 Uploaded: metrics.json\n",
      "Best Test Accuracy so far: 66.21% | Patience: 2/15\n",
      "\n"
     ]
    },
    {
     "output_type": "stream",
     "name": "stderr",
     "text": [
      "Epoch 71 Loss=3.1971 Acc=62.75% LR=0.005978: 100%|\u2588\u2588\u2588\u2588\u2588\u2588\u2588\u2588\u2588\u2588| 196/196 [01:53<00:00,  1.72it/s]\n"
     ]
    },
    {
     "output_type": "stream",
     "name": "stdout",
     "text": [
      "\n",
      "Test set: Average loss: 1.4229, Accuracy: 6592/10000 (65.92%)\n",
      "\n",
      "Best Test Accuracy so far: 66.21% | Patience: 3/15\n",
      "\n"
     ]
    },
    {
     "output_type": "stream",
     "name": "stderr",
     "text": [
      "Epoch 72 Loss=1.8650 Acc=61.88% LR=0.008205: 100%|\u2588\u2588\u2588\u2588\u2588\u2588\u2588\u2588\u2588\u2588| 196/196 [01:52<00:00,  1.74it/s]\n"
     ]
    },
    {
     "output_type": "stream",
     "name": "stdout",
     "text": [
      "\n",
      "Test set: Average loss: 1.4984, Accuracy: 6388/10000 (63.88%)\n",
      "\n",
      "Best Test Accuracy so far: 66.21% | Patience: 4/15\n",
      "\n"
     ]
    },
    {
     "output_type": "stream",
     "name": "stderr",
     "text": [
      "Epoch 73 Loss=1.9105 Acc=61.89% LR=0.009652: 100%|\u2588\u2588\u2588\u2588\u2588\u2588\u2588\u2588\u2588\u2588| 196/196 [01:52<00:00,  1.74it/s]\n"
     ]
    },
    {
     "output_type": "stream",
     "name": "stdout",
     "text": [
      "\n",
      "Test set: Average loss: 1.3691, Accuracy: 6737/10000 (67.37%)\n",
      "\n",
      "*** New best model! Test Accuracy: 67.37% ***\n"
     ]
    },
    {
     "output_type": "display_data",
     "data": {
      "text/plain": [
       "Processing Files (0 / 0)      : |          |  0.00B /  0.00B            "
      ],
      "application/vnd.jupyter.widget-view+json": {
       "version_major": 2,
       "version_minor": 0,
       "model_id": "299fef7536ea4374b8e00bdce3c00b22"
      }
     },
     "metadata": {}
    },
    {
     "output_type": "display_data",
     "data": {
      "text/plain": [
       "New Data Upload               : |          |  0.00B /  0.00B            "
      ],
      "application/vnd.jupyter.widget-view+json": {
       "version_major": 2,
       "version_minor": 0,
       "model_id": "834bd38df9324bd4b3c4926832ea7a2f"
      }
     },
     "metadata": {}
    },
    {
     "output_type": "display_data",
     "data": {
      "text/plain": [
       "  ./checkpoints/best_model.pth:   0%|          |  553kB /  292MB            "
      ],
      "application/vnd.jupyter.widget-view+json": {
       "version_major": 2,
       "version_minor": 0,
       "model_id": "54a4e8aab10a413684ed565e8791a18f"
      }
     },
     "metadata": {}
    },
    {
     "output_type": "stream",
     "name": "stdout",
     "text": [
      "\u2713 Uploaded: best_model.pth\n",
      "Best Test Accuracy so far: 67.37% | Patience: 0/15\n",
      "\n"
     ]
    },
    {
     "output_type": "stream",
     "name": "stderr",
     "text": [
      "Epoch 74 Loss=3.5818 Acc=63.89% LR=0.000139: 100%|\u2588\u2588\u2588\u2588\u2588\u2588\u2588\u2588\u2588\u2588| 196/196 [01:51<00:00,  1.76it/s]\n"
     ]
    },
    {
     "output_type": "stream",
     "name": "stdout",
     "text": [
      "\n",
      "Test set: Average loss: 1.3755, Accuracy: 6731/10000 (67.31%)\n",
      "\n",
      "Best Test Accuracy so far: 67.37% | Patience: 1/15\n",
      "\n"
     ]
    },
    {
     "output_type": "stream",
     "name": "stderr",
     "text": [
      "Epoch 75 Loss=1.6473 Acc=61.64% LR=0.001045: 100%|\u2588\u2588\u2588\u2588\u2588\u2588\u2588\u2588\u2588\u2588| 196/196 [01:52<00:00,  1.75it/s]\n"
     ]
    },
    {
     "output_type": "stream",
     "name": "stdout",
     "text": [
      "\n",
      "Test set: Average loss: 1.4043, Accuracy: 6733/10000 (67.33%)\n",
      "\n",
      "\ud83d\udccd Breakpoint checkpoint at epoch 75\n"
     ]
    },
    {
     "output_type": "display_data",
     "data": {
      "text/plain": [
       "Processing Files (0 / 0)      : |          |  0.00B /  0.00B            "
      ],
      "application/vnd.jupyter.widget-view+json": {
       "version_major": 2,
       "version_minor": 0,
       "model_id": "410dc6d734fa47a1b60cb27bbe72b46c"
      }
     },
     "metadata": {}
    },
    {
     "output_type": "display_data",
     "data": {
      "text/plain": [
       "New Data Upload               : |          |  0.00B /  0.00B            "
      ],
      "application/vnd.jupyter.widget-view+json": {
       "version_major": 2,
       "version_minor": 0,
       "model_id": "08caf923aec6476da0b39f8eef6d414d"
      }
     },
     "metadata": {}
    },
    {
     "output_type": "display_data",
     "data": {
      "text/plain": [
       "  ...ts/checkpoint_epoch75.pth:   0%|          |  553kB /  292MB            "
      ],
      "application/vnd.jupyter.widget-view+json": {
       "version_major": 2,
       "version_minor": 0,
       "model_id": "9d77249ed14f48c1ade5fae8b2e8365f"
      }
     },
     "metadata": {}
    },
    {
     "output_type": "stream",
     "name": "stdout",
     "text": [
      "\u2713 Uploaded: checkpoint_epoch75.pth\n",
      "\u2713 Uploaded: metrics.json\n",
      "Best Test Accuracy so far: 67.37% | Patience: 2/15\n",
      "\n"
     ]
    },
    {
     "output_type": "stream",
     "name": "stderr",
     "text": [
      "Epoch 76 Loss=3.4919 Acc=64.77% LR=0.002942: 100%|\u2588\u2588\u2588\u2588\u2588\u2588\u2588\u2588\u2588\u2588| 196/196 [01:51<00:00,  1.76it/s]\n"
     ]
    },
    {
     "output_type": "stream",
     "name": "stdout",
     "text": [
      "\n",
      "Test set: Average loss: 1.3928, Accuracy: 6685/10000 (66.85%)\n",
      "\n",
      "Best Test Accuracy so far: 67.37% | Patience: 3/15\n",
      "\n"
     ]
    },
    {
     "output_type": "stream",
     "name": "stderr",
     "text": [
      "Epoch 77 Loss=1.9858 Acc=62.50% LR=0.005361: 100%|\u2588\u2588\u2588\u2588\u2588\u2588\u2588\u2588\u2588\u2588| 196/196 [01:52<00:00,  1.75it/s]\n"
     ]
    },
    {
     "output_type": "stream",
     "name": "stdout",
     "text": [
      "\n",
      "Test set: Average loss: 1.4395, Accuracy: 6587/10000 (65.87%)\n",
      "\n",
      "Best Test Accuracy so far: 67.37% | Patience: 4/15\n",
      "\n"
     ]
    },
    {
     "output_type": "stream",
     "name": "stderr",
     "text": [
      "Epoch 78 Loss=2.8693 Acc=64.43% LR=0.007702: 100%|\u2588\u2588\u2588\u2588\u2588\u2588\u2588\u2588\u2588\u2588| 196/196 [01:52<00:00,  1.74it/s]\n"
     ]
    },
    {
     "output_type": "stream",
     "name": "stdout",
     "text": [
      "\n",
      "Test set: Average loss: 1.4696, Accuracy: 6602/10000 (66.02%)\n",
      "\n",
      "Best Test Accuracy so far: 67.37% | Patience: 5/15\n",
      "\n"
     ]
    },
    {
     "output_type": "stream",
     "name": "stderr",
     "text": [
      "Epoch 79 Loss=1.7390 Acc=63.00% LR=0.009388: 100%|\u2588\u2588\u2588\u2588\u2588\u2588\u2588\u2588\u2588\u2588| 196/196 [01:52<00:00,  1.74it/s]\n"
     ]
    },
    {
     "output_type": "stream",
     "name": "stdout",
     "text": [
      "\n",
      "Test set: Average loss: 1.4021, Accuracy: 6732/10000 (67.32%)\n",
      "\n",
      "Best Test Accuracy so far: 67.37% | Patience: 6/15\n",
      "\n"
     ]
    },
    {
     "output_type": "stream",
     "name": "stderr",
     "text": [
      "Epoch 80 Loss=1.9091 Acc=65.64% LR=0.010000: 100%|\u2588\u2588\u2588\u2588\u2588\u2588\u2588\u2588\u2588\u2588| 196/196 [01:52<00:00,  1.74it/s]\n"
     ]
    },
    {
     "output_type": "stream",
     "name": "stdout",
     "text": [
      "\n",
      "Test set: Average loss: 1.3415, Accuracy: 6820/10000 (68.20%)\n",
      "\n",
      "*** New best model! Test Accuracy: 68.20% ***\n"
     ]
    },
    {
     "output_type": "display_data",
     "data": {
      "text/plain": [
       "Processing Files (0 / 0)      : |          |  0.00B /  0.00B            "
      ],
      "application/vnd.jupyter.widget-view+json": {
       "version_major": 2,
       "version_minor": 0,
       "model_id": "4b0999358a9b482fa6af11a39fe66b6a"
      }
     },
     "metadata": {}
    },
    {
     "output_type": "display_data",
     "data": {
      "text/plain": [
       "New Data Upload               : |          |  0.00B /  0.00B            "
      ],
      "application/vnd.jupyter.widget-view+json": {
       "version_major": 2,
       "version_minor": 0,
       "model_id": "dedc38c560c44f7b864975eb92e76c7a"
      }
     },
     "metadata": {}
    },
    {
     "output_type": "display_data",
     "data": {
      "text/plain": [
       "  ./checkpoints/best_model.pth:   0%|          |  554kB /  292MB            "
      ],
      "application/vnd.jupyter.widget-view+json": {
       "version_major": 2,
       "version_minor": 0,
       "model_id": "3b65ed26467449aea8972c0b12f0d498"
      }
     },
     "metadata": {}
    },
    {
     "output_type": "stream",
     "name": "stdout",
     "text": [
      "\u2713 Uploaded: best_model.pth\n",
      "\u2713 Uploaded: metrics.json\n",
      "Best Test Accuracy so far: 68.20% | Patience: 0/15\n",
      "\n"
     ]
    },
    {
     "output_type": "stream",
     "name": "stderr",
     "text": [
      "Epoch 81 Loss=3.3732 Acc=64.19% LR=0.000712: 100%|\u2588\u2588\u2588\u2588\u2588\u2588\u2588\u2588\u2588\u2588| 196/196 [01:51<00:00,  1.76it/s]\n"
     ]
    },
    {
     "output_type": "stream",
     "name": "stdout",
     "text": [
      "\n",
      "Test set: Average loss: 1.3736, Accuracy: 6840/10000 (68.40%)\n",
      "\n",
      "*** New best model! Test Accuracy: 68.40% ***\n"
     ]
    },
    {
     "output_type": "display_data",
     "data": {
      "text/plain": [
       "Processing Files (0 / 0)      : |          |  0.00B /  0.00B            "
      ],
      "application/vnd.jupyter.widget-view+json": {
       "version_major": 2,
       "version_minor": 0,
       "model_id": "4851b4c9af4447349634cffb9c6011a1"
      }
     },
     "metadata": {}
    },
    {
     "output_type": "display_data",
     "data": {
      "text/plain": [
       "New Data Upload               : |          |  0.00B /  0.00B            "
      ],
      "application/vnd.jupyter.widget-view+json": {
       "version_major": 2,
       "version_minor": 0,
       "model_id": "3ddde841e9524bcba272abae6cf7955f"
      }
     },
     "metadata": {}
    },
    {
     "output_type": "display_data",
     "data": {
      "text/plain": [
       "  ./checkpoints/best_model.pth:   0%|          |  554kB /  292MB            "
      ],
      "application/vnd.jupyter.widget-view+json": {
       "version_major": 2,
       "version_minor": 0,
       "model_id": "9f22da7895624a0488ad31db4fbf59da"
      }
     },
     "metadata": {}
    },
    {
     "output_type": "stream",
     "name": "stdout",
     "text": [
      "\u2713 Uploaded: best_model.pth\n",
      "Best Test Accuracy so far: 68.40% | Patience: 0/15\n",
      "\n"
     ]
    },
    {
     "output_type": "stream",
     "name": "stderr",
     "text": [
      "Epoch 82 Loss=1.7508 Acc=64.00% LR=0.002398: 100%|\u2588\u2588\u2588\u2588\u2588\u2588\u2588\u2588\u2588\u2588| 196/196 [01:50<00:00,  1.77it/s]\n"
     ]
    },
    {
     "output_type": "stream",
     "name": "stdout",
     "text": [
      "\n",
      "Test set: Average loss: 1.3825, Accuracy: 6784/10000 (67.84%)\n",
      "\n",
      "Best Test Accuracy so far: 68.40% | Patience: 1/15\n",
      "\n"
     ]
    },
    {
     "output_type": "stream",
     "name": "stderr",
     "text": [
      "Epoch 83 Loss=1.7585 Acc=64.28% LR=0.004739: 100%|\u2588\u2588\u2588\u2588\u2588\u2588\u2588\u2588\u2588\u2588| 196/196 [01:52<00:00,  1.75it/s]\n"
     ]
    },
    {
     "output_type": "stream",
     "name": "stdout",
     "text": [
      "\n",
      "Test set: Average loss: 1.4130, Accuracy: 6691/10000 (66.91%)\n",
      "\n",
      "Best Test Accuracy so far: 68.40% | Patience: 2/15\n",
      "\n"
     ]
    },
    {
     "output_type": "stream",
     "name": "stderr",
     "text": [
      "Epoch 84 Loss=1.6913 Acc=64.10% LR=0.007158: 100%|\u2588\u2588\u2588\u2588\u2588\u2588\u2588\u2588\u2588\u2588| 196/196 [01:52<00:00,  1.74it/s]\n"
     ]
    },
    {
     "output_type": "stream",
     "name": "stdout",
     "text": [
      "\n",
      "Test set: Average loss: 1.4245, Accuracy: 6648/10000 (66.48%)\n",
      "\n",
      "Best Test Accuracy so far: 68.40% | Patience: 3/15\n",
      "\n"
     ]
    },
    {
     "output_type": "stream",
     "name": "stderr",
     "text": [
      "Epoch 85 Loss=1.6582 Acc=65.68% LR=0.009055: 100%|\u2588\u2588\u2588\u2588\u2588\u2588\u2588\u2588\u2588\u2588| 196/196 [01:53<00:00,  1.73it/s]\n"
     ]
    },
    {
     "output_type": "stream",
     "name": "stdout",
     "text": [
      "\n",
      "Test set: Average loss: 1.4151, Accuracy: 6706/10000 (67.06%)\n",
      "\n",
      "Best Test Accuracy so far: 68.40% | Patience: 4/15\n",
      "\n"
     ]
    },
    {
     "output_type": "stream",
     "name": "stderr",
     "text": [
      "Epoch 86 Loss=1.8273 Acc=67.61% LR=0.009961: 100%|\u2588\u2588\u2588\u2588\u2588\u2588\u2588\u2588\u2588\u2588| 196/196 [01:52<00:00,  1.74it/s]\n"
     ]
    },
    {
     "output_type": "stream",
     "name": "stdout",
     "text": [
      "\n",
      "Test set: Average loss: 1.3327, Accuracy: 6926/10000 (69.26%)\n",
      "\n",
      "*** New best model! Test Accuracy: 69.26% ***\n"
     ]
    },
    {
     "output_type": "display_data",
     "data": {
      "text/plain": [
       "Processing Files (0 / 0)      : |          |  0.00B /  0.00B            "
      ],
      "application/vnd.jupyter.widget-view+json": {
       "version_major": 2,
       "version_minor": 0,
       "model_id": "aee4ed21ee404ae0b8c19f60560a714e"
      }
     },
     "metadata": {}
    },
    {
     "output_type": "display_data",
     "data": {
      "text/plain": [
       "New Data Upload               : |          |  0.00B /  0.00B            "
      ],
      "application/vnd.jupyter.widget-view+json": {
       "version_major": 2,
       "version_minor": 0,
       "model_id": "198ab3d9887f40c48f15bae3e43c60a6"
      }
     },
     "metadata": {}
    },
    {
     "output_type": "display_data",
     "data": {
      "text/plain": [
       "  ./checkpoints/best_model.pth:   0%|          |  554kB /  292MB            "
      ],
      "application/vnd.jupyter.widget-view+json": {
       "version_major": 2,
       "version_minor": 0,
       "model_id": "d5870cdaee3049d997f57bb24a092a34"
      }
     },
     "metadata": {}
    },
    {
     "output_type": "stream",
     "name": "stdout",
     "text": [
      "\u2713 Uploaded: best_model.pth\n",
      "Best Test Accuracy so far: 69.26% | Patience: 0/15\n",
      "\n"
     ]
    },
    {
     "output_type": "stream",
     "name": "stderr",
     "text": [
      "Epoch 87 Loss=1.8681 Acc=66.51% LR=0.000448: 100%|\u2588\u2588\u2588\u2588\u2588\u2588\u2588\u2588\u2588\u2588| 196/196 [01:51<00:00,  1.76it/s]\n"
     ]
    },
    {
     "output_type": "stream",
     "name": "stdout",
     "text": [
      "\n",
      "Test set: Average loss: 1.3169, Accuracy: 6953/10000 (69.53%)\n",
      "\n",
      "*** New best model! Test Accuracy: 69.53% ***\n"
     ]
    },
    {
     "output_type": "display_data",
     "data": {
      "text/plain": [
       "Processing Files (0 / 0)      : |          |  0.00B /  0.00B            "
      ],
      "application/vnd.jupyter.widget-view+json": {
       "version_major": 2,
       "version_minor": 0,
       "model_id": "08c36cf81657419785bc5a63570965a7"
      }
     },
     "metadata": {}
    },
    {
     "output_type": "display_data",
     "data": {
      "text/plain": [
       "New Data Upload               : |          |  0.00B /  0.00B            "
      ],
      "application/vnd.jupyter.widget-view+json": {
       "version_major": 2,
       "version_minor": 0,
       "model_id": "4c66aa6709b64074b59ad299e27fe1bc"
      }
     },
     "metadata": {}
    },
    {
     "output_type": "display_data",
     "data": {
      "text/plain": [
       "  ./checkpoints/best_model.pth:   0%|          |  554kB /  292MB            "
      ],
      "application/vnd.jupyter.widget-view+json": {
       "version_major": 2,
       "version_minor": 0,
       "model_id": "33f55c5df0b54f76b9f4da27bbcf3e83"
      }
     },
     "metadata": {}
    },
    {
     "output_type": "stream",
     "name": "stdout",
     "text": [
      "\u2713 Uploaded: best_model.pth\n",
      "Best Test Accuracy so far: 69.53% | Patience: 0/15\n",
      "\n"
     ]
    },
    {
     "output_type": "stream",
     "name": "stderr",
     "text": [
      "Epoch 88 Loss=1.8194 Acc=66.47% LR=0.001895: 100%|\u2588\u2588\u2588\u2588\u2588\u2588\u2588\u2588\u2588\u2588| 196/196 [01:51<00:00,  1.76it/s]\n"
     ]
    },
    {
     "output_type": "stream",
     "name": "stdout",
     "text": [
      "\n",
      "Test set: Average loss: 1.3637, Accuracy: 6871/10000 (68.71%)\n",
      "\n",
      "Best Test Accuracy so far: 69.53% | Patience: 1/15\n",
      "\n"
     ]
    },
    {
     "output_type": "stream",
     "name": "stderr",
     "text": [
      "Epoch 89 Loss=1.6879 Acc=65.26% LR=0.004122: 100%|\u2588\u2588\u2588\u2588\u2588\u2588\u2588\u2588\u2588\u2588| 196/196 [01:52<00:00,  1.74it/s]\n"
     ]
    },
    {
     "output_type": "stream",
     "name": "stdout",
     "text": [
      "\n",
      "Test set: Average loss: 1.4286, Accuracy: 6737/10000 (67.37%)\n",
      "\n",
      "Best Test Accuracy so far: 69.53% | Patience: 2/15\n",
      "\n"
     ]
    },
    {
     "output_type": "stream",
     "name": "stderr",
     "text": [
      "Epoch 90 Loss=2.3970 Acc=66.09% LR=0.006580: 100%|\u2588\u2588\u2588\u2588\u2588\u2588\u2588\u2588\u2588\u2588| 196/196 [01:52<00:00,  1.74it/s]\n"
     ]
    },
    {
     "output_type": "stream",
     "name": "stdout",
     "text": [
      "\n",
      "Test set: Average loss: 1.4033, Accuracy: 6867/10000 (68.67%)\n",
      "\n",
      "\ud83d\udccd Breakpoint checkpoint at epoch 90\n"
     ]
    },
    {
     "output_type": "display_data",
     "data": {
      "text/plain": [
       "Processing Files (0 / 0)      : |          |  0.00B /  0.00B            "
      ],
      "application/vnd.jupyter.widget-view+json": {
       "version_major": 2,
       "version_minor": 0,
       "model_id": "82a50fa51b30455eb228c67850b1bbe1"
      }
     },
     "metadata": {}
    },
    {
     "output_type": "display_data",
     "data": {
      "text/plain": [
       "New Data Upload               : |          |  0.00B /  0.00B            "
      ],
      "application/vnd.jupyter.widget-view+json": {
       "version_major": 2,
       "version_minor": 0,
       "model_id": "7cd57c4e89264cb8b512793566b7a892"
      }
     },
     "metadata": {}
    },
    {
     "output_type": "display_data",
     "data": {
      "text/plain": [
       "  ...ts/checkpoint_epoch90.pth:   0%|          |  554kB /  292MB            "
      ],
      "application/vnd.jupyter.widget-view+json": {
       "version_major": 2,
       "version_minor": 0,
       "model_id": "9d45736a91ec43eebae86f24d4b2aa99"
      }
     },
     "metadata": {}
    },
    {
     "output_type": "stream",
     "name": "stdout",
     "text": [
      "\u2713 Uploaded: checkpoint_epoch90.pth\n",
      "\u2713 Uploaded: metrics.json\n",
      "Best Test Accuracy so far: 69.53% | Patience: 3/15\n",
      "\n"
     ]
    },
    {
     "output_type": "stream",
     "name": "stderr",
     "text": [
      "Epoch 91 Loss=1.7821 Acc=66.47% LR=0.008658: 100%|\u2588\u2588\u2588\u2588\u2588\u2588\u2588\u2588\u2588\u2588| 196/196 [01:51<00:00,  1.75it/s]\n"
     ]
    },
    {
     "output_type": "stream",
     "name": "stdout",
     "text": [
      "\n",
      "Test set: Average loss: 1.4281, Accuracy: 6622/10000 (66.22%)\n",
      "\n",
      "Best Test Accuracy so far: 69.53% | Patience: 4/15\n",
      "\n"
     ]
    },
    {
     "output_type": "stream",
     "name": "stderr",
     "text": [
      "Epoch 92 Loss=1.6016 Acc=68.91% LR=0.009844: 100%|\u2588\u2588\u2588\u2588\u2588\u2588\u2588\u2588\u2588\u2588| 196/196 [01:52<00:00,  1.74it/s]\n"
     ]
    },
    {
     "output_type": "stream",
     "name": "stdout",
     "text": [
      "\n",
      "Test set: Average loss: 1.2864, Accuracy: 7019/10000 (70.19%)\n",
      "\n",
      "*** New best model! Test Accuracy: 70.19% ***\n"
     ]
    },
    {
     "output_type": "display_data",
     "data": {
      "text/plain": [
       "Processing Files (0 / 0)      : |          |  0.00B /  0.00B            "
      ],
      "application/vnd.jupyter.widget-view+json": {
       "version_major": 2,
       "version_minor": 0,
       "model_id": "0333e31fb40840e4bcdfaaaa41682081"
      }
     },
     "metadata": {}
    },
    {
     "output_type": "display_data",
     "data": {
      "text/plain": [
       "New Data Upload               : |          |  0.00B /  0.00B            "
      ],
      "application/vnd.jupyter.widget-view+json": {
       "version_major": 2,
       "version_minor": 0,
       "model_id": "4a058ae2ca18401dbbd8fbfa4ad6e23a"
      }
     },
     "metadata": {}
    },
    {
     "output_type": "display_data",
     "data": {
      "text/plain": [
       "  ./checkpoints/best_model.pth:   0%|          |  554kB /  292MB            "
      ],
      "application/vnd.jupyter.widget-view+json": {
       "version_major": 2,
       "version_minor": 0,
       "model_id": "030b5286f195407da743fbf5fb27bcdd"
      }
     },
     "metadata": {}
    },
    {
     "output_type": "stream",
     "name": "stdout",
     "text": [
      "\u2713 Uploaded: best_model.pth\n",
      "Best Test Accuracy so far: 70.19% | Patience: 0/15\n",
      "\n"
     ]
    },
    {
     "output_type": "stream",
     "name": "stderr",
     "text": [
      "Epoch 93 Loss=1.7314 Acc=65.85% LR=0.000256: 100%|\u2588\u2588\u2588\u2588\u2588\u2588\u2588\u2588\u2588\u2588| 196/196 [01:51<00:00,  1.76it/s]\n"
     ]
    },
    {
     "output_type": "stream",
     "name": "stdout",
     "text": [
      "\n",
      "Test set: Average loss: 1.2996, Accuracy: 7095/10000 (70.95%)\n",
      "\n",
      "*** New best model! Test Accuracy: 70.95% ***\n"
     ]
    },
    {
     "output_type": "display_data",
     "data": {
      "text/plain": [
       "Processing Files (0 / 0)      : |          |  0.00B /  0.00B            "
      ],
      "application/vnd.jupyter.widget-view+json": {
       "version_major": 2,
       "version_minor": 0,
       "model_id": "012f07c4023a4b5eb74a93b505c74663"
      }
     },
     "metadata": {}
    },
    {
     "output_type": "display_data",
     "data": {
      "text/plain": [
       "New Data Upload               : |          |  0.00B /  0.00B            "
      ],
      "application/vnd.jupyter.widget-view+json": {
       "version_major": 2,
       "version_minor": 0,
       "model_id": "34d1db89c29a478f955c7119ad2262f1"
      }
     },
     "metadata": {}
    },
    {
     "output_type": "display_data",
     "data": {
      "text/plain": [
       "  ./checkpoints/best_model.pth:   0%|          |  554kB /  292MB            "
      ],
      "application/vnd.jupyter.widget-view+json": {
       "version_major": 2,
       "version_minor": 0,
       "model_id": "a35ffef547ec4b3a924c03f0f4bc9d0b"
      }
     },
     "metadata": {}
    },
    {
     "output_type": "stream",
     "name": "stdout",
     "text": [
      "\u2713 Uploaded: best_model.pth\n",
      "Best Test Accuracy so far: 70.95% | Patience: 0/15\n",
      "\n"
     ]
    },
    {
     "output_type": "stream",
     "name": "stderr",
     "text": [
      "Epoch 94 Loss=2.4632 Acc=68.74% LR=0.001442: 100%|\u2588\u2588\u2588\u2588\u2588\u2588\u2588\u2588\u2588\u2588| 196/196 [01:51<00:00,  1.76it/s]\n"
     ]
    },
    {
     "output_type": "stream",
     "name": "stdout",
     "text": [
      "\n",
      "Test set: Average loss: 1.3377, Accuracy: 6908/10000 (69.08%)\n",
      "\n",
      "Best Test Accuracy so far: 70.95% | Patience: 1/15\n",
      "\n"
     ]
    },
    {
     "output_type": "stream",
     "name": "stderr",
     "text": [
      "Epoch 95 Loss=1.6684 Acc=70.40% LR=0.003520: 100%|\u2588\u2588\u2588\u2588\u2588\u2588\u2588\u2588\u2588\u2588| 196/196 [01:53<00:00,  1.73it/s]\n"
     ]
    },
    {
     "output_type": "stream",
     "name": "stdout",
     "text": [
      "\n",
      "Test set: Average loss: 1.3324, Accuracy: 6937/10000 (69.37%)\n",
      "\n",
      "Best Test Accuracy so far: 70.95% | Patience: 2/15\n",
      "\n"
     ]
    },
    {
     "output_type": "stream",
     "name": "stderr",
     "text": [
      "Epoch 96 Loss=1.9000 Acc=65.62% LR=0.005978: 100%|\u2588\u2588\u2588\u2588\u2588\u2588\u2588\u2588\u2588\u2588| 196/196 [01:53<00:00,  1.73it/s]\n"
     ]
    },
    {
     "output_type": "stream",
     "name": "stdout",
     "text": [
      "\n",
      "Test set: Average loss: 1.3347, Accuracy: 6927/10000 (69.27%)\n",
      "\n",
      "Best Test Accuracy so far: 70.95% | Patience: 3/15\n",
      "\n"
     ]
    },
    {
     "output_type": "stream",
     "name": "stderr",
     "text": [
      "Epoch 97 Loss=3.6192 Acc=67.46% LR=0.008205: 100%|\u2588\u2588\u2588\u2588\u2588\u2588\u2588\u2588\u2588\u2588| 196/196 [01:53<00:00,  1.72it/s]\n"
     ]
    },
    {
     "output_type": "stream",
     "name": "stdout",
     "text": [
      "\n",
      "Test set: Average loss: 1.3475, Accuracy: 6895/10000 (68.95%)\n",
      "\n",
      "Best Test Accuracy so far: 70.95% | Patience: 4/15\n",
      "\n"
     ]
    },
    {
     "output_type": "stream",
     "name": "stderr",
     "text": [
      "Epoch 98 Loss=2.8503 Acc=66.96% LR=0.009652: 100%|\u2588\u2588\u2588\u2588\u2588\u2588\u2588\u2588\u2588\u2588| 196/196 [01:53<00:00,  1.72it/s]\n"
     ]
    },
    {
     "output_type": "stream",
     "name": "stdout",
     "text": [
      "\n",
      "Test set: Average loss: 1.3592, Accuracy: 6892/10000 (68.92%)\n",
      "\n",
      "Best Test Accuracy so far: 70.95% | Patience: 5/15\n",
      "\n"
     ]
    },
    {
     "output_type": "stream",
     "name": "stderr",
     "text": [
      "Epoch 99 Loss=1.6424 Acc=68.14% LR=0.000139: 100%|\u2588\u2588\u2588\u2588\u2588\u2588\u2588\u2588\u2588\u2588| 196/196 [01:53<00:00,  1.72it/s]\n"
     ]
    },
    {
     "output_type": "stream",
     "name": "stdout",
     "text": [
      "\n",
      "Test set: Average loss: 1.2911, Accuracy: 7069/10000 (70.69%)\n",
      "\n",
      "Best Test Accuracy so far: 70.95% | Patience: 6/15\n",
      "\n"
     ]
    },
    {
     "output_type": "stream",
     "name": "stderr",
     "text": [
      "Epoch 100 Loss=2.0670 Acc=69.26% LR=0.001045: 100%|\u2588\u2588\u2588\u2588\u2588\u2588\u2588\u2588\u2588\u2588| 196/196 [01:53<00:00,  1.73it/s]\n"
     ]
    },
    {
     "output_type": "stream",
     "name": "stdout",
     "text": [
      "\n",
      "Test set: Average loss: 1.2912, Accuracy: 7120/10000 (71.20%)\n",
      "\n",
      "*** New best model! Test Accuracy: 71.20% ***\n"
     ]
    },
    {
     "output_type": "display_data",
     "data": {
      "text/plain": [
       "Processing Files (0 / 0)      : |          |  0.00B /  0.00B            "
      ],
      "application/vnd.jupyter.widget-view+json": {
       "version_major": 2,
       "version_minor": 0,
       "model_id": "fb8ec22905e24631acc8faeea851e802"
      }
     },
     "metadata": {}
    },
    {
     "output_type": "display_data",
     "data": {
      "text/plain": [
       "New Data Upload               : |          |  0.00B /  0.00B            "
      ],
      "application/vnd.jupyter.widget-view+json": {
       "version_major": 2,
       "version_minor": 0,
       "model_id": "a4df749e282e4f4eb4e7350b90fa3a00"
      }
     },
     "metadata": {}
    },
    {
     "output_type": "display_data",
     "data": {
      "text/plain": [
       "  ./checkpoints/best_model.pth:   0%|          |  555kB /  292MB            "
      ],
      "application/vnd.jupyter.widget-view+json": {
       "version_major": 2,
       "version_minor": 0,
       "model_id": "a03ffb35b2714d2aa356d57f6fb9ab49"
      }
     },
     "metadata": {}
    },
    {
     "output_type": "stream",
     "name": "stdout",
     "text": [
      "\u2713 Uploaded: best_model.pth\n",
      "\u2713 Uploaded: metrics.json\n",
      "Best Test Accuracy so far: 71.20% | Patience: 0/15\n",
      "\n",
      "\n",
      "\ud83d\udce6 Saving final model...\n"
     ]
    },
    {
     "output_type": "display_data",
     "data": {
      "text/plain": [
       "Processing Files (0 / 0)      : |          |  0.00B /  0.00B            "
      ],
      "application/vnd.jupyter.widget-view+json": {
       "version_major": 2,
       "version_minor": 0,
       "model_id": "2022019a561b458eb95c68878060ac03"
      }
     },
     "metadata": {}
    },
    {
     "output_type": "display_data",
     "data": {
      "text/plain": [
       "New Data Upload               : |          |  0.00B /  0.00B            "
      ],
      "application/vnd.jupyter.widget-view+json": {
       "version_major": 2,
       "version_minor": 0,
       "model_id": "413318238a1a44e4860a307381eaa799"
      }
     },
     "metadata": {}
    },
    {
     "output_type": "display_data",
     "data": {
      "text/plain": [
       "  ...eckpoints/final_model.pth:   8%|8         | 23.8MB /  292MB            "
      ],
      "application/vnd.jupyter.widget-view+json": {
       "version_major": 2,
       "version_minor": 0,
       "model_id": "e2426cd86efa42b9b46942a18269b5e0"
      }
     },
     "metadata": {}
    },
    {
     "output_type": "stream",
     "name": "stdout",
     "text": [
      "\u2713 Uploaded: final_model.pth\n",
      "\n",
      "Training completed. Best test accuracy: 71.20%\n"
     ]
    }
   ],
   "source": [
    "# Training Loop with HuggingFace Checkpoint Uploads\n",
    "print(\"\\nStarting training...\\n\")\n",
    "\n",
    "for epoch in range(1, EPOCHS + 1):\n",
    "    # Train\n",
    "    train_loss, train_acc = train(\n",
    "        model, device, train_loader, optimizer, scheduler, warmup_scheduler, scaler, epoch,\n",
    "        use_mixup=True, mixup_alpha=0.2, label_smoothing=0.1\n",
    "    )\n",
    "\n",
    "    # Test\n",
    "    test_loss, test_acc = test(model, device, test_loader)\n",
    "\n",
    "    # Record metrics\n",
    "    train_losses.append(train_loss)\n",
    "    test_losses.append(test_loss)\n",
    "    train_accuracies.append(train_acc)\n",
    "    test_accuracies.append(test_acc)\n",
    "    learning_rates.append(optimizer.param_groups[0]['lr'])\n",
    "\n",
    "    # Save best model\n",
    "    if test_acc > best_test_acc:\n",
    "        best_test_acc = test_acc\n",
    "        patience_counter = 0\n",
    "\n",
    "        # Save and upload best model\n",
    "        print(f\"*** New best model! Test Accuracy: {best_test_acc:.2f}% ***\")\n",
    "        save_and_upload_checkpoint(\n",
    "            model, optimizer, epoch, train_acc, test_acc, train_loss, test_loss,\n",
    "            checkpoint_dir, 'best_model.pth', is_best=True\n",
    "        )\n",
    "    else:\n",
    "        patience_counter += 1\n",
    "\n",
    "    # Upload checkpoint at breakpoints\n",
    "    if epoch in CHECKPOINT_EPOCHS:\n",
    "        checkpoint_name = f'checkpoint_epoch{epoch}.pth'\n",
    "        print(f\"\ud83d\udccd Breakpoint checkpoint at epoch {epoch}\")\n",
    "        save_and_upload_checkpoint(\n",
    "            model, optimizer, epoch, train_acc, test_acc, train_loss, test_loss,\n",
    "            checkpoint_dir, checkpoint_name\n",
    "        )\n",
    "\n",
    "    # Save metrics periodically\n",
    "    if epoch % 10 == 0 or epoch in CHECKPOINT_EPOCHS:\n",
    "        metrics = {\n",
    "            'epochs': list(range(1, epoch + 1)),\n",
    "            'train_losses': train_losses,\n",
    "            'test_losses': test_losses,\n",
    "            'train_accuracies': train_accuracies,\n",
    "            'test_accuracies': test_accuracies,\n",
    "            'learning_rates': learning_rates,\n",
    "            'best_test_accuracy': best_test_acc\n",
    "        }\n",
    "        metrics_path = os.path.join(checkpoint_dir, 'metrics.json')\n",
    "        with open(metrics_path, 'w') as f:\n",
    "            json.dump(metrics, f, indent=2)\n",
    "\n",
    "        upload_to_huggingface(metrics_path, 'metrics.json', commit_message=f\"Update metrics (epoch {epoch})\")\n",
    "\n",
    "    # Early stopping\n",
    "    if patience_counter >= patience:\n",
    "        print(f\"\\nEarly stopping triggered at epoch {epoch}. No improvement for {patience} epochs.\")\n",
    "        break\n",
    "\n",
    "    # Check if target reached\n",
    "    if test_acc >= 74.0:\n",
    "        print(f\"\\n{'=' * 70}\")\n",
    "        print(f\"Target accuracy of 74% reached at epoch {epoch}!\")\n",
    "        print(f\"Final test accuracy: {test_acc:.2f}%\")\n",
    "        print(f\"{'=' * 70}\")\n",
    "        break\n",
    "\n",
    "    print(f\"Best Test Accuracy so far: {best_test_acc:.2f}% | Patience: {patience_counter}/{patience}\\n\")\n",
    "\n",
    "# Save final model\n",
    "print(\"\\n\ud83d\udce6 Saving final model...\")\n",
    "save_and_upload_checkpoint(\n",
    "    model, optimizer, epoch, train_acc, test_acc, train_loss, test_loss,\n",
    "    checkpoint_dir, 'final_model.pth'\n",
    ")\n",
    "\n",
    "print(f\"\\nTraining completed. Best test accuracy: {best_test_acc:.2f}%\")"
   ]
  },
  {
   "cell_type": "code",
   "execution_count": 13,
   "metadata": {
    "id": "j-6telKnI8mc",
    "colab": {
     "base_uri": "https://localhost:8080/",
     "height": 1000,
     "referenced_widgets": [
      "72a8a4ac8f254e94b00cb596c71a3240",
      "e90fa9565d9d468d8c61ceeadd733c98",
      "3df7c5383a044580bb527785661271b8",
      "71e899acfac34eaaa3a85be2ee6a53a7",
      "f9a542104bcc49caa8137527f1e646f5",
      "c1abd4084cc0428392e57bd3f77ae7d2",
      "0549fb16658446eb839b3dfa7590d6b4",
      "9ced9c6c36e642a9bee72224621e343b",
      "a8b40e91b7bd4785953bfb5d714a0019",
      "457072e4c36b43a09b33086a105f33ff",
      "aa7bb7a4edfe442eafe66aa611ad043c",
      "652818ea1b3f450fa5f811e3374a971e",
      "8c26472499f147408b1e1469082b078a",
      "8bda8eff1e08466ba1751ab63417b5c1",
      "0688325d01184c5aab1dd8a420f93d79",
      "f0942ed46913429f9d2a28e7e87f2029",
      "f022d717fddf4686b02d8c7569264386",
      "24336c003175438cba1553a61903ebd1",
      "40d8667dc6d74303833b7d31053dc720",
      "4b72473bc6604541acbf7953fc86153c",
      "64dbf24768a34fbd8266ef8ee975f172",
      "0c974d558404453d87b0132acaf3233e",
      "0b55ede18062442bae7ccc42544d79fd",
      "74e17717a8f14bc7810f91ba727407d1",
      "206c96d6218849edbdb512ec892ca404",
      "a4a46a6974684e23b226894b21004b66",
      "1a50910264cf454bbeaf151a52f3220d",
      "6fef6df4d52e4aa59075d33ecd06f0d6",
      "88b86e4d82534fc89802b718e3af49c5",
      "ca087e87bb0148349235d6852eaef3d8",
      "418fc0f2fcd9421595b0a474f9145fb3",
      "4c7830672ff24d0681dd7a96f0544efc",
      "9610bdb15e034e9da0a66e665af1c36c"
     ]
    },
    "outputId": "8e95feb9-ae18-44a3-a580-083d47223b8e"
   },
   "outputs": [
    {
     "output_type": "display_data",
     "data": {
      "text/plain": [
       "<Figure size 1500x1000 with 4 Axes>"
      ],
      "image/png": "[encoded data removed]"
     },
     "metadata": {}
    },
    {
     "output_type": "display_data",
     "data": {
      "text/plain": [
       "Processing Files (0 / 0)      : |          |  0.00B /  0.00B            "
      ],
      "application/vnd.jupyter.widget-view+json": {
       "version_major": 2,
       "version_minor": 0,
       "model_id": "72a8a4ac8f254e94b00cb596c71a3240"
      }
     },
     "metadata": {}
    },
    {
     "output_type": "display_data",
     "data": {
      "text/plain": [
       "New Data Upload               : |          |  0.00B /  0.00B            "
      ],
      "application/vnd.jupyter.widget-view+json": {
       "version_major": 2,
       "version_minor": 0,
       "model_id": "652818ea1b3f450fa5f811e3374a971e"
      }
     },
     "metadata": {}
    },
    {
     "output_type": "display_data",
     "data": {
      "text/plain": [
       "  ...oints/training_curves.png:  87%|########6 |  551kB /  635kB            "
      ],
      "application/vnd.jupyter.widget-view+json": {
       "version_major": 2,
       "version_minor": 0,
       "model_id": "0b55ede18062442bae7ccc42544d79fd"
      }
     },
     "metadata": {}
    },
    {
     "output_type": "stream",
     "name": "stdout",
     "text": [
      "\u2713 Uploaded: training_curves.png\n",
      "\n",
      "Final Statistics:\n",
      "Best Test Accuracy: 71.20%\n",
      "Final Train Accuracy: 69.26%\n",
      "Final Test Accuracy: 71.20%\n",
      "Final Train-Test Gap: -1.94%\n"
     ]
    }
   ],
   "source": [
    "# Plot training curves\n",
    "fig, axes = plt.subplots(2, 2, figsize=(15, 10))\n",
    "\n",
    "# Loss curves\n",
    "axes[0, 0].plot(train_losses, label='Train Loss', linewidth=2)\n",
    "axes[0, 0].plot(test_losses, label='Test Loss', linewidth=2)\n",
    "axes[0, 0].set_xlabel('Epoch')\n",
    "axes[0, 0].set_ylabel('Loss')\n",
    "axes[0, 0].set_title('Training and Test Loss')\n",
    "axes[0, 0].legend()\n",
    "axes[0, 0].grid(True)\n",
    "\n",
    "# Accuracy curves\n",
    "axes[0, 1].plot(train_accuracies, label='Train Accuracy', linewidth=2)\n",
    "axes[0, 1].plot(test_accuracies, label='Test Accuracy', linewidth=2)\n",
    "axes[0, 1].axhline(y=74, color='r', linestyle='--', label='Target (74%)')\n",
    "axes[0, 1].set_xlabel('Epoch')\n",
    "axes[0, 1].set_ylabel('Accuracy (%)')\n",
    "axes[0, 1].set_title('Training and Test Accuracy')\n",
    "axes[0, 1].legend()\n",
    "axes[0, 1].grid(True)\n",
    "\n",
    "# Learning rate\n",
    "axes[1, 0].plot(learning_rates, linewidth=2, color='green')\n",
    "axes[1, 0].set_xlabel('Epoch')\n",
    "axes[1, 0].set_ylabel('Learning Rate')\n",
    "axes[1, 0].set_title('Learning Rate Schedule')\n",
    "axes[1, 0].grid(True)\n",
    "\n",
    "# Gap between train and test accuracy (overfitting indicator)\n",
    "accuracy_gap = [train - test for train, test in zip(train_accuracies, test_accuracies)]\n",
    "axes[1, 1].plot(accuracy_gap, linewidth=2, color='orange')\n",
    "axes[1, 1].set_xlabel('Epoch')\n",
    "axes[1, 1].set_ylabel('Accuracy Gap (%)')\n",
    "axes[1, 1].set_title('Train-Test Accuracy Gap (Overfitting Indicator)')\n",
    "axes[1, 1].grid(True)\n",
    "\n",
    "plt.tight_layout()\n",
    "curves_path = os.path.join(checkpoint_dir, 'training_curves.png')\n",
    "plt.savefig(curves_path, dpi=300, bbox_inches='tight')\n",
    "plt.show()\n",
    "\n",
    "# Upload training curves\n",
    "upload_to_huggingface(curves_path, 'training_curves.png', commit_message=\"Upload training curves\")\n",
    "\n",
    "print(f\"\\nFinal Statistics:\")\n",
    "print(f\"Best Test Accuracy: {best_test_acc:.2f}%\")\n",
    "print(f\"Final Train Accuracy: {train_accuracies[-1]:.2f}%\")\n",
    "print(f\"Final Test Accuracy: {test_accuracies[-1]:.2f}%\")\n",
    "print(f\"Final Train-Test Gap: {accuracy_gap[-1]:.2f}%\")"
   ]
  },
  {
   "cell_type": "code",
   "execution_count": 14,
   "metadata": {
    "id": "ayzsADXlI8md",
    "colab": {
     "base_uri": "https://localhost:8080/"
    },
    "outputId": "1b87ac91-2560-45e9-c66b-7ae47c1d79ab"
   },
   "outputs": [
    {
     "output_type": "stream",
     "name": "stdout",
     "text": [
      "\u2713 Uploaded: README.md\n",
      "\u2713 Model card created and uploaded\n",
      "\u2713 Uploaded: config.json\n",
      "\n",
      "======================================================================\n",
      "All files uploaded to: https://huggingface.co/pandurangpatil/cifar100-wideresnet-session8\n",
      "======================================================================\n"
     ]
    }
   ],
   "source": [
    "# Create and upload model card\n",
    "create_and_upload_model_card(\n",
    "    best_test_acc,\n",
    "    len(train_accuracies),\n",
    "    train_accuracies,\n",
    "    test_accuracies,\n",
    "    checkpoint_dir\n",
    ")\n",
    "\n",
    "# Save final config\n",
    "config = {\n",
    "    'model': 'WideResNet-28-10',\n",
    "    'depth': 28,\n",
    "    'widen_factor': 10,\n",
    "    'dropout': 0.3,\n",
    "    'num_classes': 100,\n",
    "    'batch_size': BATCH_SIZE,\n",
    "    'epochs': len(train_accuracies),\n",
    "    'optimizer': 'SGD',\n",
    "    'momentum': 0.9,\n",
    "    'weight_decay': 1e-3,\n",
    "    'initial_lr': INITIAL_LR,\n",
    "    'max_lr': MAX_LR,\n",
    "    'min_lr': MIN_LR,\n",
    "    'scheduler': 'CosineAnnealingWarmRestarts',\n",
    "    'T_0': 25,\n",
    "    'warmup_epochs': WARMUP_EPOCHS,\n",
    "    'mixup_alpha': 0.2,\n",
    "    'label_smoothing': 0.1,\n",
    "    'gradient_clipping': 1.0,\n",
    "    'mixed_precision': True,\n",
    "    'best_test_accuracy': best_test_acc,\n",
    "    'final_train_accuracy': train_accuracies[-1],\n",
    "    'final_test_accuracy': test_accuracies[-1]\n",
    "}\n",
    "\n",
    "config_path = os.path.join(checkpoint_dir, 'config.json')\n",
    "with open(config_path, 'w') as f:\n",
    "    json.dump(config, f, indent=2)\n",
    "\n",
    "upload_to_huggingface(config_path, 'config.json', commit_message=\"Upload training configuration\")\n",
    "\n",
    "print(f\"\\n{'=' * 70}\")\n",
    "print(f\"All files uploaded to: https://huggingface.co/{REPO_ID}\")\n",
    "print(f\"{'=' * 70}\")"
   ]
  },
  {
   "cell_type": "code",
   "execution_count": 15,
   "metadata": {
    "id": "l5m1TZJZI8md",
    "colab": {
     "base_uri": "https://localhost:8080/"
    },
    "outputId": "f4852cc5-597c-47d8-f3b3-ba9ec19a62bc"
   },
   "outputs": [
    {
     "output_type": "stream",
     "name": "stdout",
     "text": [
      "Loaded best model from epoch 100 with test accuracy: 71.20%\n",
      "\n",
      "Test set: Average loss: 1.2912, Accuracy: 7120/10000 (71.20%)\n",
      "\n",
      "\n",
      "Final Test Accuracy: 71.20%\n"
     ]
    }
   ],
   "source": [
    "# Load best model and evaluate\n",
    "checkpoint = torch.load(os.path.join(checkpoint_dir, 'best_model.pth'))\n",
    "model.load_state_dict(checkpoint['model_state_dict'])\n",
    "print(f\"Loaded best model from epoch {checkpoint['epoch']} with test accuracy: {checkpoint['test_accuracy']:.2f}%\")\n",
    "\n",
    "# Final evaluation\n",
    "test_loss, test_acc = test(model, device, test_loader)\n",
    "print(f\"\\nFinal Test Accuracy: {test_acc:.2f}%\")"
   ]
  },
  {
   "cell_type": "code",
   "execution_count": 16,
   "metadata": {
    "id": "YCJDxxIOI8md"
   },
   "outputs": [],
   "source": [
    "# Optional: Download and resume from checkpoint\n",
    "# Uncomment to use\n",
    "\n",
    "# from huggingface_hub import hf_hub_download\n",
    "\n",
    "# # Download a specific checkpoint\n",
    "# checkpoint_path = hf_hub_download(\n",
    "#     repo_id=REPO_ID,\n",
    "#     filename=\"checkpoint_epoch50.pth\",\n",
    "#     token=HF_TOKEN\n",
    "# )\n",
    "\n",
    "# # Load checkpoint\n",
    "# checkpoint = torch.load(checkpoint_path, map_location=device)\n",
    "# model.load_state_dict(checkpoint['model_state_dict'])\n",
    "# optimizer.load_state_dict(checkpoint['optimizer_state_dict'])\n",
    "\n",
    "# print(f\"Resumed from epoch {checkpoint['epoch']} with test accuracy {checkpoint['test_accuracy']:.2f}%\")"
   ]
  }
 ],
 "metadata": {
  "kernelspec": {
   "display_name": "Python 3",
   "name": "python3"
  },
  "language_info": {
   "codemirror_mode": {
    "name": "ipython",
    "version": 3
   },
   "file_extension": ".py",
   "mimetype": "text/x-python",
   "name": "python",
   "nbconvert_exporter": "python",
   "pygments_lexer": "ipython3",
   "version": "3.8.10"
  },
  "colab": {
   "provenance": [],
   "gpuType": "T4"
  },
  "accelerator": "GPU"
 },
 "nbformat": 4,
 "nbformat_minor": 0
}