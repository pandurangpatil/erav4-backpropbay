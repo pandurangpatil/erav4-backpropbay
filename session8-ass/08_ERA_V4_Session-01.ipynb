{
  "cells": [
    {
      "cell_type": "markdown",
      "metadata": {
        "id": "zRrf4KmOzpN2"
      },
      "source": [
        "# CIFAR-100 Training - Optimized for 74% Accuracy\n",
        "\n",
        "## Key Improvements:\n",
        "- Fixed data augmentation (proper Cutout implementation)\n",
        "- Cosine annealing scheduler with warmup\n",
        "- Optimized hyperparameters (batch size 256, MixUp alpha 0.2)\n",
        "- Label smoothing (0.1)\n",
        "- Gradient clipping\n",
        "- Mixed precision training\n",
        "- Model checkpointing and early stopping\n",
        "- WideResNet-28-10 (36.5M parameters)"
      ]
    },
    {
      "cell_type": "code",
      "execution_count": 1,
      "metadata": {
        "colab": {
          "base_uri": "https://localhost:8080/"
        },
        "id": "-1vL6xQrzpN2",
        "outputId": "05b2cfea-b488-489d-84d6-ba2211b3e8ed"
      },
      "outputs": [
        {
          "output_type": "stream",
          "name": "stdout",
          "text": [
            "Device: cuda\n"
          ]
        }
      ],
      "source": [
        "# Import Libraries\n",
        "import torch\n",
        "import numpy as np\n",
        "from torchvision import datasets, transforms\n",
        "from torch.utils.data import DataLoader\n",
        "import albumentations as A\n",
        "from albumentations.pytorch import ToTensorV2\n",
        "from PIL import Image\n",
        "import torch.optim as optim\n",
        "from torch.optim.lr_scheduler import CosineAnnealingWarmRestarts\n",
        "from tqdm import tqdm\n",
        "import torch.nn.functional as F\n",
        "import torch.nn as nn\n",
        "from torchsummary import summary\n",
        "from torch.cuda.amp import autocast, GradScaler\n",
        "import matplotlib.pyplot as plt\n",
        "import os\n",
        "\n",
        "# CIFAR-100 Mean and Std\n",
        "cifar100_mean = (0.5071, 0.4865, 0.4409)\n",
        "cifar100_std = (0.2673, 0.2564, 0.2761)\n",
        "\n",
        "# Use GPU if available\n",
        "device = torch.device(\"cuda\" if torch.cuda.is_available() else \"cpu\")\n",
        "print(\"Device:\", device)"
      ]
    },
    {
      "cell_type": "code",
      "execution_count": 2,
      "metadata": {
        "colab": {
          "base_uri": "https://localhost:8080/"
        },
        "id": "UfJ4IGAJzpN2",
        "outputId": "cd4623d8-7c6f-4f15-ac1a-4e43b33f4531"
      },
      "outputs": [
        {
          "output_type": "stream",
          "name": "stderr",
          "text": [
            "/usr/local/lib/python3.12/dist-packages/albumentations/core/validation.py:114: UserWarning: ShiftScaleRotate is a special case of Affine transform. Please use Affine transform instead.\n",
            "  original_init(self, **validated_kwargs)\n",
            "/tmp/ipython-input-1751441270.py:7: UserWarning: Argument(s) 'height, width' are not valid for transform RandomResizedCrop\n",
            "  A.RandomResizedCrop(height=32, width=32, scale=(0.8, 1.0), ratio=(0.9, 1.1), p=0.5, size=(32, 32)),\n",
            "/tmp/ipython-input-1751441270.py:8: UserWarning: Argument(s) 'max_holes, max_height, max_width' are not valid for transform CoarseDropout\n",
            "  A.CoarseDropout(max_holes=1, max_height=8, max_width=8, p=0.5),  # Cutout\n",
            "100%|██████████| 169M/169M [00:14<00:00, 11.9MB/s]\n",
            "/usr/local/lib/python3.12/dist-packages/torch/utils/data/dataloader.py:627: UserWarning: This DataLoader will create 4 worker processes in total. Our suggested max number of worker in current system is 2, which is smaller than what this DataLoader is going to create. Please be aware that excessive worker creation might get DataLoader running slow or even freeze, lower the worker number to avoid potential slowness/freeze if necessary.\n",
            "  warnings.warn(\n"
          ]
        },
        {
          "output_type": "stream",
          "name": "stdout",
          "text": [
            "Training batches: 196, Test batches: 40\n"
          ]
        }
      ],
      "source": [
        "# Improved Data Augmentation\n",
        "class ImprovedAlbumentationsTransforms:\n",
        "    def __init__(self, mean, std):\n",
        "        self.aug = A.Compose([\n",
        "            A.HorizontalFlip(p=0.5),\n",
        "            A.ShiftScaleRotate(shift_limit=0.0625, scale_limit=0.1, rotate_limit=15, p=0.5),\n",
        "            A.RandomResizedCrop(height=32, width=32, scale=(0.8, 1.0), ratio=(0.9, 1.1), p=0.5, size=(32, 32)),\n",
        "            A.CoarseDropout(max_holes=1, max_height=8, max_width=8, p=0.5),  # Cutout\n",
        "            A.RandomBrightnessContrast(brightness_limit=0.2, contrast_limit=0.2, p=0.3),\n",
        "            A.HueSaturationValue(hue_shift_limit=10, sat_shift_limit=20, val_shift_limit=10, p=0.3),\n",
        "            A.Normalize(mean=mean, std=std),\n",
        "            ToTensorV2()\n",
        "        ])\n",
        "\n",
        "    def __call__(self, img):\n",
        "        image = np.array(img)\n",
        "        return self.aug(image=image)[\"image\"]\n",
        "\n",
        "# Instantiate transforms\n",
        "train_transforms = ImprovedAlbumentationsTransforms(mean=cifar100_mean, std=cifar100_std)\n",
        "\n",
        "test_transforms = transforms.Compose([\n",
        "    transforms.ToTensor(),\n",
        "    transforms.Normalize(mean=cifar100_mean, std=cifar100_std)\n",
        "])\n",
        "\n",
        "# CIFAR-100 Dataset with increased batch size\n",
        "train_dataset = datasets.CIFAR100(root='./data', train=True, download=True, transform=train_transforms)\n",
        "test_dataset = datasets.CIFAR100(root='./data', train=False, download=True, transform=test_transforms)\n",
        "\n",
        "# DataLoaders with batch size 256\n",
        "BATCH_SIZE = 256\n",
        "train_loader = DataLoader(train_dataset, batch_size=BATCH_SIZE, shuffle=True, num_workers=4, pin_memory=True)\n",
        "test_loader = DataLoader(test_dataset, batch_size=BATCH_SIZE, shuffle=False, num_workers=4, pin_memory=True)\n",
        "\n",
        "cifar100_classes = datasets.CIFAR100(root='./data', train=False).classes\n",
        "print(f\"Training batches: {len(train_loader)}, Test batches: {len(test_loader)}\")"
      ]
    },
    {
      "cell_type": "code",
      "execution_count": 3,
      "metadata": {
        "colab": {
          "base_uri": "https://localhost:8080/",
          "height": 656
        },
        "id": "x8qTq_qtzpN2",
        "outputId": "7beddde0-a11b-4c0c-ee6c-16a24e22caaa"
      },
      "outputs": [
        {
          "output_type": "display_data",
          "data": {
            "text/plain": [
              "<Figure size 1200x800 with 12 Axes>"
            ],
            "image/png": "[encoded data removed]"
          },
          "metadata": {}
        }
      ],
      "source": [
        "# Visualize augmented samples\n",
        "import matplotlib.pyplot as plt\n",
        "import numpy as np\n",
        "\n",
        "batch_data, batch_label = next(iter(train_loader))\n",
        "batch_data = batch_data.cpu().detach()\n",
        "\n",
        "fig = plt.figure(figsize=(12, 8))\n",
        "for i in range(12):\n",
        "    img = batch_data[i].numpy().transpose((1, 2, 0))\n",
        "    # Denormalize\n",
        "    img = img * np.array(cifar100_std) + np.array(cifar100_mean)\n",
        "    img = np.clip(img, 0, 1)\n",
        "\n",
        "    plt.subplot(3, 4, i + 1)\n",
        "    plt.imshow(img)\n",
        "    plt.title(f\"Class: {cifar100_classes[batch_label[i]]}\")\n",
        "    plt.axis('off')\n",
        "\n",
        "plt.tight_layout()\n",
        "plt.show()"
      ]
    },
    {
      "cell_type": "code",
      "execution_count": 4,
      "metadata": {
        "id": "8TFLgbp5zpN3"
      },
      "outputs": [],
      "source": [
        "# WideResNet Architecture\n",
        "class BasicBlock(nn.Module):\n",
        "    def __init__(self, in_planes, out_planes, stride, dropRate=0.0):\n",
        "        super(BasicBlock, self).__init__()\n",
        "        self.equalInOut = in_planes == out_planes\n",
        "        self.conv1 = nn.Conv2d(in_planes, out_planes, kernel_size=3, stride=stride,\n",
        "                               padding=1, bias=False)\n",
        "        self.bn1 = nn.BatchNorm2d(in_planes)\n",
        "        self.relu1 = nn.ReLU(inplace=True)\n",
        "        self.conv2 = nn.Conv2d(out_planes, out_planes, kernel_size=3, stride=1,\n",
        "                               padding=1, bias=False)\n",
        "        self.bn2 = nn.BatchNorm2d(out_planes)\n",
        "        self.relu2 = nn.ReLU(inplace=True)\n",
        "        self.dropRate = dropRate\n",
        "        self.shortcut = (not self.equalInOut) and nn.Conv2d(in_planes, out_planes, 1, stride=stride, bias=False) or None\n",
        "\n",
        "    def forward(self, x):\n",
        "        if not self.equalInOut:\n",
        "            x = self.relu1(self.bn1(x))\n",
        "        else:\n",
        "            out = self.relu1(self.bn1(x))\n",
        "        out = self.conv1(out if self.equalInOut else x)\n",
        "        out = self.relu2(self.bn2(out))\n",
        "        if self.dropRate > 0:\n",
        "            out = F.dropout(out, p=self.dropRate, training=self.training)\n",
        "        out = self.conv2(out)\n",
        "        return out + (x if self.equalInOut else self.shortcut(x))\n",
        "\n",
        "\n",
        "class NetworkBlock(nn.Module):\n",
        "    def __init__(self, nb_layers, in_planes, out_planes, block, stride, dropRate=0.0):\n",
        "        super(NetworkBlock, self).__init__()\n",
        "        self.layer = self._make_layer(block, in_planes, out_planes, nb_layers, stride, dropRate)\n",
        "\n",
        "    def _make_layer(self, block, in_planes, out_planes, nb_layers, stride, dropRate):\n",
        "        layers = []\n",
        "        for i in range(nb_layers):\n",
        "            layers.append(block(i == 0 and in_planes or out_planes, out_planes,\n",
        "                                i == 0 and stride or 1, dropRate))\n",
        "        return nn.Sequential(*layers)\n",
        "\n",
        "    def forward(self, x):\n",
        "        return self.layer(x)\n",
        "\n",
        "\n",
        "class WideResNet(nn.Module):\n",
        "    def __init__(self, depth=28, num_classes=100, widen_factor=10, dropRate=0.3):\n",
        "        super(WideResNet, self).__init__()\n",
        "        nChannels = [16, 16*widen_factor, 32*widen_factor, 64*widen_factor]\n",
        "        assert ((depth - 4) % 6 == 0)\n",
        "        n = (depth - 4) // 6\n",
        "        block = BasicBlock\n",
        "        self.conv1 = nn.Conv2d(3, nChannels[0], kernel_size=3, stride=1,\n",
        "                               padding=1, bias=False)\n",
        "        self.block1 = NetworkBlock(n, nChannels[0], nChannels[1], block, 1, dropRate)\n",
        "        self.block2 = NetworkBlock(n, nChannels[1], nChannels[2], block, 2, dropRate)\n",
        "        self.block3 = NetworkBlock(n, nChannels[2], nChannels[3], block, 2, dropRate)\n",
        "        self.bn1 = nn.BatchNorm2d(nChannels[3])\n",
        "        self.relu = nn.ReLU(inplace=True)\n",
        "        self.fc = nn.Linear(nChannels[3], num_classes)\n",
        "        self.nChannels = nChannels[3]\n",
        "\n",
        "        for m in self.modules():\n",
        "            if isinstance(m, nn.Conv2d):\n",
        "                nn.init.kaiming_normal_(m.weight, mode='fan_out')\n",
        "            elif isinstance(m, nn.BatchNorm2d):\n",
        "                nn.init.constant_(m.weight, 1)\n",
        "                nn.init.constant_(m.bias, 0)\n",
        "            elif isinstance(m, nn.Linear):\n",
        "                nn.init.xavier_uniform_(m.weight)\n",
        "                nn.init.constant_(m.bias, 0)\n",
        "\n",
        "    def forward(self, x):\n",
        "        out = self.conv1(x)\n",
        "        out = self.block1(out)\n",
        "        out = self.block2(out)\n",
        "        out = self.block3(out)\n",
        "        out = self.relu(self.bn1(out))\n",
        "        out = F.adaptive_avg_pool2d(out, 1)\n",
        "        out = out.view(-1, self.nChannels)\n",
        "        return self.fc(out)"
      ]
    },
    {
      "cell_type": "code",
      "execution_count": 5,
      "metadata": {
        "colab": {
          "base_uri": "https://localhost:8080/"
        },
        "id": "kCowuIKFzpN3",
        "outputId": "49504868-abd0-4708-fe4d-328614bc3a6e"
      },
      "outputs": [
        {
          "output_type": "stream",
          "name": "stdout",
          "text": [
            "----------------------------------------------------------------\n",
            "        Layer (type)               Output Shape         Param #\n",
            "================================================================\n",
            "            Conv2d-1           [-1, 16, 32, 32]             432\n",
            "       BatchNorm2d-2           [-1, 16, 32, 32]              32\n",
            "              ReLU-3           [-1, 16, 32, 32]               0\n",
            "            Conv2d-4          [-1, 160, 32, 32]          23,040\n",
            "       BatchNorm2d-5          [-1, 160, 32, 32]             320\n",
            "              ReLU-6          [-1, 160, 32, 32]               0\n",
            "            Conv2d-7          [-1, 160, 32, 32]         230,400\n",
            "            Conv2d-8          [-1, 160, 32, 32]           2,560\n",
            "        BasicBlock-9          [-1, 160, 32, 32]               0\n",
            "      BatchNorm2d-10          [-1, 160, 32, 32]             320\n",
            "             ReLU-11          [-1, 160, 32, 32]               0\n",
            "           Conv2d-12          [-1, 160, 32, 32]         230,400\n",
            "      BatchNorm2d-13          [-1, 160, 32, 32]             320\n",
            "             ReLU-14          [-1, 160, 32, 32]               0\n",
            "           Conv2d-15          [-1, 160, 32, 32]         230,400\n",
            "       BasicBlock-16          [-1, 160, 32, 32]               0\n",
            "      BatchNorm2d-17          [-1, 160, 32, 32]             320\n",
            "             ReLU-18          [-1, 160, 32, 32]               0\n",
            "           Conv2d-19          [-1, 160, 32, 32]         230,400\n",
            "      BatchNorm2d-20          [-1, 160, 32, 32]             320\n",
            "             ReLU-21          [-1, 160, 32, 32]               0\n",
            "           Conv2d-22          [-1, 160, 32, 32]         230,400\n",
            "       BasicBlock-23          [-1, 160, 32, 32]               0\n",
            "      BatchNorm2d-24          [-1, 160, 32, 32]             320\n",
            "             ReLU-25          [-1, 160, 32, 32]               0\n",
            "           Conv2d-26          [-1, 160, 32, 32]         230,400\n",
            "      BatchNorm2d-27          [-1, 160, 32, 32]             320\n",
            "             ReLU-28          [-1, 160, 32, 32]               0\n",
            "           Conv2d-29          [-1, 160, 32, 32]         230,400\n",
            "       BasicBlock-30          [-1, 160, 32, 32]               0\n",
            "     NetworkBlock-31          [-1, 160, 32, 32]               0\n",
            "      BatchNorm2d-32          [-1, 160, 32, 32]             320\n",
            "             ReLU-33          [-1, 160, 32, 32]               0\n",
            "           Conv2d-34          [-1, 320, 16, 16]         460,800\n",
            "      BatchNorm2d-35          [-1, 320, 16, 16]             640\n",
            "             ReLU-36          [-1, 320, 16, 16]               0\n",
            "           Conv2d-37          [-1, 320, 16, 16]         921,600\n",
            "           Conv2d-38          [-1, 320, 16, 16]          51,200\n",
            "       BasicBlock-39          [-1, 320, 16, 16]               0\n",
            "      BatchNorm2d-40          [-1, 320, 16, 16]             640\n",
            "             ReLU-41          [-1, 320, 16, 16]               0\n",
            "           Conv2d-42          [-1, 320, 16, 16]         921,600\n",
            "      BatchNorm2d-43          [-1, 320, 16, 16]             640\n",
            "             ReLU-44          [-1, 320, 16, 16]               0\n",
            "           Conv2d-45          [-1, 320, 16, 16]         921,600\n",
            "       BasicBlock-46          [-1, 320, 16, 16]               0\n",
            "      BatchNorm2d-47          [-1, 320, 16, 16]             640\n",
            "             ReLU-48          [-1, 320, 16, 16]               0\n",
            "           Conv2d-49          [-1, 320, 16, 16]         921,600\n",
            "      BatchNorm2d-50          [-1, 320, 16, 16]             640\n",
            "             ReLU-51          [-1, 320, 16, 16]               0\n",
            "           Conv2d-52          [-1, 320, 16, 16]         921,600\n",
            "       BasicBlock-53          [-1, 320, 16, 16]               0\n",
            "      BatchNorm2d-54          [-1, 320, 16, 16]             640\n",
            "             ReLU-55          [-1, 320, 16, 16]               0\n",
            "           Conv2d-56          [-1, 320, 16, 16]         921,600\n",
            "      BatchNorm2d-57          [-1, 320, 16, 16]             640\n",
            "             ReLU-58          [-1, 320, 16, 16]               0\n",
            "           Conv2d-59          [-1, 320, 16, 16]         921,600\n",
            "       BasicBlock-60          [-1, 320, 16, 16]               0\n",
            "     NetworkBlock-61          [-1, 320, 16, 16]               0\n",
            "      BatchNorm2d-62          [-1, 320, 16, 16]             640\n",
            "             ReLU-63          [-1, 320, 16, 16]               0\n",
            "           Conv2d-64            [-1, 640, 8, 8]       1,843,200\n",
            "      BatchNorm2d-65            [-1, 640, 8, 8]           1,280\n",
            "             ReLU-66            [-1, 640, 8, 8]               0\n",
            "           Conv2d-67            [-1, 640, 8, 8]       3,686,400\n",
            "           Conv2d-68            [-1, 640, 8, 8]         204,800\n",
            "       BasicBlock-69            [-1, 640, 8, 8]               0\n",
            "      BatchNorm2d-70            [-1, 640, 8, 8]           1,280\n",
            "             ReLU-71            [-1, 640, 8, 8]               0\n",
            "           Conv2d-72            [-1, 640, 8, 8]       3,686,400\n",
            "      BatchNorm2d-73            [-1, 640, 8, 8]           1,280\n",
            "             ReLU-74            [-1, 640, 8, 8]               0\n",
            "           Conv2d-75            [-1, 640, 8, 8]       3,686,400\n",
            "       BasicBlock-76            [-1, 640, 8, 8]               0\n",
            "      BatchNorm2d-77            [-1, 640, 8, 8]           1,280\n",
            "             ReLU-78            [-1, 640, 8, 8]               0\n",
            "           Conv2d-79            [-1, 640, 8, 8]       3,686,400\n",
            "      BatchNorm2d-80            [-1, 640, 8, 8]           1,280\n",
            "             ReLU-81            [-1, 640, 8, 8]               0\n",
            "           Conv2d-82            [-1, 640, 8, 8]       3,686,400\n",
            "       BasicBlock-83            [-1, 640, 8, 8]               0\n",
            "      BatchNorm2d-84            [-1, 640, 8, 8]           1,280\n",
            "             ReLU-85            [-1, 640, 8, 8]               0\n",
            "           Conv2d-86            [-1, 640, 8, 8]       3,686,400\n",
            "      BatchNorm2d-87            [-1, 640, 8, 8]           1,280\n",
            "             ReLU-88            [-1, 640, 8, 8]               0\n",
            "           Conv2d-89            [-1, 640, 8, 8]       3,686,400\n",
            "       BasicBlock-90            [-1, 640, 8, 8]               0\n",
            "     NetworkBlock-91            [-1, 640, 8, 8]               0\n",
            "      BatchNorm2d-92            [-1, 640, 8, 8]           1,280\n",
            "             ReLU-93            [-1, 640, 8, 8]               0\n",
            "           Linear-94                  [-1, 100]          64,100\n",
            "================================================================\n",
            "Total params: 36,536,884\n",
            "Trainable params: 36,536,884\n",
            "Non-trainable params: 0\n",
            "----------------------------------------------------------------\n",
            "Input size (MB): 0.01\n",
            "Forward/backward pass size (MB): 66.00\n",
            "Params size (MB): 139.38\n",
            "Estimated Total Size (MB): 205.39\n",
            "----------------------------------------------------------------\n"
          ]
        }
      ],
      "source": [
        "# Initialize model\n",
        "model = WideResNet(depth=28, widen_factor=10, dropRate=0.3, num_classes=100).to(device)\n",
        "summary(model, input_size=(3, 32, 32))"
      ]
    },
    {
      "cell_type": "code",
      "execution_count": 6,
      "metadata": {
        "id": "FP2HzievzpN3"
      },
      "outputs": [],
      "source": [
        "# MixUp function\n",
        "def mixup_data(x, y, alpha=0.2, device='cuda'):\n",
        "    '''Returns mixed inputs, pairs of targets, and lambda'''\n",
        "    if alpha > 0:\n",
        "        lam = np.random.beta(alpha, alpha)\n",
        "    else:\n",
        "        lam = 1.0\n",
        "    batch_size = x.size(0)\n",
        "    index = torch.randperm(batch_size).to(device)\n",
        "\n",
        "    mixed_x = lam * x + (1 - lam) * x[index, :]\n",
        "    y_a, y_b = y, y[index]\n",
        "    return mixed_x, y_a, y_b, lam"
      ]
    },
    {
      "cell_type": "code",
      "execution_count": 7,
      "metadata": {
        "id": "0cQvSDqizpN3"
      },
      "outputs": [],
      "source": [
        "# Learning Rate Warmup Scheduler\n",
        "class WarmupScheduler:\n",
        "    def __init__(self, optimizer, warmup_epochs, initial_lr, target_lr, steps_per_epoch):\n",
        "        self.optimizer = optimizer\n",
        "        self.warmup_steps = warmup_epochs * steps_per_epoch\n",
        "        self.initial_lr = initial_lr\n",
        "        self.target_lr = target_lr\n",
        "        self.current_step = 0\n",
        "\n",
        "    def step(self):\n",
        "        if self.current_step < self.warmup_steps:\n",
        "            lr = self.initial_lr + (self.target_lr - self.initial_lr) * self.current_step / self.warmup_steps\n",
        "            for param_group in self.optimizer.param_groups:\n",
        "                param_group['lr'] = lr\n",
        "        self.current_step += 1\n",
        "\n",
        "    def is_warmup(self):\n",
        "        return self.current_step < self.warmup_steps"
      ]
    },
    {
      "cell_type": "code",
      "execution_count": 8,
      "metadata": {
        "id": "UmZv7ACkzpN3"
      },
      "outputs": [],
      "source": [
        "# Training function with mixed precision and gradient clipping\n",
        "def train(model, device, train_loader, optimizer, scheduler, warmup_scheduler, scaler, epoch,\n",
        "          use_mixup=True, mixup_alpha=0.2, label_smoothing=0.1):\n",
        "    model.train()\n",
        "    pbar = tqdm(train_loader)\n",
        "    correct = 0\n",
        "    processed = 0\n",
        "    total_loss = 0\n",
        "\n",
        "    for batch_idx, (data, target) in enumerate(pbar):\n",
        "        data, target = data.to(device), target.to(device)\n",
        "        optimizer.zero_grad()\n",
        "\n",
        "        # Mixed precision training\n",
        "        with autocast():\n",
        "            if use_mixup:\n",
        "                inputs, targets_a, targets_b, lam = mixup_data(data, target, alpha=mixup_alpha, device=device)\n",
        "                outputs = model(inputs)\n",
        "                loss = lam * F.cross_entropy(outputs, targets_a, label_smoothing=label_smoothing) + \\\n",
        "                       (1 - lam) * F.cross_entropy(outputs, targets_b, label_smoothing=label_smoothing)\n",
        "            else:\n",
        "                outputs = model(data)\n",
        "                loss = F.cross_entropy(outputs, target, label_smoothing=label_smoothing)\n",
        "\n",
        "        # Backward pass with gradient scaling\n",
        "        scaler.scale(loss).backward()\n",
        "\n",
        "        # Gradient clipping\n",
        "        scaler.unscale_(optimizer)\n",
        "        torch.nn.utils.clip_grad_norm_(model.parameters(), max_norm=1.0)\n",
        "\n",
        "        scaler.step(optimizer)\n",
        "        scaler.update()\n",
        "\n",
        "        # Update learning rate\n",
        "        if warmup_scheduler.is_warmup():\n",
        "            warmup_scheduler.step()\n",
        "        else:\n",
        "            scheduler.step()\n",
        "\n",
        "        # Accuracy tracking\n",
        "        _, pred = outputs.max(1)\n",
        "        if use_mixup:\n",
        "            correct += lam * pred.eq(targets_a).sum().item() + (1 - lam) * pred.eq(targets_b).sum().item()\n",
        "        else:\n",
        "            correct += pred.eq(target).sum().item()\n",
        "        processed += len(data)\n",
        "        total_loss += loss.item()\n",
        "\n",
        "        current_lr = optimizer.param_groups[0]['lr']\n",
        "        pbar.set_description(f\"Epoch {epoch} Loss={loss.item():.4f} Acc={100*correct/processed:.2f}% LR={current_lr:.6f}\")\n",
        "\n",
        "    avg_loss = total_loss / len(train_loader)\n",
        "    accuracy = 100. * correct / processed\n",
        "    return avg_loss, accuracy\n",
        "\n",
        "\n",
        "def test(model, device, test_loader):\n",
        "    model.eval()\n",
        "    test_loss = 0\n",
        "    correct = 0\n",
        "\n",
        "    with torch.no_grad():\n",
        "        for data, target in test_loader:\n",
        "            data, target = data.to(device), target.to(device)\n",
        "            output = model(data)\n",
        "            test_loss += F.cross_entropy(output, target, reduction='sum').item()\n",
        "            pred = output.argmax(dim=1, keepdim=True)\n",
        "            correct += pred.eq(target.view_as(pred)).sum().item()\n",
        "\n",
        "    test_loss /= len(test_loader.dataset)\n",
        "    accuracy = 100. * correct / len(test_loader.dataset)\n",
        "    print(f\"\\nTest set: Average loss: {test_loss:.4f}, Accuracy: {correct}/{len(test_loader.dataset)} ({accuracy:.2f}%)\\n\")\n",
        "    return test_loss, accuracy"
      ]
    },
    {
      "cell_type": "code",
      "execution_count": 13,
      "metadata": {
        "colab": {
          "base_uri": "https://localhost:8080/"
        },
        "id": "eVJ_yL6GzpN3",
        "outputId": "4d461f07-da05-4c7c-ddc3-c6091b1a35b6"
      },
      "outputs": [
        {
          "output_type": "stream",
          "name": "stdout",
          "text": [
            "======================================================================\n",
            "Training Configuration:\n",
            "======================================================================\n",
            "Model: WideResNet-28-10 (36.5M parameters)\n",
            "Batch Size: 256\n",
            "MixUp Alpha: 0.2\n",
            "Label Smoothing: 0.1\n",
            "Weight Decay: 1e-3\n",
            "Gradient Clipping: 1.0\n",
            "Scheduler: CosineAnnealingWarmRestarts\n",
            "Warmup: 5 epochs (0.01 -> 0.1)\n",
            "Mixed Precision: Enabled\n",
            "======================================================================\n"
          ]
        },
        {
          "output_type": "stream",
          "name": "stderr",
          "text": [
            "/tmp/ipython-input-100415171.py:32: FutureWarning: `torch.cuda.amp.GradScaler(args...)` is deprecated. Please use `torch.amp.GradScaler('cuda', args...)` instead.\n",
            "  scaler = GradScaler()\n"
          ]
        }
      ],
      "source": [
        "# Training Configuration\n",
        "print(\"=\" * 70)\n",
        "print(\"Training Configuration:\")\n",
        "print(\"=\" * 70)\n",
        "print(f\"Model: WideResNet-28-10 (36.5M parameters)\")\n",
        "print(f\"Batch Size: {BATCH_SIZE}\")\n",
        "print(f\"MixUp Alpha: 0.2\")\n",
        "print(f\"Label Smoothing: 0.1\")\n",
        "print(f\"Weight Decay: 1e-3\")\n",
        "print(f\"Gradient Clipping: 1.0\")\n",
        "print(f\"Scheduler: CosineAnnealingWarmRestarts\")\n",
        "print(f\"Warmup: 5 epochs (0.01 -> 0.1)\")\n",
        "print(f\"Mixed Precision: Enabled\")\n",
        "print(\"=\" * 70)\n",
        "\n",
        "# Optimizer and Scheduler\n",
        "EPOCHS = 100\n",
        "WARMUP_EPOCHS = 5\n",
        "INITIAL_LR = 0.01\n",
        "MAX_LR = 0.1\n",
        "MIN_LR = 1e-4\n",
        "\n",
        "optimizer = optim.SGD(model.parameters(), lr=INITIAL_LR, momentum=0.9, weight_decay=1e-3)\n",
        "\n",
        "# Cosine annealing with warm restarts (T_0 = 25 epochs per cycle)\n",
        "scheduler = CosineAnnealingWarmRestarts(optimizer, T_0=25, T_mult=1, eta_min=MIN_LR)\n",
        "\n",
        "# Warmup scheduler\n",
        "warmup_scheduler = WarmupScheduler(optimizer, WARMUP_EPOCHS, INITIAL_LR, MAX_LR, len(train_loader))\n",
        "\n",
        "# Gradient scaler for mixed precision\n",
        "scaler = GradScaler()\n",
        "\n",
        "# Tracking variables\n",
        "train_losses = []\n",
        "test_losses = []\n",
        "train_accuracies = []\n",
        "test_accuracies = []\n",
        "learning_rates = []\n",
        "\n",
        "# Early stopping and checkpointing\n",
        "best_test_acc = 0.0\n",
        "patience = 15\n",
        "patience_counter = 0\n",
        "checkpoint_dir = './checkpoints'\n",
        "os.makedirs(checkpoint_dir, exist_ok=True)"
      ]
    },
    {
      "cell_type": "code",
      "execution_count": 14,
      "metadata": {
        "colab": {
          "base_uri": "https://localhost:8080/",
          "height": 1000
        },
        "id": "n-R-iGCpzpN3",
        "outputId": "3d426182-8298-42fc-a5c5-2a64afaeaf0f"
      },
      "outputs": [
        {
          "output_type": "stream",
          "name": "stdout",
          "text": [
            "\n",
            "Starting training...\n",
            "\n"
          ]
        },
        {
          "output_type": "stream",
          "name": "stderr",
          "text": [
            "\r  0%|          | 0/196 [00:00<?, ?it/s]/tmp/ipython-input-580392809.py:15: FutureWarning: `torch.cuda.amp.autocast(args...)` is deprecated. Please use `torch.amp.autocast('cuda', args...)` instead.\n",
            "  with autocast():\n",
            "Epoch 1 Loss=4.0823 Acc=9.59% LR=0.027908: 100%|██████████| 196/196 [01:54<00:00,  1.71it/s]\n"
          ]
        },
        {
          "output_type": "stream",
          "name": "stdout",
          "text": [
            "\n",
            "Test set: Average loss: 3.7942, Accuracy: 1180/10000 (11.80%)\n",
            "\n",
            "*** New best model saved! Test Accuracy: 11.80% ***\n",
            "Best Test Accuracy so far: 11.80% | Patience: 0/15\n",
            "\n"
          ]
        },
        {
          "output_type": "stream",
          "name": "stderr",
          "text": [
            "Epoch 2 Loss=3.7155 Acc=12.84% LR=0.045908: 100%|██████████| 196/196 [01:53<00:00,  1.72it/s]\n"
          ]
        },
        {
          "output_type": "stream",
          "name": "stdout",
          "text": [
            "\n",
            "Test set: Average loss: 3.4765, Accuracy: 1666/10000 (16.66%)\n",
            "\n",
            "*** New best model saved! Test Accuracy: 16.66% ***\n",
            "Best Test Accuracy so far: 16.66% | Patience: 0/15\n",
            "\n"
          ]
        },
        {
          "output_type": "stream",
          "name": "stderr",
          "text": [
            "Epoch 3 Loss=3.2755 Acc=17.90% LR=0.063908: 100%|██████████| 196/196 [01:53<00:00,  1.73it/s]\n"
          ]
        },
        {
          "output_type": "stream",
          "name": "stdout",
          "text": [
            "\n",
            "Test set: Average loss: 3.1981, Accuracy: 2177/10000 (21.77%)\n",
            "\n",
            "*** New best model saved! Test Accuracy: 21.77% ***\n",
            "Best Test Accuracy so far: 21.77% | Patience: 0/15\n",
            "\n"
          ]
        },
        {
          "output_type": "stream",
          "name": "stderr",
          "text": [
            "Epoch 4 Loss=3.3021 Acc=21.63% LR=0.081908: 100%|██████████| 196/196 [01:51<00:00,  1.76it/s]\n"
          ]
        },
        {
          "output_type": "stream",
          "name": "stdout",
          "text": [
            "\n",
            "Test set: Average loss: 2.9313, Accuracy: 2789/10000 (27.89%)\n",
            "\n",
            "*** New best model saved! Test Accuracy: 27.89% ***\n",
            "Best Test Accuracy so far: 27.89% | Patience: 0/15\n",
            "\n"
          ]
        },
        {
          "output_type": "stream",
          "name": "stderr",
          "text": [
            "Epoch 5 Loss=3.0757 Acc=26.86% LR=0.099908: 100%|██████████| 196/196 [01:54<00:00,  1.72it/s]\n"
          ]
        },
        {
          "output_type": "stream",
          "name": "stdout",
          "text": [
            "\n",
            "Test set: Average loss: 2.8277, Accuracy: 2868/10000 (28.68%)\n",
            "\n",
            "*** New best model saved! Test Accuracy: 28.68% ***\n",
            "Best Test Accuracy so far: 28.68% | Patience: 0/15\n",
            "\n"
          ]
        },
        {
          "output_type": "stream",
          "name": "stderr",
          "text": [
            "Epoch 6 Loss=3.3878 Acc=34.37% LR=0.000712: 100%|██████████| 196/196 [01:53<00:00,  1.73it/s]\n"
          ]
        },
        {
          "output_type": "stream",
          "name": "stdout",
          "text": [
            "\n",
            "Test set: Average loss: 2.1833, Accuracy: 4364/10000 (43.64%)\n",
            "\n",
            "*** New best model saved! Test Accuracy: 43.64% ***\n",
            "Best Test Accuracy so far: 43.64% | Patience: 0/15\n",
            "\n"
          ]
        },
        {
          "output_type": "stream",
          "name": "stderr",
          "text": [
            "Epoch 7 Loss=2.6028 Acc=37.20% LR=0.002398: 100%|██████████| 196/196 [01:53<00:00,  1.72it/s]\n"
          ]
        },
        {
          "output_type": "stream",
          "name": "stdout",
          "text": [
            "\n",
            "Test set: Average loss: 2.1192, Accuracy: 4509/10000 (45.09%)\n",
            "\n",
            "*** New best model saved! Test Accuracy: 45.09% ***\n",
            "Best Test Accuracy so far: 45.09% | Patience: 0/15\n",
            "\n"
          ]
        },
        {
          "output_type": "stream",
          "name": "stderr",
          "text": [
            "Epoch 8 Loss=2.5927 Acc=38.13% LR=0.004739: 100%|██████████| 196/196 [01:53<00:00,  1.72it/s]\n"
          ]
        },
        {
          "output_type": "stream",
          "name": "stdout",
          "text": [
            "\n",
            "Test set: Average loss: 2.0751, Accuracy: 4564/10000 (45.64%)\n",
            "\n",
            "*** New best model saved! Test Accuracy: 45.64% ***\n",
            "Best Test Accuracy so far: 45.64% | Patience: 0/15\n",
            "\n"
          ]
        },
        {
          "output_type": "stream",
          "name": "stderr",
          "text": [
            "Epoch 9 Loss=3.1159 Acc=39.75% LR=0.007158: 100%|██████████| 196/196 [01:53<00:00,  1.72it/s]\n"
          ]
        },
        {
          "output_type": "stream",
          "name": "stdout",
          "text": [
            "\n",
            "Test set: Average loss: 2.0535, Accuracy: 4667/10000 (46.67%)\n",
            "\n",
            "*** New best model saved! Test Accuracy: 46.67% ***\n",
            "Best Test Accuracy so far: 46.67% | Patience: 0/15\n",
            "\n"
          ]
        },
        {
          "output_type": "stream",
          "name": "stderr",
          "text": [
            "Epoch 10 Loss=2.8407 Acc=39.63% LR=0.009055: 100%|██████████| 196/196 [01:51<00:00,  1.76it/s]\n"
          ]
        },
        {
          "output_type": "stream",
          "name": "stdout",
          "text": [
            "\n",
            "Test set: Average loss: 2.0076, Accuracy: 4730/10000 (47.30%)\n",
            "\n",
            "*** New best model saved! Test Accuracy: 47.30% ***\n",
            "Best Test Accuracy so far: 47.30% | Patience: 0/15\n",
            "\n"
          ]
        },
        {
          "output_type": "stream",
          "name": "stderr",
          "text": [
            "Epoch 11 Loss=2.4253 Acc=41.25% LR=0.009961: 100%|██████████| 196/196 [01:53<00:00,  1.72it/s]\n"
          ]
        },
        {
          "output_type": "stream",
          "name": "stdout",
          "text": [
            "\n",
            "Test set: Average loss: 1.9544, Accuracy: 4856/10000 (48.56%)\n",
            "\n",
            "*** New best model saved! Test Accuracy: 48.56% ***\n",
            "Best Test Accuracy so far: 48.56% | Patience: 0/15\n",
            "\n"
          ]
        },
        {
          "output_type": "stream",
          "name": "stderr",
          "text": [
            "Epoch 12 Loss=2.7929 Acc=41.07% LR=0.000448: 100%|██████████| 196/196 [01:53<00:00,  1.72it/s]\n"
          ]
        },
        {
          "output_type": "stream",
          "name": "stdout",
          "text": [
            "\n",
            "Test set: Average loss: 1.9442, Accuracy: 4872/10000 (48.72%)\n",
            "\n",
            "*** New best model saved! Test Accuracy: 48.72% ***\n",
            "Best Test Accuracy so far: 48.72% | Patience: 0/15\n",
            "\n"
          ]
        },
        {
          "output_type": "stream",
          "name": "stderr",
          "text": [
            "Epoch 13 Loss=2.3663 Acc=40.44% LR=0.001895: 100%|██████████| 196/196 [01:54<00:00,  1.71it/s]\n"
          ]
        },
        {
          "output_type": "stream",
          "name": "stdout",
          "text": [
            "\n",
            "Test set: Average loss: 1.9272, Accuracy: 4950/10000 (49.50%)\n",
            "\n",
            "*** New best model saved! Test Accuracy: 49.50% ***\n",
            "Best Test Accuracy so far: 49.50% | Patience: 0/15\n",
            "\n"
          ]
        },
        {
          "output_type": "stream",
          "name": "stderr",
          "text": [
            "Epoch 14 Loss=2.3932 Acc=42.35% LR=0.004122: 100%|██████████| 196/196 [01:52<00:00,  1.74it/s]\n"
          ]
        },
        {
          "output_type": "stream",
          "name": "stdout",
          "text": [
            "\n",
            "Test set: Average loss: 1.8875, Accuracy: 4980/10000 (49.80%)\n",
            "\n",
            "*** New best model saved! Test Accuracy: 49.80% ***\n",
            "Best Test Accuracy so far: 49.80% | Patience: 0/15\n",
            "\n"
          ]
        },
        {
          "output_type": "stream",
          "name": "stderr",
          "text": [
            "Epoch 15 Loss=3.6845 Acc=43.01% LR=0.006580: 100%|██████████| 196/196 [01:51<00:00,  1.75it/s]\n"
          ]
        },
        {
          "output_type": "stream",
          "name": "stdout",
          "text": [
            "\n",
            "Test set: Average loss: 1.8728, Accuracy: 5006/10000 (50.06%)\n",
            "\n",
            "*** New best model saved! Test Accuracy: 50.06% ***\n",
            "Best Test Accuracy so far: 50.06% | Patience: 0/15\n",
            "\n"
          ]
        },
        {
          "output_type": "stream",
          "name": "stderr",
          "text": [
            "Epoch 16 Loss=2.8693 Acc=42.65% LR=0.008658: 100%|██████████| 196/196 [01:53<00:00,  1.72it/s]\n"
          ]
        },
        {
          "output_type": "stream",
          "name": "stdout",
          "text": [
            "\n",
            "Test set: Average loss: 1.8390, Accuracy: 5138/10000 (51.38%)\n",
            "\n",
            "*** New best model saved! Test Accuracy: 51.38% ***\n",
            "Best Test Accuracy so far: 51.38% | Patience: 0/15\n",
            "\n"
          ]
        },
        {
          "output_type": "stream",
          "name": "stderr",
          "text": [
            "Epoch 17 Loss=2.4668 Acc=44.51% LR=0.009844: 100%|██████████| 196/196 [01:54<00:00,  1.72it/s]\n"
          ]
        },
        {
          "output_type": "stream",
          "name": "stdout",
          "text": [
            "\n",
            "Test set: Average loss: 1.8123, Accuracy: 5191/10000 (51.91%)\n",
            "\n",
            "*** New best model saved! Test Accuracy: 51.91% ***\n",
            "Best Test Accuracy so far: 51.91% | Patience: 0/15\n",
            "\n"
          ]
        },
        {
          "output_type": "stream",
          "name": "stderr",
          "text": [
            "Epoch 18 Loss=2.6438 Acc=45.65% LR=0.000256: 100%|██████████| 196/196 [01:53<00:00,  1.72it/s]\n"
          ]
        },
        {
          "output_type": "stream",
          "name": "stdout",
          "text": [
            "\n",
            "Test set: Average loss: 1.7819, Accuracy: 5209/10000 (52.09%)\n",
            "\n",
            "*** New best model saved! Test Accuracy: 52.09% ***\n",
            "Best Test Accuracy so far: 52.09% | Patience: 0/15\n",
            "\n"
          ]
        },
        {
          "output_type": "stream",
          "name": "stderr",
          "text": [
            "Epoch 19 Loss=2.2753 Acc=44.22% LR=0.001442: 100%|██████████| 196/196 [01:53<00:00,  1.72it/s]\n"
          ]
        },
        {
          "output_type": "stream",
          "name": "stdout",
          "text": [
            "\n",
            "Test set: Average loss: 1.7954, Accuracy: 5251/10000 (52.51%)\n",
            "\n",
            "*** New best model saved! Test Accuracy: 52.51% ***\n",
            "Best Test Accuracy so far: 52.51% | Patience: 0/15\n",
            "\n"
          ]
        },
        {
          "output_type": "stream",
          "name": "stderr",
          "text": [
            "Epoch 20 Loss=2.6281 Acc=44.50% LR=0.003520: 100%|██████████| 196/196 [01:54<00:00,  1.72it/s]\n"
          ]
        },
        {
          "output_type": "stream",
          "name": "stdout",
          "text": [
            "\n",
            "Test set: Average loss: 1.7818, Accuracy: 5258/10000 (52.58%)\n",
            "\n",
            "*** New best model saved! Test Accuracy: 52.58% ***\n",
            "Best Test Accuracy so far: 52.58% | Patience: 0/15\n",
            "\n"
          ]
        },
        {
          "output_type": "stream",
          "name": "stderr",
          "text": [
            "Epoch 21 Loss=2.6428 Acc=45.22% LR=0.005978: 100%|██████████| 196/196 [01:53<00:00,  1.72it/s]\n"
          ]
        },
        {
          "output_type": "stream",
          "name": "stdout",
          "text": [
            "\n",
            "Test set: Average loss: 1.7739, Accuracy: 5305/10000 (53.05%)\n",
            "\n",
            "*** New best model saved! Test Accuracy: 53.05% ***\n",
            "Best Test Accuracy so far: 53.05% | Patience: 0/15\n",
            "\n"
          ]
        },
        {
          "output_type": "stream",
          "name": "stderr",
          "text": [
            "Epoch 22 Loss=2.4370 Acc=44.30% LR=0.008205: 100%|██████████| 196/196 [01:52<00:00,  1.74it/s]\n"
          ]
        },
        {
          "output_type": "stream",
          "name": "stdout",
          "text": [
            "\n",
            "Test set: Average loss: 1.7465, Accuracy: 5384/10000 (53.84%)\n",
            "\n",
            "*** New best model saved! Test Accuracy: 53.84% ***\n",
            "Best Test Accuracy so far: 53.84% | Patience: 0/15\n",
            "\n"
          ]
        },
        {
          "output_type": "stream",
          "name": "stderr",
          "text": [
            "Epoch 23 Loss=3.5886 Acc=45.85% LR=0.009652: 100%|██████████| 196/196 [01:51<00:00,  1.76it/s]\n"
          ]
        },
        {
          "output_type": "stream",
          "name": "stdout",
          "text": [
            "\n",
            "Test set: Average loss: 1.7279, Accuracy: 5442/10000 (54.42%)\n",
            "\n",
            "*** New best model saved! Test Accuracy: 54.42% ***\n",
            "Best Test Accuracy so far: 54.42% | Patience: 0/15\n",
            "\n"
          ]
        },
        {
          "output_type": "stream",
          "name": "stderr",
          "text": [
            "Epoch 24 Loss=3.0609 Acc=47.21% LR=0.000139: 100%|██████████| 196/196 [01:54<00:00,  1.72it/s]\n"
          ]
        },
        {
          "output_type": "stream",
          "name": "stdout",
          "text": [
            "\n",
            "Test set: Average loss: 1.6856, Accuracy: 5504/10000 (55.04%)\n",
            "\n",
            "*** New best model saved! Test Accuracy: 55.04% ***\n",
            "Best Test Accuracy so far: 55.04% | Patience: 0/15\n",
            "\n"
          ]
        },
        {
          "output_type": "stream",
          "name": "stderr",
          "text": [
            "Epoch 25 Loss=2.4346 Acc=47.35% LR=0.001045: 100%|██████████| 196/196 [01:53<00:00,  1.73it/s]\n"
          ]
        },
        {
          "output_type": "stream",
          "name": "stdout",
          "text": [
            "\n",
            "Test set: Average loss: 1.6859, Accuracy: 5499/10000 (54.99%)\n",
            "\n",
            "Best Test Accuracy so far: 55.04% | Patience: 1/15\n",
            "\n"
          ]
        },
        {
          "output_type": "stream",
          "name": "stderr",
          "text": [
            "Epoch 26 Loss=2.9701 Acc=47.49% LR=0.002942: 100%|██████████| 196/196 [01:53<00:00,  1.72it/s]\n"
          ]
        },
        {
          "output_type": "stream",
          "name": "stdout",
          "text": [
            "\n",
            "Test set: Average loss: 1.7022, Accuracy: 5438/10000 (54.38%)\n",
            "\n",
            "Best Test Accuracy so far: 55.04% | Patience: 2/15\n",
            "\n"
          ]
        },
        {
          "output_type": "stream",
          "name": "stderr",
          "text": [
            "Epoch 27 Loss=3.0447 Acc=48.11% LR=0.005361: 100%|██████████| 196/196 [01:51<00:00,  1.75it/s]\n"
          ]
        },
        {
          "output_type": "stream",
          "name": "stdout",
          "text": [
            "\n",
            "Test set: Average loss: 1.6858, Accuracy: 5476/10000 (54.76%)\n",
            "\n",
            "Best Test Accuracy so far: 55.04% | Patience: 3/15\n",
            "\n"
          ]
        },
        {
          "output_type": "stream",
          "name": "stderr",
          "text": [
            "Epoch 28 Loss=3.5875 Acc=47.74% LR=0.007702: 100%|██████████| 196/196 [01:52<00:00,  1.74it/s]\n"
          ]
        },
        {
          "output_type": "stream",
          "name": "stdout",
          "text": [
            "\n",
            "Test set: Average loss: 1.6640, Accuracy: 5607/10000 (56.07%)\n",
            "\n",
            "*** New best model saved! Test Accuracy: 56.07% ***\n",
            "Best Test Accuracy so far: 56.07% | Patience: 0/15\n",
            "\n"
          ]
        },
        {
          "output_type": "stream",
          "name": "stderr",
          "text": [
            "Epoch 29 Loss=2.3933 Acc=49.52% LR=0.009388: 100%|██████████| 196/196 [01:53<00:00,  1.72it/s]\n"
          ]
        },
        {
          "output_type": "stream",
          "name": "stdout",
          "text": [
            "\n",
            "Test set: Average loss: 1.6668, Accuracy: 5545/10000 (55.45%)\n",
            "\n",
            "Best Test Accuracy so far: 56.07% | Patience: 1/15\n",
            "\n"
          ]
        },
        {
          "output_type": "stream",
          "name": "stderr",
          "text": [
            "Epoch 30 Loss=2.5287 Acc=50.78% LR=0.010000: 100%|██████████| 196/196 [01:53<00:00,  1.72it/s]\n"
          ]
        },
        {
          "output_type": "stream",
          "name": "stdout",
          "text": [
            "\n",
            "Test set: Average loss: 1.6211, Accuracy: 5677/10000 (56.77%)\n",
            "\n",
            "*** New best model saved! Test Accuracy: 56.77% ***\n",
            "Best Test Accuracy so far: 56.77% | Patience: 0/15\n",
            "\n"
          ]
        },
        {
          "output_type": "stream",
          "name": "stderr",
          "text": [
            "Epoch 31 Loss=2.3177 Acc=49.49% LR=0.000712: 100%|██████████| 196/196 [01:53<00:00,  1.72it/s]\n"
          ]
        },
        {
          "output_type": "stream",
          "name": "stdout",
          "text": [
            "\n",
            "Test set: Average loss: 1.6383, Accuracy: 5675/10000 (56.75%)\n",
            "\n",
            "Best Test Accuracy so far: 56.77% | Patience: 1/15\n",
            "\n"
          ]
        },
        {
          "output_type": "stream",
          "name": "stderr",
          "text": [
            "Epoch 32 Loss=3.1997 Acc=50.80% LR=0.002398: 100%|██████████| 196/196 [01:53<00:00,  1.72it/s]\n"
          ]
        },
        {
          "output_type": "stream",
          "name": "stdout",
          "text": [
            "\n",
            "Test set: Average loss: 1.6152, Accuracy: 5716/10000 (57.16%)\n",
            "\n",
            "*** New best model saved! Test Accuracy: 57.16% ***\n",
            "Best Test Accuracy so far: 57.16% | Patience: 0/15\n",
            "\n"
          ]
        },
        {
          "output_type": "stream",
          "name": "stderr",
          "text": [
            "Epoch 33 Loss=2.3293 Acc=47.86% LR=0.004739: 100%|██████████| 196/196 [01:54<00:00,  1.72it/s]\n"
          ]
        },
        {
          "output_type": "stream",
          "name": "stdout",
          "text": [
            "\n",
            "Test set: Average loss: 1.6344, Accuracy: 5664/10000 (56.64%)\n",
            "\n",
            "Best Test Accuracy so far: 57.16% | Patience: 1/15\n",
            "\n"
          ]
        },
        {
          "output_type": "stream",
          "name": "stderr",
          "text": [
            "Epoch 34 Loss=3.6935 Acc=51.27% LR=0.007158: 100%|██████████| 196/196 [01:53<00:00,  1.73it/s]\n"
          ]
        },
        {
          "output_type": "stream",
          "name": "stdout",
          "text": [
            "\n",
            "Test set: Average loss: 1.6201, Accuracy: 5677/10000 (56.77%)\n",
            "\n",
            "Best Test Accuracy so far: 57.16% | Patience: 2/15\n",
            "\n"
          ]
        },
        {
          "output_type": "stream",
          "name": "stderr",
          "text": [
            "Epoch 35 Loss=2.8414 Acc=49.64% LR=0.009055: 100%|██████████| 196/196 [01:53<00:00,  1.72it/s]\n"
          ]
        },
        {
          "output_type": "stream",
          "name": "stdout",
          "text": [
            "\n",
            "Test set: Average loss: 1.6236, Accuracy: 5701/10000 (57.01%)\n",
            "\n",
            "Best Test Accuracy so far: 57.16% | Patience: 3/15\n",
            "\n"
          ]
        },
        {
          "output_type": "stream",
          "name": "stderr",
          "text": [
            "Epoch 36 Loss=2.3507 Acc=51.46% LR=0.009961: 100%|██████████| 196/196 [01:54<00:00,  1.72it/s]\n"
          ]
        },
        {
          "output_type": "stream",
          "name": "stdout",
          "text": [
            "\n",
            "Test set: Average loss: 1.5548, Accuracy: 5889/10000 (58.89%)\n",
            "\n",
            "*** New best model saved! Test Accuracy: 58.89% ***\n",
            "Best Test Accuracy so far: 58.89% | Patience: 0/15\n",
            "\n"
          ]
        },
        {
          "output_type": "stream",
          "name": "stderr",
          "text": [
            "Epoch 37 Loss=1.9795 Acc=51.61% LR=0.000448: 100%|██████████| 196/196 [01:54<00:00,  1.71it/s]\n"
          ]
        },
        {
          "output_type": "stream",
          "name": "stdout",
          "text": [
            "\n",
            "Test set: Average loss: 1.5489, Accuracy: 5944/10000 (59.44%)\n",
            "\n",
            "*** New best model saved! Test Accuracy: 59.44% ***\n",
            "Best Test Accuracy so far: 59.44% | Patience: 0/15\n",
            "\n"
          ]
        },
        {
          "output_type": "stream",
          "name": "stderr",
          "text": [
            "Epoch 38 Loss=2.3323 Acc=51.15% LR=0.001895: 100%|██████████| 196/196 [01:53<00:00,  1.72it/s]\n"
          ]
        },
        {
          "output_type": "stream",
          "name": "stdout",
          "text": [
            "\n",
            "Test set: Average loss: 1.5859, Accuracy: 5909/10000 (59.09%)\n",
            "\n",
            "Best Test Accuracy so far: 59.44% | Patience: 1/15\n",
            "\n"
          ]
        },
        {
          "output_type": "stream",
          "name": "stderr",
          "text": [
            "Epoch 39 Loss=1.9969 Acc=52.95% LR=0.004122: 100%|██████████| 196/196 [01:54<00:00,  1.72it/s]\n"
          ]
        },
        {
          "output_type": "stream",
          "name": "stdout",
          "text": [
            "\n",
            "Test set: Average loss: 1.5681, Accuracy: 5955/10000 (59.55%)\n",
            "\n",
            "*** New best model saved! Test Accuracy: 59.55% ***\n",
            "Best Test Accuracy so far: 59.55% | Patience: 0/15\n",
            "\n"
          ]
        },
        {
          "output_type": "stream",
          "name": "stderr",
          "text": [
            "Epoch 40 Loss=3.7582 Acc=53.03% LR=0.006580: 100%|██████████| 196/196 [01:54<00:00,  1.72it/s]\n"
          ]
        },
        {
          "output_type": "stream",
          "name": "stdout",
          "text": [
            "\n",
            "Test set: Average loss: 1.6252, Accuracy: 5816/10000 (58.16%)\n",
            "\n",
            "Best Test Accuracy so far: 59.55% | Patience: 1/15\n",
            "\n"
          ]
        },
        {
          "output_type": "stream",
          "name": "stderr",
          "text": [
            "Epoch 41 Loss=2.1051 Acc=51.35% LR=0.008658: 100%|██████████| 196/196 [01:53<00:00,  1.72it/s]\n"
          ]
        },
        {
          "output_type": "stream",
          "name": "stdout",
          "text": [
            "\n",
            "Test set: Average loss: 1.5735, Accuracy: 5988/10000 (59.88%)\n",
            "\n",
            "*** New best model saved! Test Accuracy: 59.88% ***\n",
            "Best Test Accuracy so far: 59.88% | Patience: 0/15\n",
            "\n"
          ]
        },
        {
          "output_type": "stream",
          "name": "stderr",
          "text": [
            "Epoch 42 Loss=2.1378 Acc=52.02% LR=0.009844: 100%|██████████| 196/196 [01:53<00:00,  1.72it/s]\n"
          ]
        },
        {
          "output_type": "stream",
          "name": "stdout",
          "text": [
            "\n",
            "Test set: Average loss: 1.5088, Accuracy: 6079/10000 (60.79%)\n",
            "\n",
            "*** New best model saved! Test Accuracy: 60.79% ***\n",
            "Best Test Accuracy so far: 60.79% | Patience: 0/15\n",
            "\n"
          ]
        },
        {
          "output_type": "stream",
          "name": "stderr",
          "text": [
            "Epoch 43 Loss=2.5824 Acc=53.91% LR=0.000256: 100%|██████████| 196/196 [01:53<00:00,  1.72it/s]\n"
          ]
        },
        {
          "output_type": "stream",
          "name": "stdout",
          "text": [
            "\n",
            "Test set: Average loss: 1.5217, Accuracy: 6074/10000 (60.74%)\n",
            "\n",
            "Best Test Accuracy so far: 60.79% | Patience: 1/15\n",
            "\n"
          ]
        },
        {
          "output_type": "stream",
          "name": "stderr",
          "text": [
            "Epoch 44 Loss=2.1222 Acc=53.77% LR=0.001442: 100%|██████████| 196/196 [01:53<00:00,  1.72it/s]\n"
          ]
        },
        {
          "output_type": "stream",
          "name": "stdout",
          "text": [
            "\n",
            "Test set: Average loss: 1.5289, Accuracy: 6053/10000 (60.53%)\n",
            "\n",
            "Best Test Accuracy so far: 60.79% | Patience: 2/15\n",
            "\n"
          ]
        },
        {
          "output_type": "stream",
          "name": "stderr",
          "text": [
            "Epoch 45 Loss=1.9399 Acc=53.13% LR=0.003520: 100%|██████████| 196/196 [01:53<00:00,  1.72it/s]\n"
          ]
        },
        {
          "output_type": "stream",
          "name": "stdout",
          "text": [
            "\n",
            "Test set: Average loss: 1.5393, Accuracy: 6072/10000 (60.72%)\n",
            "\n",
            "Best Test Accuracy so far: 60.79% | Patience: 3/15\n",
            "\n"
          ]
        },
        {
          "output_type": "stream",
          "name": "stderr",
          "text": [
            "Epoch 46 Loss=2.6410 Acc=54.39% LR=0.005978: 100%|██████████| 196/196 [01:53<00:00,  1.72it/s]\n"
          ]
        },
        {
          "output_type": "stream",
          "name": "stdout",
          "text": [
            "\n",
            "Test set: Average loss: 1.5607, Accuracy: 5974/10000 (59.74%)\n",
            "\n",
            "Best Test Accuracy so far: 60.79% | Patience: 4/15\n",
            "\n"
          ]
        },
        {
          "output_type": "stream",
          "name": "stderr",
          "text": [
            "Epoch 47 Loss=2.0733 Acc=54.87% LR=0.008205: 100%|██████████| 196/196 [01:53<00:00,  1.72it/s]\n"
          ]
        },
        {
          "output_type": "stream",
          "name": "stdout",
          "text": [
            "\n",
            "Test set: Average loss: 1.5955, Accuracy: 5912/10000 (59.12%)\n",
            "\n",
            "Best Test Accuracy so far: 60.79% | Patience: 5/15\n",
            "\n"
          ]
        },
        {
          "output_type": "stream",
          "name": "stderr",
          "text": [
            "Epoch 48 Loss=2.6262 Acc=54.46% LR=0.009652: 100%|██████████| 196/196 [01:53<00:00,  1.72it/s]\n"
          ]
        },
        {
          "output_type": "stream",
          "name": "stdout",
          "text": [
            "\n",
            "Test set: Average loss: 1.5116, Accuracy: 6172/10000 (61.72%)\n",
            "\n",
            "*** New best model saved! Test Accuracy: 61.72% ***\n",
            "Best Test Accuracy so far: 61.72% | Patience: 0/15\n",
            "\n"
          ]
        },
        {
          "output_type": "stream",
          "name": "stderr",
          "text": [
            "Epoch 49 Loss=2.8926 Acc=54.51% LR=0.000139: 100%|██████████| 196/196 [01:54<00:00,  1.72it/s]\n"
          ]
        },
        {
          "output_type": "stream",
          "name": "stdout",
          "text": [
            "\n",
            "Test set: Average loss: 1.5004, Accuracy: 6206/10000 (62.06%)\n",
            "\n",
            "*** New best model saved! Test Accuracy: 62.06% ***\n",
            "Best Test Accuracy so far: 62.06% | Patience: 0/15\n",
            "\n"
          ]
        },
        {
          "output_type": "stream",
          "name": "stderr",
          "text": [
            "Epoch 50 Loss=3.6024 Acc=55.95% LR=0.001045: 100%|██████████| 196/196 [01:53<00:00,  1.72it/s]\n"
          ]
        },
        {
          "output_type": "stream",
          "name": "stdout",
          "text": [
            "\n",
            "Test set: Average loss: 1.5156, Accuracy: 6150/10000 (61.50%)\n",
            "\n",
            "Best Test Accuracy so far: 62.06% | Patience: 1/15\n",
            "\n"
          ]
        },
        {
          "output_type": "stream",
          "name": "stderr",
          "text": [
            "Epoch 51 Loss=2.3185 Acc=56.46% LR=0.002942: 100%|██████████| 196/196 [01:53<00:00,  1.72it/s]\n"
          ]
        },
        {
          "output_type": "stream",
          "name": "stdout",
          "text": [
            "\n",
            "Test set: Average loss: 1.4994, Accuracy: 6213/10000 (62.13%)\n",
            "\n",
            "*** New best model saved! Test Accuracy: 62.13% ***\n",
            "Best Test Accuracy so far: 62.13% | Patience: 0/15\n",
            "\n"
          ]
        },
        {
          "output_type": "stream",
          "name": "stderr",
          "text": [
            "Epoch 52 Loss=2.2610 Acc=57.78% LR=0.005361: 100%|██████████| 196/196 [01:53<00:00,  1.72it/s]\n"
          ]
        },
        {
          "output_type": "stream",
          "name": "stdout",
          "text": [
            "\n",
            "Test set: Average loss: 1.5081, Accuracy: 6153/10000 (61.53%)\n",
            "\n",
            "Best Test Accuracy so far: 62.13% | Patience: 1/15\n",
            "\n"
          ]
        },
        {
          "output_type": "stream",
          "name": "stderr",
          "text": [
            "Epoch 53 Loss=2.1314 Acc=54.79% LR=0.007702: 100%|██████████| 196/196 [01:54<00:00,  1.72it/s]\n"
          ]
        },
        {
          "output_type": "stream",
          "name": "stdout",
          "text": [
            "\n",
            "Test set: Average loss: 1.5532, Accuracy: 6067/10000 (60.67%)\n",
            "\n",
            "Best Test Accuracy so far: 62.13% | Patience: 2/15\n",
            "\n"
          ]
        },
        {
          "output_type": "stream",
          "name": "stderr",
          "text": [
            "Epoch 54 Loss=2.7231 Acc=56.19% LR=0.009388: 100%|██████████| 196/196 [01:53<00:00,  1.73it/s]\n"
          ]
        },
        {
          "output_type": "stream",
          "name": "stdout",
          "text": [
            "\n",
            "Test set: Average loss: 1.5265, Accuracy: 6151/10000 (61.51%)\n",
            "\n",
            "Best Test Accuracy so far: 62.13% | Patience: 3/15\n",
            "\n"
          ]
        },
        {
          "output_type": "stream",
          "name": "stderr",
          "text": [
            "Epoch 55 Loss=2.3019 Acc=58.36% LR=0.010000: 100%|██████████| 196/196 [01:53<00:00,  1.72it/s]\n"
          ]
        },
        {
          "output_type": "stream",
          "name": "stdout",
          "text": [
            "\n",
            "Test set: Average loss: 1.4556, Accuracy: 6330/10000 (63.30%)\n",
            "\n",
            "*** New best model saved! Test Accuracy: 63.30% ***\n",
            "Best Test Accuracy so far: 63.30% | Patience: 0/15\n",
            "\n"
          ]
        },
        {
          "output_type": "stream",
          "name": "stderr",
          "text": [
            "Epoch 56 Loss=2.1199 Acc=59.13% LR=0.000712: 100%|██████████| 196/196 [01:53<00:00,  1.72it/s]\n"
          ]
        },
        {
          "output_type": "stream",
          "name": "stdout",
          "text": [
            "\n",
            "Test set: Average loss: 1.4439, Accuracy: 6411/10000 (64.11%)\n",
            "\n",
            "*** New best model saved! Test Accuracy: 64.11% ***\n",
            "Best Test Accuracy so far: 64.11% | Patience: 0/15\n",
            "\n"
          ]
        },
        {
          "output_type": "stream",
          "name": "stderr",
          "text": [
            "Epoch 57 Loss=1.9484 Acc=58.75% LR=0.002398: 100%|██████████| 196/196 [01:54<00:00,  1.72it/s]\n"
          ]
        },
        {
          "output_type": "stream",
          "name": "stdout",
          "text": [
            "\n",
            "Test set: Average loss: 1.4475, Accuracy: 6330/10000 (63.30%)\n",
            "\n",
            "Best Test Accuracy so far: 64.11% | Patience: 1/15\n",
            "\n"
          ]
        },
        {
          "output_type": "stream",
          "name": "stderr",
          "text": [
            "Epoch 58 Loss=2.1982 Acc=56.77% LR=0.004739: 100%|██████████| 196/196 [01:53<00:00,  1.72it/s]\n"
          ]
        },
        {
          "output_type": "stream",
          "name": "stdout",
          "text": [
            "\n",
            "Test set: Average loss: 1.5001, Accuracy: 6248/10000 (62.48%)\n",
            "\n",
            "Best Test Accuracy so far: 64.11% | Patience: 2/15\n",
            "\n"
          ]
        },
        {
          "output_type": "stream",
          "name": "stderr",
          "text": [
            "Epoch 59 Loss=2.2311 Acc=58.67% LR=0.008205:  35%|███▌      | 69/196 [00:41<01:17,  1.65it/s]\n"
          ]
        },
        {
          "output_type": "error",
          "ename": "KeyboardInterrupt",
          "evalue": "",
          "traceback": [
            "\u001b[0;31m---------------------------------------------------------------------------\u001b[0m",
            "\u001b[0;31mKeyboardInterrupt\u001b[0m                         Traceback (most recent call last)",
            "\u001b[0;32m/tmp/ipython-input-420159725.py\u001b[0m in \u001b[0;36m<cell line: 0>\u001b[0;34m()\u001b[0m\n\u001b[1;32m      4\u001b[0m \u001b[0;32mfor\u001b[0m \u001b[0mepoch\u001b[0m \u001b[0;32min\u001b[0m \u001b[0mrange\u001b[0m\u001b[0;34m(\u001b[0m\u001b[0;36m1\u001b[0m\u001b[0;34m,\u001b[0m \u001b[0mEPOCHS\u001b[0m \u001b[0;34m+\u001b[0m \u001b[0;36m1\u001b[0m\u001b[0;34m)\u001b[0m\u001b[0;34m:\u001b[0m\u001b[0;34m\u001b[0m\u001b[0;34m\u001b[0m\u001b[0m\n\u001b[1;32m      5\u001b[0m     \u001b[0;31m# Train\u001b[0m\u001b[0;34m\u001b[0m\u001b[0;34m\u001b[0m\u001b[0m\n\u001b[0;32m----> 6\u001b[0;31m     train_loss, train_acc = train(\n\u001b[0m\u001b[1;32m      7\u001b[0m         \u001b[0mmodel\u001b[0m\u001b[0;34m,\u001b[0m \u001b[0mdevice\u001b[0m\u001b[0;34m,\u001b[0m \u001b[0mtrain_loader\u001b[0m\u001b[0;34m,\u001b[0m \u001b[0moptimizer\u001b[0m\u001b[0;34m,\u001b[0m \u001b[0mscheduler\u001b[0m\u001b[0;34m,\u001b[0m \u001b[0mwarmup_scheduler\u001b[0m\u001b[0;34m,\u001b[0m \u001b[0mscaler\u001b[0m\u001b[0;34m,\u001b[0m \u001b[0mepoch\u001b[0m\u001b[0;34m,\u001b[0m\u001b[0;34m\u001b[0m\u001b[0;34m\u001b[0m\u001b[0m\n\u001b[1;32m      8\u001b[0m         \u001b[0muse_mixup\u001b[0m\u001b[0;34m=\u001b[0m\u001b[0;32mTrue\u001b[0m\u001b[0;34m,\u001b[0m \u001b[0mmixup_alpha\u001b[0m\u001b[0;34m=\u001b[0m\u001b[0;36m0.2\u001b[0m\u001b[0;34m,\u001b[0m \u001b[0mlabel_smoothing\u001b[0m\u001b[0;34m=\u001b[0m\u001b[0;36m0.1\u001b[0m\u001b[0;34m\u001b[0m\u001b[0;34m\u001b[0m\u001b[0m\n",
            "\u001b[0;32m/tmp/ipython-input-580392809.py\u001b[0m in \u001b[0;36mtrain\u001b[0;34m(model, device, train_loader, optimizer, scheduler, warmup_scheduler, scaler, epoch, use_mixup, mixup_alpha, label_smoothing)\u001b[0m\n\u001b[1;32m     30\u001b[0m         \u001b[0mtorch\u001b[0m\u001b[0;34m.\u001b[0m\u001b[0mnn\u001b[0m\u001b[0;34m.\u001b[0m\u001b[0mutils\u001b[0m\u001b[0;34m.\u001b[0m\u001b[0mclip_grad_norm_\u001b[0m\u001b[0;34m(\u001b[0m\u001b[0mmodel\u001b[0m\u001b[0;34m.\u001b[0m\u001b[0mparameters\u001b[0m\u001b[0;34m(\u001b[0m\u001b[0;34m)\u001b[0m\u001b[0;34m,\u001b[0m \u001b[0mmax_norm\u001b[0m\u001b[0;34m=\u001b[0m\u001b[0;36m1.0\u001b[0m\u001b[0;34m)\u001b[0m\u001b[0;34m\u001b[0m\u001b[0;34m\u001b[0m\u001b[0m\n\u001b[1;32m     31\u001b[0m \u001b[0;34m\u001b[0m\u001b[0m\n\u001b[0;32m---> 32\u001b[0;31m         \u001b[0mscaler\u001b[0m\u001b[0;34m.\u001b[0m\u001b[0mstep\u001b[0m\u001b[0;34m(\u001b[0m\u001b[0moptimizer\u001b[0m\u001b[0;34m)\u001b[0m\u001b[0;34m\u001b[0m\u001b[0;34m\u001b[0m\u001b[0m\n\u001b[0m\u001b[1;32m     33\u001b[0m         \u001b[0mscaler\u001b[0m\u001b[0;34m.\u001b[0m\u001b[0mupdate\u001b[0m\u001b[0;34m(\u001b[0m\u001b[0;34m)\u001b[0m\u001b[0;34m\u001b[0m\u001b[0;34m\u001b[0m\u001b[0m\n\u001b[1;32m     34\u001b[0m \u001b[0;34m\u001b[0m\u001b[0m\n",
            "\u001b[0;32m/usr/local/lib/python3.12/dist-packages/torch/amp/grad_scaler.py\u001b[0m in \u001b[0;36mstep\u001b[0;34m(self, optimizer, *args, **kwargs)\u001b[0m\n\u001b[1;32m    463\u001b[0m         ), \"No inf checks were recorded for this optimizer.\"\n\u001b[1;32m    464\u001b[0m \u001b[0;34m\u001b[0m\u001b[0m\n\u001b[0;32m--> 465\u001b[0;31m         \u001b[0mretval\u001b[0m \u001b[0;34m=\u001b[0m \u001b[0mself\u001b[0m\u001b[0;34m.\u001b[0m\u001b[0m_maybe_opt_step\u001b[0m\u001b[0;34m(\u001b[0m\u001b[0moptimizer\u001b[0m\u001b[0;34m,\u001b[0m \u001b[0moptimizer_state\u001b[0m\u001b[0;34m,\u001b[0m \u001b[0;34m*\u001b[0m\u001b[0margs\u001b[0m\u001b[0;34m,\u001b[0m \u001b[0;34m**\u001b[0m\u001b[0mkwargs\u001b[0m\u001b[0;34m)\u001b[0m\u001b[0;34m\u001b[0m\u001b[0;34m\u001b[0m\u001b[0m\n\u001b[0m\u001b[1;32m    466\u001b[0m \u001b[0;34m\u001b[0m\u001b[0m\n\u001b[1;32m    467\u001b[0m         \u001b[0moptimizer_state\u001b[0m\u001b[0;34m[\u001b[0m\u001b[0;34m\"stage\"\u001b[0m\u001b[0;34m]\u001b[0m \u001b[0;34m=\u001b[0m \u001b[0mOptState\u001b[0m\u001b[0;34m.\u001b[0m\u001b[0mSTEPPED\u001b[0m\u001b[0;34m\u001b[0m\u001b[0;34m\u001b[0m\u001b[0m\n",
            "\u001b[0;32m/usr/local/lib/python3.12/dist-packages/torch/amp/grad_scaler.py\u001b[0m in \u001b[0;36m_maybe_opt_step\u001b[0;34m(self, optimizer, optimizer_state, *args, **kwargs)\u001b[0m\n\u001b[1;32m    357\u001b[0m     ) -> Optional[float]:\n\u001b[1;32m    358\u001b[0m         \u001b[0mretval\u001b[0m\u001b[0;34m:\u001b[0m \u001b[0mOptional\u001b[0m\u001b[0;34m[\u001b[0m\u001b[0mfloat\u001b[0m\u001b[0;34m]\u001b[0m \u001b[0;34m=\u001b[0m \u001b[0;32mNone\u001b[0m\u001b[0;34m\u001b[0m\u001b[0;34m\u001b[0m\u001b[0m\n\u001b[0;32m--> 359\u001b[0;31m         \u001b[0;32mif\u001b[0m \u001b[0;32mnot\u001b[0m \u001b[0msum\u001b[0m\u001b[0;34m(\u001b[0m\u001b[0mv\u001b[0m\u001b[0;34m.\u001b[0m\u001b[0mitem\u001b[0m\u001b[0;34m(\u001b[0m\u001b[0;34m)\u001b[0m \u001b[0;32mfor\u001b[0m \u001b[0mv\u001b[0m \u001b[0;32min\u001b[0m \u001b[0moptimizer_state\u001b[0m\u001b[0;34m[\u001b[0m\u001b[0;34m\"found_inf_per_device\"\u001b[0m\u001b[0;34m]\u001b[0m\u001b[0;34m.\u001b[0m\u001b[0mvalues\u001b[0m\u001b[0;34m(\u001b[0m\u001b[0;34m)\u001b[0m\u001b[0;34m)\u001b[0m\u001b[0;34m:\u001b[0m\u001b[0;34m\u001b[0m\u001b[0;34m\u001b[0m\u001b[0m\n\u001b[0m\u001b[1;32m    360\u001b[0m             \u001b[0mretval\u001b[0m \u001b[0;34m=\u001b[0m \u001b[0moptimizer\u001b[0m\u001b[0;34m.\u001b[0m\u001b[0mstep\u001b[0m\u001b[0;34m(\u001b[0m\u001b[0;34m*\u001b[0m\u001b[0margs\u001b[0m\u001b[0;34m,\u001b[0m \u001b[0;34m**\u001b[0m\u001b[0mkwargs\u001b[0m\u001b[0;34m)\u001b[0m\u001b[0;34m\u001b[0m\u001b[0;34m\u001b[0m\u001b[0m\n\u001b[1;32m    361\u001b[0m         \u001b[0;32mreturn\u001b[0m \u001b[0mretval\u001b[0m\u001b[0;34m\u001b[0m\u001b[0;34m\u001b[0m\u001b[0m\n",
            "\u001b[0;32m/usr/local/lib/python3.12/dist-packages/torch/amp/grad_scaler.py\u001b[0m in \u001b[0;36m<genexpr>\u001b[0;34m(.0)\u001b[0m\n\u001b[1;32m    357\u001b[0m     ) -> Optional[float]:\n\u001b[1;32m    358\u001b[0m         \u001b[0mretval\u001b[0m\u001b[0;34m:\u001b[0m \u001b[0mOptional\u001b[0m\u001b[0;34m[\u001b[0m\u001b[0mfloat\u001b[0m\u001b[0;34m]\u001b[0m \u001b[0;34m=\u001b[0m \u001b[0;32mNone\u001b[0m\u001b[0;34m\u001b[0m\u001b[0;34m\u001b[0m\u001b[0m\n\u001b[0;32m--> 359\u001b[0;31m         \u001b[0;32mif\u001b[0m \u001b[0;32mnot\u001b[0m \u001b[0msum\u001b[0m\u001b[0;34m(\u001b[0m\u001b[0mv\u001b[0m\u001b[0;34m.\u001b[0m\u001b[0mitem\u001b[0m\u001b[0;34m(\u001b[0m\u001b[0;34m)\u001b[0m \u001b[0;32mfor\u001b[0m \u001b[0mv\u001b[0m \u001b[0;32min\u001b[0m \u001b[0moptimizer_state\u001b[0m\u001b[0;34m[\u001b[0m\u001b[0;34m\"found_inf_per_device\"\u001b[0m\u001b[0;34m]\u001b[0m\u001b[0;34m.\u001b[0m\u001b[0mvalues\u001b[0m\u001b[0;34m(\u001b[0m\u001b[0;34m)\u001b[0m\u001b[0;34m)\u001b[0m\u001b[0;34m:\u001b[0m\u001b[0;34m\u001b[0m\u001b[0;34m\u001b[0m\u001b[0m\n\u001b[0m\u001b[1;32m    360\u001b[0m             \u001b[0mretval\u001b[0m \u001b[0;34m=\u001b[0m \u001b[0moptimizer\u001b[0m\u001b[0;34m.\u001b[0m\u001b[0mstep\u001b[0m\u001b[0;34m(\u001b[0m\u001b[0;34m*\u001b[0m\u001b[0margs\u001b[0m\u001b[0;34m,\u001b[0m \u001b[0;34m**\u001b[0m\u001b[0mkwargs\u001b[0m\u001b[0;34m)\u001b[0m\u001b[0;34m\u001b[0m\u001b[0;34m\u001b[0m\u001b[0m\n\u001b[1;32m    361\u001b[0m         \u001b[0;32mreturn\u001b[0m \u001b[0mretval\u001b[0m\u001b[0;34m\u001b[0m\u001b[0;34m\u001b[0m\u001b[0m\n",
            "\u001b[0;31mKeyboardInterrupt\u001b[0m: "
          ]
        }
      ],
      "source": [
        "# Training Loop\n",
        "print(\"\\nStarting training...\\n\")\n",
        "\n",
        "for epoch in range(1, EPOCHS + 1):\n",
        "    # Train\n",
        "    train_loss, train_acc = train(\n",
        "        model, device, train_loader, optimizer, scheduler, warmup_scheduler, scaler, epoch,\n",
        "        use_mixup=True, mixup_alpha=0.2, label_smoothing=0.1\n",
        "    )\n",
        "\n",
        "    # Test\n",
        "    test_loss, test_acc = test(model, device, test_loader)\n",
        "\n",
        "    # Record metrics\n",
        "    train_losses.append(train_loss)\n",
        "    test_losses.append(test_loss)\n",
        "    train_accuracies.append(train_acc)\n",
        "    test_accuracies.append(test_acc)\n",
        "    learning_rates.append(optimizer.param_groups[0]['lr'])\n",
        "\n",
        "    # Save best model\n",
        "    if test_acc > best_test_acc:\n",
        "        best_test_acc = test_acc\n",
        "        patience_counter = 0\n",
        "        torch.save({\n",
        "            'epoch': epoch,\n",
        "            'model_state_dict': model.state_dict(),\n",
        "            'optimizer_state_dict': optimizer.state_dict(),\n",
        "            'test_accuracy': test_acc,\n",
        "            'train_accuracy': train_acc,\n",
        "        }, os.path.join(checkpoint_dir, 'best_model.pth'))\n",
        "        print(f\"*** New best model saved! Test Accuracy: {best_test_acc:.2f}% ***\")\n",
        "    else:\n",
        "        patience_counter += 1\n",
        "\n",
        "    # Early stopping\n",
        "    if patience_counter >= patience:\n",
        "        print(f\"\\nEarly stopping triggered at epoch {epoch}. No improvement for {patience} epochs.\")\n",
        "        break\n",
        "\n",
        "    # Check if target reached\n",
        "    if test_acc >= 74.0:\n",
        "        print(f\"\\n{'=' * 70}\")\n",
        "        print(f\"Target accuracy of 74% reached at epoch {epoch}!\")\n",
        "        print(f\"Final test accuracy: {test_acc:.2f}%\")\n",
        "        print(f\"{'=' * 70}\")\n",
        "        break\n",
        "\n",
        "    print(f\"Best Test Accuracy so far: {best_test_acc:.2f}% | Patience: {patience_counter}/{patience}\\n\")\n",
        "\n",
        "print(f\"\\nTraining completed. Best test accuracy: {best_test_acc:.2f}%\")"
      ]
    },
    {
      "cell_type": "code",
      "source": [
        "from huggingface_hub import HfApi\n",
        "\n",
        "repo_id='pandurangpatil/erases8'\n",
        "# Explicitly add the pytorch_model.bin file before pushing\n",
        "api = HfApi()\n",
        "api.upload_file(\n",
        "    path_or_fileobj=os.path.join(checkpoint_dir, 'best_model.pth'),\n",
        "    path_in_repo='best_model.pth',\n",
        "    repo_id=repo_id,\n",
        "    repo_type=\"model\",\n",
        ")\n",
        "\n",
        "print(f\"Model state dictionary saved locally to {os.path.join(checkpoint_dir, 'best_model.pth')} and uploaded to https://huggingface.co/{repo_id}\")"
      ],
      "metadata": {
        "colab": {
          "base_uri": "https://localhost:8080/",
          "height": 151,
          "referenced_widgets": [
            "c633ae4f2c424dc2ba81421491e7da5f",
            "ba52e2275d354734b0e9884ee9d8941c",
            "b6d5061cc56f422c9c1b0d6a7e667735",
            "c54812da5a83429b9850fca2333149ef",
            "05be7641454a4c7ba875e097404975d9",
            "fd1bab504933405baba7fd7b6b67ae5f",
            "46a935c7953945a7bc97545960685ba0",
            "2b390b0986e140478e836d53f4bd618b",
            "455449f7bb0343c292c380a75fd3f96c",
            "3aa07f78db034983887cfe44c8288e11",
            "a0e60a5139f94c7894595d9847741cc6",
            "8ec60b4f2710491689212600f118ff3d",
            "c056c3f4fa3d440fa32098bd01a00d3b",
            "6f6aeba6fb1a4ea7b4c7055067a421df",
            "7b046b615b324483899dc0d8b8fab34a",
            "901c8e510fcd4e598d25da05f21742ff",
            "9679430f864a40c29e5e52835f97e05b",
            "c21caabb2c6344d2bf2f4f16e688ac3c",
            "b37a3744fd224322bc7dc2ab14b513f5",
            "a4c9407a1b18409ca48402ae1e74d6ec",
            "5ca361a49b7143189dbb9e7e94ca7b48",
            "3f7ba449652f4caeb7cde1c074c5013f",
            "2166bee390d949c1ab20d30e6e3e1819",
            "ca99f8d2316c4fadb25e6dbb0f5ddaca",
            "8440ce0d4e7d438e93e7f7fc308d8d68",
            "96b1be94e6c14b3b89e8061d6e7ac2e2",
            "9611a059ba7340588fe7b1bf51ce6fa6",
            "2a7f07ddfb764604963179a6e7dc9469",
            "a783e2a0ba784f20a932c223b355ecdb",
            "f79be9a241df460cb035f144793d6ce0",
            "407b996861e949f2916fd16a6dd29f9c",
            "1cf97170ba434b7fb81930933a02c6a3",
            "dc15f62b9d7848598bdeea771b878791"
          ]
        },
        "id": "oepl2dKIS55p",
        "outputId": "a6f985d5-018a-47d6-8b68-80891f1e32fb"
      },
      "execution_count": 18,
      "outputs": [
        {
          "output_type": "display_data",
          "data": {
            "text/plain": [
              "Processing Files (0 / 0)      : |          |  0.00B /  0.00B            "
            ],
            "application/vnd.jupyter.widget-view+json": {
              "version_major": 2,
              "version_minor": 0,
              "model_id": "c633ae4f2c424dc2ba81421491e7da5f"
            }
          },
          "metadata": {}
        },
        {
          "output_type": "display_data",
          "data": {
            "text/plain": [
              "New Data Upload               : |          |  0.00B /  0.00B            "
            ],
            "application/vnd.jupyter.widget-view+json": {
              "version_major": 2,
              "version_minor": 0,
              "model_id": "8ec60b4f2710491689212600f118ff3d"
            }
          },
          "metadata": {}
        },
        {
          "output_type": "display_data",
          "data": {
            "text/plain": [
              "  ./checkpoints/best_model.pth:   0%|          |  553kB /  292MB            "
            ],
            "application/vnd.jupyter.widget-view+json": {
              "version_major": 2,
              "version_minor": 0,
              "model_id": "2166bee390d949c1ab20d30e6e3e1819"
            }
          },
          "metadata": {}
        },
        {
          "output_type": "stream",
          "name": "stdout",
          "text": [
            "Model state dictionary saved locally to ./checkpoints/best_model.pth and uploaded to https://huggingface.co/pandurangpatil/erases8\n"
          ]
        }
      ]
    },
    {
      "cell_type": "code",
      "metadata": {
        "colab": {
          "base_uri": "https://localhost:8080/",
          "height": 17,
          "referenced_widgets": [
            "356410918ab8422f92615461d39b0235",
            "c937d619b57a4dfc8bd3cbb11ef284f2",
            "984bf571d7574c83bd923be9477d5f6a",
            "d6468a1d3548492489e3c0ccc94dcdba",
            "317fbb81150e40688443419adeda9af4",
            "32f36b78541745fd88d175d7e85f2ab7",
            "f2d8d21fccef4315bb32770db8101f10",
            "13bf666d7e20486ca74b30d016d3c1bf",
            "351e7b4c06794f498ffab02959a6082f",
            "e834ea93249d4b2684902071bd12d070",
            "a02f240e19424c4cb08a742123379d9d",
            "7cea30bfd27c4c828d956c2fbddd1eeb",
            "edc9ded033da4f77b6ea1fec18f5634c",
            "71af4cec842542a19f4335236ecf0dbf",
            "87ba546102b9488b9bcbb4a161b59625",
            "e0fa3892461e4b10adfedbc39a1941b1",
            "59c818f903294546b48f2e97177c682f",
            "f205d78afce2401381ecec7d040f6537",
            "924240b50d664c83a6160fab073864cf",
            "c90afea89c3544759d72deb76f96b47a"
          ]
        },
        "id": "02b9c7bc",
        "outputId": "baa2d377-bd01-4265-fca6-48b62e932274"
      },
      "source": [
        "from huggingface_hub import notebook_login\n",
        "\n",
        "notebook_login()"
      ],
      "execution_count": 17,
      "outputs": [
        {
          "output_type": "display_data",
          "data": {
            "text/plain": [
              "VBox(children=(HTML(value='<center> <img\\nsrc=https://huggingface.co/front/assets/huggingface_logo-noborder.sv…"
            ],
            "application/vnd.jupyter.widget-view+json": {
              "version_major": 2,
              "version_minor": 0,
              "model_id": "356410918ab8422f92615461d39b0235"
            }
          },
          "metadata": {}
        }
      ]
    },
    {
      "cell_type": "code",
      "execution_count": 11,
      "metadata": {
        "colab": {
          "base_uri": "https://localhost:8080/",
          "height": 725
        },
        "id": "Hey5seQNzpN3",
        "outputId": "d6c8b1c7-4a1c-4035-e018-8a6abf8d8251"
      },
      "outputs": [
        {
          "output_type": "display_data",
          "data": {
            "text/plain": [
              "<Figure size 1500x1000 with 4 Axes>"
            ],
            "image/png": "[encoded data removed]"
          },
          "metadata": {}
        },
        {
          "output_type": "stream",
          "name": "stdout",
          "text": [
            "\n",
            "Final Statistics:\n",
            "Best Test Accuracy: 6.60%\n",
            "Final Train Accuracy: 4.02%\n",
            "Final Test Accuracy: 6.60%\n",
            "Final Train-Test Gap: -2.58%\n"
          ]
        }
      ],
      "source": [
        "# Plot training curves\n",
        "fig, axes = plt.subplots(2, 2, figsize=(15, 10))\n",
        "\n",
        "# Loss curves\n",
        "axes[0, 0].plot(train_losses, label='Train Loss', linewidth=2)\n",
        "axes[0, 0].plot(test_losses, label='Test Loss', linewidth=2)\n",
        "axes[0, 0].set_xlabel('Epoch')\n",
        "axes[0, 0].set_ylabel('Loss')\n",
        "axes[0, 0].set_title('Training and Test Loss')\n",
        "axes[0, 0].legend()\n",
        "axes[0, 0].grid(True)\n",
        "\n",
        "# Accuracy curves\n",
        "axes[0, 1].plot(train_accuracies, label='Train Accuracy', linewidth=2)\n",
        "axes[0, 1].plot(test_accuracies, label='Test Accuracy', linewidth=2)\n",
        "axes[0, 1].axhline(y=74, color='r', linestyle='--', label='Target (74%)')\n",
        "axes[0, 1].set_xlabel('Epoch')\n",
        "axes[0, 1].set_ylabel('Accuracy (%)')\n",
        "axes[0, 1].set_title('Training and Test Accuracy')\n",
        "axes[0, 1].legend()\n",
        "axes[0, 1].grid(True)\n",
        "\n",
        "# Learning rate\n",
        "axes[1, 0].plot(learning_rates, linewidth=2, color='green')\n",
        "axes[1, 0].set_xlabel('Epoch')\n",
        "axes[1, 0].set_ylabel('Learning Rate')\n",
        "axes[1, 0].set_title('Learning Rate Schedule')\n",
        "axes[1, 0].grid(True)\n",
        "\n",
        "# Gap between train and test accuracy (overfitting indicator)\n",
        "accuracy_gap = [train - test for train, test in zip(train_accuracies, test_accuracies)]\n",
        "axes[1, 1].plot(accuracy_gap, linewidth=2, color='orange')\n",
        "axes[1, 1].set_xlabel('Epoch')\n",
        "axes[1, 1].set_ylabel('Accuracy Gap (%)')\n",
        "axes[1, 1].set_title('Train-Test Accuracy Gap (Overfitting Indicator)')\n",
        "axes[1, 1].grid(True)\n",
        "\n",
        "plt.tight_layout()\n",
        "plt.savefig('training_curves.png', dpi=300, bbox_inches='tight')\n",
        "plt.show()\n",
        "\n",
        "print(f\"\\nFinal Statistics:\")\n",
        "print(f\"Best Test Accuracy: {best_test_acc:.2f}%\")\n",
        "print(f\"Final Train Accuracy: {train_accuracies[-1]:.2f}%\")\n",
        "print(f\"Final Test Accuracy: {test_accuracies[-1]:.2f}%\")\n",
        "print(f\"Final Train-Test Gap: {accuracy_gap[-1]:.2f}%\")"
      ]
    },
    {
      "cell_type": "code",
      "execution_count": 12,
      "metadata": {
        "colab": {
          "base_uri": "https://localhost:8080/"
        },
        "id": "EEo6NqCIzpN3",
        "outputId": "97fe2a60-3f3e-4d7e-8135-4a24a0ffa554"
      },
      "outputs": [
        {
          "output_type": "stream",
          "name": "stdout",
          "text": [
            "Loaded best model from epoch 1 with test accuracy: 6.60%\n",
            "\n",
            "Test set: Average loss: 4.1397, Accuracy: 660/10000 (6.60%)\n",
            "\n",
            "\n",
            "Final Test Accuracy: 6.60%\n"
          ]
        }
      ],
      "source": [
        "# Load best model and evaluate\n",
        "checkpoint = torch.load(os.path.join(checkpoint_dir, 'best_model.pth'))\n",
        "model.load_state_dict(checkpoint['model_state_dict'])\n",
        "print(f\"Loaded best model from epoch {checkpoint['epoch']} with test accuracy: {checkpoint['test_accuracy']:.2f}%\")\n",
        "\n",
        "# Final evaluation\n",
        "test_loss, test_acc = test(model, device, test_loader)\n",
        "print(f\"\\nFinal Test Accuracy: {test_acc:.2f}%\")"
      ]
    }
  ],
  "metadata": {
    "kernelspec": {
      "display_name": "Python 3",
      "name": "python3"
    },
    "language_info": {
      "codemirror_mode": {
        "name": "ipython",
        "version": 3
      },
      "file_extension": ".py",
      "mimetype": "text/x-python",
      "name": "python",
      "nbconvert_exporter": "python",
      "pygments_lexer": "ipython3",
      "version": "3.8.10"
    },
    "colab": {
      "provenance": [],
      "gpuType": "T4"
    },
    "accelerator": "GPU",
    "widgets": {
      "application/vnd.jupyter.widget-state+json": {
        "c633ae4f2c424dc2ba81421491e7da5f": {
          "model_module": "@jupyter-widgets/controls",
          "model_name": "HBoxModel",
          "model_module_version": "1.5.0",
          "state": {
            "_dom_classes": [],
            "_model_module": "@jupyter-widgets/controls",
            "_model_module_version": "1.5.0",
            "_model_name": "HBoxModel",
            "_view_count": null,
            "_view_module": "@jupyter-widgets/controls",
            "_view_module_version": "1.5.0",
            "_view_name": "HBoxView",
            "box_style": "",
            "children": [
              "IPY_MODEL_ba52e2275d354734b0e9884ee9d8941c",
              "IPY_MODEL_b6d5061cc56f422c9c1b0d6a7e667735",
              "IPY_MODEL_c54812da5a83429b9850fca2333149ef"
            ],
            "layout": "IPY_MODEL_05be7641454a4c7ba875e097404975d9"
          }
        },
        "ba52e2275d354734b0e9884ee9d8941c": {
          "model_module": "@jupyter-widgets/controls",
          "model_name": "HTMLModel",
          "model_module_version": "1.5.0",
          "state": {
            "_dom_classes": [],
            "_model_module": "@jupyter-widgets/controls",
            "_model_module_version": "1.5.0",
            "_model_name": "HTMLModel",
            "_view_count": null,
            "_view_module": "@jupyter-widgets/controls",
            "_view_module_version": "1.5.0",
            "_view_name": "HTMLView",
            "description": "",
            "description_tooltip": null,
            "layout": "IPY_MODEL_fd1bab504933405baba7fd7b6b67ae5f",
            "placeholder": "​",
            "style": "IPY_MODEL_46a935c7953945a7bc97545960685ba0",
            "value": "Processing Files (1 / 1)      : 100%"
          }
        },
        "b6d5061cc56f422c9c1b0d6a7e667735": {
          "model_module": "@jupyter-widgets/controls",
          "model_name": "FloatProgressModel",
          "model_module_version": "1.5.0",
          "state": {
            "_dom_classes": [],
            "_model_module": "@jupyter-widgets/controls",
            "_model_module_version": "1.5.0",
            "_model_name": "FloatProgressModel",
            "_view_count": null,
            "_view_module": "@jupyter-widgets/controls",
            "_view_module_version": "1.5.0",
            "_view_name": "ProgressView",
            "bar_style": "success",
            "description": "",
            "description_tooltip": null,
            "layout": "IPY_MODEL_2b390b0986e140478e836d53f4bd618b",
            "max": 1,
            "min": 0,
            "orientation": "horizontal",
            "style": "IPY_MODEL_455449f7bb0343c292c380a75fd3f96c",
            "value": 1
          }
        },
        "c54812da5a83429b9850fca2333149ef": {
          "model_module": "@jupyter-widgets/controls",
          "model_name": "HTMLModel",
          "model_module_version": "1.5.0",
          "state": {
            "_dom_classes": [],
            "_model_module": "@jupyter-widgets/controls",
            "_model_module_version": "1.5.0",
            "_model_name": "HTMLModel",
            "_view_count": null,
            "_view_module": "@jupyter-widgets/controls",
            "_view_module_version": "1.5.0",
            "_view_name": "HTMLView",
            "description": "",
            "description_tooltip": null,
            "layout": "IPY_MODEL_3aa07f78db034983887cfe44c8288e11",
            "placeholder": "​",
            "style": "IPY_MODEL_a0e60a5139f94c7894595d9847741cc6",
            "value": "  292MB /  292MB, 29.2MB/s  "
          }
        },
        "05be7641454a4c7ba875e097404975d9": {
          "model_module": "@jupyter-widgets/base",
          "model_name": "LayoutModel",
          "model_module_version": "1.2.0",
          "state": {
            "_model_module": "@jupyter-widgets/base",
            "_model_module_version": "1.2.0",
            "_model_name": "LayoutModel",
            "_view_count": null,
            "_view_module": "@jupyter-widgets/base",
            "_view_module_version": "1.2.0",
            "_view_name": "LayoutView",
            "align_content": null,
            "align_items": null,
            "align_self": null,
            "border": null,
            "bottom": null,
            "display": null,
            "flex": null,
            "flex_flow": null,
            "grid_area": null,
            "grid_auto_columns": null,
            "grid_auto_flow": null,
            "grid_auto_rows": null,
            "grid_column": null,
            "grid_gap": null,
            "grid_row": null,
            "grid_template_areas": null,
            "grid_template_columns": null,
            "grid_template_rows": null,
            "height": null,
            "justify_content": null,
            "justify_items": null,
            "left": null,
            "margin": null,
            "max_height": null,
            "max_width": null,
            "min_height": null,
            "min_width": null,
            "object_fit": null,
            "object_position": null,
            "order": null,
            "overflow": null,
            "overflow_x": null,
            "overflow_y": null,
            "padding": null,
            "right": null,
            "top": null,
            "visibility": null,
            "width": null
          }
        },
        "fd1bab504933405baba7fd7b6b67ae5f": {
          "model_module": "@jupyter-widgets/base",
          "model_name": "LayoutModel",
          "model_module_version": "1.2.0",
          "state": {
            "_model_module": "@jupyter-widgets/base",
            "_model_module_version": "1.2.0",
            "_model_name": "LayoutModel",
            "_view_count": null,
            "_view_module": "@jupyter-widgets/base",
            "_view_module_version": "1.2.0",
            "_view_name": "LayoutView",
            "align_content": null,
            "align_items": null,
            "align_self": null,
            "border": null,
            "bottom": null,
            "display": null,
            "flex": null,
            "flex_flow": null,
            "grid_area": null,
            "grid_auto_columns": null,
            "grid_auto_flow": null,
            "grid_auto_rows": null,
            "grid_column": null,
            "grid_gap": null,
            "grid_row": null,
            "grid_template_areas": null,
            "grid_template_columns": null,
            "grid_template_rows": null,
            "height": null,
            "justify_content": null,
            "justify_items": null,
            "left": null,
            "margin": null,
            "max_height": null,
            "max_width": null,
            "min_height": null,
            "min_width": null,
            "object_fit": null,
            "object_position": null,
            "order": null,
            "overflow": null,
            "overflow_x": null,
            "overflow_y": null,
            "padding": null,
            "right": null,
            "top": null,
            "visibility": null,
            "width": null
          }
        },
        "46a935c7953945a7bc97545960685ba0": {
          "model_module": "@jupyter-widgets/controls",
          "model_name": "DescriptionStyleModel",
          "model_module_version": "1.5.0",
          "state": {
            "_model_module": "@jupyter-widgets/controls",
            "_model_module_version": "1.5.0",
            "_model_name": "DescriptionStyleModel",
            "_view_count": null,
            "_view_module": "@jupyter-widgets/base",
            "_view_module_version": "1.2.0",
            "_view_name": "StyleView",
            "description_width": ""
          }
        },
        "2b390b0986e140478e836d53f4bd618b": {
          "model_module": "@jupyter-widgets/base",
          "model_name": "LayoutModel",
          "model_module_version": "1.2.0",
          "state": {
            "_model_module": "@jupyter-widgets/base",
            "_model_module_version": "1.2.0",
            "_model_name": "LayoutModel",
            "_view_count": null,
            "_view_module": "@jupyter-widgets/base",
            "_view_module_version": "1.2.0",
            "_view_name": "LayoutView",
            "align_content": null,
            "align_items": null,
            "align_self": null,
            "border": null,
            "bottom": null,
            "display": null,
            "flex": null,
            "flex_flow": null,
            "grid_area": null,
            "grid_auto_columns": null,
            "grid_auto_flow": null,
            "grid_auto_rows": null,
            "grid_column": null,
            "grid_gap": null,
            "grid_row": null,
            "grid_template_areas": null,
            "grid_template_columns": null,
            "grid_template_rows": null,
            "height": null,
            "justify_content": null,
            "justify_items": null,
            "left": null,
            "margin": null,
            "max_height": null,
            "max_width": null,
            "min_height": null,
            "min_width": null,
            "object_fit": null,
            "object_position": null,
            "order": null,
            "overflow": null,
            "overflow_x": null,
            "overflow_y": null,
            "padding": null,
            "right": null,
            "top": null,
            "visibility": null,
            "width": "20px"
          }
        },
        "455449f7bb0343c292c380a75fd3f96c": {
          "model_module": "@jupyter-widgets/controls",
          "model_name": "ProgressStyleModel",
          "model_module_version": "1.5.0",
          "state": {
            "_model_module": "@jupyter-widgets/controls",
            "_model_module_version": "1.5.0",
            "_model_name": "ProgressStyleModel",
            "_view_count": null,
            "_view_module": "@jupyter-widgets/base",
            "_view_module_version": "1.2.0",
            "_view_name": "StyleView",
            "bar_color": null,
            "description_width": ""
          }
        },
        "3aa07f78db034983887cfe44c8288e11": {
          "model_module": "@jupyter-widgets/base",
          "model_name": "LayoutModel",
          "model_module_version": "1.2.0",
          "state": {
            "_model_module": "@jupyter-widgets/base",
            "_model_module_version": "1.2.0",
            "_model_name": "LayoutModel",
            "_view_count": null,
            "_view_module": "@jupyter-widgets/base",
            "_view_module_version": "1.2.0",
            "_view_name": "LayoutView",
            "align_content": null,
            "align_items": null,
            "align_self": null,
            "border": null,
            "bottom": null,
            "display": null,
            "flex": null,
            "flex_flow": null,
            "grid_area": null,
            "grid_auto_columns": null,
            "grid_auto_flow": null,
            "grid_auto_rows": null,
            "grid_column": null,
            "grid_gap": null,
            "grid_row": null,
            "grid_template_areas": null,
            "grid_template_columns": null,
            "grid_template_rows": null,
            "height": null,
            "justify_content": null,
            "justify_items": null,
            "left": null,
            "margin": null,
            "max_height": null,
            "max_width": null,
            "min_height": null,
            "min_width": null,
            "object_fit": null,
            "object_position": null,
            "order": null,
            "overflow": null,
            "overflow_x": null,
            "overflow_y": null,
            "padding": null,
            "right": null,
            "top": null,
            "visibility": null,
            "width": null
          }
        },
        "a0e60a5139f94c7894595d9847741cc6": {
          "model_module": "@jupyter-widgets/controls",
          "model_name": "DescriptionStyleModel",
          "model_module_version": "1.5.0",
          "state": {
            "_model_module": "@jupyter-widgets/controls",
            "_model_module_version": "1.5.0",
            "_model_name": "DescriptionStyleModel",
            "_view_count": null,
            "_view_module": "@jupyter-widgets/base",
            "_view_module_version": "1.2.0",
            "_view_name": "StyleView",
            "description_width": ""
          }
        },
        "8ec60b4f2710491689212600f118ff3d": {
          "model_module": "@jupyter-widgets/controls",
          "model_name": "HBoxModel",
          "model_module_version": "1.5.0",
          "state": {
            "_dom_classes": [],
            "_model_module": "@jupyter-widgets/controls",
            "_model_module_version": "1.5.0",
            "_model_name": "HBoxModel",
            "_view_count": null,
            "_view_module": "@jupyter-widgets/controls",
            "_view_module_version": "1.5.0",
            "_view_name": "HBoxView",
            "box_style": "",
            "children": [
              "IPY_MODEL_c056c3f4fa3d440fa32098bd01a00d3b",
              "IPY_MODEL_6f6aeba6fb1a4ea7b4c7055067a421df",
              "IPY_MODEL_7b046b615b324483899dc0d8b8fab34a"
            ],
            "layout": "IPY_MODEL_901c8e510fcd4e598d25da05f21742ff"
          }
        },
        "c056c3f4fa3d440fa32098bd01a00d3b": {
          "model_module": "@jupyter-widgets/controls",
          "model_name": "HTMLModel",
          "model_module_version": "1.5.0",
          "state": {
            "_dom_classes": [],
            "_model_module": "@jupyter-widgets/controls",
            "_model_module_version": "1.5.0",
            "_model_name": "HTMLModel",
            "_view_count": null,
            "_view_module": "@jupyter-widgets/controls",
            "_view_module_version": "1.5.0",
            "_view_name": "HTMLView",
            "description": "",
            "description_tooltip": null,
            "layout": "IPY_MODEL_9679430f864a40c29e5e52835f97e05b",
            "placeholder": "​",
            "style": "IPY_MODEL_c21caabb2c6344d2bf2f4f16e688ac3c",
            "value": "New Data Upload               : 100%"
          }
        },
        "6f6aeba6fb1a4ea7b4c7055067a421df": {
          "model_module": "@jupyter-widgets/controls",
          "model_name": "FloatProgressModel",
          "model_module_version": "1.5.0",
          "state": {
            "_dom_classes": [],
            "_model_module": "@jupyter-widgets/controls",
            "_model_module_version": "1.5.0",
            "_model_name": "FloatProgressModel",
            "_view_count": null,
            "_view_module": "@jupyter-widgets/controls",
            "_view_module_version": "1.5.0",
            "_view_name": "ProgressView",
            "bar_style": "success",
            "description": "",
            "description_tooltip": null,
            "layout": "IPY_MODEL_b37a3744fd224322bc7dc2ab14b513f5",
            "max": 1,
            "min": 0,
            "orientation": "horizontal",
            "style": "IPY_MODEL_a4c9407a1b18409ca48402ae1e74d6ec",
            "value": 1
          }
        },
        "7b046b615b324483899dc0d8b8fab34a": {
          "model_module": "@jupyter-widgets/controls",
          "model_name": "HTMLModel",
          "model_module_version": "1.5.0",
          "state": {
            "_dom_classes": [],
            "_model_module": "@jupyter-widgets/controls",
            "_model_module_version": "1.5.0",
            "_model_name": "HTMLModel",
            "_view_count": null,
            "_view_module": "@jupyter-widgets/controls",
            "_view_module_version": "1.5.0",
            "_view_name": "HTMLView",
            "description": "",
            "description_tooltip": null,
            "layout": "IPY_MODEL_5ca361a49b7143189dbb9e7e94ca7b48",
            "placeholder": "​",
            "style": "IPY_MODEL_3f7ba449652f4caeb7cde1c074c5013f",
            "value": "  292MB /  292MB, 29.2MB/s  "
          }
        },
        "901c8e510fcd4e598d25da05f21742ff": {
          "model_module": "@jupyter-widgets/base",
          "model_name": "LayoutModel",
          "model_module_version": "1.2.0",
          "state": {
            "_model_module": "@jupyter-widgets/base",
            "_model_module_version": "1.2.0",
            "_model_name": "LayoutModel",
            "_view_count": null,
            "_view_module": "@jupyter-widgets/base",
            "_view_module_version": "1.2.0",
            "_view_name": "LayoutView",
            "align_content": null,
            "align_items": null,
            "align_self": null,
            "border": null,
            "bottom": null,
            "display": null,
            "flex": null,
            "flex_flow": null,
            "grid_area": null,
            "grid_auto_columns": null,
            "grid_auto_flow": null,
            "grid_auto_rows": null,
            "grid_column": null,
            "grid_gap": null,
            "grid_row": null,
            "grid_template_areas": null,
            "grid_template_columns": null,
            "grid_template_rows": null,
            "height": null,
            "justify_content": null,
            "justify_items": null,
            "left": null,
            "margin": null,
            "max_height": null,
            "max_width": null,
            "min_height": null,
            "min_width": null,
            "object_fit": null,
            "object_position": null,
            "order": null,
            "overflow": null,
            "overflow_x": null,
            "overflow_y": null,
            "padding": null,
            "right": null,
            "top": null,
            "visibility": null,
            "width": null
          }
        },
        "9679430f864a40c29e5e52835f97e05b": {
          "model_module": "@jupyter-widgets/base",
          "model_name": "LayoutModel",
          "model_module_version": "1.2.0",
          "state": {
            "_model_module": "@jupyter-widgets/base",
            "_model_module_version": "1.2.0",
            "_model_name": "LayoutModel",
            "_view_count": null,
            "_view_module": "@jupyter-widgets/base",
            "_view_module_version": "1.2.0",
            "_view_name": "LayoutView",
            "align_content": null,
            "align_items": null,
            "align_self": null,
            "border": null,
            "bottom": null,
            "display": null,
            "flex": null,
            "flex_flow": null,
            "grid_area": null,
            "grid_auto_columns": null,
            "grid_auto_flow": null,
            "grid_auto_rows": null,
            "grid_column": null,
            "grid_gap": null,
            "grid_row": null,
            "grid_template_areas": null,
            "grid_template_columns": null,
            "grid_template_rows": null,
            "height": null,
            "justify_content": null,
            "justify_items": null,
            "left": null,
            "margin": null,
            "max_height": null,
            "max_width": null,
            "min_height": null,
            "min_width": null,
            "object_fit": null,
            "object_position": null,
            "order": null,
            "overflow": null,
            "overflow_x": null,
            "overflow_y": null,
            "padding": null,
            "right": null,
            "top": null,
            "visibility": null,
            "width": null
          }
        },
        "c21caabb2c6344d2bf2f4f16e688ac3c": {
          "model_module": "@jupyter-widgets/controls",
          "model_name": "DescriptionStyleModel",
          "model_module_version": "1.5.0",
          "state": {
            "_model_module": "@jupyter-widgets/controls",
            "_model_module_version": "1.5.0",
            "_model_name": "DescriptionStyleModel",
            "_view_count": null,
            "_view_module": "@jupyter-widgets/base",
            "_view_module_version": "1.2.0",
            "_view_name": "StyleView",
            "description_width": ""
          }
        },
        "b37a3744fd224322bc7dc2ab14b513f5": {
          "model_module": "@jupyter-widgets/base",
          "model_name": "LayoutModel",
          "model_module_version": "1.2.0",
          "state": {
            "_model_module": "@jupyter-widgets/base",
            "_model_module_version": "1.2.0",
            "_model_name": "LayoutModel",
            "_view_count": null,
            "_view_module": "@jupyter-widgets/base",
            "_view_module_version": "1.2.0",
            "_view_name": "LayoutView",
            "align_content": null,
            "align_items": null,
            "align_self": null,
            "border": null,
            "bottom": null,
            "display": null,
            "flex": null,
            "flex_flow": null,
            "grid_area": null,
            "grid_auto_columns": null,
            "grid_auto_flow": null,
            "grid_auto_rows": null,
            "grid_column": null,
            "grid_gap": null,
            "grid_row": null,
            "grid_template_areas": null,
            "grid_template_columns": null,
            "grid_template_rows": null,
            "height": null,
            "justify_content": null,
            "justify_items": null,
            "left": null,
            "margin": null,
            "max_height": null,
            "max_width": null,
            "min_height": null,
            "min_width": null,
            "object_fit": null,
            "object_position": null,
            "order": null,
            "overflow": null,
            "overflow_x": null,
            "overflow_y": null,
            "padding": null,
            "right": null,
            "top": null,
            "visibility": null,
            "width": "20px"
          }
        },
        "a4c9407a1b18409ca48402ae1e74d6ec": {
          "model_module": "@jupyter-widgets/controls",
          "model_name": "ProgressStyleModel",
          "model_module_version": "1.5.0",
          "state": {
            "_model_module": "@jupyter-widgets/controls",
            "_model_module_version": "1.5.0",
            "_model_name": "ProgressStyleModel",
            "_view_count": null,
            "_view_module": "@jupyter-widgets/base",
            "_view_module_version": "1.2.0",
            "_view_name": "StyleView",
            "bar_color": null,
            "description_width": ""
          }
        },
        "5ca361a49b7143189dbb9e7e94ca7b48": {
          "model_module": "@jupyter-widgets/base",
          "model_name": "LayoutModel",
          "model_module_version": "1.2.0",
          "state": {
            "_model_module": "@jupyter-widgets/base",
            "_model_module_version": "1.2.0",
            "_model_name": "LayoutModel",
            "_view_count": null,
            "_view_module": "@jupyter-widgets/base",
            "_view_module_version": "1.2.0",
            "_view_name": "LayoutView",
            "align_content": null,
            "align_items": null,
            "align_self": null,
            "border": null,
            "bottom": null,
            "display": null,
            "flex": null,
            "flex_flow": null,
            "grid_area": null,
            "grid_auto_columns": null,
            "grid_auto_flow": null,
            "grid_auto_rows": null,
            "grid_column": null,
            "grid_gap": null,
            "grid_row": null,
            "grid_template_areas": null,
            "grid_template_columns": null,
            "grid_template_rows": null,
            "height": null,
            "justify_content": null,
            "justify_items": null,
            "left": null,
            "margin": null,
            "max_height": null,
            "max_width": null,
            "min_height": null,
            "min_width": null,
            "object_fit": null,
            "object_position": null,
            "order": null,
            "overflow": null,
            "overflow_x": null,
            "overflow_y": null,
            "padding": null,
            "right": null,
            "top": null,
            "visibility": null,
            "width": null
          }
        },
        "3f7ba449652f4caeb7cde1c074c5013f": {
          "model_module": "@jupyter-widgets/controls",
          "model_name": "DescriptionStyleModel",
          "model_module_version": "1.5.0",
          "state": {
            "_model_module": "@jupyter-widgets/controls",
            "_model_module_version": "1.5.0",
            "_model_name": "DescriptionStyleModel",
            "_view_count": null,
            "_view_module": "@jupyter-widgets/base",
            "_view_module_version": "1.2.0",
            "_view_name": "StyleView",
            "description_width": ""
          }
        },
        "2166bee390d949c1ab20d30e6e3e1819": {
          "model_module": "@jupyter-widgets/controls",
          "model_name": "HBoxModel",
          "model_module_version": "1.5.0",
          "state": {
            "_dom_classes": [],
            "_model_module": "@jupyter-widgets/controls",
            "_model_module_version": "1.5.0",
            "_model_name": "HBoxModel",
            "_view_count": null,
            "_view_module": "@jupyter-widgets/controls",
            "_view_module_version": "1.5.0",
            "_view_name": "HBoxView",
            "box_style": "",
            "children": [
              "IPY_MODEL_ca99f8d2316c4fadb25e6dbb0f5ddaca",
              "IPY_MODEL_8440ce0d4e7d438e93e7f7fc308d8d68",
              "IPY_MODEL_96b1be94e6c14b3b89e8061d6e7ac2e2"
            ],
            "layout": "IPY_MODEL_9611a059ba7340588fe7b1bf51ce6fa6"
          }
        },
        "ca99f8d2316c4fadb25e6dbb0f5ddaca": {
          "model_module": "@jupyter-widgets/controls",
          "model_name": "HTMLModel",
          "model_module_version": "1.5.0",
          "state": {
            "_dom_classes": [],
            "_model_module": "@jupyter-widgets/controls",
            "_model_module_version": "1.5.0",
            "_model_name": "HTMLModel",
            "_view_count": null,
            "_view_module": "@jupyter-widgets/controls",
            "_view_module_version": "1.5.0",
            "_view_name": "HTMLView",
            "description": "",
            "description_tooltip": null,
            "layout": "IPY_MODEL_2a7f07ddfb764604963179a6e7dc9469",
            "placeholder": "​",
            "style": "IPY_MODEL_a783e2a0ba784f20a932c223b355ecdb",
            "value": "  ./checkpoints/best_model.pth: 100%"
          }
        },
        "8440ce0d4e7d438e93e7f7fc308d8d68": {
          "model_module": "@jupyter-widgets/controls",
          "model_name": "FloatProgressModel",
          "model_module_version": "1.5.0",
          "state": {
            "_dom_classes": [],
            "_model_module": "@jupyter-widgets/controls",
            "_model_module_version": "1.5.0",
            "_model_name": "FloatProgressModel",
            "_view_count": null,
            "_view_module": "@jupyter-widgets/controls",
            "_view_module_version": "1.5.0",
            "_view_name": "ProgressView",
            "bar_style": "success",
            "description": "",
            "description_tooltip": null,
            "layout": "IPY_MODEL_f79be9a241df460cb035f144793d6ce0",
            "max": 292445500,
            "min": 0,
            "orientation": "horizontal",
            "style": "IPY_MODEL_407b996861e949f2916fd16a6dd29f9c",
            "value": 292445500
          }
        },
        "96b1be94e6c14b3b89e8061d6e7ac2e2": {
          "model_module": "@jupyter-widgets/controls",
          "model_name": "HTMLModel",
          "model_module_version": "1.5.0",
          "state": {
            "_dom_classes": [],
            "_model_module": "@jupyter-widgets/controls",
            "_model_module_version": "1.5.0",
            "_model_name": "HTMLModel",
            "_view_count": null,
            "_view_module": "@jupyter-widgets/controls",
            "_view_module_version": "1.5.0",
            "_view_name": "HTMLView",
            "description": "",
            "description_tooltip": null,
            "layout": "IPY_MODEL_1cf97170ba434b7fb81930933a02c6a3",
            "placeholder": "​",
            "style": "IPY_MODEL_dc15f62b9d7848598bdeea771b878791",
            "value": "  292MB /  292MB            "
          }
        },
        "9611a059ba7340588fe7b1bf51ce6fa6": {
          "model_module": "@jupyter-widgets/base",
          "model_name": "LayoutModel",
          "model_module_version": "1.2.0",
          "state": {
            "_model_module": "@jupyter-widgets/base",
            "_model_module_version": "1.2.0",
            "_model_name": "LayoutModel",
            "_view_count": null,
            "_view_module": "@jupyter-widgets/base",
            "_view_module_version": "1.2.0",
            "_view_name": "LayoutView",
            "align_content": null,
            "align_items": null,
            "align_self": null,
            "border": null,
            "bottom": null,
            "display": null,
            "flex": null,
            "flex_flow": null,
            "grid_area": null,
            "grid_auto_columns": null,
            "grid_auto_flow": null,
            "grid_auto_rows": null,
            "grid_column": null,
            "grid_gap": null,
            "grid_row": null,
            "grid_template_areas": null,
            "grid_template_columns": null,
            "grid_template_rows": null,
            "height": null,
            "justify_content": null,
            "justify_items": null,
            "left": null,
            "margin": null,
            "max_height": null,
            "max_width": null,
            "min_height": null,
            "min_width": null,
            "object_fit": null,
            "object_position": null,
            "order": null,
            "overflow": null,
            "overflow_x": null,
            "overflow_y": null,
            "padding": null,
            "right": null,
            "top": null,
            "visibility": null,
            "width": null
          }
        },
        "2a7f07ddfb764604963179a6e7dc9469": {
          "model_module": "@jupyter-widgets/base",
          "model_name": "LayoutModel",
          "model_module_version": "1.2.0",
          "state": {
            "_model_module": "@jupyter-widgets/base",
            "_model_module_version": "1.2.0",
            "_model_name": "LayoutModel",
            "_view_count": null,
            "_view_module": "@jupyter-widgets/base",
            "_view_module_version": "1.2.0",
            "_view_name": "LayoutView",
            "align_content": null,
            "align_items": null,
            "align_self": null,
            "border": null,
            "bottom": null,
            "display": null,
            "flex": null,
            "flex_flow": null,
            "grid_area": null,
            "grid_auto_columns": null,
            "grid_auto_flow": null,
            "grid_auto_rows": null,
            "grid_column": null,
            "grid_gap": null,
            "grid_row": null,
            "grid_template_areas": null,
            "grid_template_columns": null,
            "grid_template_rows": null,
            "height": null,
            "justify_content": null,
            "justify_items": null,
            "left": null,
            "margin": null,
            "max_height": null,
            "max_width": null,
            "min_height": null,
            "min_width": null,
            "object_fit": null,
            "object_position": null,
            "order": null,
            "overflow": null,
            "overflow_x": null,
            "overflow_y": null,
            "padding": null,
            "right": null,
            "top": null,
            "visibility": null,
            "width": null
          }
        },
        "a783e2a0ba784f20a932c223b355ecdb": {
          "model_module": "@jupyter-widgets/controls",
          "model_name": "DescriptionStyleModel",
          "model_module_version": "1.5.0",
          "state": {
            "_model_module": "@jupyter-widgets/controls",
            "_model_module_version": "1.5.0",
            "_model_name": "DescriptionStyleModel",
            "_view_count": null,
            "_view_module": "@jupyter-widgets/base",
            "_view_module_version": "1.2.0",
            "_view_name": "StyleView",
            "description_width": ""
          }
        },
        "f79be9a241df460cb035f144793d6ce0": {
          "model_module": "@jupyter-widgets/base",
          "model_name": "LayoutModel",
          "model_module_version": "1.2.0",
          "state": {
            "_model_module": "@jupyter-widgets/base",
            "_model_module_version": "1.2.0",
            "_model_name": "LayoutModel",
            "_view_count": null,
            "_view_module": "@jupyter-widgets/base",
            "_view_module_version": "1.2.0",
            "_view_name": "LayoutView",
            "align_content": null,
            "align_items": null,
            "align_self": null,
            "border": null,
            "bottom": null,
            "display": null,
            "flex": null,
            "flex_flow": null,
            "grid_area": null,
            "grid_auto_columns": null,
            "grid_auto_flow": null,
            "grid_auto_rows": null,
            "grid_column": null,
            "grid_gap": null,
            "grid_row": null,
            "grid_template_areas": null,
            "grid_template_columns": null,
            "grid_template_rows": null,
            "height": null,
            "justify_content": null,
            "justify_items": null,
            "left": null,
            "margin": null,
            "max_height": null,
            "max_width": null,
            "min_height": null,
            "min_width": null,
            "object_fit": null,
            "object_position": null,
            "order": null,
            "overflow": null,
            "overflow_x": null,
            "overflow_y": null,
            "padding": null,
            "right": null,
            "top": null,
            "visibility": null,
            "width": null
          }
        },
        "407b996861e949f2916fd16a6dd29f9c": {
          "model_module": "@jupyter-widgets/controls",
          "model_name": "ProgressStyleModel",
          "model_module_version": "1.5.0",
          "state": {
            "_model_module": "@jupyter-widgets/controls",
            "_model_module_version": "1.5.0",
            "_model_name": "ProgressStyleModel",
            "_view_count": null,
            "_view_module": "@jupyter-widgets/base",
            "_view_module_version": "1.2.0",
            "_view_name": "StyleView",
            "bar_color": null,
            "description_width": ""
          }
        },
        "1cf97170ba434b7fb81930933a02c6a3": {
          "model_module": "@jupyter-widgets/base",
          "model_name": "LayoutModel",
          "model_module_version": "1.2.0",
          "state": {
            "_model_module": "@jupyter-widgets/base",
            "_model_module_version": "1.2.0",
            "_model_name": "LayoutModel",
            "_view_count": null,
            "_view_module": "@jupyter-widgets/base",
            "_view_module_version": "1.2.0",
            "_view_name": "LayoutView",
            "align_content": null,
            "align_items": null,
            "align_self": null,
            "border": null,
            "bottom": null,
            "display": null,
            "flex": null,
            "flex_flow": null,
            "grid_area": null,
            "grid_auto_columns": null,
            "grid_auto_flow": null,
            "grid_auto_rows": null,
            "grid_column": null,
            "grid_gap": null,
            "grid_row": null,
            "grid_template_areas": null,
            "grid_template_columns": null,
            "grid_template_rows": null,
            "height": null,
            "justify_content": null,
            "justify_items": null,
            "left": null,
            "margin": null,
            "max_height": null,
            "max_width": null,
            "min_height": null,
            "min_width": null,
            "object_fit": null,
            "object_position": null,
            "order": null,
            "overflow": null,
            "overflow_x": null,
            "overflow_y": null,
            "padding": null,
            "right": null,
            "top": null,
            "visibility": null,
            "width": null
          }
        },
        "dc15f62b9d7848598bdeea771b878791": {
          "model_module": "@jupyter-widgets/controls",
          "model_name": "DescriptionStyleModel",
          "model_module_version": "1.5.0",
          "state": {
            "_model_module": "@jupyter-widgets/controls",
            "_model_module_version": "1.5.0",
            "_model_name": "DescriptionStyleModel",
            "_view_count": null,
            "_view_module": "@jupyter-widgets/base",
            "_view_module_version": "1.2.0",
            "_view_name": "StyleView",
            "description_width": ""
          }
        },
        "356410918ab8422f92615461d39b0235": {
          "model_module": "@jupyter-widgets/controls",
          "model_name": "VBoxModel",
          "model_module_version": "1.5.0",
          "state": {
            "_dom_classes": [],
            "_model_module": "@jupyter-widgets/controls",
            "_model_module_version": "1.5.0",
            "_model_name": "VBoxModel",
            "_view_count": null,
            "_view_module": "@jupyter-widgets/controls",
            "_view_module_version": "1.5.0",
            "_view_name": "VBoxView",
            "box_style": "",
            "children": [],
            "layout": "IPY_MODEL_f2d8d21fccef4315bb32770db8101f10"
          }
        },
        "c937d619b57a4dfc8bd3cbb11ef284f2": {
          "model_module": "@jupyter-widgets/controls",
          "model_name": "HTMLModel",
          "model_module_version": "1.5.0",
          "state": {
            "_dom_classes": [],
            "_model_module": "@jupyter-widgets/controls",
            "_model_module_version": "1.5.0",
            "_model_name": "HTMLModel",
            "_view_count": null,
            "_view_module": "@jupyter-widgets/controls",
            "_view_module_version": "1.5.0",
            "_view_name": "HTMLView",
            "description": "",
            "description_tooltip": null,
            "layout": "IPY_MODEL_13bf666d7e20486ca74b30d016d3c1bf",
            "placeholder": "​",
            "style": "IPY_MODEL_351e7b4c06794f498ffab02959a6082f",
            "value": "<center> <img\nsrc=https://huggingface.co/front/assets/huggingface_logo-noborder.svg\nalt='Hugging Face'> <br> Copy a token from <a\nhref=\"https://huggingface.co/settings/tokens\" target=\"_blank\">your Hugging Face\ntokens page</a> and paste it below. <br> Immediately click login after copying\nyour token or it might be stored in plain text in this notebook file. </center>"
          }
        },
        "984bf571d7574c83bd923be9477d5f6a": {
          "model_module": "@jupyter-widgets/controls",
          "model_name": "PasswordModel",
          "model_module_version": "1.5.0",
          "state": {
            "_dom_classes": [],
            "_model_module": "@jupyter-widgets/controls",
            "_model_module_version": "1.5.0",
            "_model_name": "PasswordModel",
            "_view_count": null,
            "_view_module": "@jupyter-widgets/controls",
            "_view_module_version": "1.5.0",
            "_view_name": "PasswordView",
            "continuous_update": true,
            "description": "Token:",
            "description_tooltip": null,
            "disabled": false,
            "layout": "IPY_MODEL_e834ea93249d4b2684902071bd12d070",
            "placeholder": "​",
            "style": "IPY_MODEL_a02f240e19424c4cb08a742123379d9d",
            "value": ""
          }
        },
        "d6468a1d3548492489e3c0ccc94dcdba": {
          "model_module": "@jupyter-widgets/controls",
          "model_name": "CheckboxModel",
          "model_module_version": "1.5.0",
          "state": {
            "_dom_classes": [],
            "_model_module": "@jupyter-widgets/controls",
            "_model_module_version": "1.5.0",
            "_model_name": "CheckboxModel",
            "_view_count": null,
            "_view_module": "@jupyter-widgets/controls",
            "_view_module_version": "1.5.0",
            "_view_name": "CheckboxView",
            "description": "Add token as git credential?",
            "description_tooltip": null,
            "disabled": false,
            "indent": true,
            "layout": "IPY_MODEL_7cea30bfd27c4c828d956c2fbddd1eeb",
            "style": "IPY_MODEL_edc9ded033da4f77b6ea1fec18f5634c",
            "value": true
          }
        },
        "317fbb81150e40688443419adeda9af4": {
          "model_module": "@jupyter-widgets/controls",
          "model_name": "ButtonModel",
          "model_module_version": "1.5.0",
          "state": {
            "_dom_classes": [],
            "_model_module": "@jupyter-widgets/controls",
            "_model_module_version": "1.5.0",
            "_model_name": "ButtonModel",
            "_view_count": null,
            "_view_module": "@jupyter-widgets/controls",
            "_view_module_version": "1.5.0",
            "_view_name": "ButtonView",
            "button_style": "",
            "description": "Login",
            "disabled": false,
            "icon": "",
            "layout": "IPY_MODEL_71af4cec842542a19f4335236ecf0dbf",
            "style": "IPY_MODEL_87ba546102b9488b9bcbb4a161b59625",
            "tooltip": ""
          }
        },
        "32f36b78541745fd88d175d7e85f2ab7": {
          "model_module": "@jupyter-widgets/controls",
          "model_name": "HTMLModel",
          "model_module_version": "1.5.0",
          "state": {
            "_dom_classes": [],
            "_model_module": "@jupyter-widgets/controls",
            "_model_module_version": "1.5.0",
            "_model_name": "HTMLModel",
            "_view_count": null,
            "_view_module": "@jupyter-widgets/controls",
            "_view_module_version": "1.5.0",
            "_view_name": "HTMLView",
            "description": "",
            "description_tooltip": null,
            "layout": "IPY_MODEL_e0fa3892461e4b10adfedbc39a1941b1",
            "placeholder": "​",
            "style": "IPY_MODEL_59c818f903294546b48f2e97177c682f",
            "value": "\n<b>Pro Tip:</b> If you don't already have one, you can create a dedicated\n'notebooks' token with 'write' access, that you can then easily reuse for all\nnotebooks. </center>"
          }
        },
        "f2d8d21fccef4315bb32770db8101f10": {
          "model_module": "@jupyter-widgets/base",
          "model_name": "LayoutModel",
          "model_module_version": "1.2.0",
          "state": {
            "_model_module": "@jupyter-widgets/base",
            "_model_module_version": "1.2.0",
            "_model_name": "LayoutModel",
            "_view_count": null,
            "_view_module": "@jupyter-widgets/base",
            "_view_module_version": "1.2.0",
            "_view_name": "LayoutView",
            "align_content": null,
            "align_items": "center",
            "align_self": null,
            "border": null,
            "bottom": null,
            "display": "flex",
            "flex": null,
            "flex_flow": "column",
            "grid_area": null,
            "grid_auto_columns": null,
            "grid_auto_flow": null,
            "grid_auto_rows": null,
            "grid_column": null,
            "grid_gap": null,
            "grid_row": null,
            "grid_template_areas": null,
            "grid_template_columns": null,
            "grid_template_rows": null,
            "height": null,
            "justify_content": null,
            "justify_items": null,
            "left": null,
            "margin": null,
            "max_height": null,
            "max_width": null,
            "min_height": null,
            "min_width": null,
            "object_fit": null,
            "object_position": null,
            "order": null,
            "overflow": null,
            "overflow_x": null,
            "overflow_y": null,
            "padding": null,
            "right": null,
            "top": null,
            "visibility": null,
            "width": "50%"
          }
        },
        "13bf666d7e20486ca74b30d016d3c1bf": {
          "model_module": "@jupyter-widgets/base",
          "model_name": "LayoutModel",
          "model_module_version": "1.2.0",
          "state": {
            "_model_module": "@jupyter-widgets/base",
            "_model_module_version": "1.2.0",
            "_model_name": "LayoutModel",
            "_view_count": null,
            "_view_module": "@jupyter-widgets/base",
            "_view_module_version": "1.2.0",
            "_view_name": "LayoutView",
            "align_content": null,
            "align_items": null,
            "align_self": null,
            "border": null,
            "bottom": null,
            "display": null,
            "flex": null,
            "flex_flow": null,
            "grid_area": null,
            "grid_auto_columns": null,
            "grid_auto_flow": null,
            "grid_auto_rows": null,
            "grid_column": null,
            "grid_gap": null,
            "grid_row": null,
            "grid_template_areas": null,
            "grid_template_columns": null,
            "grid_template_rows": null,
            "height": null,
            "justify_content": null,
            "justify_items": null,
            "left": null,
            "margin": null,
            "max_height": null,
            "max_width": null,
            "min_height": null,
            "min_width": null,
            "object_fit": null,
            "object_position": null,
            "order": null,
            "overflow": null,
            "overflow_x": null,
            "overflow_y": null,
            "padding": null,
            "right": null,
            "top": null,
            "visibility": null,
            "width": null
          }
        },
        "351e7b4c06794f498ffab02959a6082f": {
          "model_module": "@jupyter-widgets/controls",
          "model_name": "DescriptionStyleModel",
          "model_module_version": "1.5.0",
          "state": {
            "_model_module": "@jupyter-widgets/controls",
            "_model_module_version": "1.5.0",
            "_model_name": "DescriptionStyleModel",
            "_view_count": null,
            "_view_module": "@jupyter-widgets/base",
            "_view_module_version": "1.2.0",
            "_view_name": "StyleView",
            "description_width": ""
          }
        },
        "e834ea93249d4b2684902071bd12d070": {
          "model_module": "@jupyter-widgets/base",
          "model_name": "LayoutModel",
          "model_module_version": "1.2.0",
          "state": {
            "_model_module": "@jupyter-widgets/base",
            "_model_module_version": "1.2.0",
            "_model_name": "LayoutModel",
            "_view_count": null,
            "_view_module": "@jupyter-widgets/base",
            "_view_module_version": "1.2.0",
            "_view_name": "LayoutView",
            "align_content": null,
            "align_items": null,
            "align_self": null,
            "border": null,
            "bottom": null,
            "display": null,
            "flex": null,
            "flex_flow": null,
            "grid_area": null,
            "grid_auto_columns": null,
            "grid_auto_flow": null,
            "grid_auto_rows": null,
            "grid_column": null,
            "grid_gap": null,
            "grid_row": null,
            "grid_template_areas": null,
            "grid_template_columns": null,
            "grid_template_rows": null,
            "height": null,
            "justify_content": null,
            "justify_items": null,
            "left": null,
            "margin": null,
            "max_height": null,
            "max_width": null,
            "min_height": null,
            "min_width": null,
            "object_fit": null,
            "object_position": null,
            "order": null,
            "overflow": null,
            "overflow_x": null,
            "overflow_y": null,
            "padding": null,
            "right": null,
            "top": null,
            "visibility": null,
            "width": null
          }
        },
        "a02f240e19424c4cb08a742123379d9d": {
          "model_module": "@jupyter-widgets/controls",
          "model_name": "DescriptionStyleModel",
          "model_module_version": "1.5.0",
          "state": {
            "_model_module": "@jupyter-widgets/controls",
            "_model_module_version": "1.5.0",
            "_model_name": "DescriptionStyleModel",
            "_view_count": null,
            "_view_module": "@jupyter-widgets/base",
            "_view_module_version": "1.2.0",
            "_view_name": "StyleView",
            "description_width": ""
          }
        },
        "7cea30bfd27c4c828d956c2fbddd1eeb": {
          "model_module": "@jupyter-widgets/base",
          "model_name": "LayoutModel",
          "model_module_version": "1.2.0",
          "state": {
            "_model_module": "@jupyter-widgets/base",
            "_model_module_version": "1.2.0",
            "_model_name": "LayoutModel",
            "_view_count": null,
            "_view_module": "@jupyter-widgets/base",
            "_view_module_version": "1.2.0",
            "_view_name": "LayoutView",
            "align_content": null,
            "align_items": null,
            "align_self": null,
            "border": null,
            "bottom": null,
            "display": null,
            "flex": null,
            "flex_flow": null,
            "grid_area": null,
            "grid_auto_columns": null,
            "grid_auto_flow": null,
            "grid_auto_rows": null,
            "grid_column": null,
            "grid_gap": null,
            "grid_row": null,
            "grid_template_areas": null,
            "grid_template_columns": null,
            "grid_template_rows": null,
            "height": null,
            "justify_content": null,
            "justify_items": null,
            "left": null,
            "margin": null,
            "max_height": null,
            "max_width": null,
            "min_height": null,
            "min_width": null,
            "object_fit": null,
            "object_position": null,
            "order": null,
            "overflow": null,
            "overflow_x": null,
            "overflow_y": null,
            "padding": null,
            "right": null,
            "top": null,
            "visibility": null,
            "width": null
          }
        },
        "edc9ded033da4f77b6ea1fec18f5634c": {
          "model_module": "@jupyter-widgets/controls",
          "model_name": "DescriptionStyleModel",
          "model_module_version": "1.5.0",
          "state": {
            "_model_module": "@jupyter-widgets/controls",
            "_model_module_version": "1.5.0",
            "_model_name": "DescriptionStyleModel",
            "_view_count": null,
            "_view_module": "@jupyter-widgets/base",
            "_view_module_version": "1.2.0",
            "_view_name": "StyleView",
            "description_width": ""
          }
        },
        "71af4cec842542a19f4335236ecf0dbf": {
          "model_module": "@jupyter-widgets/base",
          "model_name": "LayoutModel",
          "model_module_version": "1.2.0",
          "state": {
            "_model_module": "@jupyter-widgets/base",
            "_model_module_version": "1.2.0",
            "_model_name": "LayoutModel",
            "_view_count": null,
            "_view_module": "@jupyter-widgets/base",
            "_view_module_version": "1.2.0",
            "_view_name": "LayoutView",
            "align_content": null,
            "align_items": null,
            "align_self": null,
            "border": null,
            "bottom": null,
            "display": null,
            "flex": null,
            "flex_flow": null,
            "grid_area": null,
            "grid_auto_columns": null,
            "grid_auto_flow": null,
            "grid_auto_rows": null,
            "grid_column": null,
            "grid_gap": null,
            "grid_row": null,
            "grid_template_areas": null,
            "grid_template_columns": null,
            "grid_template_rows": null,
            "height": null,
            "justify_content": null,
            "justify_items": null,
            "left": null,
            "margin": null,
            "max_height": null,
            "max_width": null,
            "min_height": null,
            "min_width": null,
            "object_fit": null,
            "object_position": null,
            "order": null,
            "overflow": null,
            "overflow_x": null,
            "overflow_y": null,
            "padding": null,
            "right": null,
            "top": null,
            "visibility": null,
            "width": null
          }
        },
        "87ba546102b9488b9bcbb4a161b59625": {
          "model_module": "@jupyter-widgets/controls",
          "model_name": "ButtonStyleModel",
          "model_module_version": "1.5.0",
          "state": {
            "_model_module": "@jupyter-widgets/controls",
            "_model_module_version": "1.5.0",
            "_model_name": "ButtonStyleModel",
            "_view_count": null,
            "_view_module": "@jupyter-widgets/base",
            "_view_module_version": "1.2.0",
            "_view_name": "StyleView",
            "button_color": null,
            "font_weight": ""
          }
        },
        "e0fa3892461e4b10adfedbc39a1941b1": {
          "model_module": "@jupyter-widgets/base",
          "model_name": "LayoutModel",
          "model_module_version": "1.2.0",
          "state": {
            "_model_module": "@jupyter-widgets/base",
            "_model_module_version": "1.2.0",
            "_model_name": "LayoutModel",
            "_view_count": null,
            "_view_module": "@jupyter-widgets/base",
            "_view_module_version": "1.2.0",
            "_view_name": "LayoutView",
            "align_content": null,
            "align_items": null,
            "align_self": null,
            "border": null,
            "bottom": null,
            "display": null,
            "flex": null,
            "flex_flow": null,
            "grid_area": null,
            "grid_auto_columns": null,
            "grid_auto_flow": null,
            "grid_auto_rows": null,
            "grid_column": null,
            "grid_gap": null,
            "grid_row": null,
            "grid_template_areas": null,
            "grid_template_columns": null,
            "grid_template_rows": null,
            "height": null,
            "justify_content": null,
            "justify_items": null,
            "left": null,
            "margin": null,
            "max_height": null,
            "max_width": null,
            "min_height": null,
            "min_width": null,
            "object_fit": null,
            "object_position": null,
            "order": null,
            "overflow": null,
            "overflow_x": null,
            "overflow_y": null,
            "padding": null,
            "right": null,
            "top": null,
            "visibility": null,
            "width": null
          }
        },
        "59c818f903294546b48f2e97177c682f": {
          "model_module": "@jupyter-widgets/controls",
          "model_name": "DescriptionStyleModel",
          "model_module_version": "1.5.0",
          "state": {
            "_model_module": "@jupyter-widgets/controls",
            "_model_module_version": "1.5.0",
            "_model_name": "DescriptionStyleModel",
            "_view_count": null,
            "_view_module": "@jupyter-widgets/base",
            "_view_module_version": "1.2.0",
            "_view_name": "StyleView",
            "description_width": ""
          }
        },
        "f205d78afce2401381ecec7d040f6537": {
          "model_module": "@jupyter-widgets/controls",
          "model_name": "LabelModel",
          "model_module_version": "1.5.0",
          "state": {
            "_dom_classes": [],
            "_model_module": "@jupyter-widgets/controls",
            "_model_module_version": "1.5.0",
            "_model_name": "LabelModel",
            "_view_count": null,
            "_view_module": "@jupyter-widgets/controls",
            "_view_module_version": "1.5.0",
            "_view_name": "LabelView",
            "description": "",
            "description_tooltip": null,
            "layout": "IPY_MODEL_924240b50d664c83a6160fab073864cf",
            "placeholder": "​",
            "style": "IPY_MODEL_c90afea89c3544759d72deb76f96b47a",
            "value": "Connecting..."
          }
        },
        "924240b50d664c83a6160fab073864cf": {
          "model_module": "@jupyter-widgets/base",
          "model_name": "LayoutModel",
          "model_module_version": "1.2.0",
          "state": {
            "_model_module": "@jupyter-widgets/base",
            "_model_module_version": "1.2.0",
            "_model_name": "LayoutModel",
            "_view_count": null,
            "_view_module": "@jupyter-widgets/base",
            "_view_module_version": "1.2.0",
            "_view_name": "LayoutView",
            "align_content": null,
            "align_items": null,
            "align_self": null,
            "border": null,
            "bottom": null,
            "display": null,
            "flex": null,
            "flex_flow": null,
            "grid_area": null,
            "grid_auto_columns": null,
            "grid_auto_flow": null,
            "grid_auto_rows": null,
            "grid_column": null,
            "grid_gap": null,
            "grid_row": null,
            "grid_template_areas": null,
            "grid_template_columns": null,
            "grid_template_rows": null,
            "height": null,
            "justify_content": null,
            "justify_items": null,
            "left": null,
            "margin": null,
            "max_height": null,
            "max_width": null,
            "min_height": null,
            "min_width": null,
            "object_fit": null,
            "object_position": null,
            "order": null,
            "overflow": null,
            "overflow_x": null,
            "overflow_y": null,
            "padding": null,
            "right": null,
            "top": null,
            "visibility": null,
            "width": null
          }
        },
        "c90afea89c3544759d72deb76f96b47a": {
          "model_module": "@jupyter-widgets/controls",
          "model_name": "DescriptionStyleModel",
          "model_module_version": "1.5.0",
          "state": {
            "_model_module": "@jupyter-widgets/controls",
            "_model_module_version": "1.5.0",
            "_model_name": "DescriptionStyleModel",
            "_view_count": null,
            "_view_module": "@jupyter-widgets/base",
            "_view_module_version": "1.2.0",
            "_view_name": "StyleView",
            "description_width": ""
          }
        }
      }
    }
  },
  "nbformat": 4,
  "nbformat_minor": 0
}