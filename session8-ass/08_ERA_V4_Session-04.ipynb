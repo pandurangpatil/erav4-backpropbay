{
 "cells": [
  {
   "cell_type": "markdown",
   "metadata": {
    "id": "fcug3l2NO0IF"
   },
   "source": [
    "# CIFAR-100 Training - Session 04 (Aggressive Optimization)\n",
    "\n",
    "## Target: 75-76% Accuracy in 100 Epochs\n",
    "\n",
    "### Aggressive Optimization Strategy:\n",
    "1. **Progressive Augmentation** (3 phases): Heavy \u2192 Reduced \u2192 Minimal\n",
    "2. **Dynamic Dropout**: 0.3 \u2192 0.2 \u2192 0.1\n",
    "3. **Two-Phase LR**: Fast cycles (T_0=20) \u2192 Smooth decay\n",
    "4. **Increased Max LR**: 0.15 (from 0.1)\n",
    "5. **Progressive MixUp**: 0.2 \u2192 0.15 \u2192 OFF\n",
    "6. **Progressive Label Smoothing**: 0.1 \u2192 0.05\n",
    "\n",
    "### Storage Strategy:\n",
    "- **Google Drive**: All checkpoints (auto-cleanup keeps last 5)\n",
    "- **HuggingFace**: Upload every 10 epochs + best model\n",
    "\n",
    "### Improvements from Session-02 (71.20%):\n",
    "- Expected gain: +4-5% (target: 75-76%)"
   ]
  },
  {
   "cell_type": "code",
   "execution_count": 1,
   "metadata": {
    "colab": {
     "base_uri": "https://localhost:8080/"
    },
    "id": "9yjv1gZzO0IG",
    "executionInfo": {
     "status": "ok",
     "timestamp": 1760185565704,
     "user_tz": -330,
     "elapsed": 17804,
     "user": {
      "displayName": "Rutu Patil",
      "userId": "02443084829174226347"
     }
    },
    "outputId": "aacb3692-738a-4be5-86de-e9842e54d61b"
   },
   "outputs": [
    {
     "output_type": "stream",
     "name": "stdout",
     "text": [
      "Device: cuda\n",
      "PyTorch version: 2.8.0+cu126\n"
     ]
    }
   ],
   "source": [
    "# Import Libraries\n",
    "import torch\n",
    "import numpy as np\n",
    "from torchvision import datasets, transforms\n",
    "from torch.utils.data import DataLoader\n",
    "import albumentations as A\n",
    "from albumentations.pytorch import ToTensorV2\n",
    "from PIL import Image\n",
    "import torch.optim as optim\n",
    "from torch.optim.lr_scheduler import CosineAnnealingWarmRestarts, CosineAnnealingLR\n",
    "from tqdm import tqdm\n",
    "import torch.nn.functional as F\n",
    "import torch.nn as nn\n",
    "from torchsummary import summary\n",
    "from torch.cuda.amp import autocast, GradScaler\n",
    "import matplotlib.pyplot as plt\n",
    "import os\n",
    "import json\n",
    "import shutil\n",
    "from datetime import datetime\n",
    "\n",
    "# CIFAR-100 Mean and Std\n",
    "cifar100_mean = (0.5071, 0.4865, 0.4409)\n",
    "cifar100_std = (0.2673, 0.2564, 0.2761)\n",
    "\n",
    "# Use GPU if available\n",
    "device = torch.device(\"cuda\" if torch.cuda.is_available() else \"cpu\")\n",
    "print(f\"Device: {device}\")\n",
    "print(f\"PyTorch version: {torch.__version__}\")"
   ]
  },
  {
   "cell_type": "code",
   "execution_count": 2,
   "metadata": {
    "colab": {
     "base_uri": "https://localhost:8080/"
    },
    "id": "cXPd8VMYO0IH",
    "executionInfo": {
     "status": "ok",
     "timestamp": 1760185632972,
     "user_tz": -330,
     "elapsed": 67265,
     "user": {
      "displayName": "Rutu Patil",
      "userId": "02443084829174226347"
     }
    },
    "outputId": "01a0de9c-d17c-4914-917e-0a33796e520a"
   },
   "outputs": [
    {
     "output_type": "stream",
     "name": "stdout",
     "text": [
      "Mounted at /content/drive\n",
      "\u2713 Google Drive mounted: /content/drive/MyDrive/cifar100_checkpoints_session04\n"
     ]
    }
   ],
   "source": [
    "# Mount Google Drive for checkpoint storage\n",
    "try:\n",
    "    from google.colab import drive\n",
    "    drive.mount('/content/drive')\n",
    "    GDRIVE_DIR = '/content/drive/MyDrive/cifar100_checkpoints_session04'\n",
    "    os.makedirs(GDRIVE_DIR, exist_ok=True)\n",
    "    print(f\"\u2713 Google Drive mounted: {GDRIVE_DIR}\")\n",
    "    USE_GDRIVE = True\n",
    "except:\n",
    "    print(\"\u26a0 Google Drive not available (not running in Colab)\")\n",
    "    GDRIVE_DIR = './checkpoints_gdrive_backup'\n",
    "    os.makedirs(GDRIVE_DIR, exist_ok=True)\n",
    "    USE_GDRIVE = False"
   ]
  },
  {
   "cell_type": "code",
   "execution_count": 3,
   "metadata": {
    "colab": {
     "base_uri": "https://localhost:8080/"
    },
    "id": "n8RuFkrgO0IH",
    "executionInfo": {
     "status": "ok",
     "timestamp": 1760185639152,
     "user_tz": -330,
     "elapsed": 6172,
     "user": {
      "displayName": "Rutu Patil",
      "userId": "02443084829174226347"
     }
    },
    "outputId": "8007cfc1-8a86-45a4-d545-ae197f72a1a0"
   },
   "outputs": [
    {
     "output_type": "stream",
     "name": "stdout",
     "text": [
      "\u2713 HuggingFace token retrieved from Colab secrets\n",
      "\u2713 HuggingFace repository ready: https://huggingface.co/pandurangpatil/cifar100-wideresnet-session04\n"
     ]
    }
   ],
   "source": [
    "# HuggingFace Setup\n",
    "try:\n",
    "    from google.colab import userdata\n",
    "    HF_TOKEN = userdata.get('HF_TOKEN')\n",
    "    print(\"\u2713 HuggingFace token retrieved from Colab secrets\")\n",
    "except Exception as e:\n",
    "    print(f\"Warning: Could not retrieve HF_TOKEN: {e}\")\n",
    "    HF_TOKEN = None\n",
    "\n",
    "try:\n",
    "    from huggingface_hub import HfApi, create_repo\n",
    "except ImportError:\n",
    "    !pip install -q huggingface_hub\n",
    "    from huggingface_hub import HfApi, create_repo\n",
    "\n",
    "REPO_ID = 'pandurangpatil/cifar100-wideresnet-session04'\n",
    "api = HfApi()\n",
    "\n",
    "if HF_TOKEN:\n",
    "    try:\n",
    "        create_repo(repo_id=REPO_ID, repo_type=\"model\", exist_ok=True, token=HF_TOKEN)\n",
    "        print(f\"\u2713 HuggingFace repository ready: https://huggingface.co/{REPO_ID}\")\n",
    "    except Exception as e:\n",
    "        print(f\"Warning: Could not create repository: {e}\")\n",
    "else:\n",
    "    print(\"\u26a0 HuggingFace upload will be skipped (no token)\")"
   ]
  },
  {
   "cell_type": "code",
   "execution_count": 4,
   "metadata": {
    "colab": {
     "base_uri": "https://localhost:8080/"
    },
    "id": "n0RPM3vpO0IH",
    "executionInfo": {
     "status": "ok",
     "timestamp": 1760185639178,
     "user_tz": -330,
     "elapsed": 25,
     "user": {
      "displayName": "Rutu Patil",
      "userId": "02443084829174226347"
     }
    },
    "outputId": "c65985d4-83b1-40b9-e03b-a42a63fac1c8"
   },
   "outputs": [
    {
     "output_type": "stream",
     "name": "stdout",
     "text": [
      "\u2713 Progressive augmentation initialized (Phase: full)\n"
     ]
    },
    {
     "output_type": "stream",
     "name": "stderr",
     "text": [
      "/usr/local/lib/python3.12/dist-packages/albumentations/core/validation.py:114: UserWarning: ShiftScaleRotate is a special case of Affine transform. Please use Affine transform instead.\n",
      "  original_init(self, **validated_kwargs)\n",
      "/tmp/ipython-input-902450455.py:8: UserWarning: Argument(s) 'max_holes, max_height, max_width, fill_value' are not valid for transform CoarseDropout\n",
      "  A.CoarseDropout(max_holes=1, max_height=8, max_width=8, p=0.5, fill_value=0),\n"
     ]
    }
   ],
   "source": [
    "# Progressive Data Augmentation (3 Phases)\n",
    "class ProgressiveAlbumentationsTransforms:\n",
    "    def __init__(self, mean, std, phase='full'):\n",
    "        if phase == 'full':  # Epochs 1-40: Full augmentation\n",
    "            self.aug = A.Compose([\n",
    "                A.HorizontalFlip(p=0.5),\n",
    "                A.ShiftScaleRotate(shift_limit=0.0625, scale_limit=0.1, rotate_limit=15, p=0.5),\n",
    "                A.CoarseDropout(max_holes=1, max_height=8, max_width=8, p=0.5, fill_value=0),\n",
    "                A.RandomBrightnessContrast(brightness_limit=0.2, contrast_limit=0.2, p=0.3),\n",
    "                A.HueSaturationValue(hue_shift_limit=10, sat_shift_limit=20, val_shift_limit=10, p=0.3),\n",
    "                A.Normalize(mean=mean, std=std),\n",
    "                ToTensorV2()\n",
    "            ])\n",
    "        elif phase == 'reduced':  # Epochs 41-70: Reduced augmentation\n",
    "            self.aug = A.Compose([\n",
    "                A.HorizontalFlip(p=0.5),\n",
    "                A.ShiftScaleRotate(shift_limit=0.05, scale_limit=0.07, rotate_limit=10, p=0.35),\n",
    "                A.CoarseDropout(max_holes=1, max_height=6, max_width=6, p=0.35, fill_value=0),\n",
    "                A.RandomBrightnessContrast(brightness_limit=0.15, contrast_limit=0.15, p=0.2),\n",
    "                A.Normalize(mean=mean, std=std),\n",
    "                ToTensorV2()\n",
    "            ])\n",
    "        else:  # phase == 'minimal', Epochs 71-100: Minimal augmentation\n",
    "            self.aug = A.Compose([\n",
    "                A.HorizontalFlip(p=0.5),\n",
    "                A.CoarseDropout(max_holes=1, max_height=4, max_width=4, p=0.3, fill_value=0),\n",
    "                A.Normalize(mean=mean, std=std),\n",
    "                ToTensorV2()\n",
    "            ])\n",
    "        self.phase = phase\n",
    "\n",
    "    def __call__(self, img):\n",
    "        image = np.array(img)\n",
    "        return self.aug(image=image)[\"image\"]\n",
    "\n",
    "def get_augmentation_phase(epoch):\n",
    "    \"\"\"Determine augmentation phase based on epoch\"\"\"\n",
    "    if epoch <= 40:\n",
    "        return 'full'\n",
    "    elif epoch <= 70:\n",
    "        return 'reduced'\n",
    "    else:\n",
    "        return 'minimal'\n",
    "\n",
    "# Initial transforms (full augmentation)\n",
    "train_transforms = ProgressiveAlbumentationsTransforms(mean=cifar100_mean, std=cifar100_std, phase='full')\n",
    "test_transforms = transforms.Compose([\n",
    "    transforms.ToTensor(),\n",
    "    transforms.Normalize(mean=cifar100_mean, std=cifar100_std)\n",
    "])\n",
    "\n",
    "print(\"\u2713 Progressive augmentation initialized (Phase: full)\")"
   ]
  },
  {
   "cell_type": "code",
   "execution_count": 5,
   "metadata": {
    "colab": {
     "base_uri": "https://localhost:8080/"
    },
    "id": "JmPikL1zO0IH",
    "executionInfo": {
     "status": "ok",
     "timestamp": 1760185658095,
     "user_tz": -330,
     "elapsed": 18918,
     "user": {
      "displayName": "Rutu Patil",
      "userId": "02443084829174226347"
     }
    },
    "outputId": "d62a64f4-2ba8-40a0-aa12-672fb90143ae"
   },
   "outputs": [
    {
     "output_type": "stream",
     "name": "stderr",
     "text": [
      "100%|\u2588\u2588\u2588\u2588\u2588\u2588\u2588\u2588\u2588\u2588| 169M/169M [00:13<00:00, 12.2MB/s]\n"
     ]
    },
    {
     "output_type": "stream",
     "name": "stdout",
     "text": [
      "Training batches: 196, Test batches: 40\n"
     ]
    }
   ],
   "source": [
    "# Load CIFAR-100 Dataset\n",
    "train_dataset = datasets.CIFAR100(root='./data', train=True, download=True, transform=train_transforms)\n",
    "test_dataset = datasets.CIFAR100(root='./data', train=False, download=True, transform=test_transforms)\n",
    "\n",
    "BATCH_SIZE = 256\n",
    "train_loader = DataLoader(train_dataset, batch_size=BATCH_SIZE, shuffle=True, num_workers=2, pin_memory=True)\n",
    "test_loader = DataLoader(test_dataset, batch_size=BATCH_SIZE, shuffle=False, num_workers=2, pin_memory=True)\n",
    "\n",
    "cifar100_classes = datasets.CIFAR100(root='./data', train=False).classes\n",
    "print(f\"Training batches: {len(train_loader)}, Test batches: {len(test_loader)}\")"
   ]
  },
  {
   "cell_type": "code",
   "execution_count": 6,
   "metadata": {
    "colab": {
     "base_uri": "https://localhost:8080/"
    },
    "id": "4yjubA1oO0IH",
    "executionInfo": {
     "status": "ok",
     "timestamp": 1760185658839,
     "user_tz": -330,
     "elapsed": 746,
     "user": {
      "displayName": "Rutu Patil",
      "userId": "02443084829174226347"
     }
    },
    "outputId": "c4a3ff3d-d0e6-4b74-be8e-4b457957a450"
   },
   "outputs": [
    {
     "output_type": "stream",
     "name": "stdout",
     "text": [
      "\u2713 Model initialized with 36,536,884 parameters\n"
     ]
    }
   ],
   "source": [
    "# WideResNet Architecture with Dynamic Dropout\n",
    "class BasicBlock(nn.Module):\n",
    "    def __init__(self, in_planes, out_planes, stride, dropRate=0.0):\n",
    "        super(BasicBlock, self).__init__()\n",
    "        self.equalInOut = in_planes == out_planes\n",
    "        self.conv1 = nn.Conv2d(in_planes, out_planes, kernel_size=3, stride=stride, padding=1, bias=False)\n",
    "        self.bn1 = nn.BatchNorm2d(in_planes)\n",
    "        self.relu1 = nn.ReLU(inplace=True)\n",
    "        self.conv2 = nn.Conv2d(out_planes, out_planes, kernel_size=3, stride=1, padding=1, bias=False)\n",
    "        self.bn2 = nn.BatchNorm2d(out_planes)\n",
    "        self.relu2 = nn.ReLU(inplace=True)\n",
    "        self.dropRate = dropRate\n",
    "        self.shortcut = (not self.equalInOut) and nn.Conv2d(in_planes, out_planes, 1, stride=stride, bias=False) or None\n",
    "\n",
    "    def forward(self, x):\n",
    "        if not self.equalInOut:\n",
    "            x = self.relu1(self.bn1(x))\n",
    "        else:\n",
    "            out = self.relu1(self.bn1(x))\n",
    "        out = self.conv1(out if self.equalInOut else x)\n",
    "        out = self.relu2(self.bn2(out))\n",
    "        if self.dropRate > 0:\n",
    "            out = F.dropout(out, p=self.dropRate, training=self.training)\n",
    "        out = self.conv2(out)\n",
    "        return out + (x if self.equalInOut else self.shortcut(x))\n",
    "\n",
    "class NetworkBlock(nn.Module):\n",
    "    def __init__(self, nb_layers, in_planes, out_planes, block, stride, dropRate=0.0):\n",
    "        super(NetworkBlock, self).__init__()\n",
    "        self.layer = self._make_layer(block, in_planes, out_planes, nb_layers, stride, dropRate)\n",
    "\n",
    "    def _make_layer(self, block, in_planes, out_planes, nb_layers, stride, dropRate):\n",
    "        layers = []\n",
    "        for i in range(nb_layers):\n",
    "            layers.append(block(i == 0 and in_planes or out_planes, out_planes, i == 0 and stride or 1, dropRate))\n",
    "        return nn.Sequential(*layers)\n",
    "\n",
    "    def forward(self, x):\n",
    "        return self.layer(x)\n",
    "\n",
    "class WideResNet(nn.Module):\n",
    "    def __init__(self, depth=28, num_classes=100, widen_factor=10, dropRate=0.3):\n",
    "        super(WideResNet, self).__init__()\n",
    "        nChannels = [16, 16*widen_factor, 32*widen_factor, 64*widen_factor]\n",
    "        assert ((depth - 4) % 6 == 0)\n",
    "        n = (depth - 4) // 6\n",
    "        block = BasicBlock\n",
    "        self.conv1 = nn.Conv2d(3, nChannels[0], kernel_size=3, stride=1, padding=1, bias=False)\n",
    "        self.block1 = NetworkBlock(n, nChannels[0], nChannels[1], block, 1, dropRate)\n",
    "        self.block2 = NetworkBlock(n, nChannels[1], nChannels[2], block, 2, dropRate)\n",
    "        self.block3 = NetworkBlock(n, nChannels[2], nChannels[3], block, 2, dropRate)\n",
    "        self.bn1 = nn.BatchNorm2d(nChannels[3])\n",
    "        self.relu = nn.ReLU(inplace=True)\n",
    "        self.fc = nn.Linear(nChannels[3], num_classes)\n",
    "        self.nChannels = nChannels[3]\n",
    "\n",
    "        for m in self.modules():\n",
    "            if isinstance(m, nn.Conv2d):\n",
    "                nn.init.kaiming_normal_(m.weight, mode='fan_out')\n",
    "            elif isinstance(m, nn.BatchNorm2d):\n",
    "                nn.init.constant_(m.weight, 1)\n",
    "                nn.init.constant_(m.bias, 0)\n",
    "            elif isinstance(m, nn.Linear):\n",
    "                nn.init.xavier_uniform_(m.weight)\n",
    "                nn.init.constant_(m.bias, 0)\n",
    "\n",
    "    def forward(self, x):\n",
    "        out = self.conv1(x)\n",
    "        out = self.block1(out)\n",
    "        out = self.block2(out)\n",
    "        out = self.block3(out)\n",
    "        out = self.relu(self.bn1(out))\n",
    "        out = F.adaptive_avg_pool2d(out, 1)\n",
    "        out = out.view(-1, self.nChannels)\n",
    "        return self.fc(out)\n",
    "\n",
    "def update_model_dropout(model, new_dropout):\n",
    "    \"\"\"Dynamically update dropout rate during training\"\"\"\n",
    "    count = 0\n",
    "    for module in model.modules():\n",
    "        if isinstance(module, BasicBlock):\n",
    "            module.dropRate = new_dropout\n",
    "            count += 1\n",
    "    print(f\"\u2713 Updated dropout to {new_dropout} in {count} blocks\")\n",
    "\n",
    "# Initialize model\n",
    "model = WideResNet(depth=28, widen_factor=10, dropRate=0.3, num_classes=100).to(device)\n",
    "print(f\"\u2713 Model initialized with {sum(p.numel() for p in model.parameters()):,} parameters\")"
   ]
  },
  {
   "cell_type": "code",
   "execution_count": 7,
   "metadata": {
    "id": "Q0RPBP0cO0II",
    "executionInfo": {
     "status": "ok",
     "timestamp": 1760185658845,
     "user_tz": -330,
     "elapsed": 1,
     "user": {
      "displayName": "Rutu Patil",
      "userId": "02443084829174226347"
     }
    }
   },
   "outputs": [],
   "source": [
    "# MixUp function\n",
    "def mixup_data(x, y, alpha=0.2, device='cuda'):\n",
    "    if alpha > 0:\n",
    "        lam = np.random.beta(alpha, alpha)\n",
    "    else:\n",
    "        lam = 1.0\n",
    "    batch_size = x.size(0)\n",
    "    index = torch.randperm(batch_size).to(device)\n",
    "    mixed_x = lam * x + (1 - lam) * x[index, :]\n",
    "    y_a, y_b = y, y[index]\n",
    "    return mixed_x, y_a, y_b, lam\n",
    "\n",
    "# Warmup Scheduler\n",
    "class WarmupScheduler:\n",
    "    def __init__(self, optimizer, warmup_epochs, initial_lr, target_lr, steps_per_epoch):\n",
    "        self.optimizer = optimizer\n",
    "        self.warmup_steps = warmup_epochs * steps_per_epoch\n",
    "        self.initial_lr = initial_lr\n",
    "        self.target_lr = target_lr\n",
    "        self.current_step = 0\n",
    "\n",
    "    def step(self):\n",
    "        if self.current_step < self.warmup_steps:\n",
    "            lr = self.initial_lr + (self.target_lr - self.initial_lr) * self.current_step / self.warmup_steps\n",
    "            for param_group in self.optimizer.param_groups:\n",
    "                param_group['lr'] = lr\n",
    "        self.current_step += 1\n",
    "\n",
    "    def is_warmup(self):\n",
    "        return self.current_step < self.warmup_steps"
   ]
  },
  {
   "cell_type": "code",
   "execution_count": 8,
   "metadata": {
    "colab": {
     "base_uri": "https://localhost:8080/"
    },
    "id": "hiWno8wiO0II",
    "executionInfo": {
     "status": "ok",
     "timestamp": 1760185658855,
     "user_tz": -330,
     "elapsed": 9,
     "user": {
      "displayName": "Rutu Patil",
      "userId": "02443084829174226347"
     }
    },
    "outputId": "661228b7-d1b1-4ecf-ec4e-36fbbc5933a3"
   },
   "outputs": [
    {
     "output_type": "stream",
     "name": "stdout",
     "text": [
      "\u2713 Google Drive checkpoint manager initialized\n"
     ]
    }
   ],
   "source": [
    "# Google Drive Checkpoint Manager\n",
    "class GoogleDriveCheckpointManager:\n",
    "    def __init__(self, gdrive_dir, max_keep=5):\n",
    "        self.gdrive_dir = gdrive_dir\n",
    "        self.max_keep = max_keep\n",
    "        self.checkpoints = []\n",
    "        os.makedirs(gdrive_dir, exist_ok=True)\n",
    "\n",
    "    def save(self, checkpoint_path, epoch, is_best=False):\n",
    "        \"\"\"Save checkpoint to Google Drive\"\"\"\n",
    "        try:\n",
    "            if is_best:\n",
    "                # Always keep best model\n",
    "                best_path = os.path.join(self.gdrive_dir, 'best_model.pth')\n",
    "                shutil.copy(checkpoint_path, best_path)\n",
    "                print(f\"  \u2192 Saved to GDrive: best_model.pth\")\n",
    "            else:\n",
    "                # Save regular checkpoint\n",
    "                gdrive_path = os.path.join(self.gdrive_dir, f'checkpoint_epoch{epoch:03d}.pth')\n",
    "                shutil.copy(checkpoint_path, gdrive_path)\n",
    "                self.checkpoints.append((epoch, gdrive_path))\n",
    "\n",
    "                # Cleanup: keep only last max_keep checkpoints\n",
    "                if len(self.checkpoints) > self.max_keep:\n",
    "                    old_epoch, old_path = self.checkpoints.pop(0)\n",
    "                    if os.path.exists(old_path):\n",
    "                        os.remove(old_path)\n",
    "                        print(f\"  \u2192 Cleaned up old checkpoint: epoch{old_epoch:03d}\")\n",
    "\n",
    "                print(f\"  \u2192 Saved to GDrive: checkpoint_epoch{epoch:03d}.pth\")\n",
    "        except Exception as e:\n",
    "            print(f\"  \u2717 GDrive save failed: {e}\")\n",
    "\n",
    "    def list_checkpoints(self):\n",
    "        \"\"\"List all checkpoints in Google Drive\"\"\"\n",
    "        files = [f for f in os.listdir(self.gdrive_dir) if f.endswith('.pth')]\n",
    "        return sorted(files)\n",
    "\n",
    "gdrive_manager = GoogleDriveCheckpointManager(GDRIVE_DIR, max_keep=5)\n",
    "print(f\"\u2713 Google Drive checkpoint manager initialized\")"
   ]
  },
  {
   "cell_type": "code",
   "execution_count": 9,
   "metadata": {
    "colab": {
     "base_uri": "https://localhost:8080/"
    },
    "id": "SWWtX_ceO0II",
    "executionInfo": {
     "status": "ok",
     "timestamp": 1760185658861,
     "user_tz": -330,
     "elapsed": 5,
     "user": {
      "displayName": "Rutu Patil",
      "userId": "02443084829174226347"
     }
    },
    "outputId": "0d66e911-3d6f-48d5-8ad2-1bfdead50f67"
   },
   "outputs": [
    {
     "output_type": "stream",
     "name": "stdout",
     "text": [
      "\u2713 HuggingFace uploads scheduled for epochs: [10, 20, 30, 40, 50, 60, 70, 80, 90, 100]\n"
     ]
    }
   ],
   "source": [
    "# HuggingFace Upload Functions\n",
    "def upload_to_huggingface(file_path, path_in_repo, commit_message=\"Upload checkpoint\"):\n",
    "    \"\"\"Upload file to HuggingFace (only every 10 epochs)\"\"\"\n",
    "    if not HF_TOKEN:\n",
    "        return\n",
    "    try:\n",
    "        api.upload_file(\n",
    "            path_or_fileobj=file_path,\n",
    "            path_in_repo=path_in_repo,\n",
    "            repo_id=REPO_ID,\n",
    "            repo_type=\"model\",\n",
    "            token=HF_TOKEN,\n",
    "            commit_message=commit_message\n",
    "        )\n",
    "        print(f\"  \u2192 Uploaded to HF: {path_in_repo}\")\n",
    "    except Exception as e:\n",
    "        print(f\"  \u2717 HF upload failed: {e}\")\n",
    "\n",
    "# HuggingFace upload schedule (every 10 epochs)\n",
    "HF_UPLOAD_EPOCHS = [10, 20, 30, 40, 50, 60, 70, 80, 90, 100]\n",
    "print(f\"\u2713 HuggingFace uploads scheduled for epochs: {HF_UPLOAD_EPOCHS}\")"
   ]
  },
  {
   "cell_type": "code",
   "execution_count": 10,
   "metadata": {
    "id": "ht-MQ3TQO0II",
    "executionInfo": {
     "status": "ok",
     "timestamp": 1760185658908,
     "user_tz": -330,
     "elapsed": 42,
     "user": {
      "displayName": "Rutu Patil",
      "userId": "02443084829174226347"
     }
    }
   },
   "outputs": [],
   "source": [
    "# Training and Testing Functions\n",
    "def train(model, device, train_loader, optimizer, scheduler, warmup_scheduler, scaler, epoch,\n",
    "          use_mixup=True, mixup_alpha=0.2, label_smoothing=0.1):\n",
    "    model.train()\n",
    "    pbar = tqdm(train_loader)\n",
    "    correct = 0\n",
    "    processed = 0\n",
    "    total_loss = 0\n",
    "\n",
    "    for batch_idx, (data, target) in enumerate(pbar):\n",
    "        data, target = data.to(device), target.to(device)\n",
    "        optimizer.zero_grad()\n",
    "\n",
    "        with autocast():\n",
    "            if use_mixup:\n",
    "                inputs, targets_a, targets_b, lam = mixup_data(data, target, alpha=mixup_alpha, device=device)\n",
    "                outputs = model(inputs)\n",
    "                loss = lam * F.cross_entropy(outputs, targets_a, label_smoothing=label_smoothing) + \\\n",
    "                       (1 - lam) * F.cross_entropy(outputs, targets_b, label_smoothing=label_smoothing)\n",
    "            else:\n",
    "                outputs = model(data)\n",
    "                loss = F.cross_entropy(outputs, target, label_smoothing=label_smoothing)\n",
    "\n",
    "        scaler.scale(loss).backward()\n",
    "        scaler.unscale_(optimizer)\n",
    "        torch.nn.utils.clip_grad_norm_(model.parameters(), max_norm=1.0)\n",
    "        scaler.step(optimizer)\n",
    "        scaler.update()\n",
    "\n",
    "        if warmup_scheduler.is_warmup():\n",
    "            warmup_scheduler.step()\n",
    "        else:\n",
    "            scheduler.step()\n",
    "\n",
    "        _, pred = outputs.max(1)\n",
    "        if use_mixup:\n",
    "            correct += lam * pred.eq(targets_a).sum().item() + (1 - lam) * pred.eq(targets_b).sum().item()\n",
    "        else:\n",
    "            correct += pred.eq(target).sum().item()\n",
    "        processed += len(data)\n",
    "        total_loss += loss.item()\n",
    "\n",
    "        current_lr = optimizer.param_groups[0]['lr']\n",
    "        pbar.set_description(f\"Epoch {epoch} Loss={loss.item():.4f} Acc={100*correct/processed:.2f}% LR={current_lr:.6f}\")\n",
    "\n",
    "    avg_loss = total_loss / len(train_loader)\n",
    "    accuracy = 100. * correct / processed\n",
    "    return avg_loss, accuracy\n",
    "\n",
    "def test(model, device, test_loader):\n",
    "    model.eval()\n",
    "    test_loss = 0\n",
    "    correct = 0\n",
    "    with torch.no_grad():\n",
    "        for data, target in test_loader:\n",
    "            data, target = data.to(device), target.to(device)\n",
    "            output = model(data)\n",
    "            test_loss += F.cross_entropy(output, target, reduction='sum').item()\n",
    "            pred = output.argmax(dim=1, keepdim=True)\n",
    "            correct += pred.eq(target.view_as(pred)).sum().item()\n",
    "    test_loss /= len(test_loader.dataset)\n",
    "    accuracy = 100. * correct / len(test_loader.dataset)\n",
    "    print(f\"\\nTest set: Average loss: {test_loss:.4f}, Accuracy: {correct}/{len(test_loader.dataset)} ({accuracy:.2f}%)\\n\")\n",
    "    return test_loss, accuracy"
   ]
  },
  {
   "cell_type": "code",
   "execution_count": 11,
   "metadata": {
    "colab": {
     "base_uri": "https://localhost:8080/"
    },
    "id": "0dDF676xO0II",
    "executionInfo": {
     "status": "ok",
     "timestamp": 1760185658912,
     "user_tz": -330,
     "elapsed": 3,
     "user": {
      "displayName": "Rutu Patil",
      "userId": "02443084829174226347"
     }
    },
    "outputId": "58e327bf-8ad4-42fa-9d2c-81f9685d7bbe"
   },
   "outputs": [
    {
     "output_type": "stream",
     "name": "stdout",
     "text": [
      "======================================================================\n",
      "TRAINING CONFIGURATION - SESSION 04 (AGGRESSIVE)\n",
      "======================================================================\n",
      "Model: WideResNet-28-10 (36.5M parameters)\n",
      "Batch Size: 256\n",
      "Initial Dropout: 0.3 \u2192 0.2 (epoch 51) \u2192 0.1 (epoch 81)\n",
      "Augmentation: Full (1-40) \u2192 Reduced (41-70) \u2192 Minimal (71-100)\n",
      "MixUp: 0.2 (1-40) \u2192 0.15 (41-70) \u2192 OFF (71-100)\n",
      "Label Smoothing: 0.1 (1-50) \u2192 0.05 (51-100)\n",
      "LR Schedule: Phase1 (1-60) T_0=20, Phase2 (61-100) CosineDecay\n",
      "Max LR: 0.15 (increased from 0.1)\n",
      "Storage: GDrive (all) + HuggingFace (every 10 epochs)\n",
      "======================================================================\n"
     ]
    },
    {
     "output_type": "stream",
     "name": "stderr",
     "text": [
      "/tmp/ipython-input-3336406856.py:25: FutureWarning: `torch.cuda.amp.GradScaler(args...)` is deprecated. Please use `torch.amp.GradScaler('cuda', args...)` instead.\n",
      "  scaler = GradScaler()\n"
     ]
    }
   ],
   "source": [
    "# Training Configuration\n",
    "print(\"=\"*70)\n",
    "print(\"TRAINING CONFIGURATION - SESSION 04 (AGGRESSIVE)\")\n",
    "print(\"=\"*70)\n",
    "print(f\"Model: WideResNet-28-10 (36.5M parameters)\")\n",
    "print(f\"Batch Size: {BATCH_SIZE}\")\n",
    "print(f\"Initial Dropout: 0.3 \u2192 0.2 (epoch 51) \u2192 0.1 (epoch 81)\")\n",
    "print(f\"Augmentation: Full (1-40) \u2192 Reduced (41-70) \u2192 Minimal (71-100)\")\n",
    "print(f\"MixUp: 0.2 (1-40) \u2192 0.15 (41-70) \u2192 OFF (71-100)\")\n",
    "print(f\"Label Smoothing: 0.1 (1-50) \u2192 0.05 (51-100)\")\n",
    "print(f\"LR Schedule: Phase1 (1-60) T_0=20, Phase2 (61-100) CosineDecay\")\n",
    "print(f\"Max LR: 0.15 (increased from 0.1)\")\n",
    "print(f\"Storage: GDrive (all) + HuggingFace (every 10 epochs)\")\n",
    "print(\"=\"*70)\n",
    "\n",
    "EPOCHS = 100\n",
    "WARMUP_EPOCHS = 5\n",
    "INITIAL_LR = 0.01\n",
    "MAX_LR = 0.15  # Increased!\n",
    "MIN_LR = 1e-4\n",
    "\n",
    "optimizer = optim.SGD(model.parameters(), lr=INITIAL_LR, momentum=0.9, weight_decay=1e-3)\n",
    "scheduler = CosineAnnealingWarmRestarts(optimizer, T_0=20, T_mult=1, eta_min=5e-4)\n",
    "warmup_scheduler = WarmupScheduler(optimizer, WARMUP_EPOCHS, INITIAL_LR, MAX_LR, len(train_loader))\n",
    "scaler = GradScaler()\n",
    "\n",
    "# Tracking\n",
    "train_losses, test_losses = [], []\n",
    "train_accuracies, test_accuracies = [], []\n",
    "learning_rates = []\n",
    "dropout_history = []\n",
    "mixup_history = []\n",
    "aug_phase_history = []\n",
    "\n",
    "best_test_acc = 0.0\n",
    "patience = 15\n",
    "patience_counter = 0\n",
    "checkpoint_dir = './checkpoints'\n",
    "os.makedirs(checkpoint_dir, exist_ok=True)"
   ]
  },
  {
   "cell_type": "code",
   "execution_count": 12,
   "metadata": {
    "colab": {
     "base_uri": "https://localhost:8080/",
     "height": 1000,
     "referenced_widgets": [
      "a94f631222874447ac8c019033b19fd7",
      "99b1e4734aa84a76a7891df0fd42bc50",
      "3360a2d31ea94f8f9da6bb38631340c6",
      "08dc022d47d64d5b8e431165a9fb5550",
      "2413e49e79274ac5b09254231231e759",
      "bfe1cfb69c5140fa9134c3d1a7d86a08",
      "fb08ef4f6c8748949a13f99c358eab35",
      "052fb53f422e42a7aa72a43a4585e422",
      "316fd33bc79745edbaf751296b600087",
      "715ce5af1add415dbacf60c0dd981603",
      "deabacc5c4ab4a91991d33bcc0e96c49",
      "6f81b9559e334e259158c24fb9306d43",
      "ee5ff5dfff874a988ebb7655c1a87527",
      "d9efcbf193d347968c8cc0d9552e1fc6",
      "8a383ec1edf949a1bcce9fcb3b2e76d3",
      "b1612f4b27b048dba759d48966e5cd70",
      "37f612fd243445f2ab5a64bb4819f54d",
      "f95059b4bc864894abfeb6b58c129f64",
      "23eebf41055f479e9320d3cec2e8a333",
      "07c8ba6c8f9a41e18587f6cf81996331",
      "ddb1c534327041b4bb9f022d6f97c3e5",
      "df177bfc324a4f31aa833b9eaf28c7a9",
      "b49e12551f014214bac4f27332c949d2",
      "5a39727a36b94d1d8b7f6f451b5a7b96",
      "893c46e3935a41f88e7ed28cd6806adb",
      "891212a86b8a4709b95b6beac12aee20",
      "ddd8c8a9af274085b394965c0f6f3334",
      "7b27b3eef5f94659b3212b2ce4e45b4c",
      "05f9ea6e7c2f44dc902a6bf3ab2abf67",
      "bcdb896f642a49baa1e73bd58ed131df",
      "117dc0895600404ea3a2bb9328d58542",
      "67f2fa70b214440b9a46bcea712268a7",
      "70ebb80088c341129ba150cbc15414c9",
      "9030220cc9d94f20a0c87459614a62ee",
      "34df9f491cff42a18739ecf9aff0bd39",
      "89fefe0972f24915a026828156286d5b",
      "e024ef7d18dd4e54812ab21bb2a51927",
      "1ef11ce00cb84d82874bd284cd702f25",
      "d58f63d13bcf4001982bbf39ea255beb",
      "dd95eed9e5dc4a35bbc66392430a7845",
      "1def32769d794604b0848e902f803b96",
      "6a36a5eec1c14796af3fe3f793827396",
      "97a575ad80b6413f9f303236f9e8c1b7",
      "876a718313514d1ca3fc895574a1490d",
      "7adb4703efb54c0f990886f11df25ffb",
      "9d59dba96ba54bac9fc95e56e00fb38a",
      "25501221975649e6880ffb39638c84f5",
      "e684751556e349f38faeb5646c6ebc23",
      "ecf73cfdfc284ecd8820dcd9af2377a9",
      "9807e9131b594d6dbac377d04ec2c69b",
      "a9568e2dd3eb4a6b99f4f8b06b3bc738",
      "0835805bbb174d78a06bb7059aef38ee",
      "cd3248d80e8e466f82b9a7d02e8af0d0",
      "a581d9f667af442d9acdf62ba17e8cdf",
      "b4cfe7d8bcb448f2b90431aa7e9ff9e8",
      "f10b75a9a8bb42a9bdcf9433840560a3",
      "41a3555188444718b7428ea0efdf770d",
      "f257880d2e2849c7b5c791bd0cb7bfc7",
      "541d57534cc94ae4ae275b3c4ccae7d8",
      "b9dc52adea62416a8b3e0922d2098bd1",
      "db59fcc8cce54de4b1abd90e15ca547e",
      "1c5f7d3d047f42058cd5df4d9f8f9a35",
      "4a22b6cbdef74dae9babbca5b7e68229",
      "6c3e5fb4614e4c3d8ae71b819574512c",
      "78be3b2dcbcc45c9929175ff3760ad2b",
      "39251e97719a4e198779bc2bdd1d0c7d",
      "9ffe46db6aef4fdf8cdbf43cbfbba5f1",
      "61d833b71b144ca2933b7ec37dbed180",
      "ffe2babf604e4ef1a6534b0e68f47775",
      "66607ceadee1451aa9abfa9fff4fe774",
      "f4ad24d5f8f74c029d3bb661c8367ff6",
      "a85136682e7d4618bdb063d2d8ff38e1",
      "a1b4e3da96fa443dbeaf1688b80bb8b6",
      "93b76813fea5459aa91552d395b4836d",
      "fb6999e621904a88b759304feeaabf9f",
      "40aae9f841ad4549b3ab4f698cb7dc5b",
      "af197ce1d45b43e2a49fb85b0c5ecc45",
      "32948420ca7a4b07a72ebd352cea1165",
      "8a2fcafb54684152aee8f079ec690817",
      "1445dafb7bb04bf084bf6ba5fe7a3cc4",
      "2c32dd4349154169b353e023f1f838ab",
      "2291a0ac12d744cca380f39f15025ffe",
      "d77fd7e65b964d2fa98e931becd59485",
      "241ce987c7ad4c9aa7e8a3990d7f9eb5",
      "0649213cb3a744ee94bffff9c3dc9e68",
      "a0f76c25280f4f14a9cbc3d3ee2e1c2f",
      "ae9361713e7444d5968e552f2f5f754d",
      "fcec5f406ad348fc9c153eb0b078819a",
      "1f1a592fef62491c913c1796a42e74ce",
      "132c51f3237e4b189072be3e5f5ac593",
      "5936eef05abe421dbe328189fb345bf9",
      "aafd06a7ebe84df6816e9e25d97c1076",
      "e183f966fddc42659faf9d75a12e7a8e",
      "8d97c8db0c7e444ab1b57af5168eb550",
      "f7afaf890da64a32a1a32c851b9407d3",
      "1d2e989239614bb28bee4f0ae839aff1",
      "288dd5c7aea04e83b65e524f464efec4",
      "a8f4270e521a4277851a401e8fed179e",
      "b60d06fe47114df3af9180b436094008",
      "7087c6a9dfb941b08d44216d5062a683",
      "56484617c4734416ad7df4c550e89cfa",
      "0e46c769620449d49345107a5cc67a4a",
      "bd340d57f7be4c99b6034644aec51e26",
      "cd1668696c184ea8a0b934dfd49bd957",
      "3d6c795654624ec4951c28e56344e672",
      "577e7ad2ad5f4d6ca58ab8420220a1b1",
      "f4b7e91845bf42538339725ff1a9c872",
      "a583887c134346f094f22df854bbfc5d",
      "6bd4ebc4f0c042e79676a335db09c37e",
      "5c2c735b21264600bb5f6ec9c3f5f086",
      "44d46536c57e456eb2b8b1cb84360ee0",
      "6b028188c9fb48918a03c80dae346584",
      "9597ac79acf54dcc89909c98e0dd4288",
      "ede10b2970484b199d0cef687c9a3644",
      "380d7249bd6a4adbbdc22561c06db04d",
      "f32b5f86daa240c893283306fe746088",
      "40c46b3701de450d84e42161f44fa7b8",
      "c4324cf6d511490c85868c6178db4276",
      "5aeb97545ae343d4aff84e641b6726cc",
      "36cb17c4b9a14c7896655cbe93922bf0",
      "0162c2b64431492db46536a47151b655",
      "9ddcb0b89f4046a899215d0e6290b51b",
      "6904c7969a9141d79786aa8b77ef8b62",
      "70b492ce45254277b8e49776a4ab5c9d",
      "e6dbe44e66ce4c1b94c1bb41f66f7b15",
      "585e1c73efde40d795348e3ce901973c",
      "5532f53996bc4603abf14666133e97d9",
      "9d9f3785ab834257a307cc0cc1a747a8",
      "918bca0e08404bc4b67397ca24a0932f",
      "13ce7ccc3c864eb68a03dcca855f47d1",
      "799784edfc6c44e68e7b73f02f23520a",
      "0e7a80c853b547fbb9e36515e5cd6b40",
      "e66ed141f888473d9add4dcc1ab71342",
      "647b724250044dfa859d66f4a4be4591",
      "bc03004740cc406a853dff78f1c5714c",
      "140d7baf4b364f47a56cdd50f78ee187",
      "af679eeec9ec4d5bb2941ae698c7ebe0",
      "f4c5c50769a2428caed1eeeff0062153",
      "a8a4874f634f4a77a4841048903f18a6",
      "3842b717388a494c93ed7c95012d10d7",
      "a59fcca332c347379f01b2229d80fb69",
      "6af5479ff4ea4e6da908d8b9ce726c5a",
      "d20b0f156dc144e3b842c8128495215c",
      "ff84ce9c6b644e46b7c3457a057fa99d",
      "bffc4b20e3604ce0acaa9a4754253050",
      "45f4d629a209417a9bc02be9d2a1d32a",
      "e384cb0a87604bd5b1e070b17b2b474b",
      "a5d879ac1feb43a3b77cea43346520fe",
      "05f5814227324873902f594aeb792714",
      "0c7eb68a89c14cc5af1d057a97f8554d",
      "0c38e16573c44df291364a15c76f6f31",
      "71015497088745779e7c0cbb8766ef2b",
      "286c6394434f4c3c83a276b07b95b51b",
      "0188e36ef3d8417cb6ff9cfd19b257ed",
      "350c2e4e67b6417d8063bf1249eb93bb",
      "33e80c08008e46778336227f5fde32de",
      "07c1b28cd5ac4d60ab12a6ccffbe91bb",
      "11dab1e1ad404f2180ec3e478d7aba63",
      "80a169155a2347799736f06074f396c6",
      "dda17eed600f4703a4361c3f3cce6b65",
      "22199d30c4c34ec5b724d317f8ab989c",
      "87dba8d58faf4e1da3f384ae69204ea6",
      "6977ae3c995f420e99614c3918c3fcf5",
      "ac75ce9f72a04ddf9674a315c18ad72d",
      "fc024da93bb644f3b7c7d510824e8e17",
      "31affc5f236844c39a8b614d93bba719",
      "4b6f30c703564ce9a9d051aa45a2fb87",
      "76b03e95e03b46919f12459b1324d6e8",
      "94365d3d1f5f4057a32e26f006304893",
      "f012411ff46c4f57a5f0bde456d36684",
      "585c7a2473d8410ca4187459c26b58a1",
      "ec1a86af02c84865a26df5b66b16fbf7",
      "cc54369a1b4943579620ac351e578443",
      "db0498a3b89041daa1537247e686c6e6",
      "4891c52428e24899830935c87b1d80f6",
      "053e5b45eef64a30a81f075361fe7e18",
      "0157fc36dfa44644aa9cb5e4ee820171",
      "ea4d99f14dec4908b7c6b2a5d7f60755",
      "b9455842e5d941c69ad43bcf53e3c378",
      "c29d948bbc8f4a57a371902319b6f78f",
      "8a03baa38e814075847bb3b72dc67e28",
      "d7be0d36660a4d3abb054b2b0b08d828",
      "dabb21f121ad46828a4b37f9967b9977",
      "97fc950fd4184c1b99a3801d1e1c8b1b",
      "4da1040027a3438d8d7b8863d47b086d",
      "bbb96910164e4119ac13cc1b77ced02c",
      "c2fa00c2dace4733a5cdf4dc2474a30c",
      "f5d57b0f6db147ef8c6258a960056fe1",
      "caf417454db84cecb08f5890edf51ea9",
      "3a431fb0a0f646ef83a2f6f2ebfe0083",
      "afb33b751acc41729cbe9b3581630884",
      "524a07c1a6e948b9aae1afe23407b93a",
      "f4bf622858fb4faa9901828afb6d7e0c",
      "7aac5244260d494ca40861cb3b55bd52",
      "fad0694188304703ae970c562dafdf6a",
      "695db452b2d84022bf009d27feae88ea",
      "d991657b191148d2a29994b1336ec581",
      "554a901bd262423598ef9a90012ea6ae",
      "15b8ce35611748c89eda9b33b2e4895f",
      "34047c4840d949d4a5ce46985158e140",
      "02de50457a9040a583b4f9e40230e7c8",
      "56a3437542b94075bc35474b532f218e",
      "e177d0bfa05b449d82995096888d8f2e",
      "589c581c46ff4b85a80eb5ec0ecd3f8f",
      "0e545f2cd6a942e3bb14d2a29ec47bb6",
      "d87c87b509e34d58b907297b31525afb",
      "efd82abadd32457083b0606277b51903",
      "285fd16ea79e4599a7978b2f00ac065a",
      "5065ed7b3be946b398e6274f6dcbeed5",
      "8c8554f6aa794b4c8086eab65a784f2b",
      "81d0cf07282c4af4b5557dae5a1cda54",
      "d1a435705ff24c96b35edf7544d25cb2",
      "328622eb703f42f2a6d7eb266a4cf185",
      "f9828afa6df34ffabbd0bdadd4e5c149",
      "f2632b28cdd64fb6a01dbfb8bede422c",
      "8b2da524fbb4444985b26ca9e6c6e4ef",
      "49c6f9d2a4e442949d299d29441ac37d",
      "4e7863385f2140398dbf9637ac3e9012",
      "1590864a07924ef09c93e147550d5a03",
      "3eccf1522d2043a09c91c745ff24ca70",
      "7115fde0a02344bc940cb6e794a6f3a0",
      "f2059edd19fc46169fb0212bec0f9771",
      "dd55680490ce4d548bf5d67b6fe76ca5",
      "f456d127f0194ce4bf8c2053344cc717",
      "95464d12669c401d92a2c5e82b30f46a",
      "f32c3450ed384ba08045dfa16826cc05",
      "6e308d0149e6405a9818e25d90d47237",
      "7f7b23da386b4ee9ae4e3631b92a9f28",
      "fddee52eaff046acaec618d88824c628",
      "89e683512dce4512a70b1c58bee4bb23",
      "d2f78e5863ff4c85a9455b16bbdac75f",
      "e271d3d46ee2486ea6a2eb53550c7f00",
      "b09ac02e3af1442bb89116be1f38085c",
      "dda2bc6bb75645ffae64552a19d34616",
      "705f8238096f49149117f8029f28b7b4",
      "0a5ab419e4ea4db49e415d256a2dbacc",
      "3283b61b1c6a4315bc9ec5360da85b1e",
      "2040dc91478948aaa0c092fa3dbeebdc",
      "bc7bbd67bd3b42c694b16a2534983ec8",
      "6f5340e52eb941e6a7266b9d6ab9bd78",
      "72eea7678fe24adab5da99e3e999130a",
      "184ff7a444bf455c87f582bdc73260ad",
      "6eb00d352cf44fdabb6b5a485078671f",
      "39089ef28bda48109ff03a92ba79c91e",
      "643c6c42d9bb45a3a36c56860597816f",
      "55af38089fc44e5eaaf30519ed7d9840",
      "be4ed73ceb24427cad10cf9a56268168",
      "9795db8b9f494cf190f0c4233507eb52",
      "328293c56efd4cd78b8a1f2bc573474e",
      "76494069557e4530b98ffbc89ccbe074",
      "81b62d3447e64f71a4ca11da89c88375",
      "3dc320d74c0b400b838ee1adb5e2d0d2",
      "59fe57b9390146d39b933628b4a08542",
      "f56d97b76450401096717c6b13700044",
      "3b3488ebbdb24ef1a39251ccbf30c00a",
      "b20071e1b46541329dbe8c0c513941ad",
      "4a29506d44a44a0c9ae5be7705aaa9c1",
      "712431fa6cd34d52b8ef89d46f2001b6",
      "97b6cb7a25ab48db9a3a41ead8f5fc98",
      "8304226a824a4207b9deec3403b23ff3",
      "78fae095dfd7474eb3d1dccc80ebf6d9",
      "56aff44b34d2430e99e374cbef7ca2b0",
      "4d61dffb6fc64e02800ff73885c2bc7d",
      "fb50b1971d0e4eee84573e5d5ecc5cf1",
      "7c4931c86c044ed6bd75580d99c60b08",
      "787410633d614c7ab9d595685db262cb",
      "a61dee24d84c446895e20685f0d6d974",
      "3be17b78d51943ba9389a1884ef21bdf",
      "871163c76f70400fb81410acc25ddbb4",
      "29fd3ce463aa4e69ae1c78f81086792d",
      "129b659e3e8c4640ae499ff202005044",
      "7b7f1f8739d847aea01a3cecbf3c028b",
      "dceecc7665c147d2ba93d67dcdcdf396",
      "52c7e5b7491744fdb0642ff89654fe36",
      "f04f2576694d4a1f8f8371d43f5174c9",
      "887852e206cd4feead884acfbeb0596c",
      "ed17c68c75e14ece80410c043222a04f",
      "b13ecf5129c5413a97f51dbd70134b5d",
      "ce49bc9ffa204cc9b0f5e6ff9dbedf6a",
      "158493e9a74c4f96a9abd668d3b79438",
      "deffbb1fe70b409dad57ff434758f8e6",
      "33e7c7bc990c47fba930a0ee5c9c26cf",
      "143598eeaab04e1195325d5c1804d2c7",
      "f134dbf91cbc4a4ea7098da2eb9330b0",
      "f2ea7a889e0f4367a50d8b2cd04581e5",
      "fa2074ff34db4044a62642c9111d3002",
      "b0a28b0adee44eeeb9d8a88d0d9af290",
      "ca2d64c69c9840629bd577e94174d580",
      "1f3f51789d604e6a9cf31047803354e2",
      "d6459fb1c79a4d568531cdfcba9856ba",
      "616fda05463849bd90cb9b495b99bfae",
      "1f5abbd587d7404cbc4e46c00a0c0a28",
      "5a878f1571564d968c2094d8ee441b40",
      "ecf543b96e2241a09b424d80659e6185",
      "a5d324150be5422688ed6e107e042104",
      "b974aee052f34ed3887b5e7854922622",
      "1879b823756040199bb5bc3aa47bffeb",
      "1037b12945a545a1939977ead2118e68",
      "040ace7ba6804d10ab24ceed8c2c4b7a",
      "c5c3af3013d04a4ebaa4ee41ccb8ba56",
      "4bfdf5cf54e54d6c9e443e14dbf55903",
      "a635ef0d4fee465e82c556b46ff13c8c",
      "3973bafc9d7e4247a0022192f650bd16",
      "f590d4ea8f5247aaa7c9d314642a0fb4",
      "6e6b083121b543d297e4ec7c612700da",
      "93a6c07bd4c342b1bc96642b1e212a52",
      "06d6c583dd9746d9951db5a8daf54e2b",
      "d62c23d67a764e798470ea1f18153bba",
      "d5e0b6cd699f42cea0ea5c9beb2e7703",
      "f8855779c24045a9b4a652953edba33e",
      "8cbc0fa3e7a942b18a3f9534e19339a1",
      "cb6fdb614ff44c45a8db266cf788c5f1",
      "90485c681a834310bc1a3483838557ba",
      "76e2bb73dd6543f782099893d11757de",
      "eddaf4773baa4852afd7ac72712230f5",
      "5e30b1bbc530453d8a9da8166ae5fc2a",
      "7b2c9a6b6b674ec8871b9d310f0584fe",
      "b02f21ae97b54a07baa9074aec34aa2e",
      "11831912b58f40649b68cc7ef015be31",
      "c6bfc6ac488d4cb3a3f8ac2f90d687ce",
      "f20762e873b14ea5af38b391a4c782a7",
      "bc037f0f24fd441e84f437f650dbdde4",
      "77f56704d9ac4bc68810e11e11e5959f",
      "bddf02a35f8d46b782ab97510b483fff",
      "0b377b8108cd4b06b82b9a9cea1221e1",
      "5f00905c715840588dff66333ec18e0a",
      "b091b53ed0db45458d8bd8b7f982cbb1",
      "9ce22e205e73428299774c15ac42b0c5",
      "c7c99e89ba2047468774f66271557a0a",
      "fe92cce04c9e4d99bb2b1800274c039d",
      "a1678b53df994e6b983db9568067f19a",
      "99a51c1f560a43cab5512a03c7d4c16f",
      "38221b836620482686937fa8c7c28519",
      "a810bea9c15d4f1a8a564a328494b578",
      "28bd4197d916408a8c8bad5f8f82a36c",
      "8338ea21af124da39e5c6751d76ad9b3",
      "e6b89158323040c494713714d9ecfc0e",
      "e8345074f5de4a8f9b79e4c61e46cb82",
      "e4adfa722fd945d9a664e2b60517520f",
      "6c3ec147e2b642c6a63a0f52140c7932",
      "4b03223775d344c8bc2885591209eb13",
      "80f0eaf2c62c40ee9ce53cad2a3f2629",
      "a546df13fc014ff0978772e601802356",
      "ab02f3633f3443bdb931eda3c7626fe1",
      "d280ca005b36409781795f1d0698e0f9",
      "9a177b448b5d45b7b7a8743685cf9ae8",
      "e5a73e347f934a828535de1772953e84",
      "79d347558e4c419a86122d05c9336cf5",
      "6de02c251cac48a0bea1c6096851ea25",
      "824daa15113743edbaa898edf97c1c49",
      "a8fd82af065a4b24a55ce55deeb920d0",
      "afe7bdd64bc049859e423e404183fdeb",
      "82a1f465d5db4ba6aa411656526d3c6d",
      "a6038909908c4f1194c4ef65935362dd",
      "876fbcdd054e45acb9afa47df8922183",
      "cc53ea465267471aa6957c304848c542",
      "fdaf39bd93c84553930c2dea9b8c3f27",
      "d42c18b0bb514589971e1d9fed774def",
      "6dc43bef70b148bda014a00687530d06",
      "d5bf565fd11541e3848583ef0c150046",
      "0d6059343e0e41b7a4019ca9c3889775",
      "15871d50145f4735b8d2a5843c010e42",
      "0cbfdadf63fe4c1db32ed6612b35ef43",
      "61fe4f7f3f1a4b5fb3bf2285653c2509",
      "40e5bf51df5d411daf010410f759490a",
      "c91f27859bb841a1950d3e46665334fd",
      "0f6f711414a84c0688a1e241ceac1d77",
      "c2e398dc684b4c3e8492e466d6257d59",
      "53769d007b4545dc9b1b6bee30333496",
      "f9502699cfc04e6b864b87895e0764b5",
      "030da1acea264539b46b5bdf4e260120",
      "f1de00ee4ff14b929d3e53d20e6d24ef",
      "0cd8aee2b7ae47a1a327c915ca123878",
      "5e2964fed2644859b5688b0e0a01d506",
      "02b067d07cf1431d8e9482f7e817e378",
      "e852dd5bc9294628b12ff507ea3a797e",
      "fddda0c032854a6584524c799926e764",
      "a272bca3603e44ffac627f3c54655ebb",
      "002b5137770d4ad99ff64238bfb2046e",
      "f2a6d490c6e24956b25aff0b6d0e063c",
      "55df89fcbc7e4e84a2f870ec46bb2c2e",
      "588630562eab4eee874a0a3e27f0fe51",
      "cb320a7f209d45f3aa2be3b21f2fadfd",
      "4d90781d7ec94dc9aa439aff39fd33f1",
      "850e75c2a6544903a60e8ad044fcd25c",
      "c6000b44a860458bb96528731d96b918",
      "762998d629fb4fcd8174fd7c09baea2d",
      "de6d3ab8f7f84b86a2fd2d413c55b47e",
      "238e0f59d145415ca8ca540b8fb989e9",
      "fe4eb05f0e784adcb20f3397a498447e",
      "072483c8e5714b98827c12774ad568db",
      "aafbbe575d5b4185835f81d331d89867",
      "a4b12df5a3b642e4bb06dedb27d2f9ba",
      "c1e864a25ff54dffa95cbff980c23cce",
      "429822dab8274528bc05848bb795b9ef",
      "8eae8544b51b4d968575040b69a1d305",
      "8fbcc0c20c6241999b7b410103ca8dcb",
      "7c1330f720124045abb2feafa89d5b8f",
      "d8263fd8d857465fa59d525cfcbfc27a",
      "6091e1397c864c4c830f4f64a0003144",
      "ddc66b581fc04206a2d6a0773900caf7",
      "0fdbd8cf70044f79baa0fee78cdc15b5",
      "e1789d199ed945f2bb5c92d62d6171f4",
      "c38ab7ecd7f843f2b2b2d10b87afdf11",
      "ed2cfa2fb5cd4d89b4f86024c90e8157",
      "02eca6e6b5394d70a92624be64f9f98c",
      "2962438329614055b702e1603bc8df18",
      "9eaad94d83b448fcbbbca72dd7eaedf4",
      "b44592c188d54dcc98dcc2aa69291ec8",
      "081194e4af1e491a9b7c34ae16acaced",
      "1f31e05a1af141aea8cec174adc13afc",
      "74b38040a66b4c73bccd7e0c09f7dfa8",
      "e6f653157d854d099a996ff03af5eb05",
      "353dd972616d4d92ad8cdcc4ea95bc32",
      "2d31e92de5ce45caa09c42724286ca3f",
      "72b2e19aad0642cc9852f74ff492943c",
      "f81f4052a0cc477ab9ee40e0815c3e36",
      "45733e7117f34a2ea7c4a80b97ed6ecb",
      "f9ebb6d834ba43868606b5e3efc989b0",
      "378e1c7aba4248dab1b3f44c449247af",
      "9de3e1838cd546ba89b37f0ea71c7451",
      "a7ab513f934640a2bcd5e745657bc56a",
      "eebd7dd1204d4e43a6aad6750fd3f51d",
      "8b1c8248825f4cf680a9acda503573c8",
      "bee6f2c22c7047bf8980b2b4432c9ecf",
      "2b6314d23a07411081ae1e904b5d3b0b",
      "845dfd74bcad4469a6a499319a71d56a",
      "0355e33ef1834da2a520c4f315800f1f",
      "1885e919d26a4bd898551842dd2c26c1",
      "21ffb9171ff64f54ab918f3ee68485b5",
      "eeb4a3764f65401e921232a541346d63",
      "30320540d3834048a73e207904139bfb",
      "5d156a213b8f4ffab5cc9cfb0757c15c",
      "fb272303dae94652ae4a94afd4922795",
      "0e556994f6a84da795cd9d8188db5bb8",
      "fae09ed1182d429583e5e261e3b638d8",
      "7e1f0b680ac2430c9d0daf9efdfd1414",
      "52580ef1d533454ba7cebc685ea61ec3",
      "956791bbb28b4c7694cbdf3871b130e9",
      "4ffd8f9c4b7246dca7871ebbd08aafa2",
      "f35934504f7246a899a5a9afed8d7e5c",
      "8463ae0fed254a07849f04d00391dd95",
      "7c2750d41a9b4bb098b11ef2117abbd3",
      "690ab9c6f9a94f479030f92cac7ee4a5",
      "cf847bf2e9c64e31977dd1b411937d40",
      "6ad17a6e199d4482a04f6535120b7065",
      "6f6a5a0e825f401c9568cd492c3d1397",
      "ee5c310477e747b68fe4572362c02305",
      "8da7a74addf042f2a1e67a0cf80731f7",
      "dbc166aa908542849388e44ed60d9f16",
      "6db3e1f1a13f4ddd96fdda57d1e44811",
      "2def7f874d794d8186676ac019399051",
      "90e03340224e4a62a5c666e6db29b34f",
      "19c69db389cc4dd1a6721830ee7f48a1",
      "f2e59c55d9d544e0807cc32636922893",
      "d4251e6e304c43ee896bd7b878858c71",
      "7ef614fc732c42d384af7fee89dbbee7",
      "aafac8c973e14be1902a367da6a22a21",
      "a37fb3af3f2e4d049b0256d372a01248",
      "f0dd6c8a140148408638480c4d5cfbf1",
      "3d8dd297a7b44d218a63a8bd193863bb",
      "a70392998a7444fd91dee15ac8ce7d0a",
      "1a964fcc1b374fe6a19bfa107d8e4d31",
      "5b14255496474ed1a7c43cd1134deddc",
      "7fd8b867ee84490eae315754d7f08ed2",
      "b7b0f75fdd9b49ccb34576b6d9c48303",
      "a0b914d35b014adf92c2f877e044e122",
      "6a101f4b134540278f03b904caca7205",
      "8bb19469ed69407c8fbba105dd080f83",
      "50d896aea819442a8f37e6184ada0495",
      "bcc2bdd7b6284d87bcb86bebc39dc024",
      "bf64716af3304538a06a1f2bc65cd071",
      "36d4cdbe17b543fcbd31ad9afa851606",
      "5edf6360c28f4d41b6874850f2f11ee0",
      "8e80e43a8811462894cce0f57c18ed44",
      "ad31fc1b185340268ccd12a0599f48c1",
      "06360bf343734c64920fca576efd2cbc",
      "7a76dc95e4a64149a2e66747045199a1",
      "8ed8c90b958c4b6d889d4029d776e413",
      "1f01a40fa4624e6ba77a3456c09a6326",
      "d199281e05924632bdb115cabfe12f03",
      "0734ea78e4f34b7b966dd2ec13463282",
      "83720debaf0a483ab4e5f06b88fd6758",
      "b33dfa87f1a14684aefd419051a78417",
      "0baee4b88ee540a0af995565873169a0",
      "2ea890e969be402fbe88ce099d868eca",
      "9d0c98d11674447c9f84466a1c60cb83",
      "ad4194699b0e477282d8b79c2c51864c",
      "63ff370982a94b759a5271ccb292f3aa",
      "82f95261fc6c453f989d668395e31ee3",
      "96e49fdb206547108bd27b736fb154be",
      "e4c9c687287942abad015b8c92b723c3",
      "17eac45695d5489489fcc6b9db9d34c4",
      "fedfff46296a48f59e82cd39f84ee298",
      "cd8a8a3f70c948cb8c9dd97b2d3bf6ee",
      "db964e777c0e48d59eef64978c1ce599",
      "0fe384daa2d7454aaf876377273803c7",
      "a2151502450a4a19b6566f4118bc622f",
      "032c08f0f59744079a5621c9501adc69",
      "573f71bcb4fc4faeab5992fbfb1813eb",
      "f46bf78eb1dd4f358da24d8d6be1da9e",
      "9fc7306203294a789193f302e4912123",
      "8e625b3205ac4c98aec87ef861a2ac27",
      "1a8dd82c0ee14e898c23976c3c2790c2",
      "94cf2dec4e6044a2acf21e4049356be1",
      "d7a8f1bca0b1456c995bb14495453ebd",
      "0520fa7fee734d1590b73ccb5771d226",
      "2d57a0a19b8040b58ac97641c7b730bd",
      "e72d44ce6a4249129e3f481661b08017",
      "5e30eed8e1874b04b6d05aab94b51924",
      "0bc2065f28c5411f919070457126deb1",
      "07389ed7a4fc457ca74cf6e204a6be72",
      "bd929216106141ba9f845357ccf25510",
      "57539cbc594e41648de7ca03cf900046",
      "71e6e22ac3db41b9ae30eec54e2aa8d7",
      "fd098f888d88434fa345f059207358bc",
      "11af88d7d11b457195ee575000023c19",
      "b7ff02f80752489fa652bb2fcd92c1a5",
      "81d251eea4a54b10b198ae633470d3be",
      "b2f5d0d23a494184ac80cbe558336618",
      "20b793f4e97948de8aed39cf4f6be5cd",
      "27653fa54d774ccb88e5f299c62b5bc4",
      "6836e946db07469a8a913b0a8567d011",
      "adad38d7cdc24248a6d6a3b26ef412a0",
      "7905c117ad3d41609c2c253c9e90af6b",
      "379289fec47a4ee98064042eea2b165c",
      "1493c3cba22543caad21f16327ab570b",
      "523859bbbac94b6f8e3509fa7bb5e3aa",
      "bfd08f36cdf54c6fa4de20d08bdc497a",
      "408b6d46d7f74f30b1ab3256567c6df1",
      "07998ec9fa1d4abaaf8f19b8a5a55d91",
      "b9058b45ff874cc2a90c895c9fd00805",
      "cc5fb950d9204a8699ab5082c80cdd7d",
      "71872d9c74bd4d9a8d32143d2a8222fd",
      "98edbbdb6b9347e5923707d1227ad1ec",
      "fa83da533a4a4bdab119f5fc820065cd",
      "d0ae6b0db608414382910f95a0aa3c14",
      "26f0a14084664289bc4520ab59a4b924",
      "e2b97319c8884e5cabf561143b69aaa2",
      "d1397830f12a49f6a13ea292cd4b66c5",
      "d1a9569aab244ee79a44ea1319590f65",
      "c45d86abfa434566be92965fac765b10",
      "638ef702b141405aa1e7d2da0888b3e2",
      "ffbe0e7ad5334521af3350215a07f07c",
      "cdf37e973c7541df9e4fc26ac0b15239",
      "e7028054d2f243c8b845ff528777863a",
      "b5a15d0ba5bb4747906da48a587ac222",
      "77eab6ad7afa4c7f940f16c3d3184413",
      "ca2e7cdedf7c428ab96ba9aa05ab1114",
      "9ba0c1b079784cfda725aa4c6f36d9f7",
      "050076ed17824a21855eaf3bb9b9d4c0",
      "1e696bb7969643b2ba85110f4b319071",
      "7781f83dc69f4d98b4f08d88d96484d1",
      "6513e912c8e54204a5b8cc97e6769edf",
      "74c4c1adf02d4ff39f77d904cdf1bac1",
      "9a49e5d776614fff8a8334354da336c8",
      "7f49506c84e744e8b194ad250440dd44",
      "9f32b5d5aef245a68a56ad8097f68781",
      "ca898ac8257544838f78f997fd92801c",
      "13a490766b924d54917f7de05f3c44b1",
      "89633e5e2d7047c48510721c4d57bc88",
      "54e8da470b234db39bf5ba5fb6423382",
      "fde249aee8b64d1f9c530e019402e34c",
      "154e0253e2f5451183836e038c00e1f9",
      "c799a80f2ad04c39b786fdc7b69af7b8",
      "88eb828464a246f1aed75b056ae2da72",
      "afb02097f1d04b198a8f2804c10f7a0a",
      "a5d1ad62a3ff4551beec4576a4ad82ce",
      "e7dcd91ea1e44c67833861d55842ea8c",
      "3d41558511d5423ea8cb265d380e937f",
      "40a008afc5ca4a03b6b2ae547462d89b",
      "0ad47d21957a4b5bb64ea227de59717a",
      "4603b4aaa8e54ec6ba8ed223857b094a",
      "df823890d6274effb1af75cb65f139a6",
      "167fbee995c54f868dee40940ce77c0a",
      "aad8aea93d8944f0ae9551f4d1be9c2c",
      "11606118196b43898423e7b97da9b152",
      "7b3c9ef94e1e418bbdb831b3da0bdfac",
      "e48d7d0f1c524b92ae2eb726b69190c7",
      "fe93a0ebb8ec4e0cbbc1a652144d77ac",
      "954847c16cd94ba29c1a657a162c7c5c",
      "a1e983241186498ea13b066ede63bae3",
      "af3916ecd2dc4b85b0218f5af9119858",
      "87adbd3584734f69adfe30c9f1ddc4fc",
      "7f196b93036842b596375cad7583b96e",
      "93ce4649539446e99fa8342152ba014e",
      "817e5ba97eae4ba099df1c0e70f90902",
      "fb44e1c5e2174a3f8fa61fdeff7ff265",
      "f5be2321f17a4a9995240dff85ce2f03",
      "5d537b842fe54d6f99e6db7176f6ead7",
      "8439477df4074e7c981e64cb0f0a5049",
      "99008d51a8054862807ef7a93d292b37",
      "513e9204a4a64b95a35de3d3c5be07de",
      "e7d87367f2b9490bb590557076e3db74",
      "a3fa1342bf7447fa84f17f04b33660ec",
      "4f79e6314d4c48259e8a5a58c8a3f26c",
      "3adb1865e15740edbc160ae775fa8a29",
      "eb9f6ea4b97d46f9aa3adfa16b2085e6",
      "c8a6de84fad242729302c73d0d0b6bc0",
      "61dae08829334ba9b3233f96f6e230d8",
      "4db187cdf8d14048972e14c6a43237a0",
      "fcf55b372873411980cb0fb905596193",
      "250f91a78112426195ab61ed2442d4f8",
      "eb6692e4dc1e4c299b7001ad946fca07",
      "e395033e3d9b44c89d4d5851d3a251fc",
      "8cf7d2ed8c27448c8a616ccefa1ce237",
      "1c11d4c548fb4e6e9a9603b8988d21e0",
      "e93e7f8990d7430e92b239144b3c91c7",
      "7f4afa875bd04709aa64210090ef7d5b",
      "026e34eaf3fc44a6a2a48951f407092f",
      "7af857efc5df4278a8e65dcc14befdf9",
      "6746d4becdba456db6341b084a30a3b5",
      "04a1cd0fbba145feb6cf02bac9f5afff",
      "da01c9c419f54c8c945e00fca197327d",
      "12f82f1edc694fa5babb55525253178b",
      "a55f15dfda1e45588e145bf16cd7d326",
      "81e26fc74176416da8e868bd4ce4bc00",
      "521aedc65ca24261b87f6fc74d3a288a",
      "9f8c265c53be47cd8743d3b13842cbe1",
      "a46840bc7c484d8aa65c2b98708db4a6",
      "18d7cec140fa4691b1836e68993177a9",
      "26db58171ced44e8854a09f42e0c5a7d",
      "f383c1848e0648ae8c454f7a621fc591",
      "4851972bede446a2baf48fe0fb256374",
      "eb1205d46baa42d3b138144263c7aeca",
      "1fde3b50995a48f4a80e259946efc7d1",
      "7fec3ee825a944c5bcb044b3c3631469",
      "609a64a47796423392b4182eedcb1617",
      "df0972e8f53844a78df1cd8538e54432",
      "829f982a7d11447884458a82b3e01cf3",
      "67027cd697054a509586005e8637c0d0",
      "c901752f926044b09e39005df539e4c6",
      "cedf474c410f4826a766a99bb141ba5a",
      "011bf10bf90746a5a6260e648d17ed0e",
      "70b0786a63624c76b1cc9df4f266f2ce",
      "bda23b4b366e44e1ae38a326ec0577d2",
      "713c652c38ae47a095f2d249794f9504",
      "3226a3ddaf554fbbb81c5aab7295567d",
      "efa29f21bbb546eb80bded31b1f032bf",
      "4247ffdc0a97473f888f75ad0bfa596a",
      "7b2e83ba34dc4538a363036ff8d129f3",
      "36d20a22d8124fab98b4801d0626f58c",
      "763402687f224a5da99e18139f1bd991",
      "2eeaeaf0f15b4856957123191945478e",
      "2d1e41692dfd4dfab14578d7564b1129",
      "b1b2884ed61d42be9561eb71fb5a0497",
      "15e1f00b721a46cba0da306371fead9f",
      "8d0004abaa37419aa683e77c35fe03e7",
      "c1e2e25b117843fca2b4c3c6739c88e6",
      "4a83d27cc35a402a9c3f4ebf860b7ad2",
      "47ea2e008cd24bca9d84c5155907d303",
      "b2a7a8d6360d4275bc2860ecc5f31ca5",
      "266aae9061e040ec80c0789ef6a6a35e",
      "193de083f7894ce19161184de9322aee",
      "7dc7779f445a4887834fa42ccdac19c0",
      "32c4662319ee4373a3457b21334c7c80",
      "bcfeeda44a72496e8d53329cf84f22ab",
      "8675bb5227a3467f9ad7fe15eaf03d17",
      "3aabe76b20bb4f04ae49d6cf6770a019",
      "9cd4dc3dbbe04c969e89a07d092ea179",
      "a629d1e7f39d486594f8bdc09b5b0d3c",
      "c866df00af944bc0b84a4f161c03cf4a",
      "46a69e83170f46b6b5697532e7e16776",
      "657500af353148bfb466e4e2d1e2822d",
      "b1b9459bbe55429793fba35f54503c28",
      "bb3b3fe4165c43849587e49794fbb269",
      "f642f7e99a6e47bdb65ee7d4db20a056",
      "59c11cc025134989947d6f8ed27ffe30",
      "8830eb311ba54ca591c3d863dbd9cd6a",
      "22081b605d724235b680feb3d79dcffc",
      "3f035168729b4493a8aca43bad098011",
      "b7c3a6c474394fa59abe076118c1cb29",
      "704eab53e64e4ae6b140e6d5f8d35f45",
      "a9eb9a76a64747b4b7f227fb1d37f81d",
      "35dcd09626fb4003844e9b0586e4d4e4",
      "2d6b62f053c4463eae160bcfc98d3bf5",
      "d13a4c0ae5c44aad9b7deb82d5e98dd6",
      "2597826a5837473f99857a3df1fa6bfd",
      "764bb6708a5c4a2294f26278cee4d436",
      "fac487c62f1448248453df7391ceefc7",
      "e7f7c3fbd66440af9cf5ce8e1f07e716",
      "f4e98b824d4445d594fc8bb21ba8be78",
      "3452a62fce5c422f9c21f0c0e68e1160",
      "0338f57dee8b44cc95f9490e770ec506",
      "77bdd937390f40908a086752cedb131b",
      "e97c76deb1f8438189f72f4ff1b9c45d",
      "8cca5151c2264bf29f5a80cc103d47fc",
      "4e9e9e2f2cd446f8bfeb662d1a0b3a2c",
      "24ffeba1fe854815b5885a87310fa6ab",
      "bac433eda9014a0cac9cda20281f29d5",
      "f192d22d123a4aeca7fe3039736a1018",
      "926798761de94833a01bd15d37f5e1a9",
      "01c947f11ce84009bd6695ed9812948a",
      "2b742adbcf194fca8d86521795054226",
      "cf50ef1caa854b04983f29df0b2e14c2",
      "9dbf0c9657d4451680455fa9c0bfa667",
      "1f3152cc0ee647d08781db9d6fc149a6",
      "f7adbf09f33849a08607f8ab458573ad",
      "90247fd4b20b4ada830427bf1c0e9221",
      "a141956ccb964769b37e678f012f7e49",
      "65f9355562094f50b0257b1b57246037",
      "b9e1106523144db8abbcdd363e2ae82a",
      "82661426f61147f3a35b19a6745f2802",
      "129fc36424d8474fb1cf080b4f4b2e34",
      "7310a024e8474b8ca23cfe2555453fa7",
      "191ff23a459646ca924d374ab0a79894",
      "73bba62b13c240238a83711ee26bfa94",
      "47623faa54bb436cb7087643aa3ec682",
      "350bdbe1a8b64be5a31d899114af2fcd",
      "e16ac86a1444490097b96f3489cf4e15",
      "8863e3b907d34db29cce5fc41f89efe2",
      "d17a46b8de264e08a12ecb07c7e01788",
      "783cda45083c484ba9da8cc78372621d",
      "78045a8d0ed2463c87d55066da1f4996",
      "add0701bf78943389fda664f2c00e909",
      "78f346732d8241cfa1295ce11ac736da",
      "f165a4eff52d4aa9b8d9fa7471a0ff38",
      "8d346d75c56747b7af6ab9efeaa134e3",
      "a00470a5011d4fa1984d8b77258072cb",
      "88e1150503ca4f0781f60b1f518b0b3c",
      "cc0ed73733b94fe4a0d0474881902498",
      "e5bb577ce89c4d6b909e183afb8d60fd",
      "8a16dd517c2a4ae0acc28b347b9e1906",
      "9a9c20c0be5d4f69b8c13522ec237aea",
      "28312799746e4831aab81bc93a9ddbd0",
      "d70ed60c77fc401d96f8b89cfd2da1fd",
      "a99344ec7cc74f86bc58015ab0630689",
      "0f8fe51735aa4ea08a0179eb0e69fcd1",
      "4bc06eb77bf74bb78fa5a05fa302dc3d",
      "ed72b0e91159466cafcb4c136851fc83",
      "580ff6d63e704d74b168524c6a3be3e0",
      "7bb2d14559cd4af88b9d805586de6e4f",
      "49d7001cb4d6478c924ad87d287a6a74",
      "72740920fa214ee8bfda65987ad6d6dc",
      "0caedebd71a040c39a92789f5a0e5926",
      "fd2ad3dc1bbb41c38ad88bff2dcad748",
      "88b2441514654d33bea18ebcb4eb8a6b",
      "89e78793f6d440e4b7d933178da7f220",
      "a3b970ffbf7e4ad0b0570272f5c4f48a",
      "73ac0e87aa79468fabc6cc9e160dddf7",
      "1f0938b8ba0e4556acb299a440e251bc",
      "3db232b0393745ee8529ac76a7767532",
      "73b062f99730447fafd565b220be3f68",
      "c60a73b5ad2b4e16a5ed062fcbd524a3",
      "c6dbfa8db97c42feb3d35d5c0e4a51ad",
      "0abafb8e081e46bebce6df4c987a4d8d",
      "56a28922a3724e968d300ff32d1884b5",
      "f40c28072e0b499ea932a73a48ac873f",
      "b49c57b884304ddcb0320c6829465dae",
      "813f105c912940d69e961e3896d313ce",
      "8d36aaf2b6fa42f39de6981ca6849548",
      "833c75ae21544e75bd8c6dcd15882a37",
      "0c1d14bac932412bbd5326cfaf0e5552",
      "ba191b320b244f8f97639501cdbe3732",
      "d1c4a4962ebb4a8a88b69c2a2639ed6a",
      "f22a2293d94d438b819e5022b270e417",
      "61730815227a472cb81034e7a6aac71b",
      "35464c4a7f5245a0acb8f7530cb8e3c4",
      "6cee1f5236de4a609dd2f2903aa258b1",
      "930cdba38f424257a539bf383c038880",
      "3cdd870610fe4ab7b7ce7f55c5d28b5d",
      "6370ea7644d04e26807226a991bd7aef",
      "7e5859bb501542bb9372c67773de3132",
      "82180b64fa2040978bf7fcae5901df93",
      "7ba3ef71f7654476acfeb20e392cb013",
      "53982dc78b944ae187a7a05c16b4fcc9",
      "f71cfbfd7cd94b31a17e019ddb804120",
      "05039bc6185f4b03af010d813a5842df",
      "4b060a71b0a841b0b2188f95847171ee",
      "a3a15247abff4b47b71d65588902db25",
      "75d27a8bc69a4d69b5e54e59412a3a29",
      "e92ff588b46645d18296e14137fc729e",
      "db822dc3eda9473c94ed30184671257f",
      "e11c254b75f2401d9b5141d9e87c88d6",
      "0c501b06155f42efa46eb4b97c58d427",
      "c198245a98834814aa6e8cf1cdfc23e8",
      "058bb4e1703d4c85b8540900f660310a",
      "bdd05568fbdf454c8050c04f1131127c",
      "1e1e30c33bc74cbe94dda9cae6dcccac",
      "34d111dd83ef46529c51cc38ff0863c2",
      "a60ff0cab4dd42a8b855287da22b8c53",
      "7cf8ebf3b3d341c8aa3bcbf01a2f60fe",
      "45f988e36c894792b26df6bddcae5a41",
      "f84d2b10ddb04981aec5d04c1f1480f1",
      "1c748f49b4d14a4a88c66cf7bbeac501",
      "1bd5edd300e141b888a00206c6afbe7a",
      "0d9f2cad297f4a34aeea7ad3415265ea",
      "6edd7c3b42ad468789272e2d04793b3e",
      "0da598cf04ba440bbf0be4fc12b13330",
      "4542661fa0af4268861c863991f40279",
      "4e686af26aab4d6cbc8cad152d715d5a",
      "0dd2ad24401a45e9917cfcceef092812",
      "0504e6fb59da4169ab2fa94daecdd311",
      "df17a26758f444afa79849f44fea37cd",
      "d2bfbb5708754a4cabb09f6141051640",
      "7fa4608ebd4a4f57bfb051f0709f3e3e",
      "12fe9b903369401b9aba7d57a8b0abc9",
      "e8cdb6a0641643dab79b8a0269495505",
      "270a5efd3def41718ac9d581d774c0f2",
      "4174f07119ac45fe93b265e617019478",
      "7450097923974b9ab15f06c7c26eca6b",
      "176c0e61df304eb6ad5c5b8922c009a0",
      "cc0382207ff84e3db46a66a34f9aff92",
      "e4bfa574dadb441db20c26dbbfa23d7d",
      "41333ed5ec5b414d8dd3d31e451bd96a",
      "2108305d09a649fc8563a829c0b95030",
      "d008b850559747d7ad7736c9b2090ffa",
      "222cbd96478a4502b63b6a6e2091a236",
      "ee1e79ff1c744216a95814d8581351c6",
      "1adff89a3b1b4ce9a0a3c4d1757c4427",
      "bf68a1b7012f443d9cc3a017fc34a6d0",
      "63e4a2dc88cf4c209a75a669bab3279f",
      "97b861f6883c4ff79454596f2e884d0d",
      "2123c628007344fabf5b4dadd275c626",
      "3e107a24176a400aad4084eaf09d9663",
      "4e915ea53b3a4fc68a74488ee0c6ef48",
      "028199a338b44502944badd5f30cf484",
      "b707dc92fa254b708dbb4a338035f8ab",
      "f9ad9c5e76bb48b382fda9c063d07c7a",
      "c995b0d1fa594915b50418896bba4dc7",
      "cd9b5074e99a4d3ab4a9aa0a2ccae75d",
      "eff6a9218a814fc5abb00ae696008664",
      "e803626a4f194c049c454a3b0eb80704",
      "1863f3eb6d2143618efbb28e45cdc5e4",
      "5a32b14b311b4016ba7677269b44cc58",
      "021681f3da724102a1727f6dc490f280",
      "3cc42cecb44742cc8dceaebe5aba4ba1",
      "48fc7f2298264f44934fb4f949c3d2b6",
      "f3a4bc8ecc114aaea010c69e81903386",
      "31cd6f9d7d8340adb613831409d697ef",
      "08767decf69e419e9dcf7f80e2afa13f",
      "e21b1e9b0df646b6bc0f33df204310c2",
      "263272eaac35458c9308c1bae2a1fba8",
      "3c69e7ac638544ab86327dbc55457670",
      "48c02007438042fba20903c8b243bdb6",
      "718897662fec47849de9d6bb69f35287",
      "b94a8542bdb34df7b921fb540c8169d3",
      "23e03a6b318c4277ac5b401630a1d3c7",
      "1e79516c25214d8d922396413f7013cf",
      "cb7df99858814dcf8a4370c6d976290e",
      "37a8f5b6c96a42b0ac528833a251dea1",
      "039fb88b6ea84af1b33232f77f1eadc3",
      "89c7c8808c9a40f992c075fce87c175d",
      "ccea743220f84cf9b2865be5ec1573a4",
      "385aed2d373541f0badb65e5277bc496",
      "b24012d263794eafa548631ec26f5c2a",
      "71f40bcff4ca42bfa53bcee2efdb39fb",
      "64cebb832b4c423883b7a9fed4c41182",
      "fd2c2d62806c432486686a68dfd5dac8",
      "de9e9bc7e45740d0833ee235426d40a9",
      "dba989ff81c042739c226316d4a63b24",
      "42606ed49bd841e2ac5a629f2e93f6c1",
      "0ef6f3499ce849afa088d39daf8efa70",
      "9d9f2951726b429e9c3471a65c0033b8",
      "c7f738d7f7bd4f4a8f230ba33db52fc0",
      "39c9490571a04d9e835e012d0a9d3357",
      "c9ef60fbf59a4e46ad73cdf93c1e307d",
      "24f03fe3ffa34c4b963c01930338dd0d",
      "b4999243f1b448e3b06778cbd077dead",
      "e3bfae0ca44b46f1a6118e2c58e70012",
      "0b4b346e9d95447b977a966b5e44fef4",
      "6dafeb0e72d54a31a1e35c2d9214b636",
      "1f80bdb4f42b44ef9a67ed3ee5d4e8df",
      "7eb3a52ead0d40ae991eefd358faae74",
      "dd23f08cb7df45b6b927af044cf9265d",
      "8c90190c78f24b84ac0c05ff06f888b2",
      "3738681c691745df8fea91b11926349b",
      "e3e41ff48a28471aa0699a91ff401a88",
      "e26124d49ff8468c97944cffd4854cea",
      "ab763ae9966743db8073f99e94b0eeac",
      "4ba34d5fec964340958f65942181afba",
      "e89c67fa08a4467ca628701531eae353",
      "e239e1da6d5d4379a8480211ba87dc35",
      "fae4a65dc24c49f0b3346827d2b0a9d3",
      "3e6d934f585e40cc9544bd9e46f94cc0",
      "6ba5e5df9bfb4b338d0d0d39c9c7198f",
      "70b296ed79c041e3b6cdf86d4c0c5d3c",
      "179830dacb074997b95646532a871ddd",
      "9503109374d34c6aaaf7a13d5a23014b",
      "12c6fad94a7f44a4b7f3734eca7a948e",
      "0ecd3b64e85f4bb1a48be39e0f03e4f5",
      "dd387b6cc4aa41c4a3cb184085c3a5c4",
      "4e05dc62be524cd0a2d1d01dcd4defc2",
      "8dbbb922f42744b28a2aa12acfe9808e",
      "de6c6794bea24c489941f79eb03f63df",
      "cd12c8ebbad64053b19700641adb256d",
      "21f4845d5ec84b6bbe7ed6660ee6a2f3",
      "cc6cb8d241f343bcb719ae0e2c7f2dfe",
      "aa2e1d7807a74022b2a76dec7654e8e5",
      "0e0d4cc11dc04c60850952d3e4df14c7",
      "9bc2c248dec848b98113b8d7d9c20786",
      "badf8c2a2fc1495e91d2aa1c79fdbd7d",
      "58587ef974314be9b8a8cfde066c78d4",
      "850b94b04e37422b8e5b17ed4f1b3399",
      "349eeea85d4e448b90b3b376d83bc755",
      "7de5e54d804f45e9936c71cfeeaee1c3",
      "2cc0eb35b289498cace679008e022673",
      "afb5877fe55a4bc3b5c24e8e444326d1",
      "879b691d49e14d2f81fe37ec3ca4bfad",
      "b1aa4153cd67483fbff1a3f322c86e39",
      "0436e5424e1243bb8d3deed031c317f7",
      "a42f13ecf8ca4214ad7f8ec55356e928",
      "987818ad851045439af15009e57a2369",
      "a9254f1aad454b1497ea633540053b9e",
      "d5076ab376154acbb37e29bd1ab5b876",
      "7b7f8c1ecf0348cda8d4b12b9d23c307",
      "8b3ae74a6e2645488b0827644161d57c",
      "880145275b67419fa5ea91449a233dc5",
      "0e9ca92231e44467a88374e3bc17572a",
      "7f5ef17dcab54c66aa1dcf66957b0430",
      "43af0be3c8a54f2f8b3de799d2a17cd5",
      "420d902d26ca47e493f66e74a0c375a6",
      "6e274caf486e4dfda412265d5ae1eb6d",
      "9a12c21814584f5f9e90c08f5c79605d",
      "c31131d3667145f4b8a8a30fbf6a0ace",
      "1bdc1aefa0424ad29ecca56f102761c9",
      "477ee25dcd5f486b91ce6ef820830fe9",
      "216113ea792848c2b015dc76485ad2f0",
      "befd8885c79f41d5ac7a80b502872df5",
      "bc1873468b7249b0853fc96a1c9957f9",
      "fd8c2dfeb1e748068644d1b897c9ea01",
      "47462709b7ef4a16aa5efb374b77e3dd",
      "51bfbca118ce455887b72c585f2d4d34",
      "8fd1a500a0c64895b3eddf94761c77bb",
      "b34b5b6addad42189ea07dd0cae2d07b",
      "7c36a0c4b1544ee3b00fb25ba2ca579f",
      "75a4dcabb193422aa82c954e977ca7fd",
      "443e7368aba74827b0eb6a020d11d211",
      "61066144603f443f8bb615fec3c9270f",
      "35c982f5b5e54ab6980ce03c4da0ca7f",
      "470d8593eecd4a57961c8474bbee0599",
      "ddaec924fe34453daf379196f81525ef",
      "29134abcaf50404cbbd880a11d670a88",
      "49640c43115f4ff790cc38c187914760",
      "1f7467e3c1114b2f92224729ef741ba8",
      "ae7d4a5dfff14022929d6d08fe4cc147",
      "34b691f1cf7b46379de6f22f474cff44",
      "f0916c24307b45d9a5cc48a5cf09c95a",
      "bb5307ff195947018191159c5d416122",
      "73f5111c94d6424bb0a4202a1936a26f",
      "e1f22e79496742158b8ee9a9b48b1b3b",
      "b394778def164da4913e07cb964eaf09",
      "56b1026a26dd46529f1993eb29763fb1",
      "ddd78f49a79f4a60a6bc0ce8941dbe84",
      "84ed0767e9514a75adeca3074d18ca05",
      "d4a103fc8f814c13b10f686fc2531e76",
      "24708ecf9b344b738234d5847c16acd5",
      "f05b04af35184f8c874ab94ccacdf742",
      "59a3e83339b44e3ca254050d262e0e58",
      "27be35785c9846a99c934ef270ed70f7",
      "0f93841a53b4474f85f97326b916e12d",
      "5406176d791d4f00baaa31ab5f206b9a",
      "4691bf945f074ec3a59c6825022c23fb",
      "7f0b7df7d0604e97836bb915debae9a8",
      "25c12e59c2c54b8daa521f10c5e729d6",
      "c64b6b8ab8d84d08b76264506a2a7716",
      "a5fc86890b9a41b186ebbf72faae2de3",
      "b92b609ceead4b75824e40a3039e6e0a",
      "e50fe06e7ba7430f81f7d0d32d71a490",
      "a7d58c8ea7264d6e90baa06f109324ac",
      "f8b8de3135ca41878dcb6a2cb1fb346a",
      "5718584b8b724a7396df2bfe057b24ac",
      "38aa1507acf4495980458c869e1a84c9",
      "54b7fd2b02f84047acc0f9df15be3cd0",
      "56eb4f6025844dfe9ef9b9d63436a0cf",
      "ac09f874485640d880ec1ad66cb7ce6b",
      "4524be2a4af4437e91e9ba95f4d8ec35",
      "b2cd4642a3584cf0bcf68eb66c5db68c",
      "49de9632e3db46cfa97a0415ef4cb295",
      "f98038188b3e42d79cb668cedbebc469",
      "57be75f415324f6e8545c91fcd93bb0d",
      "45fa66d9623c47719a6a0f75a9c467e0",
      "b0eb82c005474865bb29968c72fe41cc",
      "04b6b4f8b08247bfa366d1fff939e735",
      "c9024b14c8a34e9592c5e10f036669b0",
      "7ed6f04154ac49d9a907925808fafe02",
      "363c3307a69441a992dccef00c60509c",
      "9885ebf4685a400695eb715101021767",
      "1632460f25e241f389a7b122e4d5079a",
      "6906bffc657948dc846b3124dde01c78",
      "0b44ee5b7b8c4709bd97a9537e4f2333",
      "9548a0293b6549ea9e44f28986f6b820",
      "d9bc741f37904f748a03bbfe210e3cda",
      "e213d6327d0d4553b70f3d87e05b8c3c",
      "4fc1d967ff224341b02f870dd4f8db69",
      "34970f47367145b4bf7d9a09e8b0343d",
      "7cd73fe258004cfeb54d5584aa3cb5ba",
      "0ae2bb60c6c14095823d838ea34dfb1a",
      "03dc25331f81480c919563439ad1efb1",
      "50bb7f69cc824ad484b5f42814e642c1",
      "7a084539cae54605b7e5b58c4599d94c",
      "0c676ab036b9427fbc9d77e7ebcdfe2a",
      "b7552900793940daa7077d41444c9084",
      "16251c9dd8b842159467ca95919ea959",
      "f56c9f8999be4a668db0bbc826c7b57a",
      "c24e1508490741a482097dc32e1bdb36",
      "6a165142e244447daf797804e203bc4a",
      "0aba7a13c71d4c14a3521aee90964c14",
      "f509642d676e49a2916c6523beb9ce69",
      "99be65387d4843f9a1510f30629539bf",
      "4636be1f07364179a3fabf4466b85f06",
      "9617f062f0f148519ac114393907a957",
      "3af50e2d5f4a4284b9443bfd0be08077",
      "d9689cd43aff4b42b0c2564757386304",
      "eaaaac586be246e8a8a45efc41be306e",
      "492155c4f8df41049a43d7a568b1b172",
      "46a82996dfa84575947543a193356991",
      "cc4be22e56df427c884dc3a9c1ba2fd7",
      "6a4b0551608d4dc1aea2403cb548bbac",
      "dcdb733f1bde472c86182d641f39028e",
      "e6fc792facfa406fbb238790c7fe470d",
      "02556e88fa6240888836ae16c9e5fc3c",
      "ec689b64e05a4ea78a92c258aec93a71",
      "86952403c5ec43dea630fd8097f31093",
      "29493e7a8b854c5bbef2cc2e618f0511",
      "c68de1d51b494e2086648f9ffb732da8",
      "2b181767e20945a5bc3158d148426531",
      "2933a100a3a84dde8704eb7728be85ff",
      "a895e5883e3d4f3aa0d13693494481bb",
      "8cf6142d1edd4125a9b6af2da303c725",
      "e3166c9c44d44536b8d578b5dc946b91",
      "740c4b0a34ea4a56bf50ec6565d7020a",
      "fed06e35fa514895b7abb74b748ea369",
      "d16acf89d314455a882c677873516834",
      "89b750d4c1c14b97a325a3b4155bd89b",
      "d1fd2ae5a63447269600ad3b1f903991",
      "9808dd5927404f23bb755cbd85768448",
      "832bccec3f78493d95b30b6085ed448f",
      "b8723d8ce8034dd8adf08b8b48164935",
      "c13261c22b6d4333baf1d943fb92ea82",
      "193341672e264a88a49635749a007fc3",
      "4cce8c4d5140468da2bee1c050e031af",
      "08632233eecb4de782745ed7973ad1a2",
      "e97a346c402648438948836f50b67d20",
      "727442b0a7bc4a038b6f0edabfe35a2a",
      "a38fdddfc40541358a5c3207327c8aa8",
      "2886b178b04a4d26a60257d2dbb92e1d",
      "bf5feb3d7cc6487cb21fd1a3103fa92e",
      "590bacf21ea348e4accbdaf2995f9eb7",
      "be61e2c6af41419296fcff1274915f3f",
      "d2c566f34db64bd5b8a3d53bee09c9ce",
      "739ffa8a667940e3aed0dd5a9cdc5fef",
      "fcb22a09dfff4ae085add0eac9e2b3b2",
      "54c3da00ddcc4102b43b26af51842419",
      "94a29fdbab0b41d1be1e81c6ad0a1707",
      "77236a98e391444aab475b85feac5813",
      "847b3262435c4a549cf54ce312d6fede",
      "b93886e6d0a64ce484936e11268d7ddf",
      "62eaf9dc1a324b69a88faebc05f987a8",
      "cb673f58d05d49108b55901d89656f99",
      "ec9cb07159114c4c8a7b1d7faf8fc6cf",
      "dad1602ac98141eeb947bfb55e3c823f",
      "16a6375f02b440d193abde99905a44dc",
      "0f8150b12b834dce83a2f35a845f8bfd",
      "894de1fec4dc41eaa5d943ea47a8ce28",
      "952c5c8b94b24a909bb1c526baff0b31",
      "0dd39916500a41369eac993fc20f38ff",
      "a9ee711bde1b443fb4b6eb15f002ac75",
      "07799f630a6c4175a49d3af6c657cf21",
      "e006544d90574feb834d3addde1c4a79",
      "47dbfc0bbcbf4012a038340f26bafd8f",
      "265e09ef82d445f3baf804b0d661b7f6",
      "83bc09d84f6d4c798f356329837c6633",
      "6863d390346b43a4b7aff4c6a5497503",
      "9ac50099ab0b44599e38a6d29c36e74e",
      "cbdd28bb97674cdd8690f12d5357fc96",
      "552e5c1d83504043b31e7da51dbc3563",
      "977f5ec280c846e6bed2b83e8c8e9742",
      "d5bfc1a85ef148359a16d0f8a04b8f73",
      "5fcc24567c7340db97fbba3f360e1b42",
      "e04abc58781641f3a760429a13876ca5",
      "71b0472f0c3649eb8546e0381cdbe4a1",
      "a2e7a6fdfaec4323a06567edd05b0dc5",
      "39fc0ed0a5b1415eb927c9bb12972966",
      "5cd235d3c8d74968a032e979de613c04",
      "bf44829d7df94c3cb784c1f0b898a10f",
      "5a0cd3c1715d4f61bf7481e4b95f0726",
      "bfed64e738f44ac5837aed11e30fb7f5",
      "ef5a13521b2f472eb9ad56345147eef0",
      "80d4b301f37f49dc9ea42debbbc6d4b4",
      "3748fcc643c14484b3b78d92dd886be7",
      "97a929ce0b004358a56f5f61ead3881b",
      "a76a81ff87714ae49ba4ebede6183bd3",
      "0d04ee4449e645a3973837b07a8400e8",
      "72c5304e7d574cacb714f15388c0e489",
      "b00211a62984411092f796e94b3cbf11",
      "c5b6a79fd0da4bf2aaee591f91631281",
      "f2b2b093f85041e9ae263793e7145ca0",
      "b95ed43b63194defb786d1ac29a059d6",
      "d5c577301f5646b8b0e2b064cd99447c",
      "ca3a216342ea4e8ba18945d63a472914",
      "d10c01bd8dbb4c85b46f345e8f4f0c24",
      "95a985a92ed54bd4be499ff86fbf7847",
      "0d8a38066445424ea1338b3303167e5f",
      "bf8f9e8cdc7c4321ab4cdca632c2b28f",
      "72214074f62e4f8eb63ae7302f94f93e",
      "38addf90c4c6442f99a7d7b0df07f660",
      "b1b9ffc226034a938468c865640a6cf3",
      "c044c2e15eb14d6cbab2cb8db8628382",
      "1a3ee713ec654ba886a670a30d071e8e",
      "5111c25ddae64b59ac0f095900893cad",
      "2593769a1232404eac339dbaabd1e697",
      "19108b27a019496db070f4ff38743938",
      "4e6de81e6c8d4a10ba69b8ee5433b95b",
      "f245d385a5d743078b776d4e6cc80bf1",
      "bebe865ad85a4f9d89c1430dc9d92732",
      "34bf98c495334d1681c895baa79f29bd",
      "6596daf945ee481f8237943744e04b60",
      "790378780f064760ad606ec10f4d2c0b",
      "6315e337f91b49c9bec52a4e4d59b275",
      "03a81397a2aa410ea74e98fa34205090",
      "c124293ea8ec41efaa2a0c1b84a7e02f",
      "bbb070af405e463292df23aadb69dee6",
      "b8de471dcb3949749113a5eb56d18242",
      "4a585c6a84794096a5edb9c438c913ad",
      "d855b575b5fe43a3b5cfcc29e66c92cf",
      "50ab596b877643008a67f651194f3693",
      "5de1900ae742468a8ae395029a7deb96",
      "691cc4ec25034d13b722908139ae812f",
      "c77787fa9fdd4cf79ef71acc45383575",
      "3996ba99e66e46d9802f1937ae996114",
      "cc760793056f445bae134160d600fe66",
      "bcd339eb70264a7b9689f66977cd045a",
      "5f030e9f26184b7faccdcec0f183a31a",
      "7b86c455711a43f5b68ecf5f1cfe5a69",
      "67b193b565dd411087cb88773f0d0b28",
      "f8ac3a533f8540b5a0f73773276ffa05",
      "43c3eb1c69004026a770a3fcaba4a81d",
      "0c24bb38ce694c73b2b433c074f6544b",
      "1e7c247e1d61452c8e46ef932cef0029",
      "f3fa6d9733164bb69384f4108d9eb419",
      "2e16209cf3774efebe803866b1d6dc1d",
      "2cb010f2d1434f2cb6548d2fff4f3da8",
      "912595a5647d4157a69072e04960bc92",
      "5c3e7a1bfa7144a8b843b6d1f222bce5",
      "680f5897b4b2409dbf3eb7e0d2f3ff93",
      "3c8c375253274cfba16a6021ad2c0122",
      "afe29cc4c4844c639a1f8024ef05fa61",
      "af1a23ce4af7404991a379465df65a45",
      "0be906b9349a4fcf817a661d137e3fa8",
      "9469c0e8f6cf480d8fc207ed3e4fdc60",
      "af7d12006b8248a3b8c60fa9286ed131",
      "52b65a80f76b4a82877d57306ca83677",
      "23ff159a792c48d6a8c73e544b282a59",
      "2b67f3b1f258465c9a4ffdaca2453831",
      "fff8ecc8165348bdbfbec308d7c5b604",
      "eb52990e48ba4433ac6db0122ca60d4a",
      "447e2555b3874436bd6dec8189d8da4c",
      "f0c58dba5cde4b658511805004628ebc",
      "7656225dcc644742acd5995a2375be47",
      "87511d88f46d48c59bf57c0ac75d1f04",
      "f4a39a5c03d64b5ca472466ae945a6cf",
      "2e53f5159cc445928e729bed8726a713",
      "57f5105e8de1476ea763aedcba627671",
      "0f3ec2b475f34f92921d789d6870ad02",
      "c47f17f7f8bc42d49492639286d162b5",
      "74b99124403443f9b98da51d90e2cc03",
      "8c4028fcf74342d3bef9000bf12df7fa",
      "52ecb15e90484a56a827ea0d45e663a9",
      "936421faa29e4a92a80419d78bb7bfff",
      "6b72e00f13474e6b8c3b99a737382d72",
      "dc5fc965f19a498da454d1e91dac7ede",
      "56c7bd1d19a84ea3bc02a3afac7b24ef",
      "d53e9d24d53e469b96a94c6824d33a0f",
      "26c6c0a1c38646c2a50676729bf3fd2e",
      "85c81e3fa2304880b6a7e017d8c32678",
      "14245e0f590a427b92eccd64ee0af464",
      "dfc49c03f12c4ffeb0bc533e4a1072af",
      "d7d42882b60e46899ce42369e2342e95",
      "482b2054eea5423da0374236565f10b1",
      "79691374df964b1ea9765521911b6e8d",
      "e2f366f2a2614c93a463430a1d8f133a",
      "d55ac9e2bb8c488293ed3977817ec640",
      "6d3420a2ba6a4a62afdbd4bf917aff12",
      "dfd119dafc4e4f3d9a95e0829bfb2172",
      "5512fc2f8d584e3fbed1b68ebbedb4f4",
      "c14c22609e374e459a16627a1c598702",
      "ce9a17b1619c41dca1dcb0050baebfbb",
      "6bebf14732254b4486648e1b255937be",
      "05492118e4224e939685033917d8043d",
      "e888d6ab5af2460f96830f238ab3631e",
      "52b3174c6bbd4be48b4f948afc795bde",
      "780421915c8b4f1eb4b22c3fcc402794",
      "69174d6e4dad405b85f7c3724e0c957e",
      "b31498ab09aa47fabb12eb1ce3bbb9a3",
      "24a4ba9449c549c9872b8850177a01ba",
      "c1923f9a26e343f38c31126cd14c205d",
      "5a3ac06dad7f4715ad0467f6e2913a37",
      "53979e0ad23149aca4b089b158c91abf",
      "dd0ff4af14494d509dfa66a3b8a55649",
      "06f3435f1e494b018a4334ca61b0e2cd",
      "8a8b3eecef4c48fc8aa60b4f67178a53",
      "f17ec28d16e047258e35a34258ccf8fd",
      "cb156b32462a42329e4e4cbf3db19530",
      "057074fda85741af9a9e2a9b120d5c1d",
      "a6ed6854e0fa47e48bff66c4f41475e3",
      "d46448570a294e1d94546b96ebf71cf4",
      "fe18c2e1d6894374979c4aabe46fa681",
      "968be71696e84388b3fce076656ab6af",
      "6d9b970209424608bc460980fd0b08cb",
      "989c8b68937d4dadace869e986836e15",
      "d0641451b0ba4b91a6d89b5d13e5bc17",
      "5871d26edabf4e1d8ec096cd17af8509",
      "ffc78dd868014624a85c2fa71638f2f4",
      "a78e130e313c4b18bc1ed2ff641f544f",
      "366a3b19c29e4e10a10013340ce05d15",
      "8c929d92eff04005ab7de5743d0040fd",
      "ce457ea4238c4a4fb0891bca74db5a40",
      "a94d21f8298e42f5ae0068cd4230617f",
      "4645986b88594118b28acfdbf0103ba5",
      "0a114e23208e4914b2efa2cfac8b3df4",
      "d10eb7df495048a284a6c97a55a332ef",
      "dda417b5c4074b30b86f66814518019f",
      "ecb2c86a1ba448aba07c1b90ec29cf78",
      "3eb16784ee904a5d9b4fa465d1fe6af2",
      "e3500e2c465f4a878bd2463924beb989",
      "c530b9085e4940e989d9da67c85ac35a",
      "ac48eada8bd043ba9e492ee265a81e96",
      "397e2d9a9fc243f882805baca89bb35b",
      "40e590b9668d4a2e880c65738e820699",
      "69f0873e588648cdb636e6284d302b08",
      "a00353e5f4cb409f952faf0a1c22cbd2",
      "38d873cebf224663a4679ee4ec30bf2e",
      "9c022461cc1b4e6ab0a326a4b1b06ca5",
      "c00fe8dec76e4a63b3b9501c173f21b6",
      "794e814a913e4d69a497695b9a67794d",
      "d7637b57234e4cf3ba7725239964a782",
      "12a9dc6a4df24a6c8dad9aff087b17a7",
      "3bdab7752af142fc88632b2c7c624931",
      "eda07b304e3e4bb08325d149b47c6577",
      "a88ab24606984a92834d5768ea5b62ce",
      "e1497815677c4418a7d99cc9d73870bb",
      "f2ac363fcf1841239ad54e4dae540953",
      "c58feb8aba194f478f4d4c7a7991d723",
      "fd08876e4a604dda9f52fb9e98a621ab",
      "d87b2ef93b7e41479554c6ab349dc88e",
      "548be24fc1374582b46de92766fbc92f",
      "fe9675dc978f457fa3414c7aebcff78d",
      "d61938d5aafb48fe85b73a97584ac809",
      "3461f73c0bb240dfbb656c3cc763055d",
      "d07af8c675fc4913bb466d084af4ee2f",
      "9cb012260be4498ba4e0b515daed1146",
      "50a268e7a60340288f0c3b4528335fec",
      "476ace4f7e474472ada295b19cea8684",
      "82bd9486185f45909de052be9b98232b",
      "05b6734a68a5401e86796f4dc8574011",
      "bbaf6402fb5f4233b18a216d28fbee93",
      "4bfa892cc4be4032988f26152e1cb9a5",
      "f43bf05b34634446a6de66fc895924ae",
      "d6c425deb8534cfcb29d434946fa6cda",
      "7dae5d6b02af46d08f0bcd2481909cfe",
      "e7d98d3dddda422ab801758a6015d949",
      "09574dd8c49b46d4b6ec54a64baeb1b9",
      "76eac4e73ee541d1b935fac40d41f6db",
      "07c230289f8c473e96a9f79fac7059a7",
      "6da3b7f4b9454a28a7c863e33168e6c3",
      "5120c2f5df424c7eb0f4a2ae43f93e94",
      "3ecbeb0dc4ce46dcbb6022c97e70ff7c",
      "97c7d9f9e2d74a169c0c7ebd7960dee2",
      "4ab69cc94d984715bb9f8f9a33e82ef6",
      "64d670e9b7e64b28af1835fc1baf0141",
      "96bdab4abd7c499eb85f4410c813f61a",
      "c9e39ba35414436495f4c5c3925249be",
      "0ab70194a5ef4c07adfb193f81729d13",
      "0873c25d37a749a18d4bfbc668b377b9",
      "5233d1f0c3a6468c9d98b933b4b6cfd7",
      "dfd4b6b60ddc4a61b00965dd525e50ca",
      "a634954ae1804077b5286118bfc7a452",
      "cad58c79a678478ca962b69801ba1d84",
      "fc8e955363004d95a54c5c710b154022",
      "2a03b233f71c4514846abaee38308d09",
      "98f0d761b3f8445cb0b5c21a1e9756ac",
      "013db2b53f434c3b93aa4def061dc821",
      "79cfc8fa68fb4d7b9116a28bed8cec02",
      "c42737e7071f4c32adfe7a3c1e70f670",
      "37545a0fa75d4d37a3f69ce5405ac55f",
      "c95f71dfb2394790b252d876cd14ad76",
      "f6de32cd1b80492e858eddbee992aca3",
      "c3603437cf284bff85dfb4ed4ffa0e6e",
      "a451025fb0d04b7a91b0b241aadbcb06",
      "1593b724ab85467e86e297d707e31df1",
      "d646910eea5443a6ba8c69bddb7feafc",
      "bd075747f1144815b917214de9de61ab",
      "cb3d01aaef004937b37d39989381f372",
      "a3b053ba0cf04c749ab6421b2ad68ae5",
      "f23bfe64804444df835bd2315d58b48e",
      "22634c3bae374c1ba47654de97e2573c",
      "3ffe1b5d23da4882ae61e9b3e60216c4",
      "1ffe0f13ae6843b3ab573b54d7e4276e",
      "face1c05ba9346a9a7d3c94db1599a29",
      "b974a44729884cc485f0a1779c732435",
      "129cd92f1ae841f19eef937e73793c59",
      "a2916f046d98450c860499589a2540c6",
      "75487d72813748459d8f4bf567acfc94",
      "885150f1a55e4cac86047baab8038987",
      "e97ae206e349474ab68c219324349888",
      "74c70fef5f364e23938764410fa90086",
      "74f55df729704e27afd61cb691aa58bc",
      "71a848d5704240179a0b74e99f8d9fdb",
      "5531f235149045f6a5a8d729591abedd",
      "5724babf9b4f40699b4bcec6d6835ca6",
      "062d40767543423eab781fcd52781e4a",
      "1bff092ed35b499f862e668858fc1dea",
      "2fe0c676db304a9c8827f1ba42786d7c",
      "474e46a66bdb44c69cdf2bf7931a8f6d",
      "aa93cc5610554b3ea3011a21b90a3f2c",
      "bbbd88dc33be4f14b9ead0d1fcba2c22",
      "d5c4541f060d41daafad2790cf5bec6a",
      "cdd5f4e71cca4b76b6438833295f9d8f",
      "633bcfa579e34f0ca4cdae5ffe08b0c3",
      "dfd810d20b4f4bc880d6229f6c1bf3db",
      "18b99c663ba84370ad2da81b112c16d4",
      "114245abf62e455b95a272c0201156b4",
      "909964f9419f4d549e0eaeaadf86c578",
      "8f8e58d0e39f4483b12e8175d3a7c6da",
      "beba9f9f27714cd1bf5645f454efa119",
      "dfa09f6737364eb8a9bd26a0121a4761",
      "e8e96ec357ee4f32b9ad2acef3213aec",
      "616af327b7244ca68f44f4a401f63e4a",
      "6a91d26fdac0442786bb3a41335a1c81",
      "bbe379abde6f4a23aca865695b478a1a",
      "f9e45427a65642448a4dc757ae00276b",
      "04592cb06a324fe39e3bf0a72ae1030a",
      "de0a007919c649f28eed4f9fac5eb61e",
      "fb8d484322744d419c57b0b53b9d53c2",
      "df4838270e57409583ad8d5159efe3aa",
      "82e10f7d615a405ab92bdb593a203897",
      "d277da219fd343c88eaf3117870cb32c",
      "ade835d1217348e7947bc674cbc55013",
      "8d4114811f0644e2b0116b7df56c0aaa",
      "d5cac4ffacc34011946e956b8551fada",
      "89adfb002254403e901e4e889d670561",
      "d8059e5e09b0450da2e71a3684328db1",
      "2938b1d7384b46a394b56af78207aa48",
      "21e148c4c43e49a2aa924a20e7ad6494",
      "3459dcd7c51a4a8394ff33efa90aa73c",
      "775f7a5a2dec42b5be56bfae571a3ad8",
      "b400b0b56f15496d9d3e319da04503c3",
      "bd6052fb9fe54101a4239799e9e6aa6d",
      "19e1f43f6d8a4d108586c8c763459026",
      "c081a50b01b740c5a65d18b55df4c3d9",
      "72b8df6eebeb42da85faf0072b69fb9d",
      "b20a876833454f08b454cb84bd60ced5",
      "6baf44ec404a4260bd1f35510a0d1f74",
      "ac4239b9697e4c9fbd590c0e51df02d3",
      "3a6e69db60fc4d37b1fe605dabfde09d",
      "dbefe5fb34d149fba1707f9628e17bcf",
      "1972d3648dbb4c54a43044a52a140c7f",
      "c665be93f67545ebb2187111f1670c2e",
      "140840237fc74924912107a5aebf3f4d",
      "9b49904041f444c2800f079b45084549",
      "edefa77941914fe9abdfa850cade0a5b",
      "4b673b0c7c284a3489de04e370deaf2a",
      "e6133b87f7d6478589beb3357f2983b7",
      "0c8d3a796c7f41e589cbb1832b0657dd",
      "46a740fafd814e5ea13b802c468e76c3",
      "d3dcef3b70ab4512b8b71392f49f3bd9",
      "add032f3c1d141f2a0abeda7c712aa76",
      "738b01213aca42c78d37eeffb7e7acd6",
      "94d696c17c9649b7a3857438130e6882",
      "0851fe9e09714394a24d0839146637fc",
      "2c8227dc323c453bb7228e709b70547d",
      "0000807e7a2642358931c496e4e55291",
      "b601dff51f3443b893f339385da0de13",
      "ceefd7c0099949bcabe3d121aa307a56",
      "2856f928d00e4719b44c2da42c412d6c",
      "dfc6a1e1b58a407b94a6fb8709cfad3d",
      "71497d3bf6834421a534425710cc73e1",
      "d57d01c99aff42b0afaa7e67841bcad6",
      "073f6e3ac8664694aa49cc2a1067f6ff",
      "914be91f860344679168bef86e99c4b9",
      "c375283457524b33a81c6f521ba365a1",
      "d3903973bf614f89b66f79da7072b599",
      "5ead8b45a7424240b9630898ea1a019c",
      "0bc1bae4300c4080b842c9fd79a4dd42",
      "750f2190f51c4c3cae3accb1a4eabf4f",
      "38756142d8974742bf424c269902c280",
      "793a30573ac3447799c19d92bab2afb4",
      "b57ebadcef064e5f9c0ea03653bbf23d",
      "9ff7953682444700a2c81bc24e5a7456",
      "80e7f2fbdf1e451d82ccaa9d2d860242",
      "fbfa5f65f1b94219844293e0db7c056d",
      "287efbfc703a426e8809a3ffbfbbcc2e",
      "001bdcc171ed4adfa0fac3af81de078a",
      "8c71bffc3e014a0cb73de7f0804e32c1",
      "092811d72e2e46e7b6c083662a55f095",
      "844a6ad21a6246f1970c82ac82197dfc",
      "4a597a331c7a46b199c7729d772c39e8",
      "8c910900abf148b497f7ced3d5b07dc0",
      "ef7711cd0be146cc9cc8f8cede9ff3fa",
      "6e4c84c24ba941bb8cc33af49fc9362a",
      "d37a9d4a4ebc4e5c8c20ee4e015f4870",
      "32b9104bfffe45e8b02acad7def14ba1",
      "2b8574c489cd4c4fb68c3449e52e5c32",
      "41f0ec6ef2cc43249b88d9f469d53979",
      "ef687dc2b97a4e61b3900b4a2b1bde30",
      "a56e047bc6b94888ad1c70be24b10c19",
      "b5ec1c824deb448182bd686898669886",
      "751fb0c8cf0343f8b4ed6d6f2eb8db59",
      "66a8ac816f9d403c880e35bd4c0168cb",
      "0cfda48fdbbd4a8d90a2f5dec96809e6",
      "e7b9429acf434ee09cc1b13fdca3e1e7",
      "7fb031fd82f84b57ba6376099b0ac093",
      "20a784151892412a869ff619ee5b34cf",
      "05678c8fc1ef4491b17ec232f4fa67d8",
      "64a5d7a81ff5404085745384334343ce",
      "fdcf6f9b12e1435a9dea16853d8107c5",
      "7788f8a3ad91431fa4baabd97b18b7c2",
      "fe778aa8df0346489c610e75e7a572ae",
      "0ac988cc1ea9484f915c72702ec99f29",
      "d6535c616e6b4f4ca11eb8f36ea244c3",
      "3497beffbfdc4e0494ccfff51ee8a20d",
      "52356d4a561f4fe0aaa008129a099e0b",
      "8a7dae08d16d4d70a0be229012f99ea5",
      "d02da18ef3a247b4a421719d03fb3942",
      "d984271127894345be00e1b622ac5089",
      "dfb45027eb334c5f91c23b0eb139abf5",
      "de55bb48613c46f18c5de0c3c98ec95f",
      "075c5bc29fe342359e1ab0acdc56acc0",
      "e94c2bbf817e4ff99a0a9e4eaf4f41fd",
      "dcc1f7d3bfa64f38a5daf883ddbf44b4",
      "4ea32318fd334e20b4f3898a48b71570",
      "f0ba1a874ce0425c8a2546d3e20717d9",
      "a983faed53aa4d66a28f0ccfea9623e4",
      "f48f9a959ab547d591f8b03e482aed4f",
      "78ac09475d2d45e58ad6da61d77276b8",
      "28118650928a4dff95478e72d6c4f8de",
      "b84e7d33fa644471850067cd6656c0c9",
      "d87f694ff2dc4cf3a0d68054102fe534",
      "598a64042281425cb5656d623b1bd8e8",
      "eb2de6e886cb46388f8b2385a4f720a0",
      "731093470955400e824c24ff335b5940",
      "e68dc6dad02d452ba6095a335682440c",
      "5276ffd711b1488aa4b0b16e3872a226",
      "67ac7fcd1e75414f9c2773c74c072f31",
      "cea5fb29732f45e48aa7a0f4cec5438c",
      "ca1f0c32b52c47648d5eb1c5769fca51",
      "03752b93159040dda9c0decbf7e9fb5b",
      "4fada64a248a4622a38acd9ed9966f55",
      "2e0410c516e846f6b2279165bcb66f16",
      "2aa1f5a7e85342f9ab9cd771723000c0",
      "32406210c15f43e5b3c302ab55461b01",
      "f04af61465c8444eaecd5093d59736af",
      "49a6871bd56f4fa5bf1458e90497055c",
      "fed10000f6a840cd9868b514e3ddf9c8",
      "9003d15af3db4a9a8bb555a4cc73bbcd",
      "cfc4f3ea83b643f2a80750a7224c2d00",
      "517a694e36894211bf8cb8912315ea7c",
      "3981dc101a1a4506b59c24c6161d30fa",
      "017154cb2a594177a112ee9e46e2341c",
      "043ad41103784fee95172c4784a8b1de",
      "4df5f37ccd914c36b435a62b0c7e46db",
      "513a80b454e64d768d1f17a826bb5dde",
      "cecb9ececccc47fd96e0cd0e62380d2c",
      "86c4a5cc511f4741b2108c0af7d3fdf2",
      "57652e09bf1e4891a5cd457e5f94db0a",
      "07e1af419970491d869c02185aca308d",
      "906b7f5f9f6b4fdc96ef2ffea626110d",
      "eedc079051af4b8ebe9fd231d9841ccb",
      "143315c0ff084ae79983cda3e351f7d6",
      "418539f5f30f4f9e9d79f3739e9148bc",
      "d611324ce4d94f3ea7dd307c086ab6b0",
      "5d339cb563044460b372b427e8c380f8",
      "c5c3f68eebaf4929848a160017979189",
      "a0a8c93c16f84327810f81539b724c01",
      "e7a29f22f20b4f47b6b53115018fe55b",
      "5bf4d546e9474182bc0cf3778cab2ec6",
      "c33dcf2815dc437687e80f2590d5c85b",
      "85909e07ff64409f9a8120759fe67f15",
      "776ab3e71b4f4bdb8c9835e86cec7628",
      "c9845217292949588aa1839aa141df47",
      "530508c634a34542ae23be252f093b1b",
      "a456b772949a419a841db4b924c7a2d2",
      "069dbd7382844e938e546016143d993d",
      "46d327669ddd45a2ad9b347250ad6fca",
      "a49a4a1283744bc59dd82b5a8339adc5",
      "d4f79dca97464d939b01ea348dfd661d",
      "344525844b1f4d18a4fe7a86b6121773",
      "28cd4997e9a042c0a752f851448c31ff",
      "2e318220eda54b77ac33959cff135c47",
      "59f83c8e6e714612a99a4ab4b7b58b8d",
      "45fd8d05fd734078aca689372ce46d60",
      "eb0bc6e5fd404d468f1aabb339847637",
      "0c1b04ab8c7a4f19874e3553fafca4a3",
      "71ef4599465043bca566f14d1c422914",
      "002f60b82fab4c51af3aee3a01570b8e",
      "50e62500cd4d4f85b7d48561c8bcf736",
      "fc5ef40e05f641229621de6698a05299",
      "614f2bd8b6a7411eba3e8d0bc39b6a8c",
      "4897524088bf4a3f9187cca176967361",
      "c0b80151c69d42079e182bfe8edb525a",
      "c98c705488074d47a4388c40cc08da86",
      "eebf5782cb4d47d28c3c3001d4123258",
      "ce80cdbffb574e4cb7037fafde52f761",
      "5a53d028b0c54bdcb393a3fb2641e0c8",
      "c421e4393eb54bf4ab0cb0333cc16823",
      "86c47be14045442f9f08fb59b3527e11",
      "87b21a7de8f849648c0e5ae130758ac0",
      "1a68dce4ca15451db57c981e2fc5ae78",
      "36af51b8d01542fab4969ef105030381",
      "b9b1fa67364640e8b1e2d7af2d9b1334",
      "4a54458af3874c28a58989ce6b30b224",
      "d28c2bb5ee4a4355b139f3f3b16190e7",
      "385e21eb99404bf5abfb8be633a0df8a",
      "cdfcb8021c244b3e9f5b110250e8bb87",
      "78f2f8d18f064d59b2a020e1edeb7414",
      "ff1d37fe83ea47e59e80c4ea6c7ae084",
      "ddc8bebc4db64cbfbdaf6dd50b2b8cfa",
      "e39c268179cd44bba82baf09e175fd7a",
      "698f65fd13fd460086a4f2c42386358f",
      "65ef817643264d0580318713f8d4b118",
      "02f029b6f428449b9ecd86b3a05f230b",
      "76817986bd904c25a56b35427ce4b5c1",
      "f998b496157b4eb798774f7258316d2b",
      "1bf42d97b13d491eb09670ded52f11b8",
      "4111044cf92b4393a372e8521028a55a",
      "943e65ab44724da29dc685eda661d043",
      "fb15ab08ae0b48c7952bc0e93880c0b0",
      "8b518fdcb7904345b6df9f21db585cb1",
      "f8751c6a18294fd28568cce8fcd0eb7a",
      "965f2fcb6a3c4b2c92cb14449f1f445f",
      "33ce34be41924bd68471e5968cae73db",
      "a60fa5658cea419c8a329f071e24edb8",
      "915aef3215034573a6efb3734e46f4bd",
      "4bb2109f392d45dea6b2170e61dd89e7",
      "59e38ccd46d4460591eb5af07c5b9aa9",
      "54c42bdde1ab420e85f1a69343a93e77",
      "49173104d84044fd9601372583726a5d",
      "1b4248361e3846bba23d52e100408064",
      "75ff6160507340978503f6258245e508",
      "fdc355fa57754429abe3adeb704f54ae",
      "1ef21eab9892438aa9d6d9eded140155",
      "938e5abbbfc647b39554eace9d6ab675",
      "1a063adc6f2844a2878c480c121e4fd9",
      "2159991201bd4b55a92f9b4bb6a49f96",
      "cdce2f6eb56a4db3b72b205c04fba1e6",
      "b7773e2f1169411c986888980d11c972",
      "0d29e79d97434c91b0e0b0b398760f37",
      "be655e03805a4344aa6b7f4bd5c44848",
      "607f5ce763e04d8ea7d5a1625e1a7f1c",
      "d040ff8db5ae424aa06d31840991b551",
      "bbc5096013564afa8964bd6aa87209b7",
      "cd3dd39ff111483c8b534cad36a535d3",
      "cf86d7632b034bdfa72e1c7c45f73a0e",
      "1c057c7a192245a192de59d0fbcc62ba",
      "5db5de91374844ac9f9a880eb627a82d",
      "c041a79eddf64ed5936baba006c96a7f",
      "63a18144f2c54afd92be63d5c768ebd8",
      "dae49110330440589481ec58166c5c5b",
      "ccad1cc6d8ce4187a8cacf9e0e55301a",
      "dc6f6888fbca4c0ea649c085ede456eb",
      "b49fcb9bb1be4a039a4b7dbb438afacd",
      "279239e4c3ab42f58d3bc101b8da66cd",
      "f38cb1ee44c74efe81bdbf3010dedae9",
      "0c4c6c6022d1422989a7b87d09370720",
      "52e8b247fd2b4810941a136408b06451",
      "e4b9fab43cb446dd9eec8874fe4d5b34",
      "32fc04ec937e4b9fb003c03eebdaa2e8",
      "4679d50a02124af9a8241ab47b195d1a",
      "c7a236e49acf44a48776ba499174ac77",
      "2b664bd927834b95b56440b100c07b11",
      "eab694b2ef324d2c8e209f18d82af52c",
      "669e64edc5594607bdfdb82f7df77c95",
      "c922fa5cb2784781ae8fb6d0dad18f5d",
      "8564dd3f29374f86a5ec61404c740c0e",
      "9701693f634a4c58ad2465c0697cecde",
      "694a2e077ffe413c86f9427b5ebcf330",
      "bbd2320e2bf1484385a2740f651b741a",
      "767568a5d84948b99701f2bc0af11a26",
      "19af8d3670354f65af16b9ec9f11809f",
      "eae5f29a1ed8485ca1f7c169585a4359",
      "3277793edc0b40519c23c2ce6a005b6c",
      "b10dfe0304a44a2aab9d5fc98c6646d9",
      "b3700a8910754084b9d63d04042207e2",
      "81f28130e4ae49d1b5181751039af282",
      "e7af45cd59cc4d729d2b7ca6af8cc868",
      "278d08b6551d4d50a186d9a48f1ef13a",
      "6ece7176d0fd472b84a7e0069770ca48",
      "12a5bd924fe249418359f97e355af5ec",
      "2e69069b94ce4d7f9174ee95da2415bc",
      "5909ecdca8784275a3ebbc48e58e2a08",
      "daa306432b394d90a2c238db56cdcda5",
      "408fd3b9d92c4a369f7aeb4f9d7921ff",
      "5d39493529554c088c6bdfb47638fbc2",
      "62571dd17f2e4a4e883006444b0b43d7",
      "7834e80478d043e7ba1e6f7a3ac8fe19",
      "072c686fadf44837a22be84fea59af86",
      "a139f7e9882f4654839802ba7384e297",
      "3772ada1428247089bbe2b6db6e580c2",
      "9e5054191d8340049d5dd6fcb062ab0f",
      "d5e20c48ed1945dc87f1e83592a7c7b5",
      "6448253c29f94631ae003876231dc0e3",
      "7cfd509ad0034634a9139311de6a61ae",
      "6ccfadcc7d484f7db6b5029647de1a62",
      "408478f2475742b38b9338b70256c8a2",
      "a3b566a547f14b98854f40ea87931c0d",
      "bb5766025a7941c39feda4810f441b84",
      "cbaf8beba3d145af9d826d5c3fdc7efa",
      "e07563350d4e435daaf891c835ddddb5",
      "08daa1486af54f01a2a3b2705763f057",
      "5664a0da9c234de99125a1d71380a28d",
      "7dae165fb9ca480f88a3dcf2f9afb04a",
      "2ae66e8662fe47e480173fffaa997790",
      "545b21dc6ac040c7b2f51adf78834381",
      "d5c7b06d484849f39fcc7653a14ecaa1",
      "9e562433a120477689ead4ee7f189e58",
      "2f93e428698e42469134de4c599f4be1",
      "63e80f22962d4f1ab984728f5f058b73",
      "2c1ca4c58c36435c87a0c99e78055c4d",
      "4dd496e4ff3e44c1b7cdb6032499715d",
      "42be34e57cd1453d940df2c681bb56b8",
      "7d8b734f8c4646ae99da82aea062901b",
      "6d0f5038f4dd43f1a98cad2ac84328a5",
      "3c1ba9d6e397405da6f0440ee8467dd5",
      "85dd3a606ae74a7d916e4c335fc521ab",
      "ce089e39f46940699c1681731467e85a",
      "ff4fabd45e694eb9ad7cac9977b341fc",
      "b6716a1dfa0e41108444330a5c78eabe",
      "11f9dfb35fe949e8a5223fc9c5148104",
      "ebd651ab1c864e0d8784f3d564e556ce",
      "d245dacb95944079aa1c662718196748",
      "3abf778dfcd54fdf982d1c0c1640c6b3",
      "c8631ca00126424bafaf9ff959f6b9ab",
      "3b6ff67a505f4d2fa1c3e5a1f1639e27",
      "b46de44642ea48a3906d84e56695b108",
      "29e0c246f29442408db291539cbd4d66",
      "4e07f70f0eee41f6baa83a5c0f0702ad",
      "a6a52619d97644ff9accdc3a5c60bec9",
      "57b86755dfa6495bb3057e6399fc8bc8",
      "916e835cc2b84d98ae8f3ddc4f965924",
      "04214c51e4e548a68e526d8659d0aeac",
      "0d3b34978d394361aecad9e13b519bf6",
      "fd35ac25fb5344ad8e51b27a4bfcf895",
      "55151ff485d548ba9f8b09a2ffa6f631",
      "ca44f8f03249462a9abde7cc2b86a763",
      "05bb137f6fc440b8ad5a40511263cd3a",
      "2122e60136ba495cb18f5020045fdf9f",
      "6f72926c8dbe4c00b26af9f63b37d9ee",
      "294bf9ac9b9c4b56b1f91efdf4959e0c",
      "db5b1943ebfa49b094721cdc60990e88",
      "eb691cbb99af4c9d8691a4fbc5263ba4",
      "627324255009480b9fa17ed837450b18",
      "648bfad320374beabeb96a1d0b97e14a",
      "51460ab743064c738c51d45ca1f4c987",
      "4f24caf8a9d543f0a61b1646ca9f8d95",
      "ec9b4c1bda5247ddba4caf28b1157f48",
      "7219450967af4995930624d06bf7607f",
      "2b604e3a386b494fb9497d892e55e6b1",
      "39f96092dbcf41ff8b0a6ec9ba887f2d",
      "6a130d311441464f94d99a09543e8a4d",
      "775acbbb34314a23ace7429ee52a4617",
      "b3719377797a491f8bad792327b9f3fe",
      "cf647d33b8e94d1dbb6c5ccd7f6f3588",
      "4eec03eb3f1f4bc19e014dc5a7b6b09e",
      "2d3cec8f88e944b794bd4295aab20cbe",
      "ce1ec1492382436fa9274c58da9fa39e",
      "d828bba72a1e454fb3b90dd2a9b019de",
      "61f4df6bc4534e8ebd6914b6fcba3b9b",
      "d8b0e941b0404b5f9480509607f2c9bc",
      "4dc4d59e0b6141dba7f88de559309693",
      "b99f60df5b0544ada276d2389a0d6cb9",
      "a7e42a438757480a8656f4d9515e27f2",
      "578c523ee85349cfb01ba0097ed0cff6",
      "31ef7a96c969491fb8885d281e25f7f7",
      "c51c665c954d40fca89393559867a25f",
      "0666767a95974ea2b729cb741d08fe32",
      "1f28ec449f294b84b7dff34676eeda89",
      "c11c4d3705bb41a3b663c259eabb5045",
      "9e1a2e7aff6d4b61b8b80b7b93bafba6",
      "3bf58cf79fd1487898bcbb80a63d9a52",
      "df1010442f984d4abd20232d90654bae",
      "1ff172f31c324b05a9243e8fa7c7b98a",
      "f5b1934575e643a8a98a1cbf0af1db79",
      "0f2e292728924df8a225a0b4ae74fd20",
      "6c6508fea23a473fbf6fecbbc5655624",
      "cd5255dd55a245cd813978372e0ac074",
      "d3002041d5eb49aeb945e934ba0fd9af",
      "5a81864f27d5499f83b4d0c946ab54bd",
      "627922f329254bc5a7db3ce6bb344002",
      "a052ba0b8dc64db2b0030ea9f3ba2d94",
      "9b9434ffce104c9185e7eb3597778b1e",
      "45d679d8cab84881ae703fb12d0d10be",
      "73c9d2d3f53e4146985444cc998a3f82",
      "543b8dc295934a56961c75b3a9a8f0cc",
      "8f14121bdda742f8a2e41f99376eb138",
      "e6d97c941b9f4ede8cc88d1c8e9c69e5",
      "f18cee8a27bd4dd8abec31a63a7340c2",
      "d1887405bb3844d19ad3187275d0e36b",
      "ac99d52df24246b9b1dc757f951411dc",
      "7e3cbfa685a14c0f8d1d52d08712d6ee",
      "d29da2bd7d43401b99b8d68633d80876",
      "8358d2f848d94e778d52ad1e5ff4d7a6",
      "c08d7c924fa440ebbe2573c596989cde",
      "8d5b39deb26b421c8460e6cd43f3b2e2",
      "62f32356376d4b8181b20dce32e7c1af",
      "dcc0cfaeb2e34206b276b95edb7e330f",
      "3fac9caf0c7344e88ebb0837ba21670c",
      "59f3b53663844ad8952916b366d01f58",
      "86580b523830422caf40d47405e76f06",
      "4df82757731b4a39a0d5e8bbc63d5c7b",
      "1979e98a2e704bcd936f69fa1d5e6c6e",
      "55c7fed7775f4df2bd92c2b2f750a3e0",
      "4fccf662f69c446dbf53848a989da306",
      "7920675f1dc14ddd8415d50967c158f7",
      "c42f442c06f642b390bc419ac75bd3b5",
      "4dee9b85cb66446c871447199903aec5",
      "6a51dd491c6e46ddad997c78abafb792",
      "339a53a6125d41309f70384d33bf74a9",
      "8493fb49889143aeb7f1d2edf7e54f3a",
      "0e674c56eef8441d941b290a51cabc3c",
      "39439ff6b292410d89a15eca44d7efad",
      "5eb55c713b174b21b1987d68b583f7ff",
      "6a1d378160ee43ef8225b12ddf2dac0a",
      "2b1bda6285274753b8fed7729d32d160",
      "bbd61de8d7bf443d8d88e1d500639aab",
      "7c952ec09f9041e191dcebabcb7b7ce6",
      "fb75fe3d0aef4f43830f297bbd08d790",
      "d80da9fcbcd4476f93c45bb40bf884f3",
      "e9063310b1ed47579cad0dbe36be5110",
      "92038aa09ea2484fb6900d55451103e3",
      "c67f57dc609e4d418fefa9399af6559c",
      "37006b99bedb4232a4c3814071204a28",
      "b9e3822557f84a239867cc24e8609909",
      "47e44eddd24c40f9b3f93074dc41bcaa",
      "bc7cae04eccd4da88c7d6d22ddf010f7",
      "f072bcb148ad49c290bc5cc2f2bc0d36",
      "79dc89c782764e0bb392bae8fd01b614",
      "d2add2d6e6ca4d60894f44f1f1858d21",
      "6914a5eb47174b3d9417d2352647f064",
      "75e75c4fd24e489eba8b0ed334e0e929",
      "e4b81a070b074ec394387a937eb9e158",
      "059798ac8c094c76894304958bfc9afe",
      "7040a7145b3b4933807c0d1e9bebf42b",
      "90c0562921d8484295fe5d679474ee7f",
      "d22d5b188b6549bfa71a086040470319",
      "3b5173d466694db0ae84f40d4a2ca95f",
      "e1cb0434f267407b879c44352ca1345d",
      "fde8785f2aa94510bd0d059ec226be6a",
      "c65ef56c98cd4f54a11af08acdb4f4ee",
      "d29ef6be996f4bce89b3bdcf9c6dfa1f",
      "328cb6d4f4374c2381e0d2a9d4b0aa05",
      "dcd6f005c2f4459a89fa68f19e9ad79d",
      "85d4fc325f7b4abdab4e469313ec1e8c",
      "d287955b44a54ff3adbe735d4691e7c6",
      "103fd80de2094dff9ee3cb17e7053d78",
      "1fd3851b68274fe7ae5ec06bf11297e6",
      "1dd7f9c1d4dd4b598ebdc25c97347f3e",
      "30683d36bc3746469d87c9e433e1e6e5",
      "7325bbf0029f448b83818edc27067195",
      "375d77e2455f4f028b2f3fd95e5d1bb5",
      "23a94e82518749ae8b81a209ba8b34bd",
      "b64930b738094428aa1b55eebf3781dd",
      "20e795ee1ddd4815b6d4e1bd974af5ee",
      "cdecbe24c29544f2aebc54d404ae3bbd",
      "00c7a37da4e04a998477dc3dd8183ce8",
      "a847293d1ca24ea2a6d2d868dfa53cb8",
      "48a2b6f799f64d41b75da86960032327",
      "6a7a94bd6d9d4bb3b55d3fced1042877",
      "25d260956ea244d4ad2f02f68d8a242c",
      "b5d6377799844e60aff9eaa5414546e0",
      "e49bf81ffc8d4d8db57ef991877a24b6",
      "26d19eb1162f4c3e9d6746e9eb3b29be",
      "895cd326812442028c41b834621d8dfa",
      "1a5042ae5c5d40388875ebefaac474a2",
      "d77e6255064c41eba2c58b8c7cd6d23d",
      "7c1a3187fd0b433fb83e207aa7bd0a73",
      "6ca5805ecb2f44e686a32ad18a5f5c70",
      "0c9ddee32dec416f9506b22880e37ac3",
      "90a607b1b61d444793160d5810b4f5b3",
      "33dd77b896c04340853f681aef8d47f8",
      "d5d2788bd13b4b2da712f37b6f27b747",
      "9885b613c0e642769beac39b0f3ac3c8",
      "4e202c935bd1408a9110357b9c8bf138",
      "6d87b82f3e72439c8a682061b974e526",
      "c62fd49fd95b411fa432d2062ad3d452",
      "347e25708afb4156a3de641a58f5bcf3",
      "f596fcd159ae4a639f38747a594b1c26",
      "eafa20f452ca465b9eb3dde0cbea851f",
      "eae59b62cf2e4199a6bb9d0a4a80a1d4",
      "25d98181a2224227be25c26fddf538cb",
      "599ebc7b69b94b37922cc6272db8a0d7",
      "e949bb3a2c1d4815b6291be9d0bddfcf",
      "8b3c3646fd4c42a4af18c8b4cb3a7804",
      "76c3b38490584cc28f5401a3af0483fb",
      "2c10057e99784dac83ee530cc3e50817",
      "b7b3cc4861dd40049c612fb1807c3e70",
      "1196301fda4f440dbca6c9e5cfeb6aa1",
      "48268b6af1544ee4831025b3cbabb8ed",
      "bb0bef0943d9444e949224c114e8b77e",
      "4526e65f5de042eb8d5bfcc138b44a19",
      "d496672085e342998951e306fdf83187",
      "7e2ad68d34c94f5f95f788d00c3b156c",
      "bb76d632fa6846de88efc4e358a52271",
      "b8b255e239c84e3ebef1b5c465ff4cce",
      "b2de098e924141a9b6cefc454123f552",
      "161f8befa9a24750ab26e8b82ca4ff75",
      "09bbdc7b5ab14e44bd88e2d687f94cd5",
      "8958fdc0f2334e8ca89054a1fecb53a7",
      "4fa286eed0d64a32b9cdc7f56947d9ba",
      "d0d1c5d92c33484b8b24d1c18d058c44",
      "3b38b19a9fa74ec387998d8e7b5b704d",
      "6a95072fc129481ebb4b4c2efd30d5e9",
      "d9de9f25edd1472e8d324c871e010a74",
      "27a7c0b2088d4ab4b99e285b9d7ced39",
      "6944defb077148f698411ac70da57268",
      "1c7932c201a5435882bb0dbf7b401dea",
      "031210fa6ed340a29b578eab3a7dc8ef",
      "e6be7e3a24d7481f9bf83532f95afeae",
      "a9bac5b5fb9e4e559d583ae439f6cd24",
      "26bd10097c3f48af8993c8a90d6c0901",
      "b7a21dcc5e3a491c9c717aed3be68cb3",
      "c0f9c76a41d74efbbf35950d87f70d0d",
      "a9e7fbfe9bd34fad9144bb0ca86ab412",
      "4a332879143d489a871b5974642125fa",
      "76db05c08a07417484b4b03ec36c4575",
      "4d5f2d5db3084eaeac45297a46318d7a",
      "e1b08d3dc2004a93b3039b43bba2ad99",
      "28d423e9818945cdb7a02bfe3e0d2beb",
      "b501ea83b09748a5a27ed191a45bd81f",
      "7db98f4384244aa18938945decd10a50",
      "fa3f3d213d464514a9cc8c9dd86be42e",
      "182417723a8c47e5adea23801157f981",
      "fd6ca24c331642d2894d3c447a417a8b",
      "d34675fd0ffc47279f0251c68b79a3ae",
      "2cec0763f9274ef7a502cf5e9a80bbbc",
      "8fe43e0b2ce1474fabad038c4591ef2a",
      "cb4428d18cd24885a2376b0a4266fa55",
      "5c77ac01476d4b85b3625fd9f9e7d7c8",
      "444140b18e3b4e2fa5181bd199f5170e",
      "280efa4ac8d1488592008fa9f6edc797",
      "4637925f881a4a8593fed962e5a1fe57",
      "f99ea09386de482b9b78d7e61876b6a3",
      "612bb6c0ba67476c94dcacd130089946",
      "6c114b3ab83d4b9bb55adb0e142b18a1",
      "a3bb720d13674e91b74fffe55949afb2",
      "73d83c42e5f041aeb90c69a863282717",
      "c7724a6419c740bb8185410093aa33c0",
      "fccd09bfc8784a30bf7bc9b564f88ba1",
      "b776b5484af04627b2d308dab6fe9049",
      "a23e969e5d1f4c86b52ed77359857ac8",
      "4fde75f0bde24def98c1e304bcd7fc63",
      "9aedfaa1bc58438cb47d7f163bbde63a",
      "d2e2e433d1804711a676906ba8b4ef58",
      "99e06061b1f24a6385c581b8ed7b2ba2",
      "ffd05756406841ec9282681c5ef90f16",
      "9b2d217d9e0b40029958364a9f2f14e7",
      "2ddbcd3cba0a45ffa741ce18c506160d",
      "80d17a72cd6d4e7f86ccb5cecba4273f",
      "8f525f15e1a641c79fc0df07030711f7",
      "76c5b07884324375842dea6283c14465",
      "926b5b7baf434038986e03dfd2b5a1e4",
      "54e96c51273f4f8f8860552d5a022a77",
      "2dc2df5cd41c4e2e8da9845be7f11b9c",
      "ad8991a677cf470687b6f886caba98a4",
      "f276d5515338424fb7f0b5a1734e993d",
      "87fa10a684a64c9a971c088f5eb4f9ae",
      "738808b5d05d465a93adc5a24e9b4d08",
      "3953fb1ec4544f2b922ad52bce370b36",
      "55ee1625d43f4393a642a1e19635cd3d",
      "94d1ceefb89f4bbe849099bd452c9478",
      "e9fb7451be9646a0844a86f756e8bb6b",
      "f9d1691b189148bfa834dcbfdf5c6135",
      "894dc6d65f8148878c0eeb46a062361b",
      "e38ed9ce2fff4bcbb44899a6ead00107",
      "1c9607c747df457d912b77c831ed8b84",
      "8db35023c2674659b181eff7358b5b9e",
      "662d2b97b9d94c5db92a074f0b9f4ec8",
      "3d9da0e38cfa4189b826ef3dae26993e",
      "8fa7a64fb5134676ac5df02b27bcf696",
      "06b5562869b64dffb949777ffe4ea2b1",
      "689f0c8b9e69494eafb1edbaf7f17e7e",
      "db28c51cf73545d085df8ee139a9c415",
      "6bc9034e7d414d40b0673d12289c5f11",
      "b132dad5ff394ead9a19ca106c886517",
      "846733452f0b44598ce835390ada0239",
      "b3c2cd03df8741d3a2ce08106ca89c20",
      "ac7b8247a1fc45f48bd825cc64d5ed25",
      "526961f1b8d5416c88a0c5052a1116b0",
      "b53e398e2e2d485f91dbb9570fe721ec",
      "18f820d006664f0284598d4a23ddbf9c",
      "e05b92d5c420428cbc33e7ab9ffdead1",
      "fe87edc5b1e64ceba302e55af069e815",
      "192a43ba361c49f5ac14b9c5c09e975c",
      "5f6cb509d6a144a8a907d5994e9f3647",
      "f08ec67a529d4a1c89d89303540bd91e",
      "c712a9692c784d46bef1eeede424d220",
      "1dbae24ac9a44fe8a15498006f6870f6",
      "212a89091df341d2b221671b07f1a761",
      "6644c7b1063440009dbb3b3352a53c40",
      "78835154214542b78394a28e54fc82e3",
      "bb78f017ad2945be8343d15fed7be0e4",
      "6206a70a3bd24553b4f386009f2a70b5",
      "007541e78f63452a8f1d966908ddbfbc",
      "718a192f6e2f449b818a82b6337441ff",
      "63ee6361ce5c4f76a0e730a26c1b59e0",
      "94ef59155ba44ac986044d43eb447bb2",
      "5bd16f42065b480f9d625b78c7334b91",
      "edd21601626245ababf5f45aa7b895ad",
      "f556cf6848794103a4f9bb84f4fdbdd1",
      "db864a40eeb349d38ac118d447373a2d",
      "022ff6e8885e491b973f5fc63ec62711",
      "512facdb36824451b1c60e0886b37744",
      "9cedb02aa1654b62b8d790a9deee5fa8",
      "4704c32558814fa3a5c4dfc719c402cb",
      "b6356a7bd1d34912b0d2f039af960091",
      "27f5ca795d9144f9976f93d1d9a09cdf",
      "b46b94a549ad46789824397162e1ad61",
      "51409875768e4535878bdf838dce2a08",
      "ee6339a5d9534125b3784fbaf84cfee6",
      "1f0c1ab522bb4e68bc2a8f4163320ff7",
      "41b68d35b5b84d6f9059988d8e645594",
      "36a6cf16a8ab41ceb5f9caf5f388a8f7",
      "6856ef42f2c7439083edc1ffac0e5623",
      "aa70de3bdca54a12a361f745eb6f4710",
      "bb7dc8fea8e04f6dae9090e6db47d727",
      "5ec6e28a7f97452c90b5886affcdc7a6",
      "e34d3a3dd0d54859a14237038b5058a8",
      "cd1492c732cf4a808f943f1192931f4c",
      "435f74152ecc4d28a0e093837f752398",
      "e42475ba3628470189d3007deaaaea67",
      "7586b5c5ec754f3483131199ef75ca86",
      "b3a4c1372ac54507ad6970c9bafb3a96",
      "74b65080615e49a895e8528b107a98cf",
      "9324d214a84b46aa8f92c99af0f40ba4",
      "33ec9bcf6f324f4291aa1e9b839a028c",
      "eb679ba47267451ba28c04c04f2433e1",
      "bb571349532d4c1d854080873ca1607d",
      "10692397064d4cf6a71370c3e7086b1b",
      "494a4246725b43a8a92ed30f21373cc9",
      "de86f88f92d04c2e9fda2296a45185f1",
      "c92dce37289e404eaaa965138f1fb800",
      "176aca60e3c84bc7b4ef93c1e4033a75",
      "65d8131d09d046be88abe122ebfdb566",
      "a38bfc3a2d91499a88ba29f34c68e601",
      "2972dabfd894424d9aa1ce0200711e35",
      "7e7577eda92b4f7f841a903a80fe9a4f",
      "2eecddb86c054218a094f93f5f73506e",
      "82d8a3dc0bf44d40bf438ee3014f1e86",
      "affe308b60974ec19cbfd5915774ee1d",
      "398257f98686457382c2f12b94f88248",
      "35c1439b334940b0b6a2e3f0fa5e959f",
      "27c70cb2aaf146d7802b6b9274ce1f17",
      "80dc3f45f5234d85b7071ee269592c87",
      "d79a3bf3a70e40fa83fc5ccd3a36235f",
      "122b135994b44eacaeed6ceec7df0af1",
      "cdea00524958479bbd7f04e08ba316fb",
      "425fc8e862cc4095b053e044e23f7465",
      "245bdce5d6cd45bbb9d96931f077d620",
      "fc5677e228fd4129b638b46cd9b2dec9",
      "142079827e6f4511b09989a2fc2a4b98",
      "6729b531e432449dbde70322edc8a584",
      "ec8dbbe236ce4605b8c08d03072c9bb4",
      "ae1b910530c54e9cbe3080e9a3276087",
      "867c196a66794bc1940a177ea7ed78d2",
      "f22efef1bc054575ad802e99e0d99dab",
      "5403dfdf9bb4410dba11e05f5e154fd9",
      "689148f06649471888866000b029eaa3",
      "3bc3f989d88b4ca993049530aa2bc75b",
      "6041a4b402a842058bbd4124f70fc906",
      "2a1a2ac59211416286c9ce263a58ee36",
      "7344b0005ed84b50adfb200d2559a15d",
      "f6ed0b14aa474cbd892f2bb2bf78f5e7",
      "ed5314a434164caa85a1b9784d568de8",
      "863aff6f95b24be596100e9ea51f85cb",
      "7ab2deaabe39464584123b84abfb49cc",
      "4eaf15dec2644d56896f4f514b9a6e0e",
      "b3b914d7e9864db388444908abd78e81",
      "a6b94026f7844a3a9e28edc0e4ee0640",
      "674e22c20aa041588ab654f16fefcdc4",
      "937af58905f74213927f70438442105c",
      "a69bd7f2d1af4c43afad55a27bb320c6",
      "7dd1c0bde3ab43ad9eaa7de08a19702a",
      "4c542638fd594675992bec41b126c48a",
      "68c9de6c9e394c9888916e80c0aa4c1e",
      "3d63089eaf7f4b4187252fc69faf87bb",
      "ce2c4243e05547cc846f7b7904d76ccb",
      "79d1a1cd13b949a79bc204ef2ac267a3",
      "2a48bf8cfdcd466dba764a7ba0c09c43",
      "5a71669a6239427681b4095d6645f9eb",
      "d71954b4a4d948d0b2652757c1ac181d",
      "79395b4ad1f4468081c90f0c0dab9fda",
      "545aab935ecf439ea18d23eff25671b0",
      "d914da34d7c243798c074a2d8ec1e9f7",
      "fc4c44cbd29f4e7ea4499872b0f03706",
      "1f7370ad6bf24ff9a5c1fdf84b670f48",
      "eff069cb2fd04135a8008bfdc32c65e5",
      "eacb493d97d24872ad510d53e6ae20b9",
      "f284346f77284779993fd442d5bd2935",
      "d1d2d0569eba440fbc9a3592f3d52464",
      "8da0aa6eea4b4c41ab6295b858a54a14",
      "bb3504a3136f4b5ea017c442743f7b3a",
      "e7c3b084db4847c6b3192fcd0ccbf325",
      "25700144858444c59f250ca1463322dc",
      "27bec62b15b240c282f53cb126230cc8",
      "5e86169233554a4c9847db2b26bafd81",
      "b6d647ebd2ab48d2b89d008e97fdc17c",
      "6b6182d9283c4cc8956169f53a751a02",
      "f97abaf13a4845ae9b8e6d9a34e22b93",
      "c6179785c46b45aeb88e627133e0a3e3",
      "35a1dbaeeedb48d581569663cfe5af14",
      "8749b94125f0430c94b6d4d7249ce110",
      "11d891fb0b8449e7a45c86ed3976d717",
      "558ce982904d44939157e318045301a1",
      "b9caf4bc4bb246c9816b9772a3c1a27d",
      "f0eeadd572234f2da6934077307f1424",
      "24cb045632e44d3d9d62e1c7c159a4e9",
      "f85a196867c14e5cbd9a479a7b26bbb9",
      "049ef877a3284bcb9c2355d44dd948e7",
      "769b41b0ea48462e83e638633bfd6dd2",
      "d31b5e15745c4b7cbe5d880d752e7465",
      "23f8ec40114547b493d95c4e1afaa166",
      "e2493badfbca469a95033564de51a9ec",
      "3389f679617143a3a5291d8d033317b2"
     ]
    },
    "id": "3TmtVpA-O0II",
    "executionInfo": {
     "status": "ok",
     "timestamp": 1760200047790,
     "user_tz": -330,
     "elapsed": 14388878,
     "user": {
      "displayName": "Rutu Patil",
      "userId": "02443084829174226347"
     }
    },
    "outputId": "23618097-db30-4c6a-8bc4-0bcb3c948ece"
   },
   "outputs": [
    {
     "output_type": "stream",
     "name": "stdout",
     "text": [
      "\n",
      "======================================================================\n",
      "STARTING TRAINING\n",
      "======================================================================\n",
      "\n"
     ]
    },
    {
     "output_type": "stream",
     "name": "stderr",
     "text": [
      "\r  0%|          | 0/196 [00:00<?, ?it/s]/tmp/ipython-input-4228502386.py:14: FutureWarning: `torch.cuda.amp.autocast(args...)` is deprecated. Please use `torch.amp.autocast('cuda', args...)` instead.\n",
      "  with autocast():\n",
      "Epoch 1 Loss=4.2387 Acc=4.51% LR=0.037857: 100%|\u2588\u2588\u2588\u2588\u2588\u2588\u2588\u2588\u2588\u2588| 196/196 [01:48<00:00,  1.81it/s]\n"
     ]
    },
    {
     "output_type": "stream",
     "name": "stdout",
     "text": [
      "\n",
      "Test set: Average loss: 4.5313, Accuracy: 415/10000 (4.15%)\n",
      "\n",
      "  \u2192 Saved to GDrive: best_model.pth\n",
      "\n",
      "*** NEW BEST MODEL! Test Accuracy: 4.15% ***\n"
     ]
    },
    {
     "output_type": "display_data",
     "data": {
      "text/plain": [
       "Processing Files (0 / 0)      : |          |  0.00B /  0.00B            "
      ],
      "application/vnd.jupyter.widget-view+json": {
       "version_major": 2,
       "version_minor": 0,
       "model_id": "a94f631222874447ac8c019033b19fd7"
      }
     },
     "metadata": {}
    },
    {
     "output_type": "display_data",
     "data": {
      "text/plain": [
       "New Data Upload               : |          |  0.00B /  0.00B            "
      ],
      "application/vnd.jupyter.widget-view+json": {
       "version_major": 2,
       "version_minor": 0,
       "model_id": "6f81b9559e334e259158c24fb9306d43"
      }
     },
     "metadata": {}
    },
    {
     "output_type": "display_data",
     "data": {
      "text/plain": [
       "  ./checkpoints/best_model.pth:   0%|          |  554kB /  292MB            "
      ],
      "application/vnd.jupyter.widget-view+json": {
       "version_major": 2,
       "version_minor": 0,
       "model_id": "b49e12551f014214bac4f27332c949d2"
      }
     },
     "metadata": {}
    },
    {
     "output_type": "stream",
     "name": "stdout",
     "text": [
      "  \u2192 Uploaded to HF: best_model.pth\n",
      "Best: 4.15% | Patience: 0/15\n",
      "\n"
     ]
    },
    {
     "output_type": "stream",
     "name": "stderr",
     "text": [
      "Epoch 2 Loss=3.8103 Acc=10.60% LR=0.065857: 100%|\u2588\u2588\u2588\u2588\u2588\u2588\u2588\u2588\u2588\u2588| 196/196 [01:49<00:00,  1.79it/s]\n"
     ]
    },
    {
     "output_type": "stream",
     "name": "stdout",
     "text": [
      "\n",
      "Test set: Average loss: 3.7099, Accuracy: 1350/10000 (13.50%)\n",
      "\n",
      "  \u2192 Saved to GDrive: best_model.pth\n",
      "\n",
      "*** NEW BEST MODEL! Test Accuracy: 13.50% ***\n"
     ]
    },
    {
     "output_type": "display_data",
     "data": {
      "text/plain": [
       "Processing Files (0 / 0)      : |          |  0.00B /  0.00B            "
      ],
      "application/vnd.jupyter.widget-view+json": {
       "version_major": 2,
       "version_minor": 0,
       "model_id": "9030220cc9d94f20a0c87459614a62ee"
      }
     },
     "metadata": {}
    },
    {
     "output_type": "display_data",
     "data": {
      "text/plain": [
       "New Data Upload               : |          |  0.00B /  0.00B            "
      ],
      "application/vnd.jupyter.widget-view+json": {
       "version_major": 2,
       "version_minor": 0,
       "model_id": "7adb4703efb54c0f990886f11df25ffb"
      }
     },
     "metadata": {}
    },
    {
     "output_type": "display_data",
     "data": {
      "text/plain": [
       "  ./checkpoints/best_model.pth:   0%|          |  555kB /  292MB            "
      ],
      "application/vnd.jupyter.widget-view+json": {
       "version_major": 2,
       "version_minor": 0,
       "model_id": "f10b75a9a8bb42a9bdcf9433840560a3"
      }
     },
     "metadata": {}
    },
    {
     "output_type": "stream",
     "name": "stdout",
     "text": [
      "  \u2192 Uploaded to HF: best_model.pth\n",
      "Best: 13.50% | Patience: 0/15\n",
      "\n"
     ]
    },
    {
     "output_type": "stream",
     "name": "stderr",
     "text": [
      "Epoch 3 Loss=3.4224 Acc=17.61% LR=0.093857: 100%|\u2588\u2588\u2588\u2588\u2588\u2588\u2588\u2588\u2588\u2588| 196/196 [01:49<00:00,  1.79it/s]\n"
     ]
    },
    {
     "output_type": "stream",
     "name": "stdout",
     "text": [
      "\n",
      "Test set: Average loss: 3.1035, Accuracy: 2357/10000 (23.57%)\n",
      "\n",
      "  \u2192 Saved to GDrive: best_model.pth\n",
      "\n",
      "*** NEW BEST MODEL! Test Accuracy: 23.57% ***\n"
     ]
    },
    {
     "output_type": "display_data",
     "data": {
      "text/plain": [
       "Processing Files (0 / 0)      : |          |  0.00B /  0.00B            "
      ],
      "application/vnd.jupyter.widget-view+json": {
       "version_major": 2,
       "version_minor": 0,
       "model_id": "9ffe46db6aef4fdf8cdbf43cbfbba5f1"
      }
     },
     "metadata": {}
    },
    {
     "output_type": "display_data",
     "data": {
      "text/plain": [
       "New Data Upload               : |          |  0.00B /  0.00B            "
      ],
      "application/vnd.jupyter.widget-view+json": {
       "version_major": 2,
       "version_minor": 0,
       "model_id": "32948420ca7a4b07a72ebd352cea1165"
      }
     },
     "metadata": {}
    },
    {
     "output_type": "display_data",
     "data": {
      "text/plain": [
       "  ./checkpoints/best_model.pth:   0%|          |  556kB /  292MB            "
      ],
      "application/vnd.jupyter.widget-view+json": {
       "version_major": 2,
       "version_minor": 0,
       "model_id": "1f1a592fef62491c913c1796a42e74ce"
      }
     },
     "metadata": {}
    },
    {
     "output_type": "stream",
     "name": "stdout",
     "text": [
      "  \u2192 Uploaded to HF: best_model.pth\n",
      "Best: 23.57% | Patience: 0/15\n",
      "\n"
     ]
    },
    {
     "output_type": "stream",
     "name": "stderr",
     "text": [
      "Epoch 4 Loss=3.2084 Acc=22.99% LR=0.121857: 100%|\u2588\u2588\u2588\u2588\u2588\u2588\u2588\u2588\u2588\u2588| 196/196 [01:49<00:00,  1.79it/s]\n"
     ]
    },
    {
     "output_type": "stream",
     "name": "stdout",
     "text": [
      "\n",
      "Test set: Average loss: 3.0160, Accuracy: 2455/10000 (24.55%)\n",
      "\n",
      "  \u2192 Saved to GDrive: best_model.pth\n",
      "\n",
      "*** NEW BEST MODEL! Test Accuracy: 24.55% ***\n"
     ]
    },
    {
     "output_type": "display_data",
     "data": {
      "text/plain": [
       "Processing Files (0 / 0)      : |          |  0.00B /  0.00B            "
      ],
      "application/vnd.jupyter.widget-view+json": {
       "version_major": 2,
       "version_minor": 0,
       "model_id": "7087c6a9dfb941b08d44216d5062a683"
      }
     },
     "metadata": {}
    },
    {
     "output_type": "display_data",
     "data": {
      "text/plain": [
       "New Data Upload               : |          |  0.00B /  0.00B            "
      ],
      "application/vnd.jupyter.widget-view+json": {
       "version_major": 2,
       "version_minor": 0,
       "model_id": "44d46536c57e456eb2b8b1cb84360ee0"
      }
     },
     "metadata": {}
    },
    {
     "output_type": "display_data",
     "data": {
      "text/plain": [
       "  ./checkpoints/best_model.pth:   0%|          |  557kB /  292MB            "
      ],
      "application/vnd.jupyter.widget-view+json": {
       "version_major": 2,
       "version_minor": 0,
       "model_id": "9ddcb0b89f4046a899215d0e6290b51b"
      }
     },
     "metadata": {}
    },
    {
     "output_type": "stream",
     "name": "stdout",
     "text": [
      "  \u2192 Uploaded to HF: best_model.pth\n",
      "Best: 24.55% | Patience: 0/15\n",
      "\n"
     ]
    },
    {
     "output_type": "stream",
     "name": "stderr",
     "text": [
      "Epoch 5 Loss=2.7798 Acc=28.75% LR=0.149857: 100%|\u2588\u2588\u2588\u2588\u2588\u2588\u2588\u2588\u2588\u2588| 196/196 [01:49<00:00,  1.79it/s]\n"
     ]
    },
    {
     "output_type": "stream",
     "name": "stdout",
     "text": [
      "\n",
      "Test set: Average loss: 2.8427, Accuracy: 2871/10000 (28.71%)\n",
      "\n",
      "  \u2192 Saved to GDrive: best_model.pth\n",
      "\n",
      "*** NEW BEST MODEL! Test Accuracy: 28.71% ***\n"
     ]
    },
    {
     "output_type": "display_data",
     "data": {
      "text/plain": [
       "Processing Files (0 / 0)      : |          |  0.00B /  0.00B            "
      ],
      "application/vnd.jupyter.widget-view+json": {
       "version_major": 2,
       "version_minor": 0,
       "model_id": "e66ed141f888473d9add4dcc1ab71342"
      }
     },
     "metadata": {}
    },
    {
     "output_type": "display_data",
     "data": {
      "text/plain": [
       "New Data Upload               : |          |  0.00B /  0.00B            "
      ],
      "application/vnd.jupyter.widget-view+json": {
       "version_major": 2,
       "version_minor": 0,
       "model_id": "ff84ce9c6b644e46b7c3457a057fa99d"
      }
     },
     "metadata": {}
    },
    {
     "output_type": "display_data",
     "data": {
      "text/plain": [
       "  ./checkpoints/best_model.pth:   0%|          |  555kB /  292MB            "
      ],
      "application/vnd.jupyter.widget-view+json": {
       "version_major": 2,
       "version_minor": 0,
       "model_id": "350c2e4e67b6417d8063bf1249eb93bb"
      }
     },
     "metadata": {}
    },
    {
     "output_type": "stream",
     "name": "stdout",
     "text": [
      "  \u2192 Uploaded to HF: best_model.pth\n",
      "Best: 28.71% | Patience: 0/15\n",
      "\n"
     ]
    },
    {
     "output_type": "stream",
     "name": "stderr",
     "text": [
      "Epoch 6 Loss=2.9501 Acc=37.27% LR=0.001407: 100%|\u2588\u2588\u2588\u2588\u2588\u2588\u2588\u2588\u2588\u2588| 196/196 [01:49<00:00,  1.79it/s]\n"
     ]
    },
    {
     "output_type": "stream",
     "name": "stdout",
     "text": [
      "\n",
      "Test set: Average loss: 2.0707, Accuracy: 4654/10000 (46.54%)\n",
      "\n",
      "  \u2192 Saved to GDrive: best_model.pth\n",
      "\n",
      "*** NEW BEST MODEL! Test Accuracy: 46.54% ***\n"
     ]
    },
    {
     "output_type": "display_data",
     "data": {
      "text/plain": [
       "Processing Files (0 / 0)      : |          |  0.00B /  0.00B            "
      ],
      "application/vnd.jupyter.widget-view+json": {
       "version_major": 2,
       "version_minor": 0,
       "model_id": "31affc5f236844c39a8b614d93bba719"
      }
     },
     "metadata": {}
    },
    {
     "output_type": "display_data",
     "data": {
      "text/plain": [
       "New Data Upload               : |          |  0.00B /  0.00B            "
      ],
      "application/vnd.jupyter.widget-view+json": {
       "version_major": 2,
       "version_minor": 0,
       "model_id": "0157fc36dfa44644aa9cb5e4ee820171"
      }
     },
     "metadata": {}
    },
    {
     "output_type": "display_data",
     "data": {
      "text/plain": [
       "  ./checkpoints/best_model.pth:   0%|          |  555kB /  292MB            "
      ],
      "application/vnd.jupyter.widget-view+json": {
       "version_major": 2,
       "version_minor": 0,
       "model_id": "f5d57b0f6db147ef8c6258a960056fe1"
      }
     },
     "metadata": {}
    },
    {
     "output_type": "stream",
     "name": "stdout",
     "text": [
      "  \u2192 Uploaded to HF: best_model.pth\n",
      "Best: 46.54% | Patience: 0/15\n",
      "\n"
     ]
    },
    {
     "output_type": "stream",
     "name": "stderr",
     "text": [
      "Epoch 7 Loss=2.9845 Acc=39.98% LR=0.003782: 100%|\u2588\u2588\u2588\u2588\u2588\u2588\u2588\u2588\u2588\u2588| 196/196 [01:49<00:00,  1.79it/s]\n"
     ]
    },
    {
     "output_type": "stream",
     "name": "stdout",
     "text": [
      "\n",
      "Test set: Average loss: 2.0093, Accuracy: 4783/10000 (47.83%)\n",
      "\n",
      "  \u2192 Saved to GDrive: best_model.pth\n",
      "\n",
      "*** NEW BEST MODEL! Test Accuracy: 47.83% ***\n"
     ]
    },
    {
     "output_type": "display_data",
     "data": {
      "text/plain": [
       "Processing Files (0 / 0)      : |          |  0.00B /  0.00B            "
      ],
      "application/vnd.jupyter.widget-view+json": {
       "version_major": 2,
       "version_minor": 0,
       "model_id": "15b8ce35611748c89eda9b33b2e4895f"
      }
     },
     "metadata": {}
    },
    {
     "output_type": "display_data",
     "data": {
      "text/plain": [
       "New Data Upload               : |          |  0.00B /  0.00B            "
      ],
      "application/vnd.jupyter.widget-view+json": {
       "version_major": 2,
       "version_minor": 0,
       "model_id": "8c8554f6aa794b4c8086eab65a784f2b"
      }
     },
     "metadata": {}
    },
    {
     "output_type": "display_data",
     "data": {
      "text/plain": [
       "  ./checkpoints/best_model.pth:   0%|          |  554kB /  292MB            "
      ],
      "application/vnd.jupyter.widget-view+json": {
       "version_major": 2,
       "version_minor": 0,
       "model_id": "7115fde0a02344bc940cb6e794a6f3a0"
      }
     },
     "metadata": {}
    },
    {
     "output_type": "stream",
     "name": "stdout",
     "text": [
      "  \u2192 Uploaded to HF: best_model.pth\n",
      "Best: 47.83% | Patience: 0/15\n",
      "\n"
     ]
    },
    {
     "output_type": "stream",
     "name": "stderr",
     "text": [
      "Epoch 8 Loss=2.4267 Acc=40.78% LR=0.006718: 100%|\u2588\u2588\u2588\u2588\u2588\u2588\u2588\u2588\u2588\u2588| 196/196 [01:49<00:00,  1.78it/s]\n"
     ]
    },
    {
     "output_type": "stream",
     "name": "stdout",
     "text": [
      "\n",
      "Test set: Average loss: 1.9636, Accuracy: 4908/10000 (49.08%)\n",
      "\n",
      "  \u2192 Saved to GDrive: best_model.pth\n",
      "\n",
      "*** NEW BEST MODEL! Test Accuracy: 49.08% ***\n"
     ]
    },
    {
     "output_type": "display_data",
     "data": {
      "text/plain": [
       "Processing Files (0 / 0)      : |          |  0.00B /  0.00B            "
      ],
      "application/vnd.jupyter.widget-view+json": {
       "version_major": 2,
       "version_minor": 0,
       "model_id": "e271d3d46ee2486ea6a2eb53550c7f00"
      }
     },
     "metadata": {}
    },
    {
     "output_type": "display_data",
     "data": {
      "text/plain": [
       "New Data Upload               : |          |  0.00B /  0.00B            "
      ],
      "application/vnd.jupyter.widget-view+json": {
       "version_major": 2,
       "version_minor": 0,
       "model_id": "6eb00d352cf44fdabb6b5a485078671f"
      }
     },
     "metadata": {}
    },
    {
     "output_type": "display_data",
     "data": {
      "text/plain": [
       "  ./checkpoints/best_model.pth:   0%|          |  555kB /  292MB            "
      ],
      "application/vnd.jupyter.widget-view+json": {
       "version_major": 2,
       "version_minor": 0,
       "model_id": "f56d97b76450401096717c6b13700044"
      }
     },
     "metadata": {}
    },
    {
     "output_type": "stream",
     "name": "stdout",
     "text": [
      "  \u2192 Uploaded to HF: best_model.pth\n",
      "Best: 49.08% | Patience: 0/15\n",
      "\n"
     ]
    },
    {
     "output_type": "stream",
     "name": "stderr",
     "text": [
      "Epoch 9 Loss=3.4246 Acc=42.21% LR=0.009093: 100%|\u2588\u2588\u2588\u2588\u2588\u2588\u2588\u2588\u2588\u2588| 196/196 [01:49<00:00,  1.79it/s]\n"
     ]
    },
    {
     "output_type": "stream",
     "name": "stdout",
     "text": [
      "\n",
      "Test set: Average loss: 1.9309, Accuracy: 4958/10000 (49.58%)\n",
      "\n",
      "  \u2192 Saved to GDrive: best_model.pth\n",
      "\n",
      "*** NEW BEST MODEL! Test Accuracy: 49.58% ***\n"
     ]
    },
    {
     "output_type": "display_data",
     "data": {
      "text/plain": [
       "Processing Files (0 / 0)      : |          |  0.00B /  0.00B            "
      ],
      "application/vnd.jupyter.widget-view+json": {
       "version_major": 2,
       "version_minor": 0,
       "model_id": "7c4931c86c044ed6bd75580d99c60b08"
      }
     },
     "metadata": {}
    },
    {
     "output_type": "display_data",
     "data": {
      "text/plain": [
       "New Data Upload               : |          |  0.00B /  0.00B            "
      ],
      "application/vnd.jupyter.widget-view+json": {
       "version_major": 2,
       "version_minor": 0,
       "model_id": "887852e206cd4feead884acfbeb0596c"
      }
     },
     "metadata": {}
    },
    {
     "output_type": "display_data",
     "data": {
      "text/plain": [
       "  ./checkpoints/best_model.pth:   0%|          |  555kB /  292MB            "
      ],
      "application/vnd.jupyter.widget-view+json": {
       "version_major": 2,
       "version_minor": 0,
       "model_id": "b0a28b0adee44eeeb9d8a88d0d9af290"
      }
     },
     "metadata": {}
    },
    {
     "output_type": "stream",
     "name": "stdout",
     "text": [
      "  \u2192 Uploaded to HF: best_model.pth\n",
      "Best: 49.58% | Patience: 0/15\n",
      "\n"
     ]
    },
    {
     "output_type": "stream",
     "name": "stderr",
     "text": [
      "Epoch 10 Loss=2.6453 Acc=42.51% LR=0.010000: 100%|\u2588\u2588\u2588\u2588\u2588\u2588\u2588\u2588\u2588\u2588| 196/196 [01:49<00:00,  1.79it/s]\n"
     ]
    },
    {
     "output_type": "stream",
     "name": "stdout",
     "text": [
      "\n",
      "Test set: Average loss: 1.8819, Accuracy: 5111/10000 (51.11%)\n",
      "\n",
      "  \u2192 Saved to GDrive: best_model.pth\n",
      "\n",
      "\ud83d\udce4 Uploading to HuggingFace (epoch 10)...\n"
     ]
    },
    {
     "output_type": "display_data",
     "data": {
      "text/plain": [
       "Processing Files (0 / 0)      : |          |  0.00B /  0.00B            "
      ],
      "application/vnd.jupyter.widget-view+json": {
       "version_major": 2,
       "version_minor": 0,
       "model_id": "1037b12945a545a1939977ead2118e68"
      }
     },
     "metadata": {}
    },
    {
     "output_type": "display_data",
     "data": {
      "text/plain": [
       "New Data Upload               : |          |  0.00B /  0.00B            "
      ],
      "application/vnd.jupyter.widget-view+json": {
       "version_major": 2,
       "version_minor": 0,
       "model_id": "d5e0b6cd699f42cea0ea5c9beb2e7703"
      }
     },
     "metadata": {}
    },
    {
     "output_type": "display_data",
     "data": {
      "text/plain": [
       "  ...ts/checkpoint_epoch10.pth:   0%|          |  555kB /  292MB            "
      ],
      "application/vnd.jupyter.widget-view+json": {
       "version_major": 2,
       "version_minor": 0,
       "model_id": "c6bfc6ac488d4cb3a3f8ac2f90d687ce"
      }
     },
     "metadata": {}
    },
    {
     "output_type": "stream",
     "name": "stdout",
     "text": [
      "  \u2192 Uploaded to HF: checkpoint_epoch10.pth\n",
      "  \u2192 Uploaded to HF: metrics.json\n",
      "\n",
      "*** NEW BEST MODEL! Test Accuracy: 51.11% ***\n"
     ]
    },
    {
     "output_type": "display_data",
     "data": {
      "text/plain": [
       "Processing Files (0 / 0)      : |          |  0.00B /  0.00B            "
      ],
      "application/vnd.jupyter.widget-view+json": {
       "version_major": 2,
       "version_minor": 0,
       "model_id": "a1678b53df994e6b983db9568067f19a"
      }
     },
     "metadata": {}
    },
    {
     "output_type": "display_data",
     "data": {
      "text/plain": [
       "New Data Upload               : |          |  0.00B /  0.00B            "
      ],
      "application/vnd.jupyter.widget-view+json": {
       "version_major": 2,
       "version_minor": 0,
       "model_id": "80f0eaf2c62c40ee9ce53cad2a3f2629"
      }
     },
     "metadata": {}
    },
    {
     "output_type": "display_data",
     "data": {
      "text/plain": [
       "  ./checkpoints/best_model.pth:  11%|#         | 31.8MB /  292MB            "
      ],
      "application/vnd.jupyter.widget-view+json": {
       "version_major": 2,
       "version_minor": 0,
       "model_id": "82a1f465d5db4ba6aa411656526d3c6d"
      }
     },
     "metadata": {}
    },
    {
     "output_type": "stream",
     "name": "stdout",
     "text": [
      "  \u2192 Uploaded to HF: best_model.pth\n",
      "Best: 51.11% | Patience: 0/15\n",
      "\n"
     ]
    },
    {
     "output_type": "stream",
     "name": "stderr",
     "text": [
      "Epoch 11 Loss=2.5651 Acc=43.38% LR=0.001407: 100%|\u2588\u2588\u2588\u2588\u2588\u2588\u2588\u2588\u2588\u2588| 196/196 [01:49<00:00,  1.79it/s]\n"
     ]
    },
    {
     "output_type": "stream",
     "name": "stdout",
     "text": [
      "\n",
      "Test set: Average loss: 1.8562, Accuracy: 5171/10000 (51.71%)\n",
      "\n",
      "  \u2192 Saved to GDrive: best_model.pth\n",
      "\n",
      "*** NEW BEST MODEL! Test Accuracy: 51.71% ***\n"
     ]
    },
    {
     "output_type": "display_data",
     "data": {
      "text/plain": [
       "Processing Files (0 / 0)      : |          |  0.00B /  0.00B            "
      ],
      "application/vnd.jupyter.widget-view+json": {
       "version_major": 2,
       "version_minor": 0,
       "model_id": "61fe4f7f3f1a4b5fb3bf2285653c2509"
      }
     },
     "metadata": {}
    },
    {
     "output_type": "display_data",
     "data": {
      "text/plain": [
       "New Data Upload               : |          |  0.00B /  0.00B            "
      ],
      "application/vnd.jupyter.widget-view+json": {
       "version_major": 2,
       "version_minor": 0,
       "model_id": "02b067d07cf1431d8e9482f7e817e378"
      }
     },
     "metadata": {}
    },
    {
     "output_type": "display_data",
     "data": {
      "text/plain": [
       "  ./checkpoints/best_model.pth:   0%|          |  555kB /  292MB            "
      ],
      "application/vnd.jupyter.widget-view+json": {
       "version_major": 2,
       "version_minor": 0,
       "model_id": "c6000b44a860458bb96528731d96b918"
      }
     },
     "metadata": {}
    },
    {
     "output_type": "stream",
     "name": "stdout",
     "text": [
      "  \u2192 Uploaded to HF: best_model.pth\n",
      "Best: 51.71% | Patience: 0/15\n",
      "\n"
     ]
    },
    {
     "output_type": "stream",
     "name": "stderr",
     "text": [
      "Epoch 12 Loss=2.3623 Acc=43.80% LR=0.003782: 100%|\u2588\u2588\u2588\u2588\u2588\u2588\u2588\u2588\u2588\u2588| 196/196 [01:49<00:00,  1.79it/s]\n"
     ]
    },
    {
     "output_type": "stream",
     "name": "stdout",
     "text": [
      "\n",
      "Test set: Average loss: 1.8587, Accuracy: 5148/10000 (51.48%)\n",
      "\n",
      "  \u2192 Saved to GDrive: checkpoint_epoch012.pth\n",
      "Best: 51.71% | Patience: 1/15\n",
      "\n"
     ]
    },
    {
     "output_type": "stream",
     "name": "stderr",
     "text": [
      "Epoch 13 Loss=2.5141 Acc=45.80% LR=0.006718: 100%|\u2588\u2588\u2588\u2588\u2588\u2588\u2588\u2588\u2588\u2588| 196/196 [01:48<00:00,  1.80it/s]\n"
     ]
    },
    {
     "output_type": "stream",
     "name": "stdout",
     "text": [
      "\n",
      "Test set: Average loss: 1.7888, Accuracy: 5288/10000 (52.88%)\n",
      "\n",
      "  \u2192 Saved to GDrive: best_model.pth\n",
      "\n",
      "*** NEW BEST MODEL! Test Accuracy: 52.88% ***\n"
     ]
    },
    {
     "output_type": "display_data",
     "data": {
      "text/plain": [
       "Processing Files (0 / 0)      : |          |  0.00B /  0.00B            "
      ],
      "application/vnd.jupyter.widget-view+json": {
       "version_major": 2,
       "version_minor": 0,
       "model_id": "8fbcc0c20c6241999b7b410103ca8dcb"
      }
     },
     "metadata": {}
    },
    {
     "output_type": "display_data",
     "data": {
      "text/plain": [
       "New Data Upload               : |          |  0.00B /  0.00B            "
      ],
      "application/vnd.jupyter.widget-view+json": {
       "version_major": 2,
       "version_minor": 0,
       "model_id": "9eaad94d83b448fcbbbca72dd7eaedf4"
      }
     },
     "metadata": {}
    },
    {
     "output_type": "display_data",
     "data": {
      "text/plain": [
       "  ./checkpoints/best_model.pth:   0%|          |  554kB /  292MB            "
      ],
      "application/vnd.jupyter.widget-view+json": {
       "version_major": 2,
       "version_minor": 0,
       "model_id": "f9ebb6d834ba43868606b5e3efc989b0"
      }
     },
     "metadata": {}
    },
    {
     "output_type": "stream",
     "name": "stdout",
     "text": [
      "  \u2192 Uploaded to HF: best_model.pth\n",
      "Best: 52.88% | Patience: 0/15\n",
      "\n"
     ]
    },
    {
     "output_type": "stream",
     "name": "stderr",
     "text": [
      "Epoch 14 Loss=2.7632 Acc=45.87% LR=0.009093: 100%|\u2588\u2588\u2588\u2588\u2588\u2588\u2588\u2588\u2588\u2588| 196/196 [01:49<00:00,  1.79it/s]\n"
     ]
    },
    {
     "output_type": "stream",
     "name": "stdout",
     "text": [
      "\n",
      "Test set: Average loss: 1.7691, Accuracy: 5373/10000 (53.73%)\n",
      "\n",
      "  \u2192 Saved to GDrive: best_model.pth\n",
      "\n",
      "*** NEW BEST MODEL! Test Accuracy: 53.73% ***\n"
     ]
    },
    {
     "output_type": "display_data",
     "data": {
      "text/plain": [
       "Processing Files (0 / 0)      : |          |  0.00B /  0.00B            "
      ],
      "application/vnd.jupyter.widget-view+json": {
       "version_major": 2,
       "version_minor": 0,
       "model_id": "21ffb9171ff64f54ab918f3ee68485b5"
      }
     },
     "metadata": {}
    },
    {
     "output_type": "display_data",
     "data": {
      "text/plain": [
       "New Data Upload               : |          |  0.00B /  0.00B            "
      ],
      "application/vnd.jupyter.widget-view+json": {
       "version_major": 2,
       "version_minor": 0,
       "model_id": "f35934504f7246a899a5a9afed8d7e5c"
      }
     },
     "metadata": {}
    },
    {
     "output_type": "display_data",
     "data": {
      "text/plain": [
       "  ./checkpoints/best_model.pth:   0%|          |  554kB /  292MB            "
      ],
      "application/vnd.jupyter.widget-view+json": {
       "version_major": 2,
       "version_minor": 0,
       "model_id": "2def7f874d794d8186676ac019399051"
      }
     },
     "metadata": {}
    },
    {
     "output_type": "stream",
     "name": "stdout",
     "text": [
      "  \u2192 Uploaded to HF: best_model.pth\n",
      "Best: 53.73% | Patience: 0/15\n",
      "\n"
     ]
    },
    {
     "output_type": "stream",
     "name": "stderr",
     "text": [
      "Epoch 15 Loss=2.8001 Acc=46.38% LR=0.010000: 100%|\u2588\u2588\u2588\u2588\u2588\u2588\u2588\u2588\u2588\u2588| 196/196 [01:49<00:00,  1.79it/s]\n"
     ]
    },
    {
     "output_type": "stream",
     "name": "stdout",
     "text": [
      "\n",
      "Test set: Average loss: 1.7569, Accuracy: 5400/10000 (54.00%)\n",
      "\n",
      "  \u2192 Saved to GDrive: best_model.pth\n",
      "\n",
      "*** NEW BEST MODEL! Test Accuracy: 54.00% ***\n"
     ]
    },
    {
     "output_type": "display_data",
     "data": {
      "text/plain": [
       "Processing Files (0 / 0)      : |          |  0.00B /  0.00B            "
      ],
      "application/vnd.jupyter.widget-view+json": {
       "version_major": 2,
       "version_minor": 0,
       "model_id": "1a964fcc1b374fe6a19bfa107d8e4d31"
      }
     },
     "metadata": {}
    },
    {
     "output_type": "display_data",
     "data": {
      "text/plain": [
       "New Data Upload               : |          |  0.00B /  0.00B            "
      ],
      "application/vnd.jupyter.widget-view+json": {
       "version_major": 2,
       "version_minor": 0,
       "model_id": "5edf6360c28f4d41b6874850f2f11ee0"
      }
     },
     "metadata": {}
    },
    {
     "output_type": "display_data",
     "data": {
      "text/plain": [
       "  ./checkpoints/best_model.pth:   0%|          |  554kB /  292MB            "
      ],
      "application/vnd.jupyter.widget-view+json": {
       "version_major": 2,
       "version_minor": 0,
       "model_id": "0baee4b88ee540a0af995565873169a0"
      }
     },
     "metadata": {}
    },
    {
     "output_type": "stream",
     "name": "stdout",
     "text": [
      "  \u2192 Uploaded to HF: best_model.pth\n",
      "Best: 54.00% | Patience: 0/15\n",
      "\n"
     ]
    },
    {
     "output_type": "stream",
     "name": "stderr",
     "text": [
      "Epoch 16 Loss=3.5077 Acc=47.32% LR=0.001407: 100%|\u2588\u2588\u2588\u2588\u2588\u2588\u2588\u2588\u2588\u2588| 196/196 [01:49<00:00,  1.79it/s]\n"
     ]
    },
    {
     "output_type": "stream",
     "name": "stdout",
     "text": [
      "\n",
      "Test set: Average loss: 1.7464, Accuracy: 5409/10000 (54.09%)\n",
      "\n",
      "  \u2192 Saved to GDrive: best_model.pth\n",
      "\n",
      "*** NEW BEST MODEL! Test Accuracy: 54.09% ***\n"
     ]
    },
    {
     "output_type": "display_data",
     "data": {
      "text/plain": [
       "Processing Files (0 / 0)      : |          |  0.00B /  0.00B            "
      ],
      "application/vnd.jupyter.widget-view+json": {
       "version_major": 2,
       "version_minor": 0,
       "model_id": "db964e777c0e48d59eef64978c1ce599"
      }
     },
     "metadata": {}
    },
    {
     "output_type": "display_data",
     "data": {
      "text/plain": [
       "New Data Upload               : |          |  0.00B /  0.00B            "
      ],
      "application/vnd.jupyter.widget-view+json": {
       "version_major": 2,
       "version_minor": 0,
       "model_id": "0520fa7fee734d1590b73ccb5771d226"
      }
     },
     "metadata": {}
    },
    {
     "output_type": "display_data",
     "data": {
      "text/plain": [
       "  ./checkpoints/best_model.pth:   0%|          |  554kB /  292MB            "
      ],
      "application/vnd.jupyter.widget-view+json": {
       "version_major": 2,
       "version_minor": 0,
       "model_id": "b7ff02f80752489fa652bb2fcd92c1a5"
      }
     },
     "metadata": {}
    },
    {
     "output_type": "stream",
     "name": "stdout",
     "text": [
      "  \u2192 Uploaded to HF: best_model.pth\n",
      "Best: 54.09% | Patience: 0/15\n",
      "\n"
     ]
    },
    {
     "output_type": "stream",
     "name": "stderr",
     "text": [
      "Epoch 17 Loss=3.5053 Acc=47.06% LR=0.003782: 100%|\u2588\u2588\u2588\u2588\u2588\u2588\u2588\u2588\u2588\u2588| 196/196 [01:49<00:00,  1.79it/s]\n"
     ]
    },
    {
     "output_type": "stream",
     "name": "stdout",
     "text": [
      "\n",
      "Test set: Average loss: 1.6975, Accuracy: 5508/10000 (55.08%)\n",
      "\n",
      "  \u2192 Saved to GDrive: best_model.pth\n",
      "\n",
      "*** NEW BEST MODEL! Test Accuracy: 55.08% ***\n"
     ]
    },
    {
     "output_type": "display_data",
     "data": {
      "text/plain": [
       "Processing Files (0 / 0)      : |          |  0.00B /  0.00B            "
      ],
      "application/vnd.jupyter.widget-view+json": {
       "version_major": 2,
       "version_minor": 0,
       "model_id": "bfd08f36cdf54c6fa4de20d08bdc497a"
      }
     },
     "metadata": {}
    },
    {
     "output_type": "display_data",
     "data": {
      "text/plain": [
       "New Data Upload               : |          |  0.00B /  0.00B            "
      ],
      "application/vnd.jupyter.widget-view+json": {
       "version_major": 2,
       "version_minor": 0,
       "model_id": "d1397830f12a49f6a13ea292cd4b66c5"
      }
     },
     "metadata": {}
    },
    {
     "output_type": "display_data",
     "data": {
      "text/plain": [
       "  ./checkpoints/best_model.pth:   0%|          |  554kB /  292MB            "
      ],
      "application/vnd.jupyter.widget-view+json": {
       "version_major": 2,
       "version_minor": 0,
       "model_id": "050076ed17824a21855eaf3bb9b9d4c0"
      }
     },
     "metadata": {}
    },
    {
     "output_type": "stream",
     "name": "stdout",
     "text": [
      "  \u2192 Uploaded to HF: best_model.pth\n",
      "Best: 55.08% | Patience: 0/15\n",
      "\n"
     ]
    },
    {
     "output_type": "stream",
     "name": "stderr",
     "text": [
      "Epoch 18 Loss=2.2890 Acc=48.62% LR=0.006718: 100%|\u2588\u2588\u2588\u2588\u2588\u2588\u2588\u2588\u2588\u2588| 196/196 [01:49<00:00,  1.79it/s]\n"
     ]
    },
    {
     "output_type": "stream",
     "name": "stdout",
     "text": [
      "\n",
      "Test set: Average loss: 1.6918, Accuracy: 5580/10000 (55.80%)\n",
      "\n",
      "  \u2192 Saved to GDrive: best_model.pth\n",
      "\n",
      "*** NEW BEST MODEL! Test Accuracy: 55.80% ***\n"
     ]
    },
    {
     "output_type": "display_data",
     "data": {
      "text/plain": [
       "Processing Files (0 / 0)      : |          |  0.00B /  0.00B            "
      ],
      "application/vnd.jupyter.widget-view+json": {
       "version_major": 2,
       "version_minor": 0,
       "model_id": "54e8da470b234db39bf5ba5fb6423382"
      }
     },
     "metadata": {}
    },
    {
     "output_type": "display_data",
     "data": {
      "text/plain": [
       "New Data Upload               : |          |  0.00B /  0.00B            "
      ],
      "application/vnd.jupyter.widget-view+json": {
       "version_major": 2,
       "version_minor": 0,
       "model_id": "4603b4aaa8e54ec6ba8ed223857b094a"
      }
     },
     "metadata": {}
    },
    {
     "output_type": "display_data",
     "data": {
      "text/plain": [
       "  ./checkpoints/best_model.pth:   0%|          |  554kB /  292MB            "
      ],
      "application/vnd.jupyter.widget-view+json": {
       "version_major": 2,
       "version_minor": 0,
       "model_id": "87adbd3584734f69adfe30c9f1ddc4fc"
      }
     },
     "metadata": {}
    },
    {
     "output_type": "stream",
     "name": "stdout",
     "text": [
      "  \u2192 Uploaded to HF: best_model.pth\n",
      "Best: 55.80% | Patience: 0/15\n",
      "\n"
     ]
    },
    {
     "output_type": "stream",
     "name": "stderr",
     "text": [
      "Epoch 19 Loss=2.1551 Acc=47.85% LR=0.009093: 100%|\u2588\u2588\u2588\u2588\u2588\u2588\u2588\u2588\u2588\u2588| 196/196 [01:49<00:00,  1.79it/s]\n"
     ]
    },
    {
     "output_type": "stream",
     "name": "stdout",
     "text": [
      "\n",
      "Test set: Average loss: 1.6697, Accuracy: 5665/10000 (56.65%)\n",
      "\n",
      "  \u2192 Saved to GDrive: best_model.pth\n",
      "\n",
      "*** NEW BEST MODEL! Test Accuracy: 56.65% ***\n"
     ]
    },
    {
     "output_type": "display_data",
     "data": {
      "text/plain": [
       "Processing Files (0 / 0)      : |          |  0.00B /  0.00B            "
      ],
      "application/vnd.jupyter.widget-view+json": {
       "version_major": 2,
       "version_minor": 0,
       "model_id": "a3fa1342bf7447fa84f17f04b33660ec"
      }
     },
     "metadata": {}
    },
    {
     "output_type": "display_data",
     "data": {
      "text/plain": [
       "New Data Upload               : |          |  0.00B /  0.00B            "
      ],
      "application/vnd.jupyter.widget-view+json": {
       "version_major": 2,
       "version_minor": 0,
       "model_id": "8cf7d2ed8c27448c8a616ccefa1ce237"
      }
     },
     "metadata": {}
    },
    {
     "output_type": "display_data",
     "data": {
      "text/plain": [
       "  ./checkpoints/best_model.pth:   0%|          |  553kB /  292MB            "
      ],
      "application/vnd.jupyter.widget-view+json": {
       "version_major": 2,
       "version_minor": 0,
       "model_id": "81e26fc74176416da8e868bd4ce4bc00"
      }
     },
     "metadata": {}
    },
    {
     "output_type": "stream",
     "name": "stdout",
     "text": [
      "  \u2192 Uploaded to HF: best_model.pth\n",
      "Best: 56.65% | Patience: 0/15\n",
      "\n"
     ]
    },
    {
     "output_type": "stream",
     "name": "stderr",
     "text": [
      "Epoch 20 Loss=2.3200 Acc=48.32% LR=0.010000: 100%|\u2588\u2588\u2588\u2588\u2588\u2588\u2588\u2588\u2588\u2588| 196/196 [01:49<00:00,  1.79it/s]\n"
     ]
    },
    {
     "output_type": "stream",
     "name": "stdout",
     "text": [
      "\n",
      "Test set: Average loss: 1.6440, Accuracy: 5715/10000 (57.15%)\n",
      "\n",
      "  \u2192 Saved to GDrive: best_model.pth\n",
      "\n",
      "\ud83d\udce4 Uploading to HuggingFace (epoch 20)...\n"
     ]
    },
    {
     "output_type": "display_data",
     "data": {
      "text/plain": [
       "Processing Files (0 / 0)      : |          |  0.00B /  0.00B            "
      ],
      "application/vnd.jupyter.widget-view+json": {
       "version_major": 2,
       "version_minor": 0,
       "model_id": "609a64a47796423392b4182eedcb1617"
      }
     },
     "metadata": {}
    },
    {
     "output_type": "display_data",
     "data": {
      "text/plain": [
       "New Data Upload               : |          |  0.00B /  0.00B            "
      ],
      "application/vnd.jupyter.widget-view+json": {
       "version_major": 2,
       "version_minor": 0,
       "model_id": "efa29f21bbb546eb80bded31b1f032bf"
      }
     },
     "metadata": {}
    },
    {
     "output_type": "display_data",
     "data": {
      "text/plain": [
       "  ...ts/checkpoint_epoch20.pth:   0%|          |  554kB /  292MB            "
      ],
      "application/vnd.jupyter.widget-view+json": {
       "version_major": 2,
       "version_minor": 0,
       "model_id": "4a83d27cc35a402a9c3f4ebf860b7ad2"
      }
     },
     "metadata": {}
    },
    {
     "output_type": "stream",
     "name": "stdout",
     "text": [
      "  \u2192 Uploaded to HF: checkpoint_epoch20.pth\n",
      "  \u2192 Uploaded to HF: metrics.json\n",
      "\n",
      "*** NEW BEST MODEL! Test Accuracy: 57.15% ***\n"
     ]
    },
    {
     "output_type": "display_data",
     "data": {
      "text/plain": [
       "Processing Files (0 / 0)      : |          |  0.00B /  0.00B            "
      ],
      "application/vnd.jupyter.widget-view+json": {
       "version_major": 2,
       "version_minor": 0,
       "model_id": "a629d1e7f39d486594f8bdc09b5b0d3c"
      }
     },
     "metadata": {}
    },
    {
     "output_type": "display_data",
     "data": {
      "text/plain": [
       "New Data Upload               : |          |  0.00B /  0.00B            "
      ],
      "application/vnd.jupyter.widget-view+json": {
       "version_major": 2,
       "version_minor": 0,
       "model_id": "b7c3a6c474394fa59abe076118c1cb29"
      }
     },
     "metadata": {}
    },
    {
     "output_type": "display_data",
     "data": {
      "text/plain": [
       "  ./checkpoints/best_model.pth:  17%|#6        | 48.6MB /  292MB            "
      ],
      "application/vnd.jupyter.widget-view+json": {
       "version_major": 2,
       "version_minor": 0,
       "model_id": "3452a62fce5c422f9c21f0c0e68e1160"
      }
     },
     "metadata": {}
    },
    {
     "output_type": "stream",
     "name": "stdout",
     "text": [
      "  \u2192 Uploaded to HF: best_model.pth\n",
      "Best: 57.15% | Patience: 0/15\n",
      "\n"
     ]
    },
    {
     "output_type": "stream",
     "name": "stderr",
     "text": [
      "Epoch 21 Loss=2.0479 Acc=50.21% LR=0.001407: 100%|\u2588\u2588\u2588\u2588\u2588\u2588\u2588\u2588\u2588\u2588| 196/196 [01:49<00:00,  1.79it/s]\n"
     ]
    },
    {
     "output_type": "stream",
     "name": "stdout",
     "text": [
      "\n",
      "Test set: Average loss: 1.6447, Accuracy: 5746/10000 (57.46%)\n",
      "\n",
      "  \u2192 Saved to GDrive: best_model.pth\n",
      "\n",
      "*** NEW BEST MODEL! Test Accuracy: 57.46% ***\n"
     ]
    },
    {
     "output_type": "display_data",
     "data": {
      "text/plain": [
       "Processing Files (0 / 0)      : |          |  0.00B /  0.00B            "
      ],
      "application/vnd.jupyter.widget-view+json": {
       "version_major": 2,
       "version_minor": 0,
       "model_id": "2b742adbcf194fca8d86521795054226"
      }
     },
     "metadata": {}
    },
    {
     "output_type": "display_data",
     "data": {
      "text/plain": [
       "New Data Upload               : |          |  0.00B /  0.00B            "
      ],
      "application/vnd.jupyter.widget-view+json": {
       "version_major": 2,
       "version_minor": 0,
       "model_id": "7310a024e8474b8ca23cfe2555453fa7"
      }
     },
     "metadata": {}
    },
    {
     "output_type": "display_data",
     "data": {
      "text/plain": [
       "  ./checkpoints/best_model.pth:   0%|          |  554kB /  292MB            "
      ],
      "application/vnd.jupyter.widget-view+json": {
       "version_major": 2,
       "version_minor": 0,
       "model_id": "78f346732d8241cfa1295ce11ac736da"
      }
     },
     "metadata": {}
    },
    {
     "output_type": "stream",
     "name": "stdout",
     "text": [
      "  \u2192 Uploaded to HF: best_model.pth\n",
      "Best: 57.46% | Patience: 0/15\n",
      "\n"
     ]
    },
    {
     "output_type": "stream",
     "name": "stderr",
     "text": [
      "Epoch 22 Loss=2.2684 Acc=50.08% LR=0.003782: 100%|\u2588\u2588\u2588\u2588\u2588\u2588\u2588\u2588\u2588\u2588| 196/196 [01:49<00:00,  1.79it/s]\n"
     ]
    },
    {
     "output_type": "stream",
     "name": "stdout",
     "text": [
      "\n",
      "Test set: Average loss: 1.6269, Accuracy: 5784/10000 (57.84%)\n",
      "\n",
      "  \u2192 Saved to GDrive: best_model.pth\n",
      "\n",
      "*** NEW BEST MODEL! Test Accuracy: 57.84% ***\n"
     ]
    },
    {
     "output_type": "display_data",
     "data": {
      "text/plain": [
       "Processing Files (0 / 0)      : |          |  0.00B /  0.00B            "
      ],
      "application/vnd.jupyter.widget-view+json": {
       "version_major": 2,
       "version_minor": 0,
       "model_id": "a99344ec7cc74f86bc58015ab0630689"
      }
     },
     "metadata": {}
    },
    {
     "output_type": "display_data",
     "data": {
      "text/plain": [
       "New Data Upload               : |          |  0.00B /  0.00B            "
      ],
      "application/vnd.jupyter.widget-view+json": {
       "version_major": 2,
       "version_minor": 0,
       "model_id": "89e78793f6d440e4b7d933178da7f220"
      }
     },
     "metadata": {}
    },
    {
     "output_type": "display_data",
     "data": {
      "text/plain": [
       "  ./checkpoints/best_model.pth:   0%|          |  553kB /  292MB            "
      ],
      "application/vnd.jupyter.widget-view+json": {
       "version_major": 2,
       "version_minor": 0,
       "model_id": "b49c57b884304ddcb0320c6829465dae"
      }
     },
     "metadata": {}
    },
    {
     "output_type": "stream",
     "name": "stdout",
     "text": [
      "  \u2192 Uploaded to HF: best_model.pth\n",
      "Best: 57.84% | Patience: 0/15\n",
      "\n"
     ]
    },
    {
     "output_type": "stream",
     "name": "stderr",
     "text": [
      "Epoch 23 Loss=2.2159 Acc=50.41% LR=0.006718: 100%|\u2588\u2588\u2588\u2588\u2588\u2588\u2588\u2588\u2588\u2588| 196/196 [01:49<00:00,  1.79it/s]\n"
     ]
    },
    {
     "output_type": "stream",
     "name": "stdout",
     "text": [
      "\n",
      "Test set: Average loss: 1.6174, Accuracy: 5779/10000 (57.79%)\n",
      "\n",
      "  \u2192 Saved to GDrive: checkpoint_epoch023.pth\n",
      "Best: 57.84% | Patience: 1/15\n",
      "\n"
     ]
    },
    {
     "output_type": "stream",
     "name": "stderr",
     "text": [
      "Epoch 24 Loss=2.1557 Acc=51.25% LR=0.009093: 100%|\u2588\u2588\u2588\u2588\u2588\u2588\u2588\u2588\u2588\u2588| 196/196 [01:48<00:00,  1.80it/s]\n"
     ]
    },
    {
     "output_type": "stream",
     "name": "stdout",
     "text": [
      "\n",
      "Test set: Average loss: 1.5918, Accuracy: 5867/10000 (58.67%)\n",
      "\n",
      "  \u2192 Saved to GDrive: best_model.pth\n",
      "\n",
      "*** NEW BEST MODEL! Test Accuracy: 58.67% ***\n"
     ]
    },
    {
     "output_type": "display_data",
     "data": {
      "text/plain": [
       "Processing Files (0 / 0)      : |          |  0.00B /  0.00B            "
      ],
      "application/vnd.jupyter.widget-view+json": {
       "version_major": 2,
       "version_minor": 0,
       "model_id": "930cdba38f424257a539bf383c038880"
      }
     },
     "metadata": {}
    },
    {
     "output_type": "display_data",
     "data": {
      "text/plain": [
       "New Data Upload               : |          |  0.00B /  0.00B            "
      ],
      "application/vnd.jupyter.widget-view+json": {
       "version_major": 2,
       "version_minor": 0,
       "model_id": "75d27a8bc69a4d69b5e54e59412a3a29"
      }
     },
     "metadata": {}
    },
    {
     "output_type": "display_data",
     "data": {
      "text/plain": [
       "  ./checkpoints/best_model.pth:   0%|          |  553kB /  292MB            "
      ],
      "application/vnd.jupyter.widget-view+json": {
       "version_major": 2,
       "version_minor": 0,
       "model_id": "7cf8ebf3b3d341c8aa3bcbf01a2f60fe"
      }
     },
     "metadata": {}
    },
    {
     "output_type": "stream",
     "name": "stdout",
     "text": [
      "  \u2192 Uploaded to HF: best_model.pth\n",
      "Best: 58.67% | Patience: 0/15\n",
      "\n"
     ]
    },
    {
     "output_type": "stream",
     "name": "stderr",
     "text": [
      "Epoch 25 Loss=2.1817 Acc=50.25% LR=0.010000: 100%|\u2588\u2588\u2588\u2588\u2588\u2588\u2588\u2588\u2588\u2588| 196/196 [01:49<00:00,  1.79it/s]\n"
     ]
    },
    {
     "output_type": "stream",
     "name": "stdout",
     "text": [
      "\n",
      "Test set: Average loss: 1.5777, Accuracy: 5895/10000 (58.95%)\n",
      "\n",
      "  \u2192 Saved to GDrive: best_model.pth\n",
      "\n",
      "*** NEW BEST MODEL! Test Accuracy: 58.95% ***\n"
     ]
    },
    {
     "output_type": "display_data",
     "data": {
      "text/plain": [
       "Processing Files (0 / 0)      : |          |  0.00B /  0.00B            "
      ],
      "application/vnd.jupyter.widget-view+json": {
       "version_major": 2,
       "version_minor": 0,
       "model_id": "0504e6fb59da4169ab2fa94daecdd311"
      }
     },
     "metadata": {}
    },
    {
     "output_type": "display_data",
     "data": {
      "text/plain": [
       "New Data Upload               : |          |  0.00B /  0.00B            "
      ],
      "application/vnd.jupyter.widget-view+json": {
       "version_major": 2,
       "version_minor": 0,
       "model_id": "e4bfa574dadb441db20c26dbbfa23d7d"
      }
     },
     "metadata": {}
    },
    {
     "output_type": "display_data",
     "data": {
      "text/plain": [
       "  ./checkpoints/best_model.pth:   0%|          |  554kB /  292MB            "
      ],
      "application/vnd.jupyter.widget-view+json": {
       "version_major": 2,
       "version_minor": 0,
       "model_id": "3e107a24176a400aad4084eaf09d9663"
      }
     },
     "metadata": {}
    },
    {
     "output_type": "stream",
     "name": "stdout",
     "text": [
      "  \u2192 Uploaded to HF: best_model.pth\n",
      "Best: 58.95% | Patience: 0/15\n",
      "\n"
     ]
    },
    {
     "output_type": "stream",
     "name": "stderr",
     "text": [
      "Epoch 26 Loss=2.2912 Acc=53.86% LR=0.001407: 100%|\u2588\u2588\u2588\u2588\u2588\u2588\u2588\u2588\u2588\u2588| 196/196 [01:49<00:00,  1.79it/s]\n"
     ]
    },
    {
     "output_type": "stream",
     "name": "stdout",
     "text": [
      "\n",
      "Test set: Average loss: 1.5549, Accuracy: 5968/10000 (59.68%)\n",
      "\n",
      "  \u2192 Saved to GDrive: best_model.pth\n",
      "\n",
      "*** NEW BEST MODEL! Test Accuracy: 59.68% ***\n"
     ]
    },
    {
     "output_type": "display_data",
     "data": {
      "text/plain": [
       "Processing Files (0 / 0)      : |          |  0.00B /  0.00B            "
      ],
      "application/vnd.jupyter.widget-view+json": {
       "version_major": 2,
       "version_minor": 0,
       "model_id": "021681f3da724102a1727f6dc490f280"
      }
     },
     "metadata": {}
    },
    {
     "output_type": "display_data",
     "data": {
      "text/plain": [
       "New Data Upload               : |          |  0.00B /  0.00B            "
      ],
      "application/vnd.jupyter.widget-view+json": {
       "version_major": 2,
       "version_minor": 0,
       "model_id": "b94a8542bdb34df7b921fb540c8169d3"
      }
     },
     "metadata": {}
    },
    {
     "output_type": "display_data",
     "data": {
      "text/plain": [
       "  ./checkpoints/best_model.pth:   0%|          |  554kB /  292MB            "
      ],
      "application/vnd.jupyter.widget-view+json": {
       "version_major": 2,
       "version_minor": 0,
       "model_id": "64cebb832b4c423883b7a9fed4c41182"
      }
     },
     "metadata": {}
    },
    {
     "output_type": "stream",
     "name": "stdout",
     "text": [
      "  \u2192 Uploaded to HF: best_model.pth\n",
      "Best: 59.68% | Patience: 0/15\n",
      "\n"
     ]
    },
    {
     "output_type": "stream",
     "name": "stderr",
     "text": [
      "Epoch 27 Loss=3.6380 Acc=52.07% LR=0.003782: 100%|\u2588\u2588\u2588\u2588\u2588\u2588\u2588\u2588\u2588\u2588| 196/196 [01:49<00:00,  1.79it/s]\n"
     ]
    },
    {
     "output_type": "stream",
     "name": "stdout",
     "text": [
      "\n",
      "Test set: Average loss: 1.5719, Accuracy: 5909/10000 (59.09%)\n",
      "\n",
      "  \u2192 Saved to GDrive: checkpoint_epoch027.pth\n",
      "Best: 59.68% | Patience: 1/15\n",
      "\n"
     ]
    },
    {
     "output_type": "stream",
     "name": "stderr",
     "text": [
      "Epoch 28 Loss=3.2235 Acc=53.79% LR=0.006718: 100%|\u2588\u2588\u2588\u2588\u2588\u2588\u2588\u2588\u2588\u2588| 196/196 [01:48<00:00,  1.80it/s]\n"
     ]
    },
    {
     "output_type": "stream",
     "name": "stdout",
     "text": [
      "\n",
      "Test set: Average loss: 1.5574, Accuracy: 6041/10000 (60.41%)\n",
      "\n",
      "  \u2192 Saved to GDrive: best_model.pth\n",
      "\n",
      "*** NEW BEST MODEL! Test Accuracy: 60.41% ***\n"
     ]
    },
    {
     "output_type": "display_data",
     "data": {
      "text/plain": [
       "Processing Files (0 / 0)      : |          |  0.00B /  0.00B            "
      ],
      "application/vnd.jupyter.widget-view+json": {
       "version_major": 2,
       "version_minor": 0,
       "model_id": "b4999243f1b448e3b06778cbd077dead"
      }
     },
     "metadata": {}
    },
    {
     "output_type": "display_data",
     "data": {
      "text/plain": [
       "New Data Upload               : |          |  0.00B /  0.00B            "
      ],
      "application/vnd.jupyter.widget-view+json": {
       "version_major": 2,
       "version_minor": 0,
       "model_id": "ab763ae9966743db8073f99e94b0eeac"
      }
     },
     "metadata": {}
    },
    {
     "output_type": "display_data",
     "data": {
      "text/plain": [
       "  ./checkpoints/best_model.pth:   0%|          |  553kB /  292MB            "
      ],
      "application/vnd.jupyter.widget-view+json": {
       "version_major": 2,
       "version_minor": 0,
       "model_id": "0ecd3b64e85f4bb1a48be39e0f03e4f5"
      }
     },
     "metadata": {}
    },
    {
     "output_type": "stream",
     "name": "stdout",
     "text": [
      "  \u2192 Uploaded to HF: best_model.pth\n",
      "Best: 60.41% | Patience: 0/15\n",
      "\n"
     ]
    },
    {
     "output_type": "stream",
     "name": "stderr",
     "text": [
      "Epoch 29 Loss=2.0270 Acc=53.34% LR=0.009093: 100%|\u2588\u2588\u2588\u2588\u2588\u2588\u2588\u2588\u2588\u2588| 196/196 [01:49<00:00,  1.80it/s]\n"
     ]
    },
    {
     "output_type": "stream",
     "name": "stdout",
     "text": [
      "\n",
      "Test set: Average loss: 1.5232, Accuracy: 6090/10000 (60.90%)\n",
      "\n",
      "  \u2192 Saved to GDrive: best_model.pth\n",
      "\n",
      "*** NEW BEST MODEL! Test Accuracy: 60.90% ***\n"
     ]
    },
    {
     "output_type": "display_data",
     "data": {
      "text/plain": [
       "Processing Files (0 / 0)      : |          |  0.00B /  0.00B            "
      ],
      "application/vnd.jupyter.widget-view+json": {
       "version_major": 2,
       "version_minor": 0,
       "model_id": "badf8c2a2fc1495e91d2aa1c79fdbd7d"
      }
     },
     "metadata": {}
    },
    {
     "output_type": "display_data",
     "data": {
      "text/plain": [
       "New Data Upload               : |          |  0.00B /  0.00B            "
      ],
      "application/vnd.jupyter.widget-view+json": {
       "version_major": 2,
       "version_minor": 0,
       "model_id": "987818ad851045439af15009e57a2369"
      }
     },
     "metadata": {}
    },
    {
     "output_type": "display_data",
     "data": {
      "text/plain": [
       "  ./checkpoints/best_model.pth:   0%|          |  553kB /  292MB            "
      ],
      "application/vnd.jupyter.widget-view+json": {
       "version_major": 2,
       "version_minor": 0,
       "model_id": "9a12c21814584f5f9e90c08f5c79605d"
      }
     },
     "metadata": {}
    },
    {
     "output_type": "stream",
     "name": "stdout",
     "text": [
      "  \u2192 Uploaded to HF: best_model.pth\n",
      "Best: 60.90% | Patience: 0/15\n",
      "\n"
     ]
    },
    {
     "output_type": "stream",
     "name": "stderr",
     "text": [
      "Epoch 30 Loss=2.1582 Acc=54.50% LR=0.010000: 100%|\u2588\u2588\u2588\u2588\u2588\u2588\u2588\u2588\u2588\u2588| 196/196 [01:49<00:00,  1.78it/s]\n"
     ]
    },
    {
     "output_type": "stream",
     "name": "stdout",
     "text": [
      "\n",
      "Test set: Average loss: 1.5031, Accuracy: 6143/10000 (61.43%)\n",
      "\n",
      "  \u2192 Saved to GDrive: best_model.pth\n",
      "\n",
      "\ud83d\udce4 Uploading to HuggingFace (epoch 30)...\n"
     ]
    },
    {
     "output_type": "display_data",
     "data": {
      "text/plain": [
       "Processing Files (0 / 0)      : |          |  0.00B /  0.00B            "
      ],
      "application/vnd.jupyter.widget-view+json": {
       "version_major": 2,
       "version_minor": 0,
       "model_id": "b34b5b6addad42189ea07dd0cae2d07b"
      }
     },
     "metadata": {}
    },
    {
     "output_type": "display_data",
     "data": {
      "text/plain": [
       "New Data Upload               : |          |  0.00B /  0.00B            "
      ],
      "application/vnd.jupyter.widget-view+json": {
       "version_major": 2,
       "version_minor": 0,
       "model_id": "ae7d4a5dfff14022929d6d08fe4cc147"
      }
     },
     "metadata": {}
    },
    {
     "output_type": "display_data",
     "data": {
      "text/plain": [
       "  ...ts/checkpoint_epoch30.pth:   0%|          |  553kB /  292MB            "
      ],
      "application/vnd.jupyter.widget-view+json": {
       "version_major": 2,
       "version_minor": 0,
       "model_id": "24708ecf9b344b738234d5847c16acd5"
      }
     },
     "metadata": {}
    },
    {
     "output_type": "stream",
     "name": "stdout",
     "text": [
      "  \u2192 Uploaded to HF: checkpoint_epoch30.pth\n",
      "  \u2192 Uploaded to HF: metrics.json\n",
      "\n",
      "*** NEW BEST MODEL! Test Accuracy: 61.43% ***\n"
     ]
    },
    {
     "output_type": "display_data",
     "data": {
      "text/plain": [
       "Processing Files (0 / 0)      : |          |  0.00B /  0.00B            "
      ],
      "application/vnd.jupyter.widget-view+json": {
       "version_major": 2,
       "version_minor": 0,
       "model_id": "b92b609ceead4b75824e40a3039e6e0a"
      }
     },
     "metadata": {}
    },
    {
     "output_type": "display_data",
     "data": {
      "text/plain": [
       "New Data Upload               : |          |  0.00B /  0.00B            "
      ],
      "application/vnd.jupyter.widget-view+json": {
       "version_major": 2,
       "version_minor": 0,
       "model_id": "49de9632e3db46cfa97a0415ef4cb295"
      }
     },
     "metadata": {}
    },
    {
     "output_type": "display_data",
     "data": {
      "text/plain": [
       "  ./checkpoints/best_model.pth:  11%|#         | 31.6MB /  292MB            "
      ],
      "application/vnd.jupyter.widget-view+json": {
       "version_major": 2,
       "version_minor": 0,
       "model_id": "6906bffc657948dc846b3124dde01c78"
      }
     },
     "metadata": {}
    },
    {
     "output_type": "stream",
     "name": "stdout",
     "text": [
      "  \u2192 Uploaded to HF: best_model.pth\n",
      "Best: 61.43% | Patience: 0/15\n",
      "\n"
     ]
    },
    {
     "output_type": "stream",
     "name": "stderr",
     "text": [
      "Epoch 31 Loss=3.7538 Acc=54.89% LR=0.001407: 100%|\u2588\u2588\u2588\u2588\u2588\u2588\u2588\u2588\u2588\u2588| 196/196 [01:49<00:00,  1.79it/s]\n"
     ]
    },
    {
     "output_type": "stream",
     "name": "stdout",
     "text": [
      "\n",
      "Test set: Average loss: 1.5462, Accuracy: 6039/10000 (60.39%)\n",
      "\n",
      "  \u2192 Saved to GDrive: checkpoint_epoch031.pth\n",
      "Best: 61.43% | Patience: 1/15\n",
      "\n"
     ]
    },
    {
     "output_type": "stream",
     "name": "stderr",
     "text": [
      "Epoch 32 Loss=2.5802 Acc=53.94% LR=0.003782: 100%|\u2588\u2588\u2588\u2588\u2588\u2588\u2588\u2588\u2588\u2588| 196/196 [01:49<00:00,  1.80it/s]\n"
     ]
    },
    {
     "output_type": "stream",
     "name": "stdout",
     "text": [
      "\n",
      "Test set: Average loss: 1.5339, Accuracy: 6101/10000 (61.01%)\n",
      "\n",
      "  \u2192 Saved to GDrive: checkpoint_epoch032.pth\n",
      "Best: 61.43% | Patience: 2/15\n",
      "\n"
     ]
    },
    {
     "output_type": "stream",
     "name": "stderr",
     "text": [
      "Epoch 33 Loss=2.2725 Acc=54.12% LR=0.006718: 100%|\u2588\u2588\u2588\u2588\u2588\u2588\u2588\u2588\u2588\u2588| 196/196 [01:48<00:00,  1.80it/s]\n"
     ]
    },
    {
     "output_type": "stream",
     "name": "stdout",
     "text": [
      "\n",
      "Test set: Average loss: 1.5474, Accuracy: 6104/10000 (61.04%)\n",
      "\n",
      "  \u2192 Cleaned up old checkpoint: epoch012\n",
      "  \u2192 Saved to GDrive: checkpoint_epoch033.pth\n",
      "Best: 61.43% | Patience: 3/15\n",
      "\n"
     ]
    },
    {
     "output_type": "stream",
     "name": "stderr",
     "text": [
      "Epoch 34 Loss=2.2894 Acc=54.83% LR=0.009093: 100%|\u2588\u2588\u2588\u2588\u2588\u2588\u2588\u2588\u2588\u2588| 196/196 [01:48<00:00,  1.80it/s]\n"
     ]
    },
    {
     "output_type": "stream",
     "name": "stdout",
     "text": [
      "\n",
      "Test set: Average loss: 1.4619, Accuracy: 6229/10000 (62.29%)\n",
      "\n",
      "  \u2192 Saved to GDrive: best_model.pth\n",
      "\n",
      "*** NEW BEST MODEL! Test Accuracy: 62.29% ***\n"
     ]
    },
    {
     "output_type": "display_data",
     "data": {
      "text/plain": [
       "Processing Files (0 / 0)      : |          |  0.00B /  0.00B            "
      ],
      "application/vnd.jupyter.widget-view+json": {
       "version_major": 2,
       "version_minor": 0,
       "model_id": "7a084539cae54605b7e5b58c4599d94c"
      }
     },
     "metadata": {}
    },
    {
     "output_type": "display_data",
     "data": {
      "text/plain": [
       "New Data Upload               : |          |  0.00B /  0.00B            "
      ],
      "application/vnd.jupyter.widget-view+json": {
       "version_major": 2,
       "version_minor": 0,
       "model_id": "9617f062f0f148519ac114393907a957"
      }
     },
     "metadata": {}
    },
    {
     "output_type": "display_data",
     "data": {
      "text/plain": [
       "  ./checkpoints/best_model.pth:   0%|          |  553kB /  292MB            "
      ],
      "application/vnd.jupyter.widget-view+json": {
       "version_major": 2,
       "version_minor": 0,
       "model_id": "ec689b64e05a4ea78a92c258aec93a71"
      }
     },
     "metadata": {}
    },
    {
     "output_type": "stream",
     "name": "stdout",
     "text": [
      "  \u2192 Uploaded to HF: best_model.pth\n",
      "Best: 62.29% | Patience: 0/15\n",
      "\n"
     ]
    },
    {
     "output_type": "stream",
     "name": "stderr",
     "text": [
      "Epoch 35 Loss=1.8685 Acc=55.20% LR=0.010000: 100%|\u2588\u2588\u2588\u2588\u2588\u2588\u2588\u2588\u2588\u2588| 196/196 [01:49<00:00,  1.79it/s]\n"
     ]
    },
    {
     "output_type": "stream",
     "name": "stdout",
     "text": [
      "\n",
      "Test set: Average loss: 1.4966, Accuracy: 6239/10000 (62.39%)\n",
      "\n",
      "  \u2192 Saved to GDrive: best_model.pth\n",
      "\n",
      "*** NEW BEST MODEL! Test Accuracy: 62.39% ***\n"
     ]
    },
    {
     "output_type": "display_data",
     "data": {
      "text/plain": [
       "Processing Files (0 / 0)      : |          |  0.00B /  0.00B            "
      ],
      "application/vnd.jupyter.widget-view+json": {
       "version_major": 2,
       "version_minor": 0,
       "model_id": "d16acf89d314455a882c677873516834"
      }
     },
     "metadata": {}
    },
    {
     "output_type": "display_data",
     "data": {
      "text/plain": [
       "New Data Upload               : |          |  0.00B /  0.00B            "
      ],
      "application/vnd.jupyter.widget-view+json": {
       "version_major": 2,
       "version_minor": 0,
       "model_id": "727442b0a7bc4a038b6f0edabfe35a2a"
      }
     },
     "metadata": {}
    },
    {
     "output_type": "display_data",
     "data": {
      "text/plain": [
       "  ./checkpoints/best_model.pth:   0%|          |  553kB /  292MB            "
      ],
      "application/vnd.jupyter.widget-view+json": {
       "version_major": 2,
       "version_minor": 0,
       "model_id": "77236a98e391444aab475b85feac5813"
      }
     },
     "metadata": {}
    },
    {
     "output_type": "stream",
     "name": "stdout",
     "text": [
      "  \u2192 Uploaded to HF: best_model.pth\n",
      "Best: 62.39% | Patience: 0/15\n",
      "\n"
     ]
    },
    {
     "output_type": "stream",
     "name": "stderr",
     "text": [
      "Epoch 36 Loss=2.1303 Acc=56.75% LR=0.001407: 100%|\u2588\u2588\u2588\u2588\u2588\u2588\u2588\u2588\u2588\u2588| 196/196 [01:49<00:00,  1.79it/s]\n"
     ]
    },
    {
     "output_type": "stream",
     "name": "stdout",
     "text": [
      "\n",
      "Test set: Average loss: 1.4833, Accuracy: 6194/10000 (61.94%)\n",
      "\n",
      "  \u2192 Cleaned up old checkpoint: epoch023\n",
      "  \u2192 Saved to GDrive: checkpoint_epoch036.pth\n",
      "Best: 62.39% | Patience: 1/15\n",
      "\n"
     ]
    },
    {
     "output_type": "stream",
     "name": "stderr",
     "text": [
      "Epoch 37 Loss=2.2852 Acc=55.04% LR=0.003782: 100%|\u2588\u2588\u2588\u2588\u2588\u2588\u2588\u2588\u2588\u2588| 196/196 [01:49<00:00,  1.80it/s]\n"
     ]
    },
    {
     "output_type": "stream",
     "name": "stdout",
     "text": [
      "\n",
      "Test set: Average loss: 1.4976, Accuracy: 6224/10000 (62.24%)\n",
      "\n",
      "  \u2192 Cleaned up old checkpoint: epoch027\n",
      "  \u2192 Saved to GDrive: checkpoint_epoch037.pth\n",
      "Best: 62.39% | Patience: 2/15\n",
      "\n"
     ]
    },
    {
     "output_type": "stream",
     "name": "stderr",
     "text": [
      "Epoch 38 Loss=2.0487 Acc=56.85% LR=0.006718: 100%|\u2588\u2588\u2588\u2588\u2588\u2588\u2588\u2588\u2588\u2588| 196/196 [01:49<00:00,  1.80it/s]\n"
     ]
    },
    {
     "output_type": "stream",
     "name": "stdout",
     "text": [
      "\n",
      "Test set: Average loss: 1.4839, Accuracy: 6238/10000 (62.38%)\n",
      "\n",
      "  \u2192 Cleaned up old checkpoint: epoch031\n",
      "  \u2192 Saved to GDrive: checkpoint_epoch038.pth\n",
      "Best: 62.39% | Patience: 3/15\n",
      "\n"
     ]
    },
    {
     "output_type": "stream",
     "name": "stderr",
     "text": [
      "Epoch 39 Loss=1.8617 Acc=56.01% LR=0.009093: 100%|\u2588\u2588\u2588\u2588\u2588\u2588\u2588\u2588\u2588\u2588| 196/196 [01:48<00:00,  1.80it/s]\n"
     ]
    },
    {
     "output_type": "stream",
     "name": "stdout",
     "text": [
      "\n",
      "Test set: Average loss: 1.4696, Accuracy: 6335/10000 (63.35%)\n",
      "\n",
      "  \u2192 Saved to GDrive: best_model.pth\n",
      "\n",
      "*** NEW BEST MODEL! Test Accuracy: 63.35% ***\n"
     ]
    },
    {
     "output_type": "display_data",
     "data": {
      "text/plain": [
       "Processing Files (0 / 0)      : |          |  0.00B /  0.00B            "
      ],
      "application/vnd.jupyter.widget-view+json": {
       "version_major": 2,
       "version_minor": 0,
       "model_id": "0dd39916500a41369eac993fc20f38ff"
      }
     },
     "metadata": {}
    },
    {
     "output_type": "display_data",
     "data": {
      "text/plain": [
       "New Data Upload               : |          |  0.00B /  0.00B            "
      ],
      "application/vnd.jupyter.widget-view+json": {
       "version_major": 2,
       "version_minor": 0,
       "model_id": "977f5ec280c846e6bed2b83e8c8e9742"
      }
     },
     "metadata": {}
    },
    {
     "output_type": "display_data",
     "data": {
      "text/plain": [
       "  ./checkpoints/best_model.pth:   0%|          |  553kB /  292MB            "
      ],
      "application/vnd.jupyter.widget-view+json": {
       "version_major": 2,
       "version_minor": 0,
       "model_id": "ef5a13521b2f472eb9ad56345147eef0"
      }
     },
     "metadata": {}
    },
    {
     "output_type": "stream",
     "name": "stdout",
     "text": [
      "  \u2192 Uploaded to HF: best_model.pth\n",
      "Best: 63.35% | Patience: 0/15\n",
      "\n"
     ]
    },
    {
     "output_type": "stream",
     "name": "stderr",
     "text": [
      "Epoch 40 Loss=2.9274 Acc=56.24% LR=0.010000: 100%|\u2588\u2588\u2588\u2588\u2588\u2588\u2588\u2588\u2588\u2588| 196/196 [01:49<00:00,  1.79it/s]\n"
     ]
    },
    {
     "output_type": "stream",
     "name": "stdout",
     "text": [
      "\n",
      "Test set: Average loss: 1.4422, Accuracy: 6388/10000 (63.88%)\n",
      "\n",
      "  \u2192 Saved to GDrive: best_model.pth\n",
      "\n",
      "\ud83d\udce4 Uploading to HuggingFace (epoch 40)...\n"
     ]
    },
    {
     "output_type": "display_data",
     "data": {
      "text/plain": [
       "Processing Files (0 / 0)      : |          |  0.00B /  0.00B            "
      ],
      "application/vnd.jupyter.widget-view+json": {
       "version_major": 2,
       "version_minor": 0,
       "model_id": "d5c577301f5646b8b0e2b064cd99447c"
      }
     },
     "metadata": {}
    },
    {
     "output_type": "display_data",
     "data": {
      "text/plain": [
       "New Data Upload               : |          |  0.00B /  0.00B            "
      ],
      "application/vnd.jupyter.widget-view+json": {
       "version_major": 2,
       "version_minor": 0,
       "model_id": "5111c25ddae64b59ac0f095900893cad"
      }
     },
     "metadata": {}
    },
    {
     "output_type": "display_data",
     "data": {
      "text/plain": [
       "  ...ts/checkpoint_epoch40.pth:   0%|          |  553kB /  292MB            "
      ],
      "application/vnd.jupyter.widget-view+json": {
       "version_major": 2,
       "version_minor": 0,
       "model_id": "c124293ea8ec41efaa2a0c1b84a7e02f"
      }
     },
     "metadata": {}
    },
    {
     "output_type": "stream",
     "name": "stdout",
     "text": [
      "  \u2192 Uploaded to HF: checkpoint_epoch40.pth\n",
      "  \u2192 Uploaded to HF: metrics.json\n",
      "\n",
      "*** NEW BEST MODEL! Test Accuracy: 63.88% ***\n"
     ]
    },
    {
     "output_type": "display_data",
     "data": {
      "text/plain": [
       "Processing Files (0 / 0)      : |          |  0.00B /  0.00B            "
      ],
      "application/vnd.jupyter.widget-view+json": {
       "version_major": 2,
       "version_minor": 0,
       "model_id": "bcd339eb70264a7b9689f66977cd045a"
      }
     },
     "metadata": {}
    },
    {
     "output_type": "display_data",
     "data": {
      "text/plain": [
       "New Data Upload               : |          |  0.00B /  0.00B            "
      ],
      "application/vnd.jupyter.widget-view+json": {
       "version_major": 2,
       "version_minor": 0,
       "model_id": "912595a5647d4157a69072e04960bc92"
      }
     },
     "metadata": {}
    },
    {
     "output_type": "display_data",
     "data": {
      "text/plain": [
       "  ./checkpoints/best_model.pth:  14%|#3        | 40.2MB /  292MB            "
      ],
      "application/vnd.jupyter.widget-view+json": {
       "version_major": 2,
       "version_minor": 0,
       "model_id": "2b67f3b1f258465c9a4ffdaca2453831"
      }
     },
     "metadata": {}
    },
    {
     "output_type": "stream",
     "name": "stderr",
     "text": [
      "/tmp/ipython-input-902450455.py:18: UserWarning: Argument(s) 'max_holes, max_height, max_width, fill_value' are not valid for transform CoarseDropout\n",
      "  A.CoarseDropout(max_holes=1, max_height=6, max_width=6, p=0.35, fill_value=0),\n"
     ]
    },
    {
     "output_type": "stream",
     "name": "stdout",
     "text": [
      "  \u2192 Uploaded to HF: best_model.pth\n",
      "Best: 63.88% | Patience: 0/15\n",
      "\n",
      "\n",
      "======================================================================\n",
      "\ud83d\udccd AUGMENTATION PHASE TRANSITION AT EPOCH 41\n",
      "   FULL \u2192 REDUCED\n",
      "======================================================================\n",
      "\n",
      "\n",
      "======================================================================\n",
      "\ud83d\udccd MIXUP REDUCTION AT EPOCH 41: 0.2 \u2192 0.15\n",
      "======================================================================\n",
      "\n"
     ]
    },
    {
     "output_type": "stream",
     "name": "stderr",
     "text": [
      "Epoch 41 Loss=2.3628 Acc=60.87% LR=0.001407: 100%|\u2588\u2588\u2588\u2588\u2588\u2588\u2588\u2588\u2588\u2588| 196/196 [01:49<00:00,  1.80it/s]\n"
     ]
    },
    {
     "output_type": "stream",
     "name": "stdout",
     "text": [
      "\n",
      "Test set: Average loss: 1.3840, Accuracy: 6503/10000 (65.03%)\n",
      "\n",
      "  \u2192 Saved to GDrive: best_model.pth\n",
      "\n",
      "*** NEW BEST MODEL! Test Accuracy: 65.03% ***\n"
     ]
    },
    {
     "output_type": "display_data",
     "data": {
      "text/plain": [
       "Processing Files (0 / 0)      : |          |  0.00B /  0.00B            "
      ],
      "application/vnd.jupyter.widget-view+json": {
       "version_major": 2,
       "version_minor": 0,
       "model_id": "c47f17f7f8bc42d49492639286d162b5"
      }
     },
     "metadata": {}
    },
    {
     "output_type": "display_data",
     "data": {
      "text/plain": [
       "New Data Upload               : |          |  0.00B /  0.00B            "
      ],
      "application/vnd.jupyter.widget-view+json": {
       "version_major": 2,
       "version_minor": 0,
       "model_id": "14245e0f590a427b92eccd64ee0af464"
      }
     },
     "metadata": {}
    },
    {
     "output_type": "display_data",
     "data": {
      "text/plain": [
       "  ./checkpoints/best_model.pth:   0%|          |  552kB /  292MB            "
      ],
      "application/vnd.jupyter.widget-view+json": {
       "version_major": 2,
       "version_minor": 0,
       "model_id": "ce9a17b1619c41dca1dcb0050baebfbb"
      }
     },
     "metadata": {}
    },
    {
     "output_type": "stream",
     "name": "stdout",
     "text": [
      "  \u2192 Uploaded to HF: best_model.pth\n",
      "Best: 65.03% | Patience: 0/15\n",
      "\n"
     ]
    },
    {
     "output_type": "stream",
     "name": "stderr",
     "text": [
      "Epoch 42 Loss=3.2283 Acc=60.83% LR=0.003782: 100%|\u2588\u2588\u2588\u2588\u2588\u2588\u2588\u2588\u2588\u2588| 196/196 [01:49<00:00,  1.80it/s]\n"
     ]
    },
    {
     "output_type": "stream",
     "name": "stdout",
     "text": [
      "\n",
      "Test set: Average loss: 1.4368, Accuracy: 6412/10000 (64.12%)\n",
      "\n",
      "  \u2192 Cleaned up old checkpoint: epoch032\n",
      "  \u2192 Saved to GDrive: checkpoint_epoch042.pth\n",
      "Best: 65.03% | Patience: 1/15\n",
      "\n"
     ]
    },
    {
     "output_type": "stream",
     "name": "stderr",
     "text": [
      "Epoch 43 Loss=1.7144 Acc=63.50% LR=0.006718: 100%|\u2588\u2588\u2588\u2588\u2588\u2588\u2588\u2588\u2588\u2588| 196/196 [01:48<00:00,  1.81it/s]\n"
     ]
    },
    {
     "output_type": "stream",
     "name": "stdout",
     "text": [
      "\n",
      "Test set: Average loss: 1.4256, Accuracy: 6365/10000 (63.65%)\n",
      "\n",
      "  \u2192 Cleaned up old checkpoint: epoch033\n",
      "  \u2192 Saved to GDrive: checkpoint_epoch043.pth\n",
      "Best: 65.03% | Patience: 2/15\n",
      "\n"
     ]
    },
    {
     "output_type": "stream",
     "name": "stderr",
     "text": [
      "Epoch 44 Loss=1.7254 Acc=63.84% LR=0.009093: 100%|\u2588\u2588\u2588\u2588\u2588\u2588\u2588\u2588\u2588\u2588| 196/196 [01:48<00:00,  1.80it/s]\n"
     ]
    },
    {
     "output_type": "stream",
     "name": "stdout",
     "text": [
      "\n",
      "Test set: Average loss: 1.3689, Accuracy: 6527/10000 (65.27%)\n",
      "\n",
      "  \u2192 Saved to GDrive: best_model.pth\n",
      "\n",
      "*** NEW BEST MODEL! Test Accuracy: 65.27% ***\n"
     ]
    },
    {
     "output_type": "display_data",
     "data": {
      "text/plain": [
       "Processing Files (0 / 0)      : |          |  0.00B /  0.00B            "
      ],
      "application/vnd.jupyter.widget-view+json": {
       "version_major": 2,
       "version_minor": 0,
       "model_id": "53979e0ad23149aca4b089b158c91abf"
      }
     },
     "metadata": {}
    },
    {
     "output_type": "display_data",
     "data": {
      "text/plain": [
       "New Data Upload               : |          |  0.00B /  0.00B            "
      ],
      "application/vnd.jupyter.widget-view+json": {
       "version_major": 2,
       "version_minor": 0,
       "model_id": "6d9b970209424608bc460980fd0b08cb"
      }
     },
     "metadata": {}
    },
    {
     "output_type": "display_data",
     "data": {
      "text/plain": [
       "  ./checkpoints/best_model.pth:   0%|          |  553kB /  292MB            "
      ],
      "application/vnd.jupyter.widget-view+json": {
       "version_major": 2,
       "version_minor": 0,
       "model_id": "0a114e23208e4914b2efa2cfac8b3df4"
      }
     },
     "metadata": {}
    },
    {
     "output_type": "stream",
     "name": "stdout",
     "text": [
      "  \u2192 Uploaded to HF: best_model.pth\n",
      "Best: 65.27% | Patience: 0/15\n",
      "\n"
     ]
    },
    {
     "output_type": "stream",
     "name": "stderr",
     "text": [
      "Epoch 45 Loss=3.4251 Acc=64.42% LR=0.010000: 100%|\u2588\u2588\u2588\u2588\u2588\u2588\u2588\u2588\u2588\u2588| 196/196 [01:49<00:00,  1.79it/s]\n"
     ]
    },
    {
     "output_type": "stream",
     "name": "stdout",
     "text": [
      "\n",
      "Test set: Average loss: 1.3585, Accuracy: 6564/10000 (65.64%)\n",
      "\n",
      "  \u2192 Saved to GDrive: best_model.pth\n",
      "\n",
      "*** NEW BEST MODEL! Test Accuracy: 65.64% ***\n"
     ]
    },
    {
     "output_type": "display_data",
     "data": {
      "text/plain": [
       "Processing Files (0 / 0)      : |          |  0.00B /  0.00B            "
      ],
      "application/vnd.jupyter.widget-view+json": {
       "version_major": 2,
       "version_minor": 0,
       "model_id": "a00353e5f4cb409f952faf0a1c22cbd2"
      }
     },
     "metadata": {}
    },
    {
     "output_type": "display_data",
     "data": {
      "text/plain": [
       "New Data Upload               : |          |  0.00B /  0.00B            "
      ],
      "application/vnd.jupyter.widget-view+json": {
       "version_major": 2,
       "version_minor": 0,
       "model_id": "f2ac363fcf1841239ad54e4dae540953"
      }
     },
     "metadata": {}
    },
    {
     "output_type": "display_data",
     "data": {
      "text/plain": [
       "  ./checkpoints/best_model.pth:   0%|          |  553kB /  292MB            "
      ],
      "application/vnd.jupyter.widget-view+json": {
       "version_major": 2,
       "version_minor": 0,
       "model_id": "476ace4f7e474472ada295b19cea8684"
      }
     },
     "metadata": {}
    },
    {
     "output_type": "stream",
     "name": "stdout",
     "text": [
      "  \u2192 Uploaded to HF: best_model.pth\n",
      "Best: 65.64% | Patience: 0/15\n",
      "\n"
     ]
    },
    {
     "output_type": "stream",
     "name": "stderr",
     "text": [
      "Epoch 46 Loss=3.1453 Acc=63.94% LR=0.001407: 100%|\u2588\u2588\u2588\u2588\u2588\u2588\u2588\u2588\u2588\u2588| 196/196 [01:49<00:00,  1.79it/s]\n"
     ]
    },
    {
     "output_type": "stream",
     "name": "stdout",
     "text": [
      "\n",
      "Test set: Average loss: 1.4597, Accuracy: 6412/10000 (64.12%)\n",
      "\n",
      "  \u2192 Cleaned up old checkpoint: epoch036\n",
      "  \u2192 Saved to GDrive: checkpoint_epoch046.pth\n",
      "Best: 65.64% | Patience: 1/15\n",
      "\n"
     ]
    },
    {
     "output_type": "stream",
     "name": "stderr",
     "text": [
      "Epoch 47 Loss=1.6438 Acc=63.74% LR=0.003782: 100%|\u2588\u2588\u2588\u2588\u2588\u2588\u2588\u2588\u2588\u2588| 196/196 [01:48<00:00,  1.80it/s]\n"
     ]
    },
    {
     "output_type": "stream",
     "name": "stdout",
     "text": [
      "\n",
      "Test set: Average loss: 1.3962, Accuracy: 6478/10000 (64.78%)\n",
      "\n",
      "  \u2192 Cleaned up old checkpoint: epoch037\n",
      "  \u2192 Saved to GDrive: checkpoint_epoch047.pth\n",
      "Best: 65.64% | Patience: 2/15\n",
      "\n"
     ]
    },
    {
     "output_type": "stream",
     "name": "stderr",
     "text": [
      "Epoch 48 Loss=1.8110 Acc=62.61% LR=0.006718: 100%|\u2588\u2588\u2588\u2588\u2588\u2588\u2588\u2588\u2588\u2588| 196/196 [01:48<00:00,  1.80it/s]\n"
     ]
    },
    {
     "output_type": "stream",
     "name": "stdout",
     "text": [
      "\n",
      "Test set: Average loss: 1.4300, Accuracy: 6417/10000 (64.17%)\n",
      "\n",
      "  \u2192 Cleaned up old checkpoint: epoch038\n",
      "  \u2192 Saved to GDrive: checkpoint_epoch048.pth\n",
      "Best: 65.64% | Patience: 3/15\n",
      "\n"
     ]
    },
    {
     "output_type": "stream",
     "name": "stderr",
     "text": [
      "Epoch 49 Loss=1.8129 Acc=65.52% LR=0.009093: 100%|\u2588\u2588\u2588\u2588\u2588\u2588\u2588\u2588\u2588\u2588| 196/196 [01:48<00:00,  1.80it/s]\n"
     ]
    },
    {
     "output_type": "stream",
     "name": "stdout",
     "text": [
      "\n",
      "Test set: Average loss: 1.4079, Accuracy: 6566/10000 (65.66%)\n",
      "\n",
      "  \u2192 Saved to GDrive: best_model.pth\n",
      "\n",
      "*** NEW BEST MODEL! Test Accuracy: 65.66% ***\n"
     ]
    },
    {
     "output_type": "display_data",
     "data": {
      "text/plain": [
       "Processing Files (0 / 0)      : |          |  0.00B /  0.00B            "
      ],
      "application/vnd.jupyter.widget-view+json": {
       "version_major": 2,
       "version_minor": 0,
       "model_id": "07c230289f8c473e96a9f79fac7059a7"
      }
     },
     "metadata": {}
    },
    {
     "output_type": "display_data",
     "data": {
      "text/plain": [
       "New Data Upload               : |          |  0.00B /  0.00B            "
      ],
      "application/vnd.jupyter.widget-view+json": {
       "version_major": 2,
       "version_minor": 0,
       "model_id": "5233d1f0c3a6468c9d98b933b4b6cfd7"
      }
     },
     "metadata": {}
    },
    {
     "output_type": "display_data",
     "data": {
      "text/plain": [
       "  ./checkpoints/best_model.pth:   0%|          |  552kB /  292MB            "
      ],
      "application/vnd.jupyter.widget-view+json": {
       "version_major": 2,
       "version_minor": 0,
       "model_id": "c95f71dfb2394790b252d876cd14ad76"
      }
     },
     "metadata": {}
    },
    {
     "output_type": "stream",
     "name": "stdout",
     "text": [
      "  \u2192 Uploaded to HF: best_model.pth\n",
      "Best: 65.66% | Patience: 0/15\n",
      "\n"
     ]
    },
    {
     "output_type": "stream",
     "name": "stderr",
     "text": [
      "Epoch 50 Loss=1.8133 Acc=63.61% LR=0.010000: 100%|\u2588\u2588\u2588\u2588\u2588\u2588\u2588\u2588\u2588\u2588| 196/196 [01:49<00:00,  1.80it/s]\n"
     ]
    },
    {
     "output_type": "stream",
     "name": "stdout",
     "text": [
      "\n",
      "Test set: Average loss: 1.3823, Accuracy: 6627/10000 (66.27%)\n",
      "\n",
      "  \u2192 Saved to GDrive: best_model.pth\n",
      "\n",
      "\ud83d\udce4 Uploading to HuggingFace (epoch 50)...\n"
     ]
    },
    {
     "output_type": "display_data",
     "data": {
      "text/plain": [
       "Processing Files (0 / 0)      : |          |  0.00B /  0.00B            "
      ],
      "application/vnd.jupyter.widget-view+json": {
       "version_major": 2,
       "version_minor": 0,
       "model_id": "3ffe1b5d23da4882ae61e9b3e60216c4"
      }
     },
     "metadata": {}
    },
    {
     "output_type": "display_data",
     "data": {
      "text/plain": [
       "New Data Upload               : |          |  0.00B /  0.00B            "
      ],
      "application/vnd.jupyter.widget-view+json": {
       "version_major": 2,
       "version_minor": 0,
       "model_id": "71a848d5704240179a0b74e99f8d9fdb"
      }
     },
     "metadata": {}
    },
    {
     "output_type": "display_data",
     "data": {
      "text/plain": [
       "  ...ts/checkpoint_epoch50.pth:   0%|          |  553kB /  292MB            "
      ],
      "application/vnd.jupyter.widget-view+json": {
       "version_major": 2,
       "version_minor": 0,
       "model_id": "633bcfa579e34f0ca4cdae5ffe08b0c3"
      }
     },
     "metadata": {}
    },
    {
     "output_type": "stream",
     "name": "stdout",
     "text": [
      "  \u2192 Uploaded to HF: checkpoint_epoch50.pth\n",
      "  \u2192 Uploaded to HF: metrics.json\n",
      "\n",
      "*** NEW BEST MODEL! Test Accuracy: 66.27% ***\n"
     ]
    },
    {
     "output_type": "display_data",
     "data": {
      "text/plain": [
       "Processing Files (0 / 0)      : |          |  0.00B /  0.00B            "
      ],
      "application/vnd.jupyter.widget-view+json": {
       "version_major": 2,
       "version_minor": 0,
       "model_id": "bbe379abde6f4a23aca865695b478a1a"
      }
     },
     "metadata": {}
    },
    {
     "output_type": "display_data",
     "data": {
      "text/plain": [
       "New Data Upload               : |          |  0.00B /  0.00B            "
      ],
      "application/vnd.jupyter.widget-view+json": {
       "version_major": 2,
       "version_minor": 0,
       "model_id": "89adfb002254403e901e4e889d670561"
      }
     },
     "metadata": {}
    },
    {
     "output_type": "display_data",
     "data": {
      "text/plain": [
       "  ./checkpoints/best_model.pth:  11%|#1        | 32.4MB /  292MB            "
      ],
      "application/vnd.jupyter.widget-view+json": {
       "version_major": 2,
       "version_minor": 0,
       "model_id": "b20a876833454f08b454cb84bd60ced5"
      }
     },
     "metadata": {}
    },
    {
     "output_type": "stream",
     "name": "stdout",
     "text": [
      "  \u2192 Uploaded to HF: best_model.pth\n",
      "Best: 66.27% | Patience: 0/15\n",
      "\n",
      "\n",
      "======================================================================\n",
      "\ud83d\udccd DROPOUT REDUCTION AT EPOCH 51: 0.3 \u2192 0.2\n",
      "======================================================================\n",
      "\n",
      "\u2713 Updated dropout to 0.2 in 12 blocks\n",
      "   Label smoothing: 0.1 \u2192 0.05\n",
      "\n"
     ]
    },
    {
     "output_type": "stream",
     "name": "stderr",
     "text": [
      "Epoch 51 Loss=1.6200 Acc=65.26% LR=0.001407: 100%|\u2588\u2588\u2588\u2588\u2588\u2588\u2588\u2588\u2588\u2588| 196/196 [01:49<00:00,  1.79it/s]\n"
     ]
    },
    {
     "output_type": "stream",
     "name": "stdout",
     "text": [
      "\n",
      "Test set: Average loss: 1.3388, Accuracy: 6670/10000 (66.70%)\n",
      "\n",
      "  \u2192 Saved to GDrive: best_model.pth\n",
      "\n",
      "*** NEW BEST MODEL! Test Accuracy: 66.70% ***\n"
     ]
    },
    {
     "output_type": "display_data",
     "data": {
      "text/plain": [
       "Processing Files (0 / 0)      : |          |  0.00B /  0.00B            "
      ],
      "application/vnd.jupyter.widget-view+json": {
       "version_major": 2,
       "version_minor": 0,
       "model_id": "e6133b87f7d6478589beb3357f2983b7"
      }
     },
     "metadata": {}
    },
    {
     "output_type": "display_data",
     "data": {
      "text/plain": [
       "New Data Upload               : |          |  0.00B /  0.00B            "
      ],
      "application/vnd.jupyter.widget-view+json": {
       "version_major": 2,
       "version_minor": 0,
       "model_id": "ceefd7c0099949bcabe3d121aa307a56"
      }
     },
     "metadata": {}
    },
    {
     "output_type": "display_data",
     "data": {
      "text/plain": [
       "  ./checkpoints/best_model.pth:   0%|          |  553kB /  292MB            "
      ],
      "application/vnd.jupyter.widget-view+json": {
       "version_major": 2,
       "version_minor": 0,
       "model_id": "750f2190f51c4c3cae3accb1a4eabf4f"
      }
     },
     "metadata": {}
    },
    {
     "output_type": "stream",
     "name": "stdout",
     "text": [
      "  \u2192 Uploaded to HF: best_model.pth\n",
      "Best: 66.70% | Patience: 0/15\n",
      "\n"
     ]
    },
    {
     "output_type": "stream",
     "name": "stderr",
     "text": [
      "Epoch 52 Loss=1.3633 Acc=65.16% LR=0.003782: 100%|\u2588\u2588\u2588\u2588\u2588\u2588\u2588\u2588\u2588\u2588| 196/196 [01:49<00:00,  1.79it/s]\n"
     ]
    },
    {
     "output_type": "stream",
     "name": "stdout",
     "text": [
      "\n",
      "Test set: Average loss: 1.3083, Accuracy: 6729/10000 (67.29%)\n",
      "\n",
      "  \u2192 Saved to GDrive: best_model.pth\n",
      "\n",
      "*** NEW BEST MODEL! Test Accuracy: 67.29% ***\n"
     ]
    },
    {
     "output_type": "display_data",
     "data": {
      "text/plain": [
       "Processing Files (0 / 0)      : |          |  0.00B /  0.00B            "
      ],
      "application/vnd.jupyter.widget-view+json": {
       "version_major": 2,
       "version_minor": 0,
       "model_id": "844a6ad21a6246f1970c82ac82197dfc"
      }
     },
     "metadata": {}
    },
    {
     "output_type": "display_data",
     "data": {
      "text/plain": [
       "New Data Upload               : |          |  0.00B /  0.00B            "
      ],
      "application/vnd.jupyter.widget-view+json": {
       "version_major": 2,
       "version_minor": 0,
       "model_id": "b5ec1c824deb448182bd686898669886"
      }
     },
     "metadata": {}
    },
    {
     "output_type": "display_data",
     "data": {
      "text/plain": [
       "  ./checkpoints/best_model.pth:   0%|          |  553kB /  292MB            "
      ],
      "application/vnd.jupyter.widget-view+json": {
       "version_major": 2,
       "version_minor": 0,
       "model_id": "fe778aa8df0346489c610e75e7a572ae"
      }
     },
     "metadata": {}
    },
    {
     "output_type": "stream",
     "name": "stdout",
     "text": [
      "  \u2192 Uploaded to HF: best_model.pth\n",
      "Best: 67.29% | Patience: 0/15\n",
      "\n"
     ]
    },
    {
     "output_type": "stream",
     "name": "stderr",
     "text": [
      "Epoch 53 Loss=2.5917 Acc=68.51% LR=0.006718: 100%|\u2588\u2588\u2588\u2588\u2588\u2588\u2588\u2588\u2588\u2588| 196/196 [01:49<00:00,  1.79it/s]\n"
     ]
    },
    {
     "output_type": "stream",
     "name": "stdout",
     "text": [
      "\n",
      "Test set: Average loss: 1.3225, Accuracy: 6654/10000 (66.54%)\n",
      "\n",
      "  \u2192 Cleaned up old checkpoint: epoch042\n",
      "  \u2192 Saved to GDrive: checkpoint_epoch053.pth\n",
      "Best: 67.29% | Patience: 1/15\n",
      "\n"
     ]
    },
    {
     "output_type": "stream",
     "name": "stderr",
     "text": [
      "Epoch 54 Loss=1.6819 Acc=69.67% LR=0.009093: 100%|\u2588\u2588\u2588\u2588\u2588\u2588\u2588\u2588\u2588\u2588| 196/196 [01:49<00:00,  1.79it/s]\n"
     ]
    },
    {
     "output_type": "stream",
     "name": "stdout",
     "text": [
      "\n",
      "Test set: Average loss: 1.3285, Accuracy: 6689/10000 (66.89%)\n",
      "\n",
      "  \u2192 Cleaned up old checkpoint: epoch043\n",
      "  \u2192 Saved to GDrive: checkpoint_epoch054.pth\n",
      "Best: 67.29% | Patience: 2/15\n",
      "\n"
     ]
    },
    {
     "output_type": "stream",
     "name": "stderr",
     "text": [
      "Epoch 55 Loss=3.5007 Acc=69.12% LR=0.010000: 100%|\u2588\u2588\u2588\u2588\u2588\u2588\u2588\u2588\u2588\u2588| 196/196 [01:48<00:00,  1.80it/s]\n"
     ]
    },
    {
     "output_type": "stream",
     "name": "stdout",
     "text": [
      "\n",
      "Test set: Average loss: 1.2834, Accuracy: 6802/10000 (68.02%)\n",
      "\n",
      "  \u2192 Saved to GDrive: best_model.pth\n",
      "\n",
      "*** NEW BEST MODEL! Test Accuracy: 68.02% ***\n"
     ]
    },
    {
     "output_type": "display_data",
     "data": {
      "text/plain": [
       "Processing Files (0 / 0)      : |          |  0.00B /  0.00B            "
      ],
      "application/vnd.jupyter.widget-view+json": {
       "version_major": 2,
       "version_minor": 0,
       "model_id": "e94c2bbf817e4ff99a0a9e4eaf4f41fd"
      }
     },
     "metadata": {}
    },
    {
     "output_type": "display_data",
     "data": {
      "text/plain": [
       "New Data Upload               : |          |  0.00B /  0.00B            "
      ],
      "application/vnd.jupyter.widget-view+json": {
       "version_major": 2,
       "version_minor": 0,
       "model_id": "eb2de6e886cb46388f8b2385a4f720a0"
      }
     },
     "metadata": {}
    },
    {
     "output_type": "display_data",
     "data": {
      "text/plain": [
       "  ./checkpoints/best_model.pth:   0%|          |  553kB /  292MB            "
      ],
      "application/vnd.jupyter.widget-view+json": {
       "version_major": 2,
       "version_minor": 0,
       "model_id": "32406210c15f43e5b3c302ab55461b01"
      }
     },
     "metadata": {}
    },
    {
     "output_type": "stream",
     "name": "stdout",
     "text": [
      "  \u2192 Uploaded to HF: best_model.pth\n",
      "Best: 68.02% | Patience: 0/15\n",
      "\n"
     ]
    },
    {
     "output_type": "stream",
     "name": "stderr",
     "text": [
      "Epoch 56 Loss=1.3242 Acc=70.29% LR=0.001407: 100%|\u2588\u2588\u2588\u2588\u2588\u2588\u2588\u2588\u2588\u2588| 196/196 [01:49<00:00,  1.79it/s]\n"
     ]
    },
    {
     "output_type": "stream",
     "name": "stdout",
     "text": [
      "\n",
      "Test set: Average loss: 1.3120, Accuracy: 6784/10000 (67.84%)\n",
      "\n",
      "  \u2192 Cleaned up old checkpoint: epoch046\n",
      "  \u2192 Saved to GDrive: checkpoint_epoch056.pth\n",
      "Best: 68.02% | Patience: 1/15\n",
      "\n"
     ]
    },
    {
     "output_type": "stream",
     "name": "stderr",
     "text": [
      "Epoch 57 Loss=2.6641 Acc=70.41% LR=0.003782: 100%|\u2588\u2588\u2588\u2588\u2588\u2588\u2588\u2588\u2588\u2588| 196/196 [01:49<00:00,  1.79it/s]\n"
     ]
    },
    {
     "output_type": "stream",
     "name": "stdout",
     "text": [
      "\n",
      "Test set: Average loss: 1.3380, Accuracy: 6678/10000 (66.78%)\n",
      "\n",
      "  \u2192 Cleaned up old checkpoint: epoch047\n",
      "  \u2192 Saved to GDrive: checkpoint_epoch057.pth\n",
      "Best: 68.02% | Patience: 2/15\n",
      "\n"
     ]
    },
    {
     "output_type": "stream",
     "name": "stderr",
     "text": [
      "Epoch 58 Loss=1.4558 Acc=71.79% LR=0.006718: 100%|\u2588\u2588\u2588\u2588\u2588\u2588\u2588\u2588\u2588\u2588| 196/196 [01:49<00:00,  1.80it/s]\n"
     ]
    },
    {
     "output_type": "stream",
     "name": "stdout",
     "text": [
      "\n",
      "Test set: Average loss: 1.3160, Accuracy: 6695/10000 (66.95%)\n",
      "\n",
      "  \u2192 Cleaned up old checkpoint: epoch048\n",
      "  \u2192 Saved to GDrive: checkpoint_epoch058.pth\n",
      "Best: 68.02% | Patience: 3/15\n",
      "\n"
     ]
    },
    {
     "output_type": "stream",
     "name": "stderr",
     "text": [
      "Epoch 59 Loss=1.4178 Acc=71.39% LR=0.009093: 100%|\u2588\u2588\u2588\u2588\u2588\u2588\u2588\u2588\u2588\u2588| 196/196 [01:49<00:00,  1.79it/s]\n"
     ]
    },
    {
     "output_type": "stream",
     "name": "stdout",
     "text": [
      "\n",
      "Test set: Average loss: 1.2736, Accuracy: 6854/10000 (68.54%)\n",
      "\n",
      "  \u2192 Saved to GDrive: best_model.pth\n",
      "\n",
      "*** NEW BEST MODEL! Test Accuracy: 68.54% ***\n"
     ]
    },
    {
     "output_type": "display_data",
     "data": {
      "text/plain": [
       "Processing Files (0 / 0)      : |          |  0.00B /  0.00B            "
      ],
      "application/vnd.jupyter.widget-view+json": {
       "version_major": 2,
       "version_minor": 0,
       "model_id": "513a80b454e64d768d1f17a826bb5dde"
      }
     },
     "metadata": {}
    },
    {
     "output_type": "display_data",
     "data": {
      "text/plain": [
       "New Data Upload               : |          |  0.00B /  0.00B            "
      ],
      "application/vnd.jupyter.widget-view+json": {
       "version_major": 2,
       "version_minor": 0,
       "model_id": "c5c3f68eebaf4929848a160017979189"
      }
     },
     "metadata": {}
    },
    {
     "output_type": "display_data",
     "data": {
      "text/plain": [
       "  ./checkpoints/best_model.pth:   0%|          |  554kB /  292MB            "
      ],
      "application/vnd.jupyter.widget-view+json": {
       "version_major": 2,
       "version_minor": 0,
       "model_id": "46d327669ddd45a2ad9b347250ad6fca"
      }
     },
     "metadata": {}
    },
    {
     "output_type": "stream",
     "name": "stdout",
     "text": [
      "  \u2192 Uploaded to HF: best_model.pth\n",
      "Best: 68.54% | Patience: 0/15\n",
      "\n"
     ]
    },
    {
     "output_type": "stream",
     "name": "stderr",
     "text": [
      "Epoch 60 Loss=1.2785 Acc=71.19% LR=0.010000: 100%|\u2588\u2588\u2588\u2588\u2588\u2588\u2588\u2588\u2588\u2588| 196/196 [01:49<00:00,  1.79it/s]\n"
     ]
    },
    {
     "output_type": "stream",
     "name": "stdout",
     "text": [
      "\n",
      "Test set: Average loss: 1.2414, Accuracy: 6931/10000 (69.31%)\n",
      "\n",
      "  \u2192 Saved to GDrive: best_model.pth\n",
      "\n",
      "\ud83d\udce4 Uploading to HuggingFace (epoch 60)...\n"
     ]
    },
    {
     "output_type": "display_data",
     "data": {
      "text/plain": [
       "Processing Files (0 / 0)      : |          |  0.00B /  0.00B            "
      ],
      "application/vnd.jupyter.widget-view+json": {
       "version_major": 2,
       "version_minor": 0,
       "model_id": "002f60b82fab4c51af3aee3a01570b8e"
      }
     },
     "metadata": {}
    },
    {
     "output_type": "display_data",
     "data": {
      "text/plain": [
       "New Data Upload               : |          |  0.00B /  0.00B            "
      ],
      "application/vnd.jupyter.widget-view+json": {
       "version_major": 2,
       "version_minor": 0,
       "model_id": "86c47be14045442f9f08fb59b3527e11"
      }
     },
     "metadata": {}
    },
    {
     "output_type": "display_data",
     "data": {
      "text/plain": [
       "  ...ts/checkpoint_epoch60.pth:   0%|          |  554kB /  292MB            "
      ],
      "application/vnd.jupyter.widget-view+json": {
       "version_major": 2,
       "version_minor": 0,
       "model_id": "ddc8bebc4db64cbfbdaf6dd50b2b8cfa"
      }
     },
     "metadata": {}
    },
    {
     "output_type": "stream",
     "name": "stdout",
     "text": [
      "  \u2192 Uploaded to HF: checkpoint_epoch60.pth\n",
      "  \u2192 Uploaded to HF: metrics.json\n",
      "\n",
      "*** NEW BEST MODEL! Test Accuracy: 69.31% ***\n"
     ]
    },
    {
     "output_type": "display_data",
     "data": {
      "text/plain": [
       "Processing Files (0 / 0)      : |          |  0.00B /  0.00B            "
      ],
      "application/vnd.jupyter.widget-view+json": {
       "version_major": 2,
       "version_minor": 0,
       "model_id": "8b518fdcb7904345b6df9f21db585cb1"
      }
     },
     "metadata": {}
    },
    {
     "output_type": "display_data",
     "data": {
      "text/plain": [
       "New Data Upload               : |          |  0.00B /  0.00B            "
      ],
      "application/vnd.jupyter.widget-view+json": {
       "version_major": 2,
       "version_minor": 0,
       "model_id": "75ff6160507340978503f6258245e508"
      }
     },
     "metadata": {}
    },
    {
     "output_type": "display_data",
     "data": {
      "text/plain": [
       "  ./checkpoints/best_model.pth:  14%|#3        | 39.9MB /  292MB            "
      ],
      "application/vnd.jupyter.widget-view+json": {
       "version_major": 2,
       "version_minor": 0,
       "model_id": "d040ff8db5ae424aa06d31840991b551"
      }
     },
     "metadata": {}
    },
    {
     "output_type": "stream",
     "name": "stdout",
     "text": [
      "  \u2192 Uploaded to HF: best_model.pth\n",
      "Best: 69.31% | Patience: 0/15\n",
      "\n",
      "\n",
      "======================================================================\n",
      "\ud83d\udccd LR SCHEDULER TRANSITION AT EPOCH 61\n",
      "   CosineAnnealingWarmRestarts \u2192 CosineAnnealingLR\n",
      "======================================================================\n",
      "\n"
     ]
    },
    {
     "output_type": "stream",
     "name": "stderr",
     "text": [
      "Epoch 61 Loss=2.1510 Acc=73.71% LR=0.000254: 100%|\u2588\u2588\u2588\u2588\u2588\u2588\u2588\u2588\u2588\u2588| 196/196 [01:49<00:00,  1.79it/s]\n"
     ]
    },
    {
     "output_type": "stream",
     "name": "stdout",
     "text": [
      "\n",
      "Test set: Average loss: 1.2310, Accuracy: 6939/10000 (69.39%)\n",
      "\n",
      "  \u2192 Saved to GDrive: best_model.pth\n",
      "\n",
      "*** NEW BEST MODEL! Test Accuracy: 69.39% ***\n"
     ]
    },
    {
     "output_type": "display_data",
     "data": {
      "text/plain": [
       "Processing Files (0 / 0)      : |          |  0.00B /  0.00B            "
      ],
      "application/vnd.jupyter.widget-view+json": {
       "version_major": 2,
       "version_minor": 0,
       "model_id": "b49fcb9bb1be4a039a4b7dbb438afacd"
      }
     },
     "metadata": {}
    },
    {
     "output_type": "display_data",
     "data": {
      "text/plain": [
       "New Data Upload               : |          |  0.00B /  0.00B            "
      ],
      "application/vnd.jupyter.widget-view+json": {
       "version_major": 2,
       "version_minor": 0,
       "model_id": "669e64edc5594607bdfdb82f7df77c95"
      }
     },
     "metadata": {}
    },
    {
     "output_type": "display_data",
     "data": {
      "text/plain": [
       "  ./checkpoints/best_model.pth:   0%|          |  554kB /  292MB            "
      ],
      "application/vnd.jupyter.widget-view+json": {
       "version_major": 2,
       "version_minor": 0,
       "model_id": "b3700a8910754084b9d63d04042207e2"
      }
     },
     "metadata": {}
    },
    {
     "output_type": "stream",
     "name": "stdout",
     "text": [
      "  \u2192 Uploaded to HF: best_model.pth\n",
      "Best: 69.39% | Patience: 0/15\n",
      "\n"
     ]
    },
    {
     "output_type": "stream",
     "name": "stderr",
     "text": [
      "Epoch 62 Loss=1.5712 Acc=71.76% LR=0.009046: 100%|\u2588\u2588\u2588\u2588\u2588\u2588\u2588\u2588\u2588\u2588| 196/196 [01:49<00:00,  1.79it/s]\n"
     ]
    },
    {
     "output_type": "stream",
     "name": "stdout",
     "text": [
      "\n",
      "Test set: Average loss: 1.2740, Accuracy: 6837/10000 (68.37%)\n",
      "\n",
      "  \u2192 Cleaned up old checkpoint: epoch053\n",
      "  \u2192 Saved to GDrive: checkpoint_epoch062.pth\n",
      "Best: 69.39% | Patience: 1/15\n",
      "\n"
     ]
    },
    {
     "output_type": "stream",
     "name": "stderr",
     "text": [
      "Epoch 63 Loss=1.3799 Acc=72.13% LR=0.002069: 100%|\u2588\u2588\u2588\u2588\u2588\u2588\u2588\u2588\u2588\u2588| 196/196 [01:49<00:00,  1.79it/s]\n"
     ]
    },
    {
     "output_type": "stream",
     "name": "stdout",
     "text": [
      "\n",
      "Test set: Average loss: 1.2460, Accuracy: 6882/10000 (68.82%)\n",
      "\n",
      "  \u2192 Cleaned up old checkpoint: epoch054\n",
      "  \u2192 Saved to GDrive: checkpoint_epoch063.pth\n",
      "Best: 69.39% | Patience: 2/15\n",
      "\n"
     ]
    },
    {
     "output_type": "stream",
     "name": "stderr",
     "text": [
      "Epoch 64 Loss=2.6982 Acc=72.12% LR=0.006549: 100%|\u2588\u2588\u2588\u2588\u2588\u2588\u2588\u2588\u2588\u2588| 196/196 [01:48<00:00,  1.80it/s]\n"
     ]
    },
    {
     "output_type": "stream",
     "name": "stdout",
     "text": [
      "\n",
      "Test set: Average loss: 1.2494, Accuracy: 6913/10000 (69.13%)\n",
      "\n",
      "  \u2192 Cleaned up old checkpoint: epoch056\n",
      "  \u2192 Saved to GDrive: checkpoint_epoch064.pth\n",
      "Best: 69.39% | Patience: 3/15\n",
      "\n"
     ]
    },
    {
     "output_type": "stream",
     "name": "stderr",
     "text": [
      "Epoch 65 Loss=1.3134 Acc=74.94% LR=0.005005: 100%|\u2588\u2588\u2588\u2588\u2588\u2588\u2588\u2588\u2588\u2588| 196/196 [01:49<00:00,  1.80it/s]\n"
     ]
    },
    {
     "output_type": "stream",
     "name": "stdout",
     "text": [
      "\n",
      "Test set: Average loss: 1.2443, Accuracy: 6873/10000 (68.73%)\n",
      "\n",
      "  \u2192 Cleaned up old checkpoint: epoch057\n",
      "  \u2192 Saved to GDrive: checkpoint_epoch065.pth\n",
      "Best: 69.39% | Patience: 4/15\n",
      "\n"
     ]
    },
    {
     "output_type": "stream",
     "name": "stderr",
     "text": [
      "Epoch 66 Loss=1.1955 Acc=74.92% LR=0.003461: 100%|\u2588\u2588\u2588\u2588\u2588\u2588\u2588\u2588\u2588\u2588| 196/196 [01:48<00:00,  1.80it/s]\n"
     ]
    },
    {
     "output_type": "stream",
     "name": "stdout",
     "text": [
      "\n",
      "Test set: Average loss: 1.1919, Accuracy: 7037/10000 (70.37%)\n",
      "\n",
      "  \u2192 Saved to GDrive: best_model.pth\n",
      "\n",
      "*** NEW BEST MODEL! Test Accuracy: 70.37% ***\n"
     ]
    },
    {
     "output_type": "display_data",
     "data": {
      "text/plain": [
       "Processing Files (0 / 0)      : |          |  0.00B /  0.00B            "
      ],
      "application/vnd.jupyter.widget-view+json": {
       "version_major": 2,
       "version_minor": 0,
       "model_id": "62571dd17f2e4a4e883006444b0b43d7"
      }
     },
     "metadata": {}
    },
    {
     "output_type": "display_data",
     "data": {
      "text/plain": [
       "New Data Upload               : |          |  0.00B /  0.00B            "
      ],
      "application/vnd.jupyter.widget-view+json": {
       "version_major": 2,
       "version_minor": 0,
       "model_id": "a3b566a547f14b98854f40ea87931c0d"
      }
     },
     "metadata": {}
    },
    {
     "output_type": "display_data",
     "data": {
      "text/plain": [
       "  ./checkpoints/best_model.pth:   0%|          |  554kB /  292MB            "
      ],
      "application/vnd.jupyter.widget-view+json": {
       "version_major": 2,
       "version_minor": 0,
       "model_id": "2f93e428698e42469134de4c599f4be1"
      }
     },
     "metadata": {}
    },
    {
     "output_type": "stream",
     "name": "stdout",
     "text": [
      "  \u2192 Uploaded to HF: best_model.pth\n",
      "Best: 70.37% | Patience: 0/15\n",
      "\n"
     ]
    },
    {
     "output_type": "stream",
     "name": "stderr",
     "text": [
      "Epoch 67 Loss=1.2678 Acc=71.53% LR=0.007941: 100%|\u2588\u2588\u2588\u2588\u2588\u2588\u2588\u2588\u2588\u2588| 196/196 [01:49<00:00,  1.79it/s]\n"
     ]
    },
    {
     "output_type": "stream",
     "name": "stdout",
     "text": [
      "\n",
      "Test set: Average loss: 1.3204, Accuracy: 6815/10000 (68.15%)\n",
      "\n",
      "  \u2192 Cleaned up old checkpoint: epoch058\n",
      "  \u2192 Saved to GDrive: checkpoint_epoch067.pth\n",
      "Best: 70.37% | Patience: 1/15\n",
      "\n"
     ]
    },
    {
     "output_type": "stream",
     "name": "stderr",
     "text": [
      "Epoch 68 Loss=1.1997 Acc=75.51% LR=0.000964: 100%|\u2588\u2588\u2588\u2588\u2588\u2588\u2588\u2588\u2588\u2588| 196/196 [01:49<00:00,  1.80it/s]\n"
     ]
    },
    {
     "output_type": "stream",
     "name": "stdout",
     "text": [
      "\n",
      "Test set: Average loss: 1.2058, Accuracy: 7010/10000 (70.10%)\n",
      "\n",
      "  \u2192 Cleaned up old checkpoint: epoch062\n",
      "  \u2192 Saved to GDrive: checkpoint_epoch068.pth\n",
      "Best: 70.37% | Patience: 2/15\n",
      "\n"
     ]
    },
    {
     "output_type": "stream",
     "name": "stderr",
     "text": [
      "Epoch 69 Loss=1.1831 Acc=73.23% LR=0.009756: 100%|\u2588\u2588\u2588\u2588\u2588\u2588\u2588\u2588\u2588\u2588| 196/196 [01:48<00:00,  1.80it/s]\n"
     ]
    },
    {
     "output_type": "stream",
     "name": "stdout",
     "text": [
      "\n",
      "Test set: Average loss: 1.2676, Accuracy: 6907/10000 (69.07%)\n",
      "\n",
      "  \u2192 Cleaned up old checkpoint: epoch063\n",
      "  \u2192 Saved to GDrive: checkpoint_epoch069.pth\n",
      "Best: 70.37% | Patience: 3/15\n",
      "\n"
     ]
    },
    {
     "output_type": "stream",
     "name": "stderr",
     "text": [
      "Epoch 70 Loss=1.8388 Acc=72.74% LR=0.000010: 100%|\u2588\u2588\u2588\u2588\u2588\u2588\u2588\u2588\u2588\u2588| 196/196 [01:48<00:00,  1.80it/s]\n"
     ]
    },
    {
     "output_type": "stream",
     "name": "stdout",
     "text": [
      "\n",
      "Test set: Average loss: 1.2391, Accuracy: 7000/10000 (70.00%)\n",
      "\n",
      "  \u2192 Cleaned up old checkpoint: epoch064\n",
      "  \u2192 Saved to GDrive: checkpoint_epoch070.pth\n",
      "\n",
      "\ud83d\udce4 Uploading to HuggingFace (epoch 70)...\n"
     ]
    },
    {
     "output_type": "display_data",
     "data": {
      "text/plain": [
       "Processing Files (0 / 0)      : |          |  0.00B /  0.00B            "
      ],
      "application/vnd.jupyter.widget-view+json": {
       "version_major": 2,
       "version_minor": 0,
       "model_id": "b6716a1dfa0e41108444330a5c78eabe"
      }
     },
     "metadata": {}
    },
    {
     "output_type": "display_data",
     "data": {
      "text/plain": [
       "New Data Upload               : |          |  0.00B /  0.00B            "
      ],
      "application/vnd.jupyter.widget-view+json": {
       "version_major": 2,
       "version_minor": 0,
       "model_id": "57b86755dfa6495bb3057e6399fc8bc8"
      }
     },
     "metadata": {}
    },
    {
     "output_type": "display_data",
     "data": {
      "text/plain": [
       "  ...ts/checkpoint_epoch70.pth:   0%|          |  555kB /  292MB            "
      ],
      "application/vnd.jupyter.widget-view+json": {
       "version_major": 2,
       "version_minor": 0,
       "model_id": "db5b1943ebfa49b094721cdc60990e88"
      }
     },
     "metadata": {}
    },
    {
     "output_type": "stream",
     "name": "stdout",
     "text": [
      "  \u2192 Uploaded to HF: checkpoint_epoch70.pth\n"
     ]
    },
    {
     "output_type": "stream",
     "name": "stderr",
     "text": [
      "/tmp/ipython-input-902450455.py:26: UserWarning: Argument(s) 'max_holes, max_height, max_width, fill_value' are not valid for transform CoarseDropout\n",
      "  A.CoarseDropout(max_holes=1, max_height=4, max_width=4, p=0.3, fill_value=0),\n"
     ]
    },
    {
     "output_type": "stream",
     "name": "stdout",
     "text": [
      "  \u2192 Uploaded to HF: metrics.json\n",
      "Best: 70.37% | Patience: 4/15\n",
      "\n",
      "\n",
      "======================================================================\n",
      "\ud83d\udccd AUGMENTATION PHASE TRANSITION AT EPOCH 71\n",
      "   REDUCED \u2192 MINIMAL\n",
      "======================================================================\n",
      "\n",
      "\n",
      "======================================================================\n",
      "\ud83d\udccd MIXUP DISABLED AT EPOCH 71\n",
      "======================================================================\n",
      "\n"
     ]
    },
    {
     "output_type": "stream",
     "name": "stderr",
     "text": [
      "Epoch 71 Loss=1.0807 Acc=87.22% LR=0.009756: 100%|\u2588\u2588\u2588\u2588\u2588\u2588\u2588\u2588\u2588\u2588| 196/196 [01:49<00:00,  1.80it/s]\n"
     ]
    },
    {
     "output_type": "stream",
     "name": "stdout",
     "text": [
      "\n",
      "Test set: Average loss: 1.2619, Accuracy: 6903/10000 (69.03%)\n",
      "\n",
      "  \u2192 Cleaned up old checkpoint: epoch065\n",
      "  \u2192 Saved to GDrive: checkpoint_epoch071.pth\n",
      "Best: 70.37% | Patience: 5/15\n",
      "\n"
     ]
    },
    {
     "output_type": "stream",
     "name": "stderr",
     "text": [
      "Epoch 72 Loss=1.0504 Acc=87.73% LR=0.000964: 100%|\u2588\u2588\u2588\u2588\u2588\u2588\u2588\u2588\u2588\u2588| 196/196 [01:48<00:00,  1.80it/s]\n"
     ]
    },
    {
     "output_type": "stream",
     "name": "stdout",
     "text": [
      "\n",
      "Test set: Average loss: 1.1640, Accuracy: 7072/10000 (70.72%)\n",
      "\n",
      "  \u2192 Saved to GDrive: best_model.pth\n",
      "\n",
      "*** NEW BEST MODEL! Test Accuracy: 70.72% ***\n"
     ]
    },
    {
     "output_type": "display_data",
     "data": {
      "text/plain": [
       "Processing Files (0 / 0)      : |          |  0.00B /  0.00B            "
      ],
      "application/vnd.jupyter.widget-view+json": {
       "version_major": 2,
       "version_minor": 0,
       "model_id": "775acbbb34314a23ace7429ee52a4617"
      }
     },
     "metadata": {}
    },
    {
     "output_type": "display_data",
     "data": {
      "text/plain": [
       "New Data Upload               : |          |  0.00B /  0.00B            "
      ],
      "application/vnd.jupyter.widget-view+json": {
       "version_major": 2,
       "version_minor": 0,
       "model_id": "a7e42a438757480a8656f4d9515e27f2"
      }
     },
     "metadata": {}
    },
    {
     "output_type": "display_data",
     "data": {
      "text/plain": [
       "  ./checkpoints/best_model.pth:   0%|          |  555kB /  292MB            "
      ],
      "application/vnd.jupyter.widget-view+json": {
       "version_major": 2,
       "version_minor": 0,
       "model_id": "f5b1934575e643a8a98a1cbf0af1db79"
      }
     },
     "metadata": {}
    },
    {
     "output_type": "stream",
     "name": "stdout",
     "text": [
      "  \u2192 Uploaded to HF: best_model.pth\n",
      "Best: 70.72% | Patience: 0/15\n",
      "\n"
     ]
    },
    {
     "output_type": "stream",
     "name": "stderr",
     "text": [
      "Epoch 73 Loss=0.9737 Acc=88.43% LR=0.007941: 100%|\u2588\u2588\u2588\u2588\u2588\u2588\u2588\u2588\u2588\u2588| 196/196 [01:49<00:00,  1.79it/s]\n"
     ]
    },
    {
     "output_type": "stream",
     "name": "stdout",
     "text": [
      "\n",
      "Test set: Average loss: 1.1645, Accuracy: 7135/10000 (71.35%)\n",
      "\n",
      "  \u2192 Saved to GDrive: best_model.pth\n",
      "\n",
      "*** NEW BEST MODEL! Test Accuracy: 71.35% ***\n"
     ]
    },
    {
     "output_type": "display_data",
     "data": {
      "text/plain": [
       "Processing Files (0 / 0)      : |          |  0.00B /  0.00B            "
      ],
      "application/vnd.jupyter.widget-view+json": {
       "version_major": 2,
       "version_minor": 0,
       "model_id": "543b8dc295934a56961c75b3a9a8f0cc"
      }
     },
     "metadata": {}
    },
    {
     "output_type": "display_data",
     "data": {
      "text/plain": [
       "New Data Upload               : |          |  0.00B /  0.00B            "
      ],
      "application/vnd.jupyter.widget-view+json": {
       "version_major": 2,
       "version_minor": 0,
       "model_id": "62f32356376d4b8181b20dce32e7c1af"
      }
     },
     "metadata": {}
    },
    {
     "output_type": "display_data",
     "data": {
      "text/plain": [
       "  ./checkpoints/best_model.pth:   0%|          |  555kB /  292MB            "
      ],
      "application/vnd.jupyter.widget-view+json": {
       "version_major": 2,
       "version_minor": 0,
       "model_id": "4dee9b85cb66446c871447199903aec5"
      }
     },
     "metadata": {}
    },
    {
     "output_type": "stream",
     "name": "stdout",
     "text": [
      "  \u2192 Uploaded to HF: best_model.pth\n",
      "Best: 71.35% | Patience: 0/15\n",
      "\n"
     ]
    },
    {
     "output_type": "stream",
     "name": "stderr",
     "text": [
      "Epoch 74 Loss=1.0040 Acc=88.87% LR=0.003461: 100%|\u2588\u2588\u2588\u2588\u2588\u2588\u2588\u2588\u2588\u2588| 196/196 [01:48<00:00,  1.81it/s]\n"
     ]
    },
    {
     "output_type": "stream",
     "name": "stdout",
     "text": [
      "\n",
      "Test set: Average loss: 1.1762, Accuracy: 7044/10000 (70.44%)\n",
      "\n",
      "  \u2192 Cleaned up old checkpoint: epoch067\n",
      "  \u2192 Saved to GDrive: checkpoint_epoch074.pth\n",
      "Best: 71.35% | Patience: 1/15\n",
      "\n"
     ]
    },
    {
     "output_type": "stream",
     "name": "stderr",
     "text": [
      "Epoch 75 Loss=1.0431 Acc=89.70% LR=0.005005: 100%|\u2588\u2588\u2588\u2588\u2588\u2588\u2588\u2588\u2588\u2588| 196/196 [01:48<00:00,  1.80it/s]\n"
     ]
    },
    {
     "output_type": "stream",
     "name": "stdout",
     "text": [
      "\n",
      "Test set: Average loss: 1.1407, Accuracy: 7174/10000 (71.74%)\n",
      "\n",
      "  \u2192 Saved to GDrive: best_model.pth\n",
      "\n",
      "*** NEW BEST MODEL! Test Accuracy: 71.74% ***\n"
     ]
    },
    {
     "output_type": "display_data",
     "data": {
      "text/plain": [
       "Processing Files (0 / 0)      : |          |  0.00B /  0.00B            "
      ],
      "application/vnd.jupyter.widget-view+json": {
       "version_major": 2,
       "version_minor": 0,
       "model_id": "fb75fe3d0aef4f43830f297bbd08d790"
      }
     },
     "metadata": {}
    },
    {
     "output_type": "display_data",
     "data": {
      "text/plain": [
       "New Data Upload               : |          |  0.00B /  0.00B            "
      ],
      "application/vnd.jupyter.widget-view+json": {
       "version_major": 2,
       "version_minor": 0,
       "model_id": "d2add2d6e6ca4d60894f44f1f1858d21"
      }
     },
     "metadata": {}
    },
    {
     "output_type": "display_data",
     "data": {
      "text/plain": [
       "  ./checkpoints/best_model.pth:   0%|          |  555kB /  292MB            "
      ],
      "application/vnd.jupyter.widget-view+json": {
       "version_major": 2,
       "version_minor": 0,
       "model_id": "c65ef56c98cd4f54a11af08acdb4f4ee"
      }
     },
     "metadata": {}
    },
    {
     "output_type": "stream",
     "name": "stdout",
     "text": [
      "  \u2192 Uploaded to HF: best_model.pth\n",
      "Best: 71.74% | Patience: 0/15\n",
      "\n"
     ]
    },
    {
     "output_type": "stream",
     "name": "stderr",
     "text": [
      "Epoch 76 Loss=0.9137 Acc=90.06% LR=0.006549: 100%|\u2588\u2588\u2588\u2588\u2588\u2588\u2588\u2588\u2588\u2588| 196/196 [01:49<00:00,  1.79it/s]\n"
     ]
    },
    {
     "output_type": "stream",
     "name": "stdout",
     "text": [
      "\n",
      "Test set: Average loss: 1.2193, Accuracy: 6976/10000 (69.76%)\n",
      "\n",
      "  \u2192 Cleaned up old checkpoint: epoch068\n",
      "  \u2192 Saved to GDrive: checkpoint_epoch076.pth\n",
      "Best: 71.74% | Patience: 1/15\n",
      "\n"
     ]
    },
    {
     "output_type": "stream",
     "name": "stderr",
     "text": [
      "Epoch 77 Loss=0.9381 Acc=90.72% LR=0.002069: 100%|\u2588\u2588\u2588\u2588\u2588\u2588\u2588\u2588\u2588\u2588| 196/196 [01:49<00:00,  1.80it/s]\n"
     ]
    },
    {
     "output_type": "stream",
     "name": "stdout",
     "text": [
      "\n",
      "Test set: Average loss: 1.1223, Accuracy: 7188/10000 (71.88%)\n",
      "\n",
      "  \u2192 Saved to GDrive: best_model.pth\n",
      "\n",
      "*** NEW BEST MODEL! Test Accuracy: 71.88% ***\n"
     ]
    },
    {
     "output_type": "display_data",
     "data": {
      "text/plain": [
       "Processing Files (0 / 0)      : |          |  0.00B /  0.00B            "
      ],
      "application/vnd.jupyter.widget-view+json": {
       "version_major": 2,
       "version_minor": 0,
       "model_id": "375d77e2455f4f028b2f3fd95e5d1bb5"
      }
     },
     "metadata": {}
    },
    {
     "output_type": "display_data",
     "data": {
      "text/plain": [
       "New Data Upload               : |          |  0.00B /  0.00B            "
      ],
      "application/vnd.jupyter.widget-view+json": {
       "version_major": 2,
       "version_minor": 0,
       "model_id": "e49bf81ffc8d4d8db57ef991877a24b6"
      }
     },
     "metadata": {}
    },
    {
     "output_type": "display_data",
     "data": {
      "text/plain": [
       "  ./checkpoints/best_model.pth:   0%|          |  555kB /  292MB            "
      ],
      "application/vnd.jupyter.widget-view+json": {
       "version_major": 2,
       "version_minor": 0,
       "model_id": "9885b613c0e642769beac39b0f3ac3c8"
      }
     },
     "metadata": {}
    },
    {
     "output_type": "stream",
     "name": "stdout",
     "text": [
      "  \u2192 Uploaded to HF: best_model.pth\n",
      "Best: 71.88% | Patience: 0/15\n",
      "\n"
     ]
    },
    {
     "output_type": "stream",
     "name": "stderr",
     "text": [
      "Epoch 78 Loss=1.0986 Acc=91.02% LR=0.009046: 100%|\u2588\u2588\u2588\u2588\u2588\u2588\u2588\u2588\u2588\u2588| 196/196 [01:48<00:00,  1.80it/s]\n"
     ]
    },
    {
     "output_type": "stream",
     "name": "stdout",
     "text": [
      "\n",
      "Test set: Average loss: 1.2363, Accuracy: 6955/10000 (69.55%)\n",
      "\n",
      "  \u2192 Cleaned up old checkpoint: epoch069\n",
      "  \u2192 Saved to GDrive: checkpoint_epoch078.pth\n",
      "Best: 71.88% | Patience: 1/15\n",
      "\n"
     ]
    },
    {
     "output_type": "stream",
     "name": "stderr",
     "text": [
      "Epoch 79 Loss=0.9362 Acc=91.66% LR=0.000254: 100%|\u2588\u2588\u2588\u2588\u2588\u2588\u2588\u2588\u2588\u2588| 196/196 [01:49<00:00,  1.80it/s]\n"
     ]
    },
    {
     "output_type": "stream",
     "name": "stdout",
     "text": [
      "\n",
      "Test set: Average loss: 1.1213, Accuracy: 7189/10000 (71.89%)\n",
      "\n",
      "  \u2192 Saved to GDrive: best_model.pth\n",
      "\n",
      "*** NEW BEST MODEL! Test Accuracy: 71.89% ***\n"
     ]
    },
    {
     "output_type": "display_data",
     "data": {
      "text/plain": [
       "Processing Files (0 / 0)      : |          |  0.00B /  0.00B            "
      ],
      "application/vnd.jupyter.widget-view+json": {
       "version_major": 2,
       "version_minor": 0,
       "model_id": "8b3c3646fd4c42a4af18c8b4cb3a7804"
      }
     },
     "metadata": {}
    },
    {
     "output_type": "display_data",
     "data": {
      "text/plain": [
       "New Data Upload               : |          |  0.00B /  0.00B            "
      ],
      "application/vnd.jupyter.widget-view+json": {
       "version_major": 2,
       "version_minor": 0,
       "model_id": "b8b255e239c84e3ebef1b5c465ff4cce"
      }
     },
     "metadata": {}
    },
    {
     "output_type": "display_data",
     "data": {
      "text/plain": [
       "  ./checkpoints/best_model.pth:   0%|          |  555kB /  292MB            "
      ],
      "application/vnd.jupyter.widget-view+json": {
       "version_major": 2,
       "version_minor": 0,
       "model_id": "6944defb077148f698411ac70da57268"
      }
     },
     "metadata": {}
    },
    {
     "output_type": "stream",
     "name": "stdout",
     "text": [
      "  \u2192 Uploaded to HF: best_model.pth\n",
      "Best: 71.89% | Patience: 0/15\n",
      "\n"
     ]
    },
    {
     "output_type": "stream",
     "name": "stderr",
     "text": [
      "Epoch 80 Loss=0.8254 Acc=92.13% LR=0.010000: 100%|\u2588\u2588\u2588\u2588\u2588\u2588\u2588\u2588\u2588\u2588| 196/196 [01:49<00:00,  1.79it/s]\n"
     ]
    },
    {
     "output_type": "stream",
     "name": "stdout",
     "text": [
      "\n",
      "Test set: Average loss: 1.2389, Accuracy: 6964/10000 (69.64%)\n",
      "\n",
      "  \u2192 Cleaned up old checkpoint: epoch070\n",
      "  \u2192 Saved to GDrive: checkpoint_epoch080.pth\n",
      "\n",
      "\ud83d\udce4 Uploading to HuggingFace (epoch 80)...\n"
     ]
    },
    {
     "output_type": "display_data",
     "data": {
      "text/plain": [
       "Processing Files (0 / 0)      : |          |  0.00B /  0.00B            "
      ],
      "application/vnd.jupyter.widget-view+json": {
       "version_major": 2,
       "version_minor": 0,
       "model_id": "4d5f2d5db3084eaeac45297a46318d7a"
      }
     },
     "metadata": {}
    },
    {
     "output_type": "display_data",
     "data": {
      "text/plain": [
       "New Data Upload               : |          |  0.00B /  0.00B            "
      ],
      "application/vnd.jupyter.widget-view+json": {
       "version_major": 2,
       "version_minor": 0,
       "model_id": "cb4428d18cd24885a2376b0a4266fa55"
      }
     },
     "metadata": {}
    },
    {
     "output_type": "display_data",
     "data": {
      "text/plain": [
       "  ...ts/checkpoint_epoch80.pth:   0%|          |  555kB /  292MB            "
      ],
      "application/vnd.jupyter.widget-view+json": {
       "version_major": 2,
       "version_minor": 0,
       "model_id": "fccd09bfc8784a30bf7bc9b564f88ba1"
      }
     },
     "metadata": {}
    },
    {
     "output_type": "stream",
     "name": "stdout",
     "text": [
      "  \u2192 Uploaded to HF: checkpoint_epoch80.pth\n",
      "  \u2192 Uploaded to HF: metrics.json\n",
      "Best: 71.89% | Patience: 1/15\n",
      "\n",
      "\n",
      "======================================================================\n",
      "\ud83d\udccd DROPOUT REDUCTION AT EPOCH 81: 0.2 \u2192 0.1\n",
      "======================================================================\n",
      "\n",
      "\u2713 Updated dropout to 0.1 in 12 blocks\n"
     ]
    },
    {
     "output_type": "stream",
     "name": "stderr",
     "text": [
      "Epoch 81 Loss=0.8003 Acc=94.20% LR=0.000254: 100%|\u2588\u2588\u2588\u2588\u2588\u2588\u2588\u2588\u2588\u2588| 196/196 [01:49<00:00,  1.79it/s]\n"
     ]
    },
    {
     "output_type": "stream",
     "name": "stdout",
     "text": [
      "\n",
      "Test set: Average loss: 1.1133, Accuracy: 7215/10000 (72.15%)\n",
      "\n",
      "  \u2192 Saved to GDrive: best_model.pth\n",
      "\n",
      "*** NEW BEST MODEL! Test Accuracy: 72.15% ***\n"
     ]
    },
    {
     "output_type": "display_data",
     "data": {
      "text/plain": [
       "Processing Files (0 / 0)      : |          |  0.00B /  0.00B            "
      ],
      "application/vnd.jupyter.widget-view+json": {
       "version_major": 2,
       "version_minor": 0,
       "model_id": "8f525f15e1a641c79fc0df07030711f7"
      }
     },
     "metadata": {}
    },
    {
     "output_type": "display_data",
     "data": {
      "text/plain": [
       "New Data Upload               : |          |  0.00B /  0.00B            "
      ],
      "application/vnd.jupyter.widget-view+json": {
       "version_major": 2,
       "version_minor": 0,
       "model_id": "94d1ceefb89f4bbe849099bd452c9478"
      }
     },
     "metadata": {}
    },
    {
     "output_type": "display_data",
     "data": {
      "text/plain": [
       "  ./checkpoints/best_model.pth:   0%|          |  555kB /  292MB            "
      ],
      "application/vnd.jupyter.widget-view+json": {
       "version_major": 2,
       "version_minor": 0,
       "model_id": "689f0c8b9e69494eafb1edbaf7f17e7e"
      }
     },
     "metadata": {}
    },
    {
     "output_type": "stream",
     "name": "stdout",
     "text": [
      "  \u2192 Uploaded to HF: best_model.pth\n",
      "Best: 72.15% | Patience: 0/15\n",
      "\n"
     ]
    },
    {
     "output_type": "stream",
     "name": "stderr",
     "text": [
      "Epoch 82 Loss=0.8744 Acc=94.81% LR=0.009046: 100%|\u2588\u2588\u2588\u2588\u2588\u2588\u2588\u2588\u2588\u2588| 196/196 [01:49<00:00,  1.79it/s]\n"
     ]
    },
    {
     "output_type": "stream",
     "name": "stdout",
     "text": [
      "\n",
      "Test set: Average loss: 1.1842, Accuracy: 7107/10000 (71.07%)\n",
      "\n",
      "  \u2192 Cleaned up old checkpoint: epoch071\n",
      "  \u2192 Saved to GDrive: checkpoint_epoch082.pth\n",
      "Best: 72.15% | Patience: 1/15\n",
      "\n"
     ]
    },
    {
     "output_type": "stream",
     "name": "stderr",
     "text": [
      "Epoch 83 Loss=0.8322 Acc=95.23% LR=0.002069: 100%|\u2588\u2588\u2588\u2588\u2588\u2588\u2588\u2588\u2588\u2588| 196/196 [01:49<00:00,  1.80it/s]\n"
     ]
    },
    {
     "output_type": "stream",
     "name": "stdout",
     "text": [
      "\n",
      "Test set: Average loss: 1.1434, Accuracy: 7180/10000 (71.80%)\n",
      "\n",
      "  \u2192 Cleaned up old checkpoint: epoch074\n",
      "  \u2192 Saved to GDrive: checkpoint_epoch083.pth\n",
      "Best: 72.15% | Patience: 2/15\n",
      "\n"
     ]
    },
    {
     "output_type": "stream",
     "name": "stderr",
     "text": [
      "Epoch 84 Loss=0.8589 Acc=95.96% LR=0.006549: 100%|\u2588\u2588\u2588\u2588\u2588\u2588\u2588\u2588\u2588\u2588| 196/196 [01:48<00:00,  1.80it/s]\n"
     ]
    },
    {
     "output_type": "stream",
     "name": "stdout",
     "text": [
      "\n",
      "Test set: Average loss: 1.1642, Accuracy: 7204/10000 (72.04%)\n",
      "\n",
      "  \u2192 Cleaned up old checkpoint: epoch076\n",
      "  \u2192 Saved to GDrive: checkpoint_epoch084.pth\n",
      "Best: 72.15% | Patience: 3/15\n",
      "\n"
     ]
    },
    {
     "output_type": "stream",
     "name": "stderr",
     "text": [
      "Epoch 85 Loss=0.7072 Acc=96.16% LR=0.005005: 100%|\u2588\u2588\u2588\u2588\u2588\u2588\u2588\u2588\u2588\u2588| 196/196 [01:48<00:00,  1.80it/s]\n"
     ]
    },
    {
     "output_type": "stream",
     "name": "stdout",
     "text": [
      "\n",
      "Test set: Average loss: 1.1784, Accuracy: 7085/10000 (70.85%)\n",
      "\n",
      "  \u2192 Cleaned up old checkpoint: epoch078\n",
      "  \u2192 Saved to GDrive: checkpoint_epoch085.pth\n",
      "Best: 72.15% | Patience: 4/15\n",
      "\n"
     ]
    },
    {
     "output_type": "stream",
     "name": "stderr",
     "text": [
      "Epoch 86 Loss=0.8112 Acc=96.58% LR=0.003461: 100%|\u2588\u2588\u2588\u2588\u2588\u2588\u2588\u2588\u2588\u2588| 196/196 [01:49<00:00,  1.80it/s]\n"
     ]
    },
    {
     "output_type": "stream",
     "name": "stdout",
     "text": [
      "\n",
      "Test set: Average loss: 1.1174, Accuracy: 7293/10000 (72.93%)\n",
      "\n",
      "  \u2192 Saved to GDrive: best_model.pth\n",
      "\n",
      "*** NEW BEST MODEL! Test Accuracy: 72.93% ***\n"
     ]
    },
    {
     "output_type": "display_data",
     "data": {
      "text/plain": [
       "Processing Files (0 / 0)      : |          |  0.00B /  0.00B            "
      ],
      "application/vnd.jupyter.widget-view+json": {
       "version_major": 2,
       "version_minor": 0,
       "model_id": "fe87edc5b1e64ceba302e55af069e815"
      }
     },
     "metadata": {}
    },
    {
     "output_type": "display_data",
     "data": {
      "text/plain": [
       "New Data Upload               : |          |  0.00B /  0.00B            "
      ],
      "application/vnd.jupyter.widget-view+json": {
       "version_major": 2,
       "version_minor": 0,
       "model_id": "007541e78f63452a8f1d966908ddbfbc"
      }
     },
     "metadata": {}
    },
    {
     "output_type": "display_data",
     "data": {
      "text/plain": [
       "  ./checkpoints/best_model.pth:   0%|          |  555kB /  292MB            "
      ],
      "application/vnd.jupyter.widget-view+json": {
       "version_major": 2,
       "version_minor": 0,
       "model_id": "4704c32558814fa3a5c4dfc719c402cb"
      }
     },
     "metadata": {}
    },
    {
     "output_type": "stream",
     "name": "stdout",
     "text": [
      "  \u2192 Uploaded to HF: best_model.pth\n",
      "Best: 72.93% | Patience: 0/15\n",
      "\n"
     ]
    },
    {
     "output_type": "stream",
     "name": "stderr",
     "text": [
      "Epoch 87 Loss=0.8124 Acc=96.99% LR=0.007941: 100%|\u2588\u2588\u2588\u2588\u2588\u2588\u2588\u2588\u2588\u2588| 196/196 [01:49<00:00,  1.79it/s]\n"
     ]
    },
    {
     "output_type": "stream",
     "name": "stdout",
     "text": [
      "\n",
      "Test set: Average loss: 1.2276, Accuracy: 6979/10000 (69.79%)\n",
      "\n",
      "  \u2192 Cleaned up old checkpoint: epoch080\n",
      "  \u2192 Saved to GDrive: checkpoint_epoch087.pth\n",
      "Best: 72.93% | Patience: 1/15\n",
      "\n"
     ]
    },
    {
     "output_type": "stream",
     "name": "stderr",
     "text": [
      "Epoch 88 Loss=0.8264 Acc=97.09% LR=0.000964: 100%|\u2588\u2588\u2588\u2588\u2588\u2588\u2588\u2588\u2588\u2588| 196/196 [01:48<00:00,  1.80it/s]\n"
     ]
    },
    {
     "output_type": "stream",
     "name": "stdout",
     "text": [
      "\n",
      "Test set: Average loss: 1.1153, Accuracy: 7275/10000 (72.75%)\n",
      "\n",
      "  \u2192 Cleaned up old checkpoint: epoch082\n",
      "  \u2192 Saved to GDrive: checkpoint_epoch088.pth\n",
      "Best: 72.93% | Patience: 2/15\n",
      "\n"
     ]
    },
    {
     "output_type": "stream",
     "name": "stderr",
     "text": [
      "Epoch 89 Loss=0.7274 Acc=97.32% LR=0.009756: 100%|\u2588\u2588\u2588\u2588\u2588\u2588\u2588\u2588\u2588\u2588| 196/196 [01:48<00:00,  1.80it/s]\n"
     ]
    },
    {
     "output_type": "stream",
     "name": "stdout",
     "text": [
      "\n",
      "Test set: Average loss: 1.2627, Accuracy: 6900/10000 (69.00%)\n",
      "\n",
      "  \u2192 Cleaned up old checkpoint: epoch083\n",
      "  \u2192 Saved to GDrive: checkpoint_epoch089.pth\n",
      "Best: 72.93% | Patience: 3/15\n",
      "\n"
     ]
    },
    {
     "output_type": "stream",
     "name": "stderr",
     "text": [
      "Epoch 90 Loss=0.7341 Acc=97.64% LR=0.000010: 100%|\u2588\u2588\u2588\u2588\u2588\u2588\u2588\u2588\u2588\u2588| 196/196 [01:48<00:00,  1.80it/s]\n"
     ]
    },
    {
     "output_type": "stream",
     "name": "stdout",
     "text": [
      "\n",
      "Test set: Average loss: 1.1212, Accuracy: 7275/10000 (72.75%)\n",
      "\n",
      "  \u2192 Cleaned up old checkpoint: epoch084\n",
      "  \u2192 Saved to GDrive: checkpoint_epoch090.pth\n",
      "\n",
      "\ud83d\udce4 Uploading to HuggingFace (epoch 90)...\n"
     ]
    },
    {
     "output_type": "display_data",
     "data": {
      "text/plain": [
       "Processing Files (0 / 0)      : |          |  0.00B /  0.00B            "
      ],
      "application/vnd.jupyter.widget-view+json": {
       "version_major": 2,
       "version_minor": 0,
       "model_id": "bb7dc8fea8e04f6dae9090e6db47d727"
      }
     },
     "metadata": {}
    },
    {
     "output_type": "display_data",
     "data": {
      "text/plain": [
       "New Data Upload               : |          |  0.00B /  0.00B            "
      ],
      "application/vnd.jupyter.widget-view+json": {
       "version_major": 2,
       "version_minor": 0,
       "model_id": "eb679ba47267451ba28c04c04f2433e1"
      }
     },
     "metadata": {}
    },
    {
     "output_type": "display_data",
     "data": {
      "text/plain": [
       "  ...ts/checkpoint_epoch90.pth:   0%|          |  556kB /  292MB            "
      ],
      "application/vnd.jupyter.widget-view+json": {
       "version_major": 2,
       "version_minor": 0,
       "model_id": "2eecddb86c054218a094f93f5f73506e"
      }
     },
     "metadata": {}
    },
    {
     "output_type": "stream",
     "name": "stdout",
     "text": [
      "  \u2192 Uploaded to HF: checkpoint_epoch90.pth\n",
      "  \u2192 Uploaded to HF: metrics.json\n",
      "Best: 72.93% | Patience: 4/15\n",
      "\n"
     ]
    },
    {
     "output_type": "stream",
     "name": "stderr",
     "text": [
      "Epoch 91 Loss=0.6998 Acc=97.83% LR=0.009756: 100%|\u2588\u2588\u2588\u2588\u2588\u2588\u2588\u2588\u2588\u2588| 196/196 [01:48<00:00,  1.80it/s]\n"
     ]
    },
    {
     "output_type": "stream",
     "name": "stdout",
     "text": [
      "\n",
      "Test set: Average loss: 1.2339, Accuracy: 7030/10000 (70.30%)\n",
      "\n",
      "  \u2192 Cleaned up old checkpoint: epoch085\n",
      "  \u2192 Saved to GDrive: checkpoint_epoch091.pth\n",
      "Best: 72.93% | Patience: 5/15\n",
      "\n"
     ]
    },
    {
     "output_type": "stream",
     "name": "stderr",
     "text": [
      "Epoch 92 Loss=0.7148 Acc=97.94% LR=0.000964: 100%|\u2588\u2588\u2588\u2588\u2588\u2588\u2588\u2588\u2588\u2588| 196/196 [01:48<00:00,  1.80it/s]\n"
     ]
    },
    {
     "output_type": "stream",
     "name": "stdout",
     "text": [
      "\n",
      "Test set: Average loss: 1.1353, Accuracy: 7221/10000 (72.21%)\n",
      "\n",
      "  \u2192 Cleaned up old checkpoint: epoch087\n",
      "  \u2192 Saved to GDrive: checkpoint_epoch092.pth\n",
      "Best: 72.93% | Patience: 6/15\n",
      "\n"
     ]
    },
    {
     "output_type": "stream",
     "name": "stderr",
     "text": [
      "Epoch 93 Loss=0.6404 Acc=98.27% LR=0.007941: 100%|\u2588\u2588\u2588\u2588\u2588\u2588\u2588\u2588\u2588\u2588| 196/196 [01:48<00:00,  1.80it/s]\n"
     ]
    },
    {
     "output_type": "stream",
     "name": "stdout",
     "text": [
      "\n",
      "Test set: Average loss: 1.1621, Accuracy: 7154/10000 (71.54%)\n",
      "\n",
      "  \u2192 Cleaned up old checkpoint: epoch088\n",
      "  \u2192 Saved to GDrive: checkpoint_epoch093.pth\n",
      "Best: 72.93% | Patience: 7/15\n",
      "\n"
     ]
    },
    {
     "output_type": "stream",
     "name": "stderr",
     "text": [
      "Epoch 94 Loss=0.7248 Acc=98.16% LR=0.003461: 100%|\u2588\u2588\u2588\u2588\u2588\u2588\u2588\u2588\u2588\u2588| 196/196 [01:48<00:00,  1.80it/s]\n"
     ]
    },
    {
     "output_type": "stream",
     "name": "stdout",
     "text": [
      "\n",
      "Test set: Average loss: 1.1829, Accuracy: 7094/10000 (70.94%)\n",
      "\n",
      "  \u2192 Cleaned up old checkpoint: epoch089\n",
      "  \u2192 Saved to GDrive: checkpoint_epoch094.pth\n",
      "Best: 72.93% | Patience: 8/15\n",
      "\n"
     ]
    },
    {
     "output_type": "stream",
     "name": "stderr",
     "text": [
      "Epoch 95 Loss=0.6156 Acc=98.37% LR=0.005005: 100%|\u2588\u2588\u2588\u2588\u2588\u2588\u2588\u2588\u2588\u2588| 196/196 [01:48<00:00,  1.80it/s]\n"
     ]
    },
    {
     "output_type": "stream",
     "name": "stdout",
     "text": [
      "\n",
      "Test set: Average loss: 1.1503, Accuracy: 7243/10000 (72.43%)\n",
      "\n",
      "  \u2192 Cleaned up old checkpoint: epoch090\n",
      "  \u2192 Saved to GDrive: checkpoint_epoch095.pth\n",
      "Best: 72.93% | Patience: 9/15\n",
      "\n"
     ]
    },
    {
     "output_type": "stream",
     "name": "stderr",
     "text": [
      "Epoch 96 Loss=0.6701 Acc=98.49% LR=0.006549: 100%|\u2588\u2588\u2588\u2588\u2588\u2588\u2588\u2588\u2588\u2588| 196/196 [01:48<00:00,  1.80it/s]\n"
     ]
    },
    {
     "output_type": "stream",
     "name": "stdout",
     "text": [
      "\n",
      "Test set: Average loss: 1.2437, Accuracy: 6994/10000 (69.94%)\n",
      "\n",
      "  \u2192 Cleaned up old checkpoint: epoch091\n",
      "  \u2192 Saved to GDrive: checkpoint_epoch096.pth\n",
      "Best: 72.93% | Patience: 10/15\n",
      "\n"
     ]
    },
    {
     "output_type": "stream",
     "name": "stderr",
     "text": [
      "Epoch 97 Loss=0.6479 Acc=98.75% LR=0.002069: 100%|\u2588\u2588\u2588\u2588\u2588\u2588\u2588\u2588\u2588\u2588| 196/196 [01:48<00:00,  1.80it/s]\n"
     ]
    },
    {
     "output_type": "stream",
     "name": "stdout",
     "text": [
      "\n",
      "Test set: Average loss: 1.1168, Accuracy: 7257/10000 (72.57%)\n",
      "\n",
      "  \u2192 Cleaned up old checkpoint: epoch092\n",
      "  \u2192 Saved to GDrive: checkpoint_epoch097.pth\n",
      "Best: 72.93% | Patience: 11/15\n",
      "\n"
     ]
    },
    {
     "output_type": "stream",
     "name": "stderr",
     "text": [
      "Epoch 98 Loss=0.6332 Acc=98.73% LR=0.009046: 100%|\u2588\u2588\u2588\u2588\u2588\u2588\u2588\u2588\u2588\u2588| 196/196 [01:48<00:00,  1.80it/s]\n"
     ]
    },
    {
     "output_type": "stream",
     "name": "stdout",
     "text": [
      "\n",
      "Test set: Average loss: 1.2742, Accuracy: 6912/10000 (69.12%)\n",
      "\n",
      "  \u2192 Cleaned up old checkpoint: epoch093\n",
      "  \u2192 Saved to GDrive: checkpoint_epoch098.pth\n",
      "Best: 72.93% | Patience: 12/15\n",
      "\n"
     ]
    },
    {
     "output_type": "stream",
     "name": "stderr",
     "text": [
      "Epoch 99 Loss=0.6377 Acc=98.73% LR=0.000254: 100%|\u2588\u2588\u2588\u2588\u2588\u2588\u2588\u2588\u2588\u2588| 196/196 [01:48<00:00,  1.80it/s]\n"
     ]
    },
    {
     "output_type": "stream",
     "name": "stdout",
     "text": [
      "\n",
      "Test set: Average loss: 1.1294, Accuracy: 7298/10000 (72.98%)\n",
      "\n",
      "  \u2192 Saved to GDrive: best_model.pth\n",
      "\n",
      "*** NEW BEST MODEL! Test Accuracy: 72.98% ***\n"
     ]
    },
    {
     "output_type": "display_data",
     "data": {
      "text/plain": [
       "Processing Files (0 / 0)      : |          |  0.00B /  0.00B            "
      ],
      "application/vnd.jupyter.widget-view+json": {
       "version_major": 2,
       "version_minor": 0,
       "model_id": "245bdce5d6cd45bbb9d96931f077d620"
      }
     },
     "metadata": {}
    },
    {
     "output_type": "display_data",
     "data": {
      "text/plain": [
       "New Data Upload               : |          |  0.00B /  0.00B            "
      ],
      "application/vnd.jupyter.widget-view+json": {
       "version_major": 2,
       "version_minor": 0,
       "model_id": "6041a4b402a842058bbd4124f70fc906"
      }
     },
     "metadata": {}
    },
    {
     "output_type": "display_data",
     "data": {
      "text/plain": [
       "  ./checkpoints/best_model.pth:   0%|          |  557kB /  292MB            "
      ],
      "application/vnd.jupyter.widget-view+json": {
       "version_major": 2,
       "version_minor": 0,
       "model_id": "937af58905f74213927f70438442105c"
      }
     },
     "metadata": {}
    },
    {
     "output_type": "stream",
     "name": "stdout",
     "text": [
      "  \u2192 Uploaded to HF: best_model.pth\n",
      "Best: 72.98% | Patience: 0/15\n",
      "\n"
     ]
    },
    {
     "output_type": "stream",
     "name": "stderr",
     "text": [
      "Epoch 100 Loss=0.6246 Acc=98.96% LR=0.010000: 100%|\u2588\u2588\u2588\u2588\u2588\u2588\u2588\u2588\u2588\u2588| 196/196 [01:49<00:00,  1.80it/s]\n"
     ]
    },
    {
     "output_type": "stream",
     "name": "stdout",
     "text": [
      "\n",
      "Test set: Average loss: 1.2787, Accuracy: 6959/10000 (69.59%)\n",
      "\n",
      "  \u2192 Cleaned up old checkpoint: epoch094\n",
      "  \u2192 Saved to GDrive: checkpoint_epoch100.pth\n",
      "\n",
      "\ud83d\udce4 Uploading to HuggingFace (epoch 100)...\n"
     ]
    },
    {
     "output_type": "display_data",
     "data": {
      "text/plain": [
       "Processing Files (0 / 0)      : |          |  0.00B /  0.00B            "
      ],
      "application/vnd.jupyter.widget-view+json": {
       "version_major": 2,
       "version_minor": 0,
       "model_id": "79395b4ad1f4468081c90f0c0dab9fda"
      }
     },
     "metadata": {}
    },
    {
     "output_type": "display_data",
     "data": {
      "text/plain": [
       "New Data Upload               : |          |  0.00B /  0.00B            "
      ],
      "application/vnd.jupyter.widget-view+json": {
       "version_major": 2,
       "version_minor": 0,
       "model_id": "e7c3b084db4847c6b3192fcd0ccbf325"
      }
     },
     "metadata": {}
    },
    {
     "output_type": "display_data",
     "data": {
      "text/plain": [
       "  ...s/checkpoint_epoch100.pth:   0%|          |  557kB /  292MB            "
      ],
      "application/vnd.jupyter.widget-view+json": {
       "version_major": 2,
       "version_minor": 0,
       "model_id": "558ce982904d44939157e318045301a1"
      }
     },
     "metadata": {}
    },
    {
     "output_type": "stream",
     "name": "stdout",
     "text": [
      "  \u2192 Uploaded to HF: checkpoint_epoch100.pth\n",
      "  \u2192 Uploaded to HF: metrics.json\n",
      "Best: 72.98% | Patience: 1/15\n",
      "\n",
      "\n",
      "======================================================================\n",
      "TRAINING COMPLETED\n",
      "Best Test Accuracy: 72.98%\n",
      "======================================================================\n"
     ]
    }
   ],
   "source": [
    "# Training Loop with Progressive Strategies\n",
    "print(\"\\n\" + \"=\"*70)\n",
    "print(\"STARTING TRAINING\")\n",
    "print(\"=\"*70 + \"\\n\")\n",
    "\n",
    "current_aug_phase = 'full'\n",
    "current_dropout = 0.3\n",
    "current_mixup_alpha = 0.2\n",
    "current_label_smoothing = 0.1\n",
    "current_use_mixup = True\n",
    "\n",
    "for epoch in range(1, EPOCHS + 1):\n",
    "    # === PHASE TRANSITIONS ===\n",
    "\n",
    "    # Augmentation phase transitions\n",
    "    new_aug_phase = get_augmentation_phase(epoch)\n",
    "    if new_aug_phase != current_aug_phase:\n",
    "        print(f\"\\n{'='*70}\")\n",
    "        print(f\"\ud83d\udccd AUGMENTATION PHASE TRANSITION AT EPOCH {epoch}\")\n",
    "        print(f\"   {current_aug_phase.upper()} \u2192 {new_aug_phase.upper()}\")\n",
    "        print(f\"{'='*70}\\n\")\n",
    "        current_aug_phase = new_aug_phase\n",
    "        # Update transforms\n",
    "        train_transforms = ProgressiveAlbumentationsTransforms(mean=cifar100_mean, std=cifar100_std, phase=current_aug_phase)\n",
    "        train_dataset.transform = train_transforms\n",
    "\n",
    "    # Dropout transitions\n",
    "    if epoch == 51:\n",
    "        print(f\"\\n{'='*70}\")\n",
    "        print(f\"\ud83d\udccd DROPOUT REDUCTION AT EPOCH {epoch}: 0.3 \u2192 0.2\")\n",
    "        print(f\"{'='*70}\\n\")\n",
    "        current_dropout = 0.2\n",
    "        update_model_dropout(model, current_dropout)\n",
    "    elif epoch == 81:\n",
    "        print(f\"\\n{'='*70}\")\n",
    "        print(f\"\ud83d\udccd DROPOUT REDUCTION AT EPOCH {epoch}: 0.2 \u2192 0.1\")\n",
    "        print(f\"{'='*70}\\n\")\n",
    "        current_dropout = 0.1\n",
    "        update_model_dropout(model, current_dropout)\n",
    "\n",
    "    # MixUp transitions\n",
    "    if epoch == 41:\n",
    "        print(f\"\\n{'='*70}\")\n",
    "        print(f\"\ud83d\udccd MIXUP REDUCTION AT EPOCH {epoch}: 0.2 \u2192 0.15\")\n",
    "        print(f\"{'='*70}\\n\")\n",
    "        current_mixup_alpha = 0.15\n",
    "    elif epoch == 71:\n",
    "        print(f\"\\n{'='*70}\")\n",
    "        print(f\"\ud83d\udccd MIXUP DISABLED AT EPOCH {epoch}\")\n",
    "        print(f\"{'='*70}\\n\")\n",
    "        current_use_mixup = False\n",
    "\n",
    "    # Label smoothing transition\n",
    "    if epoch == 51:\n",
    "        current_label_smoothing = 0.05\n",
    "        print(f\"   Label smoothing: 0.1 \u2192 0.05\\n\")\n",
    "\n",
    "    # LR scheduler transition\n",
    "    if epoch == 61:\n",
    "        print(f\"\\n{'='*70}\")\n",
    "        print(f\"\ud83d\udccd LR SCHEDULER TRANSITION AT EPOCH {epoch}\")\n",
    "        print(f\"   CosineAnnealingWarmRestarts \u2192 CosineAnnealingLR\")\n",
    "        print(f\"{'='*70}\\n\")\n",
    "        scheduler = CosineAnnealingLR(optimizer, T_max=40, eta_min=1e-5)\n",
    "\n",
    "    # === TRAINING ===\n",
    "    train_loss, train_acc = train(\n",
    "        model, device, train_loader, optimizer, scheduler, warmup_scheduler, scaler, epoch,\n",
    "        use_mixup=current_use_mixup, mixup_alpha=current_mixup_alpha, label_smoothing=current_label_smoothing\n",
    "    )\n",
    "\n",
    "    test_loss, test_acc = test(model, device, test_loader)\n",
    "\n",
    "    # Record metrics\n",
    "    train_losses.append(train_loss)\n",
    "    test_losses.append(test_loss)\n",
    "    train_accuracies.append(train_acc)\n",
    "    test_accuracies.append(test_acc)\n",
    "    learning_rates.append(optimizer.param_groups[0]['lr'])\n",
    "    dropout_history.append(current_dropout)\n",
    "    mixup_history.append(current_mixup_alpha if current_use_mixup else 0.0)\n",
    "    aug_phase_history.append(current_aug_phase)\n",
    "\n",
    "    # Save checkpoint\n",
    "    checkpoint = {\n",
    "        'epoch': epoch,\n",
    "        'model_state_dict': model.state_dict(),\n",
    "        'optimizer_state_dict': optimizer.state_dict(),\n",
    "        'train_accuracy': train_acc,\n",
    "        'test_accuracy': test_acc,\n",
    "        'train_loss': train_loss,\n",
    "        'test_loss': test_loss,\n",
    "        'timestamp': datetime.now().isoformat(),\n",
    "        'config': {\n",
    "            'dropout': current_dropout,\n",
    "            'mixup_alpha': current_mixup_alpha if current_use_mixup else 0.0,\n",
    "            'label_smoothing': current_label_smoothing,\n",
    "            'aug_phase': current_aug_phase\n",
    "        }\n",
    "    }\n",
    "    checkpoint_path = os.path.join(checkpoint_dir, f'checkpoint_epoch{epoch}.pth')\n",
    "    torch.save(checkpoint, checkpoint_path)\n",
    "\n",
    "    # Save to Google Drive every epoch\n",
    "    is_best = test_acc > best_test_acc\n",
    "    gdrive_manager.save(checkpoint_path, epoch, is_best=is_best)\n",
    "\n",
    "    # Upload to HuggingFace every 10 epochs\n",
    "    if epoch in HF_UPLOAD_EPOCHS:\n",
    "        print(f\"\\n\ud83d\udce4 Uploading to HuggingFace (epoch {epoch})...\")\n",
    "        upload_to_huggingface(checkpoint_path, f'checkpoint_epoch{epoch}.pth', f\"Epoch {epoch}: {test_acc:.2f}%\")\n",
    "\n",
    "        # Upload metrics\n",
    "        metrics = {\n",
    "            'epochs': list(range(1, epoch + 1)),\n",
    "            'train_losses': train_losses,\n",
    "            'test_losses': test_losses,\n",
    "            'train_accuracies': train_accuracies,\n",
    "            'test_accuracies': test_accuracies,\n",
    "            'learning_rates': learning_rates,\n",
    "            'dropout_history': dropout_history,\n",
    "            'mixup_history': mixup_history,\n",
    "            'aug_phase_history': aug_phase_history,\n",
    "            'best_test_accuracy': best_test_acc\n",
    "        }\n",
    "        metrics_path = os.path.join(checkpoint_dir, 'metrics.json')\n",
    "        with open(metrics_path, 'w') as f:\n",
    "            json.dump(metrics, f, indent=2)\n",
    "        upload_to_huggingface(metrics_path, 'metrics.json', f\"Metrics update (epoch {epoch})\")\n",
    "\n",
    "    # Best model handling\n",
    "    if is_best:\n",
    "        best_test_acc = test_acc\n",
    "        patience_counter = 0\n",
    "        print(f\"\\n*** NEW BEST MODEL! Test Accuracy: {best_test_acc:.2f}% ***\")\n",
    "\n",
    "        # Upload best model to HF immediately\n",
    "        best_path = os.path.join(checkpoint_dir, 'best_model.pth')\n",
    "        torch.save(checkpoint, best_path)\n",
    "        upload_to_huggingface(best_path, 'best_model.pth', f\"New best: {best_test_acc:.2f}% (epoch {epoch})\")\n",
    "    else:\n",
    "        patience_counter += 1\n",
    "\n",
    "    # Early stopping\n",
    "    if patience_counter >= patience:\n",
    "        print(f\"\\nEarly stopping triggered at epoch {epoch}\")\n",
    "        break\n",
    "\n",
    "    # Target reached\n",
    "    if test_acc >= 75.0:\n",
    "        print(f\"\\n{'='*70}\")\n",
    "        print(f\"TARGET REACHED! Test Accuracy: {test_acc:.2f}% at epoch {epoch}\")\n",
    "        print(f\"{'='*70}\")\n",
    "        break\n",
    "\n",
    "    print(f\"Best: {best_test_acc:.2f}% | Patience: {patience_counter}/{patience}\\n\")\n",
    "\n",
    "print(f\"\\n{'='*70}\")\n",
    "print(f\"TRAINING COMPLETED\")\n",
    "print(f\"Best Test Accuracy: {best_test_acc:.2f}%\")\n",
    "print(f\"{'='*70}\")"
   ]
  },
  {
   "cell_type": "code",
   "execution_count": 13,
   "metadata": {
    "colab": {
     "base_uri": "https://localhost:8080/",
     "height": 1000,
     "referenced_widgets": [
      "4a7e77723e624dcda03a48e0b6dbe160",
      "38dc5b5703a648b6a897572c34c4e6ca",
      "cca9b105240f4c088a1231fc8739f599",
      "81e7b95bd87f460bb6d7855b5d166783",
      "c28757ee87d545978a7306a8bffc473f",
      "c6e4963a88964e2e87d522af32590c29",
      "a1d9cde92b66418399adb5ba73b66f9b",
      "c530a77938f040508c593731fe4fe803",
      "e099b06b36d14f058eda02d4f38168a3",
      "bdf0b983500c4f0099040461713dbd3d",
      "14bd1ed227c647d7accf744e02171405",
      "4109d668e0aa4cea9ff72a5948fea454",
      "f2d1c8acdc4f495bbd33b82bb215795d",
      "f6284751bf4840919695829e895ee4ab",
      "7faa983ce0b54c2da25f7279a5c2995e",
      "586207b66dfa48e5be693d0cd1d9541d",
      "765f9026b98241469355509eb3ec6295",
      "f369c5958f7c453eaab5cff8ab4adc16",
      "a5e7f59d829b42448b727e90eb6fd553",
      "b342b6f7c8224627a066e3e6f780d92b",
      "f486ea7e795d4571a5da6a157b496a44",
      "d494d685286a46a4b421ccebaf654a29",
      "edb71a2c82ab491295c965338ca25e30",
      "c879a875eff74103b40289297d42880a",
      "e9557ecf49854b4c946fa4261a25a986",
      "0fd153bd67144294870f27f4ae6f3b23",
      "969fc163b90a4f30be6972529a49d2f9",
      "aad9fbf3a7b74c8880f5fc1743f00837",
      "f6e29550067d4922b53694a7c76edaaa",
      "6e486ac778494a379a35161b326b6106",
      "1c37e82942b94377948000b3c721b731",
      "e13beebbdbfc410bb3901ac83323d96e",
      "95c7c9b90cf04c368a6551462be085fc"
     ]
    },
    "id": "8HMtJdlWO0IJ",
    "executionInfo": {
     "status": "ok",
     "timestamp": 1760200054911,
     "user_tz": -330,
     "elapsed": 7115,
     "user": {
      "displayName": "Rutu Patil",
      "userId": "02443084829174226347"
     }
    },
    "outputId": "a62c9554-2aae-4a29-c0ec-b33ffa603ea6"
   },
   "outputs": [
    {
     "output_type": "display_data",
     "data": {
      "text/plain": [
       "<Figure size 1800x1000 with 6 Axes>"
      ],
      "image/png": "[encoded data removed]"
     },
     "metadata": {}
    },
    {
     "output_type": "display_data",
     "data": {
      "text/plain": [
       "Processing Files (0 / 0)      : |          |  0.00B /  0.00B            "
      ],
      "application/vnd.jupyter.widget-view+json": {
       "version_major": 2,
       "version_minor": 0,
       "model_id": "4a7e77723e624dcda03a48e0b6dbe160"
      }
     },
     "metadata": {}
    },
    {
     "output_type": "display_data",
     "data": {
      "text/plain": [
       "New Data Upload               : |          |  0.00B /  0.00B            "
      ],
      "application/vnd.jupyter.widget-view+json": {
       "version_major": 2,
       "version_minor": 0,
       "model_id": "4109d668e0aa4cea9ff72a5948fea454"
      }
     },
     "metadata": {}
    },
    {
     "output_type": "display_data",
     "data": {
      "text/plain": [
       "  ...oints/training_curves.png:  91%|#########1|  558kB /  612kB            "
      ],
      "application/vnd.jupyter.widget-view+json": {
       "version_major": 2,
       "version_minor": 0,
       "model_id": "edb71a2c82ab491295c965338ca25e30"
      }
     },
     "metadata": {}
    },
    {
     "output_type": "stream",
     "name": "stdout",
     "text": [
      "  \u2192 Uploaded to HF: training_curves.png\n",
      "\n",
      "Final Statistics:\n",
      "Best Test Accuracy: 72.98%\n",
      "Final Train Accuracy: 98.96%\n",
      "Final Test Accuracy: 69.59%\n",
      "Final Train-Test Gap: 29.37%\n",
      "\n",
      "Google Drive checkpoints: 6 files\n"
     ]
    }
   ],
   "source": [
    "# Plot Training Curves\n",
    "fig, axes = plt.subplots(2, 3, figsize=(18, 10))\n",
    "\n",
    "# Accuracy\n",
    "axes[0, 0].plot(train_accuracies, label='Train', linewidth=2)\n",
    "axes[0, 0].plot(test_accuracies, label='Test', linewidth=2)\n",
    "axes[0, 0].axhline(y=74, color='r', linestyle='--', label='Target (74%)')\n",
    "axes[0, 0].set_xlabel('Epoch')\n",
    "axes[0, 0].set_ylabel('Accuracy (%)')\n",
    "axes[0, 0].set_title('Accuracy')\n",
    "axes[0, 0].legend()\n",
    "axes[0, 0].grid(True)\n",
    "\n",
    "# Loss\n",
    "axes[0, 1].plot(train_losses, label='Train', linewidth=2)\n",
    "axes[0, 1].plot(test_losses, label='Test', linewidth=2)\n",
    "axes[0, 1].set_xlabel('Epoch')\n",
    "axes[0, 1].set_ylabel('Loss')\n",
    "axes[0, 1].set_title('Loss')\n",
    "axes[0, 1].legend()\n",
    "axes[0, 1].grid(True)\n",
    "\n",
    "# Learning Rate\n",
    "axes[0, 2].plot(learning_rates, linewidth=2, color='green')\n",
    "axes[0, 2].set_xlabel('Epoch')\n",
    "axes[0, 2].set_ylabel('Learning Rate')\n",
    "axes[0, 2].set_title('Learning Rate Schedule')\n",
    "axes[0, 2].grid(True)\n",
    "\n",
    "# Dropout History\n",
    "axes[1, 0].plot(dropout_history, linewidth=2, color='purple')\n",
    "axes[1, 0].set_xlabel('Epoch')\n",
    "axes[1, 0].set_ylabel('Dropout Rate')\n",
    "axes[1, 0].set_title('Progressive Dropout')\n",
    "axes[1, 0].grid(True)\n",
    "\n",
    "# MixUp History\n",
    "axes[1, 1].plot(mixup_history, linewidth=2, color='orange')\n",
    "axes[1, 1].set_xlabel('Epoch')\n",
    "axes[1, 1].set_ylabel('MixUp Alpha')\n",
    "axes[1, 1].set_title('Progressive MixUp')\n",
    "axes[1, 1].grid(True)\n",
    "\n",
    "# Train-Test Gap\n",
    "accuracy_gap = [train - test for train, test in zip(train_accuracies, test_accuracies)]\n",
    "axes[1, 2].plot(accuracy_gap, linewidth=2, color='red')\n",
    "axes[1, 2].set_xlabel('Epoch')\n",
    "axes[1, 2].set_ylabel('Accuracy Gap (%)')\n",
    "axes[1, 2].set_title('Train-Test Gap (Overfitting Indicator)')\n",
    "axes[1, 2].grid(True)\n",
    "\n",
    "plt.tight_layout()\n",
    "curves_path = os.path.join(checkpoint_dir, 'training_curves.png')\n",
    "plt.savefig(curves_path, dpi=300, bbox_inches='tight')\n",
    "plt.show()\n",
    "\n",
    "upload_to_huggingface(curves_path, 'training_curves.png', \"Training curves\")\n",
    "\n",
    "print(f\"\\nFinal Statistics:\")\n",
    "print(f\"Best Test Accuracy: {best_test_acc:.2f}%\")\n",
    "print(f\"Final Train Accuracy: {train_accuracies[-1]:.2f}%\")\n",
    "print(f\"Final Test Accuracy: {test_accuracies[-1]:.2f}%\")\n",
    "print(f\"Final Train-Test Gap: {accuracy_gap[-1]:.2f}%\")\n",
    "print(f\"\\nGoogle Drive checkpoints: {len(gdrive_manager.list_checkpoints())} files\")"
   ]
  },
  {
   "cell_type": "code",
   "execution_count": 14,
   "metadata": {
    "colab": {
     "base_uri": "https://localhost:8080/"
    },
    "id": "RiuZrbt1O0IJ",
    "executionInfo": {
     "status": "ok",
     "timestamp": 1760200076637,
     "user_tz": -330,
     "elapsed": 21719,
     "user": {
      "displayName": "Rutu Patil",
      "userId": "02443084829174226347"
     }
    },
    "outputId": "6f3be2b3-9048-49d8-df84-9dc120253bfd"
   },
   "outputs": [
    {
     "output_type": "stream",
     "name": "stdout",
     "text": [
      "Loaded best model from epoch 99\n",
      "Best test accuracy: 72.98%\n",
      "\n",
      "Test set: Average loss: 1.1294, Accuracy: 7298/10000 (72.98%)\n",
      "\n",
      "\n",
      "Final evaluation: 72.98%\n"
     ]
    }
   ],
   "source": [
    "# Load best model and final evaluation\n",
    "best_checkpoint = torch.load(os.path.join(checkpoint_dir, 'best_model.pth'))\n",
    "model.load_state_dict(best_checkpoint['model_state_dict'])\n",
    "print(f\"Loaded best model from epoch {best_checkpoint['epoch']}\")\n",
    "print(f\"Best test accuracy: {best_checkpoint['test_accuracy']:.2f}%\")\n",
    "\n",
    "test_loss, test_acc = test(model, device, test_loader)\n",
    "print(f\"\\nFinal evaluation: {test_acc:.2f}%\")"
   ]
  }
 ],
 "metadata": {
  "kernelspec": {
   "display_name": "Python 3",
   "name": "python3"
  },
  "language_info": {
   "codemirror_mode": {
    "name": "ipython",
    "version": 3
   },
   "file_extension": ".py",
   "mimetype": "text/x-python",
   "name": "python",
   "nbconvert_exporter": "python",
   "pygments_lexer": "ipython3",
   "version": "3.8.10"
  },
  "colab": {
   "provenance": [],
   "gpuType": "T4"
  },
  "accelerator": "GPU"
 },
 "nbformat": 4,
 "nbformat_minor": 0
}